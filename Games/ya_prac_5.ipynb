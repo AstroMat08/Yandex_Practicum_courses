{
 "cells": [
  {
   "cell_type": "markdown",
   "metadata": {},
   "source": [
    "# Проект по определению критериев успешной игры."
   ]
  },
  {
   "cell_type": "markdown",
   "metadata": {},
   "source": [
    "# Описание проекта:"
   ]
  },
  {
   "cell_type": "markdown",
   "metadata": {},
   "source": [
    "Вы работаете в интернет-магазине «Стримчик», который продаёт по всему миру компьютерные игры. Из открытых источников доступны исторические данные о продажах игр, оценки пользователей и экспертов, жанры и платформы (например, Xbox или PlayStation). Вам нужно выявить определяющие успешность игры закономерности. Это позволит сделать ставку на потенциально популярный продукт и спланировать рекламные кампании.\n",
    "Перед вами данные до 2016 года. Представим, что сейчас декабрь 2016 г., и вы планируете кампанию на 2017-й. Нужно отработать принцип работы с данными. Неважно, прогнозируете ли вы продажи на 2017 год по данным 2016-го или же 2027-й — по данным 2026 года.\n",
    "В наборе данных попадается аббревиатура ESRB (Entertainment Software Rating Board) — это ассоциация, определяющая возрастной рейтинг компьютерных игр. ESRB оценивает игровой контент и присваивает ему подходящую возрастную категорию, например, «Для взрослых», «Для детей младшего возраста» или «Для подростков»."
   ]
  },
  {
   "cell_type": "markdown",
   "metadata": {},
   "source": [
    "# Описание данных:"
   ]
  },
  {
   "cell_type": "markdown",
   "metadata": {},
   "source": [
    "- `Name` — название игры\n",
    "- `Platform` — платформа\n",
    "- `Year_of_Release` — год выпуска\n",
    "- `Genre` — жанр игры\n",
    "- `NA_sales` — продажи в Северной Америке (миллионы проданных копий)\n",
    "- `EU_sales` — продажи в Европе (миллионы проданных копий)\n",
    "- `JP_sales` — продажи в Японии (миллионы проданных копий)\n",
    "- `Other_sales` — продажи в других странах (миллионы проданных копий)\n",
    "- `Critic_Score` — оценка критиков (максимум 100)\n",
    "- `User_Score` — оценка пользователей (максимум 10)\n",
    "- `Rating` — рейтинг от организации ESRB (англ. Entertainment Software Rating Board). Эта ассоциация определяет рейтинг компьютерных игр и присваивает им подходящую возрастную категорию."
   ]
  },
  {
   "cell_type": "markdown",
   "metadata": {},
   "source": [
    "### Изучение общей информации о предоставленных данных"
   ]
  },
  {
   "cell_type": "markdown",
   "metadata": {},
   "source": [
    "**Импортируем библиотеку pandas. Считаем данные из csv-файла в датафрейм и сохраним в переменную `data`. Путь к файлу:**\n",
    "\n",
    "`/datasets/games.csv`"
   ]
  },
  {
   "cell_type": "code",
   "execution_count": 1,
   "metadata": {},
   "outputs": [],
   "source": [
    "import pandas as pd\n",
    "import numpy as np\n",
    "import scipy\n",
    "from scipy import stats as st\n",
    "import matplotlib.pyplot as plt\n",
    "import seaborn as sns"
   ]
  },
  {
   "cell_type": "code",
   "execution_count": 2,
   "metadata": {},
   "outputs": [],
   "source": [
    "data=pd.read_csv('/datasets/games.csv')"
   ]
  },
  {
   "cell_type": "markdown",
   "metadata": {},
   "source": [
    "**Посмотрим на первые 10 строк табллицы.**"
   ]
  },
  {
   "cell_type": "code",
   "execution_count": 3,
   "metadata": {
    "scrolled": false
   },
   "outputs": [
    {
     "data": {
      "text/html": [
       "<div>\n",
       "<style scoped>\n",
       "    .dataframe tbody tr th:only-of-type {\n",
       "        vertical-align: middle;\n",
       "    }\n",
       "\n",
       "    .dataframe tbody tr th {\n",
       "        vertical-align: top;\n",
       "    }\n",
       "\n",
       "    .dataframe thead th {\n",
       "        text-align: right;\n",
       "    }\n",
       "</style>\n",
       "<table border=\"1\" class=\"dataframe\">\n",
       "  <thead>\n",
       "    <tr style=\"text-align: right;\">\n",
       "      <th></th>\n",
       "      <th>Name</th>\n",
       "      <th>Platform</th>\n",
       "      <th>Year_of_Release</th>\n",
       "      <th>Genre</th>\n",
       "      <th>NA_sales</th>\n",
       "      <th>EU_sales</th>\n",
       "      <th>JP_sales</th>\n",
       "      <th>Other_sales</th>\n",
       "      <th>Critic_Score</th>\n",
       "      <th>User_Score</th>\n",
       "      <th>Rating</th>\n",
       "    </tr>\n",
       "  </thead>\n",
       "  <tbody>\n",
       "    <tr>\n",
       "      <th>0</th>\n",
       "      <td>Wii Sports</td>\n",
       "      <td>Wii</td>\n",
       "      <td>2006.0</td>\n",
       "      <td>Sports</td>\n",
       "      <td>41.36</td>\n",
       "      <td>28.96</td>\n",
       "      <td>3.77</td>\n",
       "      <td>8.45</td>\n",
       "      <td>76.0</td>\n",
       "      <td>8</td>\n",
       "      <td>E</td>\n",
       "    </tr>\n",
       "    <tr>\n",
       "      <th>1</th>\n",
       "      <td>Super Mario Bros.</td>\n",
       "      <td>NES</td>\n",
       "      <td>1985.0</td>\n",
       "      <td>Platform</td>\n",
       "      <td>29.08</td>\n",
       "      <td>3.58</td>\n",
       "      <td>6.81</td>\n",
       "      <td>0.77</td>\n",
       "      <td>NaN</td>\n",
       "      <td>NaN</td>\n",
       "      <td>NaN</td>\n",
       "    </tr>\n",
       "    <tr>\n",
       "      <th>2</th>\n",
       "      <td>Mario Kart Wii</td>\n",
       "      <td>Wii</td>\n",
       "      <td>2008.0</td>\n",
       "      <td>Racing</td>\n",
       "      <td>15.68</td>\n",
       "      <td>12.76</td>\n",
       "      <td>3.79</td>\n",
       "      <td>3.29</td>\n",
       "      <td>82.0</td>\n",
       "      <td>8.3</td>\n",
       "      <td>E</td>\n",
       "    </tr>\n",
       "    <tr>\n",
       "      <th>3</th>\n",
       "      <td>Wii Sports Resort</td>\n",
       "      <td>Wii</td>\n",
       "      <td>2009.0</td>\n",
       "      <td>Sports</td>\n",
       "      <td>15.61</td>\n",
       "      <td>10.93</td>\n",
       "      <td>3.28</td>\n",
       "      <td>2.95</td>\n",
       "      <td>80.0</td>\n",
       "      <td>8</td>\n",
       "      <td>E</td>\n",
       "    </tr>\n",
       "    <tr>\n",
       "      <th>4</th>\n",
       "      <td>Pokemon Red/Pokemon Blue</td>\n",
       "      <td>GB</td>\n",
       "      <td>1996.0</td>\n",
       "      <td>Role-Playing</td>\n",
       "      <td>11.27</td>\n",
       "      <td>8.89</td>\n",
       "      <td>10.22</td>\n",
       "      <td>1.00</td>\n",
       "      <td>NaN</td>\n",
       "      <td>NaN</td>\n",
       "      <td>NaN</td>\n",
       "    </tr>\n",
       "    <tr>\n",
       "      <th>5</th>\n",
       "      <td>Tetris</td>\n",
       "      <td>GB</td>\n",
       "      <td>1989.0</td>\n",
       "      <td>Puzzle</td>\n",
       "      <td>23.20</td>\n",
       "      <td>2.26</td>\n",
       "      <td>4.22</td>\n",
       "      <td>0.58</td>\n",
       "      <td>NaN</td>\n",
       "      <td>NaN</td>\n",
       "      <td>NaN</td>\n",
       "    </tr>\n",
       "    <tr>\n",
       "      <th>6</th>\n",
       "      <td>New Super Mario Bros.</td>\n",
       "      <td>DS</td>\n",
       "      <td>2006.0</td>\n",
       "      <td>Platform</td>\n",
       "      <td>11.28</td>\n",
       "      <td>9.14</td>\n",
       "      <td>6.50</td>\n",
       "      <td>2.88</td>\n",
       "      <td>89.0</td>\n",
       "      <td>8.5</td>\n",
       "      <td>E</td>\n",
       "    </tr>\n",
       "    <tr>\n",
       "      <th>7</th>\n",
       "      <td>Wii Play</td>\n",
       "      <td>Wii</td>\n",
       "      <td>2006.0</td>\n",
       "      <td>Misc</td>\n",
       "      <td>13.96</td>\n",
       "      <td>9.18</td>\n",
       "      <td>2.93</td>\n",
       "      <td>2.84</td>\n",
       "      <td>58.0</td>\n",
       "      <td>6.6</td>\n",
       "      <td>E</td>\n",
       "    </tr>\n",
       "    <tr>\n",
       "      <th>8</th>\n",
       "      <td>New Super Mario Bros. Wii</td>\n",
       "      <td>Wii</td>\n",
       "      <td>2009.0</td>\n",
       "      <td>Platform</td>\n",
       "      <td>14.44</td>\n",
       "      <td>6.94</td>\n",
       "      <td>4.70</td>\n",
       "      <td>2.24</td>\n",
       "      <td>87.0</td>\n",
       "      <td>8.4</td>\n",
       "      <td>E</td>\n",
       "    </tr>\n",
       "    <tr>\n",
       "      <th>9</th>\n",
       "      <td>Duck Hunt</td>\n",
       "      <td>NES</td>\n",
       "      <td>1984.0</td>\n",
       "      <td>Shooter</td>\n",
       "      <td>26.93</td>\n",
       "      <td>0.63</td>\n",
       "      <td>0.28</td>\n",
       "      <td>0.47</td>\n",
       "      <td>NaN</td>\n",
       "      <td>NaN</td>\n",
       "      <td>NaN</td>\n",
       "    </tr>\n",
       "  </tbody>\n",
       "</table>\n",
       "</div>"
      ],
      "text/plain": [
       "                        Name Platform  Year_of_Release         Genre  \\\n",
       "0                 Wii Sports      Wii           2006.0        Sports   \n",
       "1          Super Mario Bros.      NES           1985.0      Platform   \n",
       "2             Mario Kart Wii      Wii           2008.0        Racing   \n",
       "3          Wii Sports Resort      Wii           2009.0        Sports   \n",
       "4   Pokemon Red/Pokemon Blue       GB           1996.0  Role-Playing   \n",
       "5                     Tetris       GB           1989.0        Puzzle   \n",
       "6      New Super Mario Bros.       DS           2006.0      Platform   \n",
       "7                   Wii Play      Wii           2006.0          Misc   \n",
       "8  New Super Mario Bros. Wii      Wii           2009.0      Platform   \n",
       "9                  Duck Hunt      NES           1984.0       Shooter   \n",
       "\n",
       "   NA_sales  EU_sales  JP_sales  Other_sales  Critic_Score User_Score Rating  \n",
       "0     41.36     28.96      3.77         8.45          76.0          8      E  \n",
       "1     29.08      3.58      6.81         0.77           NaN        NaN    NaN  \n",
       "2     15.68     12.76      3.79         3.29          82.0        8.3      E  \n",
       "3     15.61     10.93      3.28         2.95          80.0          8      E  \n",
       "4     11.27      8.89     10.22         1.00           NaN        NaN    NaN  \n",
       "5     23.20      2.26      4.22         0.58           NaN        NaN    NaN  \n",
       "6     11.28      9.14      6.50         2.88          89.0        8.5      E  \n",
       "7     13.96      9.18      2.93         2.84          58.0        6.6      E  \n",
       "8     14.44      6.94      4.70         2.24          87.0        8.4      E  \n",
       "9     26.93      0.63      0.28         0.47           NaN        NaN    NaN  "
      ]
     },
     "execution_count": 3,
     "metadata": {},
     "output_type": "execute_result"
    }
   ],
   "source": [
    "data.head(10)"
   ]
  },
  {
   "cell_type": "code",
   "execution_count": 4,
   "metadata": {
    "scrolled": true
   },
   "outputs": [
    {
     "name": "stdout",
     "output_type": "stream",
     "text": [
      "<class 'pandas.core.frame.DataFrame'>\n",
      "RangeIndex: 16715 entries, 0 to 16714\n",
      "Data columns (total 11 columns):\n",
      " #   Column           Non-Null Count  Dtype  \n",
      "---  ------           --------------  -----  \n",
      " 0   Name             16713 non-null  object \n",
      " 1   Platform         16715 non-null  object \n",
      " 2   Year_of_Release  16446 non-null  float64\n",
      " 3   Genre            16713 non-null  object \n",
      " 4   NA_sales         16715 non-null  float64\n",
      " 5   EU_sales         16715 non-null  float64\n",
      " 6   JP_sales         16715 non-null  float64\n",
      " 7   Other_sales      16715 non-null  float64\n",
      " 8   Critic_Score     8137 non-null   float64\n",
      " 9   User_Score       10014 non-null  object \n",
      " 10  Rating           9949 non-null   object \n",
      "dtypes: float64(6), object(5)\n",
      "memory usage: 1.4+ MB\n"
     ]
    }
   ],
   "source": [
    "data.info()"
   ]
  },
  {
   "cell_type": "markdown",
   "metadata": {},
   "source": [
    "**Видим, что в предоставленных данных названия столбцов не соответсятвуют правилам, но в таблице присутствуют пропуски, есть несоответсвие типов данных в некоторых столбцах. Всё это мы исправим на следующем этапе.**"
   ]
  },
  {
   "cell_type": "markdown",
   "metadata": {},
   "source": [
    "### Предобработка данных"
   ]
  },
  {
   "cell_type": "markdown",
   "metadata": {},
   "source": [
    "#### Приведем названия столбцов к стандартному виду."
   ]
  },
  {
   "cell_type": "code",
   "execution_count": 5,
   "metadata": {},
   "outputs": [],
   "source": [
    "data.columns = map(str.lower, data.columns)"
   ]
  },
  {
   "cell_type": "markdown",
   "metadata": {},
   "source": [
    "#### Посчитаем количество пропусков в таблице."
   ]
  },
  {
   "cell_type": "code",
   "execution_count": 6,
   "metadata": {},
   "outputs": [
    {
     "data": {
      "text/plain": [
       "name                  2\n",
       "platform              0\n",
       "year_of_release     269\n",
       "genre                 2\n",
       "na_sales              0\n",
       "eu_sales              0\n",
       "jp_sales              0\n",
       "other_sales           0\n",
       "critic_score       8578\n",
       "user_score         6701\n",
       "rating             6766\n",
       "dtype: int64"
      ]
     },
     "execution_count": 6,
     "metadata": {},
     "output_type": "execute_result"
    }
   ],
   "source": [
    "data.isna().sum()"
   ]
  },
  {
   "cell_type": "markdown",
   "metadata": {},
   "source": [
    "#### Обработаем пропуски в таблице."
   ]
  },
  {
   "cell_type": "markdown",
   "metadata": {},
   "source": [
    "В таблице присутствуют две игры без названия, восстановить его по каким либо параметрам из таблице не получится, поэтому целесообразно удалить эти строчки для дальнейшего исследования."
   ]
  },
  {
   "cell_type": "code",
   "execution_count": 9,
   "metadata": {},
   "outputs": [
    {
     "data": {
      "text/html": [
       "<div>\n",
       "<style scoped>\n",
       "    .dataframe tbody tr th:only-of-type {\n",
       "        vertical-align: middle;\n",
       "    }\n",
       "\n",
       "    .dataframe tbody tr th {\n",
       "        vertical-align: top;\n",
       "    }\n",
       "\n",
       "    .dataframe thead th {\n",
       "        text-align: right;\n",
       "    }\n",
       "</style>\n",
       "<table border=\"1\" class=\"dataframe\">\n",
       "  <thead>\n",
       "    <tr style=\"text-align: right;\">\n",
       "      <th></th>\n",
       "      <th>name</th>\n",
       "      <th>platform</th>\n",
       "      <th>year_of_release</th>\n",
       "      <th>genre</th>\n",
       "      <th>na_sales</th>\n",
       "      <th>eu_sales</th>\n",
       "      <th>jp_sales</th>\n",
       "      <th>other_sales</th>\n",
       "      <th>critic_score</th>\n",
       "      <th>user_score</th>\n",
       "      <th>rating</th>\n",
       "    </tr>\n",
       "  </thead>\n",
       "  <tbody>\n",
       "    <tr>\n",
       "      <th>659</th>\n",
       "      <td>NaN</td>\n",
       "      <td>GEN</td>\n",
       "      <td>1993.0</td>\n",
       "      <td>NaN</td>\n",
       "      <td>1.78</td>\n",
       "      <td>0.53</td>\n",
       "      <td>0.00</td>\n",
       "      <td>0.08</td>\n",
       "      <td>NaN</td>\n",
       "      <td>NaN</td>\n",
       "      <td>NaN</td>\n",
       "    </tr>\n",
       "    <tr>\n",
       "      <th>14244</th>\n",
       "      <td>NaN</td>\n",
       "      <td>GEN</td>\n",
       "      <td>1993.0</td>\n",
       "      <td>NaN</td>\n",
       "      <td>0.00</td>\n",
       "      <td>0.00</td>\n",
       "      <td>0.03</td>\n",
       "      <td>0.00</td>\n",
       "      <td>NaN</td>\n",
       "      <td>NaN</td>\n",
       "      <td>NaN</td>\n",
       "    </tr>\n",
       "  </tbody>\n",
       "</table>\n",
       "</div>"
      ],
      "text/plain": [
       "      name platform  year_of_release genre  na_sales  eu_sales  jp_sales  \\\n",
       "659    NaN      GEN           1993.0   NaN      1.78      0.53      0.00   \n",
       "14244  NaN      GEN           1993.0   NaN      0.00      0.00      0.03   \n",
       "\n",
       "       other_sales  critic_score user_score rating  \n",
       "659           0.08           NaN        NaN    NaN  \n",
       "14244         0.00           NaN        NaN    NaN  "
      ]
     },
     "execution_count": 9,
     "metadata": {},
     "output_type": "execute_result"
    }
   ],
   "source": [
    "data.query('name.isnull()')"
   ]
  },
  {
   "cell_type": "code",
   "execution_count": 10,
   "metadata": {},
   "outputs": [],
   "source": [
    "data = data.dropna(subset=['name']).reset_index(drop=True)"
   ]
  },
  {
   "cell_type": "markdown",
   "metadata": {},
   "source": [
    "Далее обработаем пропуски в столбце `year_of_release`. Проанализировав данные таблицы я заметил, что некоторые игры выходят сразу на несколько платформ, а значит можно частично заполнить пропуски в данном столбце."
   ]
  },
  {
   "cell_type": "code",
   "execution_count": 11,
   "metadata": {},
   "outputs": [
    {
     "data": {
      "text/html": [
       "<div>\n",
       "<style scoped>\n",
       "    .dataframe tbody tr th:only-of-type {\n",
       "        vertical-align: middle;\n",
       "    }\n",
       "\n",
       "    .dataframe tbody tr th {\n",
       "        vertical-align: top;\n",
       "    }\n",
       "\n",
       "    .dataframe thead th {\n",
       "        text-align: right;\n",
       "    }\n",
       "</style>\n",
       "<table border=\"1\" class=\"dataframe\">\n",
       "  <thead>\n",
       "    <tr style=\"text-align: right;\">\n",
       "      <th></th>\n",
       "      <th>min</th>\n",
       "      <th>max</th>\n",
       "      <th>years_of_life</th>\n",
       "    </tr>\n",
       "    <tr>\n",
       "      <th>platform</th>\n",
       "      <th></th>\n",
       "      <th></th>\n",
       "      <th></th>\n",
       "    </tr>\n",
       "  </thead>\n",
       "  <tbody>\n",
       "    <tr>\n",
       "      <th>2600</th>\n",
       "      <td>1980.0</td>\n",
       "      <td>1989.0</td>\n",
       "      <td>9.0</td>\n",
       "    </tr>\n",
       "    <tr>\n",
       "      <th>3DO</th>\n",
       "      <td>1994.0</td>\n",
       "      <td>1995.0</td>\n",
       "      <td>1.0</td>\n",
       "    </tr>\n",
       "    <tr>\n",
       "      <th>3DS</th>\n",
       "      <td>2011.0</td>\n",
       "      <td>2016.0</td>\n",
       "      <td>5.0</td>\n",
       "    </tr>\n",
       "    <tr>\n",
       "      <th>DC</th>\n",
       "      <td>1998.0</td>\n",
       "      <td>2008.0</td>\n",
       "      <td>10.0</td>\n",
       "    </tr>\n",
       "    <tr>\n",
       "      <th>DS</th>\n",
       "      <td>1985.0</td>\n",
       "      <td>2013.0</td>\n",
       "      <td>28.0</td>\n",
       "    </tr>\n",
       "    <tr>\n",
       "      <th>GB</th>\n",
       "      <td>1988.0</td>\n",
       "      <td>2001.0</td>\n",
       "      <td>13.0</td>\n",
       "    </tr>\n",
       "    <tr>\n",
       "      <th>GBA</th>\n",
       "      <td>2000.0</td>\n",
       "      <td>2007.0</td>\n",
       "      <td>7.0</td>\n",
       "    </tr>\n",
       "    <tr>\n",
       "      <th>GC</th>\n",
       "      <td>2001.0</td>\n",
       "      <td>2007.0</td>\n",
       "      <td>6.0</td>\n",
       "    </tr>\n",
       "    <tr>\n",
       "      <th>GEN</th>\n",
       "      <td>1990.0</td>\n",
       "      <td>1994.0</td>\n",
       "      <td>4.0</td>\n",
       "    </tr>\n",
       "    <tr>\n",
       "      <th>GG</th>\n",
       "      <td>1992.0</td>\n",
       "      <td>1992.0</td>\n",
       "      <td>0.0</td>\n",
       "    </tr>\n",
       "    <tr>\n",
       "      <th>N64</th>\n",
       "      <td>1996.0</td>\n",
       "      <td>2002.0</td>\n",
       "      <td>6.0</td>\n",
       "    </tr>\n",
       "    <tr>\n",
       "      <th>NES</th>\n",
       "      <td>1983.0</td>\n",
       "      <td>1994.0</td>\n",
       "      <td>11.0</td>\n",
       "    </tr>\n",
       "    <tr>\n",
       "      <th>NG</th>\n",
       "      <td>1993.0</td>\n",
       "      <td>1996.0</td>\n",
       "      <td>3.0</td>\n",
       "    </tr>\n",
       "    <tr>\n",
       "      <th>PC</th>\n",
       "      <td>1985.0</td>\n",
       "      <td>2016.0</td>\n",
       "      <td>31.0</td>\n",
       "    </tr>\n",
       "    <tr>\n",
       "      <th>PCFX</th>\n",
       "      <td>1996.0</td>\n",
       "      <td>1996.0</td>\n",
       "      <td>0.0</td>\n",
       "    </tr>\n",
       "    <tr>\n",
       "      <th>PS</th>\n",
       "      <td>1994.0</td>\n",
       "      <td>2003.0</td>\n",
       "      <td>9.0</td>\n",
       "    </tr>\n",
       "    <tr>\n",
       "      <th>PS2</th>\n",
       "      <td>2000.0</td>\n",
       "      <td>2011.0</td>\n",
       "      <td>11.0</td>\n",
       "    </tr>\n",
       "    <tr>\n",
       "      <th>PS3</th>\n",
       "      <td>2006.0</td>\n",
       "      <td>2016.0</td>\n",
       "      <td>10.0</td>\n",
       "    </tr>\n",
       "    <tr>\n",
       "      <th>PS4</th>\n",
       "      <td>2013.0</td>\n",
       "      <td>2016.0</td>\n",
       "      <td>3.0</td>\n",
       "    </tr>\n",
       "    <tr>\n",
       "      <th>PSP</th>\n",
       "      <td>2004.0</td>\n",
       "      <td>2015.0</td>\n",
       "      <td>11.0</td>\n",
       "    </tr>\n",
       "    <tr>\n",
       "      <th>PSV</th>\n",
       "      <td>2011.0</td>\n",
       "      <td>2016.0</td>\n",
       "      <td>5.0</td>\n",
       "    </tr>\n",
       "    <tr>\n",
       "      <th>SAT</th>\n",
       "      <td>1994.0</td>\n",
       "      <td>1999.0</td>\n",
       "      <td>5.0</td>\n",
       "    </tr>\n",
       "    <tr>\n",
       "      <th>SCD</th>\n",
       "      <td>1993.0</td>\n",
       "      <td>1994.0</td>\n",
       "      <td>1.0</td>\n",
       "    </tr>\n",
       "    <tr>\n",
       "      <th>SNES</th>\n",
       "      <td>1990.0</td>\n",
       "      <td>1999.0</td>\n",
       "      <td>9.0</td>\n",
       "    </tr>\n",
       "    <tr>\n",
       "      <th>TG16</th>\n",
       "      <td>1995.0</td>\n",
       "      <td>1995.0</td>\n",
       "      <td>0.0</td>\n",
       "    </tr>\n",
       "    <tr>\n",
       "      <th>WS</th>\n",
       "      <td>1999.0</td>\n",
       "      <td>2001.0</td>\n",
       "      <td>2.0</td>\n",
       "    </tr>\n",
       "    <tr>\n",
       "      <th>Wii</th>\n",
       "      <td>2006.0</td>\n",
       "      <td>2016.0</td>\n",
       "      <td>10.0</td>\n",
       "    </tr>\n",
       "    <tr>\n",
       "      <th>WiiU</th>\n",
       "      <td>2012.0</td>\n",
       "      <td>2016.0</td>\n",
       "      <td>4.0</td>\n",
       "    </tr>\n",
       "    <tr>\n",
       "      <th>X360</th>\n",
       "      <td>2005.0</td>\n",
       "      <td>2016.0</td>\n",
       "      <td>11.0</td>\n",
       "    </tr>\n",
       "    <tr>\n",
       "      <th>XB</th>\n",
       "      <td>2000.0</td>\n",
       "      <td>2008.0</td>\n",
       "      <td>8.0</td>\n",
       "    </tr>\n",
       "    <tr>\n",
       "      <th>XOne</th>\n",
       "      <td>2013.0</td>\n",
       "      <td>2016.0</td>\n",
       "      <td>3.0</td>\n",
       "    </tr>\n",
       "  </tbody>\n",
       "</table>\n",
       "</div>"
      ],
      "text/plain": [
       "             min     max  years_of_life\n",
       "platform                               \n",
       "2600      1980.0  1989.0            9.0\n",
       "3DO       1994.0  1995.0            1.0\n",
       "3DS       2011.0  2016.0            5.0\n",
       "DC        1998.0  2008.0           10.0\n",
       "DS        1985.0  2013.0           28.0\n",
       "GB        1988.0  2001.0           13.0\n",
       "GBA       2000.0  2007.0            7.0\n",
       "GC        2001.0  2007.0            6.0\n",
       "GEN       1990.0  1994.0            4.0\n",
       "GG        1992.0  1992.0            0.0\n",
       "N64       1996.0  2002.0            6.0\n",
       "NES       1983.0  1994.0           11.0\n",
       "NG        1993.0  1996.0            3.0\n",
       "PC        1985.0  2016.0           31.0\n",
       "PCFX      1996.0  1996.0            0.0\n",
       "PS        1994.0  2003.0            9.0\n",
       "PS2       2000.0  2011.0           11.0\n",
       "PS3       2006.0  2016.0           10.0\n",
       "PS4       2013.0  2016.0            3.0\n",
       "PSP       2004.0  2015.0           11.0\n",
       "PSV       2011.0  2016.0            5.0\n",
       "SAT       1994.0  1999.0            5.0\n",
       "SCD       1993.0  1994.0            1.0\n",
       "SNES      1990.0  1999.0            9.0\n",
       "TG16      1995.0  1995.0            0.0\n",
       "WS        1999.0  2001.0            2.0\n",
       "Wii       2006.0  2016.0           10.0\n",
       "WiiU      2012.0  2016.0            4.0\n",
       "X360      2005.0  2016.0           11.0\n",
       "XB        2000.0  2008.0            8.0\n",
       "XOne      2013.0  2016.0            3.0"
      ]
     },
     "execution_count": 11,
     "metadata": {},
     "output_type": "execute_result"
    }
   ],
   "source": [
    "# жизненный срок платформы\n",
    "\n",
    "years_of_life = data.pivot_table(index='platform',values='year_of_release',aggfunc=['min','max'])\n",
    "years_of_life.columns=['min','max']\n",
    "years_of_life['years_of_life']=years_of_life['max']-years_of_life['min']\n",
    "years_of_life\n",
    "\n",
    "# years_of_life.sort_values(by = 'years_of_life', ascending = False)"
   ]
  },
  {
   "cell_type": "code",
   "execution_count": 13,
   "metadata": {},
   "outputs": [
    {
     "data": {
      "text/html": [
       "<div>\n",
       "<style scoped>\n",
       "    .dataframe tbody tr th:only-of-type {\n",
       "        vertical-align: middle;\n",
       "    }\n",
       "\n",
       "    .dataframe tbody tr th {\n",
       "        vertical-align: top;\n",
       "    }\n",
       "\n",
       "    .dataframe thead th {\n",
       "        text-align: right;\n",
       "    }\n",
       "</style>\n",
       "<table border=\"1\" class=\"dataframe\">\n",
       "  <thead>\n",
       "    <tr style=\"text-align: right;\">\n",
       "      <th></th>\n",
       "      <th>min</th>\n",
       "      <th>max</th>\n",
       "      <th>years_of_life</th>\n",
       "    </tr>\n",
       "    <tr>\n",
       "      <th>platform</th>\n",
       "      <th></th>\n",
       "      <th></th>\n",
       "      <th></th>\n",
       "    </tr>\n",
       "  </thead>\n",
       "  <tbody>\n",
       "    <tr>\n",
       "      <th>2600</th>\n",
       "      <td>1980.0</td>\n",
       "      <td>1989.0</td>\n",
       "      <td>9.0</td>\n",
       "    </tr>\n",
       "    <tr>\n",
       "      <th>3DO</th>\n",
       "      <td>1994.0</td>\n",
       "      <td>1995.0</td>\n",
       "      <td>1.0</td>\n",
       "    </tr>\n",
       "    <tr>\n",
       "      <th>3DS</th>\n",
       "      <td>2011.0</td>\n",
       "      <td>2016.0</td>\n",
       "      <td>5.0</td>\n",
       "    </tr>\n",
       "    <tr>\n",
       "      <th>DC</th>\n",
       "      <td>1998.0</td>\n",
       "      <td>2008.0</td>\n",
       "      <td>10.0</td>\n",
       "    </tr>\n",
       "    <tr>\n",
       "      <th>DS</th>\n",
       "      <td>1985.0</td>\n",
       "      <td>2013.0</td>\n",
       "      <td>28.0</td>\n",
       "    </tr>\n",
       "    <tr>\n",
       "      <th>GB</th>\n",
       "      <td>1988.0</td>\n",
       "      <td>2001.0</td>\n",
       "      <td>13.0</td>\n",
       "    </tr>\n",
       "    <tr>\n",
       "      <th>GBA</th>\n",
       "      <td>2000.0</td>\n",
       "      <td>2007.0</td>\n",
       "      <td>7.0</td>\n",
       "    </tr>\n",
       "    <tr>\n",
       "      <th>GC</th>\n",
       "      <td>2001.0</td>\n",
       "      <td>2007.0</td>\n",
       "      <td>6.0</td>\n",
       "    </tr>\n",
       "    <tr>\n",
       "      <th>GEN</th>\n",
       "      <td>1990.0</td>\n",
       "      <td>1994.0</td>\n",
       "      <td>4.0</td>\n",
       "    </tr>\n",
       "    <tr>\n",
       "      <th>GG</th>\n",
       "      <td>1992.0</td>\n",
       "      <td>1992.0</td>\n",
       "      <td>0.0</td>\n",
       "    </tr>\n",
       "    <tr>\n",
       "      <th>N64</th>\n",
       "      <td>1996.0</td>\n",
       "      <td>2002.0</td>\n",
       "      <td>6.0</td>\n",
       "    </tr>\n",
       "    <tr>\n",
       "      <th>NES</th>\n",
       "      <td>1983.0</td>\n",
       "      <td>1994.0</td>\n",
       "      <td>11.0</td>\n",
       "    </tr>\n",
       "    <tr>\n",
       "      <th>NG</th>\n",
       "      <td>1993.0</td>\n",
       "      <td>1996.0</td>\n",
       "      <td>3.0</td>\n",
       "    </tr>\n",
       "    <tr>\n",
       "      <th>PC</th>\n",
       "      <td>1985.0</td>\n",
       "      <td>2016.0</td>\n",
       "      <td>31.0</td>\n",
       "    </tr>\n",
       "    <tr>\n",
       "      <th>PCFX</th>\n",
       "      <td>1996.0</td>\n",
       "      <td>1996.0</td>\n",
       "      <td>0.0</td>\n",
       "    </tr>\n",
       "    <tr>\n",
       "      <th>PS</th>\n",
       "      <td>1994.0</td>\n",
       "      <td>2003.0</td>\n",
       "      <td>9.0</td>\n",
       "    </tr>\n",
       "    <tr>\n",
       "      <th>PS2</th>\n",
       "      <td>2000.0</td>\n",
       "      <td>2011.0</td>\n",
       "      <td>11.0</td>\n",
       "    </tr>\n",
       "    <tr>\n",
       "      <th>PS3</th>\n",
       "      <td>2006.0</td>\n",
       "      <td>2016.0</td>\n",
       "      <td>10.0</td>\n",
       "    </tr>\n",
       "    <tr>\n",
       "      <th>PS4</th>\n",
       "      <td>2013.0</td>\n",
       "      <td>2016.0</td>\n",
       "      <td>3.0</td>\n",
       "    </tr>\n",
       "    <tr>\n",
       "      <th>PSP</th>\n",
       "      <td>2004.0</td>\n",
       "      <td>2015.0</td>\n",
       "      <td>11.0</td>\n",
       "    </tr>\n",
       "    <tr>\n",
       "      <th>PSV</th>\n",
       "      <td>2011.0</td>\n",
       "      <td>2016.0</td>\n",
       "      <td>5.0</td>\n",
       "    </tr>\n",
       "    <tr>\n",
       "      <th>SAT</th>\n",
       "      <td>1994.0</td>\n",
       "      <td>1999.0</td>\n",
       "      <td>5.0</td>\n",
       "    </tr>\n",
       "    <tr>\n",
       "      <th>SCD</th>\n",
       "      <td>1993.0</td>\n",
       "      <td>1994.0</td>\n",
       "      <td>1.0</td>\n",
       "    </tr>\n",
       "    <tr>\n",
       "      <th>SNES</th>\n",
       "      <td>1990.0</td>\n",
       "      <td>1999.0</td>\n",
       "      <td>9.0</td>\n",
       "    </tr>\n",
       "    <tr>\n",
       "      <th>TG16</th>\n",
       "      <td>1995.0</td>\n",
       "      <td>1995.0</td>\n",
       "      <td>0.0</td>\n",
       "    </tr>\n",
       "    <tr>\n",
       "      <th>WS</th>\n",
       "      <td>1999.0</td>\n",
       "      <td>2001.0</td>\n",
       "      <td>2.0</td>\n",
       "    </tr>\n",
       "    <tr>\n",
       "      <th>Wii</th>\n",
       "      <td>2006.0</td>\n",
       "      <td>2016.0</td>\n",
       "      <td>10.0</td>\n",
       "    </tr>\n",
       "    <tr>\n",
       "      <th>WiiU</th>\n",
       "      <td>2012.0</td>\n",
       "      <td>2016.0</td>\n",
       "      <td>4.0</td>\n",
       "    </tr>\n",
       "    <tr>\n",
       "      <th>X360</th>\n",
       "      <td>2005.0</td>\n",
       "      <td>2016.0</td>\n",
       "      <td>11.0</td>\n",
       "    </tr>\n",
       "    <tr>\n",
       "      <th>XB</th>\n",
       "      <td>2000.0</td>\n",
       "      <td>2008.0</td>\n",
       "      <td>8.0</td>\n",
       "    </tr>\n",
       "    <tr>\n",
       "      <th>XOne</th>\n",
       "      <td>2013.0</td>\n",
       "      <td>2016.0</td>\n",
       "      <td>3.0</td>\n",
       "    </tr>\n",
       "  </tbody>\n",
       "</table>\n",
       "</div>"
      ],
      "text/plain": [
       "             min     max  years_of_life\n",
       "platform                               \n",
       "2600      1980.0  1989.0            9.0\n",
       "3DO       1994.0  1995.0            1.0\n",
       "3DS       2011.0  2016.0            5.0\n",
       "DC        1998.0  2008.0           10.0\n",
       "DS        1985.0  2013.0           28.0\n",
       "GB        1988.0  2001.0           13.0\n",
       "GBA       2000.0  2007.0            7.0\n",
       "GC        2001.0  2007.0            6.0\n",
       "GEN       1990.0  1994.0            4.0\n",
       "GG        1992.0  1992.0            0.0\n",
       "N64       1996.0  2002.0            6.0\n",
       "NES       1983.0  1994.0           11.0\n",
       "NG        1993.0  1996.0            3.0\n",
       "PC        1985.0  2016.0           31.0\n",
       "PCFX      1996.0  1996.0            0.0\n",
       "PS        1994.0  2003.0            9.0\n",
       "PS2       2000.0  2011.0           11.0\n",
       "PS3       2006.0  2016.0           10.0\n",
       "PS4       2013.0  2016.0            3.0\n",
       "PSP       2004.0  2015.0           11.0\n",
       "PSV       2011.0  2016.0            5.0\n",
       "SAT       1994.0  1999.0            5.0\n",
       "SCD       1993.0  1994.0            1.0\n",
       "SNES      1990.0  1999.0            9.0\n",
       "TG16      1995.0  1995.0            0.0\n",
       "WS        1999.0  2001.0            2.0\n",
       "Wii       2006.0  2016.0           10.0\n",
       "WiiU      2012.0  2016.0            4.0\n",
       "X360      2005.0  2016.0           11.0\n",
       "XB        2000.0  2008.0            8.0\n",
       "XOne      2013.0  2016.0            3.0"
      ]
     },
     "execution_count": 13,
     "metadata": {},
     "output_type": "execute_result"
    }
   ],
   "source": [
    "# жизненный срок платформы\n",
    "\n",
    "years_of_life = data.pivot_table(index='platform',values='year_of_release',aggfunc=['min','max'])\n",
    "years_of_life.columns=['min','max']\n",
    "years_of_life['years_of_life']=years_of_life['max']-years_of_life['min']\n",
    "years_of_life\n",
    "\n",
    "# years_of_life.sort_values(by = 'years_of_life', ascending = False)"
   ]
  },
  {
   "cell_type": "markdown",
   "metadata": {},
   "source": [
    "Рассмотрев полученные данные пришли к выводу что такое заполнение пропусков искажает статистику и лучше удалить данные об играх без года выпуска, чтобы не искажать срок жизни платформы.\n",
    "Остальные пропуски в столбце с годом заполнить подобным образом невозможно, поэтому заполним ихх нулями. "
   ]
  },
  {
   "cell_type": "code",
   "execution_count": 14,
   "metadata": {},
   "outputs": [],
   "source": [
    "data.drop(data[data['year_of_release'].isna()].index, inplace=True)"
   ]
  },
  {
   "cell_type": "markdown",
   "metadata": {},
   "source": [
    "В столбце `user_score` найдено значение tbd, которое расшифровывается как: 'To be determined', что обозначает 'Будет определено'. То есть, скорее всего, игра новая и еще не была оценена. Такое значение мы просто заменим на NaN, ведь мы ничего не можем сказать о будущей оценке игры. "
   ]
  },
  {
   "cell_type": "code",
   "execution_count": 15,
   "metadata": {},
   "outputs": [
    {
     "data": {
      "text/plain": [
       "array(['8', nan, '8.3', '8.5', '6.6', '8.4', '8.6', '7.7', '6.3', '7.4',\n",
       "       '8.2', '9', '7.9', '8.1', '8.7', '7.1', '3.4', '5.3', '4.8', '3.2',\n",
       "       '8.9', '6.4', '7.8', '7.5', '2.6', '7.2', '9.2', '7', '7.3', '4.3',\n",
       "       '7.6', '5.7', '5', '9.1', '6.5', 'tbd', '8.8', '6.9', '9.4', '6.8',\n",
       "       '6.1', '6.7', '5.4', '4', '4.9', '4.5', '9.3', '6.2', '4.2', '6',\n",
       "       '3.7', '4.1', '5.8', '5.6', '5.5', '4.4', '4.6', '5.9', '3.9',\n",
       "       '3.1', '2.9', '5.2', '3.3', '4.7', '5.1', '3.5', '2.5', '1.9', '3',\n",
       "       '2.7', '2.2', '2', '9.5', '2.1', '3.6', '2.8', '1.8', '3.8', '0',\n",
       "       '1.6', '9.6', '2.4', '1.7', '1.1', '0.3', '1.5', '0.7', '1.2',\n",
       "       '2.3', '0.5', '1.3', '0.2', '0.6', '1.4', '0.9', '1', '9.7'],\n",
       "      dtype=object)"
      ]
     },
     "execution_count": 15,
     "metadata": {},
     "output_type": "execute_result"
    }
   ],
   "source": [
    "data['user_score'].unique()"
   ]
  },
  {
   "cell_type": "code",
   "execution_count": 16,
   "metadata": {},
   "outputs": [],
   "source": [
    "data.loc[data['user_score'] == 'tbd', 'user_score'] = np.nan"
   ]
  },
  {
   "cell_type": "markdown",
   "metadata": {},
   "source": [
    "#### Изменим типы данных для некоторых столбцов. \n",
    "**Для столбца `year_of_release` нужно изменить тип с `float` на `int`, так как значение года выражается целым числом, для `user_score` с `object` на `float`, так как оценка пользователя это рациональное число, а не строка, для  `critic_score` с `float` на `int`, так как рейтинг выражается целым числом.**"
   ]
  },
  {
   "cell_type": "code",
   "execution_count": 17,
   "metadata": {},
   "outputs": [],
   "source": [
    "data[['year_of_release', 'critic_score']] = data[['year_of_release', 'critic_score']].astype('Int64')\n",
    "data['user_score'] = data['user_score'].astype(float)"
   ]
  },
  {
   "cell_type": "markdown",
   "metadata": {},
   "source": [
    "#### Заполним пропуски в столбце с рейтингом основываясь на самом распространенном рэйтинге для каждого жанра игр."
   ]
  },
  {
   "cell_type": "code",
   "execution_count": 18,
   "metadata": {},
   "outputs": [],
   "source": [
    "genre_list = data['genre'].unique()\n",
    "genre_dict = {}\n",
    "for genre in genre_list:\n",
    "    rating_value_counts = data[data['genre'] == genre]['rating'].value_counts()\n",
    "    genre_dict[genre] = rating_value_counts.index[0]\n",
    "\n",
    "data['rating'] = data['rating'].fillna('N')\n",
    "\n",
    "def fill_rating(row):\n",
    "    if row[10] == 'N':\n",
    "        row[10] = genre_dict[row[3]]\n",
    "    return row\n",
    "\n",
    "data = data.apply(fill_rating, axis=1)"
   ]
  },
  {
   "cell_type": "markdown",
   "metadata": {},
   "source": [
    "Посчитаем количество дубликатов."
   ]
  },
  {
   "cell_type": "code",
   "execution_count": 19,
   "metadata": {},
   "outputs": [
    {
     "data": {
      "text/plain": [
       "0"
      ]
     },
     "execution_count": 19,
     "metadata": {},
     "output_type": "execute_result"
    }
   ],
   "source": [
    "data.duplicated().sum()"
   ]
  },
  {
   "cell_type": "markdown",
   "metadata": {},
   "source": [
    "#### Добавим столбец с общим значением продаж."
   ]
  },
  {
   "cell_type": "code",
   "execution_count": 20,
   "metadata": {},
   "outputs": [],
   "source": [
    "data['avg_sales'] = data[['na_sales', 'eu_sales', 'jp_sales', 'other_sales']].sum(axis=1)"
   ]
  },
  {
   "cell_type": "markdown",
   "metadata": {},
   "source": [
    "**Вывод: в таблице довольно много пропусков в столбцах `critic_score` и `user_score`, но с ними мы пока не можем что то сделать, так как новые игрвы просто не успели получить свои оценки пользователей и критиков. Пропуски в столбце `raating` заменили на самые распространенные для каждого жанра значения.**"
   ]
  },
  {
   "cell_type": "markdown",
   "metadata": {},
   "source": [
    "### Исследовательский анализ данных"
   ]
  },
  {
   "cell_type": "markdown",
   "metadata": {},
   "source": [
    "#### Посчитаем количество выпущенных игр за каждый год:"
   ]
  },
  {
   "cell_type": "code",
   "execution_count": 22,
   "metadata": {
    "scrolled": true
   },
   "outputs": [
    {
     "data": {
      "text/html": [
       "<div>\n",
       "<style scoped>\n",
       "    .dataframe tbody tr th:only-of-type {\n",
       "        vertical-align: middle;\n",
       "    }\n",
       "\n",
       "    .dataframe tbody tr th {\n",
       "        vertical-align: top;\n",
       "    }\n",
       "\n",
       "    .dataframe thead th {\n",
       "        text-align: right;\n",
       "    }\n",
       "</style>\n",
       "<table border=\"1\" class=\"dataframe\">\n",
       "  <thead>\n",
       "    <tr style=\"text-align: right;\">\n",
       "      <th></th>\n",
       "      <th>games_count</th>\n",
       "    </tr>\n",
       "    <tr>\n",
       "      <th>year_of_release</th>\n",
       "      <th></th>\n",
       "    </tr>\n",
       "  </thead>\n",
       "  <tbody>\n",
       "    <tr>\n",
       "      <th>1980</th>\n",
       "      <td>9</td>\n",
       "    </tr>\n",
       "    <tr>\n",
       "      <th>1981</th>\n",
       "      <td>46</td>\n",
       "    </tr>\n",
       "    <tr>\n",
       "      <th>1982</th>\n",
       "      <td>36</td>\n",
       "    </tr>\n",
       "    <tr>\n",
       "      <th>1983</th>\n",
       "      <td>17</td>\n",
       "    </tr>\n",
       "    <tr>\n",
       "      <th>1984</th>\n",
       "      <td>14</td>\n",
       "    </tr>\n",
       "    <tr>\n",
       "      <th>1985</th>\n",
       "      <td>14</td>\n",
       "    </tr>\n",
       "    <tr>\n",
       "      <th>1986</th>\n",
       "      <td>21</td>\n",
       "    </tr>\n",
       "    <tr>\n",
       "      <th>1987</th>\n",
       "      <td>16</td>\n",
       "    </tr>\n",
       "    <tr>\n",
       "      <th>1988</th>\n",
       "      <td>15</td>\n",
       "    </tr>\n",
       "    <tr>\n",
       "      <th>1989</th>\n",
       "      <td>17</td>\n",
       "    </tr>\n",
       "    <tr>\n",
       "      <th>1990</th>\n",
       "      <td>16</td>\n",
       "    </tr>\n",
       "    <tr>\n",
       "      <th>1991</th>\n",
       "      <td>41</td>\n",
       "    </tr>\n",
       "    <tr>\n",
       "      <th>1992</th>\n",
       "      <td>43</td>\n",
       "    </tr>\n",
       "    <tr>\n",
       "      <th>1993</th>\n",
       "      <td>60</td>\n",
       "    </tr>\n",
       "    <tr>\n",
       "      <th>1994</th>\n",
       "      <td>121</td>\n",
       "    </tr>\n",
       "    <tr>\n",
       "      <th>1995</th>\n",
       "      <td>219</td>\n",
       "    </tr>\n",
       "    <tr>\n",
       "      <th>1996</th>\n",
       "      <td>263</td>\n",
       "    </tr>\n",
       "    <tr>\n",
       "      <th>1997</th>\n",
       "      <td>289</td>\n",
       "    </tr>\n",
       "    <tr>\n",
       "      <th>1998</th>\n",
       "      <td>379</td>\n",
       "    </tr>\n",
       "    <tr>\n",
       "      <th>1999</th>\n",
       "      <td>338</td>\n",
       "    </tr>\n",
       "    <tr>\n",
       "      <th>2000</th>\n",
       "      <td>350</td>\n",
       "    </tr>\n",
       "    <tr>\n",
       "      <th>2001</th>\n",
       "      <td>482</td>\n",
       "    </tr>\n",
       "    <tr>\n",
       "      <th>2002</th>\n",
       "      <td>829</td>\n",
       "    </tr>\n",
       "    <tr>\n",
       "      <th>2003</th>\n",
       "      <td>775</td>\n",
       "    </tr>\n",
       "    <tr>\n",
       "      <th>2004</th>\n",
       "      <td>762</td>\n",
       "    </tr>\n",
       "    <tr>\n",
       "      <th>2005</th>\n",
       "      <td>939</td>\n",
       "    </tr>\n",
       "    <tr>\n",
       "      <th>2006</th>\n",
       "      <td>1006</td>\n",
       "    </tr>\n",
       "    <tr>\n",
       "      <th>2007</th>\n",
       "      <td>1197</td>\n",
       "    </tr>\n",
       "    <tr>\n",
       "      <th>2008</th>\n",
       "      <td>1427</td>\n",
       "    </tr>\n",
       "    <tr>\n",
       "      <th>2009</th>\n",
       "      <td>1426</td>\n",
       "    </tr>\n",
       "    <tr>\n",
       "      <th>2010</th>\n",
       "      <td>1255</td>\n",
       "    </tr>\n",
       "    <tr>\n",
       "      <th>2011</th>\n",
       "      <td>1136</td>\n",
       "    </tr>\n",
       "    <tr>\n",
       "      <th>2012</th>\n",
       "      <td>653</td>\n",
       "    </tr>\n",
       "    <tr>\n",
       "      <th>2013</th>\n",
       "      <td>544</td>\n",
       "    </tr>\n",
       "    <tr>\n",
       "      <th>2014</th>\n",
       "      <td>581</td>\n",
       "    </tr>\n",
       "    <tr>\n",
       "      <th>2015</th>\n",
       "      <td>606</td>\n",
       "    </tr>\n",
       "    <tr>\n",
       "      <th>2016</th>\n",
       "      <td>502</td>\n",
       "    </tr>\n",
       "  </tbody>\n",
       "</table>\n",
       "</div>"
      ],
      "text/plain": [
       "                 games_count\n",
       "year_of_release             \n",
       "1980                       9\n",
       "1981                      46\n",
       "1982                      36\n",
       "1983                      17\n",
       "1984                      14\n",
       "1985                      14\n",
       "1986                      21\n",
       "1987                      16\n",
       "1988                      15\n",
       "1989                      17\n",
       "1990                      16\n",
       "1991                      41\n",
       "1992                      43\n",
       "1993                      60\n",
       "1994                     121\n",
       "1995                     219\n",
       "1996                     263\n",
       "1997                     289\n",
       "1998                     379\n",
       "1999                     338\n",
       "2000                     350\n",
       "2001                     482\n",
       "2002                     829\n",
       "2003                     775\n",
       "2004                     762\n",
       "2005                     939\n",
       "2006                    1006\n",
       "2007                    1197\n",
       "2008                    1427\n",
       "2009                    1426\n",
       "2010                    1255\n",
       "2011                    1136\n",
       "2012                     653\n",
       "2013                     544\n",
       "2014                     581\n",
       "2015                     606\n",
       "2016                     502"
      ]
     },
     "execution_count": 22,
     "metadata": {},
     "output_type": "execute_result"
    }
   ],
   "source": [
    "year_of_release_table = pd.pivot_table(data, index='year_of_release', values='name', aggfunc='count')\n",
    "year_of_release_table.columns = ['games_count']\n",
    "year_of_release_table"
   ]
  },
  {
   "cell_type": "code",
   "execution_count": 23,
   "metadata": {},
   "outputs": [
    {
     "data": {
      "image/png": "[encoded data removed]",
      "text/plain": [
       "<Figure size 432x288 with 1 Axes>"
      ]
     },
     "metadata": {
      "needs_background": "light"
     },
     "output_type": "display_data"
    }
   ],
   "source": [
    "year_of_release_table.plot()\n",
    "plt.show()"
   ]
  },
  {
   "cell_type": "markdown",
   "metadata": {},
   "source": [
    "**Видно, что большая часть игр выпускалась начиная с 2000 года, а значит основным периодом для рассмотрения на данный момент выберем промежуток с 2000 года и далее**"
   ]
  },
  {
   "cell_type": "markdown",
   "metadata": {},
   "source": [
    "#### Посмотрим, как менялись продажи по платформам"
   ]
  },
  {
   "cell_type": "code",
   "execution_count": 24,
   "metadata": {
    "scrolled": false
   },
   "outputs": [
    {
     "data": {
      "text/html": [
       "<div>\n",
       "<style scoped>\n",
       "    .dataframe tbody tr th:only-of-type {\n",
       "        vertical-align: middle;\n",
       "    }\n",
       "\n",
       "    .dataframe tbody tr th {\n",
       "        vertical-align: top;\n",
       "    }\n",
       "\n",
       "    .dataframe thead th {\n",
       "        text-align: right;\n",
       "    }\n",
       "</style>\n",
       "<table border=\"1\" class=\"dataframe\">\n",
       "  <thead>\n",
       "    <tr style=\"text-align: right;\">\n",
       "      <th></th>\n",
       "      <th>platform</th>\n",
       "      <th>avg_sales</th>\n",
       "    </tr>\n",
       "  </thead>\n",
       "  <tbody>\n",
       "    <tr>\n",
       "      <th>0</th>\n",
       "      <td>PS2</td>\n",
       "      <td>1233.56</td>\n",
       "    </tr>\n",
       "    <tr>\n",
       "      <th>1</th>\n",
       "      <td>X360</td>\n",
       "      <td>961.24</td>\n",
       "    </tr>\n",
       "    <tr>\n",
       "      <th>2</th>\n",
       "      <td>PS3</td>\n",
       "      <td>931.34</td>\n",
       "    </tr>\n",
       "    <tr>\n",
       "      <th>3</th>\n",
       "      <td>Wii</td>\n",
       "      <td>891.18</td>\n",
       "    </tr>\n",
       "    <tr>\n",
       "      <th>4</th>\n",
       "      <td>DS</td>\n",
       "      <td>802.78</td>\n",
       "    </tr>\n",
       "    <tr>\n",
       "      <th>5</th>\n",
       "      <td>PS</td>\n",
       "      <td>727.58</td>\n",
       "    </tr>\n",
       "    <tr>\n",
       "      <th>6</th>\n",
       "      <td>PS4</td>\n",
       "      <td>314.14</td>\n",
       "    </tr>\n",
       "    <tr>\n",
       "      <th>7</th>\n",
       "      <td>GBA</td>\n",
       "      <td>312.88</td>\n",
       "    </tr>\n",
       "    <tr>\n",
       "      <th>8</th>\n",
       "      <td>PSP</td>\n",
       "      <td>289.53</td>\n",
       "    </tr>\n",
       "    <tr>\n",
       "      <th>9</th>\n",
       "      <td>3DS</td>\n",
       "      <td>257.81</td>\n",
       "    </tr>\n",
       "    <tr>\n",
       "      <th>10</th>\n",
       "      <td>PC</td>\n",
       "      <td>255.76</td>\n",
       "    </tr>\n",
       "    <tr>\n",
       "      <th>11</th>\n",
       "      <td>GB</td>\n",
       "      <td>254.43</td>\n",
       "    </tr>\n",
       "    <tr>\n",
       "      <th>12</th>\n",
       "      <td>XB</td>\n",
       "      <td>251.57</td>\n",
       "    </tr>\n",
       "    <tr>\n",
       "      <th>13</th>\n",
       "      <td>NES</td>\n",
       "      <td>251.05</td>\n",
       "    </tr>\n",
       "    <tr>\n",
       "      <th>14</th>\n",
       "      <td>N64</td>\n",
       "      <td>218.01</td>\n",
       "    </tr>\n",
       "    <tr>\n",
       "      <th>15</th>\n",
       "      <td>SNES</td>\n",
       "      <td>200.04</td>\n",
       "    </tr>\n",
       "    <tr>\n",
       "      <th>16</th>\n",
       "      <td>GC</td>\n",
       "      <td>196.73</td>\n",
       "    </tr>\n",
       "    <tr>\n",
       "      <th>17</th>\n",
       "      <td>XOne</td>\n",
       "      <td>159.32</td>\n",
       "    </tr>\n",
       "    <tr>\n",
       "      <th>18</th>\n",
       "      <td>2600</td>\n",
       "      <td>86.48</td>\n",
       "    </tr>\n",
       "    <tr>\n",
       "      <th>19</th>\n",
       "      <td>WiiU</td>\n",
       "      <td>82.19</td>\n",
       "    </tr>\n",
       "    <tr>\n",
       "      <th>20</th>\n",
       "      <td>PSV</td>\n",
       "      <td>53.81</td>\n",
       "    </tr>\n",
       "    <tr>\n",
       "      <th>21</th>\n",
       "      <td>SAT</td>\n",
       "      <td>33.59</td>\n",
       "    </tr>\n",
       "    <tr>\n",
       "      <th>22</th>\n",
       "      <td>GEN</td>\n",
       "      <td>28.35</td>\n",
       "    </tr>\n",
       "    <tr>\n",
       "      <th>23</th>\n",
       "      <td>DC</td>\n",
       "      <td>15.95</td>\n",
       "    </tr>\n",
       "    <tr>\n",
       "      <th>24</th>\n",
       "      <td>SCD</td>\n",
       "      <td>1.86</td>\n",
       "    </tr>\n",
       "    <tr>\n",
       "      <th>25</th>\n",
       "      <td>NG</td>\n",
       "      <td>1.44</td>\n",
       "    </tr>\n",
       "    <tr>\n",
       "      <th>26</th>\n",
       "      <td>WS</td>\n",
       "      <td>1.42</td>\n",
       "    </tr>\n",
       "    <tr>\n",
       "      <th>27</th>\n",
       "      <td>TG16</td>\n",
       "      <td>0.16</td>\n",
       "    </tr>\n",
       "    <tr>\n",
       "      <th>28</th>\n",
       "      <td>3DO</td>\n",
       "      <td>0.10</td>\n",
       "    </tr>\n",
       "    <tr>\n",
       "      <th>29</th>\n",
       "      <td>GG</td>\n",
       "      <td>0.04</td>\n",
       "    </tr>\n",
       "    <tr>\n",
       "      <th>30</th>\n",
       "      <td>PCFX</td>\n",
       "      <td>0.03</td>\n",
       "    </tr>\n",
       "  </tbody>\n",
       "</table>\n",
       "</div>"
      ],
      "text/plain": [
       "   platform  avg_sales\n",
       "0       PS2    1233.56\n",
       "1      X360     961.24\n",
       "2       PS3     931.34\n",
       "3       Wii     891.18\n",
       "4        DS     802.78\n",
       "5        PS     727.58\n",
       "6       PS4     314.14\n",
       "7       GBA     312.88\n",
       "8       PSP     289.53\n",
       "9       3DS     257.81\n",
       "10       PC     255.76\n",
       "11       GB     254.43\n",
       "12       XB     251.57\n",
       "13      NES     251.05\n",
       "14      N64     218.01\n",
       "15     SNES     200.04\n",
       "16       GC     196.73\n",
       "17     XOne     159.32\n",
       "18     2600      86.48\n",
       "19     WiiU      82.19\n",
       "20      PSV      53.81\n",
       "21      SAT      33.59\n",
       "22      GEN      28.35\n",
       "23       DC      15.95\n",
       "24      SCD       1.86\n",
       "25       NG       1.44\n",
       "26       WS       1.42\n",
       "27     TG16       0.16\n",
       "28      3DO       0.10\n",
       "29       GG       0.04\n",
       "30     PCFX       0.03"
      ]
     },
     "execution_count": 24,
     "metadata": {},
     "output_type": "execute_result"
    },
    {
     "data": {
      "image/png": "[encoded data removed]",
      "text/plain": [
       "<Figure size 1080x360 with 1 Axes>"
      ]
     },
     "metadata": {
      "needs_background": "light"
     },
     "output_type": "display_data"
    }
   ],
   "source": [
    "platforms = (\n",
    "    data\n",
    "    .pivot_table(index='platform', values='avg_sales', aggfunc='sum')\n",
    "    .sort_values('avg_sales', ascending=False)\n",
    "    .reset_index()\n",
    ")\n",
    "top_platforms = platforms.head(10)\n",
    "top_platforms.plot(x='platform', y='avg_sales', kind='bar',figsize=(15,5))\n",
    "platforms"
   ]
  },
  {
   "cell_type": "code",
   "execution_count": 25,
   "metadata": {
    "scrolled": true
   },
   "outputs": [
    {
     "data": {
      "image/png": "[encoded data removed]",
      "text/plain": [
       "<Figure size 1080x360 with 1 Axes>"
      ]
     },
     "metadata": {
      "needs_background": "light"
     },
     "output_type": "display_data"
    },
    {
     "data": {
      "image/png": "[encoded data removed]",
      "text/plain": [
       "<Figure size 1080x360 with 1 Axes>"
      ]
     },
     "metadata": {
      "needs_background": "light"
     },
     "output_type": "display_data"
    },
    {
     "data": {
      "image/png": "[encoded data removed]",
      "text/plain": [
       "<Figure size 1080x360 with 1 Axes>"
      ]
     },
     "metadata": {
      "needs_background": "light"
     },
     "output_type": "display_data"
    },
    {
     "data": {
      "image/png": "[encoded data removed]",
      "text/plain": [
       "<Figure size 1080x360 with 1 Axes>"
      ]
     },
     "metadata": {
      "needs_background": "light"
     },
     "output_type": "display_data"
    },
    {
     "data": {
      "image/png": "[encoded data removed]",
      "text/plain": [
       "<Figure size 1080x360 with 1 Axes>"
      ]
     },
     "metadata": {
      "needs_background": "light"
     },
     "output_type": "display_data"
    },
    {
     "data": {
      "image/png": "[encoded data removed]",
      "text/plain": [
       "<Figure size 1080x360 with 1 Axes>"
      ]
     },
     "metadata": {
      "needs_background": "light"
     },
     "output_type": "display_data"
    },
    {
     "data": {
      "image/png": "[encoded data removed]",
      "text/plain": [
       "<Figure size 1080x360 with 1 Axes>"
      ]
     },
     "metadata": {
      "needs_background": "light"
     },
     "output_type": "display_data"
    },
    {
     "data": {
      "image/png": "[encoded data removed]",
      "text/plain": [
       "<Figure size 1080x360 with 1 Axes>"
      ]
     },
     "metadata": {
      "needs_background": "light"
     },
     "output_type": "display_data"
    },
    {
     "data": {
      "image/png": "[encoded data removed]",
      "text/plain": [
       "<Figure size 1080x360 with 1 Axes>"
      ]
     },
     "metadata": {
      "needs_background": "light"
     },
     "output_type": "display_data"
    },
    {
     "data": {
      "image/png": "[encoded data removed]",
      "text/plain": [
       "<Figure size 1080x360 with 1 Axes>"
      ]
     },
     "metadata": {
      "needs_background": "light"
     },
     "output_type": "display_data"
    }
   ],
   "source": [
    "top_platforms_data = data.query('platform in @top_platforms[\"platform\"]')\n",
    "for platform in top_platforms['platform'].tolist():\n",
    "    (data[data['platform'] == platform]\n",
    "     .pivot_table(index='year_of_release', values='avg_sales', aggfunc='sum')\n",
    "     .plot(kind='bar', figsize=(15,5))\n",
    "    )\n",
    "    plt.title(platform)"
   ]
  },
  {
   "cell_type": "markdown",
   "metadata": {},
   "source": [
    "**Как видно из данных, среднее время жизни платформы около 10 лет, а болльшинство платформ появляется в 2006 году.**"
   ]
  },
  {
   "cell_type": "markdown",
   "metadata": {},
   "source": [
    "Видно, что у платформы DS присутствует странный выброс в тот год, когда платформа еще не существовала. Удалим эту строчку."
   ]
  },
  {
   "cell_type": "code",
   "execution_count": 26,
   "metadata": {},
   "outputs": [],
   "source": [
    "data = data.drop(data[(data.platform == 'DS') & (data.year_of_release == 1985)].index, axis = 0)"
   ]
  },
  {
   "cell_type": "markdown",
   "metadata": {},
   "source": [
    "**Учитывая данные из предыдущего пункта, определим актуальный период с 2013 по 2016.**"
   ]
  },
  {
   "cell_type": "code",
   "execution_count": 27,
   "metadata": {},
   "outputs": [],
   "source": [
    "actual_data = data.query('year_of_release >= 2013')"
   ]
  },
  {
   "cell_type": "code",
   "execution_count": 28,
   "metadata": {},
   "outputs": [
    {
     "data": {
      "image/png": "[encoded data removed]",
      "text/plain": [
       "<Figure size 1080x360 with 1 Axes>"
      ]
     },
     "metadata": {
      "needs_background": "light"
     },
     "output_type": "display_data"
    }
   ],
   "source": [
    "(\n",
    "    actual_data\n",
    "    .pivot_table(index='year_of_release', columns='platform', values='avg_sales', aggfunc='sum')\n",
    "    .plot(figsize=(15, 5))\n",
    ")\n",
    "plt.show()"
   ]
  },
  {
   "cell_type": "markdown",
   "metadata": {},
   "source": [
    "Из графика видно, что продажи растут у PS4, XOne, 3DS, WiiU и PSV. На убыль идут приставки предыдущего поколения PS3, X360, DS, Wii. Так же можно заметить, что PC демонстрирует стабильность и эту платформу в рассмотрение."
   ]
  },
  {
   "cell_type": "markdown",
   "metadata": {},
   "source": [
    "В итоге выберем как потенциально прибыльные 6 платформ:\n",
    "- `PS4`\n",
    "- `XOne`\n",
    "- `PC`\n",
    "- `PSV`\n",
    "- `3DS`\n",
    "- `WiiU`"
   ]
  },
  {
   "cell_type": "markdown",
   "metadata": {},
   "source": [
    "Построим 'ящик с усами' для каждой платформы среди топ платформ."
   ]
  },
  {
   "cell_type": "code",
   "execution_count": 29,
   "metadata": {},
   "outputs": [
    {
     "data": {
      "image/png": "[encoded data removed]",
      "text/plain": [
       "<Figure size 1080x360 with 1 Axes>"
      ]
     },
     "metadata": {
      "needs_background": "light"
     },
     "output_type": "display_data"
    }
   ],
   "source": [
    "(\n",
    "    actual_data\n",
    "    .pivot_table(index='name', columns='platform', values='avg_sales', aggfunc='sum')\n",
    "    .plot(kind='box', ylim=(0,2), figsize=(15, 5))\n",
    ")\n",
    "plt.show()"
   ]
  },
  {
   "cell_type": "markdown",
   "metadata": {},
   "source": [
    "#### Рассмотрим зависимость количества продаж от оценок критиков и пользователей"
   ]
  },
  {
   "cell_type": "markdown",
   "metadata": {},
   "source": [
    "##### PS4"
   ]
  },
  {
   "cell_type": "code",
   "execution_count": 30,
   "metadata": {
    "scrolled": false
   },
   "outputs": [
    {
     "data": {
      "image/png": "[encoded data removed]",
      "text/plain": [
       "<Figure size 432x288 with 1 Axes>"
      ]
     },
     "metadata": {
      "needs_background": "light"
     },
     "output_type": "display_data"
    },
    {
     "data": {
      "image/png": "[encoded data removed]",
      "text/plain": [
       "<Figure size 432x288 with 1 Axes>"
      ]
     },
     "metadata": {
      "needs_background": "light"
     },
     "output_type": "display_data"
    },
    {
     "data": {
      "image/png": "[encoded data removed]",
      "text/plain": [
       "<Figure size 432x288 with 1 Axes>"
      ]
     },
     "metadata": {
      "needs_background": "light"
     },
     "output_type": "display_data"
    },
    {
     "data": {
      "text/html": [
       "<div>\n",
       "<style scoped>\n",
       "    .dataframe tbody tr th:only-of-type {\n",
       "        vertical-align: middle;\n",
       "    }\n",
       "\n",
       "    .dataframe tbody tr th {\n",
       "        vertical-align: top;\n",
       "    }\n",
       "\n",
       "    .dataframe thead th {\n",
       "        text-align: right;\n",
       "    }\n",
       "</style>\n",
       "<table border=\"1\" class=\"dataframe\">\n",
       "  <thead>\n",
       "    <tr style=\"text-align: right;\">\n",
       "      <th></th>\n",
       "      <th>avg_sales</th>\n",
       "      <th>user_score</th>\n",
       "    </tr>\n",
       "  </thead>\n",
       "  <tbody>\n",
       "    <tr>\n",
       "      <th>avg_sales</th>\n",
       "      <td>1.000000</td>\n",
       "      <td>-0.033625</td>\n",
       "    </tr>\n",
       "    <tr>\n",
       "      <th>user_score</th>\n",
       "      <td>-0.033625</td>\n",
       "      <td>1.000000</td>\n",
       "    </tr>\n",
       "  </tbody>\n",
       "</table>\n",
       "</div>"
      ],
      "text/plain": [
       "            avg_sales  user_score\n",
       "avg_sales    1.000000   -0.033625\n",
       "user_score  -0.033625    1.000000"
      ]
     },
     "execution_count": 30,
     "metadata": {},
     "output_type": "execute_result"
    }
   ],
   "source": [
    "PS4_data = actual_data.query('platform == \"PS4\" and (not critic_score.isnull()) and (not user_score.isnull())')\n",
    "PS4_data.plot(x='user_score', y='critic_score', kind='scatter')\n",
    "PS4_data.plot(x='user_score', y='avg_sales', kind='scatter')\n",
    "PS4_data.plot(x='critic_score', y='avg_sales', kind='scatter')\n",
    "plt.show()\n",
    "PS4_corr = PS4_data.loc[:,['avg_sales', 'critic_score', 'user_score']]\n",
    "PS4_corr.corr()"
   ]
  },
  {
   "cell_type": "markdown",
   "metadata": {},
   "source": [
    "##### XOne"
   ]
  },
  {
   "cell_type": "code",
   "execution_count": 31,
   "metadata": {
    "scrolled": false
   },
   "outputs": [
    {
     "data": {
      "image/png": "[encoded data removed]",
      "text/plain": [
       "<Figure size 432x288 with 1 Axes>"
      ]
     },
     "metadata": {
      "needs_background": "light"
     },
     "output_type": "display_data"
    },
    {
     "data": {
      "image/png": "[encoded data removed]",
      "text/plain": [
       "<Figure size 432x288 with 1 Axes>"
      ]
     },
     "metadata": {
      "needs_background": "light"
     },
     "output_type": "display_data"
    },
    {
     "data": {
      "image/png": "[encoded data removed]",
      "text/plain": [
       "<Figure size 432x288 with 1 Axes>"
      ]
     },
     "metadata": {
      "needs_background": "light"
     },
     "output_type": "display_data"
    },
    {
     "data": {
      "text/html": [
       "<div>\n",
       "<style scoped>\n",
       "    .dataframe tbody tr th:only-of-type {\n",
       "        vertical-align: middle;\n",
       "    }\n",
       "\n",
       "    .dataframe tbody tr th {\n",
       "        vertical-align: top;\n",
       "    }\n",
       "\n",
       "    .dataframe thead th {\n",
       "        text-align: right;\n",
       "    }\n",
       "</style>\n",
       "<table border=\"1\" class=\"dataframe\">\n",
       "  <thead>\n",
       "    <tr style=\"text-align: right;\">\n",
       "      <th></th>\n",
       "      <th>avg_sales</th>\n",
       "      <th>user_score</th>\n",
       "    </tr>\n",
       "  </thead>\n",
       "  <tbody>\n",
       "    <tr>\n",
       "      <th>avg_sales</th>\n",
       "      <td>1.000000</td>\n",
       "      <td>-0.094003</td>\n",
       "    </tr>\n",
       "    <tr>\n",
       "      <th>user_score</th>\n",
       "      <td>-0.094003</td>\n",
       "      <td>1.000000</td>\n",
       "    </tr>\n",
       "  </tbody>\n",
       "</table>\n",
       "</div>"
      ],
      "text/plain": [
       "            avg_sales  user_score\n",
       "avg_sales    1.000000   -0.094003\n",
       "user_score  -0.094003    1.000000"
      ]
     },
     "execution_count": 31,
     "metadata": {},
     "output_type": "execute_result"
    }
   ],
   "source": [
    "XOne_data = actual_data.query('platform == \"XOne\" and (not critic_score.isnull()) and (not user_score.isnull())')\n",
    "XOne_data.plot(x='user_score', y='critic_score', kind='scatter')\n",
    "\n",
    "XOne_data.plot(x='user_score', y='avg_sales', kind='scatter')\n",
    "XOne_data.plot(x='critic_score', y='avg_sales', kind='scatter')\n",
    "plt.show()\n",
    "XOne_corr = XOne_data.loc[:,['avg_sales', 'critic_score', 'user_score']]\n",
    "XOne_corr.corr()"
   ]
  },
  {
   "cell_type": "markdown",
   "metadata": {},
   "source": [
    "##### PC"
   ]
  },
  {
   "cell_type": "code",
   "execution_count": 32,
   "metadata": {
    "scrolled": false
   },
   "outputs": [
    {
     "data": {
      "image/png": "[encoded data removed]",
      "text/plain": [
       "<Figure size 432x288 with 1 Axes>"
      ]
     },
     "metadata": {
      "needs_background": "light"
     },
     "output_type": "display_data"
    },
    {
     "data": {
      "image/png": "[encoded data removed]",
      "text/plain": [
       "<Figure size 432x288 with 1 Axes>"
      ]
     },
     "metadata": {
      "needs_background": "light"
     },
     "output_type": "display_data"
    },
    {
     "data": {
      "image/png": "[encoded data removed]",
      "text/plain": [
       "<Figure size 432x288 with 1 Axes>"
      ]
     },
     "metadata": {
      "needs_background": "light"
     },
     "output_type": "display_data"
    },
    {
     "data": {
      "text/html": [
       "<div>\n",
       "<style scoped>\n",
       "    .dataframe tbody tr th:only-of-type {\n",
       "        vertical-align: middle;\n",
       "    }\n",
       "\n",
       "    .dataframe tbody tr th {\n",
       "        vertical-align: top;\n",
       "    }\n",
       "\n",
       "    .dataframe thead th {\n",
       "        text-align: right;\n",
       "    }\n",
       "</style>\n",
       "<table border=\"1\" class=\"dataframe\">\n",
       "  <thead>\n",
       "    <tr style=\"text-align: right;\">\n",
       "      <th></th>\n",
       "      <th>avg_sales</th>\n",
       "      <th>user_score</th>\n",
       "    </tr>\n",
       "  </thead>\n",
       "  <tbody>\n",
       "    <tr>\n",
       "      <th>avg_sales</th>\n",
       "      <td>1.000000</td>\n",
       "      <td>-0.109235</td>\n",
       "    </tr>\n",
       "    <tr>\n",
       "      <th>user_score</th>\n",
       "      <td>-0.109235</td>\n",
       "      <td>1.000000</td>\n",
       "    </tr>\n",
       "  </tbody>\n",
       "</table>\n",
       "</div>"
      ],
      "text/plain": [
       "            avg_sales  user_score\n",
       "avg_sales    1.000000   -0.109235\n",
       "user_score  -0.109235    1.000000"
      ]
     },
     "execution_count": 32,
     "metadata": {},
     "output_type": "execute_result"
    }
   ],
   "source": [
    "PC_data = actual_data.query('platform == \"PC\" and (not critic_score.isnull()) and (not user_score.isnull())')\n",
    "PC_data.plot(x='user_score', y='critic_score', kind='scatter')\n",
    "PC_data.plot(x='user_score', y='avg_sales', kind='scatter')\n",
    "PC_data.plot(x='critic_score', y='avg_sales', kind='scatter')\n",
    "plt.show()\n",
    "PC_corr = PC_data.loc[:,['avg_sales', 'critic_score', 'user_score']]\n",
    "PC_corr.corr()"
   ]
  },
  {
   "cell_type": "markdown",
   "metadata": {},
   "source": [
    "По выбранным платформам можно сказать, что оценки критиков сильнее влияют на количество продаж, чем оценки пользователей."
   ]
  },
  {
   "cell_type": "code",
   "execution_count": 33,
   "metadata": {},
   "outputs": [
    {
     "data": {
      "image/png": "[encoded data removed]",
      "text/plain": [
       "<Figure size 720x720 with 1 Axes>"
      ]
     },
     "metadata": {},
     "output_type": "display_data"
    }
   ],
   "source": [
    "(\n",
    "    actual_data\n",
    "    .pivot_table(index ='genre', values='avg_sales', aggfunc='sum')\n",
    "    .sort_values(ascending=False, by='avg_sales')\n",
    "    .plot(kind='pie', figsize=(10,10), subplots=True)\n",
    ")\n",
    "plt.show()"
   ]
  },
  {
   "cell_type": "code",
   "execution_count": 34,
   "metadata": {},
   "outputs": [
    {
     "data": {
      "text/html": [
       "<div>\n",
       "<style scoped>\n",
       "    .dataframe tbody tr th:only-of-type {\n",
       "        vertical-align: middle;\n",
       "    }\n",
       "\n",
       "    .dataframe tbody tr th {\n",
       "        vertical-align: top;\n",
       "    }\n",
       "\n",
       "    .dataframe thead th {\n",
       "        text-align: right;\n",
       "    }\n",
       "</style>\n",
       "<table border=\"1\" class=\"dataframe\">\n",
       "  <thead>\n",
       "    <tr style=\"text-align: right;\">\n",
       "      <th></th>\n",
       "      <th>avg_sales</th>\n",
       "    </tr>\n",
       "    <tr>\n",
       "      <th>genre</th>\n",
       "      <th></th>\n",
       "    </tr>\n",
       "  </thead>\n",
       "  <tbody>\n",
       "    <tr>\n",
       "      <th>Action</th>\n",
       "      <td>321.87</td>\n",
       "    </tr>\n",
       "    <tr>\n",
       "      <th>Shooter</th>\n",
       "      <td>232.98</td>\n",
       "    </tr>\n",
       "    <tr>\n",
       "      <th>Sports</th>\n",
       "      <td>150.65</td>\n",
       "    </tr>\n",
       "    <tr>\n",
       "      <th>Role-Playing</th>\n",
       "      <td>145.89</td>\n",
       "    </tr>\n",
       "    <tr>\n",
       "      <th>Misc</th>\n",
       "      <td>62.82</td>\n",
       "    </tr>\n",
       "    <tr>\n",
       "      <th>Platform</th>\n",
       "      <td>42.63</td>\n",
       "    </tr>\n",
       "    <tr>\n",
       "      <th>Racing</th>\n",
       "      <td>39.89</td>\n",
       "    </tr>\n",
       "    <tr>\n",
       "      <th>Fighting</th>\n",
       "      <td>35.31</td>\n",
       "    </tr>\n",
       "    <tr>\n",
       "      <th>Adventure</th>\n",
       "      <td>23.64</td>\n",
       "    </tr>\n",
       "    <tr>\n",
       "      <th>Simulation</th>\n",
       "      <td>21.76</td>\n",
       "    </tr>\n",
       "    <tr>\n",
       "      <th>Strategy</th>\n",
       "      <td>10.08</td>\n",
       "    </tr>\n",
       "    <tr>\n",
       "      <th>Puzzle</th>\n",
       "      <td>3.17</td>\n",
       "    </tr>\n",
       "  </tbody>\n",
       "</table>\n",
       "</div>"
      ],
      "text/plain": [
       "              avg_sales\n",
       "genre                  \n",
       "Action           321.87\n",
       "Shooter          232.98\n",
       "Sports           150.65\n",
       "Role-Playing     145.89\n",
       "Misc              62.82\n",
       "Platform          42.63\n",
       "Racing            39.89\n",
       "Fighting          35.31\n",
       "Adventure         23.64\n",
       "Simulation        21.76\n",
       "Strategy          10.08\n",
       "Puzzle             3.17"
      ]
     },
     "execution_count": 34,
     "metadata": {},
     "output_type": "execute_result"
    }
   ],
   "source": [
    "genres_data = actual_data.pivot_table(index='genre', values='avg_sales', aggfunc='sum').sort_values(by='avg_sales', ascending=False)\n",
    "genres_data"
   ]
  },
  {
   "cell_type": "code",
   "execution_count": 35,
   "metadata": {},
   "outputs": [
    {
     "data": {
      "text/plain": [
       "count    766.000000\n",
       "mean       0.420196\n",
       "std        1.253909\n",
       "min        0.010000\n",
       "25%        0.030000\n",
       "50%        0.110000\n",
       "75%        0.337500\n",
       "max       21.050000\n",
       "Name: avg_sales, dtype: float64"
      ]
     },
     "execution_count": 35,
     "metadata": {},
     "output_type": "execute_result"
    },
    {
     "data": {
      "image/png": "[encoded data removed]",
      "text/plain": [
       "<Figure size 1080x360 with 1 Axes>"
      ]
     },
     "metadata": {
      "needs_background": "light"
     },
     "output_type": "display_data"
    },
    {
     "data": {
      "image/png": "[encoded data removed]",
      "text/plain": [
       "<Figure size 1080x360 with 1 Axes>"
      ]
     },
     "metadata": {
      "needs_background": "light"
     },
     "output_type": "display_data"
    }
   ],
   "source": [
    "action_data = actual_data.query('genre == \"Action\"')\n",
    "action_data.plot(y = 'avg_sales', kind='box', figsize=(15, 5))\n",
    "action_data.plot(y = 'avg_sales', kind='box', ylim=(0,1), figsize=(15, 5))\n",
    "action_data['avg_sales'].describe()"
   ]
  },
  {
   "cell_type": "code",
   "execution_count": 36,
   "metadata": {},
   "outputs": [
    {
     "data": {
      "text/plain": [
       "count    187.000000\n",
       "mean       1.245882\n",
       "std        2.014107\n",
       "min        0.010000\n",
       "25%        0.140000\n",
       "50%        0.450000\n",
       "75%        1.425000\n",
       "max       14.630000\n",
       "Name: avg_sales, dtype: float64"
      ]
     },
     "execution_count": 36,
     "metadata": {},
     "output_type": "execute_result"
    },
    {
     "data": {
      "image/png": "[encoded data removed]",
      "text/plain": [
       "<Figure size 1080x360 with 1 Axes>"
      ]
     },
     "metadata": {
      "needs_background": "light"
     },
     "output_type": "display_data"
    },
    {
     "data": {
      "image/png": "[encoded data removed]",
      "text/plain": [
       "<Figure size 1080x360 with 1 Axes>"
      ]
     },
     "metadata": {
      "needs_background": "light"
     },
     "output_type": "display_data"
    }
   ],
   "source": [
    "shooter_data = actual_data.query('genre == \"Shooter\"')\n",
    "shooter_data.plot(y = 'avg_sales', kind='box', figsize=(15, 5))\n",
    "shooter_data.plot(y = 'avg_sales', kind='box', ylim=(0,4), figsize=(15, 5))\n",
    "shooter_data['avg_sales'].describe()"
   ]
  },
  {
   "cell_type": "code",
   "execution_count": 37,
   "metadata": {},
   "outputs": [
    {
     "data": {
      "text/plain": [
       "count    214.000000\n",
       "mean       0.703972\n",
       "std        1.219237\n",
       "min        0.010000\n",
       "25%        0.070000\n",
       "50%        0.240000\n",
       "75%        0.765000\n",
       "max        8.580000\n",
       "Name: avg_sales, dtype: float64"
      ]
     },
     "execution_count": 37,
     "metadata": {},
     "output_type": "execute_result"
    },
    {
     "data": {
      "image/png": "[encoded data removed]",
      "text/plain": [
       "<Figure size 1080x360 with 1 Axes>"
      ]
     },
     "metadata": {
      "needs_background": "light"
     },
     "output_type": "display_data"
    },
    {
     "data": {
      "image/png": "[encoded data removed]",
      "text/plain": [
       "<Figure size 1080x360 with 1 Axes>"
      ]
     },
     "metadata": {
      "needs_background": "light"
     },
     "output_type": "display_data"
    }
   ],
   "source": [
    "sports_data = actual_data.query('genre == \"Sports\"')\n",
    "sports_data.plot(y = 'avg_sales', kind='box', figsize=(15, 5))\n",
    "sports_data.plot(y = 'avg_sales', kind='box', ylim=(0,2), figsize=(15, 5))\n",
    "sports_data['avg_sales'].describe()"
   ]
  },
  {
   "cell_type": "code",
   "execution_count": 38,
   "metadata": {},
   "outputs": [
    {
     "data": {
      "text/plain": [
       "count    292.000000\n",
       "mean       0.499623\n",
       "std        1.353164\n",
       "min        0.010000\n",
       "25%        0.060000\n",
       "50%        0.125000\n",
       "75%        0.382500\n",
       "max       14.600000\n",
       "Name: avg_sales, dtype: float64"
      ]
     },
     "execution_count": 38,
     "metadata": {},
     "output_type": "execute_result"
    },
    {
     "data": {
      "image/png": "[encoded data removed]",
      "text/plain": [
       "<Figure size 1080x360 with 1 Axes>"
      ]
     },
     "metadata": {
      "needs_background": "light"
     },
     "output_type": "display_data"
    },
    {
     "data": {
      "image/png": "[encoded data removed]",
      "text/plain": [
       "<Figure size 1080x360 with 1 Axes>"
      ]
     },
     "metadata": {
      "needs_background": "light"
     },
     "output_type": "display_data"
    }
   ],
   "source": [
    "role_playing_data = actual_data.query('genre == \"Role-Playing\"')\n",
    "role_playing_data.plot(y = 'avg_sales', kind='box', figsize=(15, 5))\n",
    "role_playing_data.plot(y = 'avg_sales', kind='box', ylim=(0,1), figsize=(15, 5))\n",
    "role_playing_data['avg_sales'].describe()"
   ]
  },
  {
   "cell_type": "code",
   "execution_count": 39,
   "metadata": {},
   "outputs": [
    {
     "data": {
      "text/plain": [
       "count    155.000000\n",
       "mean       0.405290\n",
       "std        1.007985\n",
       "min        0.010000\n",
       "25%        0.030000\n",
       "50%        0.100000\n",
       "75%        0.330000\n",
       "max        9.180000\n",
       "Name: avg_sales, dtype: float64"
      ]
     },
     "execution_count": 39,
     "metadata": {},
     "output_type": "execute_result"
    },
    {
     "data": {
      "image/png": "[encoded data removed]",
      "text/plain": [
       "<Figure size 1080x360 with 1 Axes>"
      ]
     },
     "metadata": {
      "needs_background": "light"
     },
     "output_type": "display_data"
    },
    {
     "data": {
      "image/png": "[encoded data removed]",
      "text/plain": [
       "<Figure size 1080x360 with 1 Axes>"
      ]
     },
     "metadata": {
      "needs_background": "light"
     },
     "output_type": "display_data"
    }
   ],
   "source": [
    "misc_data = actual_data.query('genre == \"Misc\"')\n",
    "misc_data.plot(y = 'avg_sales', kind='box', figsize=(15, 5))\n",
    "misc_data.plot(y = 'avg_sales', kind='box', ylim=(0,1), figsize=(15, 5))\n",
    "misc_data['avg_sales'].describe()"
   ]
  },
  {
   "cell_type": "code",
   "execution_count": 40,
   "metadata": {},
   "outputs": [
    {
     "data": {
      "text/plain": [
       "count    74.000000\n",
       "mean      0.576081\n",
       "std       0.806808\n",
       "min       0.010000\n",
       "25%       0.090000\n",
       "50%       0.225000\n",
       "75%       0.627500\n",
       "max       4.320000\n",
       "Name: avg_sales, dtype: float64"
      ]
     },
     "execution_count": 40,
     "metadata": {},
     "output_type": "execute_result"
    },
    {
     "data": {
      "image/png": "[encoded data removed]",
      "text/plain": [
       "<Figure size 1080x360 with 1 Axes>"
      ]
     },
     "metadata": {
      "needs_background": "light"
     },
     "output_type": "display_data"
    },
    {
     "data": {
      "image/png": "[encoded data removed]",
      "text/plain": [
       "<Figure size 1080x360 with 1 Axes>"
      ]
     },
     "metadata": {
      "needs_background": "light"
     },
     "output_type": "display_data"
    }
   ],
   "source": [
    "platform_data = actual_data.query('genre == \"Platform\"')\n",
    "platform_data.plot(y = 'avg_sales', kind='box', figsize=(15, 5))\n",
    "platform_data.plot(y = 'avg_sales', kind='box', ylim=(0,1.5), figsize=(15, 5))\n",
    "platform_data['avg_sales'].describe()"
   ]
  },
  {
   "cell_type": "code",
   "execution_count": 41,
   "metadata": {},
   "outputs": [
    {
     "data": {
      "text/plain": [
       "count    85.000000\n",
       "mean      0.469294\n",
       "std       0.964101\n",
       "min       0.010000\n",
       "25%       0.050000\n",
       "50%       0.120000\n",
       "75%       0.380000\n",
       "max       7.090000\n",
       "Name: avg_sales, dtype: float64"
      ]
     },
     "execution_count": 41,
     "metadata": {},
     "output_type": "execute_result"
    },
    {
     "data": {
      "image/png": "[encoded data removed]",
      "text/plain": [
       "<Figure size 1080x360 with 1 Axes>"
      ]
     },
     "metadata": {
      "needs_background": "light"
     },
     "output_type": "display_data"
    },
    {
     "data": {
      "image/png": "[encoded data removed]",
      "text/plain": [
       "<Figure size 1080x360 with 1 Axes>"
      ]
     },
     "metadata": {
      "needs_background": "light"
     },
     "output_type": "display_data"
    }
   ],
   "source": [
    "racing_data = actual_data.query('genre == \"Racing\"')\n",
    "racing_data.plot(y = 'avg_sales', kind='box', figsize=(15, 5))\n",
    "racing_data.plot(y = 'avg_sales', kind='box', ylim=(0,1), figsize=(15, 5))\n",
    "racing_data['avg_sales'].describe()"
   ]
  },
  {
   "cell_type": "code",
   "execution_count": 42,
   "metadata": {},
   "outputs": [
    {
     "data": {
      "text/plain": [
       "count    80.000000\n",
       "mean      0.441375\n",
       "std       1.048883\n",
       "min       0.010000\n",
       "25%       0.060000\n",
       "50%       0.125000\n",
       "75%       0.322500\n",
       "max       7.550000\n",
       "Name: avg_sales, dtype: float64"
      ]
     },
     "execution_count": 42,
     "metadata": {},
     "output_type": "execute_result"
    },
    {
     "data": {
      "image/png": "[encoded data removed]",
      "text/plain": [
       "<Figure size 1080x360 with 1 Axes>"
      ]
     },
     "metadata": {
      "needs_background": "light"
     },
     "output_type": "display_data"
    },
    {
     "data": {
      "image/png": "[encoded data removed]",
      "text/plain": [
       "<Figure size 1080x360 with 1 Axes>"
      ]
     },
     "metadata": {
      "needs_background": "light"
     },
     "output_type": "display_data"
    }
   ],
   "source": [
    "fighting_data = actual_data.query('genre == \"Fighting\"')\n",
    "fighting_data.plot(y = 'avg_sales', kind='box', figsize=(15, 5))\n",
    "fighting_data.plot(y = 'avg_sales', kind='box', ylim=(0,1), figsize=(15, 5))\n",
    "fighting_data['avg_sales'].describe()"
   ]
  },
  {
   "cell_type": "code",
   "execution_count": 43,
   "metadata": {},
   "outputs": [
    {
     "data": {
      "text/plain": [
       "count    245.000000\n",
       "mean       0.096490\n",
       "std        0.216445\n",
       "min        0.010000\n",
       "25%        0.020000\n",
       "50%        0.030000\n",
       "75%        0.070000\n",
       "max        1.660000\n",
       "Name: avg_sales, dtype: float64"
      ]
     },
     "execution_count": 43,
     "metadata": {},
     "output_type": "execute_result"
    },
    {
     "data": {
      "image/png": "[encoded data removed]",
      "text/plain": [
       "<Figure size 1080x360 with 1 Axes>"
      ]
     },
     "metadata": {
      "needs_background": "light"
     },
     "output_type": "display_data"
    },
    {
     "data": {
      "image/png": "[encoded data removed]",
      "text/plain": [
       "<Figure size 1080x360 with 1 Axes>"
      ]
     },
     "metadata": {
      "needs_background": "light"
     },
     "output_type": "display_data"
    }
   ],
   "source": [
    "adventure_data = actual_data.query('genre == \"Adventure\"')\n",
    "adventure_data.plot(y = 'avg_sales', kind='box', figsize=(15, 5))\n",
    "adventure_data.plot(y = 'avg_sales', kind='box', ylim=(0,0.2), figsize=(15, 5))\n",
    "adventure_data['avg_sales'].describe()"
   ]
  },
  {
   "cell_type": "code",
   "execution_count": 44,
   "metadata": {},
   "outputs": [
    {
     "data": {
      "text/plain": [
       "count    62.000000\n",
       "mean      0.350968\n",
       "std       0.849163\n",
       "min       0.010000\n",
       "25%       0.030000\n",
       "50%       0.100000\n",
       "75%       0.295000\n",
       "max       5.220000\n",
       "Name: avg_sales, dtype: float64"
      ]
     },
     "execution_count": 44,
     "metadata": {},
     "output_type": "execute_result"
    },
    {
     "data": {
      "image/png": "[encoded data removed]",
      "text/plain": [
       "<Figure size 1080x360 with 1 Axes>"
      ]
     },
     "metadata": {
      "needs_background": "light"
     },
     "output_type": "display_data"
    },
    {
     "data": {
      "image/png": "[encoded data removed]",
      "text/plain": [
       "<Figure size 1080x360 with 1 Axes>"
      ]
     },
     "metadata": {
      "needs_background": "light"
     },
     "output_type": "display_data"
    }
   ],
   "source": [
    "simulation_data = actual_data.query('genre == \"Simulation\"')\n",
    "simulation_data.plot(y = 'avg_sales', kind='box', figsize=(15, 5))\n",
    "simulation_data.plot(y = 'avg_sales', kind='box', ylim=(0,1), figsize=(15, 5))\n",
    "simulation_data['avg_sales'].describe()"
   ]
  },
  {
   "cell_type": "code",
   "execution_count": 45,
   "metadata": {},
   "outputs": [
    {
     "data": {
      "text/plain": [
       "count    56.000000\n",
       "mean      0.180000\n",
       "std       0.279441\n",
       "min       0.010000\n",
       "25%       0.040000\n",
       "50%       0.080000\n",
       "75%       0.232500\n",
       "max       1.670000\n",
       "Name: avg_sales, dtype: float64"
      ]
     },
     "execution_count": 45,
     "metadata": {},
     "output_type": "execute_result"
    },
    {
     "data": {
      "image/png": "[encoded data removed]",
      "text/plain": [
       "<Figure size 1080x360 with 1 Axes>"
      ]
     },
     "metadata": {
      "needs_background": "light"
     },
     "output_type": "display_data"
    },
    {
     "data": {
      "image/png": "[encoded data removed]",
      "text/plain": [
       "<Figure size 1080x360 with 1 Axes>"
      ]
     },
     "metadata": {
      "needs_background": "light"
     },
     "output_type": "display_data"
    }
   ],
   "source": [
    "strategy_data = actual_data.query('genre == \"Strategy\"')\n",
    "strategy_data.plot(y = 'avg_sales', kind='box', figsize=(15, 5))\n",
    "strategy_data.plot(y = 'avg_sales', kind='box', ylim=(0,0.6), figsize=(15, 5))\n",
    "strategy_data['avg_sales'].describe()"
   ]
  },
  {
   "cell_type": "code",
   "execution_count": 46,
   "metadata": {},
   "outputs": [
    {
     "data": {
      "text/plain": [
       "count    17.000000\n",
       "mean      0.186471\n",
       "std       0.325172\n",
       "min       0.010000\n",
       "25%       0.020000\n",
       "50%       0.060000\n",
       "75%       0.110000\n",
       "max       1.190000\n",
       "Name: avg_sales, dtype: float64"
      ]
     },
     "execution_count": 46,
     "metadata": {},
     "output_type": "execute_result"
    },
    {
     "data": {
      "image/png": "[encoded data removed]",
      "text/plain": [
       "<Figure size 1080x360 with 1 Axes>"
      ]
     },
     "metadata": {
      "needs_background": "light"
     },
     "output_type": "display_data"
    },
    {
     "data": {
      "image/png": "[encoded data removed]",
      "text/plain": [
       "<Figure size 1080x360 with 1 Axes>"
      ]
     },
     "metadata": {
      "needs_background": "light"
     },
     "output_type": "display_data"
    }
   ],
   "source": [
    "puzzle_data = actual_data.query('genre == \"Puzzle\"')\n",
    "puzzle_data.plot(y = 'avg_sales', kind='box', figsize=(15, 5))\n",
    "puzzle_data.plot(y = 'avg_sales', kind='box', ylim=(0,0.2), figsize=(15, 5))\n",
    "puzzle_data['avg_sales'].describe()"
   ]
  },
  {
   "cell_type": "markdown",
   "metadata": {},
   "source": [
    "**Вывод: Видно, что около половины продаж составляют игры следующих жанров: `Action`, `Sports`, `Shooter` `Misc` и `Role-Playing`. Они явно выделяются на фоне остальных. Наименее прибыльными являются игры жанров: `Puzzle` и `Strategy`. Так же построив диаграммы размаха видим, что у первых пяти жанров есть большие вобросы, за счет которых и получаются такие большие значения, а менее популярные жанры игр приносят в среднем меньше прибыли, но отличаются стабильностью.**"
   ]
  },
  {
   "cell_type": "markdown",
   "metadata": {},
   "source": [
    "### Составим портрет пользователя каждого региона"
   ]
  },
  {
   "cell_type": "markdown",
   "metadata": {},
   "source": [
    "\n",
    "**Выберем в качестве актуального период с 2013 года (данные за этот период собраны в таблице `actual_data`)**"
   ]
  },
  {
   "cell_type": "code",
   "execution_count": 47,
   "metadata": {},
   "outputs": [],
   "source": [
    "# Создаем таблицы с данными для каждого региона\n",
    "\n",
    "# Таблицы для Северной Америки:\n",
    "na_platform_data = (\n",
    "    actual_data\n",
    "    .pivot_table(index='platform', values='na_sales', aggfunc='sum')\n",
    "    .sort_values(by='na_sales', ascending=False)\n",
    "    .reset_index()\n",
    ")\n",
    "na_top_platforms = na_platform_data.head(5)\n",
    "others_sum = sum(na_platform_data.loc[5:, 'na_sales'])\n",
    "na_platform_data = (\n",
    "    na_platform_data\n",
    "    .query('platform in @na_top_platforms[\"platform\"]')\n",
    ")\n",
    "last_line = {'platform' : 'others', 'na_sales' : others_sum}\n",
    "na_platform_data = na_platform_data.append(last_line, ignore_index = True)\n",
    "\n",
    "\n",
    "na_genre_data = (\n",
    "    actual_data\n",
    "    .pivot_table(index='genre', values='na_sales', aggfunc='sum')\n",
    "    .sort_values(by='na_sales', ascending=False)\n",
    "    .reset_index()\n",
    ")\n",
    "na_top_genres = na_genre_data.head(5)\n",
    "others_sum = sum(na_genre_data.loc[5:, 'na_sales'])\n",
    "na_genre_data = (\n",
    "    na_genre_data\n",
    "    .query('genre in @na_top_genres[\"genre\"]')\n",
    ")\n",
    "last_line = {'genre' : 'others', 'na_sales' : others_sum}\n",
    "na_genre_data = na_genre_data.append(last_line, ignore_index = True)\n",
    "\n",
    "\n",
    "na_rating_data = (\n",
    "    actual_data\n",
    "    .pivot_table(index='rating', values='na_sales', aggfunc='sum')\n",
    "    .sort_values(by='na_sales', ascending=False)\n",
    "    .reset_index()\n",
    ")\n",
    "\n",
    "\n",
    "# Таблицы для Европы:\n",
    "eu_platform_data = (\n",
    "    actual_data\n",
    "    .pivot_table(index='platform', values='eu_sales', aggfunc='sum')\n",
    "    .sort_values(by='eu_sales', ascending=False)\n",
    "    .reset_index()\n",
    ")\n",
    "eu_top_platforms = eu_platform_data.head(5)\n",
    "others_sum = sum(eu_platform_data.loc[5:, 'eu_sales'])\n",
    "eu_platform_data = (\n",
    "    eu_platform_data\n",
    "    .query('platform in @eu_top_platforms[\"platform\"]')\n",
    ")\n",
    "last_line = {'platform' : 'others', 'eu_sales' : others_sum}\n",
    "eu_platform_data = eu_platform_data.append(last_line, ignore_index = True)\n",
    "\n",
    "\n",
    "eu_genre_data = (\n",
    "    actual_data\n",
    "    .pivot_table(index='genre', values='eu_sales', aggfunc='sum')\n",
    "    .sort_values(by='eu_sales', ascending=False)\n",
    "    .reset_index()\n",
    ")\n",
    "eu_top_genres = eu_genre_data.head(5)\n",
    "others_sum = sum(eu_genre_data.loc[5:, 'eu_sales'])\n",
    "eu_genre_data = (\n",
    "    eu_genre_data\n",
    "    .query('genre in @eu_top_genres[\"genre\"]')\n",
    ")\n",
    "last_line = {'genre' : 'others', 'eu_sales' : others_sum}\n",
    "eu_genre_data = eu_genre_data.append(last_line, ignore_index = True)\n",
    "\n",
    "\n",
    "eu_rating_data = (\n",
    "    actual_data\n",
    "    .pivot_table(index='rating', values='eu_sales', aggfunc='sum')\n",
    "    .sort_values(by='eu_sales', ascending=False)\n",
    "    .reset_index()\n",
    ")\n",
    "\n",
    "# Таблицы для Японии:\n",
    "jp_platform_data = (\n",
    "    actual_data\n",
    "    .pivot_table(index='platform', values='jp_sales', aggfunc='sum')\n",
    "    .sort_values(by='jp_sales', ascending=False)\n",
    "    .reset_index()\n",
    ")\n",
    "jp_top_platforms = jp_platform_data.head(5)\n",
    "others_sum = sum(jp_platform_data.loc[5:, 'jp_sales'])\n",
    "jp_platform_data = (\n",
    "    jp_platform_data\n",
    "    .query('platform in @jp_top_platforms[\"platform\"]')\n",
    ")\n",
    "last_line = {'platform' : 'others', 'jp_sales' : others_sum}\n",
    "jp_platform_data = jp_platform_data.append(last_line, ignore_index = True)\n",
    "\n",
    "\n",
    "jp_genre_data = (\n",
    "    actual_data\n",
    "    .pivot_table(index='genre', values='jp_sales', aggfunc='sum')\n",
    "    .sort_values(by='jp_sales', ascending=False)\n",
    "    .reset_index()\n",
    ")\n",
    "jp_top_genres = jp_genre_data.head(5)\n",
    "others_sum = sum(jp_genre_data.loc[5:, 'jp_sales'])\n",
    "jp_genre_data = (\n",
    "    jp_genre_data\n",
    "    .query('genre in @jp_top_genres[\"genre\"]')\n",
    ")\n",
    "last_line = {'genre' : 'others', 'jp_sales' : others_sum}\n",
    "jp_genre_data = jp_genre_data.append(last_line, ignore_index = True)\n",
    "\n",
    "\n",
    "jp_rating_data = (\n",
    "    actual_data\n",
    "    .pivot_table(index='rating', values='jp_sales', aggfunc='sum')\n",
    "    .sort_values(by='jp_sales', ascending=False)\n",
    "    .reset_index()\n",
    ")"
   ]
  },
  {
   "cell_type": "markdown",
   "metadata": {},
   "source": [
    "Начнем анализ с популярности платформ \\\n",
    "Выведем топ 5 платформ каждого региона"
   ]
  },
  {
   "cell_type": "code",
   "execution_count": 48,
   "metadata": {},
   "outputs": [
    {
     "name": "stdout",
     "output_type": "stream",
     "text": [
      "Северная Америка:\n"
     ]
    },
    {
     "data": {
      "text/html": [
       "<div>\n",
       "<style scoped>\n",
       "    .dataframe tbody tr th:only-of-type {\n",
       "        vertical-align: middle;\n",
       "    }\n",
       "\n",
       "    .dataframe tbody tr th {\n",
       "        vertical-align: top;\n",
       "    }\n",
       "\n",
       "    .dataframe thead th {\n",
       "        text-align: right;\n",
       "    }\n",
       "</style>\n",
       "<table border=\"1\" class=\"dataframe\">\n",
       "  <thead>\n",
       "    <tr style=\"text-align: right;\">\n",
       "      <th></th>\n",
       "      <th>platform</th>\n",
       "      <th>na_sales</th>\n",
       "    </tr>\n",
       "  </thead>\n",
       "  <tbody>\n",
       "    <tr>\n",
       "      <th>0</th>\n",
       "      <td>PS4</td>\n",
       "      <td>108.74</td>\n",
       "    </tr>\n",
       "    <tr>\n",
       "      <th>1</th>\n",
       "      <td>XOne</td>\n",
       "      <td>93.12</td>\n",
       "    </tr>\n",
       "    <tr>\n",
       "      <th>2</th>\n",
       "      <td>X360</td>\n",
       "      <td>81.66</td>\n",
       "    </tr>\n",
       "    <tr>\n",
       "      <th>3</th>\n",
       "      <td>PS3</td>\n",
       "      <td>63.50</td>\n",
       "    </tr>\n",
       "    <tr>\n",
       "      <th>4</th>\n",
       "      <td>3DS</td>\n",
       "      <td>38.20</td>\n",
       "    </tr>\n",
       "    <tr>\n",
       "      <th>5</th>\n",
       "      <td>others</td>\n",
       "      <td>52.49</td>\n",
       "    </tr>\n",
       "  </tbody>\n",
       "</table>\n",
       "</div>"
      ],
      "text/plain": [
       "  platform  na_sales\n",
       "0      PS4    108.74\n",
       "1     XOne     93.12\n",
       "2     X360     81.66\n",
       "3      PS3     63.50\n",
       "4      3DS     38.20\n",
       "5   others     52.49"
      ]
     },
     "metadata": {},
     "output_type": "display_data"
    },
    {
     "name": "stdout",
     "output_type": "stream",
     "text": [
      "Европа:\n"
     ]
    },
    {
     "data": {
      "text/html": [
       "<div>\n",
       "<style scoped>\n",
       "    .dataframe tbody tr th:only-of-type {\n",
       "        vertical-align: middle;\n",
       "    }\n",
       "\n",
       "    .dataframe tbody tr th {\n",
       "        vertical-align: top;\n",
       "    }\n",
       "\n",
       "    .dataframe thead th {\n",
       "        text-align: right;\n",
       "    }\n",
       "</style>\n",
       "<table border=\"1\" class=\"dataframe\">\n",
       "  <thead>\n",
       "    <tr style=\"text-align: right;\">\n",
       "      <th></th>\n",
       "      <th>platform</th>\n",
       "      <th>eu_sales</th>\n",
       "    </tr>\n",
       "  </thead>\n",
       "  <tbody>\n",
       "    <tr>\n",
       "      <th>0</th>\n",
       "      <td>PS4</td>\n",
       "      <td>141.09</td>\n",
       "    </tr>\n",
       "    <tr>\n",
       "      <th>1</th>\n",
       "      <td>PS3</td>\n",
       "      <td>67.81</td>\n",
       "    </tr>\n",
       "    <tr>\n",
       "      <th>2</th>\n",
       "      <td>XOne</td>\n",
       "      <td>51.59</td>\n",
       "    </tr>\n",
       "    <tr>\n",
       "      <th>3</th>\n",
       "      <td>X360</td>\n",
       "      <td>42.52</td>\n",
       "    </tr>\n",
       "    <tr>\n",
       "      <th>4</th>\n",
       "      <td>3DS</td>\n",
       "      <td>30.96</td>\n",
       "    </tr>\n",
       "    <tr>\n",
       "      <th>5</th>\n",
       "      <td>others</td>\n",
       "      <td>58.26</td>\n",
       "    </tr>\n",
       "  </tbody>\n",
       "</table>\n",
       "</div>"
      ],
      "text/plain": [
       "  platform  eu_sales\n",
       "0      PS4    141.09\n",
       "1      PS3     67.81\n",
       "2     XOne     51.59\n",
       "3     X360     42.52\n",
       "4      3DS     30.96\n",
       "5   others     58.26"
      ]
     },
     "metadata": {},
     "output_type": "display_data"
    },
    {
     "name": "stdout",
     "output_type": "stream",
     "text": [
      "Япония:\n"
     ]
    },
    {
     "data": {
      "text/html": [
       "<div>\n",
       "<style scoped>\n",
       "    .dataframe tbody tr th:only-of-type {\n",
       "        vertical-align: middle;\n",
       "    }\n",
       "\n",
       "    .dataframe tbody tr th {\n",
       "        vertical-align: top;\n",
       "    }\n",
       "\n",
       "    .dataframe thead th {\n",
       "        text-align: right;\n",
       "    }\n",
       "</style>\n",
       "<table border=\"1\" class=\"dataframe\">\n",
       "  <thead>\n",
       "    <tr style=\"text-align: right;\">\n",
       "      <th></th>\n",
       "      <th>platform</th>\n",
       "      <th>jp_sales</th>\n",
       "    </tr>\n",
       "  </thead>\n",
       "  <tbody>\n",
       "    <tr>\n",
       "      <th>0</th>\n",
       "      <td>3DS</td>\n",
       "      <td>67.81</td>\n",
       "    </tr>\n",
       "    <tr>\n",
       "      <th>1</th>\n",
       "      <td>PS3</td>\n",
       "      <td>23.35</td>\n",
       "    </tr>\n",
       "    <tr>\n",
       "      <th>2</th>\n",
       "      <td>PSV</td>\n",
       "      <td>18.59</td>\n",
       "    </tr>\n",
       "    <tr>\n",
       "      <th>3</th>\n",
       "      <td>PS4</td>\n",
       "      <td>15.96</td>\n",
       "    </tr>\n",
       "    <tr>\n",
       "      <th>4</th>\n",
       "      <td>WiiU</td>\n",
       "      <td>10.88</td>\n",
       "    </tr>\n",
       "    <tr>\n",
       "      <th>5</th>\n",
       "      <td>others</td>\n",
       "      <td>4.19</td>\n",
       "    </tr>\n",
       "  </tbody>\n",
       "</table>\n",
       "</div>"
      ],
      "text/plain": [
       "  platform  jp_sales\n",
       "0      3DS     67.81\n",
       "1      PS3     23.35\n",
       "2      PSV     18.59\n",
       "3      PS4     15.96\n",
       "4     WiiU     10.88\n",
       "5   others      4.19"
      ]
     },
     "metadata": {},
     "output_type": "display_data"
    },
    {
     "data": {
      "image/png": "[encoded data removed]",
      "text/plain": [
       "<Figure size 1080x360 with 3 Axes>"
      ]
     },
     "metadata": {
      "needs_background": "light"
     },
     "output_type": "display_data"
    }
   ],
   "source": [
    "print('Северная Америка:')\n",
    "display(na_platform_data)\n",
    "print('Европа:')\n",
    "display(eu_platform_data)\n",
    "print('Япония:')\n",
    "display(jp_platform_data)\n",
    "fig, ax = plt.subplots(nrows=1, ncols=3, figsize=(15, 5))\n",
    "fig.suptitle('Топ 5 платформ за актуальный период в трех регионах')\n",
    "plt.subplot(1, 3, 1, title='Топ платформ за актуальный период в NA')\n",
    "sns.barplot(x=na_platform_data['platform'], y=na_platform_data['na_sales'])\n",
    "plt.subplot(1, 3, 2, title='Топ платформ за актуальный период в EU')\n",
    "sns.barplot(x=eu_platform_data['platform'], y=eu_platform_data['eu_sales'])\n",
    "plt.subplot(1, 3, 3, title='Топ платформ за актуальный период в JP')\n",
    "sns.barplot(x=jp_platform_data['platform'], y=jp_platform_data['jp_sales'])\n",
    "plt.show()"
   ]
  },
  {
   "cell_type": "markdown",
   "metadata": {},
   "source": [
    "Видно, что самыми популярными платформами в Европе и Северной Америке являются одни и те же 5 платформ. Самой популярной в этих регионах является `PS4`. На рынке Японии популярны другие платформы. Там люди отдают предпочтение местной платформе `3DS`. Так же можно заметить, что в Японии доля платформ не из топ 5 очень мала, а в Европе и Северной Америке не топ платформы тоже имеют весомый вклад в продажи.   "
   ]
  },
  {
   "cell_type": "code",
   "execution_count": 49,
   "metadata": {
    "scrolled": true
   },
   "outputs": [
    {
     "name": "stdout",
     "output_type": "stream",
     "text": [
      "Северная Америка:\n"
     ]
    },
    {
     "data": {
      "text/html": [
       "<div>\n",
       "<style scoped>\n",
       "    .dataframe tbody tr th:only-of-type {\n",
       "        vertical-align: middle;\n",
       "    }\n",
       "\n",
       "    .dataframe tbody tr th {\n",
       "        vertical-align: top;\n",
       "    }\n",
       "\n",
       "    .dataframe thead th {\n",
       "        text-align: right;\n",
       "    }\n",
       "</style>\n",
       "<table border=\"1\" class=\"dataframe\">\n",
       "  <thead>\n",
       "    <tr style=\"text-align: right;\">\n",
       "      <th></th>\n",
       "      <th>genre</th>\n",
       "      <th>na_sales</th>\n",
       "    </tr>\n",
       "  </thead>\n",
       "  <tbody>\n",
       "    <tr>\n",
       "      <th>0</th>\n",
       "      <td>Action</td>\n",
       "      <td>126.05</td>\n",
       "    </tr>\n",
       "    <tr>\n",
       "      <th>1</th>\n",
       "      <td>Shooter</td>\n",
       "      <td>109.74</td>\n",
       "    </tr>\n",
       "    <tr>\n",
       "      <th>2</th>\n",
       "      <td>Sports</td>\n",
       "      <td>65.27</td>\n",
       "    </tr>\n",
       "    <tr>\n",
       "      <th>3</th>\n",
       "      <td>Role-Playing</td>\n",
       "      <td>46.40</td>\n",
       "    </tr>\n",
       "    <tr>\n",
       "      <th>4</th>\n",
       "      <td>Misc</td>\n",
       "      <td>27.49</td>\n",
       "    </tr>\n",
       "    <tr>\n",
       "      <th>5</th>\n",
       "      <td>others</td>\n",
       "      <td>62.76</td>\n",
       "    </tr>\n",
       "  </tbody>\n",
       "</table>\n",
       "</div>"
      ],
      "text/plain": [
       "          genre  na_sales\n",
       "0        Action    126.05\n",
       "1       Shooter    109.74\n",
       "2        Sports     65.27\n",
       "3  Role-Playing     46.40\n",
       "4          Misc     27.49\n",
       "5        others     62.76"
      ]
     },
     "metadata": {},
     "output_type": "display_data"
    },
    {
     "name": "stdout",
     "output_type": "stream",
     "text": [
      "Европа:\n"
     ]
    },
    {
     "data": {
      "text/html": [
       "<div>\n",
       "<style scoped>\n",
       "    .dataframe tbody tr th:only-of-type {\n",
       "        vertical-align: middle;\n",
       "    }\n",
       "\n",
       "    .dataframe tbody tr th {\n",
       "        vertical-align: top;\n",
       "    }\n",
       "\n",
       "    .dataframe thead th {\n",
       "        text-align: right;\n",
       "    }\n",
       "</style>\n",
       "<table border=\"1\" class=\"dataframe\">\n",
       "  <thead>\n",
       "    <tr style=\"text-align: right;\">\n",
       "      <th></th>\n",
       "      <th>genre</th>\n",
       "      <th>eu_sales</th>\n",
       "    </tr>\n",
       "  </thead>\n",
       "  <tbody>\n",
       "    <tr>\n",
       "      <th>0</th>\n",
       "      <td>Action</td>\n",
       "      <td>118.13</td>\n",
       "    </tr>\n",
       "    <tr>\n",
       "      <th>1</th>\n",
       "      <td>Shooter</td>\n",
       "      <td>87.86</td>\n",
       "    </tr>\n",
       "    <tr>\n",
       "      <th>2</th>\n",
       "      <td>Sports</td>\n",
       "      <td>60.52</td>\n",
       "    </tr>\n",
       "    <tr>\n",
       "      <th>3</th>\n",
       "      <td>Role-Playing</td>\n",
       "      <td>36.97</td>\n",
       "    </tr>\n",
       "    <tr>\n",
       "      <th>4</th>\n",
       "      <td>Racing</td>\n",
       "      <td>20.19</td>\n",
       "    </tr>\n",
       "    <tr>\n",
       "      <th>5</th>\n",
       "      <td>others</td>\n",
       "      <td>68.56</td>\n",
       "    </tr>\n",
       "  </tbody>\n",
       "</table>\n",
       "</div>"
      ],
      "text/plain": [
       "          genre  eu_sales\n",
       "0        Action    118.13\n",
       "1       Shooter     87.86\n",
       "2        Sports     60.52\n",
       "3  Role-Playing     36.97\n",
       "4        Racing     20.19\n",
       "5        others     68.56"
      ]
     },
     "metadata": {},
     "output_type": "display_data"
    },
    {
     "name": "stdout",
     "output_type": "stream",
     "text": [
      "Япония:\n"
     ]
    },
    {
     "data": {
      "text/html": [
       "<div>\n",
       "<style scoped>\n",
       "    .dataframe tbody tr th:only-of-type {\n",
       "        vertical-align: middle;\n",
       "    }\n",
       "\n",
       "    .dataframe tbody tr th {\n",
       "        vertical-align: top;\n",
       "    }\n",
       "\n",
       "    .dataframe thead th {\n",
       "        text-align: right;\n",
       "    }\n",
       "</style>\n",
       "<table border=\"1\" class=\"dataframe\">\n",
       "  <thead>\n",
       "    <tr style=\"text-align: right;\">\n",
       "      <th></th>\n",
       "      <th>genre</th>\n",
       "      <th>jp_sales</th>\n",
       "    </tr>\n",
       "  </thead>\n",
       "  <tbody>\n",
       "    <tr>\n",
       "      <th>0</th>\n",
       "      <td>Role-Playing</td>\n",
       "      <td>51.04</td>\n",
       "    </tr>\n",
       "    <tr>\n",
       "      <th>1</th>\n",
       "      <td>Action</td>\n",
       "      <td>40.49</td>\n",
       "    </tr>\n",
       "    <tr>\n",
       "      <th>2</th>\n",
       "      <td>Misc</td>\n",
       "      <td>9.20</td>\n",
       "    </tr>\n",
       "    <tr>\n",
       "      <th>3</th>\n",
       "      <td>Fighting</td>\n",
       "      <td>7.65</td>\n",
       "    </tr>\n",
       "    <tr>\n",
       "      <th>4</th>\n",
       "      <td>Shooter</td>\n",
       "      <td>6.61</td>\n",
       "    </tr>\n",
       "    <tr>\n",
       "      <th>5</th>\n",
       "      <td>others</td>\n",
       "      <td>25.79</td>\n",
       "    </tr>\n",
       "  </tbody>\n",
       "</table>\n",
       "</div>"
      ],
      "text/plain": [
       "          genre  jp_sales\n",
       "0  Role-Playing     51.04\n",
       "1        Action     40.49\n",
       "2          Misc      9.20\n",
       "3      Fighting      7.65\n",
       "4       Shooter      6.61\n",
       "5        others     25.79"
      ]
     },
     "metadata": {},
     "output_type": "display_data"
    },
    {
     "data": {
      "image/png": "[encoded data removed]",
      "text/plain": [
       "<Figure size 1080x360 with 3 Axes>"
      ]
     },
     "metadata": {
      "needs_background": "light"
     },
     "output_type": "display_data"
    }
   ],
   "source": [
    "print('Северная Америка:')\n",
    "display(na_genre_data)\n",
    "print('Европа:')\n",
    "display(eu_genre_data)\n",
    "print('Япония:')\n",
    "display(jp_genre_data)\n",
    "fig, ax = plt.subplots(nrows=1, ncols=3, figsize=(15, 5))\n",
    "fig.suptitle('Топ 5 жанров за актуальный период в трех регионах')\n",
    "plt.subplot(1, 3, 1, title='Топ жанров за актуальный период в NA')\n",
    "sns.barplot(x=na_genre_data['genre'], y=na_genre_data['na_sales'])\n",
    "plt.subplot(1, 3, 2, title='Топ жанров за актуальный период в EU')\n",
    "sns.barplot(x=eu_genre_data['genre'], y=eu_genre_data['eu_sales'])\n",
    "plt.subplot(1, 3, 3, title='Топ жанров за актуальный период в JP')\n",
    "sns.barplot(x=jp_genre_data['genre'], y=jp_genre_data['jp_sales'])\n",
    "plt.show()"
   ]
  },
  {
   "cell_type": "markdown",
   "metadata": {},
   "source": [
    "Видно, что спрос на Европейском и Североамериканском рынке почти одинаков. Кроме того, что в прошлом пункте мы выявили схожесть спроса на платформы, в этом пункте явно видно, что в этих двух регионах спрос на игры различных жанров так же совпадает. А вот топ 5 жанров в Японии отличаются. Там самым популярным является жанр `Role-Playing`, который в Европе и Северной Америке занимает лишь 4 место с большим отставанием от жанров `Action` и `Shooter`."
   ]
  },
  {
   "cell_type": "code",
   "execution_count": 50,
   "metadata": {},
   "outputs": [
    {
     "name": "stdout",
     "output_type": "stream",
     "text": [
      "Северная Америка:\n"
     ]
    },
    {
     "data": {
      "text/html": [
       "<div>\n",
       "<style scoped>\n",
       "    .dataframe tbody tr th:only-of-type {\n",
       "        vertical-align: middle;\n",
       "    }\n",
       "\n",
       "    .dataframe tbody tr th {\n",
       "        vertical-align: top;\n",
       "    }\n",
       "\n",
       "    .dataframe thead th {\n",
       "        text-align: right;\n",
       "    }\n",
       "</style>\n",
       "<table border=\"1\" class=\"dataframe\">\n",
       "  <thead>\n",
       "    <tr style=\"text-align: right;\">\n",
       "      <th></th>\n",
       "      <th>rating</th>\n",
       "      <th>na_sales</th>\n",
       "    </tr>\n",
       "  </thead>\n",
       "  <tbody>\n",
       "    <tr>\n",
       "      <th>0</th>\n",
       "      <td>M</td>\n",
       "      <td>184.77</td>\n",
       "    </tr>\n",
       "    <tr>\n",
       "      <th>1</th>\n",
       "      <td>E</td>\n",
       "      <td>102.09</td>\n",
       "    </tr>\n",
       "    <tr>\n",
       "      <th>2</th>\n",
       "      <td>T</td>\n",
       "      <td>96.61</td>\n",
       "    </tr>\n",
       "    <tr>\n",
       "      <th>3</th>\n",
       "      <td>E10+</td>\n",
       "      <td>54.24</td>\n",
       "    </tr>\n",
       "  </tbody>\n",
       "</table>\n",
       "</div>"
      ],
      "text/plain": [
       "  rating  na_sales\n",
       "0      M    184.77\n",
       "1      E    102.09\n",
       "2      T     96.61\n",
       "3   E10+     54.24"
      ]
     },
     "metadata": {},
     "output_type": "display_data"
    },
    {
     "name": "stdout",
     "output_type": "stream",
     "text": [
      "Европа:\n"
     ]
    },
    {
     "data": {
      "text/html": [
       "<div>\n",
       "<style scoped>\n",
       "    .dataframe tbody tr th:only-of-type {\n",
       "        vertical-align: middle;\n",
       "    }\n",
       "\n",
       "    .dataframe tbody tr th {\n",
       "        vertical-align: top;\n",
       "    }\n",
       "\n",
       "    .dataframe thead th {\n",
       "        text-align: right;\n",
       "    }\n",
       "</style>\n",
       "<table border=\"1\" class=\"dataframe\">\n",
       "  <thead>\n",
       "    <tr style=\"text-align: right;\">\n",
       "      <th></th>\n",
       "      <th>rating</th>\n",
       "      <th>eu_sales</th>\n",
       "    </tr>\n",
       "  </thead>\n",
       "  <tbody>\n",
       "    <tr>\n",
       "      <th>0</th>\n",
       "      <td>M</td>\n",
       "      <td>162.21</td>\n",
       "    </tr>\n",
       "    <tr>\n",
       "      <th>1</th>\n",
       "      <td>E</td>\n",
       "      <td>108.37</td>\n",
       "    </tr>\n",
       "    <tr>\n",
       "      <th>2</th>\n",
       "      <td>T</td>\n",
       "      <td>78.96</td>\n",
       "    </tr>\n",
       "    <tr>\n",
       "      <th>3</th>\n",
       "      <td>E10+</td>\n",
       "      <td>42.69</td>\n",
       "    </tr>\n",
       "  </tbody>\n",
       "</table>\n",
       "</div>"
      ],
      "text/plain": [
       "  rating  eu_sales\n",
       "0      M    162.21\n",
       "1      E    108.37\n",
       "2      T     78.96\n",
       "3   E10+     42.69"
      ]
     },
     "metadata": {},
     "output_type": "display_data"
    },
    {
     "name": "stdout",
     "output_type": "stream",
     "text": [
      "Япония:\n"
     ]
    },
    {
     "data": {
      "text/html": [
       "<div>\n",
       "<style scoped>\n",
       "    .dataframe tbody tr th:only-of-type {\n",
       "        vertical-align: middle;\n",
       "    }\n",
       "\n",
       "    .dataframe tbody tr th {\n",
       "        vertical-align: top;\n",
       "    }\n",
       "\n",
       "    .dataframe thead th {\n",
       "        text-align: right;\n",
       "    }\n",
       "</style>\n",
       "<table border=\"1\" class=\"dataframe\">\n",
       "  <thead>\n",
       "    <tr style=\"text-align: right;\">\n",
       "      <th></th>\n",
       "      <th>rating</th>\n",
       "      <th>jp_sales</th>\n",
       "    </tr>\n",
       "  </thead>\n",
       "  <tbody>\n",
       "    <tr>\n",
       "      <th>0</th>\n",
       "      <td>T</td>\n",
       "      <td>86.62</td>\n",
       "    </tr>\n",
       "    <tr>\n",
       "      <th>1</th>\n",
       "      <td>E</td>\n",
       "      <td>33.35</td>\n",
       "    </tr>\n",
       "    <tr>\n",
       "      <th>2</th>\n",
       "      <td>M</td>\n",
       "      <td>14.92</td>\n",
       "    </tr>\n",
       "    <tr>\n",
       "      <th>3</th>\n",
       "      <td>E10+</td>\n",
       "      <td>5.89</td>\n",
       "    </tr>\n",
       "  </tbody>\n",
       "</table>\n",
       "</div>"
      ],
      "text/plain": [
       "  rating  jp_sales\n",
       "0      T     86.62\n",
       "1      E     33.35\n",
       "2      M     14.92\n",
       "3   E10+      5.89"
      ]
     },
     "metadata": {},
     "output_type": "display_data"
    },
    {
     "data": {
      "image/png": "[encoded data removed]",
      "text/plain": [
       "<Figure size 1080x360 with 3 Axes>"
      ]
     },
     "metadata": {
      "needs_background": "light"
     },
     "output_type": "display_data"
    }
   ],
   "source": [
    "print('Северная Америка:')\n",
    "display(na_rating_data)\n",
    "print('Европа:')\n",
    "display(eu_rating_data)\n",
    "print('Япония:')\n",
    "display(jp_rating_data)\n",
    "fig, ax = plt.subplots(nrows=1, ncols=3, figsize=(15, 5))\n",
    "fig.suptitle('Топ рейтингов за актуальный период в трех регионах')\n",
    "plt.subplot(1, 3, 1, title='Топ рейтингов за актуальный период в NA')\n",
    "sns.barplot(x=na_rating_data['rating'], y=na_rating_data['na_sales'])\n",
    "plt.subplot(1, 3, 2, title='Топ рейтингов за актуальный период в EU')\n",
    "sns.barplot(x=eu_rating_data['rating'], y=eu_rating_data['eu_sales'])\n",
    "plt.subplot(1, 3, 3, title='Топ рейтингов за актуальный период в JP')\n",
    "sns.barplot(x=jp_rating_data['rating'], y=jp_rating_data['jp_sales'])\n",
    "plt.show()"
   ]
  },
  {
   "cell_type": "markdown",
   "metadata": {},
   "source": [
    "Картина для Северной Америки и Европы снова повторилась, здесь самыми популярными являются игры с рейтингом `M`(Для взрослых). А вот в Японии снова другое распределение там наибольшим спросом пользуются игры категории `T`(Для подростков). На основании этого можно сделать вывод что главными потребителями для Европы и Северной Америки являются взрослые люди (от 18 и старше), а в Японии это дети от 13 лет."
   ]
  },
  {
   "cell_type": "markdown",
   "metadata": {},
   "source": [
    "**Вывод: Все три изученные параметра влияют на продажи. Так например для Японского рынка, в отличии от Европейского и Североамериканского, популярностью пользуются в основном местные игровые платформы. Самыми продаваемыми играми в Северной Америке и Европе являются игры для взрослых (рейтинг 'M' по  ESRB), в Японии игры для подростков (рейтинг 'T' по  ESRB). Популярные жанры похожи для Европы и Северной Америки, но в Японии преобладают игры совсем не похожие на два других региона.**"
   ]
  },
  {
   "cell_type": "markdown",
   "metadata": {},
   "source": [
    "### Проверим две гипотезы"
   ]
  },
  {
   "cell_type": "markdown",
   "metadata": {},
   "source": [
    "#### Средние пользовательские рейтинги платформ Xbox One и PC одинаковые"
   ]
  },
  {
   "cell_type": "code",
   "execution_count": 51,
   "metadata": {},
   "outputs": [
    {
     "name": "stdout",
     "output_type": "stream",
     "text": [
      "Средний пользовательский рейтинг платформы Xbox One: 6.521428571428572\n",
      "Средний пользовательский рейтинг платформы PC 6.2696774193548395\n"
     ]
    }
   ],
   "source": [
    "XOne = actual_data[(actual_data['platform'] == 'XOne') & (actual_data['user_score'] > 0)]['user_score']\n",
    "PC = actual_data[(actual_data['platform'] == 'PC') &  (actual_data['user_score'] > 0)]['user_score']\n",
    "print('Средний пользовательский рейтинг платформы Xbox One:', XOne.mean())\n",
    "print('Средний пользовательский рейтинг платформы PC', PC.mean())"
   ]
  },
  {
   "cell_type": "markdown",
   "metadata": {},
   "source": [
    "Сформулируем две гипотезы:\n",
    "- H0: Средние пользовательские рейтинги платформ Xbox One и PC равны\n",
    "- H1: Средние пользовательские рейтинги платформ Xbox One и PC различны"
   ]
  },
  {
   "cell_type": "code",
   "execution_count": 52,
   "metadata": {},
   "outputs": [
    {
     "name": "stdout",
     "output_type": "stream",
     "text": [
      "p-значение: 0.14759594013430463\n",
      "Не получилось отвергнуть нулевую гипотезу\n"
     ]
    }
   ],
   "source": [
    "alpha = .05\n",
    "results = st.ttest_ind(XOne, PC, equal_var=False)\n",
    "\n",
    "print('p-значение:', results.pvalue)\n",
    "\n",
    "if (results.pvalue < alpha):\n",
    "    print(\"Отвергаем нулевую гипотезу\")\n",
    "else:\n",
    "    print(\"Не получилось отвергнуть нулевую гипотезу\")"
   ]
  },
  {
   "cell_type": "markdown",
   "metadata": {},
   "source": [
    "**Вывод: Данные не противоречат нулевой гипотезе. Средние пользовательские рейтинги платформ Xbox One и PC равны для выбранного нами доверительного интервала в 5%**"
   ]
  },
  {
   "cell_type": "markdown",
   "metadata": {},
   "source": [
    "#### Средние пользовательские рейтинги жанров Action и Sports разные."
   ]
  },
  {
   "cell_type": "code",
   "execution_count": 54,
   "metadata": {
    "scrolled": true
   },
   "outputs": [
    {
     "name": "stdout",
     "output_type": "stream",
     "text": [
      "Средний пользовательский рейтинг жанра Action: 6.837532133676092\n",
      "Средний пользовательский рейтинг жанра Sports 5.238124999999999\n"
     ]
    }
   ],
   "source": [
    "Action = actual_data[(actual_data['genre'] == 'Action') &  (actual_data['user_score'] > 0)]['user_score']\n",
    "Sports = actual_data[(actual_data['genre'] == 'Sports') &  (actual_data['user_score'] > 0)]['user_score']\n",
    "print('Средний пользовательский рейтинг жанра Action:', Action.mean())\n",
    "print('Средний пользовательский рейтинг жанра Sports', Sports.mean())"
   ]
  },
  {
   "cell_type": "markdown",
   "metadata": {},
   "source": [
    "Для удобства расчетов, сформулируем две гипотезы следующим образом:\n",
    "- H0: Средние пользовательские рейтинги жанров Action и Sports одинаковые\n",
    "- H1: Средние пользовательские рейтинги жанров Action и Sports различны"
   ]
  },
  {
   "cell_type": "code",
   "execution_count": 55,
   "metadata": {},
   "outputs": [
    {
     "name": "stdout",
     "output_type": "stream",
     "text": [
      "p-значение: 1.4460039700704315e-20\n",
      "Отвергаем нулевую гипотезу\n"
     ]
    }
   ],
   "source": [
    "alpha = .05\n",
    "results = st.ttest_ind(Action, Sports, equal_var=False)\n",
    "\n",
    "print('p-значение:', results.pvalue)\n",
    "\n",
    "if (results.pvalue < alpha):\n",
    "    print(\"Отвергаем нулевую гипотезу\")\n",
    "else:\n",
    "    print(\"Не получилось отвергнуть нулевую гипотезу\")"
   ]
  },
  {
   "cell_type": "markdown",
   "metadata": {},
   "source": [
    "**Вывод: Полученное p-value позволяет нам отвергнуть гипотезу H0. Таким образом, практически невероятно получить одинакове средние рейнтинги по двум выбрвнным жанрам.**"
   ]
  },
  {
   "cell_type": "markdown",
   "metadata": {},
   "source": [
    "### Вывод"
   ]
  },
  {
   "cell_type": "markdown",
   "metadata": {},
   "source": [
    "1) В предоставленных данных присутствует большое количество пропусков, часть из которых не представляется возможным заполнить их самостоятельно на основе данных из таблицы. Так в таблице довольно много пропусков в столбцах `critic_score`, `user_score` и `rating`, так как новые игрвы просто не успелли получить свои оценки пользователей и критиков.\n",
    "\n",
    "2) На основе предоставленных данных было отбранно 6 потенциально прибыльных платформ для выпуска игр:\n",
    "- `PS4`\n",
    "- `XOne`\n",
    "- `PC`\n",
    "- `PSV`\n",
    "- `3DS`\n",
    "- `WiiU`\n",
    "\n",
    "3) Так же было проведено исследование зависимости продаж от оценок критиков и пользователей. Можем сказать, что оценки критиков сильнее влияют на количество продаж, чем оценки пользователей и в целом существует довольно большая положительная корреляция между оценками критиков и успешностью игры. \n",
    "\n",
    "4) После обработки данных выяснилось, что около 75% продаж составляют игры следующих жанров: Action, Sports, Shooter Misc и Role-Playing. Они явно выделяются на фоне остальных. Наименее прибыльными являются игры жанров: Puzzle и Strategy.\n",
    "\n",
    "5) Проведенно исследование успешности игр для каждого из представленных регионов:\n",
    "\n",
    "- Северная Америка: \n",
    "        Игры, которые будут продаваться лучше всего:\n",
    "        ESRB: M, E, T \n",
    "        Платформы: PS4, XOne, Xbox360, PS3, 3DS\n",
    "        Жанры: Action, Shooter, Sports, Role-Playing, Misc\n",
    "- Европа:\n",
    "        Игры, которые будут продаваться лучше всего: \n",
    "        ESRB: M, E, T \n",
    "        Платформы: PS4, PS3, XOne, X360, 3DS\n",
    "        Жанры: Action,  Shooter, Sports, Role-Playing, Racing\n",
    "- Япония:\n",
    "       Игры, которые будут продаваться в  лучше всего:\n",
    "       ESRB: T, E, M\n",
    "       Платформы: 3DS, PS3, PSV, PS4, WiiU\n",
    "       Жанры: Role-Playing, Action, Misc, Fighting, Shooter"
   ]
  }
 ],
 "metadata": {
  "ExecuteTimeLog": [
   {
    "duration": 982,
    "start_time": "2023-03-01T15:33:17.934Z"
   },
   {
    "duration": 46,
    "start_time": "2023-03-01T15:33:31.538Z"
   },
   {
    "duration": 13,
    "start_time": "2023-03-01T15:33:45.543Z"
   },
   {
    "duration": 61,
    "start_time": "2023-03-01T15:33:57.830Z"
   },
   {
    "duration": 33,
    "start_time": "2023-03-01T15:33:58.761Z"
   },
   {
    "duration": 19,
    "start_time": "2023-03-01T15:34:32.007Z"
   },
   {
    "duration": 114,
    "start_time": "2023-03-01T15:45:09.179Z"
   },
   {
    "duration": 3,
    "start_time": "2023-03-01T15:45:40.191Z"
   },
   {
    "duration": 18,
    "start_time": "2023-03-01T15:45:44.452Z"
   },
   {
    "duration": 61,
    "start_time": "2023-03-01T15:45:53.685Z"
   },
   {
    "duration": 24,
    "start_time": "2023-03-01T15:45:55.232Z"
   },
   {
    "duration": 18,
    "start_time": "2023-03-01T15:45:56.282Z"
   },
   {
    "duration": 3,
    "start_time": "2023-03-01T15:46:00.776Z"
   },
   {
    "duration": 8,
    "start_time": "2023-03-01T15:58:15.105Z"
   },
   {
    "duration": 66,
    "start_time": "2023-03-01T16:02:24.586Z"
   },
   {
    "duration": 14,
    "start_time": "2023-03-01T16:06:11.552Z"
   },
   {
    "duration": 9,
    "start_time": "2023-03-01T16:18:10.030Z"
   },
   {
    "duration": 21,
    "start_time": "2023-03-01T16:28:31.014Z"
   },
   {
    "duration": 8,
    "start_time": "2023-03-01T16:28:43.554Z"
   },
   {
    "duration": 9,
    "start_time": "2023-03-01T16:30:30.029Z"
   },
   {
    "duration": 50,
    "start_time": "2023-03-01T16:30:35.827Z"
   },
   {
    "duration": 88,
    "start_time": "2023-03-01T16:31:24.265Z"
   },
   {
    "duration": 80,
    "start_time": "2023-03-01T16:32:03.986Z"
   },
   {
    "duration": 27,
    "start_time": "2023-03-01T16:32:41.434Z"
   },
   {
    "duration": 30,
    "start_time": "2023-03-01T16:32:53.251Z"
   },
   {
    "duration": 98,
    "start_time": "2023-03-01T16:33:27.206Z"
   },
   {
    "duration": 48,
    "start_time": "2023-03-01T16:33:37.565Z"
   },
   {
    "duration": 4,
    "start_time": "2023-03-01T16:34:39.673Z"
   },
   {
    "duration": 12,
    "start_time": "2023-03-01T16:34:41.822Z"
   },
   {
    "duration": 40,
    "start_time": "2023-03-01T16:34:44.306Z"
   },
   {
    "duration": 50,
    "start_time": "2023-03-01T16:34:53.372Z"
   },
   {
    "duration": 20,
    "start_time": "2023-03-01T16:35:32.924Z"
   },
   {
    "duration": 8,
    "start_time": "2023-03-01T16:45:43.852Z"
   },
   {
    "duration": 12,
    "start_time": "2023-03-01T16:45:49.571Z"
   },
   {
    "duration": 12,
    "start_time": "2023-03-01T16:46:14.169Z"
   },
   {
    "duration": 18,
    "start_time": "2023-03-01T16:46:51.952Z"
   },
   {
    "duration": 29,
    "start_time": "2023-03-01T16:47:29.530Z"
   },
   {
    "duration": 10,
    "start_time": "2023-03-01T16:48:46.525Z"
   },
   {
    "duration": 17,
    "start_time": "2023-03-01T16:51:05.686Z"
   },
   {
    "duration": 14,
    "start_time": "2023-03-01T16:51:13.213Z"
   },
   {
    "duration": 55,
    "start_time": "2023-03-01T16:54:26.986Z"
   },
   {
    "duration": 7,
    "start_time": "2023-03-01T16:54:54.277Z"
   },
   {
    "duration": 12,
    "start_time": "2023-03-01T16:55:00.947Z"
   },
   {
    "duration": 17,
    "start_time": "2023-03-01T16:55:13.215Z"
   },
   {
    "duration": 17,
    "start_time": "2023-03-01T16:55:23.290Z"
   },
   {
    "duration": 13,
    "start_time": "2023-03-01T16:55:32.234Z"
   },
   {
    "duration": 46,
    "start_time": "2023-03-01T16:55:59.028Z"
   },
   {
    "duration": 25,
    "start_time": "2023-03-01T16:56:02.477Z"
   },
   {
    "duration": 34,
    "start_time": "2023-03-01T16:56:10.848Z"
   },
   {
    "duration": 13,
    "start_time": "2023-03-01T16:56:39.049Z"
   },
   {
    "duration": 44,
    "start_time": "2023-03-01T16:56:50.310Z"
   },
   {
    "duration": 39,
    "start_time": "2023-03-01T16:57:43.864Z"
   },
   {
    "duration": 10,
    "start_time": "2023-03-01T16:58:01.829Z"
   },
   {
    "duration": 20,
    "start_time": "2023-03-01T16:58:37.175Z"
   },
   {
    "duration": 29,
    "start_time": "2023-03-01T16:58:44.213Z"
   },
   {
    "duration": 34,
    "start_time": "2023-03-01T16:59:00.085Z"
   },
   {
    "duration": 18,
    "start_time": "2023-03-01T16:59:18.116Z"
   },
   {
    "duration": 37,
    "start_time": "2023-03-01T16:59:22.879Z"
   },
   {
    "duration": 14,
    "start_time": "2023-03-01T16:59:27.554Z"
   },
   {
    "duration": 6,
    "start_time": "2023-03-01T16:59:41.947Z"
   },
   {
    "duration": 28,
    "start_time": "2023-03-01T16:59:49.620Z"
   },
   {
    "duration": 14,
    "start_time": "2023-03-01T17:00:00.409Z"
   },
   {
    "duration": 38,
    "start_time": "2023-03-01T17:00:10.306Z"
   },
   {
    "duration": 19,
    "start_time": "2023-03-01T17:03:05.322Z"
   },
   {
    "duration": 11,
    "start_time": "2023-03-01T17:03:37.024Z"
   },
   {
    "duration": 10,
    "start_time": "2023-03-01T17:03:59.756Z"
   },
   {
    "duration": 33,
    "start_time": "2023-03-01T17:04:30.508Z"
   },
   {
    "duration": 25,
    "start_time": "2023-03-01T17:05:10.085Z"
   },
   {
    "duration": 11,
    "start_time": "2023-03-01T17:05:20.971Z"
   },
   {
    "duration": 25,
    "start_time": "2023-03-01T17:06:06.214Z"
   },
   {
    "duration": 53,
    "start_time": "2023-03-01T17:06:50.273Z"
   },
   {
    "duration": 21,
    "start_time": "2023-03-01T17:07:12.013Z"
   },
   {
    "duration": 14,
    "start_time": "2023-03-01T17:07:37.842Z"
   },
   {
    "duration": 12,
    "start_time": "2023-03-01T17:07:55.120Z"
   },
   {
    "duration": 21,
    "start_time": "2023-03-01T17:08:01.917Z"
   },
   {
    "duration": 30,
    "start_time": "2023-03-01T17:15:31.240Z"
   },
   {
    "duration": 22,
    "start_time": "2023-03-01T17:16:20.685Z"
   },
   {
    "duration": 22,
    "start_time": "2023-03-01T17:16:56.219Z"
   },
   {
    "duration": 1068,
    "start_time": "2023-03-01T17:17:29.616Z"
   },
   {
    "duration": 936,
    "start_time": "2023-03-01T17:18:51.214Z"
   },
   {
    "duration": 1059,
    "start_time": "2023-03-01T17:19:18.366Z"
   },
   {
    "duration": 940,
    "start_time": "2023-03-01T17:19:30.520Z"
   },
   {
    "duration": 929,
    "start_time": "2023-03-01T17:19:58.016Z"
   },
   {
    "duration": 22,
    "start_time": "2023-03-01T17:20:03.020Z"
   },
   {
    "duration": 1003,
    "start_time": "2023-03-01T17:20:11.432Z"
   },
   {
    "duration": 26,
    "start_time": "2023-03-01T17:20:22.312Z"
   },
   {
    "duration": 26,
    "start_time": "2023-03-01T17:20:25.215Z"
   },
   {
    "duration": 957,
    "start_time": "2023-03-01T17:20:34.221Z"
   },
   {
    "duration": 18,
    "start_time": "2023-03-01T17:21:22.132Z"
   },
   {
    "duration": 31,
    "start_time": "2023-03-01T17:21:26.800Z"
   },
   {
    "duration": 21,
    "start_time": "2023-03-01T17:22:02.233Z"
   },
   {
    "duration": 17,
    "start_time": "2023-03-01T17:23:19.622Z"
   },
   {
    "duration": 51,
    "start_time": "2023-03-01T17:23:26.907Z"
   },
   {
    "duration": 263,
    "start_time": "2023-03-01T17:23:41.217Z"
   },
   {
    "duration": 36,
    "start_time": "2023-03-01T17:24:06.584Z"
   },
   {
    "duration": 17,
    "start_time": "2023-03-01T17:24:15.614Z"
   },
   {
    "duration": 851,
    "start_time": "2023-03-01T17:24:24.616Z"
   },
   {
    "duration": 1061,
    "start_time": "2023-03-01T17:24:32.178Z"
   },
   {
    "duration": 26,
    "start_time": "2023-03-01T17:24:44.880Z"
   },
   {
    "duration": 19,
    "start_time": "2023-03-01T17:25:02.740Z"
   },
   {
    "duration": 24,
    "start_time": "2023-03-01T17:25:06.999Z"
   },
   {
    "duration": 18,
    "start_time": "2023-03-01T17:25:29.116Z"
   },
   {
    "duration": 21,
    "start_time": "2023-03-01T17:25:34.019Z"
   },
   {
    "duration": 31,
    "start_time": "2023-03-01T17:26:00.986Z"
   },
   {
    "duration": 91,
    "start_time": "2023-03-01T17:29:39.562Z"
   },
   {
    "duration": 36,
    "start_time": "2023-03-01T17:32:33.081Z"
   },
   {
    "duration": 1172,
    "start_time": "2023-03-01T17:32:54.961Z"
   },
   {
    "duration": 1237,
    "start_time": "2023-03-01T17:33:17.219Z"
   },
   {
    "duration": 1150,
    "start_time": "2023-03-01T17:34:22.908Z"
   },
   {
    "duration": 1276,
    "start_time": "2023-03-02T07:50:27.783Z"
   },
   {
    "duration": 22,
    "start_time": "2023-03-02T07:50:29.061Z"
   },
   {
    "duration": 22,
    "start_time": "2023-03-02T07:50:29.175Z"
   },
   {
    "duration": 3,
    "start_time": "2023-03-02T07:50:33.971Z"
   },
   {
    "duration": 10,
    "start_time": "2023-03-02T07:50:35.783Z"
   },
   {
    "duration": 18,
    "start_time": "2023-03-02T07:52:39.189Z"
   },
   {
    "duration": 8,
    "start_time": "2023-03-02T07:52:41.948Z"
   },
   {
    "duration": 1058,
    "start_time": "2023-03-02T07:52:54.794Z"
   },
   {
    "duration": 1099,
    "start_time": "2023-03-02T10:30:55.341Z"
   },
   {
    "duration": 22,
    "start_time": "2023-03-02T10:30:56.442Z"
   },
   {
    "duration": 15,
    "start_time": "2023-03-02T10:30:57.255Z"
   },
   {
    "duration": 3,
    "start_time": "2023-03-02T10:30:59.434Z"
   },
   {
    "duration": 11,
    "start_time": "2023-03-02T10:31:00.535Z"
   },
   {
    "duration": 17,
    "start_time": "2023-03-02T10:31:04.282Z"
   },
   {
    "duration": 7,
    "start_time": "2023-03-02T10:31:05.027Z"
   },
   {
    "duration": 1083,
    "start_time": "2023-03-02T10:33:25.892Z"
   },
   {
    "duration": 1059,
    "start_time": "2023-03-02T10:33:38.986Z"
   },
   {
    "duration": 16585,
    "start_time": "2023-03-02T10:34:00.569Z"
   },
   {
    "duration": 6327,
    "start_time": "2023-03-02T10:34:33.240Z"
   },
   {
    "duration": 6103,
    "start_time": "2023-03-02T10:34:57.929Z"
   },
   {
    "duration": 8341,
    "start_time": "2023-03-02T10:35:27.977Z"
   },
   {
    "duration": 1262,
    "start_time": "2023-03-02T10:36:24.008Z"
   },
   {
    "duration": 1251,
    "start_time": "2023-03-02T10:36:34.492Z"
   },
   {
    "duration": 1209,
    "start_time": "2023-03-02T10:37:13.482Z"
   },
   {
    "duration": 1095,
    "start_time": "2023-03-02T10:37:42.275Z"
   },
   {
    "duration": 98,
    "start_time": "2023-03-02T10:45:19.139Z"
   },
   {
    "duration": 71,
    "start_time": "2023-03-02T10:45:32.199Z"
   },
   {
    "duration": 18,
    "start_time": "2023-03-02T10:45:36.992Z"
   },
   {
    "duration": 25,
    "start_time": "2023-03-02T10:45:37.812Z"
   },
   {
    "duration": 3,
    "start_time": "2023-03-02T10:45:41.637Z"
   },
   {
    "duration": 10,
    "start_time": "2023-03-02T10:45:42.728Z"
   },
   {
    "duration": 17,
    "start_time": "2023-03-02T10:45:44.872Z"
   },
   {
    "duration": 7,
    "start_time": "2023-03-02T10:45:46.082Z"
   },
   {
    "duration": 6276,
    "start_time": "2023-03-02T10:49:29.705Z"
   },
   {
    "duration": 10,
    "start_time": "2023-03-02T10:50:30.139Z"
   },
   {
    "duration": 5487,
    "start_time": "2023-03-02T10:50:48.946Z"
   },
   {
    "duration": 29,
    "start_time": "2023-03-02T10:52:35.137Z"
   },
   {
    "duration": 5227,
    "start_time": "2023-03-02T10:52:50.074Z"
   },
   {
    "duration": 4993,
    "start_time": "2023-03-02T10:53:25.132Z"
   },
   {
    "duration": 8,
    "start_time": "2023-03-02T11:02:17.288Z"
   },
   {
    "duration": 9,
    "start_time": "2023-03-02T11:02:49.155Z"
   },
   {
    "duration": 4,
    "start_time": "2023-03-02T11:03:07.033Z"
   },
   {
    "duration": 778,
    "start_time": "2023-03-02T11:04:13.245Z"
   },
   {
    "duration": 42,
    "start_time": "2023-03-02T11:05:08.051Z"
   },
   {
    "duration": 15,
    "start_time": "2023-03-02T11:13:39.450Z"
   },
   {
    "duration": 7,
    "start_time": "2023-03-02T11:14:43.986Z"
   },
   {
    "duration": 7,
    "start_time": "2023-03-02T11:15:06.734Z"
   },
   {
    "duration": 4,
    "start_time": "2023-03-02T11:15:12.881Z"
   },
   {
    "duration": 21,
    "start_time": "2023-03-02T11:16:01.155Z"
   },
   {
    "duration": 8,
    "start_time": "2023-03-02T11:21:44.084Z"
   },
   {
    "duration": 6,
    "start_time": "2023-03-02T11:21:58.600Z"
   },
   {
    "duration": 10,
    "start_time": "2023-03-02T11:26:09.286Z"
   },
   {
    "duration": 7,
    "start_time": "2023-03-02T11:26:20.769Z"
   },
   {
    "duration": 12,
    "start_time": "2023-03-02T11:28:09.528Z"
   },
   {
    "duration": 7,
    "start_time": "2023-03-02T11:37:06.612Z"
   },
   {
    "duration": 29,
    "start_time": "2023-03-02T13:14:15.489Z"
   },
   {
    "duration": 7,
    "start_time": "2023-03-02T13:14:32.472Z"
   },
   {
    "duration": 205,
    "start_time": "2023-03-02T13:15:36.133Z"
   },
   {
    "duration": 159,
    "start_time": "2023-03-02T13:16:59.828Z"
   },
   {
    "duration": 156,
    "start_time": "2023-03-02T13:20:23.413Z"
   },
   {
    "duration": 13,
    "start_time": "2023-03-02T13:27:09.975Z"
   },
   {
    "duration": 22,
    "start_time": "2023-03-02T13:27:26.477Z"
   },
   {
    "duration": 21,
    "start_time": "2023-03-02T13:28:53.205Z"
   },
   {
    "duration": 24,
    "start_time": "2023-03-02T13:29:20.662Z"
   },
   {
    "duration": 19,
    "start_time": "2023-03-02T13:29:46.791Z"
   },
   {
    "duration": 23,
    "start_time": "2023-03-02T13:29:50.894Z"
   },
   {
    "duration": 19,
    "start_time": "2023-03-02T13:30:54.664Z"
   },
   {
    "duration": 19,
    "start_time": "2023-03-02T13:31:16.661Z"
   },
   {
    "duration": 26,
    "start_time": "2023-03-02T13:31:38.468Z"
   },
   {
    "duration": 167,
    "start_time": "2023-03-02T13:35:05.802Z"
   },
   {
    "duration": 169,
    "start_time": "2023-03-02T13:36:10.176Z"
   },
   {
    "duration": 129,
    "start_time": "2023-03-02T13:36:21.353Z"
   },
   {
    "duration": 121,
    "start_time": "2023-03-02T13:37:31.319Z"
   },
   {
    "duration": 216,
    "start_time": "2023-03-02T13:37:49.481Z"
   },
   {
    "duration": 135,
    "start_time": "2023-03-02T13:37:57.633Z"
   },
   {
    "duration": 198,
    "start_time": "2023-03-02T13:38:36.043Z"
   },
   {
    "duration": 193,
    "start_time": "2023-03-02T13:39:02.027Z"
   },
   {
    "duration": 195,
    "start_time": "2023-03-02T13:39:43.179Z"
   },
   {
    "duration": 20,
    "start_time": "2023-03-02T13:41:25.963Z"
   },
   {
    "duration": 938,
    "start_time": "2023-03-02T13:44:37.973Z"
   },
   {
    "duration": 43,
    "start_time": "2023-03-02T13:46:49.224Z"
   },
   {
    "duration": 62,
    "start_time": "2023-03-02T13:46:53.938Z"
   },
   {
    "duration": 22,
    "start_time": "2023-03-02T13:46:59.877Z"
   },
   {
    "duration": 25,
    "start_time": "2023-03-02T13:49:29.461Z"
   },
   {
    "duration": 311,
    "start_time": "2023-03-02T13:49:39.649Z"
   },
   {
    "duration": 387,
    "start_time": "2023-03-02T15:07:10.510Z"
   },
   {
    "duration": 25,
    "start_time": "2023-03-02T15:10:05.093Z"
   },
   {
    "duration": 2035,
    "start_time": "2023-03-02T15:10:18.591Z"
   },
   {
    "duration": 1947,
    "start_time": "2023-03-02T15:14:13.930Z"
   },
   {
    "duration": 91,
    "start_time": "2023-03-04T18:35:41.177Z"
   },
   {
    "duration": 956,
    "start_time": "2023-03-04T18:35:57.495Z"
   },
   {
    "duration": 28,
    "start_time": "2023-03-04T18:35:58.454Z"
   },
   {
    "duration": 20,
    "start_time": "2023-03-04T18:35:58.484Z"
   },
   {
    "duration": 3,
    "start_time": "2023-03-04T18:35:58.506Z"
   },
   {
    "duration": 13,
    "start_time": "2023-03-04T18:35:58.511Z"
   },
   {
    "duration": 44,
    "start_time": "2023-03-04T18:35:58.525Z"
   },
   {
    "duration": 9,
    "start_time": "2023-03-04T18:35:58.571Z"
   },
   {
    "duration": 5084,
    "start_time": "2023-03-04T18:35:58.581Z"
   },
   {
    "duration": 4,
    "start_time": "2023-03-04T18:36:03.671Z"
   },
   {
    "duration": 21,
    "start_time": "2023-03-04T18:36:03.678Z"
   },
   {
    "duration": 9,
    "start_time": "2023-03-04T18:36:03.700Z"
   },
   {
    "duration": 25,
    "start_time": "2023-03-04T18:36:03.710Z"
   },
   {
    "duration": 31,
    "start_time": "2023-03-04T18:36:03.737Z"
   },
   {
    "duration": 10,
    "start_time": "2023-03-04T18:36:03.770Z"
   },
   {
    "duration": 187,
    "start_time": "2023-03-04T18:36:03.782Z"
   },
   {
    "duration": 210,
    "start_time": "2023-03-04T18:36:03.971Z"
   },
   {
    "duration": 89,
    "start_time": "2023-03-04T18:36:04.183Z"
   },
   {
    "duration": 2236,
    "start_time": "2023-03-04T18:36:13.137Z"
   },
   {
    "duration": 50,
    "start_time": "2023-03-05T12:10:59.091Z"
   },
   {
    "duration": 1028,
    "start_time": "2023-03-05T12:11:03.243Z"
   },
   {
    "duration": 22,
    "start_time": "2023-03-05T12:11:04.274Z"
   },
   {
    "duration": 16,
    "start_time": "2023-03-05T12:11:04.297Z"
   },
   {
    "duration": 3,
    "start_time": "2023-03-05T12:11:04.314Z"
   },
   {
    "duration": 11,
    "start_time": "2023-03-05T12:11:04.320Z"
   },
   {
    "duration": 28,
    "start_time": "2023-03-05T12:11:04.333Z"
   },
   {
    "duration": 9,
    "start_time": "2023-03-05T12:11:04.363Z"
   },
   {
    "duration": 4813,
    "start_time": "2023-03-05T12:11:04.374Z"
   },
   {
    "duration": 4,
    "start_time": "2023-03-05T12:11:09.189Z"
   },
   {
    "duration": 8,
    "start_time": "2023-03-05T12:11:09.195Z"
   },
   {
    "duration": 5,
    "start_time": "2023-03-05T12:11:09.205Z"
   },
   {
    "duration": 11,
    "start_time": "2023-03-05T12:11:09.212Z"
   },
   {
    "duration": 28,
    "start_time": "2023-03-05T12:11:09.225Z"
   },
   {
    "duration": 7,
    "start_time": "2023-03-05T12:11:09.255Z"
   },
   {
    "duration": 201,
    "start_time": "2023-03-05T12:11:09.263Z"
   },
   {
    "duration": 193,
    "start_time": "2023-03-05T12:11:09.466Z"
   },
   {
    "duration": 2230,
    "start_time": "2023-03-05T12:11:09.660Z"
   },
   {
    "duration": 7,
    "start_time": "2023-03-05T12:11:11.891Z"
   },
   {
    "duration": 27,
    "start_time": "2023-03-05T12:13:58.059Z"
   },
   {
    "duration": 26,
    "start_time": "2023-03-05T12:14:15.009Z"
   },
   {
    "duration": 292,
    "start_time": "2023-03-05T12:14:27.092Z"
   },
   {
    "duration": 258,
    "start_time": "2023-03-05T12:14:36.424Z"
   },
   {
    "duration": 260,
    "start_time": "2023-03-05T12:14:45.378Z"
   },
   {
    "duration": 264,
    "start_time": "2023-03-05T12:30:02.311Z"
   },
   {
    "duration": 308,
    "start_time": "2023-03-05T12:40:11.706Z"
   },
   {
    "duration": 285,
    "start_time": "2023-03-05T12:40:21.496Z"
   },
   {
    "duration": 344,
    "start_time": "2023-03-05T12:40:41.353Z"
   },
   {
    "duration": 382,
    "start_time": "2023-03-05T12:40:47.618Z"
   },
   {
    "duration": 290,
    "start_time": "2023-03-05T12:40:56.175Z"
   },
   {
    "duration": 280,
    "start_time": "2023-03-05T12:41:05.984Z"
   },
   {
    "duration": 292,
    "start_time": "2023-03-05T12:41:20.356Z"
   },
   {
    "duration": 313,
    "start_time": "2023-03-05T12:43:19.722Z"
   },
   {
    "duration": 406,
    "start_time": "2023-03-05T12:43:36.020Z"
   },
   {
    "duration": 311,
    "start_time": "2023-03-05T12:43:44.128Z"
   },
   {
    "duration": 337,
    "start_time": "2023-03-05T12:44:38.456Z"
   },
   {
    "duration": 172,
    "start_time": "2023-03-05T12:45:47.992Z"
   },
   {
    "duration": 6,
    "start_time": "2023-03-05T13:00:35.350Z"
   },
   {
    "duration": 205,
    "start_time": "2023-03-05T13:02:03.948Z"
   },
   {
    "duration": 168,
    "start_time": "2023-03-05T13:02:14.637Z"
   },
   {
    "duration": 43,
    "start_time": "2023-03-05T13:03:08.372Z"
   },
   {
    "duration": 229,
    "start_time": "2023-03-05T13:03:13.957Z"
   },
   {
    "duration": 159,
    "start_time": "2023-03-05T13:04:52.681Z"
   },
   {
    "duration": 168,
    "start_time": "2023-03-05T13:04:59.248Z"
   },
   {
    "duration": 322,
    "start_time": "2023-03-05T13:11:33.636Z"
   },
   {
    "duration": 421,
    "start_time": "2023-03-05T13:11:46.933Z"
   },
   {
    "duration": 310,
    "start_time": "2023-03-05T13:12:16.271Z"
   },
   {
    "duration": 330,
    "start_time": "2023-03-05T13:12:29.492Z"
   },
   {
    "duration": 607,
    "start_time": "2023-03-05T13:14:53.197Z"
   },
   {
    "duration": 337,
    "start_time": "2023-03-05T13:15:10.024Z"
   },
   {
    "duration": 324,
    "start_time": "2023-03-05T13:16:21.611Z"
   },
   {
    "duration": 482,
    "start_time": "2023-03-05T13:16:40.001Z"
   },
   {
    "duration": 608,
    "start_time": "2023-03-05T13:18:18.003Z"
   },
   {
    "duration": 434,
    "start_time": "2023-03-05T13:19:27.070Z"
   },
   {
    "duration": 285,
    "start_time": "2023-03-05T13:23:55.975Z"
   },
   {
    "duration": 495,
    "start_time": "2023-03-05T13:24:02.960Z"
   },
   {
    "duration": 467,
    "start_time": "2023-03-05T13:24:14.214Z"
   },
   {
    "duration": 455,
    "start_time": "2023-03-05T13:24:41.681Z"
   },
   {
    "duration": 419,
    "start_time": "2023-03-05T13:27:36.218Z"
   },
   {
    "duration": 404,
    "start_time": "2023-03-05T13:29:34.568Z"
   },
   {
    "duration": 595,
    "start_time": "2023-03-05T13:29:49.159Z"
   },
   {
    "duration": 461,
    "start_time": "2023-03-05T13:29:56.467Z"
   },
   {
    "duration": 57,
    "start_time": "2023-03-05T14:25:21.673Z"
   },
   {
    "duration": 342,
    "start_time": "2023-03-05T14:25:25.997Z"
   },
   {
    "duration": 380,
    "start_time": "2023-03-05T14:25:40.088Z"
   },
   {
    "duration": 18,
    "start_time": "2023-03-05T14:25:56.185Z"
   },
   {
    "duration": 406,
    "start_time": "2023-03-05T14:26:16.071Z"
   },
   {
    "duration": 11,
    "start_time": "2023-03-05T14:27:42.964Z"
   },
   {
    "duration": 12,
    "start_time": "2023-03-05T14:29:30.208Z"
   },
   {
    "duration": 12,
    "start_time": "2023-03-05T14:29:56.057Z"
   },
   {
    "duration": 17,
    "start_time": "2023-03-05T14:30:34.653Z"
   },
   {
    "duration": 22,
    "start_time": "2023-03-05T14:35:40.016Z"
   },
   {
    "duration": 16,
    "start_time": "2023-03-05T14:35:55.356Z"
   },
   {
    "duration": 11,
    "start_time": "2023-03-05T14:38:12.033Z"
   },
   {
    "duration": 17,
    "start_time": "2023-03-05T14:38:37.051Z"
   },
   {
    "duration": 16,
    "start_time": "2023-03-05T14:39:25.904Z"
   },
   {
    "duration": 18,
    "start_time": "2023-03-05T14:39:28.627Z"
   },
   {
    "duration": 15,
    "start_time": "2023-03-05T14:39:33.977Z"
   },
   {
    "duration": 19,
    "start_time": "2023-03-05T14:39:41.587Z"
   },
   {
    "duration": 52,
    "start_time": "2023-03-05T14:39:52.553Z"
   },
   {
    "duration": 16,
    "start_time": "2023-03-05T14:41:15.250Z"
   },
   {
    "duration": 20,
    "start_time": "2023-03-05T14:41:33.750Z"
   },
   {
    "duration": 14,
    "start_time": "2023-03-05T14:41:52.604Z"
   },
   {
    "duration": 15,
    "start_time": "2023-03-05T14:41:59.164Z"
   },
   {
    "duration": 44,
    "start_time": "2023-03-06T08:21:06.278Z"
   },
   {
    "duration": 936,
    "start_time": "2023-03-06T08:21:12.315Z"
   },
   {
    "duration": 19,
    "start_time": "2023-03-06T08:21:13.254Z"
   },
   {
    "duration": 13,
    "start_time": "2023-03-06T08:21:13.275Z"
   },
   {
    "duration": 7,
    "start_time": "2023-03-06T08:21:13.290Z"
   },
   {
    "duration": 10,
    "start_time": "2023-03-06T08:21:13.299Z"
   },
   {
    "duration": 15,
    "start_time": "2023-03-06T08:21:13.310Z"
   },
   {
    "duration": 14,
    "start_time": "2023-03-06T08:21:13.327Z"
   },
   {
    "duration": 4588,
    "start_time": "2023-03-06T08:21:13.342Z"
   },
   {
    "duration": 3,
    "start_time": "2023-03-06T08:21:17.932Z"
   },
   {
    "duration": 12,
    "start_time": "2023-03-06T08:21:17.938Z"
   },
   {
    "duration": 7,
    "start_time": "2023-03-06T08:21:17.951Z"
   },
   {
    "duration": 11,
    "start_time": "2023-03-06T08:21:17.959Z"
   },
   {
    "duration": 4,
    "start_time": "2023-03-06T08:21:17.971Z"
   },
   {
    "duration": 6,
    "start_time": "2023-03-06T08:21:17.977Z"
   },
   {
    "duration": 184,
    "start_time": "2023-03-06T08:21:17.985Z"
   },
   {
    "duration": 176,
    "start_time": "2023-03-06T08:21:18.170Z"
   },
   {
    "duration": 1957,
    "start_time": "2023-03-06T08:21:18.347Z"
   },
   {
    "duration": 6,
    "start_time": "2023-03-06T08:21:20.306Z"
   },
   {
    "duration": 262,
    "start_time": "2023-03-06T08:21:20.313Z"
   },
   {
    "duration": 281,
    "start_time": "2023-03-06T08:21:20.576Z"
   },
   {
    "duration": 394,
    "start_time": "2023-03-06T08:21:20.858Z"
   },
   {
    "duration": 407,
    "start_time": "2023-03-06T08:21:21.254Z"
   },
   {
    "duration": 410,
    "start_time": "2023-03-06T08:21:21.663Z"
   },
   {
    "duration": 9,
    "start_time": "2023-03-06T08:21:22.074Z"
   },
   {
    "duration": 0,
    "start_time": "2023-03-06T08:21:22.085Z"
   },
   {
    "duration": 0,
    "start_time": "2023-03-06T08:21:22.086Z"
   },
   {
    "duration": 300,
    "start_time": "2023-03-06T08:21:42.024Z"
   },
   {
    "duration": 15,
    "start_time": "2023-03-06T08:21:49.978Z"
   },
   {
    "duration": 9,
    "start_time": "2023-03-06T08:21:53.604Z"
   },
   {
    "duration": 393,
    "start_time": "2023-03-06T08:22:38.222Z"
   },
   {
    "duration": 186,
    "start_time": "2023-03-06T08:22:57.373Z"
   },
   {
    "duration": 191,
    "start_time": "2023-03-06T08:23:50.978Z"
   },
   {
    "duration": 185,
    "start_time": "2023-03-06T08:24:26.483Z"
   },
   {
    "duration": 149,
    "start_time": "2023-03-06T09:11:17.228Z"
   },
   {
    "duration": 192,
    "start_time": "2023-03-06T09:19:06.601Z"
   },
   {
    "duration": 130,
    "start_time": "2023-03-06T09:20:29.475Z"
   },
   {
    "duration": 189,
    "start_time": "2023-03-06T09:20:49.184Z"
   },
   {
    "duration": 204,
    "start_time": "2023-03-06T09:21:22.700Z"
   },
   {
    "duration": 189,
    "start_time": "2023-03-06T09:23:55.115Z"
   },
   {
    "duration": 269,
    "start_time": "2023-03-06T09:25:08.771Z"
   },
   {
    "duration": 151,
    "start_time": "2023-03-06T09:26:44.334Z"
   },
   {
    "duration": 11,
    "start_time": "2023-03-06T09:34:10.454Z"
   },
   {
    "duration": 9,
    "start_time": "2023-03-06T09:36:38.146Z"
   },
   {
    "duration": 50,
    "start_time": "2023-03-06T09:37:36.583Z"
   },
   {
    "duration": 7,
    "start_time": "2023-03-06T09:37:42.624Z"
   },
   {
    "duration": 4,
    "start_time": "2023-03-06T09:38:06.737Z"
   },
   {
    "duration": 10,
    "start_time": "2023-03-06T09:40:07.841Z"
   },
   {
    "duration": 9,
    "start_time": "2023-03-06T09:40:18.992Z"
   },
   {
    "duration": 5,
    "start_time": "2023-03-06T09:43:05.605Z"
   },
   {
    "duration": 7,
    "start_time": "2023-03-06T10:23:41.525Z"
   },
   {
    "duration": 49,
    "start_time": "2023-03-06T10:38:11.108Z"
   },
   {
    "duration": 16,
    "start_time": "2023-03-06T10:38:11.159Z"
   },
   {
    "duration": 24,
    "start_time": "2023-03-06T10:38:11.177Z"
   },
   {
    "duration": 3,
    "start_time": "2023-03-06T10:38:11.203Z"
   },
   {
    "duration": 11,
    "start_time": "2023-03-06T10:38:11.209Z"
   },
   {
    "duration": 30,
    "start_time": "2023-03-06T10:38:11.222Z"
   },
   {
    "duration": 11,
    "start_time": "2023-03-06T10:38:11.254Z"
   },
   {
    "duration": 4001,
    "start_time": "2023-03-06T10:38:11.266Z"
   },
   {
    "duration": 3,
    "start_time": "2023-03-06T10:38:15.268Z"
   },
   {
    "duration": 9,
    "start_time": "2023-03-06T10:38:15.273Z"
   },
   {
    "duration": 9,
    "start_time": "2023-03-06T10:38:15.283Z"
   },
   {
    "duration": 10,
    "start_time": "2023-03-06T10:38:15.293Z"
   },
   {
    "duration": 6,
    "start_time": "2023-03-06T10:38:15.305Z"
   },
   {
    "duration": 10,
    "start_time": "2023-03-06T10:38:15.314Z"
   },
   {
    "duration": 162,
    "start_time": "2023-03-06T10:38:15.325Z"
   },
   {
    "duration": 169,
    "start_time": "2023-03-06T10:38:15.488Z"
   },
   {
    "duration": 1766,
    "start_time": "2023-03-06T10:38:15.658Z"
   },
   {
    "duration": 5,
    "start_time": "2023-03-06T10:38:17.426Z"
   },
   {
    "duration": 334,
    "start_time": "2023-03-06T10:38:17.432Z"
   },
   {
    "duration": 285,
    "start_time": "2023-03-06T10:38:17.767Z"
   },
   {
    "duration": 388,
    "start_time": "2023-03-06T10:38:18.053Z"
   },
   {
    "duration": 375,
    "start_time": "2023-03-06T10:38:18.442Z"
   },
   {
    "duration": 375,
    "start_time": "2023-03-06T10:38:18.818Z"
   },
   {
    "duration": 304,
    "start_time": "2023-03-06T10:38:19.195Z"
   },
   {
    "duration": 13,
    "start_time": "2023-03-06T10:38:19.501Z"
   },
   {
    "duration": 199,
    "start_time": "2023-03-06T10:38:19.515Z"
   },
   {
    "duration": 253,
    "start_time": "2023-03-06T10:38:19.715Z"
   },
   {
    "duration": 155,
    "start_time": "2023-03-06T10:38:19.970Z"
   },
   {
    "duration": 190,
    "start_time": "2023-03-06T10:38:20.127Z"
   },
   {
    "duration": 175,
    "start_time": "2023-03-06T10:38:20.318Z"
   },
   {
    "duration": 138,
    "start_time": "2023-03-06T10:38:20.495Z"
   },
   {
    "duration": 188,
    "start_time": "2023-03-06T10:38:20.634Z"
   },
   {
    "duration": 187,
    "start_time": "2023-03-06T10:38:20.823Z"
   },
   {
    "duration": 141,
    "start_time": "2023-03-06T10:38:21.012Z"
   },
   {
    "duration": 8,
    "start_time": "2023-03-06T10:38:21.154Z"
   },
   {
    "duration": 5,
    "start_time": "2023-03-06T10:38:21.164Z"
   },
   {
    "duration": 13,
    "start_time": "2023-03-06T10:38:21.171Z"
   },
   {
    "duration": 8,
    "start_time": "2023-03-06T10:38:21.185Z"
   },
   {
    "duration": 1213,
    "start_time": "2023-03-06T19:34:04.343Z"
   },
   {
    "duration": 22,
    "start_time": "2023-03-06T19:34:05.558Z"
   },
   {
    "duration": 31,
    "start_time": "2023-03-06T19:34:05.582Z"
   },
   {
    "duration": 3,
    "start_time": "2023-03-06T19:34:05.615Z"
   },
   {
    "duration": 22,
    "start_time": "2023-03-06T19:34:05.621Z"
   },
   {
    "duration": 15,
    "start_time": "2023-03-06T19:34:05.645Z"
   },
   {
    "duration": 219,
    "start_time": "2023-03-06T19:34:05.662Z"
   },
   {
    "duration": 26,
    "start_time": "2023-03-06T19:34:05.883Z"
   },
   {
    "duration": 23,
    "start_time": "2023-03-06T19:34:05.912Z"
   },
   {
    "duration": 43,
    "start_time": "2023-03-06T19:34:05.938Z"
   },
   {
    "duration": 4878,
    "start_time": "2023-03-06T19:34:05.982Z"
   },
   {
    "duration": 40,
    "start_time": "2023-03-06T19:34:10.862Z"
   },
   {
    "duration": 4,
    "start_time": "2023-03-06T19:34:10.909Z"
   },
   {
    "duration": 19,
    "start_time": "2023-03-06T19:34:10.918Z"
   },
   {
    "duration": 12,
    "start_time": "2023-03-06T19:34:10.939Z"
   },
   {
    "duration": 11,
    "start_time": "2023-03-06T19:34:10.953Z"
   },
   {
    "duration": 5,
    "start_time": "2023-03-06T19:34:10.966Z"
   },
   {
    "duration": 24,
    "start_time": "2023-03-06T19:34:10.972Z"
   },
   {
    "duration": 30,
    "start_time": "2023-03-06T19:34:10.998Z"
   },
   {
    "duration": 187,
    "start_time": "2023-03-06T19:34:11.030Z"
   },
   {
    "duration": 203,
    "start_time": "2023-03-06T19:34:11.220Z"
   },
   {
    "duration": 2409,
    "start_time": "2023-03-06T19:34:11.425Z"
   },
   {
    "duration": 8,
    "start_time": "2023-03-06T19:34:13.836Z"
   },
   {
    "duration": 300,
    "start_time": "2023-03-06T19:34:13.846Z"
   },
   {
    "duration": 343,
    "start_time": "2023-03-06T19:34:14.148Z"
   },
   {
    "duration": 453,
    "start_time": "2023-03-06T19:34:14.493Z"
   },
   {
    "duration": 443,
    "start_time": "2023-03-06T19:34:14.948Z"
   },
   {
    "duration": 460,
    "start_time": "2023-03-06T19:34:15.392Z"
   },
   {
    "duration": 373,
    "start_time": "2023-03-06T19:34:15.854Z"
   },
   {
    "duration": 15,
    "start_time": "2023-03-06T19:34:16.229Z"
   },
   {
    "duration": 364,
    "start_time": "2023-03-06T19:34:16.246Z"
   },
   {
    "duration": 207,
    "start_time": "2023-03-06T19:34:16.612Z"
   },
   {
    "duration": 179,
    "start_time": "2023-03-06T19:34:16.821Z"
   },
   {
    "duration": 234,
    "start_time": "2023-03-06T19:34:17.002Z"
   },
   {
    "duration": 222,
    "start_time": "2023-03-06T19:34:17.238Z"
   },
   {
    "duration": 162,
    "start_time": "2023-03-06T19:34:17.462Z"
   },
   {
    "duration": 407,
    "start_time": "2023-03-06T19:34:17.626Z"
   },
   {
    "duration": 496,
    "start_time": "2023-03-06T19:34:18.035Z"
   },
   {
    "duration": 477,
    "start_time": "2023-03-06T19:34:18.533Z"
   },
   {
    "duration": 13,
    "start_time": "2023-03-06T19:34:19.011Z"
   },
   {
    "duration": 5,
    "start_time": "2023-03-06T19:34:19.028Z"
   },
   {
    "duration": 12,
    "start_time": "2023-03-06T19:34:19.035Z"
   },
   {
    "duration": 57,
    "start_time": "2023-03-06T19:34:19.048Z"
   },
   {
    "duration": 1176,
    "start_time": "2023-03-06T19:48:15.818Z"
   },
   {
    "duration": 21,
    "start_time": "2023-03-06T19:48:16.996Z"
   },
   {
    "duration": 19,
    "start_time": "2023-03-06T19:48:17.019Z"
   },
   {
    "duration": 3,
    "start_time": "2023-03-06T19:48:17.040Z"
   },
   {
    "duration": 11,
    "start_time": "2023-03-06T19:48:17.045Z"
   },
   {
    "duration": 4,
    "start_time": "2023-03-06T19:48:17.058Z"
   },
   {
    "duration": 240,
    "start_time": "2023-03-06T19:48:17.064Z"
   },
   {
    "duration": 18,
    "start_time": "2023-03-06T19:48:17.306Z"
   },
   {
    "duration": 12,
    "start_time": "2023-03-06T19:48:17.326Z"
   },
   {
    "duration": 30,
    "start_time": "2023-03-06T19:48:17.340Z"
   },
   {
    "duration": 4598,
    "start_time": "2023-03-06T19:48:17.372Z"
   },
   {
    "duration": 34,
    "start_time": "2023-03-06T19:48:21.972Z"
   },
   {
    "duration": 4,
    "start_time": "2023-03-06T19:48:22.008Z"
   },
   {
    "duration": 7,
    "start_time": "2023-03-06T19:48:22.016Z"
   },
   {
    "duration": 7,
    "start_time": "2023-03-06T19:48:22.025Z"
   },
   {
    "duration": 10,
    "start_time": "2023-03-06T19:48:22.034Z"
   },
   {
    "duration": 5,
    "start_time": "2023-03-06T19:48:22.046Z"
   },
   {
    "duration": 17,
    "start_time": "2023-03-06T19:48:22.052Z"
   },
   {
    "duration": 37,
    "start_time": "2023-03-06T19:48:22.071Z"
   },
   {
    "duration": 193,
    "start_time": "2023-03-06T19:48:22.110Z"
   },
   {
    "duration": 200,
    "start_time": "2023-03-06T19:48:22.305Z"
   },
   {
    "duration": 2212,
    "start_time": "2023-03-06T19:48:22.507Z"
   },
   {
    "duration": 8,
    "start_time": "2023-03-06T19:48:24.721Z"
   },
   {
    "duration": 286,
    "start_time": "2023-03-06T19:48:24.731Z"
   },
   {
    "duration": 334,
    "start_time": "2023-03-06T19:48:25.019Z"
   },
   {
    "duration": 450,
    "start_time": "2023-03-06T19:48:25.355Z"
   },
   {
    "duration": 443,
    "start_time": "2023-03-06T19:48:25.807Z"
   },
   {
    "duration": 440,
    "start_time": "2023-03-06T19:48:26.252Z"
   },
   {
    "duration": 354,
    "start_time": "2023-03-06T19:48:26.693Z"
   },
   {
    "duration": 16,
    "start_time": "2023-03-06T19:48:27.049Z"
   },
   {
    "duration": 348,
    "start_time": "2023-03-06T19:48:27.066Z"
   },
   {
    "duration": 198,
    "start_time": "2023-03-06T19:48:27.415Z"
   },
   {
    "duration": 170,
    "start_time": "2023-03-06T19:48:27.615Z"
   },
   {
    "duration": 207,
    "start_time": "2023-03-06T19:48:27.787Z"
   },
   {
    "duration": 202,
    "start_time": "2023-03-06T19:48:27.996Z"
   },
   {
    "duration": 172,
    "start_time": "2023-03-06T19:48:28.201Z"
   },
   {
    "duration": 270,
    "start_time": "2023-03-06T19:48:28.375Z"
   },
   {
    "duration": 228,
    "start_time": "2023-03-06T19:48:28.648Z"
   },
   {
    "duration": 168,
    "start_time": "2023-03-06T19:48:28.878Z"
   },
   {
    "duration": 10,
    "start_time": "2023-03-06T19:48:29.049Z"
   },
   {
    "duration": 4,
    "start_time": "2023-03-06T19:48:29.063Z"
   },
   {
    "duration": 33,
    "start_time": "2023-03-06T19:48:29.069Z"
   },
   {
    "duration": 6,
    "start_time": "2023-03-06T19:48:29.104Z"
   },
   {
    "duration": 1274,
    "start_time": "2023-03-09T10:30:39.132Z"
   },
   {
    "duration": 266,
    "start_time": "2023-03-09T10:30:40.413Z"
   },
   {
    "duration": 21,
    "start_time": "2023-03-09T10:30:44.657Z"
   },
   {
    "duration": 17,
    "start_time": "2023-03-09T10:30:45.933Z"
   },
   {
    "duration": 3,
    "start_time": "2023-03-09T10:30:50.304Z"
   },
   {
    "duration": 14,
    "start_time": "2023-03-09T10:30:51.802Z"
   },
   {
    "duration": 17,
    "start_time": "2023-03-09T10:33:28.045Z"
   },
   {
    "duration": 12,
    "start_time": "2023-03-09T10:33:28.512Z"
   },
   {
    "duration": 34,
    "start_time": "2023-03-09T10:33:29.787Z"
   },
   {
    "duration": 4655,
    "start_time": "2023-03-09T10:33:30.565Z"
   },
   {
    "duration": 29,
    "start_time": "2023-03-09T10:33:35.222Z"
   },
   {
    "duration": 4,
    "start_time": "2023-03-09T10:38:28.023Z"
   },
   {
    "duration": 73,
    "start_time": "2023-03-09T10:38:28.030Z"
   },
   {
    "duration": 22,
    "start_time": "2023-03-09T10:38:28.105Z"
   },
   {
    "duration": 22,
    "start_time": "2023-03-09T10:38:28.129Z"
   },
   {
    "duration": 3,
    "start_time": "2023-03-09T10:38:28.153Z"
   },
   {
    "duration": 16,
    "start_time": "2023-03-09T10:38:28.158Z"
   },
   {
    "duration": 5,
    "start_time": "2023-03-09T10:38:28.175Z"
   },
   {
    "duration": 233,
    "start_time": "2023-03-09T10:38:28.182Z"
   },
   {
    "duration": 27,
    "start_time": "2023-03-09T10:38:28.418Z"
   },
   {
    "duration": 11,
    "start_time": "2023-03-09T10:38:28.447Z"
   },
   {
    "duration": 31,
    "start_time": "2023-03-09T10:38:28.461Z"
   },
   {
    "duration": 7,
    "start_time": "2023-03-09T10:38:28.514Z"
   },
   {
    "duration": 37,
    "start_time": "2023-03-09T10:38:28.522Z"
   },
   {
    "duration": 4,
    "start_time": "2023-03-09T10:40:43.779Z"
   },
   {
    "duration": 6,
    "start_time": "2023-03-09T10:40:46.602Z"
   },
   {
    "duration": 5,
    "start_time": "2023-03-09T10:40:47.328Z"
   },
   {
    "duration": 9,
    "start_time": "2023-03-09T10:40:51.878Z"
   },
   {
    "duration": 5,
    "start_time": "2023-03-09T10:40:53.145Z"
   },
   {
    "duration": 17,
    "start_time": "2023-03-09T10:41:37.108Z"
   },
   {
    "duration": 18,
    "start_time": "2023-03-09T10:41:39.542Z"
   },
   {
    "duration": 15,
    "start_time": "2023-03-09T11:01:20.329Z"
   },
   {
    "duration": 43,
    "start_time": "2023-03-09T12:08:48.412Z"
   },
   {
    "duration": 15,
    "start_time": "2023-03-09T12:12:27.496Z"
   },
   {
    "duration": 1087,
    "start_time": "2023-03-09T12:14:20.729Z"
   },
   {
    "duration": 1035,
    "start_time": "2023-03-09T12:14:34.279Z"
   },
   {
    "duration": 4,
    "start_time": "2023-03-09T12:16:35.332Z"
   },
   {
    "duration": 52,
    "start_time": "2023-03-09T12:16:35.339Z"
   },
   {
    "duration": 16,
    "start_time": "2023-03-09T12:16:35.393Z"
   },
   {
    "duration": 15,
    "start_time": "2023-03-09T12:16:35.410Z"
   },
   {
    "duration": 3,
    "start_time": "2023-03-09T12:16:35.427Z"
   },
   {
    "duration": 11,
    "start_time": "2023-03-09T12:16:35.431Z"
   },
   {
    "duration": 4,
    "start_time": "2023-03-09T12:16:35.444Z"
   },
   {
    "duration": 217,
    "start_time": "2023-03-09T12:16:35.450Z"
   },
   {
    "duration": 19,
    "start_time": "2023-03-09T12:16:35.669Z"
   },
   {
    "duration": 29,
    "start_time": "2023-03-09T12:16:35.689Z"
   },
   {
    "duration": 30,
    "start_time": "2023-03-09T12:16:35.720Z"
   },
   {
    "duration": 3,
    "start_time": "2023-03-09T12:16:35.752Z"
   },
   {
    "duration": 36,
    "start_time": "2023-03-09T12:16:35.756Z"
   },
   {
    "duration": 19,
    "start_time": "2023-03-09T12:16:35.794Z"
   },
   {
    "duration": 10,
    "start_time": "2023-03-09T12:16:35.815Z"
   },
   {
    "duration": 6,
    "start_time": "2023-03-09T12:16:35.826Z"
   },
   {
    "duration": 19,
    "start_time": "2023-03-09T12:16:35.833Z"
   },
   {
    "duration": 1010,
    "start_time": "2023-03-09T12:16:35.855Z"
   },
   {
    "duration": 17,
    "start_time": "2023-03-09T12:16:36.867Z"
   },
   {
    "duration": 26,
    "start_time": "2023-03-09T12:16:36.886Z"
   },
   {
    "duration": 8,
    "start_time": "2023-03-09T12:19:32.981Z"
   },
   {
    "duration": 3,
    "start_time": "2023-03-09T12:19:44.687Z"
   },
   {
    "duration": 53,
    "start_time": "2023-03-09T12:19:44.691Z"
   },
   {
    "duration": 16,
    "start_time": "2023-03-09T12:19:44.745Z"
   },
   {
    "duration": 14,
    "start_time": "2023-03-09T12:19:44.763Z"
   },
   {
    "duration": 3,
    "start_time": "2023-03-09T12:19:44.779Z"
   },
   {
    "duration": 29,
    "start_time": "2023-03-09T12:19:44.784Z"
   },
   {
    "duration": 4,
    "start_time": "2023-03-09T12:19:44.815Z"
   },
   {
    "duration": 178,
    "start_time": "2023-03-09T12:19:44.820Z"
   },
   {
    "duration": 21,
    "start_time": "2023-03-09T12:19:45.000Z"
   },
   {
    "duration": 16,
    "start_time": "2023-03-09T12:19:45.023Z"
   },
   {
    "duration": 34,
    "start_time": "2023-03-09T12:19:45.041Z"
   },
   {
    "duration": 2,
    "start_time": "2023-03-09T12:19:45.077Z"
   },
   {
    "duration": 42,
    "start_time": "2023-03-09T12:19:45.081Z"
   },
   {
    "duration": 7,
    "start_time": "2023-03-09T12:19:45.125Z"
   },
   {
    "duration": 6,
    "start_time": "2023-03-09T12:19:45.133Z"
   },
   {
    "duration": 5,
    "start_time": "2023-03-09T12:19:45.141Z"
   },
   {
    "duration": 10,
    "start_time": "2023-03-09T12:19:45.147Z"
   },
   {
    "duration": 1095,
    "start_time": "2023-03-09T12:19:45.158Z"
   },
   {
    "duration": 17,
    "start_time": "2023-03-09T12:19:46.255Z"
   },
   {
    "duration": 8,
    "start_time": "2023-03-09T12:19:46.273Z"
   },
   {
    "duration": 14,
    "start_time": "2023-03-09T12:19:48.183Z"
   },
   {
    "duration": 8,
    "start_time": "2023-03-09T12:19:55.709Z"
   },
   {
    "duration": 179,
    "start_time": "2023-03-09T12:20:01.517Z"
   },
   {
    "duration": 99,
    "start_time": "2023-03-09T12:22:32.999Z"
   },
   {
    "duration": 18,
    "start_time": "2023-03-09T12:22:39.298Z"
   },
   {
    "duration": 151,
    "start_time": "2023-03-09T12:23:04.590Z"
   },
   {
    "duration": 16,
    "start_time": "2023-03-09T12:23:23.417Z"
   },
   {
    "duration": 158,
    "start_time": "2023-03-09T12:23:31.448Z"
   },
   {
    "duration": 196,
    "start_time": "2023-03-09T12:24:17.628Z"
   },
   {
    "duration": 2030,
    "start_time": "2023-03-09T12:24:26.684Z"
   },
   {
    "duration": 12,
    "start_time": "2023-03-09T12:28:49.682Z"
   },
   {
    "duration": 196,
    "start_time": "2023-03-09T12:28:58.891Z"
   },
   {
    "duration": 4,
    "start_time": "2023-03-09T12:30:58.934Z"
   },
   {
    "duration": 68,
    "start_time": "2023-03-09T12:31:14.289Z"
   },
   {
    "duration": 8,
    "start_time": "2023-03-09T12:35:36.989Z"
   },
   {
    "duration": 18,
    "start_time": "2023-03-09T12:35:48.197Z"
   },
   {
    "duration": 59,
    "start_time": "2023-03-09T16:34:19.455Z"
   },
   {
    "duration": 46,
    "start_time": "2023-03-09T16:34:26.557Z"
   },
   {
    "duration": 1258,
    "start_time": "2023-03-09T16:34:33.897Z"
   },
   {
    "duration": 251,
    "start_time": "2023-03-09T16:34:35.158Z"
   },
   {
    "duration": 21,
    "start_time": "2023-03-09T16:34:35.411Z"
   },
   {
    "duration": 14,
    "start_time": "2023-03-09T16:34:35.433Z"
   },
   {
    "duration": 4,
    "start_time": "2023-03-09T16:34:35.450Z"
   },
   {
    "duration": 12,
    "start_time": "2023-03-09T16:34:35.456Z"
   },
   {
    "duration": 4,
    "start_time": "2023-03-09T16:34:35.469Z"
   },
   {
    "duration": 224,
    "start_time": "2023-03-09T16:34:35.475Z"
   },
   {
    "duration": 21,
    "start_time": "2023-03-09T16:34:35.701Z"
   },
   {
    "duration": 9,
    "start_time": "2023-03-09T16:34:35.724Z"
   },
   {
    "duration": 28,
    "start_time": "2023-03-09T16:34:35.735Z"
   },
   {
    "duration": 2,
    "start_time": "2023-03-09T16:34:35.764Z"
   },
   {
    "duration": 53,
    "start_time": "2023-03-09T16:34:35.768Z"
   },
   {
    "duration": 6,
    "start_time": "2023-03-09T16:34:35.823Z"
   },
   {
    "duration": 5,
    "start_time": "2023-03-09T16:34:35.831Z"
   },
   {
    "duration": 10,
    "start_time": "2023-03-09T16:34:35.837Z"
   },
   {
    "duration": 10,
    "start_time": "2023-03-09T16:34:35.848Z"
   },
   {
    "duration": 972,
    "start_time": "2023-03-09T16:34:35.859Z"
   },
   {
    "duration": 16,
    "start_time": "2023-03-09T16:34:36.833Z"
   },
   {
    "duration": 9,
    "start_time": "2023-03-09T16:34:36.850Z"
   },
   {
    "duration": 14,
    "start_time": "2023-03-09T16:34:36.860Z"
   },
   {
    "duration": 42,
    "start_time": "2023-03-09T16:34:36.875Z"
   },
   {
    "duration": 161,
    "start_time": "2023-03-09T16:34:36.919Z"
   },
   {
    "duration": 202,
    "start_time": "2023-03-09T16:34:37.082Z"
   },
   {
    "duration": 2053,
    "start_time": "2023-03-09T16:34:37.286Z"
   },
   {
    "duration": 21,
    "start_time": "2023-03-09T16:34:41.368Z"
   },
   {
    "duration": 11,
    "start_time": "2023-03-09T16:34:48.001Z"
   },
   {
    "duration": 7,
    "start_time": "2023-03-09T16:34:57.872Z"
   },
   {
    "duration": 15,
    "start_time": "2023-03-09T16:35:21.335Z"
   },
   {
    "duration": 21,
    "start_time": "2023-03-09T16:39:42.948Z"
   },
   {
    "duration": 21,
    "start_time": "2023-03-09T16:39:50.697Z"
   },
   {
    "duration": 1876,
    "start_time": "2023-03-09T16:39:58.267Z"
   },
   {
    "duration": 8,
    "start_time": "2023-03-09T16:40:25.122Z"
   },
   {
    "duration": 7,
    "start_time": "2023-03-09T16:41:32.365Z"
   },
   {
    "duration": 266,
    "start_time": "2023-03-09T16:41:48.734Z"
   },
   {
    "duration": 385,
    "start_time": "2023-03-09T16:42:17.678Z"
   },
   {
    "duration": 250,
    "start_time": "2023-03-09T16:43:39.780Z"
   },
   {
    "duration": 125,
    "start_time": "2023-03-09T17:03:12.783Z"
   },
   {
    "duration": 118,
    "start_time": "2023-03-09T17:03:36.467Z"
   },
   {
    "duration": 177,
    "start_time": "2023-03-09T17:06:03.539Z"
   },
   {
    "duration": 483,
    "start_time": "2023-03-09T17:06:23.320Z"
   },
   {
    "duration": 453,
    "start_time": "2023-03-09T17:06:39.033Z"
   },
   {
    "duration": 584,
    "start_time": "2023-03-09T17:07:15.399Z"
   },
   {
    "duration": 560,
    "start_time": "2023-03-09T17:07:24.089Z"
   },
   {
    "duration": 507,
    "start_time": "2023-03-09T17:07:44.051Z"
   },
   {
    "duration": 134,
    "start_time": "2023-03-09T17:13:20.650Z"
   },
   {
    "duration": 479,
    "start_time": "2023-03-09T17:18:52.991Z"
   },
   {
    "duration": 534,
    "start_time": "2023-03-09T17:19:08.917Z"
   },
   {
    "duration": 600,
    "start_time": "2023-03-09T17:19:54.046Z"
   },
   {
    "duration": 481,
    "start_time": "2023-03-09T17:20:03.239Z"
   },
   {
    "duration": 455,
    "start_time": "2023-03-09T17:20:29.568Z"
   },
   {
    "duration": 436,
    "start_time": "2023-03-09T17:20:41.464Z"
   },
   {
    "duration": 454,
    "start_time": "2023-03-09T17:21:11.859Z"
   },
   {
    "duration": 362,
    "start_time": "2023-03-09T17:38:12.640Z"
   },
   {
    "duration": 16,
    "start_time": "2023-03-09T17:38:19.601Z"
   },
   {
    "duration": 11,
    "start_time": "2023-03-09T17:39:29.004Z"
   },
   {
    "duration": 12,
    "start_time": "2023-03-09T17:39:34.048Z"
   },
   {
    "duration": 15,
    "start_time": "2023-03-09T17:40:17.294Z"
   },
   {
    "duration": 13,
    "start_time": "2023-03-09T17:41:28.072Z"
   },
   {
    "duration": 108,
    "start_time": "2023-03-09T17:41:37.910Z"
   },
   {
    "duration": 49,
    "start_time": "2023-03-09T17:42:41.631Z"
   },
   {
    "duration": 312,
    "start_time": "2023-03-09T17:42:44.581Z"
   },
   {
    "duration": 135,
    "start_time": "2023-03-09T17:43:34.490Z"
   },
   {
    "duration": 192,
    "start_time": "2023-03-09T17:43:42.118Z"
   },
   {
    "duration": 136,
    "start_time": "2023-03-09T17:44:02.940Z"
   },
   {
    "duration": 244,
    "start_time": "2023-03-09T17:44:30.361Z"
   },
   {
    "duration": 208,
    "start_time": "2023-03-09T17:44:40.586Z"
   },
   {
    "duration": 236,
    "start_time": "2023-03-09T17:46:13.599Z"
   },
   {
    "duration": 240,
    "start_time": "2023-03-09T17:46:20.440Z"
   },
   {
    "duration": 251,
    "start_time": "2023-03-09T17:46:28.582Z"
   },
   {
    "duration": 235,
    "start_time": "2023-03-09T17:47:14.591Z"
   },
   {
    "duration": 231,
    "start_time": "2023-03-09T17:47:21.228Z"
   },
   {
    "duration": 52,
    "start_time": "2023-03-09T17:48:19.149Z"
   },
   {
    "duration": 347,
    "start_time": "2023-03-09T17:48:51.587Z"
   },
   {
    "duration": 263,
    "start_time": "2023-03-09T17:48:58.701Z"
   },
   {
    "duration": 227,
    "start_time": "2023-03-09T17:49:50.565Z"
   },
   {
    "duration": 231,
    "start_time": "2023-03-09T17:49:57.181Z"
   },
   {
    "duration": 236,
    "start_time": "2023-03-09T17:50:59.210Z"
   },
   {
    "duration": 242,
    "start_time": "2023-03-09T17:51:06.806Z"
   },
   {
    "duration": 256,
    "start_time": "2023-03-09T17:52:27.595Z"
   },
   {
    "duration": 229,
    "start_time": "2023-03-09T17:52:32.446Z"
   },
   {
    "duration": 265,
    "start_time": "2023-03-09T17:53:50.194Z"
   },
   {
    "duration": 247,
    "start_time": "2023-03-09T17:55:06.247Z"
   },
   {
    "duration": 241,
    "start_time": "2023-03-09T17:55:16.184Z"
   },
   {
    "duration": 332,
    "start_time": "2023-03-09T17:55:21.865Z"
   },
   {
    "duration": 225,
    "start_time": "2023-03-09T17:56:11.295Z"
   },
   {
    "duration": 238,
    "start_time": "2023-03-09T17:57:09.815Z"
   },
   {
    "duration": 271,
    "start_time": "2023-03-09T17:57:17.636Z"
   },
   {
    "duration": 223,
    "start_time": "2023-03-09T17:58:02.076Z"
   },
   {
    "duration": 244,
    "start_time": "2023-03-09T17:58:10.996Z"
   },
   {
    "duration": 186,
    "start_time": "2023-03-09T19:48:00.140Z"
   },
   {
    "duration": 188,
    "start_time": "2023-03-09T19:49:21.379Z"
   },
   {
    "duration": 191,
    "start_time": "2023-03-09T19:50:24.072Z"
   },
   {
    "duration": 8,
    "start_time": "2023-03-09T19:56:09.609Z"
   },
   {
    "duration": 6,
    "start_time": "2023-03-09T19:57:14.036Z"
   },
   {
    "duration": 1264,
    "start_time": "2023-03-10T19:39:59.852Z"
   },
   {
    "duration": 157,
    "start_time": "2023-03-10T19:40:01.118Z"
   },
   {
    "duration": 18,
    "start_time": "2023-03-10T19:40:01.277Z"
   },
   {
    "duration": 37,
    "start_time": "2023-03-10T19:40:01.297Z"
   },
   {
    "duration": 23,
    "start_time": "2023-03-10T19:40:01.336Z"
   },
   {
    "duration": 38,
    "start_time": "2023-03-10T19:40:01.360Z"
   },
   {
    "duration": 27,
    "start_time": "2023-03-10T19:40:01.400Z"
   },
   {
    "duration": 204,
    "start_time": "2023-03-10T19:40:01.428Z"
   },
   {
    "duration": 16,
    "start_time": "2023-03-10T19:40:01.634Z"
   },
   {
    "duration": 72,
    "start_time": "2023-03-10T19:40:01.651Z"
   },
   {
    "duration": 63,
    "start_time": "2023-03-10T19:40:01.724Z"
   },
   {
    "duration": 19,
    "start_time": "2023-03-10T19:40:01.789Z"
   },
   {
    "duration": 77,
    "start_time": "2023-03-10T19:40:01.809Z"
   },
   {
    "duration": 11,
    "start_time": "2023-03-10T19:40:01.889Z"
   },
   {
    "duration": 35,
    "start_time": "2023-03-10T19:40:01.902Z"
   },
   {
    "duration": 37,
    "start_time": "2023-03-10T19:40:01.939Z"
   },
   {
    "duration": 63,
    "start_time": "2023-03-10T19:40:01.977Z"
   },
   {
    "duration": 973,
    "start_time": "2023-03-10T19:40:02.041Z"
   },
   {
    "duration": 15,
    "start_time": "2023-03-10T19:40:03.016Z"
   },
   {
    "duration": 35,
    "start_time": "2023-03-10T19:40:03.032Z"
   },
   {
    "duration": 33,
    "start_time": "2023-03-10T19:40:03.068Z"
   },
   {
    "duration": 36,
    "start_time": "2023-03-10T19:40:03.103Z"
   },
   {
    "duration": 153,
    "start_time": "2023-03-10T19:40:03.140Z"
   },
   {
    "duration": 196,
    "start_time": "2023-03-10T19:40:03.295Z"
   },
   {
    "duration": 2014,
    "start_time": "2023-03-10T19:40:03.493Z"
   },
   {
    "duration": 7,
    "start_time": "2023-03-10T19:40:05.509Z"
   },
   {
    "duration": 21,
    "start_time": "2023-03-10T19:40:05.518Z"
   },
   {
    "duration": 299,
    "start_time": "2023-03-10T19:40:05.541Z"
   },
   {
    "duration": 243,
    "start_time": "2023-03-10T19:40:05.842Z"
   },
   {
    "duration": 498,
    "start_time": "2023-03-10T19:40:06.089Z"
   },
   {
    "duration": 446,
    "start_time": "2023-03-10T19:40:06.590Z"
   },
   {
    "duration": 488,
    "start_time": "2023-03-10T19:40:07.037Z"
   },
   {
    "duration": 342,
    "start_time": "2023-03-10T19:40:07.527Z"
   },
   {
    "duration": 19,
    "start_time": "2023-03-10T19:40:07.871Z"
   },
   {
    "duration": 219,
    "start_time": "2023-03-10T19:40:07.892Z"
   },
   {
    "duration": 243,
    "start_time": "2023-03-10T19:40:08.112Z"
   },
   {
    "duration": 259,
    "start_time": "2023-03-10T19:40:08.357Z"
   },
   {
    "duration": 233,
    "start_time": "2023-03-10T19:40:08.618Z"
   },
   {
    "duration": 230,
    "start_time": "2023-03-10T19:40:08.853Z"
   },
   {
    "duration": 238,
    "start_time": "2023-03-10T19:40:09.089Z"
   },
   {
    "duration": 248,
    "start_time": "2023-03-10T19:40:09.331Z"
   },
   {
    "duration": 247,
    "start_time": "2023-03-10T19:40:09.581Z"
   },
   {
    "duration": 329,
    "start_time": "2023-03-10T19:40:09.830Z"
   },
   {
    "duration": 235,
    "start_time": "2023-03-10T19:40:10.160Z"
   },
   {
    "duration": 275,
    "start_time": "2023-03-10T19:40:10.397Z"
   },
   {
    "duration": 258,
    "start_time": "2023-03-10T19:40:10.674Z"
   },
   {
    "duration": 55,
    "start_time": "2023-03-10T19:40:12.541Z"
   },
   {
    "duration": 58,
    "start_time": "2023-03-10T19:48:49.977Z"
   },
   {
    "duration": 9,
    "start_time": "2023-03-10T19:51:38.009Z"
   },
   {
    "duration": 10,
    "start_time": "2023-03-10T19:51:56.653Z"
   },
   {
    "duration": 9,
    "start_time": "2023-03-10T19:52:09.284Z"
   },
   {
    "duration": 12,
    "start_time": "2023-03-10T19:52:58.123Z"
   },
   {
    "duration": 19,
    "start_time": "2023-03-10T19:53:07.448Z"
   },
   {
    "duration": 22,
    "start_time": "2023-03-10T19:53:21.117Z"
   },
   {
    "duration": 18,
    "start_time": "2023-03-10T20:00:23.091Z"
   },
   {
    "duration": 19,
    "start_time": "2023-03-10T20:01:42.771Z"
   },
   {
    "duration": 71,
    "start_time": "2023-03-10T20:02:06.480Z"
   },
   {
    "duration": 70,
    "start_time": "2023-03-10T20:02:12.018Z"
   },
   {
    "duration": 94,
    "start_time": "2023-03-10T20:02:16.918Z"
   },
   {
    "duration": 10,
    "start_time": "2023-03-10T20:02:21.788Z"
   },
   {
    "duration": 20,
    "start_time": "2023-03-10T20:02:29.263Z"
   },
   {
    "duration": 1129,
    "start_time": "2023-03-10T20:02:51.568Z"
   },
   {
    "duration": 560,
    "start_time": "2023-03-10T20:03:02.087Z"
   },
   {
    "duration": 14,
    "start_time": "2023-03-10T20:03:12.091Z"
   },
   {
    "duration": 20,
    "start_time": "2023-03-10T20:03:20.427Z"
   },
   {
    "duration": 18,
    "start_time": "2023-03-10T20:03:33.021Z"
   },
   {
    "duration": 17,
    "start_time": "2023-03-10T20:03:46.493Z"
   },
   {
    "duration": 17,
    "start_time": "2023-03-10T20:03:50.338Z"
   },
   {
    "duration": 15,
    "start_time": "2023-03-10T20:04:04.684Z"
   },
   {
    "duration": 15,
    "start_time": "2023-03-10T20:04:21.509Z"
   },
   {
    "duration": 64,
    "start_time": "2023-03-10T20:06:48.371Z"
   },
   {
    "duration": 18,
    "start_time": "2023-03-10T20:07:11.288Z"
   },
   {
    "duration": 18,
    "start_time": "2023-03-10T20:07:21.708Z"
   },
   {
    "duration": 59,
    "start_time": "2023-03-10T20:08:07.933Z"
   },
   {
    "duration": 21,
    "start_time": "2023-03-10T20:08:10.332Z"
   },
   {
    "duration": 29,
    "start_time": "2023-03-10T20:09:49.708Z"
   },
   {
    "duration": 26,
    "start_time": "2023-03-10T20:10:21.491Z"
   },
   {
    "duration": 89,
    "start_time": "2023-03-10T20:12:02.996Z"
   },
   {
    "duration": 79,
    "start_time": "2023-03-10T20:12:28.403Z"
   },
   {
    "duration": 937,
    "start_time": "2023-03-10T20:14:48.413Z"
   },
   {
    "duration": 923,
    "start_time": "2023-03-10T20:15:06.066Z"
   },
   {
    "duration": 8,
    "start_time": "2023-03-10T20:21:49.332Z"
   },
   {
    "duration": 4,
    "start_time": "2023-03-10T20:22:23.701Z"
   },
   {
    "duration": 9,
    "start_time": "2023-03-10T20:22:54.960Z"
   },
   {
    "duration": 25,
    "start_time": "2023-03-10T20:23:11.701Z"
   },
   {
    "duration": 662,
    "start_time": "2023-03-10T20:23:31.152Z"
   },
   {
    "duration": 66,
    "start_time": "2023-03-10T20:26:38.524Z"
   },
   {
    "duration": 46,
    "start_time": "2023-03-10T20:26:47.206Z"
   },
   {
    "duration": 1160,
    "start_time": "2023-03-10T20:29:31.771Z"
   },
   {
    "duration": 74,
    "start_time": "2023-03-10T20:29:42.434Z"
   },
   {
    "duration": 18,
    "start_time": "2023-03-10T20:29:47.140Z"
   },
   {
    "duration": 71,
    "start_time": "2023-03-10T20:30:16.204Z"
   },
   {
    "duration": 19,
    "start_time": "2023-03-10T20:30:19.077Z"
   },
   {
    "duration": 33,
    "start_time": "2023-03-10T20:30:49.875Z"
   },
   {
    "duration": 71,
    "start_time": "2023-03-10T20:31:02.856Z"
   },
   {
    "duration": 19,
    "start_time": "2023-03-10T20:31:05.348Z"
   },
   {
    "duration": 22,
    "start_time": "2023-03-10T20:31:19.356Z"
   },
   {
    "duration": 20,
    "start_time": "2023-03-10T20:32:09.371Z"
   },
   {
    "duration": 68,
    "start_time": "2023-03-10T20:32:37.068Z"
   },
   {
    "duration": 15,
    "start_time": "2023-03-10T20:32:39.698Z"
   },
   {
    "duration": 69,
    "start_time": "2023-03-10T20:32:48.479Z"
   },
   {
    "duration": 15,
    "start_time": "2023-03-10T20:32:50.712Z"
   },
   {
    "duration": 79,
    "start_time": "2023-03-10T20:33:24.504Z"
   },
   {
    "duration": 20,
    "start_time": "2023-03-10T20:33:27.244Z"
   },
   {
    "duration": 71,
    "start_time": "2023-03-10T20:36:50.113Z"
   },
   {
    "duration": 21,
    "start_time": "2023-03-10T20:36:55.220Z"
   },
   {
    "duration": 30,
    "start_time": "2023-03-10T20:40:07.584Z"
   },
   {
    "duration": 74,
    "start_time": "2023-03-10T20:40:22.021Z"
   },
   {
    "duration": 20,
    "start_time": "2023-03-10T20:40:33.622Z"
   },
   {
    "duration": 76,
    "start_time": "2023-03-10T20:41:28.430Z"
   },
   {
    "duration": 72,
    "start_time": "2023-03-10T20:41:43.892Z"
   },
   {
    "duration": 68,
    "start_time": "2023-03-10T20:42:24.925Z"
   },
   {
    "duration": 31,
    "start_time": "2023-03-10T20:42:58.256Z"
   },
   {
    "duration": 70,
    "start_time": "2023-03-10T20:43:21.705Z"
   },
   {
    "duration": 69,
    "start_time": "2023-03-10T20:43:34.567Z"
   },
   {
    "duration": 75,
    "start_time": "2023-03-10T20:47:37.908Z"
   },
   {
    "duration": 70,
    "start_time": "2023-03-10T20:47:51.779Z"
   },
   {
    "duration": 27,
    "start_time": "2023-03-10T20:47:54.468Z"
   },
   {
    "duration": 68,
    "start_time": "2023-03-10T20:48:13.483Z"
   },
   {
    "duration": 19,
    "start_time": "2023-03-10T20:48:17.131Z"
   },
   {
    "duration": 69,
    "start_time": "2023-03-10T20:53:09.503Z"
   },
   {
    "duration": 104,
    "start_time": "2023-03-10T20:53:36.252Z"
   },
   {
    "duration": 136,
    "start_time": "2023-03-10T21:04:18.611Z"
   },
   {
    "duration": 22,
    "start_time": "2023-03-10T21:04:29.778Z"
   },
   {
    "duration": 140,
    "start_time": "2023-03-10T21:28:26.846Z"
   },
   {
    "duration": 151,
    "start_time": "2023-03-10T21:29:08.420Z"
   },
   {
    "duration": 126,
    "start_time": "2023-03-10T21:29:23.031Z"
   },
   {
    "duration": 5,
    "start_time": "2023-03-10T21:30:21.686Z"
   },
   {
    "duration": 580,
    "start_time": "2023-03-10T21:30:27.064Z"
   },
   {
    "duration": 149,
    "start_time": "2023-03-10T21:30:37.624Z"
   },
   {
    "duration": 1289,
    "start_time": "2023-03-10T21:30:45.751Z"
   },
   {
    "duration": 275,
    "start_time": "2023-03-10T21:32:46.339Z"
   },
   {
    "duration": 134,
    "start_time": "2023-03-10T21:33:01.168Z"
   },
   {
    "duration": 75,
    "start_time": "2023-03-10T21:33:20.651Z"
   },
   {
    "duration": 58,
    "start_time": "2023-03-10T21:36:12.795Z"
   },
   {
    "duration": 144,
    "start_time": "2023-03-10T21:38:21.158Z"
   },
   {
    "duration": 148,
    "start_time": "2023-03-10T21:44:06.630Z"
   },
   {
    "duration": 42,
    "start_time": "2023-03-10T21:44:43.625Z"
   },
   {
    "duration": 1461,
    "start_time": "2023-03-10T21:44:56.064Z"
   },
   {
    "duration": 1430,
    "start_time": "2023-03-10T21:45:12.291Z"
   },
   {
    "duration": 447,
    "start_time": "2023-03-10T21:45:34.155Z"
   },
   {
    "duration": 239,
    "start_time": "2023-03-10T21:46:10.918Z"
   },
   {
    "duration": 334,
    "start_time": "2023-03-10T21:46:36.413Z"
   },
   {
    "duration": 282,
    "start_time": "2023-03-10T21:46:44.133Z"
   },
   {
    "duration": 260,
    "start_time": "2023-03-10T21:47:11.611Z"
   },
   {
    "duration": 259,
    "start_time": "2023-03-10T21:52:32.402Z"
   },
   {
    "duration": 257,
    "start_time": "2023-03-10T21:52:43.752Z"
   },
   {
    "duration": 132,
    "start_time": "2023-03-10T21:53:05.491Z"
   },
   {
    "duration": 294,
    "start_time": "2023-03-10T21:53:18.997Z"
   },
   {
    "duration": 434,
    "start_time": "2023-03-10T21:54:21.187Z"
   },
   {
    "duration": 314,
    "start_time": "2023-03-10T21:54:57.436Z"
   },
   {
    "duration": 308,
    "start_time": "2023-03-10T21:59:16.553Z"
   },
   {
    "duration": 366,
    "start_time": "2023-03-10T22:00:09.313Z"
   },
   {
    "duration": 353,
    "start_time": "2023-03-10T22:00:32.116Z"
   },
   {
    "duration": 639,
    "start_time": "2023-03-10T22:01:17.257Z"
   },
   {
    "duration": 431,
    "start_time": "2023-03-10T22:04:57.880Z"
   },
   {
    "duration": 476,
    "start_time": "2023-03-10T22:05:33.760Z"
   },
   {
    "duration": 451,
    "start_time": "2023-03-10T22:05:49.483Z"
   },
   {
    "duration": 450,
    "start_time": "2023-03-10T22:06:18.492Z"
   },
   {
    "duration": 389,
    "start_time": "2023-03-10T22:06:43.206Z"
   },
   {
    "duration": 6,
    "start_time": "2023-03-10T22:09:51.615Z"
   },
   {
    "duration": 287,
    "start_time": "2023-03-10T22:09:58.356Z"
   },
   {
    "duration": 190,
    "start_time": "2023-03-10T22:10:24.356Z"
   },
   {
    "duration": 441,
    "start_time": "2023-03-10T22:10:57.739Z"
   },
   {
    "duration": 1614,
    "start_time": "2023-03-10T22:11:19.358Z"
   },
   {
    "duration": 483,
    "start_time": "2023-03-10T22:11:26.981Z"
   },
   {
    "duration": 462,
    "start_time": "2023-03-10T22:11:45.031Z"
   },
   {
    "duration": 58,
    "start_time": "2023-03-11T09:05:10.772Z"
   },
   {
    "duration": 1285,
    "start_time": "2023-03-11T09:05:15.517Z"
   },
   {
    "duration": 111,
    "start_time": "2023-03-11T09:05:16.804Z"
   },
   {
    "duration": 18,
    "start_time": "2023-03-11T09:05:16.916Z"
   },
   {
    "duration": 13,
    "start_time": "2023-03-11T09:05:16.936Z"
   },
   {
    "duration": 8,
    "start_time": "2023-03-11T09:05:16.951Z"
   },
   {
    "duration": 39,
    "start_time": "2023-03-11T09:05:16.960Z"
   },
   {
    "duration": 5,
    "start_time": "2023-03-11T09:05:17.001Z"
   },
   {
    "duration": 195,
    "start_time": "2023-03-11T09:05:17.008Z"
   },
   {
    "duration": 24,
    "start_time": "2023-03-11T09:05:17.205Z"
   },
   {
    "duration": 9,
    "start_time": "2023-03-11T09:05:17.231Z"
   },
   {
    "duration": 56,
    "start_time": "2023-03-11T09:05:17.241Z"
   },
   {
    "duration": 5,
    "start_time": "2023-03-11T09:05:17.298Z"
   },
   {
    "duration": 28,
    "start_time": "2023-03-11T09:05:17.305Z"
   },
   {
    "duration": 5,
    "start_time": "2023-03-11T09:05:17.335Z"
   },
   {
    "duration": 23,
    "start_time": "2023-03-11T09:05:17.341Z"
   },
   {
    "duration": 33,
    "start_time": "2023-03-11T09:05:17.366Z"
   },
   {
    "duration": 18,
    "start_time": "2023-03-11T09:05:17.401Z"
   },
   {
    "duration": 908,
    "start_time": "2023-03-11T09:05:17.421Z"
   },
   {
    "duration": 14,
    "start_time": "2023-03-11T09:05:18.331Z"
   },
   {
    "duration": 7,
    "start_time": "2023-03-11T09:05:18.347Z"
   },
   {
    "duration": 32,
    "start_time": "2023-03-11T09:05:18.355Z"
   },
   {
    "duration": 38,
    "start_time": "2023-03-11T09:05:18.388Z"
   },
   {
    "duration": 171,
    "start_time": "2023-03-11T09:05:18.428Z"
   },
   {
    "duration": 163,
    "start_time": "2023-03-11T09:05:18.601Z"
   },
   {
    "duration": 1795,
    "start_time": "2023-03-11T09:05:18.766Z"
   },
   {
    "duration": 7,
    "start_time": "2023-03-11T09:05:20.563Z"
   },
   {
    "duration": 25,
    "start_time": "2023-03-11T09:05:20.572Z"
   },
   {
    "duration": 254,
    "start_time": "2023-03-11T09:05:20.604Z"
   },
   {
    "duration": 265,
    "start_time": "2023-03-11T09:05:20.859Z"
   },
   {
    "duration": 412,
    "start_time": "2023-03-11T09:05:21.126Z"
   },
   {
    "duration": 455,
    "start_time": "2023-03-11T09:05:21.540Z"
   },
   {
    "duration": 356,
    "start_time": "2023-03-11T09:05:21.997Z"
   },
   {
    "duration": 302,
    "start_time": "2023-03-11T09:05:22.354Z"
   },
   {
    "duration": 13,
    "start_time": "2023-03-11T09:05:22.657Z"
   },
   {
    "duration": 205,
    "start_time": "2023-03-11T09:05:22.690Z"
   },
   {
    "duration": 264,
    "start_time": "2023-03-11T09:05:22.897Z"
   },
   {
    "duration": 230,
    "start_time": "2023-03-11T09:05:23.162Z"
   },
   {
    "duration": 216,
    "start_time": "2023-03-11T09:05:23.395Z"
   },
   {
    "duration": 212,
    "start_time": "2023-03-11T09:05:23.612Z"
   },
   {
    "duration": 218,
    "start_time": "2023-03-11T09:05:23.826Z"
   },
   {
    "duration": 215,
    "start_time": "2023-03-11T09:05:24.046Z"
   },
   {
    "duration": 230,
    "start_time": "2023-03-11T09:05:24.263Z"
   },
   {
    "duration": 330,
    "start_time": "2023-03-11T09:05:24.495Z"
   },
   {
    "duration": 228,
    "start_time": "2023-03-11T09:05:24.827Z"
   },
   {
    "duration": 261,
    "start_time": "2023-03-11T09:05:25.056Z"
   },
   {
    "duration": 274,
    "start_time": "2023-03-11T09:05:25.319Z"
   },
   {
    "duration": 128,
    "start_time": "2023-03-11T09:05:25.595Z"
   },
   {
    "duration": 401,
    "start_time": "2023-03-11T09:05:28.930Z"
   },
   {
    "duration": 270,
    "start_time": "2023-03-11T09:07:09.432Z"
   },
   {
    "duration": 405,
    "start_time": "2023-03-11T09:07:45.418Z"
   },
   {
    "duration": 378,
    "start_time": "2023-03-11T09:07:55.051Z"
   },
   {
    "duration": 476,
    "start_time": "2023-03-11T09:08:17.619Z"
   },
   {
    "duration": 368,
    "start_time": "2023-03-11T09:15:22.041Z"
   },
   {
    "duration": 432,
    "start_time": "2023-03-11T09:15:54.103Z"
   },
   {
    "duration": 343,
    "start_time": "2023-03-11T09:23:14.909Z"
   },
   {
    "duration": 8,
    "start_time": "2023-03-11T09:31:55.114Z"
   },
   {
    "duration": 5,
    "start_time": "2023-03-11T09:50:04.710Z"
   },
   {
    "duration": 5,
    "start_time": "2023-03-11T09:55:01.115Z"
   },
   {
    "duration": 6,
    "start_time": "2023-03-11T09:56:07.850Z"
   },
   {
    "duration": 5,
    "start_time": "2023-03-11T09:56:43.064Z"
   },
   {
    "duration": 6,
    "start_time": "2023-03-11T10:06:27.811Z"
   },
   {
    "duration": 78,
    "start_time": "2023-03-11T10:06:27.821Z"
   },
   {
    "duration": 19,
    "start_time": "2023-03-11T10:06:27.900Z"
   },
   {
    "duration": 17,
    "start_time": "2023-03-11T10:06:27.921Z"
   },
   {
    "duration": 3,
    "start_time": "2023-03-11T10:06:27.941Z"
   },
   {
    "duration": 15,
    "start_time": "2023-03-11T10:06:27.946Z"
   },
   {
    "duration": 28,
    "start_time": "2023-03-11T10:06:27.963Z"
   },
   {
    "duration": 209,
    "start_time": "2023-03-11T10:06:27.996Z"
   },
   {
    "duration": 19,
    "start_time": "2023-03-11T10:06:28.210Z"
   },
   {
    "duration": 9,
    "start_time": "2023-03-11T10:06:28.230Z"
   },
   {
    "duration": 26,
    "start_time": "2023-03-11T10:06:28.241Z"
   },
   {
    "duration": 36,
    "start_time": "2023-03-11T10:06:28.269Z"
   },
   {
    "duration": 28,
    "start_time": "2023-03-11T10:06:28.315Z"
   },
   {
    "duration": 5,
    "start_time": "2023-03-11T10:06:28.347Z"
   },
   {
    "duration": 7,
    "start_time": "2023-03-11T10:06:28.354Z"
   },
   {
    "duration": 5,
    "start_time": "2023-03-11T10:06:28.363Z"
   },
   {
    "duration": 35,
    "start_time": "2023-03-11T10:06:28.370Z"
   },
   {
    "duration": 1183,
    "start_time": "2023-03-11T10:06:28.406Z"
   },
   {
    "duration": 27,
    "start_time": "2023-03-11T10:06:29.590Z"
   },
   {
    "duration": 17,
    "start_time": "2023-03-11T10:06:29.620Z"
   },
   {
    "duration": 20,
    "start_time": "2023-03-11T10:06:29.638Z"
   },
   {
    "duration": 51,
    "start_time": "2023-03-11T10:06:29.659Z"
   },
   {
    "duration": 150,
    "start_time": "2023-03-11T10:06:29.712Z"
   },
   {
    "duration": 201,
    "start_time": "2023-03-11T10:06:29.864Z"
   },
   {
    "duration": 2004,
    "start_time": "2023-03-11T10:06:30.067Z"
   },
   {
    "duration": 20,
    "start_time": "2023-03-11T10:06:32.073Z"
   },
   {
    "duration": 30,
    "start_time": "2023-03-11T10:06:32.094Z"
   },
   {
    "duration": 269,
    "start_time": "2023-03-11T10:06:32.126Z"
   },
   {
    "duration": 241,
    "start_time": "2023-03-11T10:06:32.405Z"
   },
   {
    "duration": 406,
    "start_time": "2023-03-11T10:06:32.648Z"
   },
   {
    "duration": 515,
    "start_time": "2023-03-11T10:06:33.056Z"
   },
   {
    "duration": 383,
    "start_time": "2023-03-11T10:06:33.572Z"
   },
   {
    "duration": 323,
    "start_time": "2023-03-11T10:06:33.956Z"
   },
   {
    "duration": 29,
    "start_time": "2023-03-11T10:06:34.293Z"
   },
   {
    "duration": 279,
    "start_time": "2023-03-11T10:06:34.323Z"
   },
   {
    "duration": 254,
    "start_time": "2023-03-11T10:06:34.604Z"
   },
   {
    "duration": 278,
    "start_time": "2023-03-11T10:06:34.859Z"
   },
   {
    "duration": 310,
    "start_time": "2023-03-11T10:06:35.147Z"
   },
   {
    "duration": 295,
    "start_time": "2023-03-11T10:06:35.459Z"
   },
   {
    "duration": 271,
    "start_time": "2023-03-11T10:06:35.756Z"
   },
   {
    "duration": 305,
    "start_time": "2023-03-11T10:06:36.033Z"
   },
   {
    "duration": 280,
    "start_time": "2023-03-11T10:06:36.342Z"
   },
   {
    "duration": 255,
    "start_time": "2023-03-11T10:06:36.630Z"
   },
   {
    "duration": 317,
    "start_time": "2023-03-11T10:06:36.898Z"
   },
   {
    "duration": 244,
    "start_time": "2023-03-11T10:06:37.217Z"
   },
   {
    "duration": 269,
    "start_time": "2023-03-11T10:06:37.463Z"
   },
   {
    "duration": 136,
    "start_time": "2023-03-11T10:06:37.734Z"
   },
   {
    "duration": 450,
    "start_time": "2023-03-11T10:06:37.872Z"
   },
   {
    "duration": 408,
    "start_time": "2023-03-11T10:06:38.324Z"
   },
   {
    "duration": 370,
    "start_time": "2023-03-11T10:06:38.734Z"
   },
   {
    "duration": 15,
    "start_time": "2023-03-11T10:06:39.110Z"
   },
   {
    "duration": 5,
    "start_time": "2023-03-11T10:06:39.127Z"
   },
   {
    "duration": 9,
    "start_time": "2023-03-11T10:06:39.134Z"
   },
   {
    "duration": 7,
    "start_time": "2023-03-11T10:06:39.145Z"
   },
   {
    "duration": 1823,
    "start_time": "2023-03-12T02:18:37.739Z"
   },
   {
    "duration": 92,
    "start_time": "2023-03-12T02:18:39.565Z"
   },
   {
    "duration": 18,
    "start_time": "2023-03-12T02:18:39.658Z"
   },
   {
    "duration": 70,
    "start_time": "2023-03-12T02:18:39.678Z"
   },
   {
    "duration": 7,
    "start_time": "2023-03-12T02:18:39.750Z"
   },
   {
    "duration": 9,
    "start_time": "2023-03-12T02:18:39.759Z"
   },
   {
    "duration": 4,
    "start_time": "2023-03-12T02:18:39.770Z"
   },
   {
    "duration": 370,
    "start_time": "2023-03-12T02:18:39.776Z"
   },
   {
    "duration": 16,
    "start_time": "2023-03-12T02:18:40.148Z"
   },
   {
    "duration": 14,
    "start_time": "2023-03-12T02:18:40.165Z"
   },
   {
    "duration": 84,
    "start_time": "2023-03-12T02:18:40.181Z"
   },
   {
    "duration": 2,
    "start_time": "2023-03-12T02:18:40.266Z"
   },
   {
    "duration": 91,
    "start_time": "2023-03-12T02:18:40.270Z"
   },
   {
    "duration": 5,
    "start_time": "2023-03-12T02:18:40.364Z"
   },
   {
    "duration": 6,
    "start_time": "2023-03-12T02:18:40.370Z"
   },
   {
    "duration": 5,
    "start_time": "2023-03-12T02:18:40.377Z"
   },
   {
    "duration": 61,
    "start_time": "2023-03-12T02:18:40.384Z"
   },
   {
    "duration": 1793,
    "start_time": "2023-03-12T02:18:40.447Z"
   },
   {
    "duration": 15,
    "start_time": "2023-03-12T02:18:42.242Z"
   },
   {
    "duration": 7,
    "start_time": "2023-03-12T02:18:42.258Z"
   },
   {
    "duration": 75,
    "start_time": "2023-03-12T02:18:42.266Z"
   },
   {
    "duration": 16,
    "start_time": "2023-03-12T02:18:42.342Z"
   },
   {
    "duration": 306,
    "start_time": "2023-03-12T02:18:42.359Z"
   },
   {
    "duration": 317,
    "start_time": "2023-03-12T02:18:42.666Z"
   },
   {
    "duration": 3263,
    "start_time": "2023-03-12T02:18:43.041Z"
   },
   {
    "duration": 7,
    "start_time": "2023-03-12T02:18:46.306Z"
   },
   {
    "duration": 10,
    "start_time": "2023-03-12T02:18:46.314Z"
   },
   {
    "duration": 278,
    "start_time": "2023-03-12T02:18:46.325Z"
   },
   {
    "duration": 231,
    "start_time": "2023-03-12T02:18:46.605Z"
   },
   {
    "duration": 403,
    "start_time": "2023-03-12T02:18:46.840Z"
   },
   {
    "duration": 481,
    "start_time": "2023-03-12T02:18:47.244Z"
   },
   {
    "duration": 372,
    "start_time": "2023-03-12T02:18:47.726Z"
   },
   {
    "duration": 308,
    "start_time": "2023-03-12T02:18:48.100Z"
   },
   {
    "duration": 13,
    "start_time": "2023-03-12T02:18:48.409Z"
   },
   {
    "duration": 207,
    "start_time": "2023-03-12T02:18:48.423Z"
   },
   {
    "duration": 230,
    "start_time": "2023-03-12T02:18:48.632Z"
   },
   {
    "duration": 244,
    "start_time": "2023-03-12T02:18:48.864Z"
   },
   {
    "duration": 248,
    "start_time": "2023-03-12T02:18:49.110Z"
   },
   {
    "duration": 232,
    "start_time": "2023-03-12T02:18:49.360Z"
   },
   {
    "duration": 240,
    "start_time": "2023-03-12T02:18:49.594Z"
   },
   {
    "duration": 231,
    "start_time": "2023-03-12T02:18:49.841Z"
   },
   {
    "duration": 232,
    "start_time": "2023-03-12T02:18:50.073Z"
   },
   {
    "duration": 316,
    "start_time": "2023-03-12T02:18:50.307Z"
   },
   {
    "duration": 206,
    "start_time": "2023-03-12T02:18:50.625Z"
   },
   {
    "duration": 220,
    "start_time": "2023-03-12T02:18:50.839Z"
   },
   {
    "duration": 221,
    "start_time": "2023-03-12T02:18:51.061Z"
   },
   {
    "duration": 121,
    "start_time": "2023-03-12T02:18:51.283Z"
   },
   {
    "duration": 374,
    "start_time": "2023-03-12T02:18:51.406Z"
   },
   {
    "duration": 360,
    "start_time": "2023-03-12T02:18:51.782Z"
   },
   {
    "duration": 466,
    "start_time": "2023-03-12T02:18:52.143Z"
   },
   {
    "duration": 9,
    "start_time": "2023-03-12T02:18:52.611Z"
   },
   {
    "duration": 4,
    "start_time": "2023-03-12T02:18:52.622Z"
   },
   {
    "duration": 20,
    "start_time": "2023-03-12T02:18:52.627Z"
   },
   {
    "duration": 6,
    "start_time": "2023-03-12T02:18:52.649Z"
   },
   {
    "duration": 7,
    "start_time": "2023-03-12T02:35:56.923Z"
   },
   {
    "duration": 1056,
    "start_time": "2023-03-12T02:37:34.186Z"
   },
   {
    "duration": 50,
    "start_time": "2023-03-12T02:37:35.244Z"
   },
   {
    "duration": 17,
    "start_time": "2023-03-12T02:37:35.296Z"
   },
   {
    "duration": 12,
    "start_time": "2023-03-12T02:37:35.315Z"
   },
   {
    "duration": 3,
    "start_time": "2023-03-12T02:37:35.328Z"
   },
   {
    "duration": 10,
    "start_time": "2023-03-12T02:37:35.332Z"
   },
   {
    "duration": 5,
    "start_time": "2023-03-12T02:37:35.343Z"
   },
   {
    "duration": 159,
    "start_time": "2023-03-12T02:37:35.349Z"
   },
   {
    "duration": 15,
    "start_time": "2023-03-12T02:37:35.510Z"
   },
   {
    "duration": 20,
    "start_time": "2023-03-12T02:37:35.526Z"
   },
   {
    "duration": 29,
    "start_time": "2023-03-12T02:37:35.548Z"
   },
   {
    "duration": 2,
    "start_time": "2023-03-12T02:37:35.578Z"
   },
   {
    "duration": 27,
    "start_time": "2023-03-12T02:37:35.582Z"
   },
   {
    "duration": 5,
    "start_time": "2023-03-12T02:37:35.611Z"
   },
   {
    "duration": 24,
    "start_time": "2023-03-12T02:37:35.617Z"
   },
   {
    "duration": 4,
    "start_time": "2023-03-12T02:37:35.642Z"
   },
   {
    "duration": 12,
    "start_time": "2023-03-12T02:37:35.648Z"
   },
   {
    "duration": 861,
    "start_time": "2023-03-12T02:37:35.661Z"
   },
   {
    "duration": 17,
    "start_time": "2023-03-12T02:37:36.524Z"
   },
   {
    "duration": 7,
    "start_time": "2023-03-12T02:37:36.542Z"
   },
   {
    "duration": 14,
    "start_time": "2023-03-12T02:37:36.551Z"
   },
   {
    "duration": 27,
    "start_time": "2023-03-12T02:37:36.567Z"
   },
   {
    "duration": 145,
    "start_time": "2023-03-12T02:37:36.596Z"
   },
   {
    "duration": 180,
    "start_time": "2023-03-12T02:37:36.743Z"
   },
   {
    "duration": 1761,
    "start_time": "2023-03-12T02:37:36.924Z"
   },
   {
    "duration": 6,
    "start_time": "2023-03-12T02:37:38.687Z"
   },
   {
    "duration": 7,
    "start_time": "2023-03-12T02:37:38.695Z"
   },
   {
    "duration": 251,
    "start_time": "2023-03-12T02:37:38.703Z"
   },
   {
    "duration": 218,
    "start_time": "2023-03-12T02:37:38.956Z"
   },
   {
    "duration": 377,
    "start_time": "2023-03-12T02:37:39.176Z"
   },
   {
    "duration": 470,
    "start_time": "2023-03-12T02:37:39.554Z"
   },
   {
    "duration": 372,
    "start_time": "2023-03-12T02:37:40.025Z"
   },
   {
    "duration": 311,
    "start_time": "2023-03-12T02:37:40.398Z"
   },
   {
    "duration": 14,
    "start_time": "2023-03-12T02:37:40.710Z"
   },
   {
    "duration": 215,
    "start_time": "2023-03-12T02:37:40.725Z"
   },
   {
    "duration": 229,
    "start_time": "2023-03-12T02:37:40.942Z"
   },
   {
    "duration": 221,
    "start_time": "2023-03-12T02:37:41.172Z"
   },
   {
    "duration": 206,
    "start_time": "2023-03-12T02:37:41.395Z"
   },
   {
    "duration": 199,
    "start_time": "2023-03-12T02:37:41.603Z"
   },
   {
    "duration": 207,
    "start_time": "2023-03-12T02:37:41.804Z"
   },
   {
    "duration": 207,
    "start_time": "2023-03-12T02:37:42.015Z"
   },
   {
    "duration": 303,
    "start_time": "2023-03-12T02:37:42.223Z"
   },
   {
    "duration": 231,
    "start_time": "2023-03-12T02:37:42.528Z"
   },
   {
    "duration": 201,
    "start_time": "2023-03-12T02:37:42.761Z"
   },
   {
    "duration": 220,
    "start_time": "2023-03-12T02:37:42.963Z"
   },
   {
    "duration": 222,
    "start_time": "2023-03-12T02:37:43.185Z"
   },
   {
    "duration": 126,
    "start_time": "2023-03-12T02:37:43.409Z"
   },
   {
    "duration": 387,
    "start_time": "2023-03-12T02:37:43.539Z"
   },
   {
    "duration": 376,
    "start_time": "2023-03-12T02:37:43.927Z"
   },
   {
    "duration": 424,
    "start_time": "2023-03-12T02:37:44.305Z"
   },
   {
    "duration": 12,
    "start_time": "2023-03-12T02:37:44.731Z"
   },
   {
    "duration": 7,
    "start_time": "2023-03-12T02:37:44.744Z"
   },
   {
    "duration": 6,
    "start_time": "2023-03-12T02:37:44.753Z"
   },
   {
    "duration": 15,
    "start_time": "2023-03-12T02:37:44.761Z"
   },
   {
    "duration": 4,
    "start_time": "2023-03-12T02:37:44.778Z"
   },
   {
    "duration": 51,
    "start_time": "2023-03-12T02:37:44.784Z"
   },
   {
    "duration": 3,
    "start_time": "2023-03-12T02:37:44.836Z"
   },
   {
    "duration": 10,
    "start_time": "2023-03-12T02:37:44.840Z"
   },
   {
    "duration": 13,
    "start_time": "2023-03-12T02:37:44.851Z"
   },
   {
    "duration": 8,
    "start_time": "2023-03-12T02:37:44.866Z"
   },
   {
    "duration": 9,
    "start_time": "2023-03-12T02:37:44.875Z"
   },
   {
    "duration": 6,
    "start_time": "2023-03-12T02:37:44.885Z"
   },
   {
    "duration": 568,
    "start_time": "2023-03-12T02:37:44.893Z"
   },
   {
    "duration": 577,
    "start_time": "2023-03-12T02:37:45.463Z"
   },
   {
    "duration": 554,
    "start_time": "2023-03-12T02:37:46.042Z"
   },
   {
    "duration": 567,
    "start_time": "2023-03-12T02:37:46.598Z"
   }
  ],
  "kernelspec": {
   "display_name": "Python 3 (ipykernel)",
   "language": "python",
   "name": "python3"
  },
  "language_info": {
   "codemirror_mode": {
    "name": "ipython",
    "version": 3
   },
   "file_extension": ".py",
   "mimetype": "text/x-python",
   "name": "python",
   "nbconvert_exporter": "python",
   "pygments_lexer": "ipython3",
   "version": "3.10.9"
  },
  "toc": {
   "base_numbering": 1,
   "nav_menu": {},
   "number_sections": true,
   "sideBar": true,
   "skip_h1_title": true,
   "title_cell": "Table of Contents",
   "title_sidebar": "Contents",
   "toc_cell": false,
   "toc_position": {
    "height": "486px",
    "left": "173px",
    "top": "110.525px",
    "width": "307px"
   },
   "toc_section_display": true,
   "toc_window_display": true
  }
 },
 "nbformat": 4,
 "nbformat_minor": 2
}
