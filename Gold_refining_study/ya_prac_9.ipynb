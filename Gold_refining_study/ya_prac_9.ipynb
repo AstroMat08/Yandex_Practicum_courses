{
 "cells": [
  {
   "cell_type": "markdown",
   "metadata": {
    "toc": true
   },
   "source": [
    "<h1>Содержание<span class=\"tocSkip\"></span></h1>\n",
    "<div class=\"toc\"><ul class=\"toc-item\"><li><span><a href=\"#Подготовка-данных\" data-toc-modified-id=\"Подготовка-данных-1\"><span class=\"toc-item-num\">1&nbsp;&nbsp;</span>Подготовка данных</a></span><ul class=\"toc-item\"><li><span><a href=\"#Проверим-правильность-расчета-эффективности-обогащения\" data-toc-modified-id=\"Проверим-правильность-расчета-эффективности-обогащения-1.1\"><span class=\"toc-item-num\">1.1&nbsp;&nbsp;</span>Проверим правильность расчета эффективности обогащения</a></span></li><li><span><a href=\"#Проанализируем-признаки,-недоступные-в-тестовой-выборке\" data-toc-modified-id=\"Проанализируем-признаки,-недоступные-в-тестовой-выборке-1.2\"><span class=\"toc-item-num\">1.2&nbsp;&nbsp;</span>Проанализируем признаки, недоступные в тестовой выборке</a></span></li><li><span><a href=\"#Предобработка-данных\" data-toc-modified-id=\"Предобработка-данных-1.3\"><span class=\"toc-item-num\">1.3&nbsp;&nbsp;</span>Предобработка данных</a></span></li></ul></li><li><span><a href=\"#Анализ-данных\" data-toc-modified-id=\"Анализ-данных-2\"><span class=\"toc-item-num\">2&nbsp;&nbsp;</span>Анализ данных</a></span><ul class=\"toc-item\"><li><span><a href=\"#Изучим-изменение-концентрации-металлов-(Au,-Ag,-Pb)-на-разных-этапах-очистки\" data-toc-modified-id=\"Изучим-изменение-концентрации-металлов-(Au,-Ag,-Pb)-на-разных-этапах-очистки-2.1\"><span class=\"toc-item-num\">2.1&nbsp;&nbsp;</span>Изучим изменение концентрации металлов (Au, Ag, Pb) на разных этапах очистки</a></span></li><li><span><a href=\"#Сравним-распределения-размеров-гранул-сырья-на-обучающей-и-тестовой-выборках\" data-toc-modified-id=\"Сравним-распределения-размеров-гранул-сырья-на-обучающей-и-тестовой-выборках-2.2\"><span class=\"toc-item-num\">2.2&nbsp;&nbsp;</span>Сравним распределения размеров гранул сырья на обучающей и тестовой выборках</a></span></li><li><span><a href=\"#Исследуем-суммарную-концентрацию-всех-веществ-на-разных-стадиях:-в-сырье,-в-черновом-и-финальном-концентратах\" data-toc-modified-id=\"Исследуем-суммарную-концентрацию-всех-веществ-на-разных-стадиях:-в-сырье,-в-черновом-и-финальном-концентратах-2.3\"><span class=\"toc-item-num\">2.3&nbsp;&nbsp;</span>Исследуем суммарную концентрацию всех веществ на разных стадиях: в сырье, в черновом и финальном концентратах</a></span></li></ul></li><li><span><a href=\"#Модель\" data-toc-modified-id=\"Модель-3\"><span class=\"toc-item-num\">3&nbsp;&nbsp;</span>Модель</a></span><ul class=\"toc-item\"><li><span><a href=\"#Обучение-моделей.-Оценка-качества.-Выбор-лучшей-модели-и-её-проверка\" data-toc-modified-id=\"Обучение-моделей.-Оценка-качества.-Выбор-лучшей-модели-и-её-проверка-3.1\"><span class=\"toc-item-num\">3.1&nbsp;&nbsp;</span>Обучение моделей. Оценка качества. Выбор лучшей модели и её проверка</a></span></li></ul></li><li><span><a href=\"#Общий-вывод\" data-toc-modified-id=\"Общий-вывод-4\"><span class=\"toc-item-num\">4&nbsp;&nbsp;</span>Общий вывод</a></span></li></ul></div>"
   ]
  },
  {
   "cell_type": "markdown",
   "metadata": {},
   "source": [
    "# Восстановление золота из руды"
   ]
  },
  {
   "cell_type": "markdown",
   "metadata": {},
   "source": [
    "Подготовьте прототип модели машинного обучения для «Цифры». Компания разрабатывает решения для эффективной работы промышленных предприятий.\n",
    "\n",
    "Модель должна предсказать коэффициент восстановления золота из золотосодержащей руды. Используйте данные с параметрами добычи и очистки. \n",
    "\n",
    "Модель поможет оптимизировать производство, чтобы не запускать предприятие с убыточными характеристиками.\n",
    "\n",
    "Вам нужно:\n",
    "\n",
    "1. Подготовить данные;\n",
    "2. Провести исследовательский анализ данных;\n",
    "3. Построить и обучить модель.\n",
    "\n",
    "Чтобы выполнить проект, обращайтесь к библиотекам *pandas*, *matplotlib* и *sklearn.* Вам поможет их документация."
   ]
  },
  {
   "cell_type": "markdown",
   "metadata": {},
   "source": [
    "## Подготовка данных"
   ]
  },
  {
   "cell_type": "code",
   "execution_count": 2,
   "metadata": {},
   "outputs": [],
   "source": [
    "import pandas as pd\n",
    "import numpy as np\n",
    "import seaborn as sns\n",
    "\n",
    "from matplotlib import pyplot as plt\n",
    "\n",
    "from sklearn.metrics import mean_absolute_error, make_scorer\n",
    "from sklearn.pipeline import make_pipeline\n",
    "from sklearn.model_selection import RandomizedSearchCV\n",
    "from sklearn.pipeline import Pipeline\n",
    "from sklearn.preprocessing import StandardScaler\n",
    "from sklearn.tree import DecisionTreeRegressor\n",
    "from sklearn.ensemble import RandomForestRegressor\n",
    "from sklearn.linear_model import LinearRegression\n",
    "from sklearn.dummy import DummyRegressor\n",
    "\n",
    "import warnings\n",
    "warnings.filterwarnings(\"ignore\")"
   ]
  },
  {
   "cell_type": "code",
   "execution_count": 3,
   "metadata": {},
   "outputs": [],
   "source": [
    "train = pd.read_csv('/datasets/gold_recovery_train_new.csv',index_col='date')\n",
    "test = pd.read_csv('/datasets/gold_recovery_test_new.csv',index_col='date')\n",
    "full = pd.read_csv('/datasets/gold_recovery_full_new.csv',index_col='date')\n",
    "datas = [train, test, full]"
   ]
  },
  {
   "cell_type": "code",
   "execution_count": 4,
   "metadata": {
    "scrolled": true
   },
   "outputs": [
    {
     "name": "stdout",
     "output_type": "stream",
     "text": [
      "##################################################\n",
      "                     final.output.concentrate_ag  final.output.concentrate_pb  \\\n",
      "date                                                                            \n",
      "2018-05-30 23:59:59                     7.074108                     8.873688   \n",
      "\n",
      "                     final.output.concentrate_sol  \\\n",
      "date                                                \n",
      "2018-05-30 23:59:59                      8.038423   \n",
      "\n",
      "                     final.output.concentrate_au  final.output.recovery  \\\n",
      "date                                                                      \n",
      "2018-05-30 23:59:59                    40.620666                77.2583   \n",
      "\n",
      "                     final.output.tail_ag  final.output.tail_pb  \\\n",
      "date                                                              \n",
      "2018-05-30 23:59:59              11.73448              2.639935   \n",
      "\n",
      "                     final.output.tail_sol  final.output.tail_au  \\\n",
      "date                                                               \n",
      "2018-05-30 23:59:59               9.731853              3.064211   \n",
      "\n",
      "                     primary_cleaner.input.sulfate  ...  \\\n",
      "date                                                ...   \n",
      "2018-05-30 23:59:59                     179.912092  ...   \n",
      "\n",
      "                     secondary_cleaner.state.floatbank4_a_air  \\\n",
      "date                                                            \n",
      "2018-05-30 23:59:59                                 30.004228   \n",
      "\n",
      "                     secondary_cleaner.state.floatbank4_a_level  \\\n",
      "date                                                              \n",
      "2018-05-30 23:59:59                                 -500.188205   \n",
      "\n",
      "                     secondary_cleaner.state.floatbank4_b_air  \\\n",
      "date                                                            \n",
      "2018-05-30 23:59:59                                 21.987665   \n",
      "\n",
      "                     secondary_cleaner.state.floatbank4_b_level  \\\n",
      "date                                                              \n",
      "2018-05-30 23:59:59                                 -499.914774   \n",
      "\n",
      "                     secondary_cleaner.state.floatbank5_a_air  \\\n",
      "date                                                            \n",
      "2018-05-30 23:59:59                                 24.991233   \n",
      "\n",
      "                     secondary_cleaner.state.floatbank5_a_level  \\\n",
      "date                                                              \n",
      "2018-05-30 23:59:59                                 -443.927679   \n",
      "\n",
      "                     secondary_cleaner.state.floatbank5_b_air  \\\n",
      "date                                                            \n",
      "2018-05-30 23:59:59                                 23.118298   \n",
      "\n",
      "                     secondary_cleaner.state.floatbank5_b_level  \\\n",
      "date                                                              \n",
      "2018-05-30 23:59:59                                   -499.3133   \n",
      "\n",
      "                     secondary_cleaner.state.floatbank6_a_air  \\\n",
      "date                                                            \n",
      "2018-05-30 23:59:59                                 25.004281   \n",
      "\n",
      "                     secondary_cleaner.state.floatbank6_a_level  \n",
      "date                                                             \n",
      "2018-05-30 23:59:59                                  -470.28382  \n",
      "\n",
      "[1 rows x 86 columns]\n",
      "<class 'pandas.core.frame.DataFrame'>\n",
      "Index: 14149 entries, 2016-01-15 00:00:00 to 2018-08-18 10:59:59\n",
      "Data columns (total 86 columns):\n",
      " #   Column                                              Non-Null Count  Dtype  \n",
      "---  ------                                              --------------  -----  \n",
      " 0   final.output.concentrate_ag                         14148 non-null  float64\n",
      " 1   final.output.concentrate_pb                         14148 non-null  float64\n",
      " 2   final.output.concentrate_sol                        13938 non-null  float64\n",
      " 3   final.output.concentrate_au                         14149 non-null  float64\n",
      " 4   final.output.recovery                               14149 non-null  float64\n",
      " 5   final.output.tail_ag                                14149 non-null  float64\n",
      " 6   final.output.tail_pb                                14049 non-null  float64\n",
      " 7   final.output.tail_sol                               14144 non-null  float64\n",
      " 8   final.output.tail_au                                14149 non-null  float64\n",
      " 9   primary_cleaner.input.sulfate                       14129 non-null  float64\n",
      " 10  primary_cleaner.input.depressant                    14117 non-null  float64\n",
      " 11  primary_cleaner.input.feed_size                     14149 non-null  float64\n",
      " 12  primary_cleaner.input.xanthate                      14049 non-null  float64\n",
      " 13  primary_cleaner.output.concentrate_ag               14149 non-null  float64\n",
      " 14  primary_cleaner.output.concentrate_pb               14063 non-null  float64\n",
      " 15  primary_cleaner.output.concentrate_sol              13863 non-null  float64\n",
      " 16  primary_cleaner.output.concentrate_au               14149 non-null  float64\n",
      " 17  primary_cleaner.output.tail_ag                      14148 non-null  float64\n",
      " 18  primary_cleaner.output.tail_pb                      14134 non-null  float64\n",
      " 19  primary_cleaner.output.tail_sol                     14103 non-null  float64\n",
      " 20  primary_cleaner.output.tail_au                      14149 non-null  float64\n",
      " 21  primary_cleaner.state.floatbank8_a_air              14145 non-null  float64\n",
      " 22  primary_cleaner.state.floatbank8_a_level            14148 non-null  float64\n",
      " 23  primary_cleaner.state.floatbank8_b_air              14145 non-null  float64\n",
      " 24  primary_cleaner.state.floatbank8_b_level            14148 non-null  float64\n",
      " 25  primary_cleaner.state.floatbank8_c_air              14147 non-null  float64\n",
      " 26  primary_cleaner.state.floatbank8_c_level            14148 non-null  float64\n",
      " 27  primary_cleaner.state.floatbank8_d_air              14146 non-null  float64\n",
      " 28  primary_cleaner.state.floatbank8_d_level            14148 non-null  float64\n",
      " 29  rougher.calculation.sulfate_to_au_concentrate       14148 non-null  float64\n",
      " 30  rougher.calculation.floatbank10_sulfate_to_au_feed  14148 non-null  float64\n",
      " 31  rougher.calculation.floatbank11_sulfate_to_au_feed  14148 non-null  float64\n",
      " 32  rougher.calculation.au_pb_ratio                     14149 non-null  float64\n",
      " 33  rougher.input.feed_ag                               14149 non-null  float64\n",
      " 34  rougher.input.feed_pb                               14049 non-null  float64\n",
      " 35  rougher.input.feed_rate                             14141 non-null  float64\n",
      " 36  rougher.input.feed_size                             14005 non-null  float64\n",
      " 37  rougher.input.feed_sol                              14071 non-null  float64\n",
      " 38  rougher.input.feed_au                               14149 non-null  float64\n",
      " 39  rougher.input.floatbank10_sulfate                   14120 non-null  float64\n",
      " 40  rougher.input.floatbank10_xanthate                  14141 non-null  float64\n",
      " 41  rougher.input.floatbank11_sulfate                   14113 non-null  float64\n",
      " 42  rougher.input.floatbank11_xanthate                  13721 non-null  float64\n",
      " 43  rougher.output.concentrate_ag                       14149 non-null  float64\n",
      " 44  rougher.output.concentrate_pb                       14149 non-null  float64\n",
      " 45  rougher.output.concentrate_sol                      14127 non-null  float64\n",
      " 46  rougher.output.concentrate_au                       14149 non-null  float64\n",
      " 47  rougher.output.recovery                             14149 non-null  float64\n",
      " 48  rougher.output.tail_ag                              14148 non-null  float64\n",
      " 49  rougher.output.tail_pb                              14149 non-null  float64\n",
      " 50  rougher.output.tail_sol                             14149 non-null  float64\n",
      " 51  rougher.output.tail_au                              14149 non-null  float64\n",
      " 52  rougher.state.floatbank10_a_air                     14148 non-null  float64\n",
      " 53  rougher.state.floatbank10_a_level                   14148 non-null  float64\n",
      " 54  rougher.state.floatbank10_b_air                     14148 non-null  float64\n",
      " 55  rougher.state.floatbank10_b_level                   14148 non-null  float64\n",
      " 56  rougher.state.floatbank10_c_air                     14148 non-null  float64\n",
      " 57  rougher.state.floatbank10_c_level                   14148 non-null  float64\n",
      " 58  rougher.state.floatbank10_d_air                     14149 non-null  float64\n",
      " 59  rougher.state.floatbank10_d_level                   14149 non-null  float64\n",
      " 60  rougher.state.floatbank10_e_air                     13713 non-null  float64\n",
      " 61  rougher.state.floatbank10_e_level                   14149 non-null  float64\n",
      " 62  rougher.state.floatbank10_f_air                     14149 non-null  float64\n",
      " 63  rougher.state.floatbank10_f_level                   14149 non-null  float64\n",
      " 64  secondary_cleaner.output.tail_ag                    14147 non-null  float64\n",
      " 65  secondary_cleaner.output.tail_pb                    14139 non-null  float64\n",
      " 66  secondary_cleaner.output.tail_sol                   12544 non-null  float64\n",
      " 67  secondary_cleaner.output.tail_au                    14149 non-null  float64\n",
      " 68  secondary_cleaner.state.floatbank2_a_air            13932 non-null  float64\n",
      " 69  secondary_cleaner.state.floatbank2_a_level          14148 non-null  float64\n",
      " 70  secondary_cleaner.state.floatbank2_b_air            14128 non-null  float64\n",
      " 71  secondary_cleaner.state.floatbank2_b_level          14148 non-null  float64\n",
      " 72  secondary_cleaner.state.floatbank3_a_air            14145 non-null  float64\n",
      " 73  secondary_cleaner.state.floatbank3_a_level          14148 non-null  float64\n",
      " 74  secondary_cleaner.state.floatbank3_b_air            14148 non-null  float64\n",
      " 75  secondary_cleaner.state.floatbank3_b_level          14148 non-null  float64\n",
      " 76  secondary_cleaner.state.floatbank4_a_air            14143 non-null  float64\n",
      " 77  secondary_cleaner.state.floatbank4_a_level          14148 non-null  float64\n",
      " 78  secondary_cleaner.state.floatbank4_b_air            14148 non-null  float64\n",
      " 79  secondary_cleaner.state.floatbank4_b_level          14148 non-null  float64\n",
      " 80  secondary_cleaner.state.floatbank5_a_air            14148 non-null  float64\n",
      " 81  secondary_cleaner.state.floatbank5_a_level          14148 non-null  float64\n",
      " 82  secondary_cleaner.state.floatbank5_b_air            14148 non-null  float64\n",
      " 83  secondary_cleaner.state.floatbank5_b_level          14148 non-null  float64\n",
      " 84  secondary_cleaner.state.floatbank6_a_air            14147 non-null  float64\n",
      " 85  secondary_cleaner.state.floatbank6_a_level          14148 non-null  float64\n",
      "dtypes: float64(86)\n",
      "memory usage: 9.4+ MB\n",
      "None\n",
      "количество дубликатов в таблице = 0\n"
     ]
    },
    {
     "data": {
      "text/html": [
       "<div>\n",
       "<style scoped>\n",
       "    .dataframe tbody tr th:only-of-type {\n",
       "        vertical-align: middle;\n",
       "    }\n",
       "\n",
       "    .dataframe tbody tr th {\n",
       "        vertical-align: top;\n",
       "    }\n",
       "\n",
       "    .dataframe thead th {\n",
       "        text-align: right;\n",
       "    }\n",
       "</style>\n",
       "<table border=\"1\" class=\"dataframe\">\n",
       "  <thead>\n",
       "    <tr style=\"text-align: right;\">\n",
       "      <th></th>\n",
       "      <th>final.output.concentrate_ag</th>\n",
       "      <th>final.output.concentrate_pb</th>\n",
       "      <th>final.output.concentrate_sol</th>\n",
       "      <th>final.output.concentrate_au</th>\n",
       "      <th>final.output.recovery</th>\n",
       "      <th>final.output.tail_ag</th>\n",
       "      <th>final.output.tail_pb</th>\n",
       "      <th>final.output.tail_sol</th>\n",
       "      <th>final.output.tail_au</th>\n",
       "      <th>primary_cleaner.input.sulfate</th>\n",
       "      <th>...</th>\n",
       "      <th>secondary_cleaner.state.floatbank4_a_air</th>\n",
       "      <th>secondary_cleaner.state.floatbank4_a_level</th>\n",
       "      <th>secondary_cleaner.state.floatbank4_b_air</th>\n",
       "      <th>secondary_cleaner.state.floatbank4_b_level</th>\n",
       "      <th>secondary_cleaner.state.floatbank5_a_air</th>\n",
       "      <th>secondary_cleaner.state.floatbank5_a_level</th>\n",
       "      <th>secondary_cleaner.state.floatbank5_b_air</th>\n",
       "      <th>secondary_cleaner.state.floatbank5_b_level</th>\n",
       "      <th>secondary_cleaner.state.floatbank6_a_air</th>\n",
       "      <th>secondary_cleaner.state.floatbank6_a_level</th>\n",
       "    </tr>\n",
       "  </thead>\n",
       "  <tbody>\n",
       "    <tr>\n",
       "      <th>count</th>\n",
       "      <td>14148.000000</td>\n",
       "      <td>14148.000000</td>\n",
       "      <td>13938.000000</td>\n",
       "      <td>14149.000000</td>\n",
       "      <td>14149.000000</td>\n",
       "      <td>14149.000000</td>\n",
       "      <td>14049.000000</td>\n",
       "      <td>14144.000000</td>\n",
       "      <td>14149.000000</td>\n",
       "      <td>14129.000000</td>\n",
       "      <td>...</td>\n",
       "      <td>14143.000000</td>\n",
       "      <td>14148.000000</td>\n",
       "      <td>14148.000000</td>\n",
       "      <td>14148.000000</td>\n",
       "      <td>14148.000000</td>\n",
       "      <td>14148.000000</td>\n",
       "      <td>14148.000000</td>\n",
       "      <td>14148.000000</td>\n",
       "      <td>14147.000000</td>\n",
       "      <td>14148.000000</td>\n",
       "    </tr>\n",
       "    <tr>\n",
       "      <th>mean</th>\n",
       "      <td>5.142034</td>\n",
       "      <td>10.132960</td>\n",
       "      <td>9.202849</td>\n",
       "      <td>44.003792</td>\n",
       "      <td>66.518832</td>\n",
       "      <td>9.607035</td>\n",
       "      <td>2.597298</td>\n",
       "      <td>10.512122</td>\n",
       "      <td>2.918421</td>\n",
       "      <td>133.320659</td>\n",
       "      <td>...</td>\n",
       "      <td>19.985454</td>\n",
       "      <td>-478.696836</td>\n",
       "      <td>15.487065</td>\n",
       "      <td>-460.229416</td>\n",
       "      <td>16.775136</td>\n",
       "      <td>-483.956022</td>\n",
       "      <td>13.064590</td>\n",
       "      <td>-483.966564</td>\n",
       "      <td>19.577539</td>\n",
       "      <td>-506.798480</td>\n",
       "    </tr>\n",
       "    <tr>\n",
       "      <th>std</th>\n",
       "      <td>1.369586</td>\n",
       "      <td>1.654930</td>\n",
       "      <td>2.790516</td>\n",
       "      <td>4.905261</td>\n",
       "      <td>10.295402</td>\n",
       "      <td>2.319069</td>\n",
       "      <td>0.971843</td>\n",
       "      <td>3.003617</td>\n",
       "      <td>0.903712</td>\n",
       "      <td>39.431659</td>\n",
       "      <td>...</td>\n",
       "      <td>5.657723</td>\n",
       "      <td>50.736021</td>\n",
       "      <td>5.255655</td>\n",
       "      <td>58.843586</td>\n",
       "      <td>5.831906</td>\n",
       "      <td>37.892788</td>\n",
       "      <td>5.765617</td>\n",
       "      <td>39.207913</td>\n",
       "      <td>5.764417</td>\n",
       "      <td>37.079249</td>\n",
       "    </tr>\n",
       "    <tr>\n",
       "      <th>min</th>\n",
       "      <td>0.000000</td>\n",
       "      <td>0.000000</td>\n",
       "      <td>0.000000</td>\n",
       "      <td>0.000000</td>\n",
       "      <td>0.000000</td>\n",
       "      <td>0.000000</td>\n",
       "      <td>0.000000</td>\n",
       "      <td>0.000000</td>\n",
       "      <td>0.000000</td>\n",
       "      <td>0.003112</td>\n",
       "      <td>...</td>\n",
       "      <td>0.000000</td>\n",
       "      <td>-799.709069</td>\n",
       "      <td>0.000000</td>\n",
       "      <td>-799.889113</td>\n",
       "      <td>-0.372054</td>\n",
       "      <td>-797.142475</td>\n",
       "      <td>0.646208</td>\n",
       "      <td>-800.006180</td>\n",
       "      <td>0.195324</td>\n",
       "      <td>-809.398668</td>\n",
       "    </tr>\n",
       "    <tr>\n",
       "      <th>25%</th>\n",
       "      <td>4.211620</td>\n",
       "      <td>9.297355</td>\n",
       "      <td>7.484645</td>\n",
       "      <td>43.276111</td>\n",
       "      <td>62.545817</td>\n",
       "      <td>7.997429</td>\n",
       "      <td>1.905973</td>\n",
       "      <td>8.811324</td>\n",
       "      <td>2.368607</td>\n",
       "      <td>107.006651</td>\n",
       "      <td>...</td>\n",
       "      <td>14.990775</td>\n",
       "      <td>-500.628656</td>\n",
       "      <td>11.894558</td>\n",
       "      <td>-500.149000</td>\n",
       "      <td>11.083980</td>\n",
       "      <td>-500.363177</td>\n",
       "      <td>8.994405</td>\n",
       "      <td>-500.105994</td>\n",
       "      <td>14.989304</td>\n",
       "      <td>-500.745104</td>\n",
       "    </tr>\n",
       "    <tr>\n",
       "      <th>50%</th>\n",
       "      <td>4.994652</td>\n",
       "      <td>10.297144</td>\n",
       "      <td>8.845462</td>\n",
       "      <td>44.872436</td>\n",
       "      <td>67.432775</td>\n",
       "      <td>9.480270</td>\n",
       "      <td>2.592022</td>\n",
       "      <td>10.514621</td>\n",
       "      <td>2.851025</td>\n",
       "      <td>133.018328</td>\n",
       "      <td>...</td>\n",
       "      <td>20.001789</td>\n",
       "      <td>-499.681450</td>\n",
       "      <td>14.975536</td>\n",
       "      <td>-499.388738</td>\n",
       "      <td>17.932223</td>\n",
       "      <td>-499.702452</td>\n",
       "      <td>11.997547</td>\n",
       "      <td>-499.914556</td>\n",
       "      <td>19.984175</td>\n",
       "      <td>-500.061431</td>\n",
       "    </tr>\n",
       "    <tr>\n",
       "      <th>75%</th>\n",
       "      <td>5.859540</td>\n",
       "      <td>11.170603</td>\n",
       "      <td>10.487508</td>\n",
       "      <td>46.166425</td>\n",
       "      <td>72.346428</td>\n",
       "      <td>11.003707</td>\n",
       "      <td>3.241723</td>\n",
       "      <td>11.933009</td>\n",
       "      <td>3.434764</td>\n",
       "      <td>159.825396</td>\n",
       "      <td>...</td>\n",
       "      <td>24.990826</td>\n",
       "      <td>-477.472413</td>\n",
       "      <td>20.059375</td>\n",
       "      <td>-400.039008</td>\n",
       "      <td>21.346550</td>\n",
       "      <td>-487.712108</td>\n",
       "      <td>17.982903</td>\n",
       "      <td>-453.186936</td>\n",
       "      <td>24.991623</td>\n",
       "      <td>-499.536466</td>\n",
       "    </tr>\n",
       "    <tr>\n",
       "      <th>max</th>\n",
       "      <td>16.001945</td>\n",
       "      <td>17.031899</td>\n",
       "      <td>18.124851</td>\n",
       "      <td>52.756638</td>\n",
       "      <td>100.000000</td>\n",
       "      <td>19.552149</td>\n",
       "      <td>5.639565</td>\n",
       "      <td>22.317730</td>\n",
       "      <td>8.197408</td>\n",
       "      <td>250.127834</td>\n",
       "      <td>...</td>\n",
       "      <td>30.115735</td>\n",
       "      <td>-245.239184</td>\n",
       "      <td>24.007913</td>\n",
       "      <td>-145.071088</td>\n",
       "      <td>43.709931</td>\n",
       "      <td>-275.073125</td>\n",
       "      <td>27.926001</td>\n",
       "      <td>-157.396071</td>\n",
       "      <td>32.188906</td>\n",
       "      <td>-104.427459</td>\n",
       "    </tr>\n",
       "  </tbody>\n",
       "</table>\n",
       "<p>8 rows × 86 columns</p>\n",
       "</div>"
      ],
      "text/plain": [
       "       final.output.concentrate_ag  final.output.concentrate_pb  \\\n",
       "count                 14148.000000                 14148.000000   \n",
       "mean                      5.142034                    10.132960   \n",
       "std                       1.369586                     1.654930   \n",
       "min                       0.000000                     0.000000   \n",
       "25%                       4.211620                     9.297355   \n",
       "50%                       4.994652                    10.297144   \n",
       "75%                       5.859540                    11.170603   \n",
       "max                      16.001945                    17.031899   \n",
       "\n",
       "       final.output.concentrate_sol  final.output.concentrate_au  \\\n",
       "count                  13938.000000                 14149.000000   \n",
       "mean                       9.202849                    44.003792   \n",
       "std                        2.790516                     4.905261   \n",
       "min                        0.000000                     0.000000   \n",
       "25%                        7.484645                    43.276111   \n",
       "50%                        8.845462                    44.872436   \n",
       "75%                       10.487508                    46.166425   \n",
       "max                       18.124851                    52.756638   \n",
       "\n",
       "       final.output.recovery  final.output.tail_ag  final.output.tail_pb  \\\n",
       "count           14149.000000          14149.000000          14049.000000   \n",
       "mean               66.518832              9.607035              2.597298   \n",
       "std                10.295402              2.319069              0.971843   \n",
       "min                 0.000000              0.000000              0.000000   \n",
       "25%                62.545817              7.997429              1.905973   \n",
       "50%                67.432775              9.480270              2.592022   \n",
       "75%                72.346428             11.003707              3.241723   \n",
       "max               100.000000             19.552149              5.639565   \n",
       "\n",
       "       final.output.tail_sol  final.output.tail_au  \\\n",
       "count           14144.000000          14149.000000   \n",
       "mean               10.512122              2.918421   \n",
       "std                 3.003617              0.903712   \n",
       "min                 0.000000              0.000000   \n",
       "25%                 8.811324              2.368607   \n",
       "50%                10.514621              2.851025   \n",
       "75%                11.933009              3.434764   \n",
       "max                22.317730              8.197408   \n",
       "\n",
       "       primary_cleaner.input.sulfate  ...  \\\n",
       "count                   14129.000000  ...   \n",
       "mean                      133.320659  ...   \n",
       "std                        39.431659  ...   \n",
       "min                         0.003112  ...   \n",
       "25%                       107.006651  ...   \n",
       "50%                       133.018328  ...   \n",
       "75%                       159.825396  ...   \n",
       "max                       250.127834  ...   \n",
       "\n",
       "       secondary_cleaner.state.floatbank4_a_air  \\\n",
       "count                              14143.000000   \n",
       "mean                                  19.985454   \n",
       "std                                    5.657723   \n",
       "min                                    0.000000   \n",
       "25%                                   14.990775   \n",
       "50%                                   20.001789   \n",
       "75%                                   24.990826   \n",
       "max                                   30.115735   \n",
       "\n",
       "       secondary_cleaner.state.floatbank4_a_level  \\\n",
       "count                                14148.000000   \n",
       "mean                                  -478.696836   \n",
       "std                                     50.736021   \n",
       "min                                   -799.709069   \n",
       "25%                                   -500.628656   \n",
       "50%                                   -499.681450   \n",
       "75%                                   -477.472413   \n",
       "max                                   -245.239184   \n",
       "\n",
       "       secondary_cleaner.state.floatbank4_b_air  \\\n",
       "count                              14148.000000   \n",
       "mean                                  15.487065   \n",
       "std                                    5.255655   \n",
       "min                                    0.000000   \n",
       "25%                                   11.894558   \n",
       "50%                                   14.975536   \n",
       "75%                                   20.059375   \n",
       "max                                   24.007913   \n",
       "\n",
       "       secondary_cleaner.state.floatbank4_b_level  \\\n",
       "count                                14148.000000   \n",
       "mean                                  -460.229416   \n",
       "std                                     58.843586   \n",
       "min                                   -799.889113   \n",
       "25%                                   -500.149000   \n",
       "50%                                   -499.388738   \n",
       "75%                                   -400.039008   \n",
       "max                                   -145.071088   \n",
       "\n",
       "       secondary_cleaner.state.floatbank5_a_air  \\\n",
       "count                              14148.000000   \n",
       "mean                                  16.775136   \n",
       "std                                    5.831906   \n",
       "min                                   -0.372054   \n",
       "25%                                   11.083980   \n",
       "50%                                   17.932223   \n",
       "75%                                   21.346550   \n",
       "max                                   43.709931   \n",
       "\n",
       "       secondary_cleaner.state.floatbank5_a_level  \\\n",
       "count                                14148.000000   \n",
       "mean                                  -483.956022   \n",
       "std                                     37.892788   \n",
       "min                                   -797.142475   \n",
       "25%                                   -500.363177   \n",
       "50%                                   -499.702452   \n",
       "75%                                   -487.712108   \n",
       "max                                   -275.073125   \n",
       "\n",
       "       secondary_cleaner.state.floatbank5_b_air  \\\n",
       "count                              14148.000000   \n",
       "mean                                  13.064590   \n",
       "std                                    5.765617   \n",
       "min                                    0.646208   \n",
       "25%                                    8.994405   \n",
       "50%                                   11.997547   \n",
       "75%                                   17.982903   \n",
       "max                                   27.926001   \n",
       "\n",
       "       secondary_cleaner.state.floatbank5_b_level  \\\n",
       "count                                14148.000000   \n",
       "mean                                  -483.966564   \n",
       "std                                     39.207913   \n",
       "min                                   -800.006180   \n",
       "25%                                   -500.105994   \n",
       "50%                                   -499.914556   \n",
       "75%                                   -453.186936   \n",
       "max                                   -157.396071   \n",
       "\n",
       "       secondary_cleaner.state.floatbank6_a_air  \\\n",
       "count                              14147.000000   \n",
       "mean                                  19.577539   \n",
       "std                                    5.764417   \n",
       "min                                    0.195324   \n",
       "25%                                   14.989304   \n",
       "50%                                   19.984175   \n",
       "75%                                   24.991623   \n",
       "max                                   32.188906   \n",
       "\n",
       "       secondary_cleaner.state.floatbank6_a_level  \n",
       "count                                14148.000000  \n",
       "mean                                  -506.798480  \n",
       "std                                     37.079249  \n",
       "min                                   -809.398668  \n",
       "25%                                   -500.745104  \n",
       "50%                                   -500.061431  \n",
       "75%                                   -499.536466  \n",
       "max                                   -104.427459  \n",
       "\n",
       "[8 rows x 86 columns]"
      ]
     },
     "metadata": {},
     "output_type": "display_data"
    },
    {
     "name": "stdout",
     "output_type": "stream",
     "text": [
      "##################################################\n",
      "                     primary_cleaner.input.sulfate  \\\n",
      "date                                                 \n",
      "2017-12-11 04:59:59                     205.952906   \n",
      "\n",
      "                     primary_cleaner.input.depressant  \\\n",
      "date                                                    \n",
      "2017-12-11 04:59:59                         10.522517   \n",
      "\n",
      "                     primary_cleaner.input.feed_size  \\\n",
      "date                                                   \n",
      "2017-12-11 04:59:59                         8.805001   \n",
      "\n",
      "                     primary_cleaner.input.xanthate  \\\n",
      "date                                                  \n",
      "2017-12-11 04:59:59                        1.118675   \n",
      "\n",
      "                     primary_cleaner.state.floatbank8_a_air  \\\n",
      "date                                                          \n",
      "2017-12-11 04:59:59                             1547.689574   \n",
      "\n",
      "                     primary_cleaner.state.floatbank8_a_level  \\\n",
      "date                                                            \n",
      "2017-12-11 04:59:59                               -499.775872   \n",
      "\n",
      "                     primary_cleaner.state.floatbank8_b_air  \\\n",
      "date                                                          \n",
      "2017-12-11 04:59:59                             1547.158165   \n",
      "\n",
      "                     primary_cleaner.state.floatbank8_b_level  \\\n",
      "date                                                            \n",
      "2017-12-11 04:59:59                                -496.76152   \n",
      "\n",
      "                     primary_cleaner.state.floatbank8_c_air  \\\n",
      "date                                                          \n",
      "2017-12-11 04:59:59                              1548.62236   \n",
      "\n",
      "                     primary_cleaner.state.floatbank8_c_level  ...  \\\n",
      "date                                                           ...   \n",
      "2017-12-11 04:59:59                               -498.787567  ...   \n",
      "\n",
      "                     secondary_cleaner.state.floatbank4_a_air  \\\n",
      "date                                                            \n",
      "2017-12-11 04:59:59                                 19.994658   \n",
      "\n",
      "                     secondary_cleaner.state.floatbank4_a_level  \\\n",
      "date                                                              \n",
      "2017-12-11 04:59:59                                 -501.698224   \n",
      "\n",
      "                     secondary_cleaner.state.floatbank4_b_air  \\\n",
      "date                                                            \n",
      "2017-12-11 04:59:59                                 15.047686   \n",
      "\n",
      "                     secondary_cleaner.state.floatbank4_b_level  \\\n",
      "date                                                              \n",
      "2017-12-11 04:59:59                                 -140.457104   \n",
      "\n",
      "                     secondary_cleaner.state.floatbank5_a_air  \\\n",
      "date                                                            \n",
      "2017-12-11 04:59:59                                 10.938433   \n",
      "\n",
      "                     secondary_cleaner.state.floatbank5_a_level  \\\n",
      "date                                                              \n",
      "2017-12-11 04:59:59                                 -501.976761   \n",
      "\n",
      "                     secondary_cleaner.state.floatbank5_b_air  \\\n",
      "date                                                            \n",
      "2017-12-11 04:59:59                                  8.047075   \n",
      "\n",
      "                     secondary_cleaner.state.floatbank5_b_level  \\\n",
      "date                                                              \n",
      "2017-12-11 04:59:59                                 -500.385961   \n",
      "\n",
      "                     secondary_cleaner.state.floatbank6_a_air  \\\n",
      "date                                                            \n",
      "2017-12-11 04:59:59                                 12.002801   \n",
      "\n",
      "                     secondary_cleaner.state.floatbank6_a_level  \n",
      "date                                                             \n",
      "2017-12-11 04:59:59                                 -501.663519  \n",
      "\n",
      "[1 rows x 52 columns]\n",
      "<class 'pandas.core.frame.DataFrame'>\n",
      "Index: 5290 entries, 2016-09-01 00:59:59 to 2017-12-31 23:59:59\n",
      "Data columns (total 52 columns):\n",
      " #   Column                                      Non-Null Count  Dtype  \n",
      "---  ------                                      --------------  -----  \n",
      " 0   primary_cleaner.input.sulfate               5286 non-null   float64\n",
      " 1   primary_cleaner.input.depressant            5285 non-null   float64\n",
      " 2   primary_cleaner.input.feed_size             5290 non-null   float64\n",
      " 3   primary_cleaner.input.xanthate              5286 non-null   float64\n",
      " 4   primary_cleaner.state.floatbank8_a_air      5290 non-null   float64\n",
      " 5   primary_cleaner.state.floatbank8_a_level    5290 non-null   float64\n",
      " 6   primary_cleaner.state.floatbank8_b_air      5290 non-null   float64\n",
      " 7   primary_cleaner.state.floatbank8_b_level    5290 non-null   float64\n",
      " 8   primary_cleaner.state.floatbank8_c_air      5290 non-null   float64\n",
      " 9   primary_cleaner.state.floatbank8_c_level    5290 non-null   float64\n",
      " 10  primary_cleaner.state.floatbank8_d_air      5290 non-null   float64\n",
      " 11  primary_cleaner.state.floatbank8_d_level    5290 non-null   float64\n",
      " 12  rougher.input.feed_ag                       5290 non-null   float64\n",
      " 13  rougher.input.feed_pb                       5290 non-null   float64\n",
      " 14  rougher.input.feed_rate                     5287 non-null   float64\n",
      " 15  rougher.input.feed_size                     5289 non-null   float64\n",
      " 16  rougher.input.feed_sol                      5269 non-null   float64\n",
      " 17  rougher.input.feed_au                       5290 non-null   float64\n",
      " 18  rougher.input.floatbank10_sulfate           5285 non-null   float64\n",
      " 19  rougher.input.floatbank10_xanthate          5290 non-null   float64\n",
      " 20  rougher.input.floatbank11_sulfate           5282 non-null   float64\n",
      " 21  rougher.input.floatbank11_xanthate          5265 non-null   float64\n",
      " 22  rougher.state.floatbank10_a_air             5290 non-null   float64\n",
      " 23  rougher.state.floatbank10_a_level           5290 non-null   float64\n",
      " 24  rougher.state.floatbank10_b_air             5290 non-null   float64\n",
      " 25  rougher.state.floatbank10_b_level           5290 non-null   float64\n",
      " 26  rougher.state.floatbank10_c_air             5290 non-null   float64\n",
      " 27  rougher.state.floatbank10_c_level           5290 non-null   float64\n",
      " 28  rougher.state.floatbank10_d_air             5290 non-null   float64\n",
      " 29  rougher.state.floatbank10_d_level           5290 non-null   float64\n",
      " 30  rougher.state.floatbank10_e_air             5290 non-null   float64\n",
      " 31  rougher.state.floatbank10_e_level           5290 non-null   float64\n",
      " 32  rougher.state.floatbank10_f_air             5290 non-null   float64\n",
      " 33  rougher.state.floatbank10_f_level           5290 non-null   float64\n",
      " 34  secondary_cleaner.state.floatbank2_a_air    5287 non-null   float64\n",
      " 35  secondary_cleaner.state.floatbank2_a_level  5290 non-null   float64\n",
      " 36  secondary_cleaner.state.floatbank2_b_air    5288 non-null   float64\n",
      " 37  secondary_cleaner.state.floatbank2_b_level  5290 non-null   float64\n",
      " 38  secondary_cleaner.state.floatbank3_a_air    5281 non-null   float64\n",
      " 39  secondary_cleaner.state.floatbank3_a_level  5290 non-null   float64\n",
      " 40  secondary_cleaner.state.floatbank3_b_air    5290 non-null   float64\n",
      " 41  secondary_cleaner.state.floatbank3_b_level  5290 non-null   float64\n",
      " 42  secondary_cleaner.state.floatbank4_a_air    5290 non-null   float64\n",
      " 43  secondary_cleaner.state.floatbank4_a_level  5290 non-null   float64\n",
      " 44  secondary_cleaner.state.floatbank4_b_air    5290 non-null   float64\n",
      " 45  secondary_cleaner.state.floatbank4_b_level  5290 non-null   float64\n",
      " 46  secondary_cleaner.state.floatbank5_a_air    5290 non-null   float64\n",
      " 47  secondary_cleaner.state.floatbank5_a_level  5290 non-null   float64\n",
      " 48  secondary_cleaner.state.floatbank5_b_air    5290 non-null   float64\n",
      " 49  secondary_cleaner.state.floatbank5_b_level  5290 non-null   float64\n",
      " 50  secondary_cleaner.state.floatbank6_a_air    5290 non-null   float64\n",
      " 51  secondary_cleaner.state.floatbank6_a_level  5290 non-null   float64\n",
      "dtypes: float64(52)\n",
      "memory usage: 2.1+ MB\n",
      "None\n",
      "количество дубликатов в таблице = 0\n"
     ]
    },
    {
     "data": {
      "text/html": [
       "<div>\n",
       "<style scoped>\n",
       "    .dataframe tbody tr th:only-of-type {\n",
       "        vertical-align: middle;\n",
       "    }\n",
       "\n",
       "    .dataframe tbody tr th {\n",
       "        vertical-align: top;\n",
       "    }\n",
       "\n",
       "    .dataframe thead th {\n",
       "        text-align: right;\n",
       "    }\n",
       "</style>\n",
       "<table border=\"1\" class=\"dataframe\">\n",
       "  <thead>\n",
       "    <tr style=\"text-align: right;\">\n",
       "      <th></th>\n",
       "      <th>primary_cleaner.input.sulfate</th>\n",
       "      <th>primary_cleaner.input.depressant</th>\n",
       "      <th>primary_cleaner.input.feed_size</th>\n",
       "      <th>primary_cleaner.input.xanthate</th>\n",
       "      <th>primary_cleaner.state.floatbank8_a_air</th>\n",
       "      <th>primary_cleaner.state.floatbank8_a_level</th>\n",
       "      <th>primary_cleaner.state.floatbank8_b_air</th>\n",
       "      <th>primary_cleaner.state.floatbank8_b_level</th>\n",
       "      <th>primary_cleaner.state.floatbank8_c_air</th>\n",
       "      <th>primary_cleaner.state.floatbank8_c_level</th>\n",
       "      <th>...</th>\n",
       "      <th>secondary_cleaner.state.floatbank4_a_air</th>\n",
       "      <th>secondary_cleaner.state.floatbank4_a_level</th>\n",
       "      <th>secondary_cleaner.state.floatbank4_b_air</th>\n",
       "      <th>secondary_cleaner.state.floatbank4_b_level</th>\n",
       "      <th>secondary_cleaner.state.floatbank5_a_air</th>\n",
       "      <th>secondary_cleaner.state.floatbank5_a_level</th>\n",
       "      <th>secondary_cleaner.state.floatbank5_b_air</th>\n",
       "      <th>secondary_cleaner.state.floatbank5_b_level</th>\n",
       "      <th>secondary_cleaner.state.floatbank6_a_air</th>\n",
       "      <th>secondary_cleaner.state.floatbank6_a_level</th>\n",
       "    </tr>\n",
       "  </thead>\n",
       "  <tbody>\n",
       "    <tr>\n",
       "      <th>count</th>\n",
       "      <td>5286.000000</td>\n",
       "      <td>5285.000000</td>\n",
       "      <td>5290.000000</td>\n",
       "      <td>5286.000000</td>\n",
       "      <td>5.290000e+03</td>\n",
       "      <td>5290.000000</td>\n",
       "      <td>5.290000e+03</td>\n",
       "      <td>5290.000000</td>\n",
       "      <td>5.290000e+03</td>\n",
       "      <td>5290.000000</td>\n",
       "      <td>...</td>\n",
       "      <td>5.290000e+03</td>\n",
       "      <td>5290.000000</td>\n",
       "      <td>5.290000e+03</td>\n",
       "      <td>5290.000000</td>\n",
       "      <td>5290.000000</td>\n",
       "      <td>5290.000000</td>\n",
       "      <td>5290.000000</td>\n",
       "      <td>5290.000000</td>\n",
       "      <td>5290.000000</td>\n",
       "      <td>5290.000000</td>\n",
       "    </tr>\n",
       "    <tr>\n",
       "      <th>mean</th>\n",
       "      <td>174.839652</td>\n",
       "      <td>8.683596</td>\n",
       "      <td>7.266339</td>\n",
       "      <td>1.383803</td>\n",
       "      <td>1.539494e+03</td>\n",
       "      <td>-497.665883</td>\n",
       "      <td>1.545174e+03</td>\n",
       "      <td>-500.273098</td>\n",
       "      <td>1.527272e+03</td>\n",
       "      <td>-498.330680</td>\n",
       "      <td>...</td>\n",
       "      <td>1.632007e+01</td>\n",
       "      <td>-505.144570</td>\n",
       "      <td>1.373544e+01</td>\n",
       "      <td>-463.349858</td>\n",
       "      <td>12.804186</td>\n",
       "      <td>-501.329122</td>\n",
       "      <td>9.881145</td>\n",
       "      <td>-495.663398</td>\n",
       "      <td>17.304935</td>\n",
       "      <td>-501.793193</td>\n",
       "    </tr>\n",
       "    <tr>\n",
       "      <th>std</th>\n",
       "      <td>43.027080</td>\n",
       "      <td>3.072050</td>\n",
       "      <td>0.610219</td>\n",
       "      <td>0.643474</td>\n",
       "      <td>1.167979e+02</td>\n",
       "      <td>19.952431</td>\n",
       "      <td>1.222246e+02</td>\n",
       "      <td>32.968307</td>\n",
       "      <td>1.225380e+02</td>\n",
       "      <td>21.964876</td>\n",
       "      <td>...</td>\n",
       "      <td>3.493583e+00</td>\n",
       "      <td>31.427337</td>\n",
       "      <td>3.430484e+00</td>\n",
       "      <td>86.189107</td>\n",
       "      <td>3.026591</td>\n",
       "      <td>17.951495</td>\n",
       "      <td>2.868205</td>\n",
       "      <td>34.535007</td>\n",
       "      <td>4.536544</td>\n",
       "      <td>39.044215</td>\n",
       "    </tr>\n",
       "    <tr>\n",
       "      <th>min</th>\n",
       "      <td>2.566156</td>\n",
       "      <td>0.003839</td>\n",
       "      <td>5.650000</td>\n",
       "      <td>0.004984</td>\n",
       "      <td>5.445860e-32</td>\n",
       "      <td>-795.316337</td>\n",
       "      <td>6.647490e-32</td>\n",
       "      <td>-799.997015</td>\n",
       "      <td>4.033736e-32</td>\n",
       "      <td>-799.960571</td>\n",
       "      <td>...</td>\n",
       "      <td>1.079872e-16</td>\n",
       "      <td>-799.798523</td>\n",
       "      <td>2.489718e-17</td>\n",
       "      <td>-800.836914</td>\n",
       "      <td>0.069227</td>\n",
       "      <td>-797.323986</td>\n",
       "      <td>0.528083</td>\n",
       "      <td>-800.220337</td>\n",
       "      <td>-0.079426</td>\n",
       "      <td>-809.741464</td>\n",
       "    </tr>\n",
       "    <tr>\n",
       "      <th>25%</th>\n",
       "      <td>147.121401</td>\n",
       "      <td>6.489555</td>\n",
       "      <td>6.890000</td>\n",
       "      <td>0.907623</td>\n",
       "      <td>1.498936e+03</td>\n",
       "      <td>-500.357298</td>\n",
       "      <td>1.498971e+03</td>\n",
       "      <td>-500.703002</td>\n",
       "      <td>1.473230e+03</td>\n",
       "      <td>-501.018117</td>\n",
       "      <td>...</td>\n",
       "      <td>1.403618e+01</td>\n",
       "      <td>-500.868258</td>\n",
       "      <td>1.202862e+01</td>\n",
       "      <td>-500.323028</td>\n",
       "      <td>10.914838</td>\n",
       "      <td>-500.726841</td>\n",
       "      <td>8.036719</td>\n",
       "      <td>-500.194668</td>\n",
       "      <td>13.997317</td>\n",
       "      <td>-500.690984</td>\n",
       "    </tr>\n",
       "    <tr>\n",
       "      <th>50%</th>\n",
       "      <td>177.828489</td>\n",
       "      <td>8.052207</td>\n",
       "      <td>7.250000</td>\n",
       "      <td>1.197610</td>\n",
       "      <td>1.585129e+03</td>\n",
       "      <td>-499.969164</td>\n",
       "      <td>1.595622e+03</td>\n",
       "      <td>-500.028514</td>\n",
       "      <td>1.549595e+03</td>\n",
       "      <td>-500.017711</td>\n",
       "      <td>...</td>\n",
       "      <td>1.700847e+01</td>\n",
       "      <td>-500.115727</td>\n",
       "      <td>1.496486e+01</td>\n",
       "      <td>-499.576513</td>\n",
       "      <td>12.954182</td>\n",
       "      <td>-499.990332</td>\n",
       "      <td>10.004301</td>\n",
       "      <td>-499.990535</td>\n",
       "      <td>16.014935</td>\n",
       "      <td>-500.007126</td>\n",
       "    </tr>\n",
       "    <tr>\n",
       "      <th>75%</th>\n",
       "      <td>208.125438</td>\n",
       "      <td>10.027764</td>\n",
       "      <td>7.600000</td>\n",
       "      <td>1.797819</td>\n",
       "      <td>1.602077e+03</td>\n",
       "      <td>-499.568951</td>\n",
       "      <td>1.602324e+03</td>\n",
       "      <td>-499.293257</td>\n",
       "      <td>1.601144e+03</td>\n",
       "      <td>-498.994130</td>\n",
       "      <td>...</td>\n",
       "      <td>1.803862e+01</td>\n",
       "      <td>-499.404224</td>\n",
       "      <td>1.596213e+01</td>\n",
       "      <td>-400.933805</td>\n",
       "      <td>15.097528</td>\n",
       "      <td>-499.283191</td>\n",
       "      <td>11.997467</td>\n",
       "      <td>-499.719913</td>\n",
       "      <td>21.020013</td>\n",
       "      <td>-499.373018</td>\n",
       "    </tr>\n",
       "    <tr>\n",
       "      <th>max</th>\n",
       "      <td>265.983123</td>\n",
       "      <td>40.000000</td>\n",
       "      <td>15.500000</td>\n",
       "      <td>4.102454</td>\n",
       "      <td>2.103104e+03</td>\n",
       "      <td>-57.195404</td>\n",
       "      <td>1.813084e+03</td>\n",
       "      <td>-142.527229</td>\n",
       "      <td>1.715054e+03</td>\n",
       "      <td>-150.937035</td>\n",
       "      <td>...</td>\n",
       "      <td>3.005180e+01</td>\n",
       "      <td>-401.565212</td>\n",
       "      <td>3.126971e+01</td>\n",
       "      <td>-6.506986</td>\n",
       "      <td>25.258848</td>\n",
       "      <td>-244.483566</td>\n",
       "      <td>14.086866</td>\n",
       "      <td>-137.740004</td>\n",
       "      <td>26.705889</td>\n",
       "      <td>-123.307487</td>\n",
       "    </tr>\n",
       "  </tbody>\n",
       "</table>\n",
       "<p>8 rows × 52 columns</p>\n",
       "</div>"
      ],
      "text/plain": [
       "       primary_cleaner.input.sulfate  primary_cleaner.input.depressant  \\\n",
       "count                    5286.000000                       5285.000000   \n",
       "mean                      174.839652                          8.683596   \n",
       "std                        43.027080                          3.072050   \n",
       "min                         2.566156                          0.003839   \n",
       "25%                       147.121401                          6.489555   \n",
       "50%                       177.828489                          8.052207   \n",
       "75%                       208.125438                         10.027764   \n",
       "max                       265.983123                         40.000000   \n",
       "\n",
       "       primary_cleaner.input.feed_size  primary_cleaner.input.xanthate  \\\n",
       "count                      5290.000000                     5286.000000   \n",
       "mean                          7.266339                        1.383803   \n",
       "std                           0.610219                        0.643474   \n",
       "min                           5.650000                        0.004984   \n",
       "25%                           6.890000                        0.907623   \n",
       "50%                           7.250000                        1.197610   \n",
       "75%                           7.600000                        1.797819   \n",
       "max                          15.500000                        4.102454   \n",
       "\n",
       "       primary_cleaner.state.floatbank8_a_air  \\\n",
       "count                            5.290000e+03   \n",
       "mean                             1.539494e+03   \n",
       "std                              1.167979e+02   \n",
       "min                              5.445860e-32   \n",
       "25%                              1.498936e+03   \n",
       "50%                              1.585129e+03   \n",
       "75%                              1.602077e+03   \n",
       "max                              2.103104e+03   \n",
       "\n",
       "       primary_cleaner.state.floatbank8_a_level  \\\n",
       "count                               5290.000000   \n",
       "mean                                -497.665883   \n",
       "std                                   19.952431   \n",
       "min                                 -795.316337   \n",
       "25%                                 -500.357298   \n",
       "50%                                 -499.969164   \n",
       "75%                                 -499.568951   \n",
       "max                                  -57.195404   \n",
       "\n",
       "       primary_cleaner.state.floatbank8_b_air  \\\n",
       "count                            5.290000e+03   \n",
       "mean                             1.545174e+03   \n",
       "std                              1.222246e+02   \n",
       "min                              6.647490e-32   \n",
       "25%                              1.498971e+03   \n",
       "50%                              1.595622e+03   \n",
       "75%                              1.602324e+03   \n",
       "max                              1.813084e+03   \n",
       "\n",
       "       primary_cleaner.state.floatbank8_b_level  \\\n",
       "count                               5290.000000   \n",
       "mean                                -500.273098   \n",
       "std                                   32.968307   \n",
       "min                                 -799.997015   \n",
       "25%                                 -500.703002   \n",
       "50%                                 -500.028514   \n",
       "75%                                 -499.293257   \n",
       "max                                 -142.527229   \n",
       "\n",
       "       primary_cleaner.state.floatbank8_c_air  \\\n",
       "count                            5.290000e+03   \n",
       "mean                             1.527272e+03   \n",
       "std                              1.225380e+02   \n",
       "min                              4.033736e-32   \n",
       "25%                              1.473230e+03   \n",
       "50%                              1.549595e+03   \n",
       "75%                              1.601144e+03   \n",
       "max                              1.715054e+03   \n",
       "\n",
       "       primary_cleaner.state.floatbank8_c_level  ...  \\\n",
       "count                               5290.000000  ...   \n",
       "mean                                -498.330680  ...   \n",
       "std                                   21.964876  ...   \n",
       "min                                 -799.960571  ...   \n",
       "25%                                 -501.018117  ...   \n",
       "50%                                 -500.017711  ...   \n",
       "75%                                 -498.994130  ...   \n",
       "max                                 -150.937035  ...   \n",
       "\n",
       "       secondary_cleaner.state.floatbank4_a_air  \\\n",
       "count                              5.290000e+03   \n",
       "mean                               1.632007e+01   \n",
       "std                                3.493583e+00   \n",
       "min                                1.079872e-16   \n",
       "25%                                1.403618e+01   \n",
       "50%                                1.700847e+01   \n",
       "75%                                1.803862e+01   \n",
       "max                                3.005180e+01   \n",
       "\n",
       "       secondary_cleaner.state.floatbank4_a_level  \\\n",
       "count                                 5290.000000   \n",
       "mean                                  -505.144570   \n",
       "std                                     31.427337   \n",
       "min                                   -799.798523   \n",
       "25%                                   -500.868258   \n",
       "50%                                   -500.115727   \n",
       "75%                                   -499.404224   \n",
       "max                                   -401.565212   \n",
       "\n",
       "       secondary_cleaner.state.floatbank4_b_air  \\\n",
       "count                              5.290000e+03   \n",
       "mean                               1.373544e+01   \n",
       "std                                3.430484e+00   \n",
       "min                                2.489718e-17   \n",
       "25%                                1.202862e+01   \n",
       "50%                                1.496486e+01   \n",
       "75%                                1.596213e+01   \n",
       "max                                3.126971e+01   \n",
       "\n",
       "       secondary_cleaner.state.floatbank4_b_level  \\\n",
       "count                                 5290.000000   \n",
       "mean                                  -463.349858   \n",
       "std                                     86.189107   \n",
       "min                                   -800.836914   \n",
       "25%                                   -500.323028   \n",
       "50%                                   -499.576513   \n",
       "75%                                   -400.933805   \n",
       "max                                     -6.506986   \n",
       "\n",
       "       secondary_cleaner.state.floatbank5_a_air  \\\n",
       "count                               5290.000000   \n",
       "mean                                  12.804186   \n",
       "std                                    3.026591   \n",
       "min                                    0.069227   \n",
       "25%                                   10.914838   \n",
       "50%                                   12.954182   \n",
       "75%                                   15.097528   \n",
       "max                                   25.258848   \n",
       "\n",
       "       secondary_cleaner.state.floatbank5_a_level  \\\n",
       "count                                 5290.000000   \n",
       "mean                                  -501.329122   \n",
       "std                                     17.951495   \n",
       "min                                   -797.323986   \n",
       "25%                                   -500.726841   \n",
       "50%                                   -499.990332   \n",
       "75%                                   -499.283191   \n",
       "max                                   -244.483566   \n",
       "\n",
       "       secondary_cleaner.state.floatbank5_b_air  \\\n",
       "count                               5290.000000   \n",
       "mean                                   9.881145   \n",
       "std                                    2.868205   \n",
       "min                                    0.528083   \n",
       "25%                                    8.036719   \n",
       "50%                                   10.004301   \n",
       "75%                                   11.997467   \n",
       "max                                   14.086866   \n",
       "\n",
       "       secondary_cleaner.state.floatbank5_b_level  \\\n",
       "count                                 5290.000000   \n",
       "mean                                  -495.663398   \n",
       "std                                     34.535007   \n",
       "min                                   -800.220337   \n",
       "25%                                   -500.194668   \n",
       "50%                                   -499.990535   \n",
       "75%                                   -499.719913   \n",
       "max                                   -137.740004   \n",
       "\n",
       "       secondary_cleaner.state.floatbank6_a_air  \\\n",
       "count                               5290.000000   \n",
       "mean                                  17.304935   \n",
       "std                                    4.536544   \n",
       "min                                   -0.079426   \n",
       "25%                                   13.997317   \n",
       "50%                                   16.014935   \n",
       "75%                                   21.020013   \n",
       "max                                   26.705889   \n",
       "\n",
       "       secondary_cleaner.state.floatbank6_a_level  \n",
       "count                                 5290.000000  \n",
       "mean                                  -501.793193  \n",
       "std                                     39.044215  \n",
       "min                                   -809.741464  \n",
       "25%                                   -500.690984  \n",
       "50%                                   -500.007126  \n",
       "75%                                   -499.373018  \n",
       "max                                   -123.307487  \n",
       "\n",
       "[8 rows x 52 columns]"
      ]
     },
     "metadata": {},
     "output_type": "display_data"
    },
    {
     "name": "stdout",
     "output_type": "stream",
     "text": [
      "##################################################\n",
      "                     final.output.concentrate_ag  final.output.concentrate_pb  \\\n",
      "date                                                                            \n",
      "2017-02-28 14:59:59                          0.0                          0.0   \n",
      "\n",
      "                     final.output.concentrate_sol  \\\n",
      "date                                                \n",
      "2017-02-28 14:59:59                           0.0   \n",
      "\n",
      "                     final.output.concentrate_au  final.output.recovery  \\\n",
      "date                                                                      \n",
      "2017-02-28 14:59:59                          0.0                    0.0   \n",
      "\n",
      "                     final.output.tail_ag  final.output.tail_pb  \\\n",
      "date                                                              \n",
      "2017-02-28 14:59:59              6.289242              2.166043   \n",
      "\n",
      "                     final.output.tail_sol  final.output.tail_au  \\\n",
      "date                                                               \n",
      "2017-02-28 14:59:59               1.634677              3.043306   \n",
      "\n",
      "                     primary_cleaner.input.sulfate  ...  \\\n",
      "date                                                ...   \n",
      "2017-02-28 14:59:59                      47.853292  ...   \n",
      "\n",
      "                     secondary_cleaner.state.floatbank4_a_air  \\\n",
      "date                                                            \n",
      "2017-02-28 14:59:59                                 24.970388   \n",
      "\n",
      "                     secondary_cleaner.state.floatbank4_a_level  \\\n",
      "date                                                              \n",
      "2017-02-28 14:59:59                                 -399.654209   \n",
      "\n",
      "                     secondary_cleaner.state.floatbank4_b_air  \\\n",
      "date                                                            \n",
      "2017-02-28 14:59:59                                 23.008466   \n",
      "\n",
      "                     secondary_cleaner.state.floatbank4_b_level  \\\n",
      "date                                                              \n",
      "2017-02-28 14:59:59                                 -399.508585   \n",
      "\n",
      "                     secondary_cleaner.state.floatbank5_a_air  \\\n",
      "date                                                            \n",
      "2017-02-28 14:59:59                                 20.682065   \n",
      "\n",
      "                     secondary_cleaner.state.floatbank5_a_level  \\\n",
      "date                                                              \n",
      "2017-02-28 14:59:59                                 -443.596068   \n",
      "\n",
      "                     secondary_cleaner.state.floatbank5_b_air  \\\n",
      "date                                                            \n",
      "2017-02-28 14:59:59                                 18.017448   \n",
      "\n",
      "                     secondary_cleaner.state.floatbank5_b_level  \\\n",
      "date                                                              \n",
      "2017-02-28 14:59:59                                  -386.84355   \n",
      "\n",
      "                     secondary_cleaner.state.floatbank6_a_air  \\\n",
      "date                                                            \n",
      "2017-02-28 14:59:59                                 25.021448   \n",
      "\n",
      "                     secondary_cleaner.state.floatbank6_a_level  \n",
      "date                                                             \n",
      "2017-02-28 14:59:59                                 -499.457263  \n",
      "\n",
      "[1 rows x 86 columns]\n",
      "<class 'pandas.core.frame.DataFrame'>\n",
      "Index: 19439 entries, 2016-01-15 00:00:00 to 2018-08-18 10:59:59\n",
      "Data columns (total 86 columns):\n",
      " #   Column                                              Non-Null Count  Dtype  \n",
      "---  ------                                              --------------  -----  \n",
      " 0   final.output.concentrate_ag                         19438 non-null  float64\n",
      " 1   final.output.concentrate_pb                         19438 non-null  float64\n",
      " 2   final.output.concentrate_sol                        19228 non-null  float64\n",
      " 3   final.output.concentrate_au                         19439 non-null  float64\n",
      " 4   final.output.recovery                               19439 non-null  float64\n",
      " 5   final.output.tail_ag                                19438 non-null  float64\n",
      " 6   final.output.tail_pb                                19338 non-null  float64\n",
      " 7   final.output.tail_sol                               19433 non-null  float64\n",
      " 8   final.output.tail_au                                19439 non-null  float64\n",
      " 9   primary_cleaner.input.sulfate                       19415 non-null  float64\n",
      " 10  primary_cleaner.input.depressant                    19402 non-null  float64\n",
      " 11  primary_cleaner.input.feed_size                     19439 non-null  float64\n",
      " 12  primary_cleaner.input.xanthate                      19335 non-null  float64\n",
      " 13  primary_cleaner.output.concentrate_ag               19439 non-null  float64\n",
      " 14  primary_cleaner.output.concentrate_pb               19323 non-null  float64\n",
      " 15  primary_cleaner.output.concentrate_sol              19069 non-null  float64\n",
      " 16  primary_cleaner.output.concentrate_au               19439 non-null  float64\n",
      " 17  primary_cleaner.output.tail_ag                      19435 non-null  float64\n",
      " 18  primary_cleaner.output.tail_pb                      19418 non-null  float64\n",
      " 19  primary_cleaner.output.tail_sol                     19377 non-null  float64\n",
      " 20  primary_cleaner.output.tail_au                      19439 non-null  float64\n",
      " 21  primary_cleaner.state.floatbank8_a_air              19435 non-null  float64\n",
      " 22  primary_cleaner.state.floatbank8_a_level            19438 non-null  float64\n",
      " 23  primary_cleaner.state.floatbank8_b_air              19435 non-null  float64\n",
      " 24  primary_cleaner.state.floatbank8_b_level            19438 non-null  float64\n",
      " 25  primary_cleaner.state.floatbank8_c_air              19437 non-null  float64\n",
      " 26  primary_cleaner.state.floatbank8_c_level            19438 non-null  float64\n",
      " 27  primary_cleaner.state.floatbank8_d_air              19436 non-null  float64\n",
      " 28  primary_cleaner.state.floatbank8_d_level            19438 non-null  float64\n",
      " 29  rougher.calculation.sulfate_to_au_concentrate       19437 non-null  float64\n",
      " 30  rougher.calculation.floatbank10_sulfate_to_au_feed  19437 non-null  float64\n",
      " 31  rougher.calculation.floatbank11_sulfate_to_au_feed  19437 non-null  float64\n",
      " 32  rougher.calculation.au_pb_ratio                     19439 non-null  float64\n",
      " 33  rougher.input.feed_ag                               19439 non-null  float64\n",
      " 34  rougher.input.feed_pb                               19339 non-null  float64\n",
      " 35  rougher.input.feed_rate                             19428 non-null  float64\n",
      " 36  rougher.input.feed_size                             19294 non-null  float64\n",
      " 37  rougher.input.feed_sol                              19340 non-null  float64\n",
      " 38  rougher.input.feed_au                               19439 non-null  float64\n",
      " 39  rougher.input.floatbank10_sulfate                   19405 non-null  float64\n",
      " 40  rougher.input.floatbank10_xanthate                  19431 non-null  float64\n",
      " 41  rougher.input.floatbank11_sulfate                   19395 non-null  float64\n",
      " 42  rougher.input.floatbank11_xanthate                  18986 non-null  float64\n",
      " 43  rougher.output.concentrate_ag                       19439 non-null  float64\n",
      " 44  rougher.output.concentrate_pb                       19439 non-null  float64\n",
      " 45  rougher.output.concentrate_sol                      19416 non-null  float64\n",
      " 46  rougher.output.concentrate_au                       19439 non-null  float64\n",
      " 47  rougher.output.recovery                             19439 non-null  float64\n",
      " 48  rougher.output.tail_ag                              19438 non-null  float64\n",
      " 49  rougher.output.tail_pb                              19439 non-null  float64\n",
      " 50  rougher.output.tail_sol                             19439 non-null  float64\n",
      " 51  rougher.output.tail_au                              19439 non-null  float64\n",
      " 52  rougher.state.floatbank10_a_air                     19438 non-null  float64\n",
      " 53  rougher.state.floatbank10_a_level                   19438 non-null  float64\n",
      " 54  rougher.state.floatbank10_b_air                     19438 non-null  float64\n",
      " 55  rougher.state.floatbank10_b_level                   19438 non-null  float64\n",
      " 56  rougher.state.floatbank10_c_air                     19438 non-null  float64\n",
      " 57  rougher.state.floatbank10_c_level                   19438 non-null  float64\n",
      " 58  rougher.state.floatbank10_d_air                     19439 non-null  float64\n",
      " 59  rougher.state.floatbank10_d_level                   19439 non-null  float64\n",
      " 60  rougher.state.floatbank10_e_air                     19003 non-null  float64\n",
      " 61  rougher.state.floatbank10_e_level                   19439 non-null  float64\n",
      " 62  rougher.state.floatbank10_f_air                     19439 non-null  float64\n",
      " 63  rougher.state.floatbank10_f_level                   19439 non-null  float64\n",
      " 64  secondary_cleaner.output.tail_ag                    19437 non-null  float64\n",
      " 65  secondary_cleaner.output.tail_pb                    19427 non-null  float64\n",
      " 66  secondary_cleaner.output.tail_sol                   17691 non-null  float64\n",
      " 67  secondary_cleaner.output.tail_au                    19439 non-null  float64\n",
      " 68  secondary_cleaner.state.floatbank2_a_air            19219 non-null  float64\n",
      " 69  secondary_cleaner.state.floatbank2_a_level          19438 non-null  float64\n",
      " 70  secondary_cleaner.state.floatbank2_b_air            19416 non-null  float64\n",
      " 71  secondary_cleaner.state.floatbank2_b_level          19438 non-null  float64\n",
      " 72  secondary_cleaner.state.floatbank3_a_air            19426 non-null  float64\n",
      " 73  secondary_cleaner.state.floatbank3_a_level          19438 non-null  float64\n",
      " 74  secondary_cleaner.state.floatbank3_b_air            19438 non-null  float64\n",
      " 75  secondary_cleaner.state.floatbank3_b_level          19438 non-null  float64\n",
      " 76  secondary_cleaner.state.floatbank4_a_air            19433 non-null  float64\n",
      " 77  secondary_cleaner.state.floatbank4_a_level          19438 non-null  float64\n",
      " 78  secondary_cleaner.state.floatbank4_b_air            19438 non-null  float64\n",
      " 79  secondary_cleaner.state.floatbank4_b_level          19438 non-null  float64\n",
      " 80  secondary_cleaner.state.floatbank5_a_air            19438 non-null  float64\n",
      " 81  secondary_cleaner.state.floatbank5_a_level          19438 non-null  float64\n",
      " 82  secondary_cleaner.state.floatbank5_b_air            19438 non-null  float64\n",
      " 83  secondary_cleaner.state.floatbank5_b_level          19438 non-null  float64\n",
      " 84  secondary_cleaner.state.floatbank6_a_air            19437 non-null  float64\n",
      " 85  secondary_cleaner.state.floatbank6_a_level          19438 non-null  float64\n",
      "dtypes: float64(86)\n",
      "memory usage: 12.9+ MB\n",
      "None\n",
      "количество дубликатов в таблице = 0\n"
     ]
    },
    {
     "data": {
      "text/html": [
       "<div>\n",
       "<style scoped>\n",
       "    .dataframe tbody tr th:only-of-type {\n",
       "        vertical-align: middle;\n",
       "    }\n",
       "\n",
       "    .dataframe tbody tr th {\n",
       "        vertical-align: top;\n",
       "    }\n",
       "\n",
       "    .dataframe thead th {\n",
       "        text-align: right;\n",
       "    }\n",
       "</style>\n",
       "<table border=\"1\" class=\"dataframe\">\n",
       "  <thead>\n",
       "    <tr style=\"text-align: right;\">\n",
       "      <th></th>\n",
       "      <th>final.output.concentrate_ag</th>\n",
       "      <th>final.output.concentrate_pb</th>\n",
       "      <th>final.output.concentrate_sol</th>\n",
       "      <th>final.output.concentrate_au</th>\n",
       "      <th>final.output.recovery</th>\n",
       "      <th>final.output.tail_ag</th>\n",
       "      <th>final.output.tail_pb</th>\n",
       "      <th>final.output.tail_sol</th>\n",
       "      <th>final.output.tail_au</th>\n",
       "      <th>primary_cleaner.input.sulfate</th>\n",
       "      <th>...</th>\n",
       "      <th>secondary_cleaner.state.floatbank4_a_air</th>\n",
       "      <th>secondary_cleaner.state.floatbank4_a_level</th>\n",
       "      <th>secondary_cleaner.state.floatbank4_b_air</th>\n",
       "      <th>secondary_cleaner.state.floatbank4_b_level</th>\n",
       "      <th>secondary_cleaner.state.floatbank5_a_air</th>\n",
       "      <th>secondary_cleaner.state.floatbank5_a_level</th>\n",
       "      <th>secondary_cleaner.state.floatbank5_b_air</th>\n",
       "      <th>secondary_cleaner.state.floatbank5_b_level</th>\n",
       "      <th>secondary_cleaner.state.floatbank6_a_air</th>\n",
       "      <th>secondary_cleaner.state.floatbank6_a_level</th>\n",
       "    </tr>\n",
       "  </thead>\n",
       "  <tbody>\n",
       "    <tr>\n",
       "      <th>count</th>\n",
       "      <td>19438.000000</td>\n",
       "      <td>19438.000000</td>\n",
       "      <td>19228.000000</td>\n",
       "      <td>19439.000000</td>\n",
       "      <td>19439.000000</td>\n",
       "      <td>19438.000000</td>\n",
       "      <td>19338.000000</td>\n",
       "      <td>19433.000000</td>\n",
       "      <td>19439.000000</td>\n",
       "      <td>19415.000000</td>\n",
       "      <td>...</td>\n",
       "      <td>19433.000000</td>\n",
       "      <td>19438.000000</td>\n",
       "      <td>19438.000000</td>\n",
       "      <td>19438.000000</td>\n",
       "      <td>19438.000000</td>\n",
       "      <td>19438.000000</td>\n",
       "      <td>19438.000000</td>\n",
       "      <td>19438.000000</td>\n",
       "      <td>19437.000000</td>\n",
       "      <td>19438.000000</td>\n",
       "    </tr>\n",
       "    <tr>\n",
       "      <th>mean</th>\n",
       "      <td>5.168470</td>\n",
       "      <td>9.978895</td>\n",
       "      <td>9.501224</td>\n",
       "      <td>44.076513</td>\n",
       "      <td>67.050208</td>\n",
       "      <td>9.688589</td>\n",
       "      <td>2.705795</td>\n",
       "      <td>10.583728</td>\n",
       "      <td>3.042467</td>\n",
       "      <td>144.624774</td>\n",
       "      <td>...</td>\n",
       "      <td>18.987674</td>\n",
       "      <td>-485.894516</td>\n",
       "      <td>15.010366</td>\n",
       "      <td>-461.078636</td>\n",
       "      <td>15.694452</td>\n",
       "      <td>-488.684065</td>\n",
       "      <td>12.198224</td>\n",
       "      <td>-487.149827</td>\n",
       "      <td>18.959024</td>\n",
       "      <td>-505.436305</td>\n",
       "    </tr>\n",
       "    <tr>\n",
       "      <th>std</th>\n",
       "      <td>1.372348</td>\n",
       "      <td>1.669240</td>\n",
       "      <td>2.787537</td>\n",
       "      <td>5.129784</td>\n",
       "      <td>10.125840</td>\n",
       "      <td>2.328642</td>\n",
       "      <td>0.949077</td>\n",
       "      <td>2.868782</td>\n",
       "      <td>0.922808</td>\n",
       "      <td>44.464071</td>\n",
       "      <td>...</td>\n",
       "      <td>5.411058</td>\n",
       "      <td>47.758570</td>\n",
       "      <td>4.890228</td>\n",
       "      <td>67.405524</td>\n",
       "      <td>5.510974</td>\n",
       "      <td>34.533396</td>\n",
       "      <td>5.333024</td>\n",
       "      <td>38.347312</td>\n",
       "      <td>5.550498</td>\n",
       "      <td>37.689057</td>\n",
       "    </tr>\n",
       "    <tr>\n",
       "      <th>min</th>\n",
       "      <td>0.000000</td>\n",
       "      <td>0.000000</td>\n",
       "      <td>0.000000</td>\n",
       "      <td>0.000000</td>\n",
       "      <td>0.000000</td>\n",
       "      <td>0.000000</td>\n",
       "      <td>0.000000</td>\n",
       "      <td>0.000000</td>\n",
       "      <td>0.000000</td>\n",
       "      <td>0.003112</td>\n",
       "      <td>...</td>\n",
       "      <td>0.000000</td>\n",
       "      <td>-799.798523</td>\n",
       "      <td>0.000000</td>\n",
       "      <td>-800.836914</td>\n",
       "      <td>-0.372054</td>\n",
       "      <td>-797.323986</td>\n",
       "      <td>0.528083</td>\n",
       "      <td>-800.220337</td>\n",
       "      <td>-0.079426</td>\n",
       "      <td>-809.741464</td>\n",
       "    </tr>\n",
       "    <tr>\n",
       "      <th>25%</th>\n",
       "      <td>4.251240</td>\n",
       "      <td>9.137262</td>\n",
       "      <td>7.722820</td>\n",
       "      <td>43.402215</td>\n",
       "      <td>63.299712</td>\n",
       "      <td>8.062878</td>\n",
       "      <td>2.040119</td>\n",
       "      <td>8.938947</td>\n",
       "      <td>2.461138</td>\n",
       "      <td>114.107029</td>\n",
       "      <td>...</td>\n",
       "      <td>14.975734</td>\n",
       "      <td>-500.704892</td>\n",
       "      <td>11.940294</td>\n",
       "      <td>-500.187742</td>\n",
       "      <td>10.988606</td>\n",
       "      <td>-500.458467</td>\n",
       "      <td>8.971105</td>\n",
       "      <td>-500.129462</td>\n",
       "      <td>14.983037</td>\n",
       "      <td>-500.728067</td>\n",
       "    </tr>\n",
       "    <tr>\n",
       "      <th>50%</th>\n",
       "      <td>5.066094</td>\n",
       "      <td>10.102433</td>\n",
       "      <td>9.218961</td>\n",
       "      <td>45.011244</td>\n",
       "      <td>68.172738</td>\n",
       "      <td>9.743623</td>\n",
       "      <td>2.748730</td>\n",
       "      <td>10.622456</td>\n",
       "      <td>2.984909</td>\n",
       "      <td>143.232103</td>\n",
       "      <td>...</td>\n",
       "      <td>18.017481</td>\n",
       "      <td>-499.837793</td>\n",
       "      <td>14.971014</td>\n",
       "      <td>-499.459786</td>\n",
       "      <td>15.000036</td>\n",
       "      <td>-499.802605</td>\n",
       "      <td>11.019433</td>\n",
       "      <td>-499.935317</td>\n",
       "      <td>19.960541</td>\n",
       "      <td>-500.048400</td>\n",
       "    </tr>\n",
       "    <tr>\n",
       "      <th>75%</th>\n",
       "      <td>5.895527</td>\n",
       "      <td>11.035769</td>\n",
       "      <td>10.947813</td>\n",
       "      <td>46.275313</td>\n",
       "      <td>72.686642</td>\n",
       "      <td>11.134294</td>\n",
       "      <td>3.333216</td>\n",
       "      <td>12.104271</td>\n",
       "      <td>3.571351</td>\n",
       "      <td>175.075656</td>\n",
       "      <td>...</td>\n",
       "      <td>23.012470</td>\n",
       "      <td>-498.249730</td>\n",
       "      <td>19.034162</td>\n",
       "      <td>-400.118106</td>\n",
       "      <td>18.026190</td>\n",
       "      <td>-498.384187</td>\n",
       "      <td>14.019088</td>\n",
       "      <td>-499.436708</td>\n",
       "      <td>24.003170</td>\n",
       "      <td>-499.495378</td>\n",
       "    </tr>\n",
       "    <tr>\n",
       "      <th>max</th>\n",
       "      <td>16.001945</td>\n",
       "      <td>17.031899</td>\n",
       "      <td>19.615720</td>\n",
       "      <td>52.756638</td>\n",
       "      <td>100.000000</td>\n",
       "      <td>19.552149</td>\n",
       "      <td>5.804178</td>\n",
       "      <td>22.317730</td>\n",
       "      <td>8.245022</td>\n",
       "      <td>265.983123</td>\n",
       "      <td>...</td>\n",
       "      <td>30.115735</td>\n",
       "      <td>-245.239184</td>\n",
       "      <td>31.269706</td>\n",
       "      <td>-6.506986</td>\n",
       "      <td>43.709931</td>\n",
       "      <td>-244.483566</td>\n",
       "      <td>27.926001</td>\n",
       "      <td>-137.740004</td>\n",
       "      <td>32.188906</td>\n",
       "      <td>-104.427459</td>\n",
       "    </tr>\n",
       "  </tbody>\n",
       "</table>\n",
       "<p>8 rows × 86 columns</p>\n",
       "</div>"
      ],
      "text/plain": [
       "       final.output.concentrate_ag  final.output.concentrate_pb  \\\n",
       "count                 19438.000000                 19438.000000   \n",
       "mean                      5.168470                     9.978895   \n",
       "std                       1.372348                     1.669240   \n",
       "min                       0.000000                     0.000000   \n",
       "25%                       4.251240                     9.137262   \n",
       "50%                       5.066094                    10.102433   \n",
       "75%                       5.895527                    11.035769   \n",
       "max                      16.001945                    17.031899   \n",
       "\n",
       "       final.output.concentrate_sol  final.output.concentrate_au  \\\n",
       "count                  19228.000000                 19439.000000   \n",
       "mean                       9.501224                    44.076513   \n",
       "std                        2.787537                     5.129784   \n",
       "min                        0.000000                     0.000000   \n",
       "25%                        7.722820                    43.402215   \n",
       "50%                        9.218961                    45.011244   \n",
       "75%                       10.947813                    46.275313   \n",
       "max                       19.615720                    52.756638   \n",
       "\n",
       "       final.output.recovery  final.output.tail_ag  final.output.tail_pb  \\\n",
       "count           19439.000000          19438.000000          19338.000000   \n",
       "mean               67.050208              9.688589              2.705795   \n",
       "std                10.125840              2.328642              0.949077   \n",
       "min                 0.000000              0.000000              0.000000   \n",
       "25%                63.299712              8.062878              2.040119   \n",
       "50%                68.172738              9.743623              2.748730   \n",
       "75%                72.686642             11.134294              3.333216   \n",
       "max               100.000000             19.552149              5.804178   \n",
       "\n",
       "       final.output.tail_sol  final.output.tail_au  \\\n",
       "count           19433.000000          19439.000000   \n",
       "mean               10.583728              3.042467   \n",
       "std                 2.868782              0.922808   \n",
       "min                 0.000000              0.000000   \n",
       "25%                 8.938947              2.461138   \n",
       "50%                10.622456              2.984909   \n",
       "75%                12.104271              3.571351   \n",
       "max                22.317730              8.245022   \n",
       "\n",
       "       primary_cleaner.input.sulfate  ...  \\\n",
       "count                   19415.000000  ...   \n",
       "mean                      144.624774  ...   \n",
       "std                        44.464071  ...   \n",
       "min                         0.003112  ...   \n",
       "25%                       114.107029  ...   \n",
       "50%                       143.232103  ...   \n",
       "75%                       175.075656  ...   \n",
       "max                       265.983123  ...   \n",
       "\n",
       "       secondary_cleaner.state.floatbank4_a_air  \\\n",
       "count                              19433.000000   \n",
       "mean                                  18.987674   \n",
       "std                                    5.411058   \n",
       "min                                    0.000000   \n",
       "25%                                   14.975734   \n",
       "50%                                   18.017481   \n",
       "75%                                   23.012470   \n",
       "max                                   30.115735   \n",
       "\n",
       "       secondary_cleaner.state.floatbank4_a_level  \\\n",
       "count                                19438.000000   \n",
       "mean                                  -485.894516   \n",
       "std                                     47.758570   \n",
       "min                                   -799.798523   \n",
       "25%                                   -500.704892   \n",
       "50%                                   -499.837793   \n",
       "75%                                   -498.249730   \n",
       "max                                   -245.239184   \n",
       "\n",
       "       secondary_cleaner.state.floatbank4_b_air  \\\n",
       "count                              19438.000000   \n",
       "mean                                  15.010366   \n",
       "std                                    4.890228   \n",
       "min                                    0.000000   \n",
       "25%                                   11.940294   \n",
       "50%                                   14.971014   \n",
       "75%                                   19.034162   \n",
       "max                                   31.269706   \n",
       "\n",
       "       secondary_cleaner.state.floatbank4_b_level  \\\n",
       "count                                19438.000000   \n",
       "mean                                  -461.078636   \n",
       "std                                     67.405524   \n",
       "min                                   -800.836914   \n",
       "25%                                   -500.187742   \n",
       "50%                                   -499.459786   \n",
       "75%                                   -400.118106   \n",
       "max                                     -6.506986   \n",
       "\n",
       "       secondary_cleaner.state.floatbank5_a_air  \\\n",
       "count                              19438.000000   \n",
       "mean                                  15.694452   \n",
       "std                                    5.510974   \n",
       "min                                   -0.372054   \n",
       "25%                                   10.988606   \n",
       "50%                                   15.000036   \n",
       "75%                                   18.026190   \n",
       "max                                   43.709931   \n",
       "\n",
       "       secondary_cleaner.state.floatbank5_a_level  \\\n",
       "count                                19438.000000   \n",
       "mean                                  -488.684065   \n",
       "std                                     34.533396   \n",
       "min                                   -797.323986   \n",
       "25%                                   -500.458467   \n",
       "50%                                   -499.802605   \n",
       "75%                                   -498.384187   \n",
       "max                                   -244.483566   \n",
       "\n",
       "       secondary_cleaner.state.floatbank5_b_air  \\\n",
       "count                              19438.000000   \n",
       "mean                                  12.198224   \n",
       "std                                    5.333024   \n",
       "min                                    0.528083   \n",
       "25%                                    8.971105   \n",
       "50%                                   11.019433   \n",
       "75%                                   14.019088   \n",
       "max                                   27.926001   \n",
       "\n",
       "       secondary_cleaner.state.floatbank5_b_level  \\\n",
       "count                                19438.000000   \n",
       "mean                                  -487.149827   \n",
       "std                                     38.347312   \n",
       "min                                   -800.220337   \n",
       "25%                                   -500.129462   \n",
       "50%                                   -499.935317   \n",
       "75%                                   -499.436708   \n",
       "max                                   -137.740004   \n",
       "\n",
       "       secondary_cleaner.state.floatbank6_a_air  \\\n",
       "count                              19437.000000   \n",
       "mean                                  18.959024   \n",
       "std                                    5.550498   \n",
       "min                                   -0.079426   \n",
       "25%                                   14.983037   \n",
       "50%                                   19.960541   \n",
       "75%                                   24.003170   \n",
       "max                                   32.188906   \n",
       "\n",
       "       secondary_cleaner.state.floatbank6_a_level  \n",
       "count                                19438.000000  \n",
       "mean                                  -505.436305  \n",
       "std                                     37.689057  \n",
       "min                                   -809.741464  \n",
       "25%                                   -500.728067  \n",
       "50%                                   -500.048400  \n",
       "75%                                   -499.495378  \n",
       "max                                   -104.427459  \n",
       "\n",
       "[8 rows x 86 columns]"
      ]
     },
     "metadata": {},
     "output_type": "display_data"
    }
   ],
   "source": [
    "for data in datas:\n",
    "    print('#'*50)\n",
    "    print(data.sample())\n",
    "    print(data.info())\n",
    "    print(f'количество дубликатов в таблице = {data.duplicated().sum()}')\n",
    "    display(data.describe())"
   ]
  },
  {
   "cell_type": "markdown",
   "metadata": {
    "scrolled": true
   },
   "source": [
    "Видно, что:\n",
    "- во всех выборках есть пропуски\n",
    "- в выборке test нет части признаков, которые есть в full и train"
   ]
  },
  {
   "cell_type": "markdown",
   "metadata": {
    "scrolled": true
   },
   "source": [
    "### Проверим правильность расчета эффективности обогащения"
   ]
  },
  {
   "cell_type": "code",
   "execution_count": 5,
   "metadata": {
    "scrolled": true
   },
   "outputs": [],
   "source": [
    "def recovery_calc(output, input, tail):\n",
    "    return (output*(input - tail)) * 100/(input*(output - tail))"
   ]
  },
  {
   "cell_type": "code",
   "execution_count": 6,
   "metadata": {
    "scrolled": true
   },
   "outputs": [
    {
     "data": {
      "text/plain": [
       "date\n",
       "2016-01-15 00:00:00    87.107763\n",
       "2016-01-15 01:00:00    86.843261\n",
       "2016-01-15 02:00:00    86.842308\n",
       "2016-01-15 03:00:00    87.226430\n",
       "2016-01-15 04:00:00    86.688794\n",
       "                         ...    \n",
       "2018-08-18 06:59:59    89.574376\n",
       "2018-08-18 07:59:59    87.724007\n",
       "2018-08-18 08:59:59    88.890579\n",
       "2018-08-18 09:59:59    89.858126\n",
       "2018-08-18 10:59:59    89.514960\n",
       "Length: 14149, dtype: float64"
      ]
     },
     "execution_count": 6,
     "metadata": {},
     "output_type": "execute_result"
    }
   ],
   "source": [
    "recovery = recovery_calc(train['rougher.output.concentrate_au'],\n",
    "                         train['rougher.input.feed_au'],\n",
    "                         train['rougher.output.tail_au'])\n",
    "recovery"
   ]
  },
  {
   "cell_type": "code",
   "execution_count": 7,
   "metadata": {
    "scrolled": true
   },
   "outputs": [
    {
     "data": {
      "text/plain": [
       "1.1131451184435918e-14"
      ]
     },
     "execution_count": 7,
     "metadata": {},
     "output_type": "execute_result"
    }
   ],
   "source": [
    "MAE = mean_absolute_error(train['rougher.output.recovery'], recovery)\n",
    "MAE"
   ]
  },
  {
   "cell_type": "markdown",
   "metadata": {},
   "source": [
    "Получили значение ошибки $10^{-14}$, это достаточно маленькое значение. Так что можем считать, что эффективность обогащения вычисленна верно "
   ]
  },
  {
   "cell_type": "markdown",
   "metadata": {},
   "source": [
    "### Проанализируем признаки, недоступные в тестовой выборке"
   ]
  },
  {
   "cell_type": "code",
   "execution_count": 8,
   "metadata": {
    "scrolled": true
   },
   "outputs": [
    {
     "name": "stdout",
     "output_type": "stream",
     "text": [
      "<class 'pandas.core.frame.DataFrame'>\n",
      "Index: 14149 entries, 2016-01-15 00:00:00 to 2018-08-18 10:59:59\n",
      "Data columns (total 34 columns):\n",
      " #   Column                                              Non-Null Count  Dtype  \n",
      "---  ------                                              --------------  -----  \n",
      " 0   rougher.output.tail_ag                              14148 non-null  float64\n",
      " 1   primary_cleaner.output.tail_sol                     14103 non-null  float64\n",
      " 2   rougher.output.concentrate_pb                       14149 non-null  float64\n",
      " 3   primary_cleaner.output.tail_ag                      14148 non-null  float64\n",
      " 4   secondary_cleaner.output.tail_sol                   12544 non-null  float64\n",
      " 5   primary_cleaner.output.tail_pb                      14134 non-null  float64\n",
      " 6   rougher.output.recovery                             14149 non-null  float64\n",
      " 7   final.output.concentrate_au                         14149 non-null  float64\n",
      " 8   rougher.calculation.floatbank11_sulfate_to_au_feed  14148 non-null  float64\n",
      " 9   final.output.concentrate_sol                        13938 non-null  float64\n",
      " 10  final.output.tail_au                                14149 non-null  float64\n",
      " 11  primary_cleaner.output.concentrate_sol              13863 non-null  float64\n",
      " 12  rougher.calculation.au_pb_ratio                     14149 non-null  float64\n",
      " 13  rougher.calculation.sulfate_to_au_concentrate       14148 non-null  float64\n",
      " 14  final.output.tail_pb                                14049 non-null  float64\n",
      " 15  rougher.output.tail_pb                              14149 non-null  float64\n",
      " 16  secondary_cleaner.output.tail_ag                    14147 non-null  float64\n",
      " 17  primary_cleaner.output.concentrate_ag               14149 non-null  float64\n",
      " 18  final.output.tail_sol                               14144 non-null  float64\n",
      " 19  primary_cleaner.output.concentrate_au               14149 non-null  float64\n",
      " 20  primary_cleaner.output.tail_au                      14149 non-null  float64\n",
      " 21  final.output.recovery                               14149 non-null  float64\n",
      " 22  secondary_cleaner.output.tail_pb                    14139 non-null  float64\n",
      " 23  rougher.output.tail_sol                             14149 non-null  float64\n",
      " 24  rougher.output.concentrate_au                       14149 non-null  float64\n",
      " 25  rougher.output.tail_au                              14149 non-null  float64\n",
      " 26  primary_cleaner.output.concentrate_pb               14063 non-null  float64\n",
      " 27  rougher.calculation.floatbank10_sulfate_to_au_feed  14148 non-null  float64\n",
      " 28  final.output.concentrate_ag                         14148 non-null  float64\n",
      " 29  final.output.tail_ag                                14149 non-null  float64\n",
      " 30  rougher.output.concentrate_ag                       14149 non-null  float64\n",
      " 31  final.output.concentrate_pb                         14148 non-null  float64\n",
      " 32  secondary_cleaner.output.tail_au                    14149 non-null  float64\n",
      " 33  rougher.output.concentrate_sol                      14127 non-null  float64\n",
      "dtypes: float64(34)\n",
      "memory usage: 4.3+ MB\n"
     ]
    }
   ],
   "source": [
    "missed_attributes = set(train.columns) - set(test.columns)\n",
    "train[missed_attributes].info()"
   ]
  },
  {
   "cell_type": "markdown",
   "metadata": {},
   "source": [
    "Вывод:\n",
    "- Все недоступные признаки типа `float`\n",
    "- В выборке `test` нет 30 признаков типа `output` и 4 признаков типа `calculation`\n",
    "- Пропущенные данные возможно не были сняты данные по выбранным этапам или они еще не были получены в результате работы системы\n",
    "- Надо добавить в `test` целевые признаки из `full` и на этапе обучения из `train` удалить признаки, которых нет в `test`"
   ]
  },
  {
   "cell_type": "markdown",
   "metadata": {},
   "source": [
    "### Предобработка данных"
   ]
  },
  {
   "cell_type": "code",
   "execution_count": 9,
   "metadata": {
    "scrolled": true
   },
   "outputs": [
    {
     "name": "stdout",
     "output_type": "stream",
     "text": [
      "secondary_cleaner.output.tail_sol             1605\n",
      "rougher.state.floatbank10_e_air                436\n",
      "rougher.input.floatbank11_xanthate             428\n",
      "primary_cleaner.output.concentrate_sol         286\n",
      "secondary_cleaner.state.floatbank2_a_air       217\n",
      "                                              ... \n",
      "rougher.state.floatbank10_a_air                  1\n",
      "rougher.state.floatbank10_a_level                1\n",
      "rougher.state.floatbank10_b_air                  1\n",
      "rougher.state.floatbank10_b_level                1\n",
      "secondary_cleaner.state.floatbank6_a_level       1\n",
      "Length: 62, dtype: int64\n",
      "--------------------------------------------------\n",
      "rougher.input.floatbank11_xanthate          25\n",
      "rougher.input.feed_sol                      21\n",
      "secondary_cleaner.state.floatbank3_a_air     9\n",
      "rougher.input.floatbank11_sulfate            8\n",
      "primary_cleaner.input.depressant             5\n",
      "rougher.input.floatbank10_sulfate            5\n",
      "primary_cleaner.input.sulfate                4\n",
      "primary_cleaner.input.xanthate               4\n",
      "rougher.input.feed_rate                      3\n",
      "secondary_cleaner.state.floatbank2_a_air     3\n",
      "secondary_cleaner.state.floatbank2_b_air     2\n",
      "rougher.input.feed_size                      1\n",
      "dtype: int64\n",
      "--------------------------------------------------\n",
      "secondary_cleaner.output.tail_sol             1748\n",
      "rougher.input.floatbank11_xanthate             453\n",
      "rougher.state.floatbank10_e_air                436\n",
      "primary_cleaner.output.concentrate_sol         370\n",
      "secondary_cleaner.state.floatbank2_a_air       220\n",
      "                                              ... \n",
      "primary_cleaner.state.floatbank8_c_level         1\n",
      "primary_cleaner.state.floatbank8_b_level         1\n",
      "primary_cleaner.state.floatbank8_a_level         1\n",
      "final.output.tail_ag                             1\n",
      "secondary_cleaner.state.floatbank6_a_level       1\n",
      "Length: 63, dtype: int64\n",
      "--------------------------------------------------\n"
     ]
    }
   ],
   "source": [
    "for data in datas:\n",
    "    print(data.isna().sum()[data.isna().sum()!=0].sort_values(ascending=False))\n",
    "    print('-'*50)"
   ]
  },
  {
   "cell_type": "code",
   "execution_count": 10,
   "metadata": {},
   "outputs": [
    {
     "data": {
      "text/plain": [
       "(5290, 54)"
      ]
     },
     "execution_count": 10,
     "metadata": {},
     "output_type": "execute_result"
    }
   ],
   "source": [
    "test = test.join(full[['final.output.recovery', 'rougher.output.recovery']], how='left')\n",
    "test.shape"
   ]
  },
  {
   "cell_type": "markdown",
   "metadata": {},
   "source": [
    "Так как в условии сказанно, что соседние данные похожи, то пропуски логично заполнить соседними значениями "
   ]
  },
  {
   "cell_type": "code",
   "execution_count": 11,
   "metadata": {},
   "outputs": [
    {
     "data": {
      "text/plain": [
       "(array([[False, False, False, ..., False, False, False],\n",
       "        [False, False, False, ..., False, False, False],\n",
       "        [False, False, False, ..., False, False, False],\n",
       "        ...,\n",
       "        [False, False, False, ..., False, False, False],\n",
       "        [False, False, False, ..., False, False, False],\n",
       "        [False, False, False, ..., False, False, False]]),\n",
       " array([[False, False, False, ..., False, False, False],\n",
       "        [False, False, False, ..., False, False, False],\n",
       "        [False, False, False, ..., False, False, False],\n",
       "        ...,\n",
       "        [False, False, False, ..., False, False, False],\n",
       "        [False, False, False, ..., False, False, False],\n",
       "        [False, False, False, ..., False, False, False]]))"
      ]
     },
     "execution_count": 11,
     "metadata": {},
     "output_type": "execute_result"
    }
   ],
   "source": [
    "train = train.fillna(method='bfill')\n",
    "test = test.fillna(method='bfill')\n",
    "\n",
    "train.isna().values, test.isna().values"
   ]
  },
  {
   "cell_type": "markdown",
   "metadata": {},
   "source": [
    "На данном этапе избавились от пропусков в `train` и `test`, добавили признаки в `test`"
   ]
  },
  {
   "cell_type": "markdown",
   "metadata": {},
   "source": [
    "**Вывод: \\\n",
    "по ходу процесса подготовки данных обнаружились следующие проблемы:**\n",
    "- в выборке `test` нет 30 признаков типа `output` и 4 признаков типа `calculation`\n",
    "- в данных существуют пропуски и `NA`\n",
    "\n",
    "На этом этапе ошибки были исправленны, а так же проверена правильность расчета эффективности обогащения"
   ]
  },
  {
   "cell_type": "markdown",
   "metadata": {},
   "source": [
    "## Анализ данных"
   ]
  },
  {
   "cell_type": "markdown",
   "metadata": {},
   "source": [
    "### Изучим изменение концентрации металлов (Au, Ag, Pb) на разных этапах очистки"
   ]
  },
  {
   "cell_type": "code",
   "execution_count": 12,
   "metadata": {},
   "outputs": [
    {
     "name": "stdout",
     "output_type": "stream",
     "text": [
      "Au:\n",
      "rougher.input.feed_au                     8.266097\n",
      "rougher.output.concentrate_au            19.772000\n",
      "primary_cleaner.output.concentrate_au    32.119400\n",
      "final.output.concentrate_au              44.076513\n",
      "dtype: float64\n",
      "Ag:\n",
      "rougher.input.feed_ag                     8.794927\n",
      "rougher.output.concentrate_ag            11.994759\n",
      "primary_cleaner.output.concentrate_ag     8.442408\n",
      "final.output.concentrate_ag               5.168470\n",
      "dtype: float64\n",
      "Pb:\n",
      "rougher.input.feed_pb                    3.598085\n",
      "rougher.output.concentrate_pb            7.606272\n",
      "primary_cleaner.output.concentrate_pb    9.829530\n",
      "final.output.concentrate_pb              9.978895\n",
      "dtype: float64\n"
     ]
    }
   ],
   "source": [
    "au_concentrate = full[['rougher.input.feed_au',\n",
    "                       'rougher.output.concentrate_au',\n",
    "                       'primary_cleaner.output.concentrate_au',\n",
    "                       'final.output.concentrate_au']]\n",
    "au_concentrate_mean = au_concentrate.mean(axis=0)\n",
    "\n",
    "ag_concentrate = full[['rougher.input.feed_ag',\n",
    "                       'rougher.output.concentrate_ag',\n",
    "                       'primary_cleaner.output.concentrate_ag',\n",
    "                       'final.output.concentrate_ag']]\n",
    "ag_concentrate_mean = ag_concentrate.mean(axis=0)\n",
    "\n",
    "pb_concentrate = full[['rougher.input.feed_pb',\n",
    "                       'rougher.output.concentrate_pb',\n",
    "                       'primary_cleaner.output.concentrate_pb',\n",
    "                       'final.output.concentrate_pb']]\n",
    "pb_concentrate_mean = pb_concentrate.mean(axis=0)\n",
    "\n",
    "print('Au:')\n",
    "print(au_concentrate_mean)\n",
    "print('Ag:')\n",
    "print(ag_concentrate_mean)\n",
    "print('Pb:')\n",
    "print(pb_concentrate_mean)"
   ]
  },
  {
   "cell_type": "code",
   "execution_count": 13,
   "metadata": {
    "scrolled": false
   },
   "outputs": [
    {
     "data": {
      "image/png": "[encoded data removed]",
      "text/plain": [
       "<Figure size 1080x504 with 1 Axes>"
      ]
     },
     "metadata": {
      "needs_background": "light"
     },
     "output_type": "display_data"
    }
   ],
   "source": [
    "ax_x = ['rougher.input',\n",
    "        'rougher.output',\n",
    "        'primary_cleaner.output',\n",
    "        'final.output']\n",
    "plt.figure(figsize=(15, 7))\n",
    "plt.plot(ax_x, au_concentrate_mean, 'o--', label='Au')\n",
    "plt.plot(ax_x, ag_concentrate_mean, 'o--', label='Ag')\n",
    "plt.plot(ax_x, pb_concentrate_mean, 'o--', label='Pb')\n",
    "plt.title('Изменения концентраций Ag, Pb, Au на этапах очистки')\n",
    "plt.xlabel('Этапы обработки')\n",
    "plt.ylabel('Концентрация элемента')\n",
    "plt.legend()\n",
    "plt.grid()\n",
    "plt.show()"
   ]
  },
  {
   "cell_type": "markdown",
   "metadata": {},
   "source": [
    "Проанализируем концентрацию каждого металла по отдельности:"
   ]
  },
  {
   "cell_type": "code",
   "execution_count": 14,
   "metadata": {},
   "outputs": [
    {
     "data": {
      "image/png": "[encoded data removed]",
      "text/plain": [
       "<Figure size 1080x504 with 1 Axes>"
      ]
     },
     "metadata": {
      "needs_background": "light"
     },
     "output_type": "display_data"
    }
   ],
   "source": [
    "plt.figure(figsize=(15,7))\n",
    "plt.hist(au_concentrate['rougher.input.feed_au'], bins=100, label = ax_x[0], alpha=.5)\n",
    "plt.hist(au_concentrate['rougher.output.concentrate_au'], bins=100, label = ax_x[1], alpha=.5)\n",
    "plt.hist(au_concentrate['primary_cleaner.output.concentrate_au'], bins=100, label = ax_x[2], alpha=.5)\n",
    "plt.hist(au_concentrate['final.output.concentrate_au'], bins=100, label = ax_x[3], alpha=.5)\n",
    "\n",
    "\n",
    "plt.title('Гистограмма концентраций Au на этапах очистки')\n",
    "plt.xlabel('Концентрация в конце этапа')\n",
    "plt.ylabel('Количество результатов')\n",
    "plt.legend()\n",
    "plt.show()"
   ]
  },
  {
   "cell_type": "code",
   "execution_count": 15,
   "metadata": {},
   "outputs": [
    {
     "data": {
      "image/png": "[encoded data removed]",
      "text/plain": [
       "<Figure size 1080x504 with 1 Axes>"
      ]
     },
     "metadata": {
      "needs_background": "light"
     },
     "output_type": "display_data"
    }
   ],
   "source": [
    "plt.figure(figsize=(15,7))\n",
    "plt.hist(ag_concentrate['rougher.input.feed_ag'], bins=100, label = ax_x[0], alpha=.5)\n",
    "plt.hist(ag_concentrate['rougher.output.concentrate_ag'], bins=100, label = ax_x[1], alpha=.5)\n",
    "plt.hist(ag_concentrate['primary_cleaner.output.concentrate_ag'], bins=100, label = ax_x[2], alpha=.5)\n",
    "plt.hist(ag_concentrate['final.output.concentrate_ag'], bins=100, label = ax_x[3], alpha=.5)\n",
    "\n",
    "\n",
    "plt.title('Гистограмма концентраций Ag на этапах очистки')\n",
    "plt.xlabel('Концентрация в конце этапа')\n",
    "plt.ylabel('Количество результатов')\n",
    "plt.legend()\n",
    "plt.show()"
   ]
  },
  {
   "cell_type": "code",
   "execution_count": 16,
   "metadata": {},
   "outputs": [
    {
     "data": {
      "image/png": "[encoded data removed]",
      "text/plain": [
       "<Figure size 1080x504 with 1 Axes>"
      ]
     },
     "metadata": {
      "needs_background": "light"
     },
     "output_type": "display_data"
    }
   ],
   "source": [
    "plt.figure(figsize=(15,7))\n",
    "plt.hist(pb_concentrate['rougher.input.feed_pb'], bins=100, label = ax_x[0], alpha=.5)\n",
    "plt.hist(pb_concentrate['rougher.output.concentrate_pb'], bins=100, label = ax_x[1], alpha=.5)\n",
    "plt.hist(pb_concentrate['primary_cleaner.output.concentrate_pb'], bins=100, label = ax_x[2], alpha=.5)\n",
    "plt.hist(pb_concentrate['final.output.concentrate_pb'], bins=100, label = ax_x[3], alpha=.5)\n",
    "\n",
    "\n",
    "plt.title('Гистограмма концентраций Pb на этапах очистки')\n",
    "plt.xlabel('Концентрация в конце этапа')\n",
    "plt.ylabel('Количество результатов')\n",
    "plt.legend()\n",
    "plt.show()"
   ]
  },
  {
   "cell_type": "markdown",
   "metadata": {},
   "source": [
    "Вывод: \n",
    "- Концентрация Au растет на каждой стадии и в конечном итоге становится более чем в 4 раза больше начальной\n",
    "- Концентрация Ag растет после стадии флотации, но затем убывает после этапов очистки. В итоге концентрация Ag уменьшается примерно в 2 раза\n",
    "- Концентрация Pb растет в процессе обработки, но не так сильно как Au. В итоге концентрация Pb увеличивается примерно в 3 раза"
   ]
  },
  {
   "cell_type": "markdown",
   "metadata": {},
   "source": [
    "### Сравним распределения размеров гранул сырья на обучающей и тестовой выборках"
   ]
  },
  {
   "cell_type": "code",
   "execution_count": 17,
   "metadata": {
    "scrolled": false
   },
   "outputs": [
    {
     "data": {
      "image/png": "[encoded data removed]",
      "text/plain": [
       "<Figure size 1080x576 with 1 Axes>"
      ]
     },
     "metadata": {
      "needs_background": "light"
     },
     "output_type": "display_data"
    }
   ],
   "source": [
    "train_rougher_feed_size = train['rougher.input.feed_size']\n",
    "test_rougher_feed_size = test['rougher.input.feed_size']\n",
    "\n",
    "plt.figure(figsize=(15, 8))\n",
    "sns.kdeplot(train_rougher_feed_size, shade = True, legend=True)\n",
    "sns.kdeplot(test_rougher_feed_size, shade = True, legend=True)\n",
    "\n",
    "plt.legend(labels=[\"train_rougher_feed_size\", \"test_rougher_feed_size\"])\n",
    "plt.title('Распределения размеров гранул сырья на обучающей и тестовой выборках на этапе флотации')\n",
    "plt.show()"
   ]
  },
  {
   "cell_type": "code",
   "execution_count": 18,
   "metadata": {
    "scrolled": false
   },
   "outputs": [
    {
     "data": {
      "image/png": "[encoded data removed]",
      "text/plain": [
       "<Figure size 1080x576 with 1 Axes>"
      ]
     },
     "metadata": {
      "needs_background": "light"
     },
     "output_type": "display_data"
    }
   ],
   "source": [
    "train_rougher_feed_size = train['primary_cleaner.input.feed_size']\n",
    "test_rougher_feed_size = test['primary_cleaner.input.feed_size']\n",
    "\n",
    "plt.figure(figsize=(15, 8))\n",
    "sns.kdeplot(train_rougher_feed_size, shade = True, legend=True)\n",
    "sns.kdeplot(test_rougher_feed_size, shade = True, legend=True)\n",
    "\n",
    "plt.legend(labels=[\"train_rougher_feed_size\", \"test_rougher_feed_size\"])\n",
    "plt.title('Распределения размеров гранул сырья на обучающей и тестовой выборках на этапе первичной отчистки')\n",
    "plt.show()"
   ]
  },
  {
   "cell_type": "markdown",
   "metadata": {},
   "source": [
    "Выводы:\n",
    "- Виды распределения размеров гранул на этапе флотации и первичной обработки похожи,  не считая незначительного смещения. \n",
    "- Распределение размеров гранул на этапе первичной очистки похоже на нормальное, на тестовой выборке объекты сконцентрированы в отрезке [6.5, 8.0], это свидетельствует о более-менее одинаковом размере гранул на этом этапе."
   ]
  },
  {
   "cell_type": "markdown",
   "metadata": {},
   "source": [
    "### Исследуем суммарную концентрацию всех веществ на разных стадиях: в сырье, в черновом и финальном концентратах"
   ]
  },
  {
   "cell_type": "code",
   "execution_count": 19,
   "metadata": {},
   "outputs": [
    {
     "data": {
      "text/html": [
       "<div>\n",
       "<style scoped>\n",
       "    .dataframe tbody tr th:only-of-type {\n",
       "        vertical-align: middle;\n",
       "    }\n",
       "\n",
       "    .dataframe tbody tr th {\n",
       "        vertical-align: top;\n",
       "    }\n",
       "\n",
       "    .dataframe thead th {\n",
       "        text-align: right;\n",
       "    }\n",
       "</style>\n",
       "<table border=\"1\" class=\"dataframe\">\n",
       "  <thead>\n",
       "    <tr style=\"text-align: right;\">\n",
       "      <th></th>\n",
       "      <th>rougher.input</th>\n",
       "      <th>rougher.output</th>\n",
       "      <th>primary_cleaner.output</th>\n",
       "      <th>final.output</th>\n",
       "    </tr>\n",
       "  </thead>\n",
       "  <tbody>\n",
       "    <tr>\n",
       "      <th>count</th>\n",
       "      <td>19245.000000</td>\n",
       "      <td>19416.000000</td>\n",
       "      <td>19069.000000</td>\n",
       "      <td>19227.000000</td>\n",
       "    </tr>\n",
       "    <tr>\n",
       "      <th>mean</th>\n",
       "      <td>57.407926</td>\n",
       "      <td>68.188914</td>\n",
       "      <td>60.949928</td>\n",
       "      <td>68.727562</td>\n",
       "    </tr>\n",
       "    <tr>\n",
       "      <th>std</th>\n",
       "      <td>7.165219</td>\n",
       "      <td>12.478522</td>\n",
       "      <td>9.953770</td>\n",
       "      <td>7.423741</td>\n",
       "    </tr>\n",
       "    <tr>\n",
       "      <th>min</th>\n",
       "      <td>0.040000</td>\n",
       "      <td>0.000000</td>\n",
       "      <td>0.000000</td>\n",
       "      <td>0.000000</td>\n",
       "    </tr>\n",
       "    <tr>\n",
       "      <th>25%</th>\n",
       "      <td>53.660745</td>\n",
       "      <td>66.026048</td>\n",
       "      <td>59.165854</td>\n",
       "      <td>67.985659</td>\n",
       "    </tr>\n",
       "    <tr>\n",
       "      <th>50%</th>\n",
       "      <td>57.647093</td>\n",
       "      <td>70.186130</td>\n",
       "      <td>62.615189</td>\n",
       "      <td>69.632597</td>\n",
       "    </tr>\n",
       "    <tr>\n",
       "      <th>75%</th>\n",
       "      <td>62.012223</td>\n",
       "      <td>74.362878</td>\n",
       "      <td>65.725507</td>\n",
       "      <td>71.390461</td>\n",
       "    </tr>\n",
       "    <tr>\n",
       "      <th>max</th>\n",
       "      <td>76.978947</td>\n",
       "      <td>88.140119</td>\n",
       "      <td>80.749343</td>\n",
       "      <td>80.210644</td>\n",
       "    </tr>\n",
       "  </tbody>\n",
       "</table>\n",
       "</div>"
      ],
      "text/plain": [
       "       rougher.input  rougher.output  primary_cleaner.output  final.output\n",
       "count   19245.000000    19416.000000            19069.000000  19227.000000\n",
       "mean       57.407926       68.188914               60.949928     68.727562\n",
       "std         7.165219       12.478522                9.953770      7.423741\n",
       "min         0.040000        0.000000                0.000000      0.000000\n",
       "25%        53.660745       66.026048               59.165854     67.985659\n",
       "50%        57.647093       70.186130               62.615189     69.632597\n",
       "75%        62.012223       74.362878               65.725507     71.390461\n",
       "max        76.978947       88.140119               80.749343     80.210644"
      ]
     },
     "execution_count": 19,
     "metadata": {},
     "output_type": "execute_result"
    }
   ],
   "source": [
    "state_concentrate = pd.DataFrame()\n",
    "\n",
    "state_concentrate['rougher.input'] = full['rougher.input.feed_ag'] + full['rougher.input.feed_pb'] \\\n",
    "+ full['rougher.input.feed_sol'] + full['rougher.input.feed_au']\n",
    "\n",
    "state_concentrate['rougher.output'] = full['rougher.output.concentrate_ag'] + full['rougher.output.concentrate_pb'] \\\n",
    "+ full['rougher.output.concentrate_sol'] + full['rougher.output.concentrate_au']\n",
    "\n",
    "state_concentrate['primary_cleaner.output'] = full['primary_cleaner.output.concentrate_ag'] \\\n",
    "+ full['primary_cleaner.output.concentrate_pb'] + full['primary_cleaner.output.concentrate_sol'] \\\n",
    "+ full['primary_cleaner.output.concentrate_au']\n",
    "\n",
    "state_concentrate['final.output'] = full['final.output.concentrate_ag'] + full['final.output.concentrate_pb'] \\\n",
    "+ full['final.output.concentrate_sol'] + full['final.output.concentrate_au']\n",
    "\n",
    "state_concentrate.describe()"
   ]
  },
  {
   "cell_type": "code",
   "execution_count": 20,
   "metadata": {
    "scrolled": false
   },
   "outputs": [
    {
     "data": {
      "image/png": "[encoded data removed]",
      "text/plain": [
       "<Figure size 1080x576 with 1 Axes>"
      ]
     },
     "metadata": {
      "needs_background": "light"
     },
     "output_type": "display_data"
    }
   ],
   "source": [
    "y1 = state_concentrate['rougher.input']\n",
    "y2 = state_concentrate['rougher.output']\n",
    "y3 = state_concentrate['primary_cleaner.output']\n",
    "y4 = state_concentrate['final.output']\n",
    "\n",
    "plt.figure(figsize=(15, 8))\n",
    "plt.hist(y1, bins=150, color='red', label='rougher.input', range=(0, 90), alpha=0.5)\n",
    "plt.hist(y2, bins=150, color='blue', label='rougher.output', range=(0, 90), alpha=0.5)\n",
    "plt.hist(y3, bins=150, color='grey', label='primary_cleaner.output', range=(0, 90), alpha=0.5)\n",
    "plt.hist(y4, bins=150, color='green', label='final.output', range=(0, 90), alpha=0.5)\n",
    "plt.legend()\n",
    "plt.xlabel('Суммарная концентрация в конце этапа')\n",
    "plt.ylabel('Количество результатов')\n",
    "plt.title('Распределения суммарной концентрации всех веществ на разных стадиях')\n",
    "plt.show()"
   ]
  },
  {
   "cell_type": "markdown",
   "metadata": {},
   "source": [
    "Выводы:\n",
    "- Есть выброс у нуля. Удалим эти выбросы из всех выборок, чтобы учитывать только эффективные заборы руды.\n",
    "- На этапе `final.output` концентрация распределенна вокруг максимума в очень узком пике, по сравнению с предыдущими стадиями\n",
    "- Суммарная концентрация после финальной стадии распределена в узком промежутке, в отличии от начальных значений"
   ]
  },
  {
   "cell_type": "code",
   "execution_count": 21,
   "metadata": {},
   "outputs": [],
   "source": [
    "full = full[(full['rougher.input.feed_ag'] >= 1) &\n",
    "            (full['rougher.input.feed_pb'] >= 1) &\n",
    "            (full['rougher.input.feed_sol'] >= 1) &\n",
    "            (full['rougher.input.feed_au'] >= 1) &\n",
    "            (full['rougher.output.concentrate_ag'] >= 1) &\n",
    "            (full['rougher.output.concentrate_pb'] >= 1) &\n",
    "            (full['rougher.output.concentrate_sol'] >= 1) &\n",
    "            (full['rougher.output.concentrate_au'] >= 1) &\n",
    "            (full['primary_cleaner.output.concentrate_ag'] >= 1) &\n",
    "            (full['primary_cleaner.output.concentrate_pb'] >= 1) &\n",
    "            (full['primary_cleaner.output.concentrate_sol'] >= 1) &\n",
    "            (full['primary_cleaner.output.concentrate_au'] >= 1) &\n",
    "            (full['final.output.concentrate_ag'] >= 1) &\n",
    "            (full['final.output.concentrate_pb'] >= 1) &\n",
    "            (full['final.output.concentrate_sol'] >= 1) &\n",
    "            (full['final.output.concentrate_au'] >= 1)]"
   ]
  },
  {
   "cell_type": "code",
   "execution_count": 22,
   "metadata": {},
   "outputs": [],
   "source": [
    "train = train[(train['rougher.input.feed_ag'] >= 1) &\n",
    "              (train['rougher.input.feed_pb'] >= 1) &\n",
    "              (train['rougher.input.feed_sol'] >= 1) &\n",
    "              (train['rougher.input.feed_au'] >= 1) &\n",
    "              (train['rougher.output.concentrate_ag'] >= 1) &\n",
    "              (train['rougher.output.concentrate_pb'] >= 1) &\n",
    "              (train['rougher.output.concentrate_sol'] >= 1) &\n",
    "              (train['rougher.output.concentrate_au'] >= 1) &\n",
    "              (train['primary_cleaner.output.concentrate_ag'] >= 1) &\n",
    "              (train['primary_cleaner.output.concentrate_pb'] >= 1) &\n",
    "              (train['primary_cleaner.output.concentrate_sol'] >= 1) &\n",
    "              (train['primary_cleaner.output.concentrate_au'] >= 1) &\n",
    "              (train['final.output.concentrate_ag'] >= 1) &\n",
    "              (train['final.output.concentrate_pb'] >= 1) &\n",
    "              (train['final.output.concentrate_sol'] >= 1) &\n",
    "              (train['final.output.concentrate_au'] >= 1)]"
   ]
  },
  {
   "cell_type": "code",
   "execution_count": 23,
   "metadata": {},
   "outputs": [],
   "source": [
    "test = test[(test['rougher.input.feed_ag'] >= 1) &\n",
    "            (test['rougher.input.feed_pb'] >= 1) &\n",
    "            (test['rougher.input.feed_sol'] >= 1) &\n",
    "            (test['rougher.input.feed_au'] >= 1)]"
   ]
  },
  {
   "cell_type": "markdown",
   "metadata": {},
   "source": [
    "**Вывод:**\n",
    "- Концентрация Au растет на каждой стадии и в конечном итоге становится более чем в 4 раза больше начальной\n",
    "- В итоге концентрация Ag уменьшается примерно в 2 раза\n",
    "- Концентрация Pb растет в процессе обработки. В итоге концентрация Pb увеличивается примерно в 3 раза\n",
    "- Виды распределения размеров гранул на этапе флотации и первичной обработки похожи,  не считая незначительного смещения.\n",
    "- Удалены выбросы у нуля из всех выборок, чтобы учитывать только эффективные заборы руды.\n",
    "- на этапе `final.output` концентрация распределенна вокруг максимума в очень узком пике, по сравнению с предыдущими стадиями"
   ]
  },
  {
   "cell_type": "markdown",
   "metadata": {},
   "source": [
    "## Модель"
   ]
  },
  {
   "cell_type": "code",
   "execution_count": 24,
   "metadata": {},
   "outputs": [],
   "source": [
    "def sMAPE_calc(target, predict):\n",
    "    return np.mean(abs(target - predict) / ((abs(target) + abs(predict)) / 2)) * 100\n",
    "    \n",
    "def final_sMAPE(rougher, final):\n",
    "    return 0.25*rougher + 0.75*final\n"
   ]
  },
  {
   "cell_type": "markdown",
   "metadata": {},
   "source": [
    "### Обучение моделей. Оценка качества. Выбор лучшей модели и её проверка"
   ]
  },
  {
   "cell_type": "markdown",
   "metadata": {},
   "source": [
    "Разобьем выборку на признаки"
   ]
  },
  {
   "cell_type": "code",
   "execution_count": 25,
   "metadata": {},
   "outputs": [],
   "source": [
    "columns = train[missed_attributes].columns.to_list() + ['rougher.output.recovery', 'final.output.recovery']\n",
    "features_train = train.drop(columns=columns, axis=1)"
   ]
  },
  {
   "cell_type": "code",
   "execution_count": 26,
   "metadata": {},
   "outputs": [
    {
     "name": "stdout",
     "output_type": "stream",
     "text": [
      "(13323, 52)\n",
      "(13323,)\n",
      "(13323,)\n"
     ]
    }
   ],
   "source": [
    "target_train_rougher = np.array(train['rougher.output.recovery'])\n",
    "target_train_final = np.array(train['final.output.recovery'])\n",
    "\n",
    "for sample in [features_train, target_train_rougher, target_train_final]:\n",
    "    print(sample.shape)"
   ]
  },
  {
   "cell_type": "code",
   "execution_count": 27,
   "metadata": {},
   "outputs": [],
   "source": [
    "lin_regressor_model = LinearRegression()\n",
    "tree_model = DecisionTreeRegressor(random_state=12345)\n",
    "forest_model = RandomForestRegressor(random_state=12345)"
   ]
  },
  {
   "cell_type": "code",
   "execution_count": 28,
   "metadata": {},
   "outputs": [],
   "source": [
    "tree_params = {'max_depth': list(np.arange(4, 10))}\n",
    "forest_params = {'n_estimators': list(np.arange(30, 80, 10)), 'max_depth': list(np.arange(4, 10))}\n",
    "lin_reg_params = {}\n",
    "\n",
    "sMAPE_score = make_scorer(sMAPE_calc, greater_is_better = False)"
   ]
  },
  {
   "cell_type": "code",
   "execution_count": 29,
   "metadata": {
    "scrolled": true
   },
   "outputs": [
    {
     "name": "stdout",
     "output_type": "stream",
     "text": [
      "Fitting 3 folds for each of 30 candidates, totalling 90 fits\n",
      "[CV 1/3; 1/30] START max_depth=4, n_estimators=30...............................\n",
      "[CV 1/3; 1/30] END .............max_depth=4, n_estimators=30; total time=   3.2s\n",
      "[CV 2/3; 1/30] START max_depth=4, n_estimators=30...............................\n",
      "[CV 2/3; 1/30] END .............max_depth=4, n_estimators=30; total time=   3.1s\n",
      "[CV 3/3; 1/30] START max_depth=4, n_estimators=30...............................\n",
      "[CV 3/3; 1/30] END .............max_depth=4, n_estimators=30; total time=   3.3s\n",
      "[CV 1/3; 2/30] START max_depth=4, n_estimators=40...............................\n",
      "[CV 1/3; 2/30] END .............max_depth=4, n_estimators=40; total time=   4.2s\n",
      "[CV 2/3; 2/30] START max_depth=4, n_estimators=40...............................\n",
      "[CV 2/3; 2/30] END .............max_depth=4, n_estimators=40; total time=   4.2s\n",
      "[CV 3/3; 2/30] START max_depth=4, n_estimators=40...............................\n",
      "[CV 3/3; 2/30] END .............max_depth=4, n_estimators=40; total time=   4.2s\n",
      "[CV 1/3; 3/30] START max_depth=4, n_estimators=50...............................\n",
      "[CV 1/3; 3/30] END .............max_depth=4, n_estimators=50; total time=   5.4s\n",
      "[CV 2/3; 3/30] START max_depth=4, n_estimators=50...............................\n",
      "[CV 2/3; 3/30] END .............max_depth=4, n_estimators=50; total time=   5.3s\n",
      "[CV 3/3; 3/30] START max_depth=4, n_estimators=50...............................\n",
      "[CV 3/3; 3/30] END .............max_depth=4, n_estimators=50; total time=   5.3s\n",
      "[CV 1/3; 4/30] START max_depth=4, n_estimators=60...............................\n",
      "[CV 1/3; 4/30] END .............max_depth=4, n_estimators=60; total time=   6.5s\n",
      "[CV 2/3; 4/30] START max_depth=4, n_estimators=60...............................\n",
      "[CV 2/3; 4/30] END .............max_depth=4, n_estimators=60; total time=   6.5s\n",
      "[CV 3/3; 4/30] START max_depth=4, n_estimators=60...............................\n",
      "[CV 3/3; 4/30] END .............max_depth=4, n_estimators=60; total time=   6.5s\n",
      "[CV 1/3; 5/30] START max_depth=4, n_estimators=70...............................\n",
      "[CV 1/3; 5/30] END .............max_depth=4, n_estimators=70; total time=   7.4s\n",
      "[CV 2/3; 5/30] START max_depth=4, n_estimators=70...............................\n",
      "[CV 2/3; 5/30] END .............max_depth=4, n_estimators=70; total time=   7.3s\n",
      "[CV 3/3; 5/30] START max_depth=4, n_estimators=70...............................\n",
      "[CV 3/3; 5/30] END .............max_depth=4, n_estimators=70; total time=   7.5s\n",
      "[CV 1/3; 6/30] START max_depth=5, n_estimators=30...............................\n",
      "[CV 1/3; 6/30] END .............max_depth=5, n_estimators=30; total time=   3.9s\n",
      "[CV 2/3; 6/30] START max_depth=5, n_estimators=30...............................\n",
      "[CV 2/3; 6/30] END .............max_depth=5, n_estimators=30; total time=   3.9s\n",
      "[CV 3/3; 6/30] START max_depth=5, n_estimators=30...............................\n",
      "[CV 3/3; 6/30] END .............max_depth=5, n_estimators=30; total time=   4.0s\n",
      "[CV 1/3; 7/30] START max_depth=5, n_estimators=40...............................\n",
      "[CV 1/3; 7/30] END .............max_depth=5, n_estimators=40; total time=   5.3s\n",
      "[CV 2/3; 7/30] START max_depth=5, n_estimators=40...............................\n",
      "[CV 2/3; 7/30] END .............max_depth=5, n_estimators=40; total time=   5.2s\n",
      "[CV 3/3; 7/30] START max_depth=5, n_estimators=40...............................\n",
      "[CV 3/3; 7/30] END .............max_depth=5, n_estimators=40; total time=   5.2s\n",
      "[CV 1/3; 8/30] START max_depth=5, n_estimators=50...............................\n",
      "[CV 1/3; 8/30] END .............max_depth=5, n_estimators=50; total time=   6.6s\n",
      "[CV 2/3; 8/30] START max_depth=5, n_estimators=50...............................\n",
      "[CV 2/3; 8/30] END .............max_depth=5, n_estimators=50; total time=   6.6s\n",
      "[CV 3/3; 8/30] START max_depth=5, n_estimators=50...............................\n",
      "[CV 3/3; 8/30] END .............max_depth=5, n_estimators=50; total time=   6.5s\n",
      "[CV 1/3; 9/30] START max_depth=5, n_estimators=60...............................\n",
      "[CV 1/3; 9/30] END .............max_depth=5, n_estimators=60; total time=   7.9s\n",
      "[CV 2/3; 9/30] START max_depth=5, n_estimators=60...............................\n",
      "[CV 2/3; 9/30] END .............max_depth=5, n_estimators=60; total time=   7.8s\n",
      "[CV 3/3; 9/30] START max_depth=5, n_estimators=60...............................\n",
      "[CV 3/3; 9/30] END .............max_depth=5, n_estimators=60; total time=   7.9s\n",
      "[CV 1/3; 10/30] START max_depth=5, n_estimators=70..............................\n",
      "[CV 1/3; 10/30] END ............max_depth=5, n_estimators=70; total time=   9.2s\n",
      "[CV 2/3; 10/30] START max_depth=5, n_estimators=70..............................\n",
      "[CV 2/3; 10/30] END ............max_depth=5, n_estimators=70; total time=   9.2s\n",
      "[CV 3/3; 10/30] START max_depth=5, n_estimators=70..............................\n",
      "[CV 3/3; 10/30] END ............max_depth=5, n_estimators=70; total time=   9.3s\n",
      "[CV 1/3; 11/30] START max_depth=6, n_estimators=30..............................\n",
      "[CV 1/3; 11/30] END ............max_depth=6, n_estimators=30; total time=   4.6s\n",
      "[CV 2/3; 11/30] START max_depth=6, n_estimators=30..............................\n",
      "[CV 2/3; 11/30] END ............max_depth=6, n_estimators=30; total time=   4.6s\n",
      "[CV 3/3; 11/30] START max_depth=6, n_estimators=30..............................\n",
      "[CV 3/3; 11/30] END ............max_depth=6, n_estimators=30; total time=   4.6s\n",
      "[CV 1/3; 12/30] START max_depth=6, n_estimators=40..............................\n",
      "[CV 1/3; 12/30] END ............max_depth=6, n_estimators=40; total time=   6.2s\n",
      "[CV 2/3; 12/30] START max_depth=6, n_estimators=40..............................\n",
      "[CV 2/3; 12/30] END ............max_depth=6, n_estimators=40; total time=   6.2s\n",
      "[CV 3/3; 12/30] START max_depth=6, n_estimators=40..............................\n",
      "[CV 3/3; 12/30] END ............max_depth=6, n_estimators=40; total time=   6.1s\n",
      "[CV 1/3; 13/30] START max_depth=6, n_estimators=50..............................\n",
      "[CV 1/3; 13/30] END ............max_depth=6, n_estimators=50; total time=   7.7s\n",
      "[CV 2/3; 13/30] START max_depth=6, n_estimators=50..............................\n",
      "[CV 2/3; 13/30] END ............max_depth=6, n_estimators=50; total time=   7.6s\n",
      "[CV 3/3; 13/30] START max_depth=6, n_estimators=50..............................\n",
      "[CV 3/3; 13/30] END ............max_depth=6, n_estimators=50; total time=   7.8s\n",
      "[CV 1/3; 14/30] START max_depth=6, n_estimators=60..............................\n",
      "[CV 1/3; 14/30] END ............max_depth=6, n_estimators=60; total time=   9.2s\n",
      "[CV 2/3; 14/30] START max_depth=6, n_estimators=60..............................\n",
      "[CV 2/3; 14/30] END ............max_depth=6, n_estimators=60; total time=   9.2s\n",
      "[CV 3/3; 14/30] START max_depth=6, n_estimators=60..............................\n",
      "[CV 3/3; 14/30] END ............max_depth=6, n_estimators=60; total time=   9.2s\n",
      "[CV 1/3; 15/30] START max_depth=6, n_estimators=70..............................\n",
      "[CV 1/3; 15/30] END ............max_depth=6, n_estimators=70; total time=  10.9s\n",
      "[CV 2/3; 15/30] START max_depth=6, n_estimators=70..............................\n",
      "[CV 2/3; 15/30] END ............max_depth=6, n_estimators=70; total time=  10.6s\n",
      "[CV 3/3; 15/30] START max_depth=6, n_estimators=70..............................\n",
      "[CV 3/3; 15/30] END ............max_depth=6, n_estimators=70; total time=  11.1s\n",
      "[CV 1/3; 16/30] START max_depth=7, n_estimators=30..............................\n",
      "[CV 1/3; 16/30] END ............max_depth=7, n_estimators=30; total time=   5.5s\n",
      "[CV 2/3; 16/30] START max_depth=7, n_estimators=30..............................\n",
      "[CV 2/3; 16/30] END ............max_depth=7, n_estimators=30; total time=   5.2s\n",
      "[CV 3/3; 16/30] START max_depth=7, n_estimators=30..............................\n",
      "[CV 3/3; 16/30] END ............max_depth=7, n_estimators=30; total time=   5.3s\n",
      "[CV 1/3; 17/30] START max_depth=7, n_estimators=40..............................\n",
      "[CV 1/3; 17/30] END ............max_depth=7, n_estimators=40; total time=   7.0s\n",
      "[CV 2/3; 17/30] START max_depth=7, n_estimators=40..............................\n",
      "[CV 2/3; 17/30] END ............max_depth=7, n_estimators=40; total time=   7.0s\n",
      "[CV 3/3; 17/30] START max_depth=7, n_estimators=40..............................\n",
      "[CV 3/3; 17/30] END ............max_depth=7, n_estimators=40; total time=   7.0s\n",
      "[CV 1/3; 18/30] START max_depth=7, n_estimators=50..............................\n",
      "[CV 1/3; 18/30] END ............max_depth=7, n_estimators=50; total time=   8.9s\n",
      "[CV 2/3; 18/30] START max_depth=7, n_estimators=50..............................\n",
      "[CV 2/3; 18/30] END ............max_depth=7, n_estimators=50; total time=   8.8s\n",
      "[CV 3/3; 18/30] START max_depth=7, n_estimators=50..............................\n",
      "[CV 3/3; 18/30] END ............max_depth=7, n_estimators=50; total time=   9.0s\n",
      "[CV 1/3; 19/30] START max_depth=7, n_estimators=60..............................\n",
      "[CV 1/3; 19/30] END ............max_depth=7, n_estimators=60; total time=  10.6s\n",
      "[CV 2/3; 19/30] START max_depth=7, n_estimators=60..............................\n",
      "[CV 2/3; 19/30] END ............max_depth=7, n_estimators=60; total time=  10.4s\n",
      "[CV 3/3; 19/30] START max_depth=7, n_estimators=60..............................\n",
      "[CV 3/3; 19/30] END ............max_depth=7, n_estimators=60; total time=  10.6s\n",
      "[CV 1/3; 20/30] START max_depth=7, n_estimators=70..............................\n",
      "[CV 1/3; 20/30] END ............max_depth=7, n_estimators=70; total time=  12.3s\n",
      "[CV 2/3; 20/30] START max_depth=7, n_estimators=70..............................\n",
      "[CV 2/3; 20/30] END ............max_depth=7, n_estimators=70; total time=  12.3s\n",
      "[CV 3/3; 20/30] START max_depth=7, n_estimators=70..............................\n",
      "[CV 3/3; 20/30] END ............max_depth=7, n_estimators=70; total time=  12.3s\n",
      "[CV 1/3; 21/30] START max_depth=8, n_estimators=30..............................\n",
      "[CV 1/3; 21/30] END ............max_depth=8, n_estimators=30; total time=   6.0s\n",
      "[CV 2/3; 21/30] START max_depth=8, n_estimators=30..............................\n",
      "[CV 2/3; 21/30] END ............max_depth=8, n_estimators=30; total time=   5.9s\n",
      "[CV 3/3; 21/30] START max_depth=8, n_estimators=30..............................\n",
      "[CV 3/3; 21/30] END ............max_depth=8, n_estimators=30; total time=   6.0s\n",
      "[CV 1/3; 22/30] START max_depth=8, n_estimators=40..............................\n",
      "[CV 1/3; 22/30] END ............max_depth=8, n_estimators=40; total time=   7.9s\n",
      "[CV 2/3; 22/30] START max_depth=8, n_estimators=40..............................\n",
      "[CV 2/3; 22/30] END ............max_depth=8, n_estimators=40; total time=   7.7s\n",
      "[CV 3/3; 22/30] START max_depth=8, n_estimators=40..............................\n",
      "[CV 3/3; 22/30] END ............max_depth=8, n_estimators=40; total time=   7.8s\n",
      "[CV 1/3; 23/30] START max_depth=8, n_estimators=50..............................\n",
      "[CV 1/3; 23/30] END ............max_depth=8, n_estimators=50; total time=   9.9s\n",
      "[CV 2/3; 23/30] START max_depth=8, n_estimators=50..............................\n",
      "[CV 2/3; 23/30] END ............max_depth=8, n_estimators=50; total time=   9.7s\n",
      "[CV 3/3; 23/30] START max_depth=8, n_estimators=50..............................\n",
      "[CV 3/3; 23/30] END ............max_depth=8, n_estimators=50; total time=   9.8s\n",
      "[CV 1/3; 24/30] START max_depth=8, n_estimators=60..............................\n",
      "[CV 1/3; 24/30] END ............max_depth=8, n_estimators=60; total time=  11.9s\n",
      "[CV 2/3; 24/30] START max_depth=8, n_estimators=60..............................\n",
      "[CV 2/3; 24/30] END ............max_depth=8, n_estimators=60; total time=  11.7s\n",
      "[CV 3/3; 24/30] START max_depth=8, n_estimators=60..............................\n",
      "[CV 3/3; 24/30] END ............max_depth=8, n_estimators=60; total time=  11.8s\n",
      "[CV 1/3; 25/30] START max_depth=8, n_estimators=70..............................\n",
      "[CV 1/3; 25/30] END ............max_depth=8, n_estimators=70; total time=  13.8s\n",
      "[CV 2/3; 25/30] START max_depth=8, n_estimators=70..............................\n",
      "[CV 2/3; 25/30] END ............max_depth=8, n_estimators=70; total time=  13.6s\n",
      "[CV 3/3; 25/30] START max_depth=8, n_estimators=70..............................\n",
      "[CV 3/3; 25/30] END ............max_depth=8, n_estimators=70; total time=  13.7s\n",
      "[CV 1/3; 26/30] START max_depth=9, n_estimators=30..............................\n",
      "[CV 1/3; 26/30] END ............max_depth=9, n_estimators=30; total time=   6.5s\n",
      "[CV 2/3; 26/30] START max_depth=9, n_estimators=30..............................\n",
      "[CV 2/3; 26/30] END ............max_depth=9, n_estimators=30; total time=   6.4s\n",
      "[CV 3/3; 26/30] START max_depth=9, n_estimators=30..............................\n",
      "[CV 3/3; 26/30] END ............max_depth=9, n_estimators=30; total time=   6.6s\n",
      "[CV 1/3; 27/30] START max_depth=9, n_estimators=40..............................\n",
      "[CV 1/3; 27/30] END ............max_depth=9, n_estimators=40; total time=   8.6s\n",
      "[CV 2/3; 27/30] START max_depth=9, n_estimators=40..............................\n",
      "[CV 2/3; 27/30] END ............max_depth=9, n_estimators=40; total time=   8.4s\n",
      "[CV 3/3; 27/30] START max_depth=9, n_estimators=40..............................\n",
      "[CV 3/3; 27/30] END ............max_depth=9, n_estimators=40; total time=   8.4s\n",
      "[CV 1/3; 28/30] START max_depth=9, n_estimators=50..............................\n",
      "[CV 1/3; 28/30] END ............max_depth=9, n_estimators=50; total time=  10.7s\n",
      "[CV 2/3; 28/30] START max_depth=9, n_estimators=50..............................\n",
      "[CV 2/3; 28/30] END ............max_depth=9, n_estimators=50; total time=  10.4s\n",
      "[CV 3/3; 28/30] START max_depth=9, n_estimators=50..............................\n",
      "[CV 3/3; 28/30] END ............max_depth=9, n_estimators=50; total time=  10.5s\n",
      "[CV 1/3; 29/30] START max_depth=9, n_estimators=60..............................\n",
      "[CV 1/3; 29/30] END ............max_depth=9, n_estimators=60; total time=  12.8s\n",
      "[CV 2/3; 29/30] START max_depth=9, n_estimators=60..............................\n",
      "[CV 2/3; 29/30] END ............max_depth=9, n_estimators=60; total time=  12.6s\n",
      "[CV 3/3; 29/30] START max_depth=9, n_estimators=60..............................\n",
      "[CV 3/3; 29/30] END ............max_depth=9, n_estimators=60; total time=  12.8s\n",
      "[CV 1/3; 30/30] START max_depth=9, n_estimators=70..............................\n",
      "[CV 1/3; 30/30] END ............max_depth=9, n_estimators=70; total time=  14.8s\n",
      "[CV 2/3; 30/30] START max_depth=9, n_estimators=70..............................\n",
      "[CV 2/3; 30/30] END ............max_depth=9, n_estimators=70; total time=  14.7s\n",
      "[CV 3/3; 30/30] START max_depth=9, n_estimators=70..............................\n",
      "[CV 3/3; 30/30] END ............max_depth=9, n_estimators=70; total time=  14.6s\n",
      "Fitting 3 folds for each of 30 candidates, totalling 90 fits\n",
      "[CV 1/3; 1/30] START max_depth=4, n_estimators=30...............................\n",
      "[CV 1/3; 1/30] END .............max_depth=4, n_estimators=30; total time=   3.2s\n",
      "[CV 2/3; 1/30] START max_depth=4, n_estimators=30...............................\n",
      "[CV 2/3; 1/30] END .............max_depth=4, n_estimators=30; total time=   3.2s\n",
      "[CV 3/3; 1/30] START max_depth=4, n_estimators=30...............................\n",
      "[CV 3/3; 1/30] END .............max_depth=4, n_estimators=30; total time=   3.2s\n",
      "[CV 1/3; 2/30] START max_depth=4, n_estimators=40...............................\n",
      "[CV 1/3; 2/30] END .............max_depth=4, n_estimators=40; total time=   4.2s\n",
      "[CV 2/3; 2/30] START max_depth=4, n_estimators=40...............................\n",
      "[CV 2/3; 2/30] END .............max_depth=4, n_estimators=40; total time=   4.2s\n",
      "[CV 3/3; 2/30] START max_depth=4, n_estimators=40...............................\n",
      "[CV 3/3; 2/30] END .............max_depth=4, n_estimators=40; total time=   4.3s\n",
      "[CV 1/3; 3/30] START max_depth=4, n_estimators=50...............................\n",
      "[CV 1/3; 3/30] END .............max_depth=4, n_estimators=50; total time=   5.4s\n",
      "[CV 2/3; 3/30] START max_depth=4, n_estimators=50...............................\n",
      "[CV 2/3; 3/30] END .............max_depth=4, n_estimators=50; total time=   5.3s\n",
      "[CV 3/3; 3/30] START max_depth=4, n_estimators=50...............................\n",
      "[CV 3/3; 3/30] END .............max_depth=4, n_estimators=50; total time=   5.4s\n",
      "[CV 1/3; 4/30] START max_depth=4, n_estimators=60...............................\n",
      "[CV 1/3; 4/30] END .............max_depth=4, n_estimators=60; total time=   6.4s\n",
      "[CV 2/3; 4/30] START max_depth=4, n_estimators=60...............................\n",
      "[CV 2/3; 4/30] END .............max_depth=4, n_estimators=60; total time=   6.4s\n",
      "[CV 3/3; 4/30] START max_depth=4, n_estimators=60...............................\n",
      "[CV 3/3; 4/30] END .............max_depth=4, n_estimators=60; total time=   6.4s\n",
      "[CV 1/3; 5/30] START max_depth=4, n_estimators=70...............................\n",
      "[CV 1/3; 5/30] END .............max_depth=4, n_estimators=70; total time=   7.5s\n",
      "[CV 2/3; 5/30] START max_depth=4, n_estimators=70...............................\n",
      "[CV 2/3; 5/30] END .............max_depth=4, n_estimators=70; total time=   7.6s\n",
      "[CV 3/3; 5/30] START max_depth=4, n_estimators=70...............................\n",
      "[CV 3/3; 5/30] END .............max_depth=4, n_estimators=70; total time=   7.5s\n",
      "[CV 1/3; 6/30] START max_depth=5, n_estimators=30...............................\n",
      "[CV 1/3; 6/30] END .............max_depth=5, n_estimators=30; total time=   3.9s\n",
      "[CV 2/3; 6/30] START max_depth=5, n_estimators=30...............................\n",
      "[CV 2/3; 6/30] END .............max_depth=5, n_estimators=30; total time=   4.0s\n",
      "[CV 3/3; 6/30] START max_depth=5, n_estimators=30...............................\n",
      "[CV 3/3; 6/30] END .............max_depth=5, n_estimators=30; total time=   4.1s\n",
      "[CV 1/3; 7/30] START max_depth=5, n_estimators=40...............................\n",
      "[CV 1/3; 7/30] END .............max_depth=5, n_estimators=40; total time=   5.3s\n",
      "[CV 2/3; 7/30] START max_depth=5, n_estimators=40...............................\n",
      "[CV 2/3; 7/30] END .............max_depth=5, n_estimators=40; total time=   5.1s\n",
      "[CV 3/3; 7/30] START max_depth=5, n_estimators=40...............................\n",
      "[CV 3/3; 7/30] END .............max_depth=5, n_estimators=40; total time=   5.2s\n",
      "[CV 1/3; 8/30] START max_depth=5, n_estimators=50...............................\n",
      "[CV 1/3; 8/30] END .............max_depth=5, n_estimators=50; total time=   6.4s\n",
      "[CV 2/3; 8/30] START max_depth=5, n_estimators=50...............................\n",
      "[CV 2/3; 8/30] END .............max_depth=5, n_estimators=50; total time=   6.4s\n",
      "[CV 3/3; 8/30] START max_depth=5, n_estimators=50...............................\n",
      "[CV 3/3; 8/30] END .............max_depth=5, n_estimators=50; total time=   6.6s\n",
      "[CV 1/3; 9/30] START max_depth=5, n_estimators=60...............................\n",
      "[CV 1/3; 9/30] END .............max_depth=5, n_estimators=60; total time=   7.8s\n",
      "[CV 2/3; 9/30] START max_depth=5, n_estimators=60...............................\n",
      "[CV 2/3; 9/30] END .............max_depth=5, n_estimators=60; total time=   7.7s\n",
      "[CV 3/3; 9/30] START max_depth=5, n_estimators=60...............................\n",
      "[CV 3/3; 9/30] END .............max_depth=5, n_estimators=60; total time=   8.0s\n",
      "[CV 1/3; 10/30] START max_depth=5, n_estimators=70..............................\n",
      "[CV 1/3; 10/30] END ............max_depth=5, n_estimators=70; total time=   9.1s\n",
      "[CV 2/3; 10/30] START max_depth=5, n_estimators=70..............................\n",
      "[CV 2/3; 10/30] END ............max_depth=5, n_estimators=70; total time=   8.9s\n",
      "[CV 3/3; 10/30] START max_depth=5, n_estimators=70..............................\n",
      "[CV 3/3; 10/30] END ............max_depth=5, n_estimators=70; total time=   9.1s\n",
      "[CV 1/3; 11/30] START max_depth=6, n_estimators=30..............................\n",
      "[CV 1/3; 11/30] END ............max_depth=6, n_estimators=30; total time=   4.6s\n",
      "[CV 2/3; 11/30] START max_depth=6, n_estimators=30..............................\n",
      "[CV 2/3; 11/30] END ............max_depth=6, n_estimators=30; total time=   4.6s\n",
      "[CV 3/3; 11/30] START max_depth=6, n_estimators=30..............................\n",
      "[CV 3/3; 11/30] END ............max_depth=6, n_estimators=30; total time=   4.7s\n",
      "[CV 1/3; 12/30] START max_depth=6, n_estimators=40..............................\n",
      "[CV 1/3; 12/30] END ............max_depth=6, n_estimators=40; total time=   6.5s\n",
      "[CV 2/3; 12/30] START max_depth=6, n_estimators=40..............................\n",
      "[CV 2/3; 12/30] END ............max_depth=6, n_estimators=40; total time=   6.4s\n",
      "[CV 3/3; 12/30] START max_depth=6, n_estimators=40..............................\n",
      "[CV 3/3; 12/30] END ............max_depth=6, n_estimators=40; total time=   6.7s\n",
      "[CV 1/3; 13/30] START max_depth=6, n_estimators=50..............................\n",
      "[CV 1/3; 13/30] END ............max_depth=6, n_estimators=50; total time=   8.3s\n",
      "[CV 2/3; 13/30] START max_depth=6, n_estimators=50..............................\n",
      "[CV 2/3; 13/30] END ............max_depth=6, n_estimators=50; total time=   8.1s\n",
      "[CV 3/3; 13/30] START max_depth=6, n_estimators=50..............................\n",
      "[CV 3/3; 13/30] END ............max_depth=6, n_estimators=50; total time=   8.2s\n",
      "[CV 1/3; 14/30] START max_depth=6, n_estimators=60..............................\n",
      "[CV 1/3; 14/30] END ............max_depth=6, n_estimators=60; total time=   9.7s\n",
      "[CV 2/3; 14/30] START max_depth=6, n_estimators=60..............................\n",
      "[CV 2/3; 14/30] END ............max_depth=6, n_estimators=60; total time=   9.8s\n",
      "[CV 3/3; 14/30] START max_depth=6, n_estimators=60..............................\n",
      "[CV 3/3; 14/30] END ............max_depth=6, n_estimators=60; total time=   9.8s\n",
      "[CV 1/3; 15/30] START max_depth=6, n_estimators=70..............................\n",
      "[CV 1/3; 15/30] END ............max_depth=6, n_estimators=70; total time=  11.6s\n",
      "[CV 2/3; 15/30] START max_depth=6, n_estimators=70..............................\n",
      "[CV 2/3; 15/30] END ............max_depth=6, n_estimators=70; total time=  11.3s\n",
      "[CV 3/3; 15/30] START max_depth=6, n_estimators=70..............................\n",
      "[CV 3/3; 15/30] END ............max_depth=6, n_estimators=70; total time=  11.4s\n",
      "[CV 1/3; 16/30] START max_depth=7, n_estimators=30..............................\n",
      "[CV 1/3; 16/30] END ............max_depth=7, n_estimators=30; total time=   5.6s\n",
      "[CV 2/3; 16/30] START max_depth=7, n_estimators=30..............................\n",
      "[CV 2/3; 16/30] END ............max_depth=7, n_estimators=30; total time=   5.6s\n",
      "[CV 3/3; 16/30] START max_depth=7, n_estimators=30..............................\n",
      "[CV 3/3; 16/30] END ............max_depth=7, n_estimators=30; total time=   5.6s\n",
      "[CV 1/3; 17/30] START max_depth=7, n_estimators=40..............................\n",
      "[CV 1/3; 17/30] END ............max_depth=7, n_estimators=40; total time=   7.4s\n",
      "[CV 2/3; 17/30] START max_depth=7, n_estimators=40..............................\n",
      "[CV 2/3; 17/30] END ............max_depth=7, n_estimators=40; total time=   7.5s\n",
      "[CV 3/3; 17/30] START max_depth=7, n_estimators=40..............................\n",
      "[CV 3/3; 17/30] END ............max_depth=7, n_estimators=40; total time=   7.7s\n",
      "[CV 1/3; 18/30] START max_depth=7, n_estimators=50..............................\n",
      "[CV 1/3; 18/30] END ............max_depth=7, n_estimators=50; total time=   9.2s\n",
      "[CV 2/3; 18/30] START max_depth=7, n_estimators=50..............................\n",
      "[CV 2/3; 18/30] END ............max_depth=7, n_estimators=50; total time=   9.2s\n",
      "[CV 3/3; 18/30] START max_depth=7, n_estimators=50..............................\n",
      "[CV 3/3; 18/30] END ............max_depth=7, n_estimators=50; total time=   9.8s\n",
      "[CV 1/3; 19/30] START max_depth=7, n_estimators=60..............................\n",
      "[CV 1/3; 19/30] END ............max_depth=7, n_estimators=60; total time=  11.2s\n",
      "[CV 2/3; 19/30] START max_depth=7, n_estimators=60..............................\n",
      "[CV 2/3; 19/30] END ............max_depth=7, n_estimators=60; total time=  10.9s\n",
      "[CV 3/3; 19/30] START max_depth=7, n_estimators=60..............................\n",
      "[CV 3/3; 19/30] END ............max_depth=7, n_estimators=60; total time=  11.2s\n",
      "[CV 1/3; 20/30] START max_depth=7, n_estimators=70..............................\n",
      "[CV 1/3; 20/30] END ............max_depth=7, n_estimators=70; total time=  12.9s\n",
      "[CV 2/3; 20/30] START max_depth=7, n_estimators=70..............................\n",
      "[CV 2/3; 20/30] END ............max_depth=7, n_estimators=70; total time=  12.8s\n",
      "[CV 3/3; 20/30] START max_depth=7, n_estimators=70..............................\n",
      "[CV 3/3; 20/30] END ............max_depth=7, n_estimators=70; total time=  12.9s\n",
      "[CV 1/3; 21/30] START max_depth=8, n_estimators=30..............................\n",
      "[CV 1/3; 21/30] END ............max_depth=8, n_estimators=30; total time=   6.0s\n",
      "[CV 2/3; 21/30] START max_depth=8, n_estimators=30..............................\n",
      "[CV 2/3; 21/30] END ............max_depth=8, n_estimators=30; total time=   6.2s\n",
      "[CV 3/3; 21/30] START max_depth=8, n_estimators=30..............................\n",
      "[CV 3/3; 21/30] END ............max_depth=8, n_estimators=30; total time=   6.5s\n",
      "[CV 1/3; 22/30] START max_depth=8, n_estimators=40..............................\n",
      "[CV 1/3; 22/30] END ............max_depth=8, n_estimators=40; total time=   8.4s\n",
      "[CV 2/3; 22/30] START max_depth=8, n_estimators=40..............................\n",
      "[CV 2/3; 22/30] END ............max_depth=8, n_estimators=40; total time=   8.1s\n",
      "[CV 3/3; 22/30] START max_depth=8, n_estimators=40..............................\n",
      "[CV 3/3; 22/30] END ............max_depth=8, n_estimators=40; total time=   8.4s\n",
      "[CV 1/3; 23/30] START max_depth=8, n_estimators=50..............................\n",
      "[CV 1/3; 23/30] END ............max_depth=8, n_estimators=50; total time=  10.5s\n",
      "[CV 2/3; 23/30] START max_depth=8, n_estimators=50..............................\n",
      "[CV 2/3; 23/30] END ............max_depth=8, n_estimators=50; total time=  10.2s\n",
      "[CV 3/3; 23/30] START max_depth=8, n_estimators=50..............................\n",
      "[CV 3/3; 23/30] END ............max_depth=8, n_estimators=50; total time=  10.5s\n",
      "[CV 1/3; 24/30] START max_depth=8, n_estimators=60..............................\n",
      "[CV 1/3; 24/30] END ............max_depth=8, n_estimators=60; total time=  11.7s\n",
      "[CV 2/3; 24/30] START max_depth=8, n_estimators=60..............................\n",
      "[CV 2/3; 24/30] END ............max_depth=8, n_estimators=60; total time=  11.6s\n",
      "[CV 3/3; 24/30] START max_depth=8, n_estimators=60..............................\n",
      "[CV 3/3; 24/30] END ............max_depth=8, n_estimators=60; total time=  11.8s\n",
      "[CV 1/3; 25/30] START max_depth=8, n_estimators=70..............................\n",
      "[CV 1/3; 25/30] END ............max_depth=8, n_estimators=70; total time=  13.6s\n",
      "[CV 2/3; 25/30] START max_depth=8, n_estimators=70..............................\n",
      "[CV 2/3; 25/30] END ............max_depth=8, n_estimators=70; total time=  13.6s\n",
      "[CV 3/3; 25/30] START max_depth=8, n_estimators=70..............................\n",
      "[CV 3/3; 25/30] END ............max_depth=8, n_estimators=70; total time=  13.9s\n",
      "[CV 1/3; 26/30] START max_depth=9, n_estimators=30..............................\n",
      "[CV 1/3; 26/30] END ............max_depth=9, n_estimators=30; total time=   6.4s\n",
      "[CV 2/3; 26/30] START max_depth=9, n_estimators=30..............................\n",
      "[CV 2/3; 26/30] END ............max_depth=9, n_estimators=30; total time=   6.3s\n",
      "[CV 3/3; 26/30] START max_depth=9, n_estimators=30..............................\n",
      "[CV 3/3; 26/30] END ............max_depth=9, n_estimators=30; total time=   6.6s\n",
      "[CV 1/3; 27/30] START max_depth=9, n_estimators=40..............................\n",
      "[CV 1/3; 27/30] END ............max_depth=9, n_estimators=40; total time=   8.7s\n",
      "[CV 2/3; 27/30] START max_depth=9, n_estimators=40..............................\n",
      "[CV 2/3; 27/30] END ............max_depth=9, n_estimators=40; total time=   8.5s\n",
      "[CV 3/3; 27/30] START max_depth=9, n_estimators=40..............................\n",
      "[CV 3/3; 27/30] END ............max_depth=9, n_estimators=40; total time=   8.6s\n",
      "[CV 1/3; 28/30] START max_depth=9, n_estimators=50..............................\n",
      "[CV 1/3; 28/30] END ............max_depth=9, n_estimators=50; total time=  10.8s\n",
      "[CV 2/3; 28/30] START max_depth=9, n_estimators=50..............................\n",
      "[CV 2/3; 28/30] END ............max_depth=9, n_estimators=50; total time=  10.7s\n",
      "[CV 3/3; 28/30] START max_depth=9, n_estimators=50..............................\n",
      "[CV 3/3; 28/30] END ............max_depth=9, n_estimators=50; total time=  11.0s\n",
      "[CV 1/3; 29/30] START max_depth=9, n_estimators=60..............................\n",
      "[CV 1/3; 29/30] END ............max_depth=9, n_estimators=60; total time=  12.8s\n",
      "[CV 2/3; 29/30] START max_depth=9, n_estimators=60..............................\n",
      "[CV 2/3; 29/30] END ............max_depth=9, n_estimators=60; total time=  12.7s\n",
      "[CV 3/3; 29/30] START max_depth=9, n_estimators=60..............................\n",
      "[CV 3/3; 29/30] END ............max_depth=9, n_estimators=60; total time=  13.3s\n",
      "[CV 1/3; 30/30] START max_depth=9, n_estimators=70..............................\n",
      "[CV 1/3; 30/30] END ............max_depth=9, n_estimators=70; total time=  16.2s\n",
      "[CV 2/3; 30/30] START max_depth=9, n_estimators=70..............................\n",
      "[CV 2/3; 30/30] END ............max_depth=9, n_estimators=70; total time=  15.9s\n",
      "[CV 3/3; 30/30] START max_depth=9, n_estimators=70..............................\n",
      "[CV 3/3; 30/30] END ............max_depth=9, n_estimators=70; total time=  16.2s\n"
     ]
    }
   ],
   "source": [
    "rougher_forest = RandomizedSearchCV(forest_model, forest_params, n_iter=100, n_jobs=-1, cv=3, verbose=10, scoring=sMAPE_score)\n",
    "final_forest = RandomizedSearchCV(forest_model, forest_params, n_iter=100, n_jobs=-1, cv=3, verbose=10, scoring=sMAPE_score)\n",
    "\n",
    "rougher_forest.fit(features_train, target_train_rougher)\n",
    "final_forest.fit(features_train, target_train_final)\n",
    "best_score_rougher_forest = -rougher_forest.best_score_\n",
    "best_score_final_forest = -final_forest.best_score_"
   ]
  },
  {
   "cell_type": "code",
   "execution_count": 30,
   "metadata": {
    "scrolled": true
   },
   "outputs": [
    {
     "name": "stdout",
     "output_type": "stream",
     "text": [
      "Fitting 3 folds for each of 6 candidates, totalling 18 fits\n",
      "[CV 1/3; 1/6] START max_depth=4.................................................\n",
      "[CV 1/3; 1/6] END ...............................max_depth=4; total time=   0.2s\n",
      "[CV 2/3; 1/6] START max_depth=4.................................................\n",
      "[CV 2/3; 1/6] END ...............................max_depth=4; total time=   0.2s\n",
      "[CV 3/3; 1/6] START max_depth=4.................................................\n",
      "[CV 3/3; 1/6] END ...............................max_depth=4; total time=   0.2s\n",
      "[CV 1/3; 2/6] START max_depth=5.................................................\n",
      "[CV 1/3; 2/6] END ...............................max_depth=5; total time=   0.2s\n",
      "[CV 2/3; 2/6] START max_depth=5.................................................\n",
      "[CV 2/3; 2/6] END ...............................max_depth=5; total time=   0.2s\n",
      "[CV 3/3; 2/6] START max_depth=5.................................................\n",
      "[CV 3/3; 2/6] END ...............................max_depth=5; total time=   0.2s\n",
      "[CV 1/3; 3/6] START max_depth=6.................................................\n",
      "[CV 1/3; 3/6] END ...............................max_depth=6; total time=   0.3s\n",
      "[CV 2/3; 3/6] START max_depth=6.................................................\n",
      "[CV 2/3; 3/6] END ...............................max_depth=6; total time=   0.3s\n",
      "[CV 3/3; 3/6] START max_depth=6.................................................\n",
      "[CV 3/3; 3/6] END ...............................max_depth=6; total time=   0.3s\n",
      "[CV 1/3; 4/6] START max_depth=7.................................................\n",
      "[CV 1/3; 4/6] END ...............................max_depth=7; total time=   0.3s\n",
      "[CV 2/3; 4/6] START max_depth=7.................................................\n",
      "[CV 2/3; 4/6] END ...............................max_depth=7; total time=   0.3s\n",
      "[CV 3/3; 4/6] START max_depth=7.................................................\n",
      "[CV 3/3; 4/6] END ...............................max_depth=7; total time=   0.3s\n",
      "[CV 1/3; 5/6] START max_depth=8.................................................\n",
      "[CV 1/3; 5/6] END ...............................max_depth=8; total time=   0.3s\n",
      "[CV 2/3; 5/6] START max_depth=8.................................................\n",
      "[CV 2/3; 5/6] END ...............................max_depth=8; total time=   0.3s\n",
      "[CV 3/3; 5/6] START max_depth=8.................................................\n",
      "[CV 3/3; 5/6] END ...............................max_depth=8; total time=   0.3s\n",
      "[CV 1/3; 6/6] START max_depth=9.................................................\n",
      "[CV 1/3; 6/6] END ...............................max_depth=9; total time=   0.4s\n",
      "[CV 2/3; 6/6] START max_depth=9.................................................\n",
      "[CV 2/3; 6/6] END ...............................max_depth=9; total time=   0.4s\n",
      "[CV 3/3; 6/6] START max_depth=9.................................................\n",
      "[CV 3/3; 6/6] END ...............................max_depth=9; total time=   0.4s\n",
      "Fitting 3 folds for each of 6 candidates, totalling 18 fits\n",
      "[CV 1/3; 1/6] START max_depth=4.................................................\n",
      "[CV 1/3; 1/6] END ...............................max_depth=4; total time=   0.2s\n",
      "[CV 2/3; 1/6] START max_depth=4.................................................\n",
      "[CV 2/3; 1/6] END ...............................max_depth=4; total time=   0.2s\n",
      "[CV 3/3; 1/6] START max_depth=4.................................................\n",
      "[CV 3/3; 1/6] END ...............................max_depth=4; total time=   0.2s\n",
      "[CV 1/3; 2/6] START max_depth=5.................................................\n",
      "[CV 1/3; 2/6] END ...............................max_depth=5; total time=   0.3s\n",
      "[CV 2/3; 2/6] START max_depth=5.................................................\n",
      "[CV 2/3; 2/6] END ...............................max_depth=5; total time=   0.2s\n",
      "[CV 3/3; 2/6] START max_depth=5.................................................\n",
      "[CV 3/3; 2/6] END ...............................max_depth=5; total time=   0.2s\n",
      "[CV 1/3; 3/6] START max_depth=6.................................................\n",
      "[CV 1/3; 3/6] END ...............................max_depth=6; total time=   0.3s\n",
      "[CV 2/3; 3/6] START max_depth=6.................................................\n",
      "[CV 2/3; 3/6] END ...............................max_depth=6; total time=   0.3s\n",
      "[CV 3/3; 3/6] START max_depth=6.................................................\n",
      "[CV 3/3; 3/6] END ...............................max_depth=6; total time=   0.3s\n",
      "[CV 1/3; 4/6] START max_depth=7.................................................\n",
      "[CV 1/3; 4/6] END ...............................max_depth=7; total time=   0.3s\n",
      "[CV 2/3; 4/6] START max_depth=7.................................................\n",
      "[CV 2/3; 4/6] END ...............................max_depth=7; total time=   0.3s\n",
      "[CV 3/3; 4/6] START max_depth=7.................................................\n",
      "[CV 3/3; 4/6] END ...............................max_depth=7; total time=   0.3s\n",
      "[CV 1/3; 5/6] START max_depth=8.................................................\n",
      "[CV 1/3; 5/6] END ...............................max_depth=8; total time=   0.3s\n",
      "[CV 2/3; 5/6] START max_depth=8.................................................\n",
      "[CV 2/3; 5/6] END ...............................max_depth=8; total time=   0.3s\n",
      "[CV 3/3; 5/6] START max_depth=8.................................................\n",
      "[CV 3/3; 5/6] END ...............................max_depth=8; total time=   0.4s\n",
      "[CV 1/3; 6/6] START max_depth=9.................................................\n",
      "[CV 1/3; 6/6] END ...............................max_depth=9; total time=   0.4s\n",
      "[CV 2/3; 6/6] START max_depth=9.................................................\n",
      "[CV 2/3; 6/6] END ...............................max_depth=9; total time=   0.4s\n",
      "[CV 3/3; 6/6] START max_depth=9.................................................\n",
      "[CV 3/3; 6/6] END ...............................max_depth=9; total time=   0.4s\n"
     ]
    }
   ],
   "source": [
    "rougher_tree = RandomizedSearchCV(tree_model,  tree_params, n_iter=100, n_jobs=-1, cv=3, verbose=10, scoring=sMAPE_score)\n",
    "final_tree = RandomizedSearchCV(tree_model,  tree_params, n_iter=100, n_jobs=-1, cv=3, verbose=10, scoring=sMAPE_score)\n",
    "\n",
    "rougher_tree.fit(features_train, target_train_rougher)\n",
    "final_tree.fit(features_train, target_train_final)\n",
    "best_score_rougher_tree = -rougher_tree.best_score_\n",
    "best_score_final_tree = -final_tree.best_score_"
   ]
  },
  {
   "cell_type": "code",
   "execution_count": 31,
   "metadata": {},
   "outputs": [
    {
     "name": "stdout",
     "output_type": "stream",
     "text": [
      "Fitting 3 folds for each of 1 candidates, totalling 3 fits\n",
      "[CV 1/3; 1/1] START ............................................................\n",
      "[CV 1/3; 1/1] END ........................................... total time=   0.2s\n",
      "[CV 2/3; 1/1] START ............................................................\n",
      "[CV 2/3; 1/1] END ........................................... total time=   0.3s\n",
      "[CV 3/3; 1/1] START ............................................................\n",
      "[CV 3/3; 1/1] END ........................................... total time=   0.2s\n",
      "Fitting 3 folds for each of 1 candidates, totalling 3 fits\n",
      "[CV 1/3; 1/1] START ............................................................\n",
      "[CV 1/3; 1/1] END ........................................... total time=   0.3s\n",
      "[CV 2/3; 1/1] START ............................................................\n",
      "[CV 2/3; 1/1] END ........................................... total time=   0.2s\n",
      "[CV 3/3; 1/1] START ............................................................\n",
      "[CV 3/3; 1/1] END ........................................... total time=   0.1s\n"
     ]
    }
   ],
   "source": [
    "rougher_lin_reg = RandomizedSearchCV(lin_regressor_model,  lin_reg_params, n_jobs=-1, cv=3, verbose=10, scoring=sMAPE_score)\n",
    "final_lin_reg = RandomizedSearchCV(lin_regressor_model,  lin_reg_params, n_jobs=-1, cv=3, verbose=10, scoring=sMAPE_score)\n",
    "\n",
    "rougher_lin_reg.fit(features_train, target_train_rougher)\n",
    "final_lin_reg.fit(features_train, target_train_final)\n",
    "best_score_rougher_lin_reg = -rougher_lin_reg.best_score_\n",
    "best_score_final_lin_reg = -final_lin_reg.best_score_"
   ]
  },
  {
   "cell_type": "code",
   "execution_count": 32,
   "metadata": {},
   "outputs": [
    {
     "name": "stdout",
     "output_type": "stream",
     "text": [
      "по модели RandomForest лучший результат rougher = 7.707410809926423\n",
      "по модели DecisionTree лучший результат rougher = 8.209069663941131\n",
      "по модели LinearRegression лучший результат rougher = 9.922210439689934\n",
      "\n",
      "по модели RandomForest лучший результат final = 9.660491593438929\n",
      "по модели DecisionTree лучший результат final = 11.257169552518278\n",
      "по модели LinearRegression лучший результат final = 13.094243258694126\n"
     ]
    }
   ],
   "source": [
    "print('по модели RandomForest лучший результат rougher =', best_score_rougher_forest)\n",
    "print('по модели DecisionTree лучший результат rougher =', best_score_rougher_tree)\n",
    "print('по модели LinearRegression лучший результат rougher =', best_score_rougher_lin_reg)\n",
    "print()\n",
    "print('по модели RandomForest лучший результат final =', best_score_final_forest)\n",
    "print('по модели DecisionTree лучший результат final =', best_score_final_tree)\n",
    "print('по модели LinearRegression лучший результат final =', best_score_final_lin_reg)"
   ]
  },
  {
   "cell_type": "code",
   "execution_count": 33,
   "metadata": {
    "scrolled": true
   },
   "outputs": [
    {
     "name": "stdout",
     "output_type": "stream",
     "text": [
      "по модели RandomForest итоговое sMAPE = 9.172221397560802\n",
      "по модели DecisionTree итоговое sMAPE = 10.49514458037399\n",
      "по модели LinearRegression итоговое sMAPE = 12.301235053943078\n"
     ]
    }
   ],
   "source": [
    "fsMAPE_forest = final_sMAPE(best_score_rougher_forest, best_score_final_forest)\n",
    "print('по модели RandomForest итоговое sMAPE =', fsMAPE_forest)\n",
    "\n",
    "fsMAPE_tree = final_sMAPE(best_score_rougher_tree, best_score_final_tree)\n",
    "print('по модели DecisionTree итоговое sMAPE =', fsMAPE_tree)\n",
    "\n",
    "fsMAPE_lin_reg = final_sMAPE(best_score_rougher_lin_reg, best_score_final_lin_reg)\n",
    "print('по модели LinearRegression итоговое sMAPE =', fsMAPE_lin_reg)"
   ]
  },
  {
   "cell_type": "markdown",
   "metadata": {},
   "source": [
    "Вывод: Лучше всего себя проявила модель `RandomForest`, у которой получилось лучшее значение метрики sMAPE (12.301 и 13.094). Эту модель будем использовать в дальнейшем"
   ]
  },
  {
   "cell_type": "code",
   "execution_count": 34,
   "metadata": {},
   "outputs": [
    {
     "name": "stdout",
     "output_type": "stream",
     "text": [
      "Симметричная средняя абсолютная процентная ошибка на тестовой выборке = 9.104\n"
     ]
    }
   ],
   "source": [
    "features_test = np.array(test.drop(['rougher.output.recovery', 'final.output.recovery'], axis=1))\n",
    "target_test_rouger = np.array(test['rougher.output.recovery'])\n",
    "target_test_final = np.array(test['final.output.recovery'])\n",
    "\n",
    "test_rougher = rougher_forest.predict(features_test) \n",
    "test_final = final_forest.predict(features_test)\n",
    "\n",
    "rouger_smape_test = sMAPE_calc(target_test_rouger, test_rougher)\n",
    "final_smape_test = sMAPE_calc(target_test_final, test_final)\n",
    "\n",
    "final_smape = final_sMAPE(rouger_smape_test, final_smape_test)\n",
    "print('Симметричная средняя абсолютная процентная ошибка на тестовой выборке =', round(final_smape,3))"
   ]
  },
  {
   "cell_type": "markdown",
   "metadata": {},
   "source": [
    "Проверим модель на адекватность: "
   ]
  },
  {
   "cell_type": "code",
   "execution_count": 35,
   "metadata": {},
   "outputs": [],
   "source": [
    "def dummy_pred(features_train, target_train, features_test):\n",
    "    \n",
    "    dummy_reg = DummyRegressor(strategy='mean')\n",
    "    dummy_reg.fit(features_train, target_train)\n",
    "    return dummy_reg.predict(features_test)"
   ]
  },
  {
   "cell_type": "code",
   "execution_count": 36,
   "metadata": {},
   "outputs": [
    {
     "name": "stdout",
     "output_type": "stream",
     "text": [
      "Симметричная средняя абсолютная процентная ошибка на тестовой выборке = 9.635\n"
     ]
    }
   ],
   "source": [
    "dummy_test_rougher = dummy_pred(features_train, target_train_rougher, features_test)\n",
    "dummy_test_final = dummy_pred(features_train, target_train_final, features_test)\n",
    "\n",
    "dummy_rouger_smape_test = sMAPE_calc(target_test_rouger, dummy_test_rougher)\n",
    "dummy_final_smape_test = sMAPE_calc(target_test_final, dummy_test_final)\n",
    "\n",
    "dummy_final_smape = final_sMAPE(dummy_rouger_smape_test, dummy_final_smape_test)\n",
    "print('Симметричная средняя абсолютная процентная ошибка на тестовой выборке =', round(dummy_final_smape,3))"
   ]
  },
  {
   "cell_type": "markdown",
   "metadata": {},
   "source": [
    "**Вывод: На тренировочной выборке обученно 3 модели - `RandomForestRegressor`, `DecisionTreeRegressor` и `LinearRegression` с применением кросс-валидации. Случайный лес показал лучшие метрики качества. sMAPE на тестовой выборке - 9.104. Так же выбранная модель получила результаты выше чем константная модель `DummyRegressor`, следовательно доказана разумность ее использования**"
   ]
  },
  {
   "cell_type": "markdown",
   "metadata": {},
   "source": [
    "## Общий вывод"
   ]
  },
  {
   "cell_type": "markdown",
   "metadata": {},
   "source": [
    "Моделью машинного обучения для данного проекта является `RandomForestRegressor`, так как эта модель предсказывает коэффициент восстановления золота из руды наилучшим образом. Так же выбранная модель получила результаты выше чем константная модель DummyRegressor, следовательно доказана разумность ее использования."
   ]
  }
 ],
 "metadata": {
  "ExecuteTimeLog": [
   {
    "duration": 455,
    "start_time": "2023-04-25T14:44:45.963Z"
   },
   {
    "duration": 1849,
    "start_time": "2023-04-25T14:46:36.675Z"
   },
   {
    "duration": 1028,
    "start_time": "2023-04-25T14:47:36.694Z"
   },
   {
    "duration": 42,
    "start_time": "2023-04-25T14:48:02.527Z"
   },
   {
    "duration": 35,
    "start_time": "2023-04-25T14:48:34.011Z"
   },
   {
    "duration": 24,
    "start_time": "2023-04-25T14:48:53.703Z"
   },
   {
    "duration": 20,
    "start_time": "2023-04-25T14:49:07.633Z"
   },
   {
    "duration": 15,
    "start_time": "2023-04-25T14:49:45.118Z"
   },
   {
    "duration": 28,
    "start_time": "2023-04-25T14:50:01.703Z"
   },
   {
    "duration": 744,
    "start_time": "2023-04-25T15:36:51.897Z"
   },
   {
    "duration": 33,
    "start_time": "2023-04-25T16:31:25.929Z"
   },
   {
    "duration": 33,
    "start_time": "2023-04-25T16:31:35.072Z"
   },
   {
    "duration": 35,
    "start_time": "2023-04-25T16:31:52.168Z"
   },
   {
    "duration": 49,
    "start_time": "2023-04-25T16:32:08.276Z"
   },
   {
    "duration": 242,
    "start_time": "2023-04-25T16:32:21.018Z"
   },
   {
    "duration": 18,
    "start_time": "2023-04-25T16:32:31.229Z"
   },
   {
    "duration": 26,
    "start_time": "2023-04-25T16:37:33.267Z"
   },
   {
    "duration": 17,
    "start_time": "2023-04-25T16:37:42.697Z"
   },
   {
    "duration": 237,
    "start_time": "2023-04-25T17:16:18.892Z"
   },
   {
    "duration": 714,
    "start_time": "2023-04-25T17:17:10.373Z"
   },
   {
    "duration": 30,
    "start_time": "2023-04-25T17:17:11.762Z"
   },
   {
    "duration": 81,
    "start_time": "2023-04-25T17:17:17.898Z"
   },
   {
    "duration": 227,
    "start_time": "2023-04-25T17:17:28.087Z"
   },
   {
    "duration": 20,
    "start_time": "2023-04-25T17:17:30.412Z"
   },
   {
    "duration": 2,
    "start_time": "2023-04-25T17:31:33.563Z"
   },
   {
    "duration": 674,
    "start_time": "2023-04-25T17:31:36.097Z"
   },
   {
    "duration": 30,
    "start_time": "2023-04-25T17:31:36.861Z"
   },
   {
    "duration": 40,
    "start_time": "2023-04-25T17:31:43.118Z"
   },
   {
    "duration": 224,
    "start_time": "2023-04-25T17:31:45.440Z"
   },
   {
    "duration": 287,
    "start_time": "2023-04-25T17:33:46.262Z"
   },
   {
    "duration": 720,
    "start_time": "2023-04-25T17:37:45.793Z"
   },
   {
    "duration": 3,
    "start_time": "2023-04-25T17:37:48.274Z"
   },
   {
    "duration": 925,
    "start_time": "2023-04-25T17:37:52.315Z"
   },
   {
    "duration": 793,
    "start_time": "2023-04-25T17:38:11.365Z"
   },
   {
    "duration": 945,
    "start_time": "2023-04-25T17:38:12.160Z"
   },
   {
    "duration": 4,
    "start_time": "2023-04-25T17:51:40.587Z"
   },
   {
    "duration": 11,
    "start_time": "2023-04-25T17:51:44.345Z"
   },
   {
    "duration": 712,
    "start_time": "2023-04-25T17:53:00.518Z"
   },
   {
    "duration": 5,
    "start_time": "2023-04-25T17:54:01.983Z"
   },
   {
    "duration": 6,
    "start_time": "2023-04-25T17:54:07.885Z"
   },
   {
    "duration": 3,
    "start_time": "2023-04-25T17:54:53.652Z"
   },
   {
    "duration": 9,
    "start_time": "2023-04-25T17:54:54.062Z"
   },
   {
    "duration": 3,
    "start_time": "2023-04-25T17:55:13.566Z"
   },
   {
    "duration": 8,
    "start_time": "2023-04-25T17:55:14.091Z"
   },
   {
    "duration": 6,
    "start_time": "2023-04-25T17:55:15.792Z"
   },
   {
    "duration": 17,
    "start_time": "2023-04-25T18:01:08.624Z"
   },
   {
    "duration": 29,
    "start_time": "2023-04-25T19:36:42.155Z"
   },
   {
    "duration": 28,
    "start_time": "2023-04-25T19:37:31.307Z"
   },
   {
    "duration": 15,
    "start_time": "2023-04-25T19:38:18.961Z"
   },
   {
    "duration": 23,
    "start_time": "2023-04-25T19:38:39.764Z"
   },
   {
    "duration": 26,
    "start_time": "2023-04-25T19:38:47.503Z"
   },
   {
    "duration": 14,
    "start_time": "2023-04-25T19:38:58.307Z"
   },
   {
    "duration": 18,
    "start_time": "2023-04-25T19:39:08.164Z"
   },
   {
    "duration": 156,
    "start_time": "2023-04-25T19:39:21.558Z"
   },
   {
    "duration": 45,
    "start_time": "2023-04-25T19:39:29.982Z"
   },
   {
    "duration": 26,
    "start_time": "2023-04-25T19:39:38.981Z"
   },
   {
    "duration": 31,
    "start_time": "2023-04-25T19:40:56.057Z"
   },
   {
    "duration": 14,
    "start_time": "2023-04-25T19:41:12.928Z"
   },
   {
    "duration": 28,
    "start_time": "2023-04-25T19:46:51.437Z"
   },
   {
    "duration": 17,
    "start_time": "2023-04-25T19:46:59.331Z"
   },
   {
    "duration": 20,
    "start_time": "2023-04-25T19:47:01.599Z"
   },
   {
    "duration": 35,
    "start_time": "2023-04-25T19:47:03.766Z"
   },
   {
    "duration": 26,
    "start_time": "2023-04-25T19:47:56.507Z"
   },
   {
    "duration": 18,
    "start_time": "2023-04-25T19:48:04.116Z"
   },
   {
    "duration": 15,
    "start_time": "2023-04-25T19:48:06.591Z"
   },
   {
    "duration": 5,
    "start_time": "2023-04-25T20:03:15.691Z"
   },
   {
    "duration": 6,
    "start_time": "2023-04-25T20:04:03.525Z"
   },
   {
    "duration": 5,
    "start_time": "2023-04-25T20:04:28.747Z"
   },
   {
    "duration": 11,
    "start_time": "2023-04-25T20:04:51.562Z"
   },
   {
    "duration": 8,
    "start_time": "2023-04-25T20:04:58.964Z"
   },
   {
    "duration": 16,
    "start_time": "2023-04-25T20:05:00.090Z"
   },
   {
    "duration": 10,
    "start_time": "2023-04-25T20:05:00.499Z"
   },
   {
    "duration": 667,
    "start_time": "2023-04-25T20:05:01.502Z"
   },
   {
    "duration": 4,
    "start_time": "2023-04-25T20:05:58.561Z"
   },
   {
    "duration": 262,
    "start_time": "2023-04-25T20:06:02.661Z"
   },
   {
    "duration": 203,
    "start_time": "2023-04-25T20:06:48.872Z"
   },
   {
    "duration": 198,
    "start_time": "2023-04-25T20:07:41.030Z"
   },
   {
    "duration": 184,
    "start_time": "2023-04-25T20:07:46.384Z"
   },
   {
    "duration": 195,
    "start_time": "2023-04-25T20:08:28.426Z"
   },
   {
    "duration": 194,
    "start_time": "2023-04-25T20:10:42.334Z"
   },
   {
    "duration": 198,
    "start_time": "2023-04-25T20:10:53.905Z"
   },
   {
    "duration": 244,
    "start_time": "2023-04-25T20:11:14.767Z"
   },
   {
    "duration": 244,
    "start_time": "2023-04-25T20:11:41.961Z"
   },
   {
    "duration": 250,
    "start_time": "2023-04-25T20:11:47.618Z"
   },
   {
    "duration": 236,
    "start_time": "2023-04-25T20:12:12.331Z"
   },
   {
    "duration": 347,
    "start_time": "2023-04-25T20:12:22.411Z"
   },
   {
    "duration": 10,
    "start_time": "2023-04-25T20:13:53.418Z"
   },
   {
    "duration": 187,
    "start_time": "2023-04-25T20:15:26.560Z"
   },
   {
    "duration": 186,
    "start_time": "2023-04-25T20:15:56.789Z"
   },
   {
    "duration": 177,
    "start_time": "2023-04-25T20:16:18.948Z"
   },
   {
    "duration": 107,
    "start_time": "2023-04-25T20:16:36.950Z"
   },
   {
    "duration": 9,
    "start_time": "2023-04-25T20:16:54.774Z"
   },
   {
    "duration": 75,
    "start_time": "2023-04-25T20:16:59.755Z"
   },
   {
    "duration": 8,
    "start_time": "2023-04-25T20:17:06.943Z"
   },
   {
    "duration": 7,
    "start_time": "2023-04-25T20:17:14.213Z"
   },
   {
    "duration": 8,
    "start_time": "2023-04-25T20:17:18.060Z"
   },
   {
    "duration": 107,
    "start_time": "2023-04-25T20:17:29.505Z"
   },
   {
    "duration": 51,
    "start_time": "2023-04-25T20:21:48.005Z"
   },
   {
    "duration": 120,
    "start_time": "2023-04-25T20:21:50.919Z"
   },
   {
    "duration": 161,
    "start_time": "2023-04-25T20:21:59.475Z"
   },
   {
    "duration": 158,
    "start_time": "2023-04-25T20:23:09.684Z"
   },
   {
    "duration": 180,
    "start_time": "2023-04-25T20:23:48.404Z"
   },
   {
    "duration": 242,
    "start_time": "2023-04-25T20:26:00.171Z"
   },
   {
    "duration": 5,
    "start_time": "2023-04-25T20:26:12.650Z"
   },
   {
    "duration": 14,
    "start_time": "2023-04-25T20:27:30.147Z"
   },
   {
    "duration": 7,
    "start_time": "2023-04-25T20:28:16.431Z"
   },
   {
    "duration": 42,
    "start_time": "2023-04-25T20:28:19.829Z"
   },
   {
    "duration": 313,
    "start_time": "2023-04-25T20:28:52.913Z"
   },
   {
    "duration": 18,
    "start_time": "2023-04-25T20:29:44.991Z"
   },
   {
    "duration": 11,
    "start_time": "2023-04-25T20:29:54.447Z"
   },
   {
    "duration": 11,
    "start_time": "2023-04-25T20:31:17.208Z"
   },
   {
    "duration": 224,
    "start_time": "2023-04-25T20:31:18.202Z"
   },
   {
    "duration": 13,
    "start_time": "2023-04-25T20:35:14.961Z"
   },
   {
    "duration": 15,
    "start_time": "2023-04-25T20:35:33.027Z"
   },
   {
    "duration": 40,
    "start_time": "2023-04-25T20:35:49.981Z"
   },
   {
    "duration": 621,
    "start_time": "2023-04-25T20:41:22.006Z"
   },
   {
    "duration": 489,
    "start_time": "2023-04-25T20:41:59.615Z"
   },
   {
    "duration": 571,
    "start_time": "2023-04-25T20:42:59.344Z"
   },
   {
    "duration": 345,
    "start_time": "2023-04-25T20:43:39.118Z"
   },
   {
    "duration": 579,
    "start_time": "2023-04-25T20:43:57.184Z"
   },
   {
    "duration": 504,
    "start_time": "2023-04-25T20:44:42.715Z"
   },
   {
    "duration": 504,
    "start_time": "2023-04-25T20:45:13.824Z"
   },
   {
    "duration": 585,
    "start_time": "2023-04-25T20:45:24.953Z"
   },
   {
    "duration": 543,
    "start_time": "2023-04-25T20:45:50.314Z"
   },
   {
    "duration": 525,
    "start_time": "2023-04-25T20:46:10.364Z"
   },
   {
    "duration": 486,
    "start_time": "2023-04-25T20:46:33.030Z"
   },
   {
    "duration": 640,
    "start_time": "2023-04-25T20:46:44.888Z"
   },
   {
    "duration": 937,
    "start_time": "2023-04-25T21:30:27.636Z"
   },
   {
    "duration": 1370,
    "start_time": "2023-04-25T21:30:32.664Z"
   },
   {
    "duration": 38,
    "start_time": "2023-04-25T21:31:34.802Z"
   },
   {
    "duration": 993,
    "start_time": "2023-04-25T21:33:13.149Z"
   },
   {
    "duration": 1118,
    "start_time": "2023-04-25T21:33:36.475Z"
   },
   {
    "duration": 474,
    "start_time": "2023-04-25T21:33:43.563Z"
   },
   {
    "duration": 559,
    "start_time": "2023-04-25T21:33:47.164Z"
   },
   {
    "duration": 997,
    "start_time": "2023-04-25T21:34:04.913Z"
   },
   {
    "duration": 1197,
    "start_time": "2023-04-25T21:34:31.498Z"
   },
   {
    "duration": 1092,
    "start_time": "2023-04-25T21:34:46.772Z"
   },
   {
    "duration": 1305,
    "start_time": "2023-04-25T21:36:56.005Z"
   },
   {
    "duration": 50,
    "start_time": "2023-04-26T07:59:26.442Z"
   },
   {
    "duration": 1599,
    "start_time": "2023-04-26T07:59:33.060Z"
   },
   {
    "duration": 2215,
    "start_time": "2023-04-26T07:59:34.661Z"
   },
   {
    "duration": 940,
    "start_time": "2023-04-26T07:59:36.878Z"
   },
   {
    "duration": 4,
    "start_time": "2023-04-26T07:59:37.820Z"
   },
   {
    "duration": 15,
    "start_time": "2023-04-26T07:59:37.827Z"
   },
   {
    "duration": 6,
    "start_time": "2023-04-26T07:59:37.857Z"
   },
   {
    "duration": 33,
    "start_time": "2023-04-26T07:59:37.865Z"
   },
   {
    "duration": 31,
    "start_time": "2023-04-26T07:59:37.900Z"
   },
   {
    "duration": 35,
    "start_time": "2023-04-26T07:59:37.933Z"
   },
   {
    "duration": 16,
    "start_time": "2023-04-26T07:59:37.970Z"
   },
   {
    "duration": 15,
    "start_time": "2023-04-26T07:59:37.988Z"
   },
   {
    "duration": 222,
    "start_time": "2023-04-26T07:59:38.005Z"
   },
   {
    "duration": 429,
    "start_time": "2023-04-26T07:59:38.229Z"
   },
   {
    "duration": 525,
    "start_time": "2023-04-26T07:59:38.662Z"
   },
   {
    "duration": 50,
    "start_time": "2023-04-26T07:59:39.190Z"
   },
   {
    "duration": 1394,
    "start_time": "2023-04-26T07:59:42.294Z"
   },
   {
    "duration": 18,
    "start_time": "2023-04-26T09:18:25.899Z"
   },
   {
    "duration": 15,
    "start_time": "2023-04-26T09:18:26.797Z"
   },
   {
    "duration": 5,
    "start_time": "2023-04-26T09:22:06.282Z"
   },
   {
    "duration": 3,
    "start_time": "2023-04-26T09:43:46.410Z"
   },
   {
    "duration": 3,
    "start_time": "2023-04-26T09:51:28.823Z"
   },
   {
    "duration": 4,
    "start_time": "2023-04-26T10:01:01.884Z"
   },
   {
    "duration": 485,
    "start_time": "2023-04-26T10:01:11.309Z"
   },
   {
    "duration": 11,
    "start_time": "2023-04-26T10:01:36.635Z"
   },
   {
    "duration": 11,
    "start_time": "2023-04-26T10:02:05.788Z"
   },
   {
    "duration": 420,
    "start_time": "2023-04-26T10:02:17.977Z"
   },
   {
    "duration": 10,
    "start_time": "2023-04-26T10:02:39.632Z"
   },
   {
    "duration": 17,
    "start_time": "2023-04-26T10:03:22.251Z"
   },
   {
    "duration": 130,
    "start_time": "2023-04-26T10:03:34.148Z"
   },
   {
    "duration": 18,
    "start_time": "2023-04-26T10:05:55.232Z"
   },
   {
    "duration": 8,
    "start_time": "2023-04-26T10:06:05.492Z"
   },
   {
    "duration": 379,
    "start_time": "2023-04-26T10:06:37.289Z"
   },
   {
    "duration": 4,
    "start_time": "2023-04-26T10:06:59.316Z"
   },
   {
    "duration": 393,
    "start_time": "2023-04-26T10:07:08.897Z"
   },
   {
    "duration": 7,
    "start_time": "2023-04-26T10:09:14.943Z"
   },
   {
    "duration": 11,
    "start_time": "2023-04-26T10:09:21.626Z"
   },
   {
    "duration": 6,
    "start_time": "2023-04-26T10:09:29.478Z"
   },
   {
    "duration": 6,
    "start_time": "2023-04-26T10:10:51.212Z"
   },
   {
    "duration": 55,
    "start_time": "2023-04-26T10:18:24.383Z"
   },
   {
    "duration": 8,
    "start_time": "2023-04-26T10:18:28.372Z"
   },
   {
    "duration": 10,
    "start_time": "2023-04-26T14:06:55.029Z"
   },
   {
    "duration": 62,
    "start_time": "2023-04-26T14:07:01.519Z"
   },
   {
    "duration": 4,
    "start_time": "2023-04-26T14:07:08.056Z"
   },
   {
    "duration": 4,
    "start_time": "2023-04-26T14:07:24.418Z"
   },
   {
    "duration": 6,
    "start_time": "2023-04-26T14:08:02.203Z"
   },
   {
    "duration": 4,
    "start_time": "2023-04-26T14:17:24.374Z"
   },
   {
    "duration": 3,
    "start_time": "2023-04-26T14:23:38.038Z"
   },
   {
    "duration": 14,
    "start_time": "2023-04-26T14:28:16.874Z"
   },
   {
    "duration": 4,
    "start_time": "2023-04-26T14:28:46.694Z"
   },
   {
    "duration": 9,
    "start_time": "2023-04-26T14:28:56.159Z"
   },
   {
    "duration": 4,
    "start_time": "2023-04-26T14:29:07.286Z"
   },
   {
    "duration": 11,
    "start_time": "2023-04-26T14:31:03.062Z"
   },
   {
    "duration": 4,
    "start_time": "2023-04-26T14:31:10.917Z"
   },
   {
    "duration": 4,
    "start_time": "2023-04-26T14:31:11.460Z"
   },
   {
    "duration": 4,
    "start_time": "2023-04-26T14:31:11.884Z"
   },
   {
    "duration": 27,
    "start_time": "2023-04-26T14:32:48.613Z"
   },
   {
    "duration": 3,
    "start_time": "2023-04-26T14:33:11.637Z"
   },
   {
    "duration": 32,
    "start_time": "2023-04-26T14:33:12.725Z"
   },
   {
    "duration": 10,
    "start_time": "2023-04-26T14:33:53.097Z"
   },
   {
    "duration": 5,
    "start_time": "2023-04-26T14:37:15.267Z"
   },
   {
    "duration": 5,
    "start_time": "2023-04-26T14:37:22.994Z"
   },
   {
    "duration": 11,
    "start_time": "2023-04-26T14:42:27.339Z"
   },
   {
    "duration": 4,
    "start_time": "2023-04-26T14:42:33.588Z"
   },
   {
    "duration": 4,
    "start_time": "2023-04-26T14:42:38.334Z"
   },
   {
    "duration": 4,
    "start_time": "2023-04-26T14:42:41.952Z"
   },
   {
    "duration": 25,
    "start_time": "2023-04-26T14:42:44.181Z"
   },
   {
    "duration": 3,
    "start_time": "2023-04-26T14:43:25.523Z"
   },
   {
    "duration": 4,
    "start_time": "2023-04-26T14:44:09.742Z"
   },
   {
    "duration": 26,
    "start_time": "2023-04-26T14:44:11.295Z"
   },
   {
    "duration": 3,
    "start_time": "2023-04-26T14:44:27.955Z"
   },
   {
    "duration": 4,
    "start_time": "2023-04-26T14:44:29.064Z"
   },
   {
    "duration": 168,
    "start_time": "2023-04-26T14:44:29.696Z"
   },
   {
    "duration": 3,
    "start_time": "2023-04-26T14:44:58.736Z"
   },
   {
    "duration": 31,
    "start_time": "2023-04-26T14:45:01.359Z"
   },
   {
    "duration": 4,
    "start_time": "2023-04-26T15:06:18.173Z"
   },
   {
    "duration": 4,
    "start_time": "2023-04-26T15:06:18.920Z"
   },
   {
    "duration": 74,
    "start_time": "2023-04-26T15:06:21.244Z"
   },
   {
    "duration": 4,
    "start_time": "2023-04-26T15:09:08.346Z"
   },
   {
    "duration": 68,
    "start_time": "2023-04-26T15:09:09.026Z"
   },
   {
    "duration": 51,
    "start_time": "2023-04-26T15:12:38.585Z"
   },
   {
    "duration": 4,
    "start_time": "2023-04-26T15:13:01.789Z"
   },
   {
    "duration": 0,
    "start_time": "2023-04-26T15:39:28.306Z"
   },
   {
    "duration": 5,
    "start_time": "2023-04-26T15:40:00.154Z"
   },
   {
    "duration": 107744,
    "start_time": "2023-04-26T15:40:45.304Z"
   },
   {
    "duration": 153677,
    "start_time": "2023-04-26T15:43:33.326Z"
   },
   {
    "duration": 5,
    "start_time": "2023-04-26T15:46:33.979Z"
   },
   {
    "duration": 545351,
    "start_time": "2023-04-26T15:46:35.941Z"
   },
   {
    "duration": 10,
    "start_time": "2023-04-26T15:56:17.737Z"
   },
   {
    "duration": 3,
    "start_time": "2023-04-26T15:56:22.731Z"
   },
   {
    "duration": 20306,
    "start_time": "2023-04-26T15:56:54.964Z"
   },
   {
    "duration": 106913,
    "start_time": "2023-04-26T15:57:16.221Z"
   },
   {
    "duration": 59541,
    "start_time": "2023-04-26T15:59:07.518Z"
   },
   {
    "duration": 11391,
    "start_time": "2023-04-26T16:00:08.396Z"
   },
   {
    "duration": 88798,
    "start_time": "2023-04-26T16:00:20.952Z"
   },
   {
    "duration": 2548715,
    "start_time": "2023-04-26T16:01:54.180Z"
   },
   {
    "duration": 0,
    "start_time": "2023-04-26T16:44:22.897Z"
   },
   {
    "duration": 3,
    "start_time": "2023-04-26T16:44:24.855Z"
   },
   {
    "duration": 59599,
    "start_time": "2023-04-26T16:44:26.578Z"
   },
   {
    "duration": 18538,
    "start_time": "2023-04-26T16:45:29.969Z"
   },
   {
    "duration": 3972,
    "start_time": "2023-04-26T16:46:32.284Z"
   },
   {
    "duration": 2750914,
    "start_time": "2023-04-26T16:46:43.098Z"
   },
   {
    "duration": 6,
    "start_time": "2023-04-26T17:35:28.222Z"
   },
   {
    "duration": 19,
    "start_time": "2023-04-26T18:01:33.370Z"
   },
   {
    "duration": 12,
    "start_time": "2023-04-26T18:02:05.710Z"
   },
   {
    "duration": 3,
    "start_time": "2023-04-26T18:02:45.282Z"
   },
   {
    "duration": 15,
    "start_time": "2023-04-26T18:02:48.638Z"
   },
   {
    "duration": 3,
    "start_time": "2023-04-26T18:04:06.058Z"
   },
   {
    "duration": 4,
    "start_time": "2023-04-26T18:04:09.770Z"
   },
   {
    "duration": 58,
    "start_time": "2023-04-26T18:19:01.768Z"
   },
   {
    "duration": 41,
    "start_time": "2023-04-26T18:19:16.207Z"
   },
   {
    "duration": 8,
    "start_time": "2023-04-27T17:32:09.450Z"
   },
   {
    "duration": 201,
    "start_time": "2023-04-27T17:32:17.082Z"
   },
   {
    "duration": 1590,
    "start_time": "2023-04-28T11:33:26.594Z"
   },
   {
    "duration": 3763,
    "start_time": "2023-04-28T11:33:30.750Z"
   },
   {
    "duration": 983,
    "start_time": "2023-04-28T11:33:41.085Z"
   },
   {
    "duration": 3,
    "start_time": "2023-04-28T11:33:47.836Z"
   },
   {
    "duration": 11,
    "start_time": "2023-04-28T11:33:48.183Z"
   },
   {
    "duration": 5,
    "start_time": "2023-04-28T11:33:50.642Z"
   },
   {
    "duration": 13,
    "start_time": "2023-04-28T11:33:53.598Z"
   },
   {
    "duration": 26,
    "start_time": "2023-04-28T11:34:49.972Z"
   },
   {
    "duration": 11,
    "start_time": "2023-04-28T11:35:12.132Z"
   },
   {
    "duration": 17,
    "start_time": "2023-04-28T11:36:23.027Z"
   },
   {
    "duration": 12,
    "start_time": "2023-04-28T11:36:28.820Z"
   },
   {
    "duration": 253,
    "start_time": "2023-04-28T11:38:41.882Z"
   },
   {
    "duration": 20,
    "start_time": "2023-04-28T11:43:58.206Z"
   },
   {
    "duration": 24,
    "start_time": "2023-04-28T11:44:51.616Z"
   },
   {
    "duration": 225,
    "start_time": "2023-04-28T11:45:05.777Z"
   },
   {
    "duration": 93,
    "start_time": "2023-04-28T11:46:03.820Z"
   },
   {
    "duration": 799,
    "start_time": "2023-04-28T11:46:07.975Z"
   },
   {
    "duration": 1413,
    "start_time": "2023-04-28T11:46:43.403Z"
   },
   {
    "duration": 1636,
    "start_time": "2023-04-28T11:47:17.572Z"
   },
   {
    "duration": 277,
    "start_time": "2023-04-28T11:48:17.469Z"
   },
   {
    "duration": 439,
    "start_time": "2023-04-28T11:49:41.830Z"
   },
   {
    "duration": 544,
    "start_time": "2023-04-28T11:49:52.007Z"
   },
   {
    "duration": 495,
    "start_time": "2023-04-28T11:50:06.032Z"
   },
   {
    "duration": 551,
    "start_time": "2023-04-28T11:51:26.722Z"
   },
   {
    "duration": 540,
    "start_time": "2023-04-28T11:51:35.644Z"
   },
   {
    "duration": 680,
    "start_time": "2023-04-28T11:51:59.400Z"
   },
   {
    "duration": 921,
    "start_time": "2023-04-28T11:52:41.134Z"
   },
   {
    "duration": 1102,
    "start_time": "2023-04-28T11:54:09.763Z"
   },
   {
    "duration": 938,
    "start_time": "2023-04-28T11:54:18.212Z"
   },
   {
    "duration": 1158,
    "start_time": "2023-04-28T11:58:19.946Z"
   },
   {
    "duration": 984,
    "start_time": "2023-04-28T11:59:11.263Z"
   },
   {
    "duration": 641,
    "start_time": "2023-04-28T12:01:04.349Z"
   },
   {
    "duration": 500,
    "start_time": "2023-04-28T12:01:09.550Z"
   },
   {
    "duration": 70,
    "start_time": "2023-04-28T12:06:43.279Z"
   },
   {
    "duration": 461,
    "start_time": "2023-04-28T12:08:50.397Z"
   },
   {
    "duration": 511,
    "start_time": "2023-04-28T12:11:21.071Z"
   },
   {
    "duration": 559,
    "start_time": "2023-04-28T12:15:16.299Z"
   },
   {
    "duration": 24,
    "start_time": "2023-04-28T12:15:55.573Z"
   },
   {
    "duration": 24,
    "start_time": "2023-04-28T12:16:21.319Z"
   },
   {
    "duration": 436,
    "start_time": "2023-04-28T12:16:39.236Z"
   },
   {
    "duration": 584,
    "start_time": "2023-04-28T12:17:28.272Z"
   },
   {
    "duration": 454,
    "start_time": "2023-04-28T12:18:28.937Z"
   },
   {
    "duration": 88,
    "start_time": "2023-04-28T12:18:36.677Z"
   },
   {
    "duration": 472,
    "start_time": "2023-04-28T12:18:41.166Z"
   },
   {
    "duration": 434,
    "start_time": "2023-04-28T12:18:45.332Z"
   },
   {
    "duration": 216,
    "start_time": "2023-04-28T12:20:50.893Z"
   },
   {
    "duration": 4,
    "start_time": "2023-04-28T12:21:01.567Z"
   },
   {
    "duration": 205,
    "start_time": "2023-04-28T12:21:14.679Z"
   },
   {
    "duration": 194,
    "start_time": "2023-04-28T12:21:34.088Z"
   },
   {
    "duration": 203,
    "start_time": "2023-04-28T12:21:40.911Z"
   },
   {
    "duration": 203,
    "start_time": "2023-04-28T12:22:01.631Z"
   },
   {
    "duration": 640,
    "start_time": "2023-04-28T12:32:10.007Z"
   },
   {
    "duration": 529,
    "start_time": "2023-04-28T12:32:30.404Z"
   },
   {
    "duration": 554,
    "start_time": "2023-04-28T12:36:32.608Z"
   },
   {
    "duration": 493,
    "start_time": "2023-04-28T12:37:59.763Z"
   },
   {
    "duration": 540,
    "start_time": "2023-04-28T12:38:10.675Z"
   },
   {
    "duration": 61,
    "start_time": "2023-04-28T12:40:12.947Z"
   },
   {
    "duration": 1628,
    "start_time": "2023-04-28T12:40:14.678Z"
   },
   {
    "duration": 1552,
    "start_time": "2023-04-28T12:41:12.638Z"
   },
   {
    "duration": 25,
    "start_time": "2023-04-28T12:43:16.235Z"
   },
   {
    "duration": 30,
    "start_time": "2023-04-28T12:43:16.802Z"
   },
   {
    "duration": 6,
    "start_time": "2023-04-28T12:43:17.854Z"
   },
   {
    "duration": 4,
    "start_time": "2023-04-28T12:43:24.550Z"
   },
   {
    "duration": 8,
    "start_time": "2023-04-28T12:43:29.600Z"
   },
   {
    "duration": 5,
    "start_time": "2023-04-28T12:43:30.371Z"
   },
   {
    "duration": 3,
    "start_time": "2023-04-28T12:43:35.957Z"
   },
   {
    "duration": 4,
    "start_time": "2023-04-28T12:44:26.108Z"
   },
   {
    "duration": 3,
    "start_time": "2023-04-28T12:44:48.794Z"
   },
   {
    "duration": 14,
    "start_time": "2023-04-28T12:45:27.247Z"
   },
   {
    "duration": 1944975,
    "start_time": "2023-04-28T12:46:31.670Z"
   },
   {
    "duration": 11847,
    "start_time": "2023-04-28T13:19:08.662Z"
   },
   {
    "duration": 3292,
    "start_time": "2023-04-28T13:19:55.546Z"
   },
   {
    "duration": 6,
    "start_time": "2023-04-28T13:20:03.807Z"
   },
   {
    "duration": 1810478,
    "start_time": "2023-04-28T13:22:08.215Z"
   },
   {
    "duration": 12836,
    "start_time": "2023-04-28T13:55:28.116Z"
   },
   {
    "duration": 6060,
    "start_time": "2023-04-28T13:57:13.156Z"
   },
   {
    "duration": 7,
    "start_time": "2023-04-28T13:57:23.503Z"
   },
   {
    "duration": 5,
    "start_time": "2023-04-28T13:57:27.453Z"
   },
   {
    "duration": 48,
    "start_time": "2023-04-28T14:23:21.807Z"
   },
   {
    "duration": 35,
    "start_time": "2023-04-28T14:36:54.259Z"
   },
   {
    "duration": 1631,
    "start_time": "2023-04-28T18:48:17.702Z"
   },
   {
    "duration": 5,
    "start_time": "2023-04-28T18:48:56.878Z"
   },
   {
    "duration": 2098,
    "start_time": "2023-04-28T18:48:56.885Z"
   },
   {
    "duration": 909,
    "start_time": "2023-04-28T18:48:58.986Z"
   },
   {
    "duration": 3,
    "start_time": "2023-04-28T18:48:59.896Z"
   },
   {
    "duration": 11,
    "start_time": "2023-04-28T18:48:59.912Z"
   },
   {
    "duration": 5,
    "start_time": "2023-04-28T18:48:59.925Z"
   },
   {
    "duration": 17,
    "start_time": "2023-04-28T18:48:59.931Z"
   },
   {
    "duration": 24,
    "start_time": "2023-04-28T18:48:59.950Z"
   },
   {
    "duration": 37,
    "start_time": "2023-04-28T18:48:59.975Z"
   },
   {
    "duration": 15,
    "start_time": "2023-04-28T18:49:00.014Z"
   },
   {
    "duration": 16,
    "start_time": "2023-04-28T18:49:00.034Z"
   },
   {
    "duration": 236,
    "start_time": "2023-04-28T18:49:00.052Z"
   },
   {
    "duration": 947,
    "start_time": "2023-04-28T18:49:00.290Z"
   },
   {
    "duration": 848,
    "start_time": "2023-04-28T18:49:01.239Z"
   },
   {
    "duration": 1005,
    "start_time": "2023-04-28T18:49:02.089Z"
   },
   {
    "duration": 564,
    "start_time": "2023-04-28T18:49:03.096Z"
   },
   {
    "duration": 512,
    "start_time": "2023-04-28T18:49:03.662Z"
   },
   {
    "duration": 45,
    "start_time": "2023-04-28T18:49:04.176Z"
   },
   {
    "duration": 1232,
    "start_time": "2023-04-28T18:49:04.223Z"
   },
   {
    "duration": 15,
    "start_time": "2023-04-28T18:49:05.457Z"
   },
   {
    "duration": 16,
    "start_time": "2023-04-28T18:49:05.474Z"
   },
   {
    "duration": 24,
    "start_time": "2023-04-28T18:49:05.491Z"
   },
   {
    "duration": 3,
    "start_time": "2023-04-28T18:49:05.517Z"
   },
   {
    "duration": 12,
    "start_time": "2023-04-28T18:49:05.522Z"
   },
   {
    "duration": 5,
    "start_time": "2023-04-28T18:49:05.536Z"
   },
   {
    "duration": 3,
    "start_time": "2023-04-28T18:49:05.543Z"
   },
   {
    "duration": 11,
    "start_time": "2023-04-28T18:49:05.547Z"
   },
   {
    "duration": 1511634,
    "start_time": "2023-04-28T18:49:05.559Z"
   },
   {
    "duration": 11123,
    "start_time": "2023-04-28T19:14:17.197Z"
   },
   {
    "duration": 1902,
    "start_time": "2023-04-28T19:14:28.322Z"
   },
   {
    "duration": 7,
    "start_time": "2023-04-28T19:14:30.229Z"
   },
   {
    "duration": 10,
    "start_time": "2023-04-28T19:14:30.313Z"
   },
   {
    "duration": 121,
    "start_time": "2023-04-28T19:14:30.325Z"
   },
   {
    "duration": 4,
    "start_time": "2023-04-28T19:17:59.101Z"
   },
   {
    "duration": 6,
    "start_time": "2023-04-28T19:17:59.867Z"
   }
  ],
  "kernelspec": {
   "display_name": "Python 3 (ipykernel)",
   "language": "python",
   "name": "python3"
  },
  "language_info": {
   "codemirror_mode": {
    "name": "ipython",
    "version": 3
   },
   "file_extension": ".py",
   "mimetype": "text/x-python",
   "name": "python",
   "nbconvert_exporter": "python",
   "pygments_lexer": "ipython3",
   "version": "3.10.9"
  },
  "toc": {
   "base_numbering": 1,
   "nav_menu": {},
   "number_sections": true,
   "sideBar": true,
   "skip_h1_title": true,
   "title_cell": "Содержание",
   "title_sidebar": "Contents",
   "toc_cell": true,
   "toc_position": {},
   "toc_section_display": true,
   "toc_window_display": true
  }
 },
 "nbformat": 4,
 "nbformat_minor": 2
}
