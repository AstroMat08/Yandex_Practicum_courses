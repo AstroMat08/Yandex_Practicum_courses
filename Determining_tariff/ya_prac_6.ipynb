{
 "cells": [
  {
   "cell_type": "markdown",
   "metadata": {},
   "source": [
    "# Рекомендация тарифов"
   ]
  },
  {
   "cell_type": "markdown",
   "metadata": {},
   "source": [
    "В вашем распоряжении данные о поведении клиентов, которые уже перешли на эти тарифы (из проекта курса «Статистический анализ данных»). Нужно построить модель для задачи классификации, которая выберет подходящий тариф. Предобработка данных не понадобится — вы её уже сделали.\n",
    "\n",
    "Постройте модель с максимально большим значением *accuracy*. Чтобы сдать проект успешно, нужно довести долю правильных ответов по крайней мере до 0.75. Проверьте *accuracy* на тестовой выборке самостоятельно."
   ]
  },
  {
   "cell_type": "markdown",
   "metadata": {},
   "source": [
    "## Откройте и изучите файл"
   ]
  },
  {
   "cell_type": "code",
   "execution_count": 1,
   "metadata": {},
   "outputs": [],
   "source": [
    "import pandas as pd\n",
    "from sklearn.model_selection import train_test_split\n",
    "from sklearn.tree import DecisionTreeClassifier\n",
    "from sklearn.ensemble import RandomForestClassifier\n",
    "from sklearn.linear_model import LogisticRegression\n",
    "from sklearn.metrics import accuracy_score\n",
    "from sklearn.dummy import DummyClassifier\n",
    "from joblib import dump, load\n",
    "import time"
   ]
  },
  {
   "cell_type": "code",
   "execution_count": 2,
   "metadata": {},
   "outputs": [],
   "source": [
    "data = pd.read_csv('/datasets/users_behavior.csv')"
   ]
  },
  {
   "cell_type": "code",
   "execution_count": 3,
   "metadata": {},
   "outputs": [
    {
     "data": {
      "text/html": [
       "<div>\n",
       "<style scoped>\n",
       "    .dataframe tbody tr th:only-of-type {\n",
       "        vertical-align: middle;\n",
       "    }\n",
       "\n",
       "    .dataframe tbody tr th {\n",
       "        vertical-align: top;\n",
       "    }\n",
       "\n",
       "    .dataframe thead th {\n",
       "        text-align: right;\n",
       "    }\n",
       "</style>\n",
       "<table border=\"1\" class=\"dataframe\">\n",
       "  <thead>\n",
       "    <tr style=\"text-align: right;\">\n",
       "      <th></th>\n",
       "      <th>calls</th>\n",
       "      <th>minutes</th>\n",
       "      <th>messages</th>\n",
       "      <th>mb_used</th>\n",
       "      <th>is_ultra</th>\n",
       "    </tr>\n",
       "  </thead>\n",
       "  <tbody>\n",
       "    <tr>\n",
       "      <th>0</th>\n",
       "      <td>40.0</td>\n",
       "      <td>311.90</td>\n",
       "      <td>83.0</td>\n",
       "      <td>19915.42</td>\n",
       "      <td>0</td>\n",
       "    </tr>\n",
       "    <tr>\n",
       "      <th>1</th>\n",
       "      <td>85.0</td>\n",
       "      <td>516.75</td>\n",
       "      <td>56.0</td>\n",
       "      <td>22696.96</td>\n",
       "      <td>0</td>\n",
       "    </tr>\n",
       "    <tr>\n",
       "      <th>2</th>\n",
       "      <td>77.0</td>\n",
       "      <td>467.66</td>\n",
       "      <td>86.0</td>\n",
       "      <td>21060.45</td>\n",
       "      <td>0</td>\n",
       "    </tr>\n",
       "    <tr>\n",
       "      <th>3</th>\n",
       "      <td>106.0</td>\n",
       "      <td>745.53</td>\n",
       "      <td>81.0</td>\n",
       "      <td>8437.39</td>\n",
       "      <td>1</td>\n",
       "    </tr>\n",
       "    <tr>\n",
       "      <th>4</th>\n",
       "      <td>66.0</td>\n",
       "      <td>418.74</td>\n",
       "      <td>1.0</td>\n",
       "      <td>14502.75</td>\n",
       "      <td>0</td>\n",
       "    </tr>\n",
       "    <tr>\n",
       "      <th>5</th>\n",
       "      <td>58.0</td>\n",
       "      <td>344.56</td>\n",
       "      <td>21.0</td>\n",
       "      <td>15823.37</td>\n",
       "      <td>0</td>\n",
       "    </tr>\n",
       "    <tr>\n",
       "      <th>6</th>\n",
       "      <td>57.0</td>\n",
       "      <td>431.64</td>\n",
       "      <td>20.0</td>\n",
       "      <td>3738.90</td>\n",
       "      <td>1</td>\n",
       "    </tr>\n",
       "    <tr>\n",
       "      <th>7</th>\n",
       "      <td>15.0</td>\n",
       "      <td>132.40</td>\n",
       "      <td>6.0</td>\n",
       "      <td>21911.60</td>\n",
       "      <td>0</td>\n",
       "    </tr>\n",
       "    <tr>\n",
       "      <th>8</th>\n",
       "      <td>7.0</td>\n",
       "      <td>43.39</td>\n",
       "      <td>3.0</td>\n",
       "      <td>2538.67</td>\n",
       "      <td>1</td>\n",
       "    </tr>\n",
       "    <tr>\n",
       "      <th>9</th>\n",
       "      <td>90.0</td>\n",
       "      <td>665.41</td>\n",
       "      <td>38.0</td>\n",
       "      <td>17358.61</td>\n",
       "      <td>0</td>\n",
       "    </tr>\n",
       "  </tbody>\n",
       "</table>\n",
       "</div>"
      ],
      "text/plain": [
       "   calls  minutes  messages   mb_used  is_ultra\n",
       "0   40.0   311.90      83.0  19915.42         0\n",
       "1   85.0   516.75      56.0  22696.96         0\n",
       "2   77.0   467.66      86.0  21060.45         0\n",
       "3  106.0   745.53      81.0   8437.39         1\n",
       "4   66.0   418.74       1.0  14502.75         0\n",
       "5   58.0   344.56      21.0  15823.37         0\n",
       "6   57.0   431.64      20.0   3738.90         1\n",
       "7   15.0   132.40       6.0  21911.60         0\n",
       "8    7.0    43.39       3.0   2538.67         1\n",
       "9   90.0   665.41      38.0  17358.61         0"
      ]
     },
     "execution_count": 3,
     "metadata": {},
     "output_type": "execute_result"
    }
   ],
   "source": [
    "data.head(10)"
   ]
  },
  {
   "cell_type": "code",
   "execution_count": 4,
   "metadata": {},
   "outputs": [
    {
     "name": "stdout",
     "output_type": "stream",
     "text": [
      "<class 'pandas.core.frame.DataFrame'>\n",
      "RangeIndex: 3214 entries, 0 to 3213\n",
      "Data columns (total 5 columns):\n",
      " #   Column    Non-Null Count  Dtype  \n",
      "---  ------    --------------  -----  \n",
      " 0   calls     3214 non-null   float64\n",
      " 1   minutes   3214 non-null   float64\n",
      " 2   messages  3214 non-null   float64\n",
      " 3   mb_used   3214 non-null   float64\n",
      " 4   is_ultra  3214 non-null   int64  \n",
      "dtypes: float64(4), int64(1)\n",
      "memory usage: 125.7 KB\n"
     ]
    }
   ],
   "source": [
    "data.info()"
   ]
  },
  {
   "cell_type": "markdown",
   "metadata": {},
   "source": [
    "Целевым столбцом является `is_ultra`, все остальные отнесем к признакам."
   ]
  },
  {
   "cell_type": "code",
   "execution_count": 5,
   "metadata": {},
   "outputs": [
    {
     "data": {
      "text/plain": [
       "calls       0\n",
       "minutes     0\n",
       "messages    0\n",
       "mb_used     0\n",
       "is_ultra    0\n",
       "dtype: int64"
      ]
     },
     "execution_count": 5,
     "metadata": {},
     "output_type": "execute_result"
    }
   ],
   "source": [
    "data.isna().sum()"
   ]
  },
  {
   "cell_type": "markdown",
   "metadata": {},
   "source": [
    "## Разбейте данные на выборки"
   ]
  },
  {
   "cell_type": "code",
   "execution_count": 6,
   "metadata": {},
   "outputs": [],
   "source": [
    "inter_df, df_test = train_test_split(data, test_size=0.2, random_state=333)\n",
    "df_train, df_valid = train_test_split(inter_df, test_size=0.25, random_state=333)\n",
    "\n",
    "def tar_feat_div(df):\n",
    "    feat =  df.drop('is_ultra', axis=1)\n",
    "    tar = df['is_ultra']\n",
    "    return feat, tar\n",
    "\n",
    "features_train, target_train = tar_feat_div(df_train)\n",
    "features_test, target_test = tar_feat_div(df_test)\n",
    "features_valid, target_valid = tar_feat_div(df_valid)"
   ]
  },
  {
   "cell_type": "markdown",
   "metadata": {},
   "source": [
    "Получили три набора данных, разбитых в соотношении 60% : 20% : 20% относительно начального набора данных. "
   ]
  },
  {
   "cell_type": "markdown",
   "metadata": {},
   "source": [
    "## Исследуйте модели"
   ]
  },
  {
   "cell_type": "markdown",
   "metadata": {},
   "source": [
    "**Рассмотри модели решающего дерева различной глубины.**"
   ]
  },
  {
   "cell_type": "code",
   "execution_count": 7,
   "metadata": {},
   "outputs": [
    {
     "name": "stdout",
     "output_type": "stream",
     "text": [
      "Accuracy лучшей модели: 0.7947122861586314 лучшая глубина: 5\n",
      "Время выполнения программы: 0.0064792633056640625\n"
     ]
    }
   ],
   "source": [
    "best_model_tree = None\n",
    "best_result = 0\n",
    "for depth in range(1, 6):\n",
    "    start = time.time()\n",
    "    model_tree = DecisionTreeClassifier(random_state=12345, max_depth=depth)\n",
    "    model_tree.fit(features_train, target_train)\n",
    "    predictions_tree = model_tree.predict(features_valid)\n",
    "    result_tree = accuracy_score(target_valid, predictions_tree)\n",
    "    end = time.time()\n",
    "    if result_tree > best_result:\n",
    "        best_model_tree = model_tree\n",
    "        best_depth = depth\n",
    "        best_result = result_tree\n",
    "        time_tree = end - start\n",
    "dump(best_model_tree, 'best_model_tree.joblib')\n",
    "\n",
    "print(\"Accuracy лучшей модели:\", best_result, 'лучшая глубина:', best_depth)\n",
    "print('Время выполнения программы:', time_tree)"
   ]
  },
  {
   "cell_type": "markdown",
   "metadata": {},
   "source": [
    "**Рассмотри модели случайного леса с различными гиперпараметрами.**"
   ]
  },
  {
   "cell_type": "code",
   "execution_count": 8,
   "metadata": {},
   "outputs": [
    {
     "name": "stdout",
     "output_type": "stream",
     "text": [
      "Accuracy лучшей модели: 0.8211508553654744 Количество деревьев: 50 Максимальная глубина: 9\n",
      "Время выполнения программы: 0.17224693298339844\n"
     ]
    }
   ],
   "source": [
    "best_model_forest = None\n",
    "best_result = 0\n",
    "for est in range(10, 51, 10):\n",
    "    for depth_f in range (1, 11):\n",
    "        start = time.time()\n",
    "        model_forest = RandomForestClassifier(random_state=12345, n_estimators=est, max_depth=depth_f)\n",
    "        model_forest.fit(features_train, target_train)\n",
    "        predictions_forest = model_forest.predict(features_valid)\n",
    "        result_forest = accuracy_score(target_valid, predictions_forest)\n",
    "        end = time.time()\n",
    "        if result_forest > best_result:\n",
    "            best_model_forest = model_forest\n",
    "            best_result = result_forest\n",
    "            best_est = est\n",
    "            best_depth = depth_f\n",
    "            time_forest = end - start\n",
    "dump(best_model_forest, 'best_model_forest.joblib')\n",
    "\n",
    "print(\"Accuracy лучшей модели:\", best_result, \"Количество деревьев:\", best_est, \"Максимальная глубина:\", best_depth)\n",
    "print('Время выполнения программы:', time_forest)"
   ]
  },
  {
   "cell_type": "markdown",
   "metadata": {},
   "source": [
    "**Рассмотри модель логистической регрессии.**"
   ]
  },
  {
   "cell_type": "code",
   "execution_count": 9,
   "metadata": {},
   "outputs": [
    {
     "name": "stdout",
     "output_type": "stream",
     "text": [
      "Accuracy лучшей модели: 0.7465007776049767\n",
      "Время выполнения программы: 0.03337979316711426\n"
     ]
    }
   ],
   "source": [
    "start = time.time()\n",
    "model_reg = LogisticRegression(random_state=12345, solver='lbfgs', max_iter=1000) \n",
    "model_reg.fit(features_train, target_train)\n",
    "predictions_reg = model_reg.predict(features_valid)\n",
    "result_reg = accuracy_score(target_valid, predictions_reg)\n",
    "end = time.time()\n",
    "dump(model_reg, 'model_reg.joblib')\n",
    "\n",
    "print(\"Accuracy лучшей модели:\", result_reg)\n",
    "print('Время выполнения программы:', end-start)"
   ]
  },
  {
   "cell_type": "markdown",
   "metadata": {},
   "source": [
    "**Вывод: модель решающего дерева работает быстрее всего, но точность меньше чем у логической регрессии и случайного леса. Случайный лес получает самые точные значения, но работает дольше всего. Все модели получили точность более 0.75. Проверим все три модели на тестовой выборке**"
   ]
  },
  {
   "cell_type": "markdown",
   "metadata": {},
   "source": [
    "## Проверьте модель на тестовой выборке"
   ]
  },
  {
   "cell_type": "code",
   "execution_count": 10,
   "metadata": {},
   "outputs": [
    {
     "name": "stdout",
     "output_type": "stream",
     "text": [
      "Accuracy случайного леса: 0.8211508553654744\n"
     ]
    }
   ],
   "source": [
    "best_model_forest = load('best_model_forest.joblib')\n",
    "predictions_forest = best_model_forest.predict(features_test)\n",
    "forest_accuracy = accuracy_score(target_test, predictions_forest)\n",
    "\n",
    "print(\"Accuracy случайного леса:\", forest_accuracy)"
   ]
  },
  {
   "cell_type": "markdown",
   "metadata": {},
   "source": [
    "**Видим, что после проверки на тестовом наборе лучше всего себя показала модель случайного леса из 50 деревьев с максимальной глубиной дерева 9, ей мы и отдадим предпочтение.**"
   ]
  }
 ],
 "metadata": {
  "ExecuteTimeLog": [
   {
    "duration": 376,
    "start_time": "2023-03-15T17:46:10.133Z"
   },
   {
    "duration": 184,
    "start_time": "2023-03-15T20:24:53.545Z"
   },
   {
    "duration": 17,
    "start_time": "2023-03-15T20:25:17.514Z"
   },
   {
    "duration": 12,
    "start_time": "2023-03-15T20:25:41.112Z"
   },
   {
    "duration": 6,
    "start_time": "2023-03-15T20:26:25.665Z"
   },
   {
    "duration": 45,
    "start_time": "2023-03-16T08:32:53.293Z"
   },
   {
    "duration": 1073,
    "start_time": "2023-03-16T08:32:56.332Z"
   },
   {
    "duration": 75,
    "start_time": "2023-03-16T08:32:57.408Z"
   },
   {
    "duration": 25,
    "start_time": "2023-03-16T08:32:57.881Z"
   },
   {
    "duration": 61,
    "start_time": "2023-03-16T09:06:03.929Z"
   },
   {
    "duration": 9,
    "start_time": "2023-03-16T09:06:10.005Z"
   },
   {
    "duration": 10,
    "start_time": "2023-03-16T09:19:22.246Z"
   },
   {
    "duration": 37,
    "start_time": "2023-03-16T09:19:26.393Z"
   },
   {
    "duration": 20,
    "start_time": "2023-03-16T09:19:32.281Z"
   },
   {
    "duration": 3,
    "start_time": "2023-03-16T09:21:23.879Z"
   },
   {
    "duration": 15,
    "start_time": "2023-03-16T09:21:29.133Z"
   },
   {
    "duration": 31,
    "start_time": "2023-03-16T09:21:48.421Z"
   },
   {
    "duration": 30,
    "start_time": "2023-03-16T09:22:53.695Z"
   },
   {
    "duration": 31,
    "start_time": "2023-03-16T09:24:11.354Z"
   },
   {
    "duration": 31,
    "start_time": "2023-03-16T09:24:18.213Z"
   },
   {
    "duration": 31,
    "start_time": "2023-03-16T09:24:26.601Z"
   },
   {
    "duration": 15,
    "start_time": "2023-03-16T09:31:55.493Z"
   },
   {
    "duration": 10,
    "start_time": "2023-03-16T09:32:40.138Z"
   },
   {
    "duration": 4301,
    "start_time": "2023-03-16T09:32:46.505Z"
   },
   {
    "duration": 4357,
    "start_time": "2023-03-16T09:34:03.089Z"
   },
   {
    "duration": 4385,
    "start_time": "2023-03-16T09:34:14.446Z"
   },
   {
    "duration": 36,
    "start_time": "2023-03-16T09:35:08.749Z"
   },
   {
    "duration": 31,
    "start_time": "2023-03-16T09:35:13.647Z"
   },
   {
    "duration": 4506,
    "start_time": "2023-03-16T09:35:14.273Z"
   },
   {
    "duration": 12,
    "start_time": "2023-03-16T09:35:24.449Z"
   },
   {
    "duration": 35,
    "start_time": "2023-03-16T09:35:27.813Z"
   },
   {
    "duration": 1116,
    "start_time": "2023-03-16T09:35:51.105Z"
   },
   {
    "duration": 31,
    "start_time": "2023-03-16T09:35:55.281Z"
   },
   {
    "duration": 19,
    "start_time": "2023-03-16T09:35:56.902Z"
   },
   {
    "duration": 14,
    "start_time": "2023-03-16T09:35:59.149Z"
   },
   {
    "duration": 7,
    "start_time": "2023-03-16T09:36:00.940Z"
   },
   {
    "duration": 9,
    "start_time": "2023-03-16T09:36:03.450Z"
   },
   {
    "duration": 110,
    "start_time": "2023-03-16T09:36:06.325Z"
   },
   {
    "duration": 43,
    "start_time": "2023-03-16T09:36:14.139Z"
   },
   {
    "duration": 4344,
    "start_time": "2023-03-16T09:36:26.543Z"
   },
   {
    "duration": 4377,
    "start_time": "2023-03-16T09:40:26.149Z"
   },
   {
    "duration": 4285,
    "start_time": "2023-03-16T09:40:56.613Z"
   },
   {
    "duration": 34,
    "start_time": "2023-03-16T09:41:04.717Z"
   },
   {
    "duration": 4295,
    "start_time": "2023-03-16T09:41:06.481Z"
   },
   {
    "duration": 3,
    "start_time": "2023-03-16T09:49:38.032Z"
   },
   {
    "duration": 41,
    "start_time": "2023-03-16T09:51:12.405Z"
   },
   {
    "duration": 34,
    "start_time": "2023-03-16T09:51:26.165Z"
   },
   {
    "duration": 15,
    "start_time": "2023-03-16T09:57:10.629Z"
   },
   {
    "duration": 5,
    "start_time": "2023-03-16T09:57:16.314Z"
   },
   {
    "duration": 46,
    "start_time": "2023-03-16T09:57:19.198Z"
   },
   {
    "duration": 4963,
    "start_time": "2023-03-16T09:58:18.009Z"
   },
   {
    "duration": 4925,
    "start_time": "2023-03-16T09:58:38.587Z"
   },
   {
    "duration": 4752,
    "start_time": "2023-03-16T09:59:02.462Z"
   },
   {
    "duration": 41,
    "start_time": "2023-03-16T09:59:30.105Z"
   },
   {
    "duration": 4927,
    "start_time": "2023-03-16T09:59:34.242Z"
   },
   {
    "duration": 35,
    "start_time": "2023-03-16T10:22:22.857Z"
   },
   {
    "duration": 38,
    "start_time": "2023-03-16T10:22:36.778Z"
   },
   {
    "duration": 4763,
    "start_time": "2023-03-16T10:22:42.628Z"
   },
   {
    "duration": 35,
    "start_time": "2023-03-16T10:22:50.082Z"
   },
   {
    "duration": 36,
    "start_time": "2023-03-16T10:22:53.697Z"
   },
   {
    "duration": 35,
    "start_time": "2023-03-16T10:22:59.930Z"
   },
   {
    "duration": 7,
    "start_time": "2023-03-16T10:29:05.854Z"
   },
   {
    "duration": 8,
    "start_time": "2023-03-16T10:29:23.078Z"
   },
   {
    "duration": 10,
    "start_time": "2023-03-16T10:30:49.006Z"
   },
   {
    "duration": 18,
    "start_time": "2023-03-16T10:31:11.510Z"
   },
   {
    "duration": 23,
    "start_time": "2023-03-16T10:32:46.849Z"
   },
   {
    "duration": 36,
    "start_time": "2023-03-16T10:33:17.022Z"
   },
   {
    "duration": 16,
    "start_time": "2023-03-16T10:33:24.686Z"
   },
   {
    "duration": 37,
    "start_time": "2023-03-16T10:38:02.106Z"
   },
   {
    "duration": 3,
    "start_time": "2023-03-16T10:38:05.822Z"
   },
   {
    "duration": 106,
    "start_time": "2023-03-16T10:38:09.017Z"
   },
   {
    "duration": 82,
    "start_time": "2023-03-16T10:38:14.096Z"
   },
   {
    "duration": 4379,
    "start_time": "2023-03-16T10:38:19.930Z"
   },
   {
    "duration": 125,
    "start_time": "2023-03-16T10:38:29.721Z"
   },
   {
    "duration": 11,
    "start_time": "2023-03-16T10:42:57.089Z"
   },
   {
    "duration": 3,
    "start_time": "2023-03-16T10:43:11.988Z"
   },
   {
    "duration": 11,
    "start_time": "2023-03-16T10:43:21.267Z"
   },
   {
    "duration": 114,
    "start_time": "2023-03-16T10:44:20.542Z"
   },
   {
    "duration": 50,
    "start_time": "2023-03-16T10:51:48.249Z"
   },
   {
    "duration": 47,
    "start_time": "2023-03-16T10:52:17.421Z"
   },
   {
    "duration": 65,
    "start_time": "2023-03-16T10:52:53.550Z"
   },
   {
    "duration": 62,
    "start_time": "2023-03-16T10:53:03.353Z"
   },
   {
    "duration": 55,
    "start_time": "2023-03-16T10:53:12.282Z"
   },
   {
    "duration": 75,
    "start_time": "2023-03-16T10:56:49.418Z"
   },
   {
    "duration": 86,
    "start_time": "2023-03-16T10:57:22.777Z"
   },
   {
    "duration": 76,
    "start_time": "2023-03-16T10:57:29.731Z"
   },
   {
    "duration": 34,
    "start_time": "2023-03-16T10:59:10.817Z"
   },
   {
    "duration": 32,
    "start_time": "2023-03-16T11:09:53.289Z"
   },
   {
    "duration": 47,
    "start_time": "2023-03-16T11:10:01.741Z"
   },
   {
    "duration": 4809,
    "start_time": "2023-03-16T11:10:29.842Z"
   },
   {
    "duration": 32,
    "start_time": "2023-03-16T11:13:10.141Z"
   },
   {
    "duration": 17,
    "start_time": "2023-03-16T11:18:23.444Z"
   },
   {
    "duration": 4,
    "start_time": "2023-03-16T11:18:27.527Z"
   },
   {
    "duration": 104,
    "start_time": "2023-03-16T11:18:30.085Z"
   },
   {
    "duration": 4556,
    "start_time": "2023-03-16T11:18:34.326Z"
   },
   {
    "duration": 93,
    "start_time": "2023-03-16T11:18:46.878Z"
   },
   {
    "duration": 157,
    "start_time": "2023-03-16T11:19:21.124Z"
   },
   {
    "duration": 73,
    "start_time": "2023-03-16T11:19:40.524Z"
   },
   {
    "duration": 98,
    "start_time": "2023-03-16T11:19:51.136Z"
   },
   {
    "duration": 77,
    "start_time": "2023-03-16T11:20:14.710Z"
   },
   {
    "duration": 112,
    "start_time": "2023-03-16T11:20:33.845Z"
   },
   {
    "duration": 80,
    "start_time": "2023-03-16T11:20:43.508Z"
   },
   {
    "duration": 131,
    "start_time": "2023-03-16T11:21:28.253Z"
   },
   {
    "duration": 89,
    "start_time": "2023-03-16T11:21:36.556Z"
   },
   {
    "duration": 112,
    "start_time": "2023-03-16T11:21:38.801Z"
   },
   {
    "duration": 2111,
    "start_time": "2023-03-16T12:27:02.732Z"
   },
   {
    "duration": 30,
    "start_time": "2023-03-16T12:27:04.845Z"
   },
   {
    "duration": 17,
    "start_time": "2023-03-16T12:27:04.876Z"
   },
   {
    "duration": 11,
    "start_time": "2023-03-16T12:27:04.895Z"
   },
   {
    "duration": 14,
    "start_time": "2023-03-16T12:27:04.907Z"
   },
   {
    "duration": 9,
    "start_time": "2023-03-16T12:27:04.923Z"
   },
   {
    "duration": 107,
    "start_time": "2023-03-16T12:27:04.933Z"
   },
   {
    "duration": 3765,
    "start_time": "2023-03-16T12:27:05.041Z"
   },
   {
    "duration": 118,
    "start_time": "2023-03-16T12:27:08.808Z"
   },
   {
    "duration": 0,
    "start_time": "2023-03-16T12:27:08.927Z"
   },
   {
    "duration": 104,
    "start_time": "2023-03-16T12:27:28.147Z"
   },
   {
    "duration": 5,
    "start_time": "2023-03-16T12:27:42.820Z"
   },
   {
    "duration": 4,
    "start_time": "2023-03-16T12:27:55.227Z"
   },
   {
    "duration": 1256,
    "start_time": "2023-03-17T14:36:53.117Z"
   },
   {
    "duration": 160,
    "start_time": "2023-03-17T14:36:56.841Z"
   },
   {
    "duration": 30,
    "start_time": "2023-03-17T14:36:58.269Z"
   },
   {
    "duration": 13,
    "start_time": "2023-03-17T14:37:00.248Z"
   },
   {
    "duration": 7,
    "start_time": "2023-03-17T14:37:01.770Z"
   },
   {
    "duration": 14,
    "start_time": "2023-03-17T14:37:04.316Z"
   },
   {
    "duration": 115,
    "start_time": "2023-03-17T14:37:08.710Z"
   },
   {
    "duration": 4786,
    "start_time": "2023-03-17T14:37:24.098Z"
   },
   {
    "duration": 4897,
    "start_time": "2023-03-17T14:37:43.414Z"
   },
   {
    "duration": 103,
    "start_time": "2023-03-17T14:38:46.522Z"
   },
   {
    "duration": 216,
    "start_time": "2023-03-17T14:38:59.035Z"
   },
   {
    "duration": 325,
    "start_time": "2023-03-17T14:40:10.775Z"
   },
   {
    "duration": 117,
    "start_time": "2023-03-17T14:40:18.075Z"
   },
   {
    "duration": 4,
    "start_time": "2023-03-17T15:02:19.311Z"
   },
   {
    "duration": 8,
    "start_time": "2023-03-17T15:05:06.600Z"
   },
   {
    "duration": 6,
    "start_time": "2023-03-17T15:05:29.730Z"
   },
   {
    "duration": 5,
    "start_time": "2023-03-17T15:05:47.709Z"
   },
   {
    "duration": 6,
    "start_time": "2023-03-17T15:05:59.914Z"
   },
   {
    "duration": 132,
    "start_time": "2023-03-17T15:06:16.128Z"
   },
   {
    "duration": 5,
    "start_time": "2023-03-17T15:06:23.712Z"
   },
   {
    "duration": 6,
    "start_time": "2023-03-17T15:06:31.826Z"
   },
   {
    "duration": 5,
    "start_time": "2023-03-17T15:06:54.274Z"
   },
   {
    "duration": 2056,
    "start_time": "2023-03-17T16:43:19.813Z"
   },
   {
    "duration": 37,
    "start_time": "2023-03-17T16:43:21.871Z"
   },
   {
    "duration": 19,
    "start_time": "2023-03-17T16:43:21.910Z"
   },
   {
    "duration": 12,
    "start_time": "2023-03-17T16:43:21.931Z"
   },
   {
    "duration": 6,
    "start_time": "2023-03-17T16:43:21.944Z"
   },
   {
    "duration": 10,
    "start_time": "2023-03-17T16:43:21.951Z"
   },
   {
    "duration": 90,
    "start_time": "2023-03-17T16:43:21.962Z"
   },
   {
    "duration": 4173,
    "start_time": "2023-03-17T16:43:22.055Z"
   },
   {
    "duration": 128,
    "start_time": "2023-03-17T16:43:26.229Z"
   },
   {
    "duration": 82,
    "start_time": "2023-03-17T16:43:26.360Z"
   },
   {
    "duration": 5,
    "start_time": "2023-03-17T16:43:26.444Z"
   },
   {
    "duration": 7,
    "start_time": "2023-03-17T16:43:56.208Z"
   }
  ],
  "kernelspec": {
   "display_name": "Python 3 (ipykernel)",
   "language": "python",
   "name": "python3"
  },
  "language_info": {
   "codemirror_mode": {
    "name": "ipython",
    "version": 3
   },
   "file_extension": ".py",
   "mimetype": "text/x-python",
   "name": "python",
   "nbconvert_exporter": "python",
   "pygments_lexer": "ipython3",
   "version": "3.10.9"
  },
  "toc": {
   "base_numbering": 1,
   "nav_menu": {},
   "number_sections": true,
   "sideBar": true,
   "skip_h1_title": true,
   "title_cell": "Table of Contents",
   "title_sidebar": "Contents",
   "toc_cell": false,
   "toc_position": {},
   "toc_section_display": true,
   "toc_window_display": false
  }
 },
 "nbformat": 4,
 "nbformat_minor": 2
}
