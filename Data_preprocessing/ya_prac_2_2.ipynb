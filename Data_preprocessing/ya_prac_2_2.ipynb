{
 "cells": [
  {
   "cell_type": "markdown",
   "id": "02f3953e",
   "metadata": {
    "deletable": false,
    "editable": false,
    "id": "c81daeeb"
   },
   "source": [
    "# Исследование надежности заемщиков\n"
   ]
  },
  {
   "cell_type": "markdown",
   "id": "18c14429",
   "metadata": {
    "deletable": false,
    "editable": false,
    "id": "827c20bf"
   },
   "source": [
    "Во второй части проекта вы выполните шаги 3 и 4. Их вручную проверит ревьюер.\n",
    "Чтобы вам не пришлось писать код заново для шагов 1 и 2, мы добавили авторские решения в ячейки с кодом. \n",
    "\n"
   ]
  },
  {
   "cell_type": "markdown",
   "id": "7c80d29b",
   "metadata": {
    "deletable": false,
    "editable": false,
    "id": "744d7639"
   },
   "source": [
    "## Откройте таблицу и изучите общую информацию о данных"
   ]
  },
  {
   "cell_type": "markdown",
   "id": "d0f5f2b9",
   "metadata": {
    "deletable": false,
    "editable": false,
    "id": "e7a14c31"
   },
   "source": [
    "**Задание 1. Импортируйте библиотеку pandas. Считайте данные из csv-файла в датафрейм и сохраните в переменную `data`. Путь к файлу:**\n",
    "\n",
    "`/datasets/data.csv`"
   ]
  },
  {
   "cell_type": "code",
   "execution_count": 1,
   "id": "e5f5061f",
   "metadata": {
    "deletable": false,
    "id": "7bcf75c9"
   },
   "outputs": [],
   "source": [
    "import pandas as pd\n",
    "\n",
    "try:\n",
    "    data = pd.read_csv('/datasets/data.csv')\n",
    "except:\n",
    "    data = pd.read_csv('https://code.s3.yandex.net/datasets/data.csv')"
   ]
  },
  {
   "cell_type": "markdown",
   "id": "b295c4f3",
   "metadata": {
    "deletable": false,
    "editable": false,
    "id": "b8038fe3"
   },
   "source": [
    "**Задание 2. Выведите первые 20 строчек датафрейма `data` на экран.**"
   ]
  },
  {
   "cell_type": "code",
   "execution_count": 2,
   "id": "f3c606fb",
   "metadata": {
    "deletable": false,
    "id": "2a7cab99",
    "outputId": "1a8f3ef2-d323-4ec2-ddf7-89670b5944c4"
   },
   "outputs": [
    {
     "data": {
      "text/html": [
       "<div>\n",
       "<style scoped>\n",
       "    .dataframe tbody tr th:only-of-type {\n",
       "        vertical-align: middle;\n",
       "    }\n",
       "\n",
       "    .dataframe tbody tr th {\n",
       "        vertical-align: top;\n",
       "    }\n",
       "\n",
       "    .dataframe thead th {\n",
       "        text-align: right;\n",
       "    }\n",
       "</style>\n",
       "<table border=\"1\" class=\"dataframe\">\n",
       "  <thead>\n",
       "    <tr style=\"text-align: right;\">\n",
       "      <th></th>\n",
       "      <th>children</th>\n",
       "      <th>days_employed</th>\n",
       "      <th>dob_years</th>\n",
       "      <th>education</th>\n",
       "      <th>education_id</th>\n",
       "      <th>family_status</th>\n",
       "      <th>family_status_id</th>\n",
       "      <th>gender</th>\n",
       "      <th>income_type</th>\n",
       "      <th>debt</th>\n",
       "      <th>total_income</th>\n",
       "      <th>purpose</th>\n",
       "    </tr>\n",
       "  </thead>\n",
       "  <tbody>\n",
       "    <tr>\n",
       "      <th>0</th>\n",
       "      <td>1</td>\n",
       "      <td>-8437.673028</td>\n",
       "      <td>42</td>\n",
       "      <td>высшее</td>\n",
       "      <td>0</td>\n",
       "      <td>женат / замужем</td>\n",
       "      <td>0</td>\n",
       "      <td>F</td>\n",
       "      <td>сотрудник</td>\n",
       "      <td>0</td>\n",
       "      <td>253875.639453</td>\n",
       "      <td>покупка жилья</td>\n",
       "    </tr>\n",
       "    <tr>\n",
       "      <th>1</th>\n",
       "      <td>1</td>\n",
       "      <td>-4024.803754</td>\n",
       "      <td>36</td>\n",
       "      <td>среднее</td>\n",
       "      <td>1</td>\n",
       "      <td>женат / замужем</td>\n",
       "      <td>0</td>\n",
       "      <td>F</td>\n",
       "      <td>сотрудник</td>\n",
       "      <td>0</td>\n",
       "      <td>112080.014102</td>\n",
       "      <td>приобретение автомобиля</td>\n",
       "    </tr>\n",
       "    <tr>\n",
       "      <th>2</th>\n",
       "      <td>0</td>\n",
       "      <td>-5623.422610</td>\n",
       "      <td>33</td>\n",
       "      <td>Среднее</td>\n",
       "      <td>1</td>\n",
       "      <td>женат / замужем</td>\n",
       "      <td>0</td>\n",
       "      <td>M</td>\n",
       "      <td>сотрудник</td>\n",
       "      <td>0</td>\n",
       "      <td>145885.952297</td>\n",
       "      <td>покупка жилья</td>\n",
       "    </tr>\n",
       "    <tr>\n",
       "      <th>3</th>\n",
       "      <td>3</td>\n",
       "      <td>-4124.747207</td>\n",
       "      <td>32</td>\n",
       "      <td>среднее</td>\n",
       "      <td>1</td>\n",
       "      <td>женат / замужем</td>\n",
       "      <td>0</td>\n",
       "      <td>M</td>\n",
       "      <td>сотрудник</td>\n",
       "      <td>0</td>\n",
       "      <td>267628.550329</td>\n",
       "      <td>дополнительное образование</td>\n",
       "    </tr>\n",
       "    <tr>\n",
       "      <th>4</th>\n",
       "      <td>0</td>\n",
       "      <td>340266.072047</td>\n",
       "      <td>53</td>\n",
       "      <td>среднее</td>\n",
       "      <td>1</td>\n",
       "      <td>гражданский брак</td>\n",
       "      <td>1</td>\n",
       "      <td>F</td>\n",
       "      <td>пенсионер</td>\n",
       "      <td>0</td>\n",
       "      <td>158616.077870</td>\n",
       "      <td>сыграть свадьбу</td>\n",
       "    </tr>\n",
       "    <tr>\n",
       "      <th>5</th>\n",
       "      <td>0</td>\n",
       "      <td>-926.185831</td>\n",
       "      <td>27</td>\n",
       "      <td>высшее</td>\n",
       "      <td>0</td>\n",
       "      <td>гражданский брак</td>\n",
       "      <td>1</td>\n",
       "      <td>M</td>\n",
       "      <td>компаньон</td>\n",
       "      <td>0</td>\n",
       "      <td>255763.565419</td>\n",
       "      <td>покупка жилья</td>\n",
       "    </tr>\n",
       "    <tr>\n",
       "      <th>6</th>\n",
       "      <td>0</td>\n",
       "      <td>-2879.202052</td>\n",
       "      <td>43</td>\n",
       "      <td>высшее</td>\n",
       "      <td>0</td>\n",
       "      <td>женат / замужем</td>\n",
       "      <td>0</td>\n",
       "      <td>F</td>\n",
       "      <td>компаньон</td>\n",
       "      <td>0</td>\n",
       "      <td>240525.971920</td>\n",
       "      <td>операции с жильем</td>\n",
       "    </tr>\n",
       "    <tr>\n",
       "      <th>7</th>\n",
       "      <td>0</td>\n",
       "      <td>-152.779569</td>\n",
       "      <td>50</td>\n",
       "      <td>СРЕДНЕЕ</td>\n",
       "      <td>1</td>\n",
       "      <td>женат / замужем</td>\n",
       "      <td>0</td>\n",
       "      <td>M</td>\n",
       "      <td>сотрудник</td>\n",
       "      <td>0</td>\n",
       "      <td>135823.934197</td>\n",
       "      <td>образование</td>\n",
       "    </tr>\n",
       "    <tr>\n",
       "      <th>8</th>\n",
       "      <td>2</td>\n",
       "      <td>-6929.865299</td>\n",
       "      <td>35</td>\n",
       "      <td>ВЫСШЕЕ</td>\n",
       "      <td>0</td>\n",
       "      <td>гражданский брак</td>\n",
       "      <td>1</td>\n",
       "      <td>F</td>\n",
       "      <td>сотрудник</td>\n",
       "      <td>0</td>\n",
       "      <td>95856.832424</td>\n",
       "      <td>на проведение свадьбы</td>\n",
       "    </tr>\n",
       "    <tr>\n",
       "      <th>9</th>\n",
       "      <td>0</td>\n",
       "      <td>-2188.756445</td>\n",
       "      <td>41</td>\n",
       "      <td>среднее</td>\n",
       "      <td>1</td>\n",
       "      <td>женат / замужем</td>\n",
       "      <td>0</td>\n",
       "      <td>M</td>\n",
       "      <td>сотрудник</td>\n",
       "      <td>0</td>\n",
       "      <td>144425.938277</td>\n",
       "      <td>покупка жилья для семьи</td>\n",
       "    </tr>\n",
       "    <tr>\n",
       "      <th>10</th>\n",
       "      <td>2</td>\n",
       "      <td>-4171.483647</td>\n",
       "      <td>36</td>\n",
       "      <td>высшее</td>\n",
       "      <td>0</td>\n",
       "      <td>женат / замужем</td>\n",
       "      <td>0</td>\n",
       "      <td>M</td>\n",
       "      <td>компаньон</td>\n",
       "      <td>0</td>\n",
       "      <td>113943.491460</td>\n",
       "      <td>покупка недвижимости</td>\n",
       "    </tr>\n",
       "    <tr>\n",
       "      <th>11</th>\n",
       "      <td>0</td>\n",
       "      <td>-792.701887</td>\n",
       "      <td>40</td>\n",
       "      <td>среднее</td>\n",
       "      <td>1</td>\n",
       "      <td>женат / замужем</td>\n",
       "      <td>0</td>\n",
       "      <td>F</td>\n",
       "      <td>сотрудник</td>\n",
       "      <td>0</td>\n",
       "      <td>77069.234271</td>\n",
       "      <td>покупка коммерческой недвижимости</td>\n",
       "    </tr>\n",
       "    <tr>\n",
       "      <th>12</th>\n",
       "      <td>0</td>\n",
       "      <td>NaN</td>\n",
       "      <td>65</td>\n",
       "      <td>среднее</td>\n",
       "      <td>1</td>\n",
       "      <td>гражданский брак</td>\n",
       "      <td>1</td>\n",
       "      <td>M</td>\n",
       "      <td>пенсионер</td>\n",
       "      <td>0</td>\n",
       "      <td>NaN</td>\n",
       "      <td>сыграть свадьбу</td>\n",
       "    </tr>\n",
       "    <tr>\n",
       "      <th>13</th>\n",
       "      <td>0</td>\n",
       "      <td>-1846.641941</td>\n",
       "      <td>54</td>\n",
       "      <td>неоконченное высшее</td>\n",
       "      <td>2</td>\n",
       "      <td>женат / замужем</td>\n",
       "      <td>0</td>\n",
       "      <td>F</td>\n",
       "      <td>сотрудник</td>\n",
       "      <td>0</td>\n",
       "      <td>130458.228857</td>\n",
       "      <td>приобретение автомобиля</td>\n",
       "    </tr>\n",
       "    <tr>\n",
       "      <th>14</th>\n",
       "      <td>0</td>\n",
       "      <td>-1844.956182</td>\n",
       "      <td>56</td>\n",
       "      <td>высшее</td>\n",
       "      <td>0</td>\n",
       "      <td>гражданский брак</td>\n",
       "      <td>1</td>\n",
       "      <td>F</td>\n",
       "      <td>компаньон</td>\n",
       "      <td>1</td>\n",
       "      <td>165127.911772</td>\n",
       "      <td>покупка жилой недвижимости</td>\n",
       "    </tr>\n",
       "    <tr>\n",
       "      <th>15</th>\n",
       "      <td>1</td>\n",
       "      <td>-972.364419</td>\n",
       "      <td>26</td>\n",
       "      <td>среднее</td>\n",
       "      <td>1</td>\n",
       "      <td>женат / замужем</td>\n",
       "      <td>0</td>\n",
       "      <td>F</td>\n",
       "      <td>сотрудник</td>\n",
       "      <td>0</td>\n",
       "      <td>116820.904450</td>\n",
       "      <td>строительство собственной недвижимости</td>\n",
       "    </tr>\n",
       "    <tr>\n",
       "      <th>16</th>\n",
       "      <td>0</td>\n",
       "      <td>-1719.934226</td>\n",
       "      <td>35</td>\n",
       "      <td>среднее</td>\n",
       "      <td>1</td>\n",
       "      <td>женат / замужем</td>\n",
       "      <td>0</td>\n",
       "      <td>F</td>\n",
       "      <td>сотрудник</td>\n",
       "      <td>0</td>\n",
       "      <td>289202.704229</td>\n",
       "      <td>недвижимость</td>\n",
       "    </tr>\n",
       "    <tr>\n",
       "      <th>17</th>\n",
       "      <td>0</td>\n",
       "      <td>-2369.999720</td>\n",
       "      <td>33</td>\n",
       "      <td>высшее</td>\n",
       "      <td>0</td>\n",
       "      <td>гражданский брак</td>\n",
       "      <td>1</td>\n",
       "      <td>M</td>\n",
       "      <td>сотрудник</td>\n",
       "      <td>0</td>\n",
       "      <td>90410.586745</td>\n",
       "      <td>строительство недвижимости</td>\n",
       "    </tr>\n",
       "    <tr>\n",
       "      <th>18</th>\n",
       "      <td>0</td>\n",
       "      <td>400281.136913</td>\n",
       "      <td>53</td>\n",
       "      <td>среднее</td>\n",
       "      <td>1</td>\n",
       "      <td>вдовец / вдова</td>\n",
       "      <td>2</td>\n",
       "      <td>F</td>\n",
       "      <td>пенсионер</td>\n",
       "      <td>0</td>\n",
       "      <td>56823.777243</td>\n",
       "      <td>на покупку подержанного автомобиля</td>\n",
       "    </tr>\n",
       "    <tr>\n",
       "      <th>19</th>\n",
       "      <td>0</td>\n",
       "      <td>-10038.818549</td>\n",
       "      <td>48</td>\n",
       "      <td>СРЕДНЕЕ</td>\n",
       "      <td>1</td>\n",
       "      <td>в разводе</td>\n",
       "      <td>3</td>\n",
       "      <td>F</td>\n",
       "      <td>сотрудник</td>\n",
       "      <td>0</td>\n",
       "      <td>242831.107982</td>\n",
       "      <td>на покупку своего автомобиля</td>\n",
       "    </tr>\n",
       "  </tbody>\n",
       "</table>\n",
       "</div>"
      ],
      "text/plain": [
       "    children  days_employed  dob_years            education  education_id  \\\n",
       "0          1   -8437.673028         42               высшее             0   \n",
       "1          1   -4024.803754         36              среднее             1   \n",
       "2          0   -5623.422610         33              Среднее             1   \n",
       "3          3   -4124.747207         32              среднее             1   \n",
       "4          0  340266.072047         53              среднее             1   \n",
       "5          0    -926.185831         27               высшее             0   \n",
       "6          0   -2879.202052         43               высшее             0   \n",
       "7          0    -152.779569         50              СРЕДНЕЕ             1   \n",
       "8          2   -6929.865299         35               ВЫСШЕЕ             0   \n",
       "9          0   -2188.756445         41              среднее             1   \n",
       "10         2   -4171.483647         36               высшее             0   \n",
       "11         0    -792.701887         40              среднее             1   \n",
       "12         0            NaN         65              среднее             1   \n",
       "13         0   -1846.641941         54  неоконченное высшее             2   \n",
       "14         0   -1844.956182         56               высшее             0   \n",
       "15         1    -972.364419         26              среднее             1   \n",
       "16         0   -1719.934226         35              среднее             1   \n",
       "17         0   -2369.999720         33               высшее             0   \n",
       "18         0  400281.136913         53              среднее             1   \n",
       "19         0  -10038.818549         48              СРЕДНЕЕ             1   \n",
       "\n",
       "       family_status  family_status_id gender income_type  debt  \\\n",
       "0    женат / замужем                 0      F   сотрудник     0   \n",
       "1    женат / замужем                 0      F   сотрудник     0   \n",
       "2    женат / замужем                 0      M   сотрудник     0   \n",
       "3    женат / замужем                 0      M   сотрудник     0   \n",
       "4   гражданский брак                 1      F   пенсионер     0   \n",
       "5   гражданский брак                 1      M   компаньон     0   \n",
       "6    женат / замужем                 0      F   компаньон     0   \n",
       "7    женат / замужем                 0      M   сотрудник     0   \n",
       "8   гражданский брак                 1      F   сотрудник     0   \n",
       "9    женат / замужем                 0      M   сотрудник     0   \n",
       "10   женат / замужем                 0      M   компаньон     0   \n",
       "11   женат / замужем                 0      F   сотрудник     0   \n",
       "12  гражданский брак                 1      M   пенсионер     0   \n",
       "13   женат / замужем                 0      F   сотрудник     0   \n",
       "14  гражданский брак                 1      F   компаньон     1   \n",
       "15   женат / замужем                 0      F   сотрудник     0   \n",
       "16   женат / замужем                 0      F   сотрудник     0   \n",
       "17  гражданский брак                 1      M   сотрудник     0   \n",
       "18    вдовец / вдова                 2      F   пенсионер     0   \n",
       "19         в разводе                 3      F   сотрудник     0   \n",
       "\n",
       "     total_income                                 purpose  \n",
       "0   253875.639453                           покупка жилья  \n",
       "1   112080.014102                 приобретение автомобиля  \n",
       "2   145885.952297                           покупка жилья  \n",
       "3   267628.550329              дополнительное образование  \n",
       "4   158616.077870                         сыграть свадьбу  \n",
       "5   255763.565419                           покупка жилья  \n",
       "6   240525.971920                       операции с жильем  \n",
       "7   135823.934197                             образование  \n",
       "8    95856.832424                   на проведение свадьбы  \n",
       "9   144425.938277                 покупка жилья для семьи  \n",
       "10  113943.491460                    покупка недвижимости  \n",
       "11   77069.234271       покупка коммерческой недвижимости  \n",
       "12            NaN                         сыграть свадьбу  \n",
       "13  130458.228857                 приобретение автомобиля  \n",
       "14  165127.911772              покупка жилой недвижимости  \n",
       "15  116820.904450  строительство собственной недвижимости  \n",
       "16  289202.704229                            недвижимость  \n",
       "17   90410.586745              строительство недвижимости  \n",
       "18   56823.777243      на покупку подержанного автомобиля  \n",
       "19  242831.107982            на покупку своего автомобиля  "
      ]
     },
     "execution_count": 2,
     "metadata": {},
     "output_type": "execute_result"
    }
   ],
   "source": [
    "data.head(20)"
   ]
  },
  {
   "cell_type": "markdown",
   "id": "348054c5",
   "metadata": {
    "deletable": false,
    "editable": false,
    "id": "1c12e233"
   },
   "source": [
    "**Задание 3. Выведите основную информацию о датафрейме с помощью метода `info()`.**"
   ]
  },
  {
   "cell_type": "code",
   "execution_count": 3,
   "id": "2200b018",
   "metadata": {
    "deletable": false,
    "id": "2b757bca",
    "outputId": "15376089-8dad-46c9-b520-c05248d43158"
   },
   "outputs": [
    {
     "name": "stdout",
     "output_type": "stream",
     "text": [
      "<class 'pandas.core.frame.DataFrame'>\n",
      "RangeIndex: 21525 entries, 0 to 21524\n",
      "Data columns (total 12 columns):\n",
      " #   Column            Non-Null Count  Dtype  \n",
      "---  ------            --------------  -----  \n",
      " 0   children          21525 non-null  int64  \n",
      " 1   days_employed     19351 non-null  float64\n",
      " 2   dob_years         21525 non-null  int64  \n",
      " 3   education         21525 non-null  object \n",
      " 4   education_id      21525 non-null  int64  \n",
      " 5   family_status     21525 non-null  object \n",
      " 6   family_status_id  21525 non-null  int64  \n",
      " 7   gender            21525 non-null  object \n",
      " 8   income_type       21525 non-null  object \n",
      " 9   debt              21525 non-null  int64  \n",
      " 10  total_income      19351 non-null  float64\n",
      " 11  purpose           21525 non-null  object \n",
      "dtypes: float64(2), int64(5), object(5)\n",
      "memory usage: 2.0+ MB\n"
     ]
    }
   ],
   "source": [
    "data.info()"
   ]
  },
  {
   "cell_type": "markdown",
   "id": "180399bb",
   "metadata": {
    "deletable": false,
    "editable": false,
    "id": "333ec665"
   },
   "source": [
    "## Предобработка данных"
   ]
  },
  {
   "cell_type": "markdown",
   "id": "3670492f",
   "metadata": {
    "deletable": false,
    "editable": false,
    "id": "02d92d53"
   },
   "source": [
    "### Удаление пропусков"
   ]
  },
  {
   "cell_type": "markdown",
   "id": "ca4aec50",
   "metadata": {
    "deletable": false,
    "editable": false,
    "id": "cd84967c"
   },
   "source": [
    "**Задание 4. Выведите количество пропущенных значений для каждого столбца. Используйте комбинацию двух методов.**"
   ]
  },
  {
   "cell_type": "code",
   "execution_count": 4,
   "id": "89838bd1",
   "metadata": {
    "deletable": false,
    "id": "7f9b2309",
    "outputId": "81f4d817-781c-465c-ed15-91ce4446810d"
   },
   "outputs": [
    {
     "data": {
      "text/plain": [
       "children               0\n",
       "days_employed       2174\n",
       "dob_years              0\n",
       "education              0\n",
       "education_id           0\n",
       "family_status          0\n",
       "family_status_id       0\n",
       "gender                 0\n",
       "income_type            0\n",
       "debt                   0\n",
       "total_income        2174\n",
       "purpose                0\n",
       "dtype: int64"
      ]
     },
     "execution_count": 4,
     "metadata": {},
     "output_type": "execute_result"
    }
   ],
   "source": [
    "data.isna().sum()"
   ]
  },
  {
   "cell_type": "markdown",
   "id": "deda0edb",
   "metadata": {
    "deletable": false,
    "editable": false,
    "id": "db86e27b"
   },
   "source": [
    "**Задание 5. В двух столбцах есть пропущенные значения. Один из них — `days_employed`. Пропуски в этом столбце вы обработаете на следующем этапе. Другой столбец с пропущенными значениями — `total_income` — хранит данные о доходах. На сумму дохода сильнее всего влияет тип занятости, поэтому заполнить пропуски в этом столбце нужно медианным значением по каждому типу из столбца `income_type`. Например, у человека с типом занятости `сотрудник` пропуск в столбце `total_income` должен быть заполнен медианным доходом среди всех записей с тем же типом.**"
   ]
  },
  {
   "cell_type": "code",
   "execution_count": 5,
   "id": "ecd14b12",
   "metadata": {
    "deletable": false,
    "id": "42006a93"
   },
   "outputs": [],
   "source": [
    "for t in data['income_type'].unique():\n",
    "    data.loc[(data['income_type'] == t) & (data['total_income'].isna()), 'total_income'] = \\\n",
    "    data.loc[(data['income_type'] == t), 'total_income'].median()"
   ]
  },
  {
   "cell_type": "markdown",
   "id": "089fc814",
   "metadata": {
    "deletable": false,
    "editable": false,
    "id": "89da5ece"
   },
   "source": [
    "### Обработка аномальных значений"
   ]
  },
  {
   "cell_type": "markdown",
   "id": "7d3c4145",
   "metadata": {
    "deletable": false,
    "editable": false,
    "id": "57964554"
   },
   "source": [
    "**Задание 6. В данных могут встречаться артефакты (аномалии) — значения, которые не отражают действительность и появились по какой-то ошибке. таким артефактом будет отрицательное количество дней трудового стажа в столбце `days_employed`. Для реальных данных это нормально. Обработайте значения в этом столбце: замените все отрицательные значения положительными с помощью метода `abs()`.**"
   ]
  },
  {
   "cell_type": "code",
   "execution_count": 6,
   "id": "aa30dc49",
   "metadata": {
    "deletable": false,
    "id": "f6f055bf"
   },
   "outputs": [],
   "source": [
    "data['days_employed'] = data['days_employed'].abs()"
   ]
  },
  {
   "cell_type": "markdown",
   "id": "b1023e96",
   "metadata": {
    "deletable": false,
    "editable": false,
    "id": "6107dd2f"
   },
   "source": [
    "**Задание 7. Для каждого типа занятости выведите медианное значение трудового стажа `days_employed` в днях.**"
   ]
  },
  {
   "cell_type": "code",
   "execution_count": 7,
   "id": "cfc91fd8",
   "metadata": {
    "deletable": false,
    "id": "85a5faf6",
    "outputId": "801ef80e-522b-4668-f34e-565af7432bcf"
   },
   "outputs": [
    {
     "data": {
      "text/plain": [
       "income_type\n",
       "безработный        366413.652744\n",
       "в декрете            3296.759962\n",
       "госслужащий          2689.368353\n",
       "компаньон            1547.382223\n",
       "пенсионер          365213.306266\n",
       "предприниматель       520.848083\n",
       "сотрудник            1574.202821\n",
       "студент               578.751554\n",
       "Name: days_employed, dtype: float64"
      ]
     },
     "execution_count": 7,
     "metadata": {},
     "output_type": "execute_result"
    }
   ],
   "source": [
    "data.groupby('income_type')['days_employed'].agg('median')"
   ]
  },
  {
   "cell_type": "markdown",
   "id": "d05d0692",
   "metadata": {
    "deletable": false,
    "editable": false,
    "id": "38d1a030"
   },
   "source": [
    "У двух типов (безработные и пенсионеры) получатся аномально большие значения. Исправить такие значения сложно, поэтому оставьте их как есть. Тем более этот столбец не понадобится вам для исследования."
   ]
  },
  {
   "cell_type": "markdown",
   "id": "c08237a9",
   "metadata": {
    "deletable": false,
    "editable": false,
    "id": "d8a9f147"
   },
   "source": [
    "**Задание 8. Выведите перечень уникальных значений столбца `children`.**"
   ]
  },
  {
   "cell_type": "code",
   "execution_count": 8,
   "id": "83ef6429",
   "metadata": {
    "deletable": false,
    "id": "ef5056eb",
    "outputId": "6975b15c-7f95-4697-d16d-a0c79b657b03"
   },
   "outputs": [
    {
     "data": {
      "text/plain": [
       "array([ 1,  0,  3,  2, -1,  4, 20,  5])"
      ]
     },
     "execution_count": 8,
     "metadata": {},
     "output_type": "execute_result"
    }
   ],
   "source": [
    "data['children'].unique()"
   ]
  },
  {
   "cell_type": "markdown",
   "id": "b5d9ad87",
   "metadata": {
    "deletable": false,
    "editable": false,
    "id": "40b9ebf2"
   },
   "source": [
    "**Задание 9. В столбце `children` есть два аномальных значения. Удалите строки, в которых встречаются такие аномальные значения из датафрейма `data`.**"
   ]
  },
  {
   "cell_type": "code",
   "execution_count": 9,
   "id": "9a9b32c3",
   "metadata": {
    "deletable": false,
    "id": "3ff9801d"
   },
   "outputs": [],
   "source": [
    "data = data[(data['children'] != -1) & (data['children'] != 20)]"
   ]
  },
  {
   "cell_type": "markdown",
   "id": "037fe58f",
   "metadata": {
    "deletable": false,
    "editable": false,
    "id": "bbc4d0ce"
   },
   "source": [
    "**Задание 10. Ещё раз выведите перечень уникальных значений столбца `children`, чтобы убедиться, что артефакты удалены.**"
   ]
  },
  {
   "cell_type": "code",
   "execution_count": 10,
   "id": "30f3655a",
   "metadata": {
    "deletable": false,
    "id": "ad4fa8b7",
    "outputId": "b2097101-d49d-44d9-901b-32a65c9463d1"
   },
   "outputs": [
    {
     "data": {
      "text/plain": [
       "array([1, 0, 3, 2, 4, 5])"
      ]
     },
     "execution_count": 10,
     "metadata": {},
     "output_type": "execute_result"
    }
   ],
   "source": [
    "data['children'].unique()"
   ]
  },
  {
   "cell_type": "markdown",
   "id": "efc26957",
   "metadata": {
    "deletable": false,
    "editable": false,
    "id": "75440b63"
   },
   "source": [
    "### Удаление пропусков (продолжение)"
   ]
  },
  {
   "cell_type": "markdown",
   "id": "da281e79",
   "metadata": {
    "deletable": false,
    "editable": false,
    "id": "f4ea573f"
   },
   "source": [
    "**Задание 11. Заполните пропуски в столбце `days_employed` медианными значениями по каждого типа занятости `income_type`.**"
   ]
  },
  {
   "cell_type": "code",
   "execution_count": 11,
   "id": "72f20a6b",
   "metadata": {
    "deletable": false,
    "id": "af6b1a7e"
   },
   "outputs": [],
   "source": [
    "for t in data['income_type'].unique():\n",
    "    data.loc[(data['income_type'] == t) & (data['days_employed'].isna()), 'days_employed'] = \\\n",
    "    data.loc[(data['income_type'] == t), 'days_employed'].median()"
   ]
  },
  {
   "cell_type": "markdown",
   "id": "06f7ce68",
   "metadata": {
    "deletable": false,
    "editable": false,
    "id": "2753f40d"
   },
   "source": [
    "**Задание 12. Убедитесь, что все пропуски заполнены. Проверьте себя и ещё раз выведите количество пропущенных значений для каждого столбца с помощью двух методов.**"
   ]
  },
  {
   "cell_type": "code",
   "execution_count": 12,
   "id": "5997f0fc",
   "metadata": {
    "deletable": false,
    "id": "55f78bc2",
    "outputId": "8da1e4e1-358e-4e87-98c9-f261bce0a7b2"
   },
   "outputs": [
    {
     "data": {
      "text/plain": [
       "children            0\n",
       "days_employed       0\n",
       "dob_years           0\n",
       "education           0\n",
       "education_id        0\n",
       "family_status       0\n",
       "family_status_id    0\n",
       "gender              0\n",
       "income_type         0\n",
       "debt                0\n",
       "total_income        0\n",
       "purpose             0\n",
       "dtype: int64"
      ]
     },
     "execution_count": 12,
     "metadata": {},
     "output_type": "execute_result"
    }
   ],
   "source": [
    "data.isna().sum()"
   ]
  },
  {
   "cell_type": "markdown",
   "id": "c61884eb",
   "metadata": {
    "deletable": false,
    "editable": false,
    "id": "ddc81e43"
   },
   "source": [
    "### Изменение типов данных"
   ]
  },
  {
   "cell_type": "markdown",
   "id": "c4f3f019",
   "metadata": {
    "deletable": false,
    "editable": false,
    "id": "42d19d24"
   },
   "source": [
    "**Задание 13. Замените вещественный тип данных в столбце `total_income` на целочисленный с помощью метода `astype()`.**"
   ]
  },
  {
   "cell_type": "code",
   "execution_count": 13,
   "id": "84954874",
   "metadata": {
    "deletable": false,
    "id": "920b65ad"
   },
   "outputs": [],
   "source": [
    "data['total_income'] = data['total_income'].astype(int)"
   ]
  },
  {
   "cell_type": "markdown",
   "id": "102b6b6e",
   "metadata": {
    "deletable": false,
    "editable": false,
    "id": "80c420ba"
   },
   "source": [
    "### Обработка дубликатов"
   ]
  },
  {
   "cell_type": "markdown",
   "id": "fc1ef780",
   "metadata": {
    "deletable": false,
    "editable": false
   },
   "source": [
    "**Задание 14. Обработайте неявные дубликаты в столбце `education`. В этом столбце есть одни и те же значения, но записанные по-разному: с использованием заглавных и строчных букв. Приведите их к нижнему регистру. Проверьте остальные столбцы.**"
   ]
  },
  {
   "cell_type": "code",
   "execution_count": 14,
   "id": "bc6a32c6",
   "metadata": {
    "deletable": false
   },
   "outputs": [],
   "source": [
    "data['education'] = data['education'].str.lower()"
   ]
  },
  {
   "cell_type": "markdown",
   "id": "1b6101e4",
   "metadata": {
    "deletable": false,
    "editable": false,
    "id": "dc587695"
   },
   "source": [
    "**Задание 15. Выведите на экран количество строк-дубликатов в данных. Если такие строки присутствуют, удалите их.**"
   ]
  },
  {
   "cell_type": "code",
   "execution_count": 15,
   "id": "2d7623a3",
   "metadata": {
    "deletable": false,
    "id": "3ee445e4",
    "outputId": "9684deba-1934-42d1-99e1-cda61740f822"
   },
   "outputs": [
    {
     "data": {
      "text/plain": [
       "71"
      ]
     },
     "execution_count": 15,
     "metadata": {},
     "output_type": "execute_result"
    }
   ],
   "source": [
    "data.duplicated().sum()"
   ]
  },
  {
   "cell_type": "code",
   "execution_count": 16,
   "id": "d463ddfb",
   "metadata": {
    "deletable": false,
    "id": "8575fe05"
   },
   "outputs": [],
   "source": [
    "data = data.drop_duplicates()"
   ]
  },
  {
   "cell_type": "markdown",
   "id": "4f958c53",
   "metadata": {
    "deletable": false,
    "editable": false,
    "id": "9904cf55"
   },
   "source": [
    "### Категоризация данных"
   ]
  },
  {
   "cell_type": "markdown",
   "id": "7988928c",
   "metadata": {
    "deletable": false,
    "editable": false,
    "id": "72fcc8a2"
   },
   "source": [
    "**Задание 16. На основании диапазонов, указанных ниже, создайте в датафрейме `data` столбец `total_income_category` с категориями:**\n",
    "\n",
    "- 0–30000 — `'E'`;\n",
    "- 30001–50000 — `'D'`;\n",
    "- 50001–200000 — `'C'`;\n",
    "- 200001–1000000 — `'B'`;\n",
    "- 1000001 и выше — `'A'`.\n",
    "\n",
    "\n",
    "**Например, кредитополучателю с доходом 25000 нужно назначить категорию `'E'`, а клиенту, получающему 235000, — `'B'`. Используйте собственную функцию с именем `categorize_income()` и метод `apply()`.**"
   ]
  },
  {
   "cell_type": "code",
   "execution_count": 17,
   "id": "f2775856",
   "metadata": {
    "deletable": false,
    "id": "e1771346"
   },
   "outputs": [],
   "source": [
    "def categorize_income(income):\n",
    "    try:\n",
    "        if 0 <= income <= 30000:\n",
    "            return 'E'\n",
    "        elif 30001 <= income <= 50000:\n",
    "            return 'D'\n",
    "        elif 50001 <= income <= 200000:\n",
    "            return 'C'\n",
    "        elif 200001 <= income <= 1000000:\n",
    "            return 'B'\n",
    "        elif income >= 1000001:\n",
    "            return 'A'\n",
    "    except:\n",
    "        pass"
   ]
  },
  {
   "cell_type": "code",
   "execution_count": 18,
   "id": "a225078b",
   "metadata": {
    "deletable": false,
    "id": "d5f3586d"
   },
   "outputs": [],
   "source": [
    "data['total_income_category'] = data['total_income'].apply(categorize_income)"
   ]
  },
  {
   "cell_type": "markdown",
   "id": "b084546b",
   "metadata": {
    "deletable": false,
    "editable": false,
    "id": "dde49b5c"
   },
   "source": [
    "**Задание 17. Выведите на экран перечень уникальных целей взятия кредита из столбца `purpose`.**"
   ]
  },
  {
   "cell_type": "code",
   "execution_count": 19,
   "id": "1c55dc6f",
   "metadata": {
    "deletable": false,
    "id": "f67ce9b3",
    "outputId": "673c12d9-7d7e-4ae0-9812-c622c89dd244"
   },
   "outputs": [
    {
     "data": {
      "text/plain": [
       "array(['покупка жилья', 'приобретение автомобиля',\n",
       "       'дополнительное образование', 'сыграть свадьбу',\n",
       "       'операции с жильем', 'образование', 'на проведение свадьбы',\n",
       "       'покупка жилья для семьи', 'покупка недвижимости',\n",
       "       'покупка коммерческой недвижимости', 'покупка жилой недвижимости',\n",
       "       'строительство собственной недвижимости', 'недвижимость',\n",
       "       'строительство недвижимости', 'на покупку подержанного автомобиля',\n",
       "       'на покупку своего автомобиля',\n",
       "       'операции с коммерческой недвижимостью',\n",
       "       'строительство жилой недвижимости', 'жилье',\n",
       "       'операции со своей недвижимостью', 'автомобили',\n",
       "       'заняться образованием', 'сделка с подержанным автомобилем',\n",
       "       'получение образования', 'автомобиль', 'свадьба',\n",
       "       'получение дополнительного образования', 'покупка своего жилья',\n",
       "       'операции с недвижимостью', 'получение высшего образования',\n",
       "       'свой автомобиль', 'сделка с автомобилем',\n",
       "       'профильное образование', 'высшее образование',\n",
       "       'покупка жилья для сдачи', 'на покупку автомобиля', 'ремонт жилью',\n",
       "       'заняться высшим образованием'], dtype=object)"
      ]
     },
     "execution_count": 19,
     "metadata": {},
     "output_type": "execute_result"
    }
   ],
   "source": [
    "data['purpose'].unique()"
   ]
  },
  {
   "cell_type": "markdown",
   "id": "a42a8000",
   "metadata": {
    "deletable": false,
    "editable": false,
    "id": "85d0aef0"
   },
   "source": [
    "**Задание 18. Создайте функцию, которая на основании данных из столбца `purpose` сформирует новый столбец `purpose_category`, в который войдут следующие категории:**\n",
    "\n",
    "- `'операции с автомобилем'`,\n",
    "- `'операции с недвижимостью'`,\n",
    "- `'проведение свадьбы'`,\n",
    "- `'получение образования'`.\n",
    "\n",
    "**Например, если в столбце `purpose` находится подстрока `'на покупку автомобиля'`, то в столбце `purpose_category` должна появиться строка `'операции с автомобилем'`.**\n",
    "\n",
    "**Используйте собственную функцию с именем `categorize_purpose()` и метод `apply()`. Изучите данные в столбце `purpose` и определите, какие подстроки помогут вам правильно определить категорию.**"
   ]
  },
  {
   "cell_type": "code",
   "execution_count": 20,
   "id": "4adbc3a2",
   "metadata": {
    "deletable": false,
    "id": "e149fab4"
   },
   "outputs": [],
   "source": [
    "def categorize_purpose(row):\n",
    "    try:\n",
    "        if 'автом' in row:\n",
    "            return 'операции с автомобилем'\n",
    "        elif 'жил' in row or 'недвиж' in row:\n",
    "            return 'операции с недвижимостью'\n",
    "        elif 'свад' in row:\n",
    "            return 'проведение свадьбы'\n",
    "        elif 'образов' in row:\n",
    "            return 'получение образования'\n",
    "    except:\n",
    "        return 'нет категории'"
   ]
  },
  {
   "cell_type": "code",
   "execution_count": 21,
   "id": "1dbaf15a",
   "metadata": {
    "deletable": false,
    "id": "bf36e69b"
   },
   "outputs": [],
   "source": [
    "data['purpose_category'] = data['purpose'].apply(categorize_purpose)"
   ]
  },
  {
   "cell_type": "markdown",
   "id": "1fce624e",
   "metadata": {
    "deletable": false,
    "editable": false,
    "id": "09b242bf"
   },
   "source": [
    "### Шаг 3. Исследуйте данные и ответьте на вопросы"
   ]
  },
  {
   "cell_type": "markdown",
   "id": "f6f1f562",
   "metadata": {
    "deletable": false,
    "editable": false,
    "id": "c5d66278"
   },
   "source": [
    "#### 3.1 Есть ли зависимость между количеством детей и возвратом кредита в срок?"
   ]
  },
  {
   "cell_type": "code",
   "execution_count": 22,
   "id": "1afefbef",
   "metadata": {
    "deletable": false,
    "id": "2cacfc4a"
   },
   "outputs": [
    {
     "data": {
      "text/plain": [
       "children\n",
       "0    1063\n",
       "1     444\n",
       "2     194\n",
       "3      27\n",
       "4       4\n",
       "5       0\n",
       "Name: debt, dtype: int64"
      ]
     },
     "execution_count": 22,
     "metadata": {},
     "output_type": "execute_result"
    }
   ],
   "source": [
    "people_with_debts = data.groupby('children')['debt'].sum()\n",
    "people_with_debts.rename('people_with_debts')\n",
    "people_with_debts"
   ]
  },
  {
   "cell_type": "code",
   "execution_count": 23,
   "id": "4e166149",
   "metadata": {},
   "outputs": [
    {
     "data": {
      "text/plain": [
       "children\n",
       "0    14091\n",
       "1     4808\n",
       "2     2052\n",
       "3      330\n",
       "4       41\n",
       "5        9\n",
       "Name: debt, dtype: int64"
      ]
     },
     "execution_count": 23,
     "metadata": {},
     "output_type": "execute_result"
    }
   ],
   "source": [
    "people_with_children = data.groupby('children')['debt'].count()\n",
    "people_with_children"
   ]
  },
  {
   "cell_type": "code",
   "execution_count": 24,
   "id": "f14182c6",
   "metadata": {},
   "outputs": [
    {
     "data": {
      "text/plain": [
       "children\n",
       "4    0.097561\n",
       "2    0.094542\n",
       "1    0.092346\n",
       "3    0.081818\n",
       "0    0.075438\n",
       "5    0.000000\n",
       "Name: debt, dtype: float64"
      ]
     },
     "execution_count": 24,
     "metadata": {},
     "output_type": "execute_result"
    }
   ],
   "source": [
    "children_info = people_with_debts / people_with_children\n",
    "children_info = children_info.sort_values(ascending=False)\n",
    "children_info"
   ]
  },
  {
   "cell_type": "code",
   "execution_count": 25,
   "id": "c3bd57f7",
   "metadata": {},
   "outputs": [
    {
     "data": {
      "text/html": [
       "<div>\n",
       "<style scoped>\n",
       "    .dataframe tbody tr th:only-of-type {\n",
       "        vertical-align: middle;\n",
       "    }\n",
       "\n",
       "    .dataframe tbody tr th {\n",
       "        vertical-align: top;\n",
       "    }\n",
       "\n",
       "    .dataframe thead th {\n",
       "        text-align: right;\n",
       "    }\n",
       "</style>\n",
       "<table border=\"1\" class=\"dataframe\">\n",
       "  <thead>\n",
       "    <tr style=\"text-align: right;\">\n",
       "      <th></th>\n",
       "      <th>people_with_debts</th>\n",
       "      <th>people_with_children</th>\n",
       "      <th>children_info</th>\n",
       "    </tr>\n",
       "    <tr>\n",
       "      <th>children</th>\n",
       "      <th></th>\n",
       "      <th></th>\n",
       "      <th></th>\n",
       "    </tr>\n",
       "  </thead>\n",
       "  <tbody>\n",
       "    <tr>\n",
       "      <th>0</th>\n",
       "      <td>1063</td>\n",
       "      <td>14091</td>\n",
       "      <td>0.075438</td>\n",
       "    </tr>\n",
       "    <tr>\n",
       "      <th>1</th>\n",
       "      <td>444</td>\n",
       "      <td>4808</td>\n",
       "      <td>0.092346</td>\n",
       "    </tr>\n",
       "    <tr>\n",
       "      <th>2</th>\n",
       "      <td>194</td>\n",
       "      <td>2052</td>\n",
       "      <td>0.094542</td>\n",
       "    </tr>\n",
       "    <tr>\n",
       "      <th>3</th>\n",
       "      <td>27</td>\n",
       "      <td>330</td>\n",
       "      <td>0.081818</td>\n",
       "    </tr>\n",
       "    <tr>\n",
       "      <th>4</th>\n",
       "      <td>4</td>\n",
       "      <td>41</td>\n",
       "      <td>0.097561</td>\n",
       "    </tr>\n",
       "    <tr>\n",
       "      <th>5</th>\n",
       "      <td>0</td>\n",
       "      <td>9</td>\n",
       "      <td>0.000000</td>\n",
       "    </tr>\n",
       "  </tbody>\n",
       "</table>\n",
       "</div>"
      ],
      "text/plain": [
       "          people_with_debts  people_with_children  children_info\n",
       "children                                                        \n",
       "0                      1063                 14091       0.075438\n",
       "1                       444                  4808       0.092346\n",
       "2                       194                  2052       0.094542\n",
       "3                        27                   330       0.081818\n",
       "4                         4                    41       0.097561\n",
       "5                         0                     9       0.000000"
      ]
     },
     "execution_count": 25,
     "metadata": {},
     "output_type": "execute_result"
    }
   ],
   "source": [
    "pivot_table = pd.concat([people_with_debts, people_with_children, children_info], axis=1)\n",
    "pivot_table.columns = ['people_with_debts', 'people_with_children', 'children_info']\n",
    "pivot_table"
   ]
  },
  {
   "cell_type": "markdown",
   "id": "c0488f93",
   "metadata": {
    "deletable": false,
    "id": "3a6b99ec"
   },
   "source": [
    "**Вывод:** \n",
    "При простой группировке может показаться, что, чем меньше детей, тем больше людей которые не вернули кредит в долг, но если учесть, что количество людей без детей например 14091, а людей с оним ребенком уже только 4808 и так далее, то можем найти процентное соотношение. Полученные значения говорят о том, что чаще всего долгжниками становятся люди с двумя и четыремя детьми, реже должниками становятся люди без детей. Людей с пятью детьми всего 9 человек, и делать вывод о том что все они точно не будут должниками не верно. Если же рассмотреть только три самые многочисленные выборки (люди у которых 1, 2 или нет детей) можем увидеть, чем больше детей у людей тем чаще они становятся должниками."
   ]
  },
  {
   "cell_type": "markdown",
   "id": "faf6cca8",
   "metadata": {
    "deletable": false,
    "editable": false,
    "id": "97be82ca"
   },
   "source": [
    "#### 3.2 Есть ли зависимость между семейным положением и возвратом кредита в срок?"
   ]
  },
  {
   "cell_type": "code",
   "execution_count": 26,
   "id": "0091d89e",
   "metadata": {
    "deletable": false,
    "id": "dc3f7ee8"
   },
   "outputs": [
    {
     "data": {
      "text/plain": [
       "family_status\n",
       "Не женат / не замужем    273\n",
       "в разводе                 84\n",
       "вдовец / вдова            63\n",
       "гражданский брак         385\n",
       "женат / замужем          927\n",
       "Name: debt, dtype: int64"
      ]
     },
     "execution_count": 26,
     "metadata": {},
     "output_type": "execute_result"
    }
   ],
   "source": [
    "people_with_debts_family_stat = data.groupby('family_status')['debt'].sum()\n",
    "people_with_debts_family_stat"
   ]
  },
  {
   "cell_type": "code",
   "execution_count": 27,
   "id": "a5ffed9a",
   "metadata": {},
   "outputs": [
    {
     "data": {
      "text/plain": [
       "family_status\n",
       "Не женат / не замужем     2796\n",
       "в разводе                 1189\n",
       "вдовец / вдова             951\n",
       "гражданский брак          4134\n",
       "женат / замужем          12261\n",
       "Name: debt, dtype: int64"
      ]
     },
     "execution_count": 27,
     "metadata": {},
     "output_type": "execute_result"
    }
   ],
   "source": [
    "people_with_family_stat = data.groupby('family_status')['debt'].count()\n",
    "people_with_family_stat"
   ]
  },
  {
   "cell_type": "code",
   "execution_count": 28,
   "id": "e6b8fc65",
   "metadata": {},
   "outputs": [
    {
     "data": {
      "text/plain": [
       "family_status\n",
       "Не женат / не замужем    0.097639\n",
       "гражданский брак         0.093130\n",
       "женат / замужем          0.075606\n",
       "в разводе                0.070648\n",
       "вдовец / вдова           0.066246\n",
       "Name: debt, dtype: float64"
      ]
     },
     "execution_count": 28,
     "metadata": {},
     "output_type": "execute_result"
    }
   ],
   "source": [
    "status_inf = people_with_debts_family_stat / people_with_family_stat\n",
    "status_inf.sort_values(ascending=False)"
   ]
  },
  {
   "cell_type": "code",
   "execution_count": 29,
   "id": "ebf0fe34",
   "metadata": {},
   "outputs": [
    {
     "data": {
      "text/html": [
       "<div>\n",
       "<style scoped>\n",
       "    .dataframe tbody tr th:only-of-type {\n",
       "        vertical-align: middle;\n",
       "    }\n",
       "\n",
       "    .dataframe tbody tr th {\n",
       "        vertical-align: top;\n",
       "    }\n",
       "\n",
       "    .dataframe thead th {\n",
       "        text-align: right;\n",
       "    }\n",
       "</style>\n",
       "<table border=\"1\" class=\"dataframe\">\n",
       "  <thead>\n",
       "    <tr style=\"text-align: right;\">\n",
       "      <th></th>\n",
       "      <th>people_with_debts_family_stat</th>\n",
       "      <th>people_with_family_stat</th>\n",
       "      <th>status_info</th>\n",
       "    </tr>\n",
       "    <tr>\n",
       "      <th>family_status</th>\n",
       "      <th></th>\n",
       "      <th></th>\n",
       "      <th></th>\n",
       "    </tr>\n",
       "  </thead>\n",
       "  <tbody>\n",
       "    <tr>\n",
       "      <th>Не женат / не замужем</th>\n",
       "      <td>273</td>\n",
       "      <td>2796</td>\n",
       "      <td>0.097639</td>\n",
       "    </tr>\n",
       "    <tr>\n",
       "      <th>в разводе</th>\n",
       "      <td>84</td>\n",
       "      <td>1189</td>\n",
       "      <td>0.070648</td>\n",
       "    </tr>\n",
       "    <tr>\n",
       "      <th>вдовец / вдова</th>\n",
       "      <td>63</td>\n",
       "      <td>951</td>\n",
       "      <td>0.066246</td>\n",
       "    </tr>\n",
       "    <tr>\n",
       "      <th>гражданский брак</th>\n",
       "      <td>385</td>\n",
       "      <td>4134</td>\n",
       "      <td>0.093130</td>\n",
       "    </tr>\n",
       "    <tr>\n",
       "      <th>женат / замужем</th>\n",
       "      <td>927</td>\n",
       "      <td>12261</td>\n",
       "      <td>0.075606</td>\n",
       "    </tr>\n",
       "  </tbody>\n",
       "</table>\n",
       "</div>"
      ],
      "text/plain": [
       "                       people_with_debts_family_stat  people_with_family_stat  \\\n",
       "family_status                                                                   \n",
       "Не женат / не замужем                            273                     2796   \n",
       "в разводе                                         84                     1189   \n",
       "вдовец / вдова                                    63                      951   \n",
       "гражданский брак                                 385                     4134   \n",
       "женат / замужем                                  927                    12261   \n",
       "\n",
       "                       status_info  \n",
       "family_status                       \n",
       "Не женат / не замужем     0.097639  \n",
       "в разводе                 0.070648  \n",
       "вдовец / вдова            0.066246  \n",
       "гражданский брак          0.093130  \n",
       "женат / замужем           0.075606  "
      ]
     },
     "execution_count": 29,
     "metadata": {},
     "output_type": "execute_result"
    }
   ],
   "source": [
    "pivot_table = pd.concat([people_with_debts_family_stat, people_with_family_stat, status_inf], axis=1)\n",
    "pivot_table.columns = ['people_with_debts_family_stat', 'people_with_family_stat', 'status_info']\n",
    "pivot_table"
   ]
  },
  {
   "cell_type": "markdown",
   "id": "a6e10ca8",
   "metadata": {
    "deletable": false,
    "id": "1cef7837"
   },
   "source": [
    "**Вывод:** Повторим наши рассуждения для поиска корреляции между семейным положением и возвратом кредита в срок. Из полученных результатов видно, что не женатые и не замужние люди, а так же люди в гражданском браке чаще не возвращают кредит в срок, а вдовцы и вдовы реже. Но разброс полученных значений не велик, не женатых и не замужних людей не вернувших долги в срок 9.7%, а вдовцов и вдов 6.6%"
   ]
  },
  {
   "cell_type": "markdown",
   "id": "e5466aa8",
   "metadata": {
    "deletable": false,
    "editable": false,
    "id": "1e8b2fca"
   },
   "source": [
    "#### 3.3 Есть ли зависимость между уровнем дохода и возвратом кредита в срок?"
   ]
  },
  {
   "cell_type": "markdown",
   "id": "c99c766e",
   "metadata": {},
   "source": [
    "**Для удобства приведем еще раз категории людей по уровню дохода:**\n",
    "- 0–30000 — `'E'`;\n",
    "- 30001–50000 — `'D'`;\n",
    "- 50001–200000 — `'C'`;\n",
    "- 200001–1000000 — `'B'`;\n",
    "- 1000001 и выше — `'A'`."
   ]
  },
  {
   "cell_type": "code",
   "execution_count": 30,
   "id": "f511cbb2",
   "metadata": {
    "deletable": false,
    "id": "cd7e3720"
   },
   "outputs": [
    {
     "data": {
      "text/plain": [
       "total_income_category\n",
       "A       2\n",
       "B     354\n",
       "C    1353\n",
       "D      21\n",
       "E       2\n",
       "Name: debt, dtype: int64"
      ]
     },
     "execution_count": 30,
     "metadata": {},
     "output_type": "execute_result"
    }
   ],
   "source": [
    "people_with_debts_income = data.groupby('total_income_category')['debt'].sum()\n",
    "people_with_debts_income"
   ]
  },
  {
   "cell_type": "code",
   "execution_count": 31,
   "id": "936af05a",
   "metadata": {},
   "outputs": [
    {
     "data": {
      "text/plain": [
       "total_income_category\n",
       "A       25\n",
       "B     5014\n",
       "C    15921\n",
       "D      349\n",
       "E       22\n",
       "Name: debt, dtype: int64"
      ]
     },
     "execution_count": 31,
     "metadata": {},
     "output_type": "execute_result"
    }
   ],
   "source": [
    "people_with_income_cat = data.groupby('total_income_category')['debt'].count()\n",
    "people_with_income_cat"
   ]
  },
  {
   "cell_type": "code",
   "execution_count": 32,
   "id": "7ed772e3",
   "metadata": {},
   "outputs": [
    {
     "data": {
      "text/plain": [
       "total_income_category\n",
       "E    0.090909\n",
       "C    0.084982\n",
       "A    0.080000\n",
       "B    0.070602\n",
       "D    0.060172\n",
       "Name: debt, dtype: float64"
      ]
     },
     "execution_count": 32,
     "metadata": {},
     "output_type": "execute_result"
    }
   ],
   "source": [
    "income_inf = people_with_debts_income / people_with_income_cat\n",
    "income_inf.sort_values(ascending=False)"
   ]
  },
  {
   "cell_type": "code",
   "execution_count": 33,
   "id": "c9783e7c",
   "metadata": {},
   "outputs": [
    {
     "data": {
      "text/html": [
       "<div>\n",
       "<style scoped>\n",
       "    .dataframe tbody tr th:only-of-type {\n",
       "        vertical-align: middle;\n",
       "    }\n",
       "\n",
       "    .dataframe tbody tr th {\n",
       "        vertical-align: top;\n",
       "    }\n",
       "\n",
       "    .dataframe thead th {\n",
       "        text-align: right;\n",
       "    }\n",
       "</style>\n",
       "<table border=\"1\" class=\"dataframe\">\n",
       "  <thead>\n",
       "    <tr style=\"text-align: right;\">\n",
       "      <th></th>\n",
       "      <th>people_with_debts_income</th>\n",
       "      <th>people_with_income_cat</th>\n",
       "      <th>income_inf</th>\n",
       "    </tr>\n",
       "    <tr>\n",
       "      <th>total_income_category</th>\n",
       "      <th></th>\n",
       "      <th></th>\n",
       "      <th></th>\n",
       "    </tr>\n",
       "  </thead>\n",
       "  <tbody>\n",
       "    <tr>\n",
       "      <th>A</th>\n",
       "      <td>2</td>\n",
       "      <td>25</td>\n",
       "      <td>0.080000</td>\n",
       "    </tr>\n",
       "    <tr>\n",
       "      <th>B</th>\n",
       "      <td>354</td>\n",
       "      <td>5014</td>\n",
       "      <td>0.070602</td>\n",
       "    </tr>\n",
       "    <tr>\n",
       "      <th>C</th>\n",
       "      <td>1353</td>\n",
       "      <td>15921</td>\n",
       "      <td>0.084982</td>\n",
       "    </tr>\n",
       "    <tr>\n",
       "      <th>D</th>\n",
       "      <td>21</td>\n",
       "      <td>349</td>\n",
       "      <td>0.060172</td>\n",
       "    </tr>\n",
       "    <tr>\n",
       "      <th>E</th>\n",
       "      <td>2</td>\n",
       "      <td>22</td>\n",
       "      <td>0.090909</td>\n",
       "    </tr>\n",
       "  </tbody>\n",
       "</table>\n",
       "</div>"
      ],
      "text/plain": [
       "                       people_with_debts_income  people_with_income_cat  \\\n",
       "total_income_category                                                     \n",
       "A                                             2                      25   \n",
       "B                                           354                    5014   \n",
       "C                                          1353                   15921   \n",
       "D                                            21                     349   \n",
       "E                                             2                      22   \n",
       "\n",
       "                       income_inf  \n",
       "total_income_category              \n",
       "A                        0.080000  \n",
       "B                        0.070602  \n",
       "C                        0.084982  \n",
       "D                        0.060172  \n",
       "E                        0.090909  "
      ]
     },
     "execution_count": 33,
     "metadata": {},
     "output_type": "execute_result"
    }
   ],
   "source": [
    "pivot_table = pd.concat([people_with_debts_income, people_with_income_cat, income_inf], axis=1)\n",
    "pivot_table.columns = ['people_with_debts_income', 'people_with_income_cat', 'income_inf']\n",
    "pivot_table"
   ]
  },
  {
   "cell_type": "markdown",
   "id": "b9225b90",
   "metadata": {
    "deletable": false,
    "id": "e8593def"
   },
   "source": [
    "**Вывод:** Повторим наши рассуждения для поиска корреляции между уровнем дохода и возвратом кредита в срок. Из полученных результатов видно, что люди с доходом ниже 30000 чаще не возвращают кредит в срок, а люди с доходом от 30001 до 50000 реже становятся должниками. Если же сравнить две самые многочисленные выборки, а это люди с доходом от 200001 до 1000000 (категория B) и с доходом от 50001 до 200000 (категория С), то можно заметить что люди с большим доходом чаще становятся должниками."
   ]
  },
  {
   "cell_type": "markdown",
   "id": "43df8c03",
   "metadata": {
    "deletable": false,
    "editable": false,
    "id": "99ecbd1f"
   },
   "source": [
    "#### 3.4 Как разные цели кредита влияют на его возврат в срок?"
   ]
  },
  {
   "cell_type": "code",
   "execution_count": 34,
   "id": "cdda315b",
   "metadata": {
    "deletable": false,
    "id": "2b687290"
   },
   "outputs": [
    {
     "data": {
      "text/plain": [
       "purpose_category\n",
       "операции с автомобилем      400\n",
       "операции с недвижимостью    780\n",
       "получение образования       369\n",
       "проведение свадьбы          183\n",
       "Name: debt, dtype: int64"
      ]
     },
     "execution_count": 34,
     "metadata": {},
     "output_type": "execute_result"
    }
   ],
   "source": [
    "people_with_debts_purpose = data.groupby('purpose_category')['debt'].sum()\n",
    "people_with_debts_purpose"
   ]
  },
  {
   "cell_type": "code",
   "execution_count": 35,
   "id": "8c0d4add",
   "metadata": {},
   "outputs": [
    {
     "data": {
      "text/plain": [
       "purpose_category\n",
       "операции с автомобилем       4279\n",
       "операции с недвижимостью    10751\n",
       "получение образования        3988\n",
       "проведение свадьбы           2313\n",
       "Name: debt, dtype: int64"
      ]
     },
     "execution_count": 35,
     "metadata": {},
     "output_type": "execute_result"
    }
   ],
   "source": [
    "people_with_purpose = data.groupby('purpose_category')['debt'].count()\n",
    "people_with_purpose"
   ]
  },
  {
   "cell_type": "code",
   "execution_count": 36,
   "id": "bd496378",
   "metadata": {},
   "outputs": [
    {
     "data": {
      "text/plain": [
       "purpose_category\n",
       "операции с автомобилем      0.093480\n",
       "получение образования       0.092528\n",
       "проведение свадьбы          0.079118\n",
       "операции с недвижимостью    0.072551\n",
       "Name: debt, dtype: float64"
      ]
     },
     "execution_count": 36,
     "metadata": {},
     "output_type": "execute_result"
    }
   ],
   "source": [
    "purpose_inf = people_with_debts_purpose / people_with_purpose\n",
    "purpose_inf.sort_values(ascending=False)"
   ]
  },
  {
   "cell_type": "code",
   "execution_count": 37,
   "id": "3b0b8e36",
   "metadata": {},
   "outputs": [
    {
     "data": {
      "text/html": [
       "<div>\n",
       "<style scoped>\n",
       "    .dataframe tbody tr th:only-of-type {\n",
       "        vertical-align: middle;\n",
       "    }\n",
       "\n",
       "    .dataframe tbody tr th {\n",
       "        vertical-align: top;\n",
       "    }\n",
       "\n",
       "    .dataframe thead th {\n",
       "        text-align: right;\n",
       "    }\n",
       "</style>\n",
       "<table border=\"1\" class=\"dataframe\">\n",
       "  <thead>\n",
       "    <tr style=\"text-align: right;\">\n",
       "      <th></th>\n",
       "      <th>people_with_debts_purpose</th>\n",
       "      <th>people_with_purpose</th>\n",
       "      <th>purpose_inf</th>\n",
       "    </tr>\n",
       "    <tr>\n",
       "      <th>purpose_category</th>\n",
       "      <th></th>\n",
       "      <th></th>\n",
       "      <th></th>\n",
       "    </tr>\n",
       "  </thead>\n",
       "  <tbody>\n",
       "    <tr>\n",
       "      <th>операции с автомобилем</th>\n",
       "      <td>400</td>\n",
       "      <td>4279</td>\n",
       "      <td>0.093480</td>\n",
       "    </tr>\n",
       "    <tr>\n",
       "      <th>операции с недвижимостью</th>\n",
       "      <td>780</td>\n",
       "      <td>10751</td>\n",
       "      <td>0.072551</td>\n",
       "    </tr>\n",
       "    <tr>\n",
       "      <th>получение образования</th>\n",
       "      <td>369</td>\n",
       "      <td>3988</td>\n",
       "      <td>0.092528</td>\n",
       "    </tr>\n",
       "    <tr>\n",
       "      <th>проведение свадьбы</th>\n",
       "      <td>183</td>\n",
       "      <td>2313</td>\n",
       "      <td>0.079118</td>\n",
       "    </tr>\n",
       "  </tbody>\n",
       "</table>\n",
       "</div>"
      ],
      "text/plain": [
       "                          people_with_debts_purpose  people_with_purpose  \\\n",
       "purpose_category                                                           \n",
       "операции с автомобилем                          400                 4279   \n",
       "операции с недвижимостью                        780                10751   \n",
       "получение образования                           369                 3988   \n",
       "проведение свадьбы                              183                 2313   \n",
       "\n",
       "                          purpose_inf  \n",
       "purpose_category                       \n",
       "операции с автомобилем       0.093480  \n",
       "операции с недвижимостью     0.072551  \n",
       "получение образования        0.092528  \n",
       "проведение свадьбы           0.079118  "
      ]
     },
     "execution_count": 37,
     "metadata": {},
     "output_type": "execute_result"
    }
   ],
   "source": [
    "pivot_table = pd.concat([people_with_debts_purpose, people_with_purpose, purpose_inf], axis=1)\n",
    "pivot_table.columns = ['people_with_debts_purpose', 'people_with_purpose', 'purpose_inf']\n",
    "pivot_table"
   ]
  },
  {
   "cell_type": "markdown",
   "id": "29bade1a",
   "metadata": {
    "deletable": false,
    "id": "b4bb2ce6"
   },
   "source": [
    "**Вывод:** Повторим наши рассуждения для поиска корреляции между целью кредита и возвратом кредита в срок. Из полученных результатов видно, что люди, которые  берут кредит для операций с автомобилем или для получения образования чаще не возвращают кредит в срок, а люди, которые берут кредит для проведения свадьбы или операций с недвижимостью реже становятся должниками."
   ]
  },
  {
   "cell_type": "markdown",
   "id": "17097186",
   "metadata": {
    "deletable": false,
    "editable": false,
    "id": "09c3ac4c"
   },
   "source": [
    "#### 3.5 Приведите возможные причины появления пропусков в исходных данных."
   ]
  },
  {
   "cell_type": "markdown",
   "id": "024f306b",
   "metadata": {
    "deletable": false,
    "id": "9da2ceda"
   },
   "source": [
    "*Ответ:* Самая вероятная причина появления пропусков это ошибки сотрудников, не заметивших пропущенные поля. Но так же возможна потеря данных при переносе таблиц, или в результате сбоя в работе компьютера."
   ]
  },
  {
   "cell_type": "markdown",
   "id": "3b301115",
   "metadata": {
    "deletable": false,
    "editable": false,
    "id": "7b0487d6"
   },
   "source": [
    "#### 3.6 Объясните, почему заполнить пропуски медианным значением — лучшее решение для количественных переменных."
   ]
  },
  {
   "cell_type": "markdown",
   "id": "3a6c42e6",
   "metadata": {
    "deletable": false,
    "id": "7ecf2b8e"
   },
   "source": [
    "*Ответ:* Так как если в данных присутствуют различного рода выбросы (слишком большое значени или же наоборот, слишком маленькое), то если заменять пропуски средним это может исказить реадьные данные. Именно поэтому используется медианное значение."
   ]
  },
  {
   "cell_type": "markdown",
   "id": "bcbba88c",
   "metadata": {
    "deletable": false,
    "editable": false,
    "id": "6db5255a"
   },
   "source": [
    "### Шаг 4: общий вывод."
   ]
  },
  {
   "cell_type": "markdown",
   "id": "2732b16c",
   "metadata": {
    "deletable": false,
    "id": "bad65432"
   },
   "source": [
    "**Была поставлена задача разобраться, влияет ли семейное положение и количество детей клиента на факт погашения кредита в срок. Входные данные от банка — статистика о платёжеспособности клиентов.**\n",
    "**В таблице были представленны следующие данные:**\n",
    "\n",
    "- `children` — количество детей в семье\n",
    "- `days_employed` — общий трудовой стаж в днях\n",
    "- `dob_years` — возраст клиента в годах\n",
    "- `education` — уровень образования клиента\n",
    "- `education_id` — идентификатор уровня образования\n",
    "- `family_status` — семейное положение\n",
    "- `family_status_id` — идентификатор семейного положения\n",
    "- `gender` — пол клиента\n",
    "- `income_type` — тип занятости\n",
    "- `debt` — имел ли задолженность по возврату кредитов\n",
    "- `total_income` — ежемесячный доход\n",
    "- `purpose` — цель получения кредита\n",
    "    \n",
    "**Далее была проведена обработка полученных данных. Были заполненны пропуски в столбцах `total_income` и `days_employed` с помощью медианных значений по соответсвующим `income_type`. Так же были удалены дубликаты.** \n",
    "**Из предоставленной статистики можно сделать следующие выводы:**\n",
    "\n",
    "- Из полученных результатов видно, что не женатые и не замужние люди, а так же люди в гражданском браке чаще не возвращают кредит в срок, а вдовцы и вдовы реже;\n",
    "- Чаще всего долгжниками становятся люди с двумя и четыремя детьми, реже должниками становятся люди без детей.\n",
    "- Цели, для которых люди берут кредит, так же влияют на возврат денег во время, но разброс количества людей не большой от 7.2% до 9.3%\n",
    "\n",
    "**Я бы порекомендовал банку более внимательно относится к клиентам, которые удовлетворяют следующим критериям:**\n",
    "\n",
    "- Берут кредит для операций с недвижимостью или для проведения свадьбы\n",
    "- Имеют одного или двух детей\n",
    "- Имеют доход от 50001 до 200000\n",
    "\n",
    "**Так как именно эти категории людей чаще всего становятся должниками**\n"
   ]
  }
 ],
 "metadata": {
  "ExecuteTimeLog": [
   {
    "duration": 516,
    "start_time": "2023-01-26T16:43:19.449Z"
   },
   {
    "duration": 23,
    "start_time": "2023-01-26T16:43:22.726Z"
   },
   {
    "duration": 18,
    "start_time": "2023-01-26T16:43:28.530Z"
   },
   {
    "duration": 14,
    "start_time": "2023-01-26T16:43:33.029Z"
   },
   {
    "duration": 33,
    "start_time": "2023-01-26T16:43:59.221Z"
   },
   {
    "duration": 4,
    "start_time": "2023-01-26T16:44:02.743Z"
   },
   {
    "duration": 9,
    "start_time": "2023-01-26T16:44:05.316Z"
   },
   {
    "duration": 5,
    "start_time": "2023-01-26T16:44:18.598Z"
   },
   {
    "duration": 8,
    "start_time": "2023-01-26T16:44:21.298Z"
   },
   {
    "duration": 5,
    "start_time": "2023-01-26T16:44:23.910Z"
   },
   {
    "duration": 36,
    "start_time": "2023-01-26T16:44:26.976Z"
   },
   {
    "duration": 12,
    "start_time": "2023-01-26T16:44:29.323Z"
   },
   {
    "duration": 4,
    "start_time": "2023-01-26T16:44:32.299Z"
   },
   {
    "duration": 12,
    "start_time": "2023-01-26T16:44:35.051Z"
   },
   {
    "duration": 21,
    "start_time": "2023-01-26T16:44:36.707Z"
   },
   {
    "duration": 19,
    "start_time": "2023-01-26T16:44:38.789Z"
   },
   {
    "duration": 4,
    "start_time": "2023-01-26T16:44:45.917Z"
   },
   {
    "duration": 11,
    "start_time": "2023-01-26T16:44:48.462Z"
   },
   {
    "duration": 8,
    "start_time": "2023-01-26T16:44:52.233Z"
   },
   {
    "duration": 5,
    "start_time": "2023-01-26T16:44:55.444Z"
   },
   {
    "duration": 15,
    "start_time": "2023-01-26T16:44:58.123Z"
   },
   {
    "duration": 5,
    "start_time": "2023-01-26T16:59:01.290Z"
   },
   {
    "duration": 8,
    "start_time": "2023-01-26T17:00:25.691Z"
   },
   {
    "duration": 6,
    "start_time": "2023-01-26T17:00:44.508Z"
   },
   {
    "duration": 8,
    "start_time": "2023-01-26T17:01:21.046Z"
   },
   {
    "duration": 25,
    "start_time": "2023-01-26T17:02:17.039Z"
   },
   {
    "duration": 7,
    "start_time": "2023-01-26T17:02:37.178Z"
   },
   {
    "duration": 5,
    "start_time": "2023-01-26T17:22:42.783Z"
   },
   {
    "duration": 4,
    "start_time": "2023-01-26T17:22:44.074Z"
   },
   {
    "duration": 5,
    "start_time": "2023-01-26T17:23:14.850Z"
   },
   {
    "duration": 5,
    "start_time": "2023-01-26T17:23:20.794Z"
   },
   {
    "duration": 5,
    "start_time": "2023-01-26T17:23:39.927Z"
   },
   {
    "duration": 8,
    "start_time": "2023-01-26T17:23:54.428Z"
   },
   {
    "duration": 7,
    "start_time": "2023-01-26T17:24:06.565Z"
   },
   {
    "duration": 72,
    "start_time": "2023-01-26T17:38:52.314Z"
   },
   {
    "duration": 10,
    "start_time": "2023-01-26T17:38:59.665Z"
   },
   {
    "duration": 10,
    "start_time": "2023-01-26T17:39:56.801Z"
   },
   {
    "duration": 7,
    "start_time": "2023-01-26T17:40:05.595Z"
   },
   {
    "duration": 6,
    "start_time": "2023-01-26T17:40:53.934Z"
   },
   {
    "duration": 3,
    "start_time": "2023-01-26T17:41:20.113Z"
   },
   {
    "duration": 5,
    "start_time": "2023-01-26T17:41:33.881Z"
   },
   {
    "duration": 7,
    "start_time": "2023-01-26T17:42:17.689Z"
   },
   {
    "duration": 6,
    "start_time": "2023-01-26T17:42:34.611Z"
   },
   {
    "duration": 6,
    "start_time": "2023-01-26T17:43:02.628Z"
   },
   {
    "duration": 14,
    "start_time": "2023-01-26T17:52:38.455Z"
   },
   {
    "duration": 8,
    "start_time": "2023-01-26T17:53:03.256Z"
   },
   {
    "duration": 7,
    "start_time": "2023-01-26T17:53:50.087Z"
   },
   {
    "duration": 7,
    "start_time": "2023-01-26T17:54:47.426Z"
   },
   {
    "duration": 12,
    "start_time": "2023-01-26T18:02:46.182Z"
   },
   {
    "duration": 9,
    "start_time": "2023-01-26T18:02:55.485Z"
   },
   {
    "duration": 9,
    "start_time": "2023-01-26T18:03:26.022Z"
   },
   {
    "duration": 6,
    "start_time": "2023-01-26T18:04:41.836Z"
   },
   {
    "duration": 462,
    "start_time": "2023-01-27T09:37:48.394Z"
   },
   {
    "duration": 32,
    "start_time": "2023-01-27T09:37:48.859Z"
   },
   {
    "duration": 21,
    "start_time": "2023-01-27T09:37:48.893Z"
   },
   {
    "duration": 39,
    "start_time": "2023-01-27T09:37:48.918Z"
   },
   {
    "duration": 52,
    "start_time": "2023-01-27T09:37:48.960Z"
   },
   {
    "duration": 5,
    "start_time": "2023-01-27T09:37:49.014Z"
   },
   {
    "duration": 26,
    "start_time": "2023-01-27T09:37:49.021Z"
   },
   {
    "duration": 8,
    "start_time": "2023-01-27T09:37:49.049Z"
   },
   {
    "duration": 14,
    "start_time": "2023-01-27T09:37:49.060Z"
   },
   {
    "duration": 15,
    "start_time": "2023-01-27T09:37:49.079Z"
   },
   {
    "duration": 50,
    "start_time": "2023-01-27T09:37:49.096Z"
   },
   {
    "duration": 12,
    "start_time": "2023-01-27T09:37:49.148Z"
   },
   {
    "duration": 52,
    "start_time": "2023-01-27T09:37:49.162Z"
   },
   {
    "duration": 15,
    "start_time": "2023-01-27T09:37:49.217Z"
   },
   {
    "duration": 31,
    "start_time": "2023-01-27T09:37:49.233Z"
   },
   {
    "duration": 20,
    "start_time": "2023-01-27T09:37:49.266Z"
   },
   {
    "duration": 4,
    "start_time": "2023-01-27T09:37:49.288Z"
   },
   {
    "duration": 18,
    "start_time": "2023-01-27T09:37:49.294Z"
   },
   {
    "duration": 7,
    "start_time": "2023-01-27T09:37:49.314Z"
   },
   {
    "duration": 4,
    "start_time": "2023-01-27T09:37:49.340Z"
   },
   {
    "duration": 21,
    "start_time": "2023-01-27T09:37:49.346Z"
   },
   {
    "duration": 17,
    "start_time": "2023-01-27T09:37:49.369Z"
   },
   {
    "duration": 9,
    "start_time": "2023-01-27T09:37:49.388Z"
   },
   {
    "duration": 16,
    "start_time": "2023-01-27T09:37:49.399Z"
   },
   {
    "duration": 19,
    "start_time": "2023-01-27T09:37:49.417Z"
   },
   {
    "duration": 11,
    "start_time": "2023-01-27T09:37:49.438Z"
   },
   {
    "duration": 21,
    "start_time": "2023-01-27T09:37:49.451Z"
   },
   {
    "duration": 16,
    "start_time": "2023-01-27T09:37:49.477Z"
   },
   {
    "duration": 7,
    "start_time": "2023-01-27T09:37:49.495Z"
   },
   {
    "duration": 13,
    "start_time": "2023-01-27T09:37:49.504Z"
   },
   {
    "duration": 12,
    "start_time": "2023-01-27T09:37:49.519Z"
   },
   {
    "duration": 12,
    "start_time": "2023-01-27T09:37:49.533Z"
   },
   {
    "duration": 7,
    "start_time": "2023-01-27T09:37:49.547Z"
   },
   {
    "duration": 45,
    "start_time": "2023-01-29T08:53:34.937Z"
   },
   {
    "duration": 674,
    "start_time": "2023-01-29T08:53:43.229Z"
   },
   {
    "duration": 28,
    "start_time": "2023-01-29T08:53:45.951Z"
   },
   {
    "duration": 15,
    "start_time": "2023-01-29T08:53:50.436Z"
   },
   {
    "duration": 9,
    "start_time": "2023-01-29T08:53:53.493Z"
   },
   {
    "duration": 40,
    "start_time": "2023-01-29T08:53:56.464Z"
   },
   {
    "duration": 5,
    "start_time": "2023-01-29T08:53:58.207Z"
   },
   {
    "duration": 8,
    "start_time": "2023-01-29T08:53:59.727Z"
   },
   {
    "duration": 4,
    "start_time": "2023-01-29T08:54:02.232Z"
   },
   {
    "duration": 7,
    "start_time": "2023-01-29T08:54:04.130Z"
   },
   {
    "duration": 4,
    "start_time": "2023-01-29T08:54:06.906Z"
   },
   {
    "duration": 32,
    "start_time": "2023-01-29T08:54:10.211Z"
   },
   {
    "duration": 9,
    "start_time": "2023-01-29T08:54:12.129Z"
   },
   {
    "duration": 3,
    "start_time": "2023-01-29T08:54:14.691Z"
   },
   {
    "duration": 10,
    "start_time": "2023-01-29T08:54:16.474Z"
   },
   {
    "duration": 17,
    "start_time": "2023-01-29T08:54:18.530Z"
   },
   {
    "duration": 24,
    "start_time": "2023-01-29T08:54:19.392Z"
   },
   {
    "duration": 5,
    "start_time": "2023-01-29T08:54:23.287Z"
   },
   {
    "duration": 16,
    "start_time": "2023-01-29T08:54:25.174Z"
   },
   {
    "duration": 8,
    "start_time": "2023-01-29T08:54:26.516Z"
   },
   {
    "duration": 5,
    "start_time": "2023-01-29T08:54:27.947Z"
   },
   {
    "duration": 8,
    "start_time": "2023-01-29T08:54:28.992Z"
   },
   {
    "duration": 8,
    "start_time": "2023-01-29T08:54:31.533Z"
   },
   {
    "duration": 6,
    "start_time": "2023-01-29T08:54:32.941Z"
   },
   {
    "duration": 30,
    "start_time": "2023-01-29T08:54:34.241Z"
   },
   {
    "duration": 65,
    "start_time": "2023-01-29T08:56:31.494Z"
   },
   {
    "duration": 7,
    "start_time": "2023-01-29T08:56:36.850Z"
   },
   {
    "duration": 11,
    "start_time": "2023-01-29T08:56:43.398Z"
   },
   {
    "duration": 5,
    "start_time": "2023-01-29T08:57:17.311Z"
   },
   {
    "duration": 9,
    "start_time": "2023-01-29T09:00:06.543Z"
   },
   {
    "duration": 7,
    "start_time": "2023-01-29T09:00:40.730Z"
   },
   {
    "duration": 7,
    "start_time": "2023-01-29T09:00:57.172Z"
   },
   {
    "duration": 6,
    "start_time": "2023-01-29T09:01:01.629Z"
   },
   {
    "duration": 72,
    "start_time": "2023-01-29T09:01:11.351Z"
   },
   {
    "duration": 8,
    "start_time": "2023-01-29T09:01:19.429Z"
   },
   {
    "duration": 7,
    "start_time": "2023-01-29T09:01:22.778Z"
   },
   {
    "duration": 6,
    "start_time": "2023-01-29T09:05:29.592Z"
   },
   {
    "duration": 7,
    "start_time": "2023-01-29T09:05:42.269Z"
   },
   {
    "duration": 4,
    "start_time": "2023-01-29T09:06:12.637Z"
   },
   {
    "duration": 6,
    "start_time": "2023-01-29T09:06:16.021Z"
   },
   {
    "duration": 14,
    "start_time": "2023-01-29T09:07:44.465Z"
   },
   {
    "duration": 8,
    "start_time": "2023-01-29T09:07:53.934Z"
   },
   {
    "duration": 5,
    "start_time": "2023-01-29T09:08:10.005Z"
   },
   {
    "duration": 12,
    "start_time": "2023-01-29T09:08:17.846Z"
   },
   {
    "duration": 8,
    "start_time": "2023-01-29T09:11:39.229Z"
   },
   {
    "duration": 9,
    "start_time": "2023-01-29T09:12:05.093Z"
   },
   {
    "duration": 9,
    "start_time": "2023-01-29T09:12:06.424Z"
   },
   {
    "duration": 6,
    "start_time": "2023-01-29T09:12:07.582Z"
   },
   {
    "duration": 8,
    "start_time": "2023-01-29T09:12:09.773Z"
   },
   {
    "duration": 7,
    "start_time": "2023-01-29T09:12:55.047Z"
   },
   {
    "duration": 6,
    "start_time": "2023-01-29T09:12:55.515Z"
   },
   {
    "duration": 7,
    "start_time": "2023-01-29T09:12:56.065Z"
   },
   {
    "duration": 12,
    "start_time": "2023-01-29T09:14:07.629Z"
   },
   {
    "duration": 50,
    "start_time": "2023-01-29T11:07:18.365Z"
   },
   {
    "duration": 79,
    "start_time": "2023-01-29T11:07:28.852Z"
   },
   {
    "duration": 54,
    "start_time": "2023-01-29T11:07:47.153Z"
   },
   {
    "duration": 87,
    "start_time": "2023-01-29T11:09:34.620Z"
   },
   {
    "duration": 578,
    "start_time": "2023-01-29T11:10:13.843Z"
   },
   {
    "duration": 27,
    "start_time": "2023-01-29T11:10:14.423Z"
   },
   {
    "duration": 22,
    "start_time": "2023-01-29T11:10:14.452Z"
   },
   {
    "duration": 15,
    "start_time": "2023-01-29T11:10:14.477Z"
   },
   {
    "duration": 83,
    "start_time": "2023-01-29T11:10:14.494Z"
   },
   {
    "duration": 4,
    "start_time": "2023-01-29T11:10:14.578Z"
   },
   {
    "duration": 37,
    "start_time": "2023-01-29T11:10:14.584Z"
   },
   {
    "duration": 14,
    "start_time": "2023-01-29T11:10:14.623Z"
   },
   {
    "duration": 11,
    "start_time": "2023-01-29T11:10:14.639Z"
   },
   {
    "duration": 5,
    "start_time": "2023-01-29T11:10:14.654Z"
   },
   {
    "duration": 44,
    "start_time": "2023-01-29T11:10:14.662Z"
   },
   {
    "duration": 10,
    "start_time": "2023-01-29T11:10:14.708Z"
   },
   {
    "duration": 8,
    "start_time": "2023-01-29T11:10:14.741Z"
   },
   {
    "duration": 27,
    "start_time": "2023-01-29T11:10:14.751Z"
   },
   {
    "duration": 24,
    "start_time": "2023-01-29T11:10:14.779Z"
   },
   {
    "duration": 35,
    "start_time": "2023-01-29T11:10:14.805Z"
   },
   {
    "duration": 5,
    "start_time": "2023-01-29T11:10:14.842Z"
   },
   {
    "duration": 21,
    "start_time": "2023-01-29T11:10:14.849Z"
   },
   {
    "duration": 11,
    "start_time": "2023-01-29T11:10:14.873Z"
   },
   {
    "duration": 7,
    "start_time": "2023-01-29T11:10:14.886Z"
   },
   {
    "duration": 14,
    "start_time": "2023-01-29T11:10:14.895Z"
   },
   {
    "duration": 29,
    "start_time": "2023-01-29T11:10:14.911Z"
   },
   {
    "duration": 8,
    "start_time": "2023-01-29T11:10:14.942Z"
   },
   {
    "duration": 17,
    "start_time": "2023-01-29T11:10:14.951Z"
   },
   {
    "duration": 19,
    "start_time": "2023-01-29T11:10:14.970Z"
   },
   {
    "duration": 11,
    "start_time": "2023-01-29T11:10:14.991Z"
   },
   {
    "duration": 22,
    "start_time": "2023-01-29T11:10:15.003Z"
   },
   {
    "duration": 15,
    "start_time": "2023-01-29T11:10:15.029Z"
   },
   {
    "duration": 16,
    "start_time": "2023-01-29T11:10:15.046Z"
   },
   {
    "duration": 30,
    "start_time": "2023-01-29T11:10:15.064Z"
   },
   {
    "duration": 14,
    "start_time": "2023-01-29T11:10:15.096Z"
   },
   {
    "duration": 20,
    "start_time": "2023-01-29T11:10:15.112Z"
   },
   {
    "duration": 15,
    "start_time": "2023-01-29T11:10:15.134Z"
   },
   {
    "duration": 13,
    "start_time": "2023-01-29T11:10:15.156Z"
   },
   {
    "duration": 10,
    "start_time": "2023-01-29T11:10:15.171Z"
   },
   {
    "duration": 6,
    "start_time": "2023-01-29T11:10:15.183Z"
   },
   {
    "duration": 11,
    "start_time": "2023-01-29T11:10:19.124Z"
   },
   {
    "duration": 601,
    "start_time": "2023-01-30T06:37:15.750Z"
   },
   {
    "duration": 24,
    "start_time": "2023-01-30T06:37:16.357Z"
   },
   {
    "duration": 17,
    "start_time": "2023-01-30T06:37:16.382Z"
   },
   {
    "duration": 10,
    "start_time": "2023-01-30T06:37:16.401Z"
   },
   {
    "duration": 56,
    "start_time": "2023-01-30T06:37:16.413Z"
   },
   {
    "duration": 4,
    "start_time": "2023-01-30T06:37:16.471Z"
   },
   {
    "duration": 9,
    "start_time": "2023-01-30T06:37:16.483Z"
   },
   {
    "duration": 5,
    "start_time": "2023-01-30T06:37:16.494Z"
   },
   {
    "duration": 11,
    "start_time": "2023-01-30T06:37:16.501Z"
   },
   {
    "duration": 5,
    "start_time": "2023-01-30T06:37:16.515Z"
   },
   {
    "duration": 70,
    "start_time": "2023-01-30T06:37:16.522Z"
   },
   {
    "duration": 12,
    "start_time": "2023-01-30T06:37:16.594Z"
   },
   {
    "duration": 5,
    "start_time": "2023-01-30T06:37:16.607Z"
   },
   {
    "duration": 17,
    "start_time": "2023-01-30T06:37:16.613Z"
   },
   {
    "duration": 25,
    "start_time": "2023-01-30T06:37:16.632Z"
   },
   {
    "duration": 39,
    "start_time": "2023-01-30T06:37:16.659Z"
   },
   {
    "duration": 5,
    "start_time": "2023-01-30T06:37:16.700Z"
   },
   {
    "duration": 18,
    "start_time": "2023-01-30T06:37:16.706Z"
   },
   {
    "duration": 9,
    "start_time": "2023-01-30T06:37:16.726Z"
   },
   {
    "duration": 4,
    "start_time": "2023-01-30T06:37:16.736Z"
   },
   {
    "duration": 17,
    "start_time": "2023-01-30T06:37:16.742Z"
   },
   {
    "duration": 31,
    "start_time": "2023-01-30T06:37:16.761Z"
   },
   {
    "duration": 10,
    "start_time": "2023-01-30T06:37:16.794Z"
   },
   {
    "duration": 28,
    "start_time": "2023-01-30T06:37:16.806Z"
   },
   {
    "duration": 16,
    "start_time": "2023-01-30T06:37:16.835Z"
   },
   {
    "duration": 23,
    "start_time": "2023-01-30T06:37:16.853Z"
   },
   {
    "duration": 16,
    "start_time": "2023-01-30T06:37:16.878Z"
   },
   {
    "duration": 16,
    "start_time": "2023-01-30T06:37:16.898Z"
   },
   {
    "duration": 15,
    "start_time": "2023-01-30T06:37:16.916Z"
   },
   {
    "duration": 9,
    "start_time": "2023-01-30T06:37:16.933Z"
   },
   {
    "duration": 9,
    "start_time": "2023-01-30T06:37:16.944Z"
   },
   {
    "duration": 6,
    "start_time": "2023-01-30T06:37:16.955Z"
   },
   {
    "duration": 31,
    "start_time": "2023-01-30T06:37:16.963Z"
   },
   {
    "duration": 24,
    "start_time": "2023-01-30T06:37:16.996Z"
   },
   {
    "duration": 10,
    "start_time": "2023-01-30T06:37:17.021Z"
   },
   {
    "duration": 11,
    "start_time": "2023-01-30T06:37:17.033Z"
   },
   {
    "duration": 15,
    "start_time": "2023-01-30T06:37:17.046Z"
   }
  ],
  "colab": {
   "name": "dpp_template_part2.ipynb",
   "provenance": []
  },
  "kernelspec": {
   "display_name": "Python 3 (ipykernel)",
   "language": "python",
   "name": "python3"
  },
  "language_info": {
   "codemirror_mode": {
    "name": "ipython",
    "version": 3
   },
   "file_extension": ".py",
   "mimetype": "text/x-python",
   "name": "python",
   "nbconvert_exporter": "python",
   "pygments_lexer": "ipython3",
   "version": "3.10.9"
  },
  "toc": {
   "base_numbering": 1,
   "nav_menu": {},
   "number_sections": true,
   "sideBar": true,
   "skip_h1_title": true,
   "title_cell": "Table of Contents",
   "title_sidebar": "Contents",
   "toc_cell": false,
   "toc_position": {},
   "toc_section_display": true,
   "toc_window_display": false
  }
 },
 "nbformat": 4,
 "nbformat_minor": 5
}
