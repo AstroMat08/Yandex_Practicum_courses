{
 "cells": [
  {
   "cell_type": "markdown",
   "metadata": {
    "toc": true
   },
   "source": [
    "<h1>Содержание<span class=\"tocSkip\"></span></h1>\n",
    "<div class=\"toc\"><ul class=\"toc-item\"><li><span><a href=\"#Загрузка-данных\" data-toc-modified-id=\"Загрузка-данных-1\"><span class=\"toc-item-num\">1&nbsp;&nbsp;</span>Загрузка данных</a></span></li><li><span><a href=\"#Умножение-матриц\" data-toc-modified-id=\"Умножение-матриц-2\"><span class=\"toc-item-num\">2&nbsp;&nbsp;</span>Умножение матриц</a></span></li><li><span><a href=\"#Алгоритм-преобразования\" data-toc-modified-id=\"Алгоритм-преобразования-3\"><span class=\"toc-item-num\">3&nbsp;&nbsp;</span>Алгоритм преобразования</a></span></li><li><span><a href=\"#Проверка-алгоритма\" data-toc-modified-id=\"Проверка-алгоритма-4\"><span class=\"toc-item-num\">4&nbsp;&nbsp;</span>Проверка алгоритма</a></span></li><li><span><a href=\"#Общий-вывод\" data-toc-modified-id=\"Общий-вывод-5\"><span class=\"toc-item-num\">5&nbsp;&nbsp;</span>Общий вывод</a></span></li><li><span><a href=\"#Чек-лист-проверки\" data-toc-modified-id=\"Чек-лист-проверки-6\"><span class=\"toc-item-num\">6&nbsp;&nbsp;</span>Чек-лист проверки</a></span></li></ul></div>"
   ]
  },
  {
   "cell_type": "markdown",
   "metadata": {},
   "source": [
    "# Защита персональных данных клиентов"
   ]
  },
  {
   "cell_type": "markdown",
   "metadata": {},
   "source": [
    "Вам нужно защитить данные клиентов страховой компании «Хоть потоп». Разработайте такой метод преобразования данных, чтобы по ним было сложно восстановить персональную информацию. Обоснуйте корректность его работы.\n",
    "\n",
    "Нужно защитить данные, чтобы при преобразовании качество моделей машинного обучения не ухудшилось. Подбирать наилучшую модель не требуется."
   ]
  },
  {
   "cell_type": "markdown",
   "metadata": {},
   "source": [
    "## Загрузка данных"
   ]
  },
  {
   "cell_type": "code",
   "execution_count": 1,
   "metadata": {},
   "outputs": [],
   "source": [
    "import pandas as pd\n",
    "import numpy as np\n",
    "from sklearn.model_selection import train_test_split\n",
    "from sklearn.preprocessing import StandardScaler\n",
    "from sklearn.pipeline import Pipeline\n",
    "from sklearn.linear_model import LinearRegression\n",
    "from sklearn.metrics import r2_score"
   ]
  },
  {
   "cell_type": "code",
   "execution_count": 2,
   "metadata": {},
   "outputs": [
    {
     "data": {
      "text/html": [
       "<div>\n",
       "<style scoped>\n",
       "    .dataframe tbody tr th:only-of-type {\n",
       "        vertical-align: middle;\n",
       "    }\n",
       "\n",
       "    .dataframe tbody tr th {\n",
       "        vertical-align: top;\n",
       "    }\n",
       "\n",
       "    .dataframe thead th {\n",
       "        text-align: right;\n",
       "    }\n",
       "</style>\n",
       "<table border=\"1\" class=\"dataframe\">\n",
       "  <thead>\n",
       "    <tr style=\"text-align: right;\">\n",
       "      <th></th>\n",
       "      <th>Пол</th>\n",
       "      <th>Возраст</th>\n",
       "      <th>Зарплата</th>\n",
       "      <th>Члены семьи</th>\n",
       "      <th>Страховые выплаты</th>\n",
       "    </tr>\n",
       "  </thead>\n",
       "  <tbody>\n",
       "    <tr>\n",
       "      <th>0</th>\n",
       "      <td>1</td>\n",
       "      <td>41.0</td>\n",
       "      <td>49600.0</td>\n",
       "      <td>1</td>\n",
       "      <td>0</td>\n",
       "    </tr>\n",
       "    <tr>\n",
       "      <th>1</th>\n",
       "      <td>0</td>\n",
       "      <td>46.0</td>\n",
       "      <td>38000.0</td>\n",
       "      <td>1</td>\n",
       "      <td>1</td>\n",
       "    </tr>\n",
       "    <tr>\n",
       "      <th>2</th>\n",
       "      <td>0</td>\n",
       "      <td>29.0</td>\n",
       "      <td>21000.0</td>\n",
       "      <td>0</td>\n",
       "      <td>0</td>\n",
       "    </tr>\n",
       "    <tr>\n",
       "      <th>3</th>\n",
       "      <td>0</td>\n",
       "      <td>21.0</td>\n",
       "      <td>41700.0</td>\n",
       "      <td>2</td>\n",
       "      <td>0</td>\n",
       "    </tr>\n",
       "    <tr>\n",
       "      <th>4</th>\n",
       "      <td>1</td>\n",
       "      <td>28.0</td>\n",
       "      <td>26100.0</td>\n",
       "      <td>0</td>\n",
       "      <td>0</td>\n",
       "    </tr>\n",
       "    <tr>\n",
       "      <th>5</th>\n",
       "      <td>1</td>\n",
       "      <td>43.0</td>\n",
       "      <td>41000.0</td>\n",
       "      <td>2</td>\n",
       "      <td>1</td>\n",
       "    </tr>\n",
       "    <tr>\n",
       "      <th>6</th>\n",
       "      <td>1</td>\n",
       "      <td>39.0</td>\n",
       "      <td>39700.0</td>\n",
       "      <td>2</td>\n",
       "      <td>0</td>\n",
       "    </tr>\n",
       "    <tr>\n",
       "      <th>7</th>\n",
       "      <td>1</td>\n",
       "      <td>25.0</td>\n",
       "      <td>38600.0</td>\n",
       "      <td>4</td>\n",
       "      <td>0</td>\n",
       "    </tr>\n",
       "    <tr>\n",
       "      <th>8</th>\n",
       "      <td>1</td>\n",
       "      <td>36.0</td>\n",
       "      <td>49700.0</td>\n",
       "      <td>1</td>\n",
       "      <td>0</td>\n",
       "    </tr>\n",
       "    <tr>\n",
       "      <th>9</th>\n",
       "      <td>1</td>\n",
       "      <td>32.0</td>\n",
       "      <td>51700.0</td>\n",
       "      <td>1</td>\n",
       "      <td>0</td>\n",
       "    </tr>\n",
       "  </tbody>\n",
       "</table>\n",
       "</div>"
      ],
      "text/plain": [
       "   Пол  Возраст  Зарплата  Члены семьи  Страховые выплаты\n",
       "0    1     41.0   49600.0            1                  0\n",
       "1    0     46.0   38000.0            1                  1\n",
       "2    0     29.0   21000.0            0                  0\n",
       "3    0     21.0   41700.0            2                  0\n",
       "4    1     28.0   26100.0            0                  0\n",
       "5    1     43.0   41000.0            2                  1\n",
       "6    1     39.0   39700.0            2                  0\n",
       "7    1     25.0   38600.0            4                  0\n",
       "8    1     36.0   49700.0            1                  0\n",
       "9    1     32.0   51700.0            1                  0"
      ]
     },
     "execution_count": 2,
     "metadata": {},
     "output_type": "execute_result"
    }
   ],
   "source": [
    "data = pd.read_csv('/datasets/insurance.csv')\n",
    "data.head(10)"
   ]
  },
  {
   "cell_type": "code",
   "execution_count": 3,
   "metadata": {},
   "outputs": [
    {
     "name": "stdout",
     "output_type": "stream",
     "text": [
      "<class 'pandas.core.frame.DataFrame'>\n",
      "RangeIndex: 5000 entries, 0 to 4999\n",
      "Data columns (total 5 columns):\n",
      " #   Column             Non-Null Count  Dtype  \n",
      "---  ------             --------------  -----  \n",
      " 0   Пол                5000 non-null   int64  \n",
      " 1   Возраст            5000 non-null   float64\n",
      " 2   Зарплата           5000 non-null   float64\n",
      " 3   Члены семьи        5000 non-null   int64  \n",
      " 4   Страховые выплаты  5000 non-null   int64  \n",
      "dtypes: float64(2), int64(3)\n",
      "memory usage: 195.4 KB\n"
     ]
    }
   ],
   "source": [
    "data.info()"
   ]
  },
  {
   "cell_type": "markdown",
   "metadata": {},
   "source": [
    "Заменим тип столбца `Возраст` на integer, так как возраст в таблице измеряется целыми числами"
   ]
  },
  {
   "cell_type": "code",
   "execution_count": 4,
   "metadata": {},
   "outputs": [
    {
     "name": "stdout",
     "output_type": "stream",
     "text": [
      "<class 'pandas.core.frame.DataFrame'>\n",
      "RangeIndex: 5000 entries, 0 to 4999\n",
      "Data columns (total 5 columns):\n",
      " #   Column             Non-Null Count  Dtype  \n",
      "---  ------             --------------  -----  \n",
      " 0   Пол                5000 non-null   int64  \n",
      " 1   Возраст            5000 non-null   Int64  \n",
      " 2   Зарплата           5000 non-null   float64\n",
      " 3   Члены семьи        5000 non-null   int64  \n",
      " 4   Страховые выплаты  5000 non-null   int64  \n",
      "dtypes: Int64(1), float64(1), int64(3)\n",
      "memory usage: 200.3 KB\n"
     ]
    }
   ],
   "source": [
    "data['Возраст'] = data['Возраст'].astype('Int64')\n",
    "data.info()"
   ]
  },
  {
   "cell_type": "code",
   "execution_count": 5,
   "metadata": {},
   "outputs": [
    {
     "data": {
      "text/html": [
       "<div>\n",
       "<style scoped>\n",
       "    .dataframe tbody tr th:only-of-type {\n",
       "        vertical-align: middle;\n",
       "    }\n",
       "\n",
       "    .dataframe tbody tr th {\n",
       "        vertical-align: top;\n",
       "    }\n",
       "\n",
       "    .dataframe thead th {\n",
       "        text-align: right;\n",
       "    }\n",
       "</style>\n",
       "<table border=\"1\" class=\"dataframe\">\n",
       "  <thead>\n",
       "    <tr style=\"text-align: right;\">\n",
       "      <th></th>\n",
       "      <th>Пол</th>\n",
       "      <th>Возраст</th>\n",
       "      <th>Зарплата</th>\n",
       "      <th>Члены семьи</th>\n",
       "      <th>Страховые выплаты</th>\n",
       "    </tr>\n",
       "  </thead>\n",
       "  <tbody>\n",
       "    <tr>\n",
       "      <th>count</th>\n",
       "      <td>5000.000000</td>\n",
       "      <td>5000.000000</td>\n",
       "      <td>5000.000000</td>\n",
       "      <td>5000.000000</td>\n",
       "      <td>5000.000000</td>\n",
       "    </tr>\n",
       "    <tr>\n",
       "      <th>mean</th>\n",
       "      <td>0.499000</td>\n",
       "      <td>30.952800</td>\n",
       "      <td>39916.360000</td>\n",
       "      <td>1.194200</td>\n",
       "      <td>0.148000</td>\n",
       "    </tr>\n",
       "    <tr>\n",
       "      <th>std</th>\n",
       "      <td>0.500049</td>\n",
       "      <td>8.440807</td>\n",
       "      <td>9900.083569</td>\n",
       "      <td>1.091387</td>\n",
       "      <td>0.463183</td>\n",
       "    </tr>\n",
       "    <tr>\n",
       "      <th>min</th>\n",
       "      <td>0.000000</td>\n",
       "      <td>18.000000</td>\n",
       "      <td>5300.000000</td>\n",
       "      <td>0.000000</td>\n",
       "      <td>0.000000</td>\n",
       "    </tr>\n",
       "    <tr>\n",
       "      <th>25%</th>\n",
       "      <td>0.000000</td>\n",
       "      <td>24.000000</td>\n",
       "      <td>33300.000000</td>\n",
       "      <td>0.000000</td>\n",
       "      <td>0.000000</td>\n",
       "    </tr>\n",
       "    <tr>\n",
       "      <th>50%</th>\n",
       "      <td>0.000000</td>\n",
       "      <td>30.000000</td>\n",
       "      <td>40200.000000</td>\n",
       "      <td>1.000000</td>\n",
       "      <td>0.000000</td>\n",
       "    </tr>\n",
       "    <tr>\n",
       "      <th>75%</th>\n",
       "      <td>1.000000</td>\n",
       "      <td>37.000000</td>\n",
       "      <td>46600.000000</td>\n",
       "      <td>2.000000</td>\n",
       "      <td>0.000000</td>\n",
       "    </tr>\n",
       "    <tr>\n",
       "      <th>max</th>\n",
       "      <td>1.000000</td>\n",
       "      <td>65.000000</td>\n",
       "      <td>79000.000000</td>\n",
       "      <td>6.000000</td>\n",
       "      <td>5.000000</td>\n",
       "    </tr>\n",
       "  </tbody>\n",
       "</table>\n",
       "</div>"
      ],
      "text/plain": [
       "               Пол      Возраст      Зарплата  Члены семьи  Страховые выплаты\n",
       "count  5000.000000  5000.000000   5000.000000  5000.000000        5000.000000\n",
       "mean      0.499000    30.952800  39916.360000     1.194200           0.148000\n",
       "std       0.500049     8.440807   9900.083569     1.091387           0.463183\n",
       "min       0.000000    18.000000   5300.000000     0.000000           0.000000\n",
       "25%       0.000000    24.000000  33300.000000     0.000000           0.000000\n",
       "50%       0.000000    30.000000  40200.000000     1.000000           0.000000\n",
       "75%       1.000000    37.000000  46600.000000     2.000000           0.000000\n",
       "max       1.000000    65.000000  79000.000000     6.000000           5.000000"
      ]
     },
     "execution_count": 5,
     "metadata": {},
     "output_type": "execute_result"
    }
   ],
   "source": [
    "data.describe()"
   ]
  },
  {
   "cell_type": "markdown",
   "metadata": {},
   "source": [
    "Проверим, есть ли в табице дубликаты"
   ]
  },
  {
   "cell_type": "code",
   "execution_count": 6,
   "metadata": {},
   "outputs": [
    {
     "data": {
      "text/plain": [
       "153"
      ]
     },
     "execution_count": 6,
     "metadata": {},
     "output_type": "execute_result"
    }
   ],
   "source": [
    "data.duplicated().sum()"
   ]
  },
  {
   "cell_type": "markdown",
   "metadata": {},
   "source": [
    "Удалим дубликаты из таблицы"
   ]
  },
  {
   "cell_type": "code",
   "execution_count": 7,
   "metadata": {},
   "outputs": [
    {
     "data": {
      "text/plain": [
       "0"
      ]
     },
     "execution_count": 7,
     "metadata": {},
     "output_type": "execute_result"
    }
   ],
   "source": [
    "data = data.drop_duplicates().reset_index(drop=True)\n",
    "data.duplicated().sum()"
   ]
  },
  {
   "cell_type": "markdown",
   "metadata": {},
   "source": [
    "Проверим, есть ли пропуски в таблице"
   ]
  },
  {
   "cell_type": "code",
   "execution_count": 8,
   "metadata": {},
   "outputs": [
    {
     "data": {
      "text/plain": [
       "Пол                  0\n",
       "Возраст              0\n",
       "Зарплата             0\n",
       "Члены семьи          0\n",
       "Страховые выплаты    0\n",
       "dtype: int64"
      ]
     },
     "execution_count": 8,
     "metadata": {},
     "output_type": "execute_result"
    }
   ],
   "source": [
    "data.isnull().sum()"
   ]
  },
  {
   "cell_type": "markdown",
   "metadata": {},
   "source": [
    "**Вывод: Обработанны данные. Изменен тип одного из столюцов в соответствии с его значениями, удалены дубликаты**"
   ]
  },
  {
   "cell_type": "markdown",
   "metadata": {},
   "source": [
    "## Умножение матриц"
   ]
  },
  {
   "cell_type": "markdown",
   "metadata": {},
   "source": [
    "В этом задании вы можете записывать формулы в *Jupyter Notebook.*\n",
    "\n",
    "Чтобы записать формулу внутри текста, окружите её символами доллара \\\\$; если снаружи —  двойными символами \\\\$\\\\$. Эти формулы записываются на языке вёрстки *LaTeX.* \n",
    "\n",
    "Для примера мы записали формулы линейной регрессии. Можете их скопировать и отредактировать, чтобы решить задачу.\n",
    "\n",
    "Работать в *LaTeX* необязательно."
   ]
  },
  {
   "cell_type": "markdown",
   "metadata": {},
   "source": [
    "Обозначения:\n",
    "\n",
    "- $X$ — матрица признаков (нулевой столбец состоит из единиц)\n",
    "\n",
    "- $y$ — вектор целевого признака\n",
    "\n",
    "- $P$ — матрица, на которую умножаются признаки\n",
    "\n",
    "- $w$ — вектор весов линейной регрессии (нулевой элемент равен сдвигу)"
   ]
  },
  {
   "cell_type": "markdown",
   "metadata": {},
   "source": [
    "Предсказания:\n",
    "\n",
    "$$\n",
    "a = Xw\n",
    "$$\n",
    "\n",
    "Задача обучения:\n",
    "\n",
    "$$\n",
    "w = \\arg\\min_w MSE(Xw, y)\n",
    "$$\n",
    "\n",
    "Формула обучения:\n",
    "\n",
    "$$\n",
    "w = (X^T X)^{-1} X^T y\n",
    "$$"
   ]
  },
  {
   "cell_type": "markdown",
   "metadata": {},
   "source": [
    "**Ответ:** не изменится\n",
    "\n",
    "**Обоснование:** \n",
    "\n",
    "Введем U следующим образом:\n",
    "\n",
    "\\begin{equation}\n",
    "U = XA,\n",
    "\\end{equation}\n",
    "\n",
    "где А - обратимая матрица. Посотрим, как тогда будет выглядеть формула обучения\n",
    "\n",
    "\\begin{equation}\n",
    "a_1 = Uw_1\n",
    "\\end{equation}\n",
    "\n",
    "$$\n",
    "w_1 = (U^T U)^{-1} U^T y\n",
    "$$\n",
    "\n",
    "Подставим наше $U$:\n",
    "\n",
    "$$\n",
    "a_1 = U(U^T U)^{-1} U^T y\n",
    "$$\n",
    "\n",
    "$$\n",
    "a_1 = XA((XA)^T (XA))^{-1} (XA)^T y\n",
    "$$\n",
    "\n",
    "Начнем раскрывать скобки с учетом свойств транспонирования и свойствами обратной матрицы $((AB)^{-1} = B^{-1}A^{-1})$:\n",
    "\n",
    "$$\n",
    "a_1 = XA((XA)^T (XA))^{-1} (XA)^T y = XA(A^{T}X^{T}XA)^{-1}(XA)^T y = XA(A^{T}(X^{T}X)A)^{-1}(XA)^T y\n",
    "$$\n",
    "\n",
    "$$\n",
    "a_1 = XAA^{-1}(X^{T}X)^{-1}(A^{T})^{-1}(XA)^T y = XE(X^{T}X)^{-1}(A^{T})^{-1}A^TX^T y\n",
    "$$\n",
    "\n",
    "$$\n",
    "a_1 = X(X^{T}X)^{-1}(A^{T})^{-1}A^TX^T y = X(X^{T}X)^{-1}EX^T y = X(X^{T}X)^{-1}X^T y = X w = a\n",
    "$$\n",
    "\n",
    "Получили интересующее нас равенство $a_1 = a$\n",
    "\n",
    "Из полученного равенства можем найти соотношение между $w$ и $w_1$:\n",
    "\n",
    "$a = a_1 \\Rightarrow Xw = XAw_1 \\Rightarrow w = Aw_1$"
   ]
  },
  {
   "cell_type": "markdown",
   "metadata": {},
   "source": [
    "## Алгоритм преобразования"
   ]
  },
  {
   "cell_type": "markdown",
   "metadata": {},
   "source": [
    "**Алгоритм**\n",
    "\n",
    "Для защиты информации в процессе обучения будем домнажать матрицу признаков на обратимую матрицу $(A)$, сгенерированную случайным образом\n",
    "\n",
    "1) генерируем матрицу $A$\\\n",
    "2) проверка матрицы на обратимость \\\n",
    "3) получение новой преобразованной матрицы признаков \\\n",
    "4) обучение модели на новой матрице признаков\n"
   ]
  },
  {
   "cell_type": "markdown",
   "metadata": {},
   "source": [
    "**Обоснование**\n",
    "\n",
    "Из выкладок представленных выше, мы убедились в том, что при домноженнии матрицы признаков на обратимую матрицу качество линейной регрессии не изменится. При этом важно помнить, что матица должна быть не только квадратной и невырожденной но и такой размерности, чтобы при домнажении не именилась размерность матрицы признаков:\n",
    "\n",
    "Пусть матрица признаков $B$ размера $(m,n)$ где n - количество признаков, тогда матрица $A$ должна иметь размерность $(n, n)$, чтобы при умножении $B$ на $A$ получилась снова матрица $(m,n)$."
   ]
  },
  {
   "cell_type": "markdown",
   "metadata": {},
   "source": [
    "## Проверка алгоритма"
   ]
  },
  {
   "cell_type": "markdown",
   "metadata": {},
   "source": [
    "Для проверки алгоритма сравним значение метрики R2, для модели обученной на исходных данных и для модели обученной на преобразованных данных"
   ]
  },
  {
   "cell_type": "markdown",
   "metadata": {},
   "source": [
    "Начнем с исходных данных"
   ]
  },
  {
   "cell_type": "code",
   "execution_count": 8,
   "metadata": {},
   "outputs": [],
   "source": [
    "features = data.drop('Страховые выплаты', axis=1)\n",
    "target = data['Страховые выплаты']\n",
    "features_train, features_test, target_train, target_test = train_test_split(\n",
    "    features, target, test_size=0.25, random_state=12345)"
   ]
  },
  {
   "cell_type": "code",
   "execution_count": 9,
   "metadata": {},
   "outputs": [
    {
     "name": "stdout",
     "output_type": "stream",
     "text": [
      "R2_norm = 0.4230772749214825\n"
     ]
    }
   ],
   "source": [
    "model = LinearRegression()\n",
    "scaller = StandardScaler()\n",
    "pipeline = Pipeline([(\"standard_scaller\", scaller),(\"linear_regression\", model)])\n",
    "pipeline.fit(features_train, target_train)\n",
    "R2_norm = r2_score(target_test, pipeline.predict(features_test))\n",
    "print(\"R2_norm =\", R2_norm)"
   ]
  },
  {
   "cell_type": "markdown",
   "metadata": {},
   "source": [
    "Теперь проверим модель на преобразованных данных"
   ]
  },
  {
   "cell_type": "code",
   "execution_count": 10,
   "metadata": {},
   "outputs": [],
   "source": [
    "def convert(features):\n",
    "    n = features.shape[1]\n",
    "    np.random.seed(15)\n",
    "    conv_matrix =  np.random.randint(0, 100, (n,n))\n",
    "    while np.linalg.det(conv_matrix) == 0:\n",
    "        conv_matrix = np.random.randint(0, 100, (n,n))\n",
    "    converted_features = features @ conv_matrix\n",
    "    return converted_features"
   ]
  },
  {
   "cell_type": "code",
   "execution_count": 11,
   "metadata": {},
   "outputs": [
    {
     "data": {
      "text/html": [
       "<div>\n",
       "<style scoped>\n",
       "    .dataframe tbody tr th:only-of-type {\n",
       "        vertical-align: middle;\n",
       "    }\n",
       "\n",
       "    .dataframe tbody tr th {\n",
       "        vertical-align: top;\n",
       "    }\n",
       "\n",
       "    .dataframe thead th {\n",
       "        text-align: right;\n",
       "    }\n",
       "</style>\n",
       "<table border=\"1\" class=\"dataframe\">\n",
       "  <thead>\n",
       "    <tr style=\"text-align: right;\">\n",
       "      <th></th>\n",
       "      <th>Пол</th>\n",
       "      <th>Возраст</th>\n",
       "      <th>Зарплата</th>\n",
       "      <th>Члены семьи</th>\n",
       "    </tr>\n",
       "  </thead>\n",
       "  <tbody>\n",
       "    <tr>\n",
       "      <th>0</th>\n",
       "      <td>1</td>\n",
       "      <td>41</td>\n",
       "      <td>49600.0</td>\n",
       "      <td>1</td>\n",
       "    </tr>\n",
       "    <tr>\n",
       "      <th>1</th>\n",
       "      <td>0</td>\n",
       "      <td>46</td>\n",
       "      <td>38000.0</td>\n",
       "      <td>1</td>\n",
       "    </tr>\n",
       "    <tr>\n",
       "      <th>2</th>\n",
       "      <td>0</td>\n",
       "      <td>29</td>\n",
       "      <td>21000.0</td>\n",
       "      <td>0</td>\n",
       "    </tr>\n",
       "    <tr>\n",
       "      <th>3</th>\n",
       "      <td>0</td>\n",
       "      <td>21</td>\n",
       "      <td>41700.0</td>\n",
       "      <td>2</td>\n",
       "    </tr>\n",
       "    <tr>\n",
       "      <th>4</th>\n",
       "      <td>1</td>\n",
       "      <td>28</td>\n",
       "      <td>26100.0</td>\n",
       "      <td>0</td>\n",
       "    </tr>\n",
       "  </tbody>\n",
       "</table>\n",
       "</div>"
      ],
      "text/plain": [
       "   Пол  Возраст  Зарплата  Члены семьи\n",
       "0    1       41   49600.0            1\n",
       "1    0       46   38000.0            1\n",
       "2    0       29   21000.0            0\n",
       "3    0       21   41700.0            2\n",
       "4    1       28   26100.0            0"
      ]
     },
     "metadata": {},
     "output_type": "display_data"
    },
    {
     "data": {
      "text/html": [
       "<div>\n",
       "<style scoped>\n",
       "    .dataframe tbody tr th:only-of-type {\n",
       "        vertical-align: middle;\n",
       "    }\n",
       "\n",
       "    .dataframe tbody tr th {\n",
       "        vertical-align: top;\n",
       "    }\n",
       "\n",
       "    .dataframe thead th {\n",
       "        text-align: right;\n",
       "    }\n",
       "</style>\n",
       "<table border=\"1\" class=\"dataframe\">\n",
       "  <thead>\n",
       "    <tr style=\"text-align: right;\">\n",
       "      <th></th>\n",
       "      <th>0</th>\n",
       "      <th>1</th>\n",
       "      <th>2</th>\n",
       "      <th>3</th>\n",
       "    </tr>\n",
       "  </thead>\n",
       "  <tbody>\n",
       "    <tr>\n",
       "      <th>0</th>\n",
       "      <td>4217251.0</td>\n",
       "      <td>2332342.0</td>\n",
       "      <td>4615748.0</td>\n",
       "      <td>846337.0</td>\n",
       "    </tr>\n",
       "    <tr>\n",
       "      <th>1</th>\n",
       "      <td>3231319.0</td>\n",
       "      <td>1787265.0</td>\n",
       "      <td>3537298.0</td>\n",
       "      <td>649512.0</td>\n",
       "    </tr>\n",
       "    <tr>\n",
       "      <th>2</th>\n",
       "      <td>1785812.0</td>\n",
       "      <td>987783.0</td>\n",
       "      <td>1955059.0</td>\n",
       "      <td>359175.0</td>\n",
       "    </tr>\n",
       "    <tr>\n",
       "      <th>3</th>\n",
       "      <td>3545150.0</td>\n",
       "      <td>1960513.0</td>\n",
       "      <td>3879655.0</td>\n",
       "      <td>710599.0</td>\n",
       "    </tr>\n",
       "    <tr>\n",
       "      <th>4</th>\n",
       "      <td>2219356.0</td>\n",
       "      <td>1227468.0</td>\n",
       "      <td>2429293.0</td>\n",
       "      <td>445800.0</td>\n",
       "    </tr>\n",
       "  </tbody>\n",
       "</table>\n",
       "</div>"
      ],
      "text/plain": [
       "           0          1          2         3\n",
       "0  4217251.0  2332342.0  4615748.0  846337.0\n",
       "1  3231319.0  1787265.0  3537298.0  649512.0\n",
       "2  1785812.0   987783.0  1955059.0  359175.0\n",
       "3  3545150.0  1960513.0  3879655.0  710599.0\n",
       "4  2219356.0  1227468.0  2429293.0  445800.0"
      ]
     },
     "metadata": {},
     "output_type": "display_data"
    }
   ],
   "source": [
    "converted_features = convert(features)\n",
    "display(features.head())\n",
    "display(converted_features.head())"
   ]
  },
  {
   "cell_type": "code",
   "execution_count": 12,
   "metadata": {},
   "outputs": [],
   "source": [
    "features_train, features_test, target_train, target_test = train_test_split(\n",
    "    converted_features, target, test_size=0.25, random_state=12345)"
   ]
  },
  {
   "cell_type": "code",
   "execution_count": 13,
   "metadata": {},
   "outputs": [
    {
     "name": "stdout",
     "output_type": "stream",
     "text": [
      "R2_conv = 0.4230772749212075\n"
     ]
    }
   ],
   "source": [
    "model_2 = LinearRegression()\n",
    "scaller = StandardScaler()\n",
    "pipeline = Pipeline([(\"standard_scaller\", scaller),(\"linear_regression\", model_2)])\n",
    "pipeline.fit(features_train, target_train)\n",
    "R2_conv = r2_score(target_test, pipeline.predict(features_test))\n",
    "print(\"R2_conv =\", R2_conv)"
   ]
  },
  {
   "cell_type": "code",
   "execution_count": 14,
   "metadata": {},
   "outputs": [
    {
     "data": {
      "text/html": [
       "<div>\n",
       "<style scoped>\n",
       "    .dataframe tbody tr th:only-of-type {\n",
       "        vertical-align: middle;\n",
       "    }\n",
       "\n",
       "    .dataframe tbody tr th {\n",
       "        vertical-align: top;\n",
       "    }\n",
       "\n",
       "    .dataframe thead th {\n",
       "        text-align: right;\n",
       "    }\n",
       "</style>\n",
       "<table border=\"1\" class=\"dataframe\">\n",
       "  <thead>\n",
       "    <tr style=\"text-align: right;\">\n",
       "      <th></th>\n",
       "      <th>R2_score</th>\n",
       "    </tr>\n",
       "  </thead>\n",
       "  <tbody>\n",
       "    <tr>\n",
       "      <th>Линейная регрессия с исходными данными</th>\n",
       "      <td>0.423077</td>\n",
       "    </tr>\n",
       "    <tr>\n",
       "      <th>Линейная регрессия с преобразованными данными данными</th>\n",
       "      <td>0.423077</td>\n",
       "    </tr>\n",
       "  </tbody>\n",
       "</table>\n",
       "</div>"
      ],
      "text/plain": [
       "                                                    R2_score\n",
       "Линейная регрессия с исходными данными              0.423077\n",
       "Линейная регрессия с преобразованными данными д...  0.423077"
      ]
     },
     "execution_count": 14,
     "metadata": {},
     "output_type": "execute_result"
    }
   ],
   "source": [
    "result = pd.DataFrame(data=[R2_norm, R2_conv], \n",
    "                      columns=['R2_score'], \n",
    "                      index=['Линейная регрессия с исходными данными', 'Линейная регрессия с преобразованными данными данными'])\n",
    "result"
   ]
  },
  {
   "cell_type": "markdown",
   "metadata": {},
   "source": [
    "**Вывод: Получили одинаковое значение метрики R2 в двух случаях. Это подтверждает, что домнажение признаков на обратимую матрицу ничего не изменило для обучения, но данные стали более защищенными.**"
   ]
  },
  {
   "cell_type": "markdown",
   "metadata": {},
   "source": [
    "## Общий вывод"
   ]
  },
  {
   "cell_type": "markdown",
   "metadata": {},
   "source": [
    "В данном проекте был проанализированн метод защиты данных путем домножения на обратимую матрицу.\n",
    "В ходе работы были проанализированны и обработанны данные страховой компании \"Хоть потоп\":\n",
    "- Заменен тип столбца `Возраст` на integer\n",
    "- Удаленны дубликаты в таблице\n",
    "\n",
    "Было приведенно математическое обоснование правомерности использования подобного способа защиты данных. Так же был представлен алгоритм для успешной работы метода.\n",
    "\n",
    "Алгоритм был проверенн на предобработанном массиве данных, с применением масштабирования данных.\n",
    "\n",
    "В результате было выясненно, что применение домнажения данных на обратимую матрицу не влияет на работу линейной регрессии. Получены одинаковые значения метрики R2 (0.423077)."
   ]
  }
 ],
 "metadata": {
  "ExecuteTimeLog": [
   {
    "duration": 365,
    "start_time": "2023-05-13T20:20:51.159Z"
   },
   {
    "duration": 108,
    "start_time": "2023-05-13T20:21:10.347Z"
   },
   {
    "duration": 11,
    "start_time": "2023-05-13T20:21:29.477Z"
   },
   {
    "duration": 40,
    "start_time": "2023-05-13T20:21:44.429Z"
   },
   {
    "duration": 37,
    "start_time": "2023-05-13T20:21:54.082Z"
   },
   {
    "duration": 7,
    "start_time": "2023-05-13T20:23:23.381Z"
   },
   {
    "duration": 7,
    "start_time": "2023-05-13T20:23:43.724Z"
   },
   {
    "duration": 9,
    "start_time": "2023-05-13T20:24:54.459Z"
   },
   {
    "duration": 7,
    "start_time": "2023-05-13T20:25:00.989Z"
   },
   {
    "duration": 5,
    "start_time": "2023-05-13T21:23:59.028Z"
   },
   {
    "duration": 13,
    "start_time": "2023-05-13T21:24:07.654Z"
   },
   {
    "duration": 12,
    "start_time": "2023-05-13T21:25:58.643Z"
   },
   {
    "duration": 3,
    "start_time": "2023-05-13T21:29:51.944Z"
   },
   {
    "duration": 36,
    "start_time": "2023-05-13T21:29:52.805Z"
   },
   {
    "duration": 11,
    "start_time": "2023-05-13T21:29:53.712Z"
   },
   {
    "duration": 10,
    "start_time": "2023-05-13T21:29:55.458Z"
   },
   {
    "duration": 6,
    "start_time": "2023-05-13T21:29:57.249Z"
   },
   {
    "duration": 17,
    "start_time": "2023-05-13T21:29:58.392Z"
   },
   {
    "duration": 7,
    "start_time": "2023-05-13T21:30:00.111Z"
   },
   {
    "duration": 1195,
    "start_time": "2023-05-14T09:30:54.698Z"
   },
   {
    "duration": 100,
    "start_time": "2023-05-14T09:30:57.225Z"
   },
   {
    "duration": 13,
    "start_time": "2023-05-14T09:30:57.995Z"
   },
   {
    "duration": 12,
    "start_time": "2023-05-14T09:30:58.948Z"
   },
   {
    "duration": 6,
    "start_time": "2023-05-14T09:30:59.752Z"
   },
   {
    "duration": 10,
    "start_time": "2023-05-14T09:31:00.652Z"
   },
   {
    "duration": 8,
    "start_time": "2023-05-14T09:31:01.612Z"
   },
   {
    "duration": 8,
    "start_time": "2023-05-14T09:31:07.318Z"
   },
   {
    "duration": 15,
    "start_time": "2023-05-14T09:31:09.307Z"
   },
   {
    "duration": 1264,
    "start_time": "2023-05-15T10:55:04.705Z"
   },
   {
    "duration": 3,
    "start_time": "2023-05-15T10:55:20.421Z"
   },
   {
    "duration": 175,
    "start_time": "2023-05-15T10:55:21.029Z"
   },
   {
    "duration": 12,
    "start_time": "2023-05-15T10:55:21.973Z"
   },
   {
    "duration": 18,
    "start_time": "2023-05-15T10:55:22.946Z"
   },
   {
    "duration": 6,
    "start_time": "2023-05-15T10:55:23.787Z"
   },
   {
    "duration": 9,
    "start_time": "2023-05-15T10:55:24.497Z"
   },
   {
    "duration": 5,
    "start_time": "2023-05-15T10:55:25.200Z"
   },
   {
    "duration": 7,
    "start_time": "2023-05-15T10:55:29.867Z"
   },
   {
    "duration": 14,
    "start_time": "2023-05-15T10:55:30.879Z"
   },
   {
    "duration": 4,
    "start_time": "2023-05-15T10:55:33.372Z"
   },
   {
    "duration": 140,
    "start_time": "2023-05-15T10:56:20.344Z"
   },
   {
    "duration": 4,
    "start_time": "2023-05-15T10:56:28.703Z"
   },
   {
    "duration": 2396,
    "start_time": "2023-05-15T10:56:29.908Z"
   },
   {
    "duration": 4,
    "start_time": "2023-05-15T10:56:46.619Z"
   },
   {
    "duration": 19,
    "start_time": "2023-05-15T10:56:48.495Z"
   },
   {
    "duration": 5,
    "start_time": "2023-05-15T11:02:17.201Z"
   },
   {
    "duration": 14,
    "start_time": "2023-05-15T11:23:06.679Z"
   },
   {
    "duration": 13,
    "start_time": "2023-05-15T11:23:36.932Z"
   },
   {
    "duration": 18,
    "start_time": "2023-05-15T11:24:40.174Z"
   },
   {
    "duration": 18,
    "start_time": "2023-05-15T11:24:47.937Z"
   },
   {
    "duration": 112,
    "start_time": "2023-05-15T11:29:10.483Z"
   },
   {
    "duration": 4,
    "start_time": "2023-05-15T11:29:14.835Z"
   },
   {
    "duration": 7,
    "start_time": "2023-05-15T11:29:25.127Z"
   },
   {
    "duration": 1220,
    "start_time": "2023-05-16T13:22:39.951Z"
   },
   {
    "duration": 132,
    "start_time": "2023-05-16T13:22:41.173Z"
   },
   {
    "duration": 15,
    "start_time": "2023-05-16T13:22:41.306Z"
   },
   {
    "duration": 12,
    "start_time": "2023-05-16T13:22:41.323Z"
   },
   {
    "duration": 6,
    "start_time": "2023-05-16T13:22:41.337Z"
   },
   {
    "duration": 9,
    "start_time": "2023-05-16T13:22:41.345Z"
   },
   {
    "duration": 6,
    "start_time": "2023-05-16T13:22:41.355Z"
   },
   {
    "duration": 19,
    "start_time": "2023-05-16T13:22:41.381Z"
   },
   {
    "duration": 17,
    "start_time": "2023-05-16T13:22:41.406Z"
   },
   {
    "duration": 4,
    "start_time": "2023-05-16T13:22:41.425Z"
   },
   {
    "duration": 21,
    "start_time": "2023-05-16T13:22:41.430Z"
   },
   {
    "duration": 7,
    "start_time": "2023-05-16T13:22:41.452Z"
   },
   {
    "duration": 27,
    "start_time": "2023-05-16T13:22:41.460Z"
   },
   {
    "duration": 11,
    "start_time": "2023-05-16T13:22:41.490Z"
   },
   {
    "duration": 2534,
    "start_time": "2023-05-17T07:53:15.093Z"
   },
   {
    "duration": 104,
    "start_time": "2023-05-17T07:53:17.629Z"
   },
   {
    "duration": 11,
    "start_time": "2023-05-17T07:53:17.734Z"
   },
   {
    "duration": 12,
    "start_time": "2023-05-17T07:53:17.747Z"
   },
   {
    "duration": 5,
    "start_time": "2023-05-17T07:53:17.761Z"
   },
   {
    "duration": 7,
    "start_time": "2023-05-17T07:53:17.768Z"
   },
   {
    "duration": 8,
    "start_time": "2023-05-17T07:53:17.776Z"
   },
   {
    "duration": 29,
    "start_time": "2023-05-17T07:53:17.786Z"
   },
   {
    "duration": 16,
    "start_time": "2023-05-17T07:53:17.816Z"
   },
   {
    "duration": 4,
    "start_time": "2023-05-17T07:53:17.834Z"
   },
   {
    "duration": 20,
    "start_time": "2023-05-17T07:53:17.839Z"
   },
   {
    "duration": 4,
    "start_time": "2023-05-17T07:53:17.860Z"
   },
   {
    "duration": 10,
    "start_time": "2023-05-17T07:53:17.865Z"
   },
   {
    "duration": 9,
    "start_time": "2023-05-17T07:53:17.877Z"
   },
   {
    "duration": 1279,
    "start_time": "2023-05-17T13:06:45.812Z"
   },
   {
    "duration": 115,
    "start_time": "2023-05-17T13:06:47.094Z"
   },
   {
    "duration": 15,
    "start_time": "2023-05-17T13:06:48.546Z"
   },
   {
    "duration": 14,
    "start_time": "2023-05-17T13:06:50.251Z"
   },
   {
    "duration": 32,
    "start_time": "2023-05-17T13:06:52.204Z"
   },
   {
    "duration": 7,
    "start_time": "2023-05-17T13:07:04.615Z"
   },
   {
    "duration": 10,
    "start_time": "2023-05-17T13:07:05.783Z"
   },
   {
    "duration": 9,
    "start_time": "2023-05-17T13:07:06.984Z"
   }
  ],
  "kernelspec": {
   "display_name": "Python 3 (ipykernel)",
   "language": "python",
   "name": "python3"
  },
  "language_info": {
   "codemirror_mode": {
    "name": "ipython",
    "version": 3
   },
   "file_extension": ".py",
   "mimetype": "text/x-python",
   "name": "python",
   "nbconvert_exporter": "python",
   "pygments_lexer": "ipython3",
   "version": "3.10.9"
  },
  "toc": {
   "base_numbering": 1,
   "nav_menu": {},
   "number_sections": true,
   "sideBar": true,
   "skip_h1_title": true,
   "title_cell": "Содержание",
   "title_sidebar": "Contents",
   "toc_cell": true,
   "toc_position": {},
   "toc_section_display": true,
   "toc_window_display": true
  }
 },
 "nbformat": 4,
 "nbformat_minor": 2
}
