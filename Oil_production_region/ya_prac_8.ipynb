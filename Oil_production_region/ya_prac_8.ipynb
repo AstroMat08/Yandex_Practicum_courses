{
 "cells": [
  {
   "cell_type": "markdown",
   "metadata": {},
   "source": [
    "# Выбор локации для скважины"
   ]
  },
  {
   "cell_type": "markdown",
   "metadata": {},
   "source": [
    "Допустим, вы работаете в добывающей компании «ГлавРосГосНефть». Нужно решить, где бурить новую скважину.\n",
    "\n",
    "Вам предоставлены пробы нефти в трёх регионах: в каждом 10 000 месторождений, где измерили качество нефти и объём её запасов. Постройте модель машинного обучения, которая поможет определить регион, где добыча принесёт наибольшую прибыль. Проанализируйте возможную прибыль и риски техникой *Bootstrap.*\n",
    "\n",
    "Шаги для выбора локации:\n",
    "\n",
    "- В избранном регионе ищут месторождения, для каждого определяют значения признаков;\n",
    "- Строят модель и оценивают объём запасов;\n",
    "- Выбирают месторождения с самым высокими оценками значений. Количество месторождений зависит от бюджета компании и стоимости разработки одной скважины;\n",
    "- Прибыль равна суммарной прибыли отобранных месторождений."
   ]
  },
  {
   "cell_type": "markdown",
   "metadata": {},
   "source": [
    "## Загрузка и подготовка данных"
   ]
  },
  {
   "cell_type": "code",
   "execution_count": 79,
   "metadata": {},
   "outputs": [],
   "source": [
    "import pandas as pd\n",
    "import numpy as np\n",
    "from scipy import stats as st\n",
    "from sklearn.model_selection import train_test_split\n",
    "from sklearn.linear_model import LinearRegression\n",
    "from sklearn.metrics import mean_squared_error"
   ]
  },
  {
   "cell_type": "code",
   "execution_count": 47,
   "metadata": {},
   "outputs": [],
   "source": [
    "data_0 = pd.read_csv('/datasets/geo_data_0.csv')\n",
    "data_1 = pd.read_csv('/datasets/geo_data_1.csv')\n",
    "data_2 = pd.read_csv('/datasets/geo_data_2.csv')\n",
    "datas = [data_0, data_1, data_2]"
   ]
  },
  {
   "cell_type": "markdown",
   "metadata": {},
   "source": [
    "Посмотрим, как выгядят данные:"
   ]
  },
  {
   "cell_type": "code",
   "execution_count": 48,
   "metadata": {},
   "outputs": [
    {
     "name": "stdout",
     "output_type": "stream",
     "text": [
      "      id        f0        f1        f2     product\n",
      "0  txEyH  0.705745 -0.497823  1.221170  105.280062\n",
      "1  2acmU  1.334711 -0.340164  4.365080   73.037750\n",
      "2  409Wp  1.022732  0.151990  1.419926   85.265647\n",
      "3  iJLyR -0.032172  0.139033  2.978566  168.620776\n",
      "4  Xdl7t  1.988431  0.155413  4.751769  154.036647\n",
      "      id         f0         f1        f2     product\n",
      "0  kBEdx -15.001348  -8.276000 -0.005876    3.179103\n",
      "1  62mP7  14.272088  -3.475083  0.999183   26.953261\n",
      "2  vyE1P   6.263187  -5.948386  5.001160  134.766305\n",
      "3  KcrkZ -13.081196 -11.506057  4.999415  137.945408\n",
      "4  AHL4O  12.702195  -8.147433  5.004363  134.766305\n",
      "      id        f0        f1        f2     product\n",
      "0  fwXo0 -1.146987  0.963328 -0.828965   27.758673\n",
      "1  WJtFt  0.262778  0.269839 -2.530187   56.069697\n",
      "2  ovLUW  0.194587  0.289035 -5.586433   62.871910\n",
      "3  q6cA6  2.236060 -0.553760  0.930038  114.572842\n",
      "4  WPMUX -0.515993  1.716266  5.899011  149.600746\n"
     ]
    }
   ],
   "source": [
    "for data in datas:\n",
    "    print(data.head(5))"
   ]
  },
  {
   "cell_type": "code",
   "execution_count": 49,
   "metadata": {},
   "outputs": [
    {
     "name": "stdout",
     "output_type": "stream",
     "text": [
      "<class 'pandas.core.frame.DataFrame'>\n",
      "RangeIndex: 100000 entries, 0 to 99999\n",
      "Data columns (total 5 columns):\n",
      " #   Column   Non-Null Count   Dtype  \n",
      "---  ------   --------------   -----  \n",
      " 0   id       100000 non-null  object \n",
      " 1   f0       100000 non-null  float64\n",
      " 2   f1       100000 non-null  float64\n",
      " 3   f2       100000 non-null  float64\n",
      " 4   product  100000 non-null  float64\n",
      "dtypes: float64(4), object(1)\n",
      "memory usage: 3.8+ MB\n",
      "None\n",
      "<class 'pandas.core.frame.DataFrame'>\n",
      "RangeIndex: 100000 entries, 0 to 99999\n",
      "Data columns (total 5 columns):\n",
      " #   Column   Non-Null Count   Dtype  \n",
      "---  ------   --------------   -----  \n",
      " 0   id       100000 non-null  object \n",
      " 1   f0       100000 non-null  float64\n",
      " 2   f1       100000 non-null  float64\n",
      " 3   f2       100000 non-null  float64\n",
      " 4   product  100000 non-null  float64\n",
      "dtypes: float64(4), object(1)\n",
      "memory usage: 3.8+ MB\n",
      "None\n",
      "<class 'pandas.core.frame.DataFrame'>\n",
      "RangeIndex: 100000 entries, 0 to 99999\n",
      "Data columns (total 5 columns):\n",
      " #   Column   Non-Null Count   Dtype  \n",
      "---  ------   --------------   -----  \n",
      " 0   id       100000 non-null  object \n",
      " 1   f0       100000 non-null  float64\n",
      " 2   f1       100000 non-null  float64\n",
      " 3   f2       100000 non-null  float64\n",
      " 4   product  100000 non-null  float64\n",
      "dtypes: float64(4), object(1)\n",
      "memory usage: 3.8+ MB\n",
      "None\n"
     ]
    }
   ],
   "source": [
    "for data in datas:\n",
    "    print(data.info())"
   ]
  },
  {
   "cell_type": "markdown",
   "metadata": {},
   "source": [
    "Видно, что у всех столбцов правильные типы данных"
   ]
  },
  {
   "cell_type": "markdown",
   "metadata": {},
   "source": [
    "Посчитаем колличество дубликатов:"
   ]
  },
  {
   "cell_type": "code",
   "execution_count": 50,
   "metadata": {},
   "outputs": [
    {
     "name": "stdout",
     "output_type": "stream",
     "text": [
      "0\n",
      "0\n",
      "0\n"
     ]
    }
   ],
   "source": [
    "for data in datas:\n",
    "    print(data.duplicated().sum())"
   ]
  },
  {
   "cell_type": "markdown",
   "metadata": {},
   "source": [
    "Найдем количество пропусков:"
   ]
  },
  {
   "cell_type": "code",
   "execution_count": 51,
   "metadata": {},
   "outputs": [
    {
     "name": "stdout",
     "output_type": "stream",
     "text": [
      "id         0\n",
      "f0         0\n",
      "f1         0\n",
      "f2         0\n",
      "product    0\n",
      "dtype: int64\n",
      "id         0\n",
      "f0         0\n",
      "f1         0\n",
      "f2         0\n",
      "product    0\n",
      "dtype: int64\n",
      "id         0\n",
      "f0         0\n",
      "f1         0\n",
      "f2         0\n",
      "product    0\n",
      "dtype: int64\n"
     ]
    }
   ],
   "source": [
    "for data in datas:\n",
    "    print(data.isnull().sum())"
   ]
  },
  {
   "cell_type": "markdown",
   "metadata": {},
   "source": [
    "Поосмотрим, все ли `id` в таблицах уникальны: "
   ]
  },
  {
   "cell_type": "code",
   "execution_count": 52,
   "metadata": {},
   "outputs": [
    {
     "name": "stdout",
     "output_type": "stream",
     "text": [
      "99990\n",
      "99996\n",
      "99996\n"
     ]
    }
   ],
   "source": [
    "for data in datas:\n",
    "    print(len(data['id'].unique()))"
   ]
  },
  {
   "cell_type": "code",
   "execution_count": 53,
   "metadata": {},
   "outputs": [],
   "source": [
    "for i in range(3):\n",
    "    datas[i] = datas[i].drop_duplicates(subset=['id']).reset_index(drop=True)\n",
    "    datas[i] = datas[i].drop(['id'], axis=1)"
   ]
  },
  {
   "cell_type": "markdown",
   "metadata": {},
   "source": [
    "## Обучение и проверка модели"
   ]
  },
  {
   "cell_type": "code",
   "execution_count": 54,
   "metadata": {},
   "outputs": [],
   "source": [
    "def make_pred(data):\n",
    "    features = data.drop(['id', 'product'], axis = 1)\n",
    "    target = data['product']\n",
    "    features_train, features_valid, target_train, target_valid = train_test_split(features, target, test_size=.25, random_state=12345)\n",
    "    model = LinearRegression()\n",
    "    model.fit(features_train, target_train)\n",
    "    return target_valid, pd.Series(model.predict(features_valid))\n",
    "\n",
    "def mean_rmse (target, predictions):\n",
    "    mse = mean_squared_error(target, predictions)\n",
    "    print('Средний запас сырья:', predictions.mean())\n",
    "    print('RMSE:', mse ** 0.5)"
   ]
  },
  {
   "cell_type": "code",
   "execution_count": 55,
   "metadata": {},
   "outputs": [],
   "source": [
    "target_0, predict_0 = make_pred(data_0)\n",
    "target_1, predict_1 = make_pred(data_1) \n",
    "target_2, predict_2 = make_pred(data_2)"
   ]
  },
  {
   "cell_type": "code",
   "execution_count": 57,
   "metadata": {},
   "outputs": [
    {
     "name": "stdout",
     "output_type": "stream",
     "text": [
      "Регион 0:\n",
      "Средний запас сырья: 92.59256778438035\n",
      "RMSE: 37.5794217150813\n",
      "Регион 1:\n",
      "Средний запас сырья: 68.728546895446\n",
      "RMSE: 0.893099286775617\n",
      "Регион 2:\n",
      "Средний запас сырья: 94.96504596800489\n",
      "RMSE: 40.02970873393434\n"
     ]
    }
   ],
   "source": [
    "print('Регион 0:')\n",
    "mean_rmse(target_0, predict_0)\n",
    "print('Регион 1:')\n",
    "mean_rmse(target_1, predict_1)\n",
    "print('Регион 2:')\n",
    "mean_rmse(target_2, predict_2)"
   ]
  },
  {
   "cell_type": "markdown",
   "metadata": {},
   "source": [
    "**Вывод: Самое низкое значение RMSE получилось у региона 1**"
   ]
  },
  {
   "cell_type": "markdown",
   "metadata": {},
   "source": [
    "## Подготовка к расчёту прибыли"
   ]
  },
  {
   "cell_type": "code",
   "execution_count": 80,
   "metadata": {},
   "outputs": [],
   "source": [
    "budget = 10**10\n",
    "N_samples = 500\n",
    "N_best_samples = 200\n",
    "income_from_one = 450000\n",
    "state = np.random.RandomState(12345)"
   ]
  },
  {
   "cell_type": "code",
   "execution_count": 59,
   "metadata": {},
   "outputs": [
    {
     "name": "stdout",
     "output_type": "stream",
     "text": [
      "Достаточный объём добычи для безубыточной разработки(тыс. баррелей): 111.11111111111111\n"
     ]
    }
   ],
   "source": [
    "budget_for_one = budget/N_best_samples\n",
    "barrels = budget_for_one/income_from_one\n",
    "print('Достаточный объём добычи для безубыточной разработки(тыс. баррелей):', barrels)"
   ]
  },
  {
   "cell_type": "markdown",
   "metadata": {},
   "source": [
    "Получим средний истинный запас сырья в регионах:"
   ]
  },
  {
   "cell_type": "code",
   "execution_count": 60,
   "metadata": {},
   "outputs": [
    {
     "name": "stdout",
     "output_type": "stream",
     "text": [
      "Регион 0 : 92.07859674082927\n",
      "Регион 1 : 68.72313602435997\n",
      "Регион 2 : 94.88423280885438\n"
     ]
    }
   ],
   "source": [
    "targets = [target_0, target_1, target_2]\n",
    "count = 0\n",
    "for target in targets:\n",
    "    print('Регион', count,':', target.mean())\n",
    "    count += 1"
   ]
  },
  {
   "cell_type": "code",
   "execution_count": 61,
   "metadata": {},
   "outputs": [],
   "source": [
    "def income(target, prediction):\n",
    "    target = pd.Series(target).reset_index(drop=True)\n",
    "    prediction = pd.Series(prediction).reset_index(drop=True)\n",
    "    pred_sorted = prediction.sort_values(ascending=False)\n",
    "    selected = target[pred_sorted.index][:N_best_samples]\n",
    "    return ((income_from_one * selected.sum()) - budget)/10**9"
   ]
  },
  {
   "cell_type": "code",
   "execution_count": 62,
   "metadata": {},
   "outputs": [
    {
     "name": "stdout",
     "output_type": "stream",
     "text": [
      "Регион 0 (млрд): 3.3208260431398506\n"
     ]
    }
   ],
   "source": [
    "zero_rev = income(target_0, predict_0)\n",
    "print('Регион 0 (млрд):', zero_rev)"
   ]
  },
  {
   "cell_type": "code",
   "execution_count": 63,
   "metadata": {},
   "outputs": [
    {
     "name": "stdout",
     "output_type": "stream",
     "text": [
      "Регион 1 (млрд): 2.4150866966815108\n"
     ]
    }
   ],
   "source": [
    "first_rev = income(target_1, predict_1)\n",
    "print('Регион 1 (млрд):', first_rev)"
   ]
  },
  {
   "cell_type": "code",
   "execution_count": 64,
   "metadata": {},
   "outputs": [
    {
     "name": "stdout",
     "output_type": "stream",
     "text": [
      "Регион 2 (млрд): 2.7103499635998327\n"
     ]
    }
   ],
   "source": [
    "second_rev = income(target_2, predict_2)\n",
    "print('Регион 2 (млрд):', second_rev)"
   ]
  },
  {
   "cell_type": "markdown",
   "metadata": {},
   "source": [
    "**Вывод: Самая большая прибыль получилась у региона 0**"
   ]
  },
  {
   "cell_type": "markdown",
   "metadata": {},
   "source": [
    "## Расчёт прибыли и рисков "
   ]
  },
  {
   "cell_type": "code",
   "execution_count": 83,
   "metadata": {},
   "outputs": [],
   "source": [
    "def bootstrap_method(target, predict):\n",
    "    target = target.reset_index(drop=True)\n",
    "    values = []\n",
    "    for i in range(1000):\n",
    "        target_subsample = target.sample(n=500, replace=True, random_state=state)\n",
    "        pred_subsample = predict[target_subsample.index]\n",
    "        inc = income(target_subsample, pred_subsample)\n",
    "        values.append(inc)\n",
    "    q = 0.025\n",
    "    values = pd.Series(values)\n",
    "    lower = values.quantile(q)\n",
    "    upper = values.quantile(1-q)\n",
    "    interval = (lower, upper)\n",
    "    mean = values.mean()\n",
    "\n",
    "    print(\"Средняя выручка:\", mean)\n",
    "    print(\"2.5%-квантиль:\", lower)\n",
    "    print(\"Доверительный интервал:\", interval)\n",
    "    print(\"Риск убытка:\", (values < 0).mean())"
   ]
  },
  {
   "cell_type": "code",
   "execution_count": 84,
   "metadata": {},
   "outputs": [
    {
     "name": "stdout",
     "output_type": "stream",
     "text": [
      "Средняя выручка: 0.3917836773766987\n",
      "2.5%-квантиль: -0.14296964876776613\n",
      "Доверительный интервал: (-0.14296964876776613, 0.8885694803482205)\n",
      "Риск убытка: 0.07\n"
     ]
    }
   ],
   "source": [
    "bootstrap_method(target_0, predict_0)"
   ]
  },
  {
   "cell_type": "code",
   "execution_count": 85,
   "metadata": {},
   "outputs": [
    {
     "name": "stdout",
     "output_type": "stream",
     "text": [
      "Средняя выручка: 0.44709548279391526\n",
      "2.5%-квантиль: 0.08157909628715802\n",
      "Доверительный интервал: (0.08157909628715802, 0.8360008725599576)\n",
      "Риск убытка: 0.012\n"
     ]
    }
   ],
   "source": [
    "bootstrap_method(target_1, predict_1)"
   ]
  },
  {
   "cell_type": "code",
   "execution_count": 86,
   "metadata": {},
   "outputs": [
    {
     "name": "stdout",
     "output_type": "stream",
     "text": [
      "Средняя выручка: 0.39532925955399834\n",
      "2.5%-квантиль: -0.08941872554356879\n",
      "Доверительный интервал: (-0.08941872554356879, 0.8872274522582164)\n",
      "Риск убытка: 0.057\n"
     ]
    }
   ],
   "source": [
    "bootstrap_method(target_2, predict_2)"
   ]
  },
  {
   "cell_type": "markdown",
   "metadata": {},
   "source": [
    "**Вывод: Наименьший риск убытка получился для Региона 1.**"
   ]
  },
  {
   "cell_type": "markdown",
   "metadata": {},
   "source": [
    "## Общий вывод"
   ]
  },
  {
   "cell_type": "markdown",
   "metadata": {},
   "source": [
    "**Получили следующие данные по регионам:** \\\n",
    "**RMSE:** \n",
    "- Регион 1 (0.893099286775617)\n",
    "- Регион 0 (37.5794217150813)\n",
    "- Регион 2 (40.02970873393434)\n",
    "\n",
    "**Риск убытка:**\n",
    "- Регион 1 (0.012)\n",
    "- Регион 2 (0.057)\n",
    "- Регион 0 (0.07)\n",
    "\n",
    "**Из полученных данных можно сделать вывод, что лучшим регионом для разработки является Регион 1**"
   ]
  }
 ],
 "metadata": {
  "ExecuteTimeLog": [
   {
    "duration": 431,
    "start_time": "2023-04-19T17:54:54.643Z"
   },
   {
    "duration": 2689,
    "start_time": "2023-04-19T17:54:56.354Z"
   },
   {
    "duration": 14,
    "start_time": "2023-04-19T17:57:56.618Z"
   },
   {
    "duration": 8,
    "start_time": "2023-04-19T17:58:46.526Z"
   },
   {
    "duration": 12,
    "start_time": "2023-04-19T17:58:56.581Z"
   },
   {
    "duration": 29,
    "start_time": "2023-04-19T18:04:08.512Z"
   },
   {
    "duration": 30,
    "start_time": "2023-04-19T18:04:26.406Z"
   },
   {
    "duration": 24,
    "start_time": "2023-04-19T18:04:42.713Z"
   },
   {
    "duration": 81,
    "start_time": "2023-04-19T18:10:50.687Z"
   },
   {
    "duration": 655,
    "start_time": "2023-04-19T18:10:53.401Z"
   },
   {
    "duration": 10,
    "start_time": "2023-04-19T18:10:55.057Z"
   },
   {
    "duration": 28,
    "start_time": "2023-04-19T18:11:21.680Z"
   },
   {
    "duration": 50,
    "start_time": "2023-04-19T18:12:04.977Z"
   },
   {
    "duration": 10,
    "start_time": "2023-04-19T18:12:32.650Z"
   },
   {
    "duration": 119,
    "start_time": "2023-04-19T18:12:43.908Z"
   },
   {
    "duration": 33,
    "start_time": "2023-04-19T18:14:37.375Z"
   },
   {
    "duration": 43,
    "start_time": "2023-04-19T18:18:56.129Z"
   },
   {
    "duration": 46,
    "start_time": "2023-04-19T18:26:45.314Z"
   },
   {
    "duration": 89,
    "start_time": "2023-04-19T18:29:52.863Z"
   },
   {
    "duration": 941,
    "start_time": "2023-04-19T18:33:14.789Z"
   },
   {
    "duration": 7,
    "start_time": "2023-04-19T19:01:45.122Z"
   },
   {
    "duration": 15,
    "start_time": "2023-04-19T19:02:52.036Z"
   },
   {
    "duration": 954,
    "start_time": "2023-04-19T19:02:56.199Z"
   },
   {
    "duration": 71,
    "start_time": "2023-04-19T19:03:01.212Z"
   },
   {
    "duration": 9,
    "start_time": "2023-04-19T19:03:15.484Z"
   },
   {
    "duration": 80,
    "start_time": "2023-04-19T19:03:18.601Z"
   },
   {
    "duration": 3,
    "start_time": "2023-04-19T19:03:32.548Z"
   },
   {
    "duration": 157,
    "start_time": "2023-04-19T19:03:34.940Z"
   },
   {
    "duration": 5,
    "start_time": "2023-04-19T19:16:41.413Z"
   },
   {
    "duration": 330,
    "start_time": "2023-04-19T19:16:42.980Z"
   },
   {
    "duration": 16,
    "start_time": "2023-04-19T19:17:43.049Z"
   },
   {
    "duration": 17,
    "start_time": "2023-04-19T19:17:48.381Z"
   },
   {
    "duration": 10,
    "start_time": "2023-04-19T19:17:50.312Z"
   },
   {
    "duration": 15,
    "start_time": "2023-04-19T19:18:51.680Z"
   },
   {
    "duration": 4,
    "start_time": "2023-04-19T19:46:58.922Z"
   },
   {
    "duration": 3,
    "start_time": "2023-04-19T19:50:18.011Z"
   },
   {
    "duration": 16,
    "start_time": "2023-04-19T19:54:08.514Z"
   },
   {
    "duration": 4,
    "start_time": "2023-04-19T19:54:11.326Z"
   },
   {
    "duration": 16,
    "start_time": "2023-04-19T19:54:12.812Z"
   },
   {
    "duration": 5,
    "start_time": "2023-04-19T19:54:19.821Z"
   },
   {
    "duration": 4,
    "start_time": "2023-04-19T19:54:46.733Z"
   },
   {
    "duration": 8,
    "start_time": "2023-04-19T19:59:07.311Z"
   },
   {
    "duration": 14,
    "start_time": "2023-04-19T19:59:16.455Z"
   },
   {
    "duration": 11,
    "start_time": "2023-04-19T19:59:24.029Z"
   },
   {
    "duration": 10,
    "start_time": "2023-04-20T09:04:10.870Z"
   },
   {
    "duration": 1141,
    "start_time": "2023-04-20T09:04:27.694Z"
   },
   {
    "duration": 931,
    "start_time": "2023-04-20T09:04:28.837Z"
   },
   {
    "duration": 12,
    "start_time": "2023-04-20T09:04:29.769Z"
   },
   {
    "duration": 35,
    "start_time": "2023-04-20T09:04:29.783Z"
   },
   {
    "duration": 134,
    "start_time": "2023-04-20T09:04:29.821Z"
   },
   {
    "duration": 20,
    "start_time": "2023-04-20T09:04:29.957Z"
   },
   {
    "duration": 54,
    "start_time": "2023-04-20T09:04:29.978Z"
   },
   {
    "duration": 93,
    "start_time": "2023-04-20T09:04:30.034Z"
   },
   {
    "duration": 4,
    "start_time": "2023-04-20T09:04:30.129Z"
   },
   {
    "duration": 290,
    "start_time": "2023-04-20T09:04:30.135Z"
   },
   {
    "duration": 94,
    "start_time": "2023-04-20T09:04:30.427Z"
   },
   {
    "duration": 170,
    "start_time": "2023-04-20T09:04:30.523Z"
   },
   {
    "duration": 65,
    "start_time": "2023-04-20T09:04:30.695Z"
   },
   {
    "duration": 38,
    "start_time": "2023-04-20T09:04:30.763Z"
   },
   {
    "duration": 4,
    "start_time": "2023-04-20T09:04:33.313Z"
   },
   {
    "duration": 120,
    "start_time": "2023-04-20T09:06:23.131Z"
   },
   {
    "duration": 4,
    "start_time": "2023-04-20T09:06:30.700Z"
   },
   {
    "duration": 8,
    "start_time": "2023-04-20T09:06:31.429Z"
   },
   {
    "duration": 7,
    "start_time": "2023-04-20T09:07:03.868Z"
   },
   {
    "duration": 9,
    "start_time": "2023-04-20T09:08:12.091Z"
   },
   {
    "duration": 10,
    "start_time": "2023-04-20T09:08:45.643Z"
   },
   {
    "duration": 9,
    "start_time": "2023-04-20T09:08:56.056Z"
   },
   {
    "duration": 9,
    "start_time": "2023-04-20T09:09:00.737Z"
   },
   {
    "duration": 9,
    "start_time": "2023-04-20T09:09:25.290Z"
   },
   {
    "duration": 9,
    "start_time": "2023-04-20T09:19:11.446Z"
   },
   {
    "duration": 9,
    "start_time": "2023-04-20T13:05:47.027Z"
   },
   {
    "duration": 5,
    "start_time": "2023-04-20T13:05:54.464Z"
   },
   {
    "duration": 9,
    "start_time": "2023-04-20T13:05:55.342Z"
   },
   {
    "duration": 13,
    "start_time": "2023-04-20T13:06:08.823Z"
   },
   {
    "duration": 6,
    "start_time": "2023-04-20T13:06:20.294Z"
   },
   {
    "duration": 1745,
    "start_time": "2023-04-20T13:06:21.060Z"
   },
   {
    "duration": 4,
    "start_time": "2023-04-20T13:42:14.585Z"
   },
   {
    "duration": 9,
    "start_time": "2023-04-20T13:42:15.116Z"
   },
   {
    "duration": 9,
    "start_time": "2023-04-20T13:42:15.579Z"
   },
   {
    "duration": 9,
    "start_time": "2023-04-20T13:42:15.995Z"
   },
   {
    "duration": 6,
    "start_time": "2023-04-20T13:42:18.934Z"
   },
   {
    "duration": 1661,
    "start_time": "2023-04-20T13:42:19.921Z"
   },
   {
    "duration": 8,
    "start_time": "2023-04-20T13:47:49.283Z"
   },
   {
    "duration": 1580,
    "start_time": "2023-04-20T13:47:50.354Z"
   },
   {
    "duration": 1568,
    "start_time": "2023-04-20T13:48:10.102Z"
   },
   {
    "duration": 1573,
    "start_time": "2023-04-20T13:50:45.898Z"
   },
   {
    "duration": 4,
    "start_time": "2023-04-20T13:52:15.450Z"
   },
   {
    "duration": 1588,
    "start_time": "2023-04-20T13:52:16.183Z"
   },
   {
    "duration": 1558,
    "start_time": "2023-04-20T13:52:18.838Z"
   },
   {
    "duration": 3,
    "start_time": "2023-04-20T13:56:23.128Z"
   },
   {
    "duration": 410,
    "start_time": "2023-04-20T13:56:23.473Z"
   },
   {
    "duration": 14,
    "start_time": "2023-04-20T13:56:25.335Z"
   },
   {
    "duration": 36,
    "start_time": "2023-04-20T13:56:26.231Z"
   },
   {
    "duration": 141,
    "start_time": "2023-04-20T13:56:28.297Z"
   },
   {
    "duration": 22,
    "start_time": "2023-04-20T13:56:29.645Z"
   },
   {
    "duration": 53,
    "start_time": "2023-04-20T13:56:30.894Z"
   },
   {
    "duration": 70,
    "start_time": "2023-04-20T13:56:32.363Z"
   },
   {
    "duration": 5,
    "start_time": "2023-04-20T13:56:33.932Z"
   },
   {
    "duration": 302,
    "start_time": "2023-04-20T13:56:35.318Z"
   },
   {
    "duration": 7,
    "start_time": "2023-04-20T13:56:37.158Z"
   },
   {
    "duration": 10,
    "start_time": "2023-04-20T13:56:52.452Z"
   },
   {
    "duration": 5,
    "start_time": "2023-04-20T13:56:55.631Z"
   },
   {
    "duration": 5,
    "start_time": "2023-04-20T13:56:58.028Z"
   },
   {
    "duration": 5,
    "start_time": "2023-04-20T13:57:00.384Z"
   },
   {
    "duration": 5,
    "start_time": "2023-04-20T13:57:01.436Z"
   },
   {
    "duration": 9,
    "start_time": "2023-04-20T13:57:02.375Z"
   },
   {
    "duration": 9,
    "start_time": "2023-04-20T13:57:03.582Z"
   },
   {
    "duration": 12,
    "start_time": "2023-04-20T13:57:04.409Z"
   },
   {
    "duration": 5,
    "start_time": "2023-04-20T13:57:10.400Z"
   },
   {
    "duration": 1669,
    "start_time": "2023-04-20T13:57:16.322Z"
   },
   {
    "duration": 7,
    "start_time": "2023-04-20T14:06:39.163Z"
   },
   {
    "duration": 1658,
    "start_time": "2023-04-20T14:06:41.629Z"
   },
   {
    "duration": 5,
    "start_time": "2023-04-20T14:07:40.892Z"
   },
   {
    "duration": 1723,
    "start_time": "2023-04-20T14:07:42.640Z"
   },
   {
    "duration": 6,
    "start_time": "2023-04-20T14:08:08.035Z"
   },
   {
    "duration": 1803,
    "start_time": "2023-04-20T14:08:08.935Z"
   },
   {
    "duration": 8,
    "start_time": "2023-04-20T14:09:55.325Z"
   },
   {
    "duration": 27,
    "start_time": "2023-04-20T14:09:56.715Z"
   },
   {
    "duration": 5,
    "start_time": "2023-04-20T14:11:23.190Z"
   },
   {
    "duration": 1695,
    "start_time": "2023-04-20T14:11:25.309Z"
   },
   {
    "duration": 7,
    "start_time": "2023-04-20T14:11:52.644Z"
   },
   {
    "duration": 1529,
    "start_time": "2023-04-20T14:11:59.341Z"
   },
   {
    "duration": 4,
    "start_time": "2023-04-20T14:13:23.426Z"
   },
   {
    "duration": 3,
    "start_time": "2023-04-20T14:13:29.350Z"
   },
   {
    "duration": 5,
    "start_time": "2023-04-20T14:13:38.150Z"
   },
   {
    "duration": 1292,
    "start_time": "2023-04-20T14:13:39.388Z"
   },
   {
    "duration": 8,
    "start_time": "2023-04-20T14:13:54.528Z"
   },
   {
    "duration": 1326,
    "start_time": "2023-04-20T14:13:56.033Z"
   },
   {
    "duration": 1182,
    "start_time": "2023-04-20T14:13:58.297Z"
   },
   {
    "duration": 1308,
    "start_time": "2023-04-20T14:14:00.497Z"
   }
  ],
  "kernelspec": {
   "display_name": "Python 3 (ipykernel)",
   "language": "python",
   "name": "python3"
  },
  "language_info": {
   "codemirror_mode": {
    "name": "ipython",
    "version": 3
   },
   "file_extension": ".py",
   "mimetype": "text/x-python",
   "name": "python",
   "nbconvert_exporter": "python",
   "pygments_lexer": "ipython3",
   "version": "3.10.9"
  },
  "toc": {
   "base_numbering": 1,
   "nav_menu": {},
   "number_sections": true,
   "sideBar": true,
   "skip_h1_title": true,
   "title_cell": "Table of Contents",
   "title_sidebar": "Contents",
   "toc_cell": false,
   "toc_position": {},
   "toc_section_display": true,
   "toc_window_display": false
  }
 },
 "nbformat": 4,
 "nbformat_minor": 2
}
