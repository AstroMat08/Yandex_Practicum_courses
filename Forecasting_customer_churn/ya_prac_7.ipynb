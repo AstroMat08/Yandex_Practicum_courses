{
 "cells": [
  {
   "cell_type": "markdown",
   "metadata": {
    "toc": true
   },
   "source": [
    "<h1>Содержание<span class=\"tocSkip\"></span></h1>\n",
    "<div class=\"toc\"><ul class=\"toc-item\"><li><span><a href=\"#Подготовка-данных\" data-toc-modified-id=\"Подготовка-данных-1\"><span class=\"toc-item-num\">1&nbsp;&nbsp;</span>Подготовка данных</a></span></li><li><span><a href=\"#Исследование-задачи\" data-toc-modified-id=\"Исследование-задачи-2\"><span class=\"toc-item-num\">2&nbsp;&nbsp;</span>Исследование задачи</a></span></li><li><span><a href=\"#Борьба-с-дисбалансом\" data-toc-modified-id=\"Борьба-с-дисбалансом-3\"><span class=\"toc-item-num\">3&nbsp;&nbsp;</span>Борьба с дисбалансом</a></span></li><li><span><a href=\"#Тестирование-модели\" data-toc-modified-id=\"Тестирование-модели-4\"><span class=\"toc-item-num\">4&nbsp;&nbsp;</span>Тестирование модели</a></span></li><li><span><a href=\"#Чек-лист-готовности-проекта\" data-toc-modified-id=\"Чек-лист-готовности-проекта-5\"><span class=\"toc-item-num\">5&nbsp;&nbsp;</span>Чек-лист готовности проекта</a></span></li></ul></div>"
   ]
  },
  {
   "cell_type": "markdown",
   "metadata": {},
   "source": [
    "# Отток клиентов"
   ]
  },
  {
   "cell_type": "markdown",
   "metadata": {},
   "source": [
    "Из «Бета-Банка» стали уходить клиенты. Каждый месяц. Немного, но заметно. Банковские маркетологи посчитали: сохранять текущих клиентов дешевле, чем привлекать новых.\n",
    "\n",
    "Нужно спрогнозировать, уйдёт клиент из банка в ближайшее время или нет. Вам предоставлены исторические данные о поведении клиентов и расторжении договоров с банком. \n",
    "\n",
    "Постройте модель с предельно большим значением *F1*-меры. Чтобы сдать проект успешно, нужно довести метрику до 0.59. Проверьте *F1*-меру на тестовой выборке самостоятельно.\n",
    "\n",
    "Дополнительно измеряйте *AUC-ROC*, сравнивайте её значение с *F1*-мерой.\n",
    "\n",
    "Источник данных: [https://www.kaggle.com/barelydedicated/bank-customer-churn-modeling](https://www.kaggle.com/barelydedicated/bank-customer-churn-modeling)"
   ]
  },
  {
   "cell_type": "markdown",
   "metadata": {},
   "source": [
    "## Подготовка данных"
   ]
  },
  {
   "cell_type": "code",
   "execution_count": 37,
   "metadata": {},
   "outputs": [],
   "source": [
    "import pandas as pd\n",
    "import numpy as np\n",
    "from matplotlib import pyplot as plt\n",
    "from sklearn.model_selection import train_test_split\n",
    "from sklearn.metrics import f1_score\n",
    "from sklearn.preprocessing import StandardScaler\n",
    "from sklearn.linear_model import LogisticRegression\n",
    "from sklearn.metrics import classification_report\n",
    "from sklearn.tree import DecisionTreeClassifier\n",
    "from sklearn.ensemble import RandomForestClassifier\n",
    "from sklearn.utils import shuffle\n",
    "from sklearn.metrics import roc_curve\n",
    "from sklearn.metrics import roc_auc_score"
   ]
  },
  {
   "cell_type": "code",
   "execution_count": 38,
   "metadata": {},
   "outputs": [
    {
     "data": {
      "text/html": [
       "<div>\n",
       "<style scoped>\n",
       "    .dataframe tbody tr th:only-of-type {\n",
       "        vertical-align: middle;\n",
       "    }\n",
       "\n",
       "    .dataframe tbody tr th {\n",
       "        vertical-align: top;\n",
       "    }\n",
       "\n",
       "    .dataframe thead th {\n",
       "        text-align: right;\n",
       "    }\n",
       "</style>\n",
       "<table border=\"1\" class=\"dataframe\">\n",
       "  <thead>\n",
       "    <tr style=\"text-align: right;\">\n",
       "      <th></th>\n",
       "      <th>RowNumber</th>\n",
       "      <th>CustomerId</th>\n",
       "      <th>Surname</th>\n",
       "      <th>CreditScore</th>\n",
       "      <th>Geography</th>\n",
       "      <th>Gender</th>\n",
       "      <th>Age</th>\n",
       "      <th>Tenure</th>\n",
       "      <th>Balance</th>\n",
       "      <th>NumOfProducts</th>\n",
       "      <th>HasCrCard</th>\n",
       "      <th>IsActiveMember</th>\n",
       "      <th>EstimatedSalary</th>\n",
       "      <th>Exited</th>\n",
       "    </tr>\n",
       "  </thead>\n",
       "  <tbody>\n",
       "    <tr>\n",
       "      <th>0</th>\n",
       "      <td>1</td>\n",
       "      <td>15634602</td>\n",
       "      <td>Hargrave</td>\n",
       "      <td>619</td>\n",
       "      <td>France</td>\n",
       "      <td>Female</td>\n",
       "      <td>42</td>\n",
       "      <td>2.0</td>\n",
       "      <td>0.00</td>\n",
       "      <td>1</td>\n",
       "      <td>1</td>\n",
       "      <td>1</td>\n",
       "      <td>101348.88</td>\n",
       "      <td>1</td>\n",
       "    </tr>\n",
       "    <tr>\n",
       "      <th>1</th>\n",
       "      <td>2</td>\n",
       "      <td>15647311</td>\n",
       "      <td>Hill</td>\n",
       "      <td>608</td>\n",
       "      <td>Spain</td>\n",
       "      <td>Female</td>\n",
       "      <td>41</td>\n",
       "      <td>1.0</td>\n",
       "      <td>83807.86</td>\n",
       "      <td>1</td>\n",
       "      <td>0</td>\n",
       "      <td>1</td>\n",
       "      <td>112542.58</td>\n",
       "      <td>0</td>\n",
       "    </tr>\n",
       "    <tr>\n",
       "      <th>2</th>\n",
       "      <td>3</td>\n",
       "      <td>15619304</td>\n",
       "      <td>Onio</td>\n",
       "      <td>502</td>\n",
       "      <td>France</td>\n",
       "      <td>Female</td>\n",
       "      <td>42</td>\n",
       "      <td>8.0</td>\n",
       "      <td>159660.80</td>\n",
       "      <td>3</td>\n",
       "      <td>1</td>\n",
       "      <td>0</td>\n",
       "      <td>113931.57</td>\n",
       "      <td>1</td>\n",
       "    </tr>\n",
       "    <tr>\n",
       "      <th>3</th>\n",
       "      <td>4</td>\n",
       "      <td>15701354</td>\n",
       "      <td>Boni</td>\n",
       "      <td>699</td>\n",
       "      <td>France</td>\n",
       "      <td>Female</td>\n",
       "      <td>39</td>\n",
       "      <td>1.0</td>\n",
       "      <td>0.00</td>\n",
       "      <td>2</td>\n",
       "      <td>0</td>\n",
       "      <td>0</td>\n",
       "      <td>93826.63</td>\n",
       "      <td>0</td>\n",
       "    </tr>\n",
       "    <tr>\n",
       "      <th>4</th>\n",
       "      <td>5</td>\n",
       "      <td>15737888</td>\n",
       "      <td>Mitchell</td>\n",
       "      <td>850</td>\n",
       "      <td>Spain</td>\n",
       "      <td>Female</td>\n",
       "      <td>43</td>\n",
       "      <td>2.0</td>\n",
       "      <td>125510.82</td>\n",
       "      <td>1</td>\n",
       "      <td>1</td>\n",
       "      <td>1</td>\n",
       "      <td>79084.10</td>\n",
       "      <td>0</td>\n",
       "    </tr>\n",
       "  </tbody>\n",
       "</table>\n",
       "</div>"
      ],
      "text/plain": [
       "   RowNumber  CustomerId   Surname  CreditScore Geography  Gender  Age  \\\n",
       "0          1    15634602  Hargrave          619    France  Female   42   \n",
       "1          2    15647311      Hill          608     Spain  Female   41   \n",
       "2          3    15619304      Onio          502    France  Female   42   \n",
       "3          4    15701354      Boni          699    France  Female   39   \n",
       "4          5    15737888  Mitchell          850     Spain  Female   43   \n",
       "\n",
       "   Tenure    Balance  NumOfProducts  HasCrCard  IsActiveMember  \\\n",
       "0     2.0       0.00              1          1               1   \n",
       "1     1.0   83807.86              1          0               1   \n",
       "2     8.0  159660.80              3          1               0   \n",
       "3     1.0       0.00              2          0               0   \n",
       "4     2.0  125510.82              1          1               1   \n",
       "\n",
       "   EstimatedSalary  Exited  \n",
       "0        101348.88       1  \n",
       "1        112542.58       0  \n",
       "2        113931.57       1  \n",
       "3         93826.63       0  \n",
       "4         79084.10       0  "
      ]
     },
     "execution_count": 38,
     "metadata": {},
     "output_type": "execute_result"
    }
   ],
   "source": [
    "data = pd.read_csv('/datasets/Churn.csv')\n",
    "data.head(5)"
   ]
  },
  {
   "cell_type": "code",
   "execution_count": 39,
   "metadata": {},
   "outputs": [
    {
     "name": "stdout",
     "output_type": "stream",
     "text": [
      "<class 'pandas.core.frame.DataFrame'>\n",
      "RangeIndex: 10000 entries, 0 to 9999\n",
      "Data columns (total 14 columns):\n",
      " #   Column           Non-Null Count  Dtype  \n",
      "---  ------           --------------  -----  \n",
      " 0   RowNumber        10000 non-null  int64  \n",
      " 1   CustomerId       10000 non-null  int64  \n",
      " 2   Surname          10000 non-null  object \n",
      " 3   CreditScore      10000 non-null  int64  \n",
      " 4   Geography        10000 non-null  object \n",
      " 5   Gender           10000 non-null  object \n",
      " 6   Age              10000 non-null  int64  \n",
      " 7   Tenure           9091 non-null   float64\n",
      " 8   Balance          10000 non-null  float64\n",
      " 9   NumOfProducts    10000 non-null  int64  \n",
      " 10  HasCrCard        10000 non-null  int64  \n",
      " 11  IsActiveMember   10000 non-null  int64  \n",
      " 12  EstimatedSalary  10000 non-null  float64\n",
      " 13  Exited           10000 non-null  int64  \n",
      "dtypes: float64(3), int64(8), object(3)\n",
      "memory usage: 1.1+ MB\n"
     ]
    }
   ],
   "source": [
    "data.info()"
   ]
  },
  {
   "cell_type": "markdown",
   "metadata": {},
   "source": [
    "Удалим из таблицы строки, с пропусками в столбце `Tenure`, так как заполнить эти пропуски мы не можем, а они влияют на обучение модели."
   ]
  },
  {
   "cell_type": "code",
   "execution_count": 40,
   "metadata": {},
   "outputs": [],
   "source": [
    "data.dropna(subset=['Tenure'], inplace=True)"
   ]
  },
  {
   "cell_type": "markdown",
   "metadata": {},
   "source": [
    "В предоставленных данных есть столбцы, которые не влияют на результат (`RowNumber`, `CustomerId`, `Surname`)"
   ]
  },
  {
   "cell_type": "code",
   "execution_count": 41,
   "metadata": {},
   "outputs": [
    {
     "data": {
      "text/html": [
       "<div>\n",
       "<style scoped>\n",
       "    .dataframe tbody tr th:only-of-type {\n",
       "        vertical-align: middle;\n",
       "    }\n",
       "\n",
       "    .dataframe tbody tr th {\n",
       "        vertical-align: top;\n",
       "    }\n",
       "\n",
       "    .dataframe thead th {\n",
       "        text-align: right;\n",
       "    }\n",
       "</style>\n",
       "<table border=\"1\" class=\"dataframe\">\n",
       "  <thead>\n",
       "    <tr style=\"text-align: right;\">\n",
       "      <th></th>\n",
       "      <th>CreditScore</th>\n",
       "      <th>Geography</th>\n",
       "      <th>Gender</th>\n",
       "      <th>Age</th>\n",
       "      <th>Tenure</th>\n",
       "      <th>Balance</th>\n",
       "      <th>NumOfProducts</th>\n",
       "      <th>HasCrCard</th>\n",
       "      <th>IsActiveMember</th>\n",
       "      <th>EstimatedSalary</th>\n",
       "      <th>Exited</th>\n",
       "    </tr>\n",
       "  </thead>\n",
       "  <tbody>\n",
       "    <tr>\n",
       "      <th>0</th>\n",
       "      <td>619</td>\n",
       "      <td>France</td>\n",
       "      <td>Female</td>\n",
       "      <td>42</td>\n",
       "      <td>2.0</td>\n",
       "      <td>0.00</td>\n",
       "      <td>1</td>\n",
       "      <td>1</td>\n",
       "      <td>1</td>\n",
       "      <td>101348.88</td>\n",
       "      <td>1</td>\n",
       "    </tr>\n",
       "    <tr>\n",
       "      <th>1</th>\n",
       "      <td>608</td>\n",
       "      <td>Spain</td>\n",
       "      <td>Female</td>\n",
       "      <td>41</td>\n",
       "      <td>1.0</td>\n",
       "      <td>83807.86</td>\n",
       "      <td>1</td>\n",
       "      <td>0</td>\n",
       "      <td>1</td>\n",
       "      <td>112542.58</td>\n",
       "      <td>0</td>\n",
       "    </tr>\n",
       "    <tr>\n",
       "      <th>2</th>\n",
       "      <td>502</td>\n",
       "      <td>France</td>\n",
       "      <td>Female</td>\n",
       "      <td>42</td>\n",
       "      <td>8.0</td>\n",
       "      <td>159660.80</td>\n",
       "      <td>3</td>\n",
       "      <td>1</td>\n",
       "      <td>0</td>\n",
       "      <td>113931.57</td>\n",
       "      <td>1</td>\n",
       "    </tr>\n",
       "    <tr>\n",
       "      <th>3</th>\n",
       "      <td>699</td>\n",
       "      <td>France</td>\n",
       "      <td>Female</td>\n",
       "      <td>39</td>\n",
       "      <td>1.0</td>\n",
       "      <td>0.00</td>\n",
       "      <td>2</td>\n",
       "      <td>0</td>\n",
       "      <td>0</td>\n",
       "      <td>93826.63</td>\n",
       "      <td>0</td>\n",
       "    </tr>\n",
       "    <tr>\n",
       "      <th>4</th>\n",
       "      <td>850</td>\n",
       "      <td>Spain</td>\n",
       "      <td>Female</td>\n",
       "      <td>43</td>\n",
       "      <td>2.0</td>\n",
       "      <td>125510.82</td>\n",
       "      <td>1</td>\n",
       "      <td>1</td>\n",
       "      <td>1</td>\n",
       "      <td>79084.10</td>\n",
       "      <td>0</td>\n",
       "    </tr>\n",
       "  </tbody>\n",
       "</table>\n",
       "</div>"
      ],
      "text/plain": [
       "   CreditScore Geography  Gender  Age  Tenure    Balance  NumOfProducts  \\\n",
       "0          619    France  Female   42     2.0       0.00              1   \n",
       "1          608     Spain  Female   41     1.0   83807.86              1   \n",
       "2          502    France  Female   42     8.0  159660.80              3   \n",
       "3          699    France  Female   39     1.0       0.00              2   \n",
       "4          850     Spain  Female   43     2.0  125510.82              1   \n",
       "\n",
       "   HasCrCard  IsActiveMember  EstimatedSalary  Exited  \n",
       "0          1               1        101348.88       1  \n",
       "1          0               1        112542.58       0  \n",
       "2          1               0        113931.57       1  \n",
       "3          0               0         93826.63       0  \n",
       "4          1               1         79084.10       0  "
      ]
     },
     "execution_count": 41,
     "metadata": {},
     "output_type": "execute_result"
    }
   ],
   "source": [
    "clear_data = data.drop(['RowNumber', 'CustomerId', 'Surname'], axis=1)\n",
    "clear_data.head(5)"
   ]
  },
  {
   "cell_type": "markdown",
   "metadata": {},
   "source": [
    "Так же видим что в нашей таблице много категориальных данных, которые стоит преобразовать в числа с помощью OHE."
   ]
  },
  {
   "cell_type": "code",
   "execution_count": 42,
   "metadata": {
    "scrolled": true
   },
   "outputs": [
    {
     "data": {
      "text/html": [
       "<div>\n",
       "<style scoped>\n",
       "    .dataframe tbody tr th:only-of-type {\n",
       "        vertical-align: middle;\n",
       "    }\n",
       "\n",
       "    .dataframe tbody tr th {\n",
       "        vertical-align: top;\n",
       "    }\n",
       "\n",
       "    .dataframe thead th {\n",
       "        text-align: right;\n",
       "    }\n",
       "</style>\n",
       "<table border=\"1\" class=\"dataframe\">\n",
       "  <thead>\n",
       "    <tr style=\"text-align: right;\">\n",
       "      <th></th>\n",
       "      <th>CreditScore</th>\n",
       "      <th>Age</th>\n",
       "      <th>Tenure</th>\n",
       "      <th>Balance</th>\n",
       "      <th>NumOfProducts</th>\n",
       "      <th>HasCrCard</th>\n",
       "      <th>IsActiveMember</th>\n",
       "      <th>EstimatedSalary</th>\n",
       "      <th>Exited</th>\n",
       "      <th>Geography_Germany</th>\n",
       "      <th>Geography_Spain</th>\n",
       "      <th>Gender_Male</th>\n",
       "    </tr>\n",
       "  </thead>\n",
       "  <tbody>\n",
       "    <tr>\n",
       "      <th>0</th>\n",
       "      <td>619</td>\n",
       "      <td>42</td>\n",
       "      <td>2.0</td>\n",
       "      <td>0.00</td>\n",
       "      <td>1</td>\n",
       "      <td>1</td>\n",
       "      <td>1</td>\n",
       "      <td>101348.88</td>\n",
       "      <td>1</td>\n",
       "      <td>0</td>\n",
       "      <td>0</td>\n",
       "      <td>0</td>\n",
       "    </tr>\n",
       "    <tr>\n",
       "      <th>1</th>\n",
       "      <td>608</td>\n",
       "      <td>41</td>\n",
       "      <td>1.0</td>\n",
       "      <td>83807.86</td>\n",
       "      <td>1</td>\n",
       "      <td>0</td>\n",
       "      <td>1</td>\n",
       "      <td>112542.58</td>\n",
       "      <td>0</td>\n",
       "      <td>0</td>\n",
       "      <td>1</td>\n",
       "      <td>0</td>\n",
       "    </tr>\n",
       "    <tr>\n",
       "      <th>2</th>\n",
       "      <td>502</td>\n",
       "      <td>42</td>\n",
       "      <td>8.0</td>\n",
       "      <td>159660.80</td>\n",
       "      <td>3</td>\n",
       "      <td>1</td>\n",
       "      <td>0</td>\n",
       "      <td>113931.57</td>\n",
       "      <td>1</td>\n",
       "      <td>0</td>\n",
       "      <td>0</td>\n",
       "      <td>0</td>\n",
       "    </tr>\n",
       "    <tr>\n",
       "      <th>3</th>\n",
       "      <td>699</td>\n",
       "      <td>39</td>\n",
       "      <td>1.0</td>\n",
       "      <td>0.00</td>\n",
       "      <td>2</td>\n",
       "      <td>0</td>\n",
       "      <td>0</td>\n",
       "      <td>93826.63</td>\n",
       "      <td>0</td>\n",
       "      <td>0</td>\n",
       "      <td>0</td>\n",
       "      <td>0</td>\n",
       "    </tr>\n",
       "    <tr>\n",
       "      <th>4</th>\n",
       "      <td>850</td>\n",
       "      <td>43</td>\n",
       "      <td>2.0</td>\n",
       "      <td>125510.82</td>\n",
       "      <td>1</td>\n",
       "      <td>1</td>\n",
       "      <td>1</td>\n",
       "      <td>79084.10</td>\n",
       "      <td>0</td>\n",
       "      <td>0</td>\n",
       "      <td>1</td>\n",
       "      <td>0</td>\n",
       "    </tr>\n",
       "  </tbody>\n",
       "</table>\n",
       "</div>"
      ],
      "text/plain": [
       "   CreditScore  Age  Tenure    Balance  NumOfProducts  HasCrCard  \\\n",
       "0          619   42     2.0       0.00              1          1   \n",
       "1          608   41     1.0   83807.86              1          0   \n",
       "2          502   42     8.0  159660.80              3          1   \n",
       "3          699   39     1.0       0.00              2          0   \n",
       "4          850   43     2.0  125510.82              1          1   \n",
       "\n",
       "   IsActiveMember  EstimatedSalary  Exited  Geography_Germany  \\\n",
       "0               1        101348.88       1                  0   \n",
       "1               1        112542.58       0                  0   \n",
       "2               0        113931.57       1                  0   \n",
       "3               0         93826.63       0                  0   \n",
       "4               1         79084.10       0                  0   \n",
       "\n",
       "   Geography_Spain  Gender_Male  \n",
       "0                0            0  \n",
       "1                1            0  \n",
       "2                0            0  \n",
       "3                0            0  \n",
       "4                1            0  "
      ]
     },
     "execution_count": 42,
     "metadata": {},
     "output_type": "execute_result"
    }
   ],
   "source": [
    "data_ohe = pd.get_dummies(clear_data, drop_first=True)\n",
    "data_ohe.head(5)"
   ]
  },
  {
   "cell_type": "markdown",
   "metadata": {},
   "source": [
    "Разобьем данные на две выборки:"
   ]
  },
  {
   "cell_type": "code",
   "execution_count": 44,
   "metadata": {},
   "outputs": [
    {
     "name": "stdout",
     "output_type": "stream",
     "text": [
      "(5454, 11) (5454,)\n",
      "(1818, 11) (1818,)\n",
      "(1819, 11) (1819,)\n"
     ]
    }
   ],
   "source": [
    "target = data_ohe['Exited']\n",
    "features = data_ohe.drop('Exited', axis=1)\n",
    "\n",
    "features_inter, features_test, target_inter, target_test = train_test_split(\n",
    "    features, target, test_size=0.2, random_state=12345, stratify=target)\n",
    "features_train, features_valid, target_train, target_valid = train_test_split(\n",
    "    features_inter, target_inter, test_size=0.25, random_state=12345, stratify=target_inter)\n",
    "\n",
    "print(features_train.shape, target_train.shape)\n",
    "print(features_valid.shape, target_valid.shape)\n",
    "print(features_test.shape, target_test.shape)"
   ]
  },
  {
   "cell_type": "markdown",
   "metadata": {},
   "source": [
    "## Исследование задачи"
   ]
  },
  {
   "cell_type": "markdown",
   "metadata": {},
   "source": [
    "Проверим сбалансированность:"
   ]
  },
  {
   "cell_type": "code",
   "execution_count": 45,
   "metadata": {},
   "outputs": [
    {
     "name": "stdout",
     "output_type": "stream",
     "text": [
      "0    7237\n",
      "1    1854\n",
      "Name: Exited, dtype: int64\n"
     ]
    },
    {
     "data": {
      "image/png": "[encoded data removed]",
      "text/plain": [
       "<Figure size 1080x576 with 1 Axes>"
      ]
     },
     "metadata": {
      "needs_background": "light"
     },
     "output_type": "display_data"
    }
   ],
   "source": [
    "data_ohe['Exited'].value_counts().plot(kind='bar', figsize=(15, 8), title='Соотношение значений исследуемого параметра')\n",
    "print(data_ohe['Exited'].value_counts())\n",
    "plt.show()"
   ]
  },
  {
   "cell_type": "markdown",
   "metadata": {},
   "source": [
    "Видим, что выборка несбалансированна, данные распределены примерно 72 : 18."
   ]
  },
  {
   "cell_type": "markdown",
   "metadata": {},
   "source": [
    "Изучим зависимость оттока клиентов от возраста"
   ]
  },
  {
   "cell_type": "code",
   "execution_count": 46,
   "metadata": {},
   "outputs": [
    {
     "data": {
      "image/png": "[encoded data removed]",
      "text/plain": [
       "<Figure size 1080x576 with 1 Axes>"
      ]
     },
     "metadata": {
      "needs_background": "light"
     },
     "output_type": "display_data"
    }
   ],
   "source": [
    "data_ohe.groupby('Age')['Exited'].sum().plot(figsize=(15, 8), kind='bar', title='Зависимость оттока от возраста')\n",
    "plt.show()"
   ]
  },
  {
   "cell_type": "markdown",
   "metadata": {},
   "source": [
    "Видим, что распределение близко к нормальному."
   ]
  },
  {
   "cell_type": "code",
   "execution_count": 47,
   "metadata": {},
   "outputs": [
    {
     "data": {
      "image/png": "[encoded data removed]",
      "text/plain": [
       "<Figure size 1080x432 with 1 Axes>"
      ]
     },
     "metadata": {
      "needs_background": "light"
     },
     "output_type": "display_data"
    }
   ],
   "source": [
    "data_ohe.groupby('Tenure')['Exited'].count().plot(figsize=(15,6), kind='bar', title='Гистограмма наличия недвижимости и оттока')\n",
    "plt.show()"
   ]
  },
  {
   "cell_type": "markdown",
   "metadata": {},
   "source": [
    "По графику видно, что сильной зависимости не наблюдается."
   ]
  },
  {
   "cell_type": "code",
   "execution_count": 48,
   "metadata": {},
   "outputs": [
    {
     "data": {
      "image/png": "[encoded data removed]",
      "text/plain": [
       "<Figure size 1080x432 with 1 Axes>"
      ]
     },
     "metadata": {
      "needs_background": "light"
     },
     "output_type": "display_data"
    }
   ],
   "source": [
    "data_ohe.groupby('Exited')['Balance'].median().plot(figsize=(15,6), kind='bar', title='Зависимость оттока от среднего баланса на счете')\n",
    "plt.show()"
   ]
  },
  {
   "cell_type": "markdown",
   "metadata": {},
   "source": [
    "Видим, что сильной разницы в зависимости от баланса нет."
   ]
  },
  {
   "cell_type": "markdown",
   "metadata": {},
   "source": [
    "Стандартизируем выборку:"
   ]
  },
  {
   "cell_type": "code",
   "execution_count": 49,
   "metadata": {},
   "outputs": [],
   "source": [
    "pd.options.mode.chained_assignment = None\n",
    "numeric=['CreditScore','Age','Tenure','Balance','NumOfProducts','HasCrCard','IsActiveMember']\n",
    "scaler=StandardScaler()\n",
    "scaler.fit(features_train[numeric])\n",
    "features_train[numeric]=scaler.transform(features_train[numeric])\n",
    "features_valid[numeric]=scaler.transform(features_valid[numeric])\n",
    "features_test[numeric]=scaler.transform(features_test[numeric])"
   ]
  },
  {
   "cell_type": "markdown",
   "metadata": {},
   "source": [
    "Проверим, как будет выглядеть модель без балансировки"
   ]
  },
  {
   "cell_type": "markdown",
   "metadata": {},
   "source": [
    "**Рассмотрим решающее дерево:**"
   ]
  },
  {
   "cell_type": "code",
   "execution_count": 52,
   "metadata": {},
   "outputs": [
    {
     "name": "stdout",
     "output_type": "stream",
     "text": [
      "best_depth: 7 ; F1: 0.5605306799336649\n"
     ]
    }
   ],
   "source": [
    "best_model_tree = None\n",
    "best_depth = 0\n",
    "best_result = 0\n",
    "for depth in range(1, 20, 1):\n",
    "    tree_model = DecisionTreeClassifier(max_depth=depth, random_state=12345)\n",
    "    tree_model.fit(features_train, target_train)\n",
    "    prediction = tree_model.predict(features_valid)\n",
    "    result = f1_score(target_valid, prediction)\n",
    "    if result > best_result:\n",
    "        best_model_tree = tree_model\n",
    "        best_result = result\n",
    "        best_depth = depth\n",
    "\n",
    "print('best_depth:',best_depth,'; F1:', best_result)"
   ]
  },
  {
   "cell_type": "markdown",
   "metadata": {},
   "source": [
    "**Рассмотрим случайный лес:**"
   ]
  },
  {
   "cell_type": "code",
   "execution_count": 53,
   "metadata": {},
   "outputs": [
    {
     "name": "stdout",
     "output_type": "stream",
     "text": [
      "best_depth: 11 ; best_est: 20 ; F1: 0.5878378378378378\n"
     ]
    }
   ],
   "source": [
    "best_forest = None\n",
    "best_depth = 0\n",
    "best_result = 0\n",
    "best_est = 0\n",
    "for depth in range(3, 16, 1):\n",
    "    for est in range(20, 120, 5):\n",
    "        forest = RandomForestClassifier(max_depth=depth, n_estimators=est, random_state=12345)\n",
    "        forest.fit(features_train, target_train)\n",
    "        prediction = forest.predict(features_valid)\n",
    "        result = f1_score(target_valid, prediction)\n",
    "        if result > best_result:\n",
    "            best_forest = forest\n",
    "            best_result = result\n",
    "            best_est = est\n",
    "            best_depth = depth\n",
    "            \n",
    "print('best_depth:', best_depth, '; best_est:', best_est, '; F1:', best_result)"
   ]
  },
  {
   "cell_type": "markdown",
   "metadata": {},
   "source": [
    "**Рассмотрим модель регрессии**"
   ]
  },
  {
   "cell_type": "code",
   "execution_count": 58,
   "metadata": {},
   "outputs": [
    {
     "name": "stdout",
     "output_type": "stream",
     "text": [
      "F1: 0.0\n"
     ]
    }
   ],
   "source": [
    "regression = LogisticRegression(random_state=12345)\n",
    "regression.fit(features_train, target_train)\n",
    "pred = regression.predict(features_valid)\n",
    "print('F1:', f1_score(target_valid, pred))"
   ]
  },
  {
   "cell_type": "markdown",
   "metadata": {},
   "source": [
    "Видно, что за из-за несбалансированности выборки падает значение F1_score"
   ]
  },
  {
   "cell_type": "markdown",
   "metadata": {},
   "source": [
    "**Вывод: Лучшей моделью из исследованных является случайный лес с гиперпараметрами `max_depth = 11` и `n_estimators = 20` cо значением `F1 = 0.5878378378378378`. Для дальнейшего исследования необходимо сбалансировать выборку.**"
   ]
  },
  {
   "cell_type": "markdown",
   "metadata": {},
   "source": [
    "## Борьба с дисбалансом"
   ]
  },
  {
   "cell_type": "markdown",
   "metadata": {},
   "source": [
    "Рассмотрим два варианта балансировки."
   ]
  },
  {
   "cell_type": "markdown",
   "metadata": {},
   "source": [
    "**Воспользуемся техникой upsampling:**"
   ]
  },
  {
   "cell_type": "code",
   "execution_count": 59,
   "metadata": {},
   "outputs": [],
   "source": [
    "def upsample(features, target, repeat):\n",
    "    features_zeros = features[target == 0]\n",
    "    features_ones = features[target == 1]\n",
    "    target_zeros = target[target == 0]\n",
    "    target_ones = target[target == 1]\n",
    "\n",
    "    features_upsampled = pd.concat([features_zeros] + [features_ones] * repeat)\n",
    "    target_upsampled = pd.concat([target_zeros] + [target_ones] * repeat)\n",
    "    \n",
    "    features_upsampled, target_upsampled = shuffle(\n",
    "        features_upsampled, target_upsampled, random_state=12345)\n",
    "    \n",
    "    return features_upsampled, target_upsampled"
   ]
  },
  {
   "cell_type": "code",
   "execution_count": 60,
   "metadata": {},
   "outputs": [],
   "source": [
    "features_upsampled, target_upsampled = upsample(features_train, target_train, 4)\n"
   ]
  },
  {
   "cell_type": "markdown",
   "metadata": {},
   "source": [
    "**Воспользуемся техникой downsampling:**"
   ]
  },
  {
   "cell_type": "code",
   "execution_count": 61,
   "metadata": {},
   "outputs": [],
   "source": [
    "def downsample(features, target, fraction):\n",
    "    features_zeros = features[target == 0]\n",
    "    features_ones = features[target == 1]\n",
    "    target_zeros = target[target == 0]\n",
    "    target_ones = target[target == 1]\n",
    "\n",
    "    features_downsampled = pd.concat(\n",
    "        [features_zeros.sample(frac=fraction, random_state=12345)] + [features_ones])\n",
    "    target_downsampled = pd.concat(\n",
    "        [target_zeros.sample(frac=fraction, random_state=12345)] + [target_ones])\n",
    "    \n",
    "    features_downsampled, target_downsampled = shuffle(\n",
    "        features_downsampled, target_downsampled, random_state=12345)\n",
    "    \n",
    "    return features_downsampled, target_downsampled"
   ]
  },
  {
   "cell_type": "code",
   "execution_count": 62,
   "metadata": {},
   "outputs": [],
   "source": [
    "features_downsampled, target_downsampled = downsample(features_train, target_train, 0.4)"
   ]
  },
  {
   "cell_type": "markdown",
   "metadata": {},
   "source": [
    "**Сравним лучшую модель на трех выборках:**"
   ]
  },
  {
   "cell_type": "code",
   "execution_count": 63,
   "metadata": {},
   "outputs": [
    {
     "name": "stdout",
     "output_type": "stream",
     "text": [
      "F1: 0.5878378378378378\n",
      "CPU times: user 133 ms, sys: 16 µs, total: 133 ms\n",
      "Wall time: 131 ms\n"
     ]
    }
   ],
   "source": [
    "%%time\n",
    "forest_norm = RandomForestClassifier(max_depth=11, n_estimators=20, random_state=12345)\n",
    "forest_norm.fit(features_train, target_train)\n",
    "pred_norm = forest_norm.predict(features_valid)\n",
    "print('F1:', f1_score(target_valid, pred_norm))"
   ]
  },
  {
   "cell_type": "code",
   "execution_count": 64,
   "metadata": {},
   "outputs": [
    {
     "name": "stdout",
     "output_type": "stream",
     "text": [
      "F1: 0.5804020100502513\n",
      "CPU times: user 163 ms, sys: 7.89 ms, total: 171 ms\n",
      "Wall time: 169 ms\n"
     ]
    }
   ],
   "source": [
    "%%time\n",
    "forest_up = RandomForestClassifier(max_depth=11, n_estimators=20, random_state=12345)\n",
    "forest_up.fit(features_upsampled, target_upsampled)\n",
    "pred_up = forest_up.predict(features_valid)\n",
    "print('F1:', f1_score(target_valid, pred_up))"
   ]
  },
  {
   "cell_type": "code",
   "execution_count": 65,
   "metadata": {},
   "outputs": [
    {
     "name": "stdout",
     "output_type": "stream",
     "text": [
      "F1: 0.5915492957746479\n",
      "CPU times: user 183 ms, sys: 3.98 ms, total: 187 ms\n",
      "Wall time: 185 ms\n"
     ]
    }
   ],
   "source": [
    "%%time\n",
    "forest_down = RandomForestClassifier(max_depth=12, n_estimators=45, random_state=12345)\n",
    "forest_down.fit(features_downsampled, target_downsampled)\n",
    "pred_down = forest_down.predict(features_valid)\n",
    "print('F1:', f1_score(target_valid, pred_down))"
   ]
  },
  {
   "cell_type": "markdown",
   "metadata": {},
   "source": [
    "**Вывод: Учитывая полученные результаты и небольшое различие между положительной и отрицательной выборками, выберем технику downsampling, так как результаты для данного метода получились лучше.**"
   ]
  },
  {
   "cell_type": "markdown",
   "metadata": {},
   "source": [
    "## Тестирование модели"
   ]
  },
  {
   "cell_type": "markdown",
   "metadata": {},
   "source": [
    "**Теперь сравним три модели на downsampling выборке:**"
   ]
  },
  {
   "cell_type": "code",
   "execution_count": 66,
   "metadata": {},
   "outputs": [
    {
     "name": "stdout",
     "output_type": "stream",
     "text": [
      "F1: 0.5833333333333334\n"
     ]
    }
   ],
   "source": [
    "model_tree = DecisionTreeClassifier(max_depth=7, random_state=12345).fit(features_downsampled, target_downsampled)\n",
    "pred_tree = model_tree.predict(features_test)\n",
    "result = f1_score(target_test, pred_tree)\n",
    "\n",
    "proba_tree = model_tree.predict_proba(features_test)\n",
    "proba_one_test_tree = proba_tree[:, 1]\n",
    "fpr_tree, tpr_tree, thresholds = roc_curve(target_test, proba_one_test_tree)\n",
    "print('F1:', result)"
   ]
  },
  {
   "cell_type": "code",
   "execution_count": 67,
   "metadata": {},
   "outputs": [
    {
     "name": "stdout",
     "output_type": "stream",
     "text": [
      "AUC-ROC: 0.8232183809623089\n"
     ]
    }
   ],
   "source": [
    "auc_roc_tree = roc_auc_score(target_test, proba_one_test_tree)\n",
    "print('AUC-ROC:', auc_roc_tree)"
   ]
  },
  {
   "cell_type": "code",
   "execution_count": 70,
   "metadata": {},
   "outputs": [
    {
     "name": "stdout",
     "output_type": "stream",
     "text": [
      "F1: 0.6384039900249376\n"
     ]
    }
   ],
   "source": [
    "pred_forest = forest_down.predict(features_test)\n",
    "result = f1_score(target_test, pred_forest)\n",
    "\n",
    "proba_forest = forest_down.predict_proba(features_test)\n",
    "proba_one_test_forest = proba_forest[:, 1]\n",
    "fpr_forest, tpr_forest, thresholds = roc_curve(target_test, proba_one_test_forest)\n",
    "print('F1:', result)"
   ]
  },
  {
   "cell_type": "code",
   "execution_count": 71,
   "metadata": {},
   "outputs": [
    {
     "name": "stdout",
     "output_type": "stream",
     "text": [
      "AUC-ROC: 0.8536879569924498\n"
     ]
    }
   ],
   "source": [
    "auc_roc_forest = roc_auc_score(target_test, proba_one_test_forest)\n",
    "print('AUC-ROC:', auc_roc_forest)"
   ]
  },
  {
   "cell_type": "code",
   "execution_count": 74,
   "metadata": {},
   "outputs": [
    {
     "name": "stdout",
     "output_type": "stream",
     "text": [
      "F1: 0.0\n"
     ]
    }
   ],
   "source": [
    "model_reg = LogisticRegression(random_state=12345)\n",
    "model_reg.fit(features_downsampled, target_downsampled)\n",
    "pred_reg = model_reg.predict(features_test)\n",
    "result = f1_score(target_test, pred_reg)\n",
    "\n",
    "proba_reg = model_reg.predict_proba(features_test)\n",
    "proba_one_test_reg = proba_reg[:, 1]\n",
    "fpr_reg, tpr_reg, thresholds = roc_curve(target_test, proba_one_test_reg)\n",
    "print('F1:', result)"
   ]
  },
  {
   "cell_type": "code",
   "execution_count": 75,
   "metadata": {},
   "outputs": [
    {
     "name": "stdout",
     "output_type": "stream",
     "text": [
      "AUC-ROC: 0.4823178359220265\n"
     ]
    }
   ],
   "source": [
    "auc_roc_reg = roc_auc_score(target_test, proba_one_test_reg)\n",
    "print('AUC-ROC:', auc_roc_reg)"
   ]
  },
  {
   "cell_type": "code",
   "execution_count": 76,
   "metadata": {},
   "outputs": [
    {
     "data": {
      "text/plain": [
       "<Figure size 432x288 with 0 Axes>"
      ]
     },
     "metadata": {},
     "output_type": "display_data"
    },
    {
     "data": {
      "image/png": "[encoded data removed]",
      "text/plain": [
       "<Figure size 720x720 with 1 Axes>"
      ]
     },
     "metadata": {
      "needs_background": "light"
     },
     "output_type": "display_data"
    }
   ],
   "source": [
    "plt.figure()\n",
    "\n",
    "plt.figure(figsize=(10, 10))\n",
    "plt.xlim([0.0, 1.0])\n",
    "plt.ylim([0.0, 1.0])\n",
    "plt.plot([0, 1], [0, 1], linestyle='--')\n",
    "plt.plot(fpr_reg, tpr_reg)\n",
    "plt.plot(fpr_tree, tpr_tree)\n",
    "plt.plot(fpr_forest, tpr_forest)\n",
    "plt.xlabel('False Positive Rate')\n",
    "plt.ylabel('True Positive Rate')\n",
    "plt.title('ROC-кривая')\n",
    "plt.legend(('Случайная модель', 'Случайный лес', 'Логистическая регрессия', 'Дерево решения'), loc='lower right') \n",
    "plt.show()"
   ]
  },
  {
   "cell_type": "code",
   "execution_count": 77,
   "metadata": {},
   "outputs": [
    {
     "data": {
      "text/html": [
       "<div>\n",
       "<style scoped>\n",
       "    .dataframe tbody tr th:only-of-type {\n",
       "        vertical-align: middle;\n",
       "    }\n",
       "\n",
       "    .dataframe tbody tr th {\n",
       "        vertical-align: top;\n",
       "    }\n",
       "\n",
       "    .dataframe thead th {\n",
       "        text-align: right;\n",
       "    }\n",
       "</style>\n",
       "<table border=\"1\" class=\"dataframe\">\n",
       "  <thead>\n",
       "    <tr style=\"text-align: right;\">\n",
       "      <th></th>\n",
       "      <th>случайный лес</th>\n",
       "      <th>решающее дерево</th>\n",
       "      <th>логистическая регрессия</th>\n",
       "    </tr>\n",
       "  </thead>\n",
       "  <tbody>\n",
       "    <tr>\n",
       "      <th>AUC-ROC</th>\n",
       "      <td>0.853688</td>\n",
       "      <td>0.823218</td>\n",
       "      <td>0.482318</td>\n",
       "    </tr>\n",
       "    <tr>\n",
       "      <th>F1</th>\n",
       "      <td>0.638404</td>\n",
       "      <td>0.583333</td>\n",
       "      <td>0.356125</td>\n",
       "    </tr>\n",
       "  </tbody>\n",
       "</table>\n",
       "</div>"
      ],
      "text/plain": [
       "         случайный лес  решающее дерево  логистическая регрессия\n",
       "AUC-ROC       0.853688         0.823218                 0.482318\n",
       "F1            0.638404         0.583333                 0.356125"
      ]
     },
     "execution_count": 77,
     "metadata": {},
     "output_type": "execute_result"
    }
   ],
   "source": [
    "result={'случайный лес': np.array([0.8536879569924498, 0.6384039900249376]),\n",
    "        'решающее дерево': np.array([0.8232183809623089, 0.5833333333333334]),\n",
    "        'логистическая регрессия': np.array([0.4823178359220265, 0.3561253561253562])}\n",
    "result_df=pd.DataFrame(result, index=['AUC-ROC', 'F1'])\n",
    "result_df"
   ]
  },
  {
   "cell_type": "markdown",
   "metadata": {},
   "source": [
    "**Вывод:**\n",
    "- 1) В результате исследования получено, что лучше всего перед обучением модели провести балансировку параметров с помощью техники `downsampling`.\n",
    "- 2) Лучшее значение `F1` меры (`0.638404`) полученно для модели случайного леса с гиперпараметрами `max_depth = 11` и `n_estimators = 20`.\n",
    "- 3) Лучшее знвчение метрики `AUC-ROC` (`0.853688`) так же получено для аналогичной модели случайного леса.\n"
   ]
  }
 ],
 "metadata": {
  "ExecuteTimeLog": [
   {
    "duration": 50,
    "start_time": "2023-03-29T16:35:00.235Z"
   },
   {
    "duration": 1356,
    "start_time": "2023-03-29T16:35:03.079Z"
   },
   {
    "duration": 190,
    "start_time": "2023-03-29T16:35:05.095Z"
   },
   {
    "duration": 6,
    "start_time": "2023-03-29T16:40:26.213Z"
   },
   {
    "duration": 17,
    "start_time": "2023-03-29T16:40:37.474Z"
   },
   {
    "duration": 57,
    "start_time": "2023-03-29T16:41:12.783Z"
   },
   {
    "duration": 48,
    "start_time": "2023-03-29T16:41:47.598Z"
   },
   {
    "duration": 14,
    "start_time": "2023-03-29T16:41:57.099Z"
   },
   {
    "duration": 22,
    "start_time": "2023-03-29T17:02:36.898Z"
   },
   {
    "duration": 75,
    "start_time": "2023-03-29T17:06:54.748Z"
   },
   {
    "duration": 16,
    "start_time": "2023-03-29T17:07:40.049Z"
   },
   {
    "duration": 4,
    "start_time": "2023-03-29T17:07:56.048Z"
   },
   {
    "duration": 8,
    "start_time": "2023-03-29T17:08:00.561Z"
   },
   {
    "duration": 7,
    "start_time": "2023-03-29T17:22:25.154Z"
   },
   {
    "duration": 7,
    "start_time": "2023-03-29T17:25:24.330Z"
   },
   {
    "duration": 20,
    "start_time": "2023-03-29T19:20:50.986Z"
   },
   {
    "duration": 22,
    "start_time": "2023-03-29T19:33:46.775Z"
   },
   {
    "duration": 20,
    "start_time": "2023-03-29T19:34:59.122Z"
   },
   {
    "duration": 7,
    "start_time": "2023-03-29T19:43:51.486Z"
   },
   {
    "duration": 14,
    "start_time": "2023-03-29T19:43:55.334Z"
   },
   {
    "duration": 19,
    "start_time": "2023-03-29T19:44:01.385Z"
   },
   {
    "duration": 8,
    "start_time": "2023-03-29T19:44:04.253Z"
   },
   {
    "duration": 6,
    "start_time": "2023-03-29T19:44:06.024Z"
   },
   {
    "duration": 85,
    "start_time": "2023-03-29T19:44:27.259Z"
   },
   {
    "duration": 55,
    "start_time": "2023-03-30T08:29:58.041Z"
   },
   {
    "duration": 1400,
    "start_time": "2023-03-30T08:30:02.318Z"
   },
   {
    "duration": 193,
    "start_time": "2023-03-30T08:30:03.720Z"
   },
   {
    "duration": 15,
    "start_time": "2023-03-30T08:30:04.982Z"
   },
   {
    "duration": 9,
    "start_time": "2023-03-30T08:30:09.804Z"
   },
   {
    "duration": 15,
    "start_time": "2023-03-30T08:30:12.214Z"
   },
   {
    "duration": 22,
    "start_time": "2023-03-30T08:30:13.747Z"
   },
   {
    "duration": 12,
    "start_time": "2023-03-30T08:30:16.670Z"
   },
   {
    "duration": 626,
    "start_time": "2023-03-30T08:30:20.872Z"
   },
   {
    "duration": 213,
    "start_time": "2023-03-30T08:31:01.903Z"
   },
   {
    "duration": 10,
    "start_time": "2023-03-30T08:31:07.220Z"
   },
   {
    "duration": 3,
    "start_time": "2023-03-30T08:31:16.221Z"
   },
   {
    "duration": 142,
    "start_time": "2023-03-30T08:31:20.254Z"
   },
   {
    "duration": 84,
    "start_time": "2023-03-30T08:31:33.760Z"
   },
   {
    "duration": 883,
    "start_time": "2023-03-30T08:34:09.523Z"
   },
   {
    "duration": 279,
    "start_time": "2023-03-30T08:36:42.894Z"
   },
   {
    "duration": 134,
    "start_time": "2023-03-30T09:03:40.080Z"
   },
   {
    "duration": 118,
    "start_time": "2023-03-30T09:09:20.527Z"
   },
   {
    "duration": 4,
    "start_time": "2023-03-30T09:14:47.426Z"
   },
   {
    "duration": 15,
    "start_time": "2023-03-30T09:16:10.427Z"
   },
   {
    "duration": 30,
    "start_time": "2023-03-30T09:16:22.419Z"
   },
   {
    "duration": 22,
    "start_time": "2023-03-30T09:17:45.318Z"
   },
   {
    "duration": 12,
    "start_time": "2023-03-30T09:23:15.323Z"
   },
   {
    "duration": 36,
    "start_time": "2023-03-30T09:23:22.203Z"
   },
   {
    "duration": 37,
    "start_time": "2023-03-30T09:23:26.911Z"
   },
   {
    "duration": 166,
    "start_time": "2023-03-30T09:24:24.381Z"
   },
   {
    "duration": 164,
    "start_time": "2023-03-30T09:27:51.761Z"
   },
   {
    "duration": 172,
    "start_time": "2023-03-30T09:28:14.644Z"
   },
   {
    "duration": 180,
    "start_time": "2023-03-30T09:28:22.723Z"
   },
   {
    "duration": 172,
    "start_time": "2023-03-30T09:28:27.328Z"
   },
   {
    "duration": 182,
    "start_time": "2023-03-30T09:28:31.178Z"
   },
   {
    "duration": 152,
    "start_time": "2023-03-30T09:28:38.436Z"
   },
   {
    "duration": 159,
    "start_time": "2023-03-30T09:31:48.012Z"
   },
   {
    "duration": 64,
    "start_time": "2023-03-30T09:33:34.667Z"
   },
   {
    "duration": 32979,
    "start_time": "2023-03-30T09:33:43.338Z"
   },
   {
    "duration": 35940,
    "start_time": "2023-03-30T11:27:42.689Z"
   },
   {
    "duration": 42070,
    "start_time": "2023-03-30T11:31:56.973Z"
   },
   {
    "duration": 97241,
    "start_time": "2023-03-30T11:32:46.293Z"
   },
   {
    "duration": 19,
    "start_time": "2023-03-30T11:36:28.383Z"
   },
   {
    "duration": 16,
    "start_time": "2023-03-30T11:36:38.571Z"
   },
   {
    "duration": 17,
    "start_time": "2023-03-30T11:37:59.742Z"
   },
   {
    "duration": 18,
    "start_time": "2023-03-30T11:38:42.578Z"
   },
   {
    "duration": 23,
    "start_time": "2023-03-30T11:39:17.772Z"
   },
   {
    "duration": 734,
    "start_time": "2023-03-30T11:39:25.711Z"
   },
   {
    "duration": 141,
    "start_time": "2023-03-30T12:39:18.493Z"
   },
   {
    "duration": 142,
    "start_time": "2023-03-30T12:39:36.084Z"
   },
   {
    "duration": 4,
    "start_time": "2023-03-30T12:43:00.993Z"
   },
   {
    "duration": 5,
    "start_time": "2023-03-30T12:43:05.536Z"
   },
   {
    "duration": 9,
    "start_time": "2023-03-30T12:44:33.317Z"
   },
   {
    "duration": 4,
    "start_time": "2023-03-30T12:47:04.358Z"
   },
   {
    "duration": 11,
    "start_time": "2023-03-30T12:47:06.823Z"
   },
   {
    "duration": 19,
    "start_time": "2023-03-30T12:50:00.180Z"
   },
   {
    "duration": 21,
    "start_time": "2023-03-30T12:50:33.552Z"
   },
   {
    "duration": 35,
    "start_time": "2023-03-30T12:51:00.790Z"
   },
   {
    "duration": 463,
    "start_time": "2023-03-30T12:53:32.238Z"
   },
   {
    "duration": 218,
    "start_time": "2023-03-30T12:54:00.342Z"
   },
   {
    "duration": 90,
    "start_time": "2023-03-30T12:55:13.555Z"
   },
   {
    "duration": 27,
    "start_time": "2023-03-30T12:55:33.515Z"
   },
   {
    "duration": 94,
    "start_time": "2023-03-30T12:55:42.347Z"
   },
   {
    "duration": 21,
    "start_time": "2023-03-30T12:56:01.130Z"
   },
   {
    "duration": 78,
    "start_time": "2023-03-30T12:56:02.063Z"
   },
   {
    "duration": 35,
    "start_time": "2023-03-30T12:56:19.939Z"
   },
   {
    "duration": 18,
    "start_time": "2023-03-30T12:56:35.315Z"
   },
   {
    "duration": 433,
    "start_time": "2023-03-30T12:56:50.236Z"
   },
   {
    "duration": 229,
    "start_time": "2023-03-30T12:57:06.138Z"
   },
   {
    "duration": 81,
    "start_time": "2023-03-30T12:57:18.859Z"
   },
   {
    "duration": 90,
    "start_time": "2023-03-30T12:57:23.353Z"
   },
   {
    "duration": 104,
    "start_time": "2023-03-30T12:57:42.138Z"
   },
   {
    "duration": 107,
    "start_time": "2023-03-30T12:58:21.443Z"
   },
   {
    "duration": 30,
    "start_time": "2023-03-30T14:26:24.312Z"
   },
   {
    "duration": 14,
    "start_time": "2023-03-30T14:51:27.550Z"
   },
   {
    "duration": 158,
    "start_time": "2023-03-30T14:51:33.155Z"
   },
   {
    "duration": 879,
    "start_time": "2023-03-30T14:51:37.652Z"
   },
   {
    "duration": 256,
    "start_time": "2023-03-30T14:51:41.259Z"
   },
   {
    "duration": 118,
    "start_time": "2023-03-30T14:51:43.745Z"
   },
   {
    "duration": 23,
    "start_time": "2023-03-30T14:51:46.754Z"
   },
   {
    "duration": 26,
    "start_time": "2023-03-30T14:52:16.847Z"
   },
   {
    "duration": 137,
    "start_time": "2023-03-30T14:52:19.278Z"
   },
   {
    "duration": 9412,
    "start_time": "2023-03-30T14:52:23.107Z"
   },
   {
    "duration": 70,
    "start_time": "2023-03-30T14:52:41.507Z"
   },
   {
    "duration": 40114,
    "start_time": "2023-03-30T14:52:54.172Z"
   },
   {
    "duration": 100,
    "start_time": "2023-03-30T14:53:39.845Z"
   },
   {
    "duration": 39,
    "start_time": "2023-03-30T14:54:01.308Z"
   },
   {
    "duration": 40,
    "start_time": "2023-03-30T14:54:38.805Z"
   },
   {
    "duration": 43,
    "start_time": "2023-03-30T14:54:52.905Z"
   },
   {
    "duration": 101,
    "start_time": "2023-03-30T14:55:06.444Z"
   },
   {
    "duration": 18,
    "start_time": "2023-03-30T14:56:58.684Z"
   },
   {
    "duration": 85,
    "start_time": "2023-03-30T14:57:50.960Z"
   },
   {
    "duration": 4,
    "start_time": "2023-03-30T14:59:52.221Z"
   },
   {
    "duration": 9,
    "start_time": "2023-03-30T15:00:04.265Z"
   },
   {
    "duration": 6,
    "start_time": "2023-03-30T15:00:06.632Z"
   },
   {
    "duration": 9,
    "start_time": "2023-03-30T15:00:07.152Z"
   },
   {
    "duration": 31,
    "start_time": "2023-03-30T15:00:09.936Z"
   },
   {
    "duration": 18,
    "start_time": "2023-03-30T15:00:10.868Z"
   },
   {
    "duration": 362,
    "start_time": "2023-03-30T15:00:13.432Z"
   },
   {
    "duration": 185,
    "start_time": "2023-03-30T15:00:14.485Z"
   },
   {
    "duration": 81,
    "start_time": "2023-03-30T15:00:21.861Z"
   },
   {
    "duration": 16,
    "start_time": "2023-03-30T15:00:22.620Z"
   },
   {
    "duration": 16,
    "start_time": "2023-03-30T15:00:29.342Z"
   },
   {
    "duration": 71,
    "start_time": "2023-03-30T15:00:32.970Z"
   },
   {
    "duration": 18,
    "start_time": "2023-03-30T15:02:32.475Z"
   },
   {
    "duration": 12,
    "start_time": "2023-03-30T15:03:15.244Z"
   },
   {
    "duration": 33,
    "start_time": "2023-03-30T15:03:32.753Z"
   },
   {
    "duration": 13,
    "start_time": "2023-03-30T15:03:35.122Z"
   },
   {
    "duration": 16,
    "start_time": "2023-03-30T15:04:30.033Z"
   },
   {
    "duration": 16,
    "start_time": "2023-03-30T15:04:38.221Z"
   },
   {
    "duration": 16,
    "start_time": "2023-03-30T15:04:51.260Z"
   },
   {
    "duration": 4,
    "start_time": "2023-03-30T15:05:04.035Z"
   },
   {
    "duration": 9,
    "start_time": "2023-03-30T15:05:04.398Z"
   },
   {
    "duration": 31,
    "start_time": "2023-03-30T15:05:06.548Z"
   },
   {
    "duration": 18,
    "start_time": "2023-03-30T15:05:07.126Z"
   },
   {
    "duration": 353,
    "start_time": "2023-03-30T15:05:11.123Z"
   },
   {
    "duration": 181,
    "start_time": "2023-03-30T15:05:12.237Z"
   },
   {
    "duration": 7,
    "start_time": "2023-03-30T15:06:45.186Z"
   },
   {
    "duration": 146,
    "start_time": "2023-03-30T15:06:47.577Z"
   },
   {
    "duration": 870,
    "start_time": "2023-03-30T15:06:50.301Z"
   },
   {
    "duration": 162,
    "start_time": "2023-03-30T15:06:55.576Z"
   },
   {
    "duration": 144,
    "start_time": "2023-03-30T15:06:57.534Z"
   },
   {
    "duration": 33,
    "start_time": "2023-03-30T15:06:59.609Z"
   },
   {
    "duration": 169,
    "start_time": "2023-03-30T15:07:01.939Z"
   },
   {
    "duration": 47035,
    "start_time": "2023-03-30T15:07:03.976Z"
   },
   {
    "duration": 22,
    "start_time": "2023-03-30T15:07:54.859Z"
   },
   {
    "duration": 225,
    "start_time": "2023-03-30T15:08:00.623Z"
   },
   {
    "duration": 4,
    "start_time": "2023-03-30T15:08:16.719Z"
   },
   {
    "duration": 10,
    "start_time": "2023-03-30T15:08:17.264Z"
   },
   {
    "duration": 5,
    "start_time": "2023-03-30T15:08:19.132Z"
   },
   {
    "duration": 10,
    "start_time": "2023-03-30T15:08:20.654Z"
   },
   {
    "duration": 41,
    "start_time": "2023-03-30T15:08:24.820Z"
   },
   {
    "duration": 21,
    "start_time": "2023-03-30T15:08:26.593Z"
   },
   {
    "duration": 464,
    "start_time": "2023-03-30T15:08:30.026Z"
   },
   {
    "duration": 214,
    "start_time": "2023-03-30T15:08:31.980Z"
   },
   {
    "duration": 62,
    "start_time": "2023-03-30T15:08:39.182Z"
   },
   {
    "duration": 13,
    "start_time": "2023-03-30T15:08:42.238Z"
   },
   {
    "duration": 28,
    "start_time": "2023-03-30T15:08:48.114Z"
   },
   {
    "duration": 23,
    "start_time": "2023-03-30T15:08:52.628Z"
   },
   {
    "duration": 63,
    "start_time": "2023-03-30T15:09:02.080Z"
   },
   {
    "duration": 92,
    "start_time": "2023-03-30T15:16:20.970Z"
   },
   {
    "duration": 73,
    "start_time": "2023-03-30T15:16:31.888Z"
   },
   {
    "duration": 633,
    "start_time": "2023-03-30T15:17:15.673Z"
   },
   {
    "duration": 339,
    "start_time": "2023-03-30T15:17:54.755Z"
   },
   {
    "duration": 330,
    "start_time": "2023-03-30T15:17:57.917Z"
   },
   {
    "duration": 486,
    "start_time": "2023-03-30T15:18:16.281Z"
   },
   {
    "duration": 216,
    "start_time": "2023-03-30T15:18:33.318Z"
   },
   {
    "duration": 311,
    "start_time": "2023-03-30T15:19:18.578Z"
   },
   {
    "duration": 461,
    "start_time": "2023-03-30T15:19:19.645Z"
   },
   {
    "duration": 211,
    "start_time": "2023-03-30T15:19:34.216Z"
   },
   {
    "duration": 429,
    "start_time": "2023-03-30T15:19:47.406Z"
   },
   {
    "duration": 202,
    "start_time": "2023-03-30T15:19:51.734Z"
   },
   {
    "duration": 4,
    "start_time": "2023-03-30T15:30:06.802Z"
   },
   {
    "duration": 22,
    "start_time": "2023-03-30T15:30:25.082Z"
   },
   {
    "duration": 19,
    "start_time": "2023-03-30T15:30:33.921Z"
   },
   {
    "duration": 5,
    "start_time": "2023-03-30T15:31:07.683Z"
   },
   {
    "duration": 7,
    "start_time": "2023-03-30T15:31:21.190Z"
   },
   {
    "duration": 28,
    "start_time": "2023-03-30T15:32:31.610Z"
   },
   {
    "duration": 7,
    "start_time": "2023-03-30T15:33:28.353Z"
   },
   {
    "duration": 222,
    "start_time": "2023-03-30T15:34:50.522Z"
   },
   {
    "duration": 8,
    "start_time": "2023-03-30T15:35:07.045Z"
   },
   {
    "duration": 217,
    "start_time": "2023-03-30T15:36:45.133Z"
   },
   {
    "duration": 263,
    "start_time": "2023-03-30T15:39:07.624Z"
   },
   {
    "duration": 315,
    "start_time": "2023-03-30T15:39:16.915Z"
   },
   {
    "duration": 202,
    "start_time": "2023-03-30T15:39:45.980Z"
   },
   {
    "duration": 172,
    "start_time": "2023-03-30T15:40:09.780Z"
   },
   {
    "duration": 214,
    "start_time": "2023-03-30T15:40:19.179Z"
   },
   {
    "duration": 5,
    "start_time": "2023-03-30T15:41:45.874Z"
   },
   {
    "duration": 332,
    "start_time": "2023-03-30T15:47:20.514Z"
   },
   {
    "duration": 446,
    "start_time": "2023-03-30T15:47:24.410Z"
   },
   {
    "duration": 210,
    "start_time": "2023-03-30T15:47:40.010Z"
   },
   {
    "duration": 202,
    "start_time": "2023-03-30T15:47:49.876Z"
   },
   {
    "duration": 420,
    "start_time": "2023-03-30T15:47:53.429Z"
   },
   {
    "duration": 317,
    "start_time": "2023-03-30T15:47:57.753Z"
   },
   {
    "duration": 19,
    "start_time": "2023-03-30T15:48:05.411Z"
   },
   {
    "duration": 7,
    "start_time": "2023-03-30T15:48:06.981Z"
   },
   {
    "duration": 29,
    "start_time": "2023-03-30T15:48:07.759Z"
   },
   {
    "duration": 7,
    "start_time": "2023-03-30T15:48:08.164Z"
   },
   {
    "duration": 378,
    "start_time": "2023-03-30T15:48:08.963Z"
   },
   {
    "duration": 97,
    "start_time": "2023-03-30T15:48:09.347Z"
   },
   {
    "duration": 190,
    "start_time": "2023-03-30T15:48:10.572Z"
   },
   {
    "duration": 4,
    "start_time": "2023-03-30T15:49:37.274Z"
   },
   {
    "duration": 4,
    "start_time": "2023-03-30T15:49:46.804Z"
   },
   {
    "duration": 9,
    "start_time": "2023-03-30T15:50:01.307Z"
   },
   {
    "duration": 17,
    "start_time": "2023-03-30T15:51:40.765Z"
   },
   {
    "duration": 13,
    "start_time": "2023-03-30T15:52:17.612Z"
   },
   {
    "duration": 4,
    "start_time": "2023-03-30T15:52:27.623Z"
   },
   {
    "duration": 10,
    "start_time": "2023-03-30T15:52:42.465Z"
   },
   {
    "duration": 11,
    "start_time": "2023-03-30T15:53:01.231Z"
   },
   {
    "duration": 22,
    "start_time": "2023-03-30T16:03:25.175Z"
   },
   {
    "duration": 8,
    "start_time": "2023-03-30T16:03:26.680Z"
   },
   {
    "duration": 24,
    "start_time": "2023-03-30T16:04:48.704Z"
   },
   {
    "duration": 56,
    "start_time": "2023-03-30T16:05:21.234Z"
   },
   {
    "duration": 7,
    "start_time": "2023-03-30T16:05:25.464Z"
   },
   {
    "duration": 370,
    "start_time": "2023-03-30T16:06:18.770Z"
   },
   {
    "duration": 301,
    "start_time": "2023-03-30T16:06:45.748Z"
   },
   {
    "duration": 6,
    "start_time": "2023-03-30T16:07:03.184Z"
   },
   {
    "duration": 206,
    "start_time": "2023-03-30T16:07:05.736Z"
   },
   {
    "duration": 196,
    "start_time": "2023-03-30T16:08:47.176Z"
   },
   {
    "duration": 12,
    "start_time": "2023-03-30T16:08:52.195Z"
   },
   {
    "duration": 3,
    "start_time": "2023-03-30T16:09:10.697Z"
   },
   {
    "duration": 9,
    "start_time": "2023-03-30T16:09:17.305Z"
   },
   {
    "duration": 5,
    "start_time": "2023-03-30T16:12:06.674Z"
   },
   {
    "duration": 55,
    "start_time": "2023-03-30T16:12:09.060Z"
   },
   {
    "duration": 15,
    "start_time": "2023-03-30T16:12:10.372Z"
   },
   {
    "duration": 9,
    "start_time": "2023-03-30T16:12:13.001Z"
   },
   {
    "duration": 16,
    "start_time": "2023-03-30T16:12:13.903Z"
   },
   {
    "duration": 20,
    "start_time": "2023-03-30T16:12:15.677Z"
   },
   {
    "duration": 9,
    "start_time": "2023-03-30T16:12:16.979Z"
   },
   {
    "duration": 156,
    "start_time": "2023-03-30T16:12:18.481Z"
   },
   {
    "duration": 944,
    "start_time": "2023-03-30T16:12:21.531Z"
   },
   {
    "duration": 172,
    "start_time": "2023-03-30T16:12:24.359Z"
   },
   {
    "duration": 242,
    "start_time": "2023-03-30T16:12:26.308Z"
   },
   {
    "duration": 34,
    "start_time": "2023-03-30T16:12:28.787Z"
   },
   {
    "duration": 170,
    "start_time": "2023-03-30T16:12:31.524Z"
   },
   {
    "duration": 50502,
    "start_time": "2023-03-30T16:12:36.050Z"
   },
   {
    "duration": 1105,
    "start_time": "2023-03-30T16:13:59.441Z"
   },
   {
    "duration": 5,
    "start_time": "2023-03-30T16:14:03.918Z"
   },
   {
    "duration": 11,
    "start_time": "2023-03-30T16:14:04.545Z"
   },
   {
    "duration": 4,
    "start_time": "2023-03-30T16:14:05.697Z"
   },
   {
    "duration": 11,
    "start_time": "2023-03-30T16:14:06.380Z"
   },
   {
    "duration": 338,
    "start_time": "2023-03-30T16:14:07.408Z"
   },
   {
    "duration": 490,
    "start_time": "2023-03-30T16:14:09.042Z"
   },
   {
    "duration": 211,
    "start_time": "2023-03-30T16:14:10.235Z"
   },
   {
    "duration": 24,
    "start_time": "2023-03-30T16:14:14.535Z"
   },
   {
    "duration": 6,
    "start_time": "2023-03-30T16:14:15.222Z"
   },
   {
    "duration": 59,
    "start_time": "2023-03-30T16:14:15.797Z"
   },
   {
    "duration": 8,
    "start_time": "2023-03-30T16:14:16.376Z"
   },
   {
    "duration": 232,
    "start_time": "2023-03-30T16:14:16.817Z"
   },
   {
    "duration": 7,
    "start_time": "2023-03-30T16:14:17.648Z"
   },
   {
    "duration": 216,
    "start_time": "2023-03-30T16:14:18.535Z"
   },
   {
    "duration": 11,
    "start_time": "2023-03-30T16:14:20.489Z"
   },
   {
    "duration": 49,
    "start_time": "2023-04-01T10:25:56.140Z"
   },
   {
    "duration": 40,
    "start_time": "2023-04-01T10:26:26.067Z"
   },
   {
    "duration": 52,
    "start_time": "2023-04-01T10:26:43.696Z"
   },
   {
    "duration": 54,
    "start_time": "2023-04-01T10:27:07.524Z"
   },
   {
    "duration": 44,
    "start_time": "2023-04-01T10:27:14.768Z"
   },
   {
    "duration": 62,
    "start_time": "2023-04-01T10:27:21.466Z"
   },
   {
    "duration": 1376,
    "start_time": "2023-04-01T10:28:10.972Z"
   },
   {
    "duration": 92,
    "start_time": "2023-04-01T10:28:14.986Z"
   },
   {
    "duration": 16,
    "start_time": "2023-04-01T10:28:16.339Z"
   },
   {
    "duration": 7,
    "start_time": "2023-04-01T10:28:18.525Z"
   },
   {
    "duration": 15,
    "start_time": "2023-04-01T10:28:20.455Z"
   },
   {
    "duration": 19,
    "start_time": "2023-04-01T10:28:21.939Z"
   },
   {
    "duration": 15,
    "start_time": "2023-04-01T10:28:24.055Z"
   },
   {
    "duration": 144,
    "start_time": "2023-04-01T10:28:29.150Z"
   },
   {
    "duration": 792,
    "start_time": "2023-04-01T10:28:32.431Z"
   },
   {
    "duration": 139,
    "start_time": "2023-04-01T10:28:35.125Z"
   },
   {
    "duration": 172,
    "start_time": "2023-04-01T10:28:37.072Z"
   },
   {
    "duration": 35,
    "start_time": "2023-04-01T10:28:39.756Z"
   },
   {
    "duration": 131,
    "start_time": "2023-04-01T10:28:43.469Z"
   },
   {
    "duration": 36921,
    "start_time": "2023-04-01T10:28:45.553Z"
   },
   {
    "duration": 97,
    "start_time": "2023-04-01T10:29:27.179Z"
   },
   {
    "duration": 4,
    "start_time": "2023-04-01T10:30:25.282Z"
   },
   {
    "duration": 11,
    "start_time": "2023-04-01T10:30:26.501Z"
   },
   {
    "duration": 4,
    "start_time": "2023-04-01T10:30:28.617Z"
   },
   {
    "duration": 7,
    "start_time": "2023-04-01T10:30:30.174Z"
   },
   {
    "duration": 125,
    "start_time": "2023-04-01T10:30:50.104Z"
   },
   {
    "duration": 357,
    "start_time": "2023-04-01T10:30:52.112Z"
   },
   {
    "duration": 138,
    "start_time": "2023-04-01T10:31:03.215Z"
   },
   {
    "duration": 1699,
    "start_time": "2023-04-02T09:41:13.553Z"
   },
   {
    "duration": 191,
    "start_time": "2023-04-02T09:41:17.709Z"
   },
   {
    "duration": 14,
    "start_time": "2023-04-02T09:41:20.343Z"
   },
   {
    "duration": 8,
    "start_time": "2023-04-02T09:41:23.018Z"
   },
   {
    "duration": 17,
    "start_time": "2023-04-02T09:41:24.718Z"
   },
   {
    "duration": 19,
    "start_time": "2023-04-02T09:41:28.913Z"
   },
   {
    "duration": 16,
    "start_time": "2023-04-02T09:41:32.244Z"
   },
   {
    "duration": 166,
    "start_time": "2023-04-02T09:41:38.134Z"
   },
   {
    "duration": 935,
    "start_time": "2023-04-02T09:41:40.457Z"
   },
   {
    "duration": 160,
    "start_time": "2023-04-02T09:41:43.072Z"
   },
   {
    "duration": 193,
    "start_time": "2023-04-02T09:41:45.033Z"
   },
   {
    "duration": 29,
    "start_time": "2023-04-02T09:41:51.131Z"
   },
   {
    "duration": 173,
    "start_time": "2023-04-02T09:42:21.488Z"
   },
   {
    "duration": 40396,
    "start_time": "2023-04-02T09:42:24.746Z"
   },
   {
    "duration": 434,
    "start_time": "2023-04-02T09:43:09.748Z"
   },
   {
    "duration": 21139,
    "start_time": "2023-04-02T09:46:21.805Z"
   },
   {
    "duration": 64561,
    "start_time": "2023-04-02T09:46:45.512Z"
   },
   {
    "duration": 96846,
    "start_time": "2023-04-02T09:49:15.802Z"
   },
   {
    "duration": 202,
    "start_time": "2023-04-02T09:52:15.298Z"
   },
   {
    "duration": 66,
    "start_time": "2023-04-02T09:52:31.632Z"
   },
   {
    "duration": 32,
    "start_time": "2023-04-02T09:56:13.238Z"
   },
   {
    "duration": 18,
    "start_time": "2023-04-02T09:56:18.893Z"
   },
   {
    "duration": 19,
    "start_time": "2023-04-02T09:56:33.869Z"
   },
   {
    "duration": 15,
    "start_time": "2023-04-02T09:56:57.937Z"
   },
   {
    "duration": 4,
    "start_time": "2023-04-02T10:07:23.515Z"
   },
   {
    "duration": 50,
    "start_time": "2023-04-02T10:07:25.159Z"
   },
   {
    "duration": 18,
    "start_time": "2023-04-02T10:07:26.191Z"
   },
   {
    "duration": 8,
    "start_time": "2023-04-02T10:07:28.129Z"
   },
   {
    "duration": 14,
    "start_time": "2023-04-02T10:07:31.481Z"
   },
   {
    "duration": 19,
    "start_time": "2023-04-02T10:07:33.256Z"
   },
   {
    "duration": 15,
    "start_time": "2023-04-02T10:07:35.338Z"
   },
   {
    "duration": 1062,
    "start_time": "2023-04-02T10:08:09.084Z"
   },
   {
    "duration": 16,
    "start_time": "2023-04-02T10:08:22.303Z"
   },
   {
    "duration": 21,
    "start_time": "2023-04-02T10:08:37.910Z"
   },
   {
    "duration": 18,
    "start_time": "2023-04-02T10:10:48.257Z"
   },
   {
    "duration": 42,
    "start_time": "2023-04-02T10:11:18.999Z"
   },
   {
    "duration": 5,
    "start_time": "2023-04-02T10:13:13.109Z"
   },
   {
    "duration": 70,
    "start_time": "2023-04-02T10:13:14.820Z"
   },
   {
    "duration": 13,
    "start_time": "2023-04-02T10:13:17.478Z"
   },
   {
    "duration": 7,
    "start_time": "2023-04-02T10:13:19.122Z"
   },
   {
    "duration": 20,
    "start_time": "2023-04-02T10:13:21.344Z"
   },
   {
    "duration": 23,
    "start_time": "2023-04-02T10:13:22.779Z"
   },
   {
    "duration": 24,
    "start_time": "2023-04-02T10:13:27.041Z"
   },
   {
    "duration": 18,
    "start_time": "2023-04-02T10:13:34.469Z"
   },
   {
    "duration": 197,
    "start_time": "2023-04-02T10:14:20.610Z"
   },
   {
    "duration": 946,
    "start_time": "2023-04-02T10:14:25.716Z"
   },
   {
    "duration": 175,
    "start_time": "2023-04-02T10:14:27.926Z"
   },
   {
    "duration": 126,
    "start_time": "2023-04-02T10:14:29.492Z"
   },
   {
    "duration": 33,
    "start_time": "2023-04-02T10:14:32.170Z"
   },
   {
    "duration": 139,
    "start_time": "2023-04-02T10:14:42.244Z"
   },
   {
    "duration": 136,
    "start_time": "2023-04-02T10:14:56.983Z"
   },
   {
    "duration": 402,
    "start_time": "2023-04-02T10:15:35.254Z"
   },
   {
    "duration": 89097,
    "start_time": "2023-04-02T10:16:45.059Z"
   },
   {
    "duration": 22,
    "start_time": "2023-04-02T10:19:04.554Z"
   },
   {
    "duration": 14,
    "start_time": "2023-04-02T10:19:33.520Z"
   },
   {
    "duration": 12,
    "start_time": "2023-04-02T10:19:58.393Z"
   },
   {
    "duration": 171,
    "start_time": "2023-04-02T10:20:06.035Z"
   },
   {
    "duration": 28,
    "start_time": "2023-04-02T10:20:12.363Z"
   },
   {
    "duration": 7,
    "start_time": "2023-04-02T10:20:31.280Z"
   },
   {
    "duration": 9,
    "start_time": "2023-04-02T10:20:32.532Z"
   },
   {
    "duration": 5,
    "start_time": "2023-04-02T10:20:36.515Z"
   },
   {
    "duration": 12,
    "start_time": "2023-04-02T10:20:37.820Z"
   },
   {
    "duration": 136,
    "start_time": "2023-04-02T10:21:38.514Z"
   },
   {
    "duration": 172,
    "start_time": "2023-04-02T10:21:41.651Z"
   },
   {
    "duration": 189,
    "start_time": "2023-04-02T10:21:45.542Z"
   },
   {
    "duration": 23,
    "start_time": "2023-04-02T10:22:03.117Z"
   },
   {
    "duration": 7,
    "start_time": "2023-04-02T10:22:04.018Z"
   },
   {
    "duration": 11,
    "start_time": "2023-04-02T10:22:06.261Z"
   },
   {
    "duration": 12,
    "start_time": "2023-04-02T10:22:17.514Z"
   },
   {
    "duration": 49,
    "start_time": "2023-04-02T10:22:24.066Z"
   },
   {
    "duration": 6,
    "start_time": "2023-04-02T10:22:31.068Z"
   },
   {
    "duration": 27,
    "start_time": "2023-04-02T10:22:32.263Z"
   },
   {
    "duration": 11,
    "start_time": "2023-04-02T10:22:42.112Z"
   },
   {
    "duration": 83,
    "start_time": "2023-04-02T10:23:09.403Z"
   },
   {
    "duration": 7,
    "start_time": "2023-04-02T10:23:10.401Z"
   },
   {
    "duration": 197,
    "start_time": "2023-04-02T10:23:13.655Z"
   },
   {
    "duration": 10,
    "start_time": "2023-04-02T10:25:21.200Z"
   }
  ],
  "kernelspec": {
   "display_name": "Python 3 (ipykernel)",
   "language": "python",
   "name": "python3"
  },
  "language_info": {
   "codemirror_mode": {
    "name": "ipython",
    "version": 3
   },
   "file_extension": ".py",
   "mimetype": "text/x-python",
   "name": "python",
   "nbconvert_exporter": "python",
   "pygments_lexer": "ipython3",
   "version": "3.10.9"
  },
  "toc": {
   "base_numbering": 1,
   "nav_menu": {},
   "number_sections": true,
   "sideBar": true,
   "skip_h1_title": true,
   "title_cell": "Содержание",
   "title_sidebar": "Contents",
   "toc_cell": true,
   "toc_position": {
    "height": "calc(100% - 180px)",
    "left": "10px",
    "top": "150px",
    "width": "290.594px"
   },
   "toc_section_display": true,
   "toc_window_display": true
  }
 },
 "nbformat": 4,
 "nbformat_minor": 2
}
