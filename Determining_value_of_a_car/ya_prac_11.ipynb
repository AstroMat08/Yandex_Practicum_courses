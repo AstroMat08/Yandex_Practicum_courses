{
 "cells": [
  {
   "cell_type": "markdown",
   "metadata": {},
   "source": [
    "# Определение стоимости автомобилей"
   ]
  },
  {
   "cell_type": "markdown",
   "metadata": {},
   "source": [
    "Сервис по продаже автомобилей с пробегом «Не бит, не крашен» разрабатывает приложение для привлечения новых клиентов. В нём можно быстро узнать рыночную стоимость своего автомобиля. В вашем распоряжении исторические данные: технические характеристики, комплектации и цены автомобилей. Вам нужно построить модель для определения стоимости. \n",
    "\n",
    "Заказчику важны:\n",
    "\n",
    "- качество предсказания;\n",
    "- скорость предсказания;\n",
    "- время обучения."
   ]
  },
  {
   "cell_type": "markdown",
   "metadata": {},
   "source": [
    "## Подготовка данных"
   ]
  },
  {
   "cell_type": "code",
   "execution_count": 1,
   "metadata": {},
   "outputs": [],
   "source": [
    "import numpy as np\n",
    "import pandas as pd\n",
    "import warnings\n",
    "from sklearn.model_selection import train_test_split\n",
    "from sklearn.preprocessing import StandardScaler\n",
    "from sklearn.metrics import mean_squared_error\n",
    "from sklearn.preprocessing import OrdinalEncoder\n",
    "from sklearn.preprocessing import OneHotEncoder\n",
    "from sklearn.linear_model import LinearRegression\n",
    "from sklearn.model_selection import RandomizedSearchCV\n",
    "from sklearn.tree import DecisionTreeRegressor\n",
    "from catboost import Pool, CatBoostRegressor, cv\n",
    "from lightgbm import LGBMRegressor\n",
    "warnings.filterwarnings('ignore')"
   ]
  },
  {
   "cell_type": "code",
   "execution_count": 2,
   "metadata": {},
   "outputs": [],
   "source": [
    "data = pd.read_csv('/datasets/autos.csv')"
   ]
  },
  {
   "cell_type": "markdown",
   "metadata": {},
   "source": [
    "Посмотрим на предоставленные данные"
   ]
  },
  {
   "cell_type": "code",
   "execution_count": 3,
   "metadata": {},
   "outputs": [
    {
     "data": {
      "text/html": [
       "<div>\n",
       "<style scoped>\n",
       "    .dataframe tbody tr th:only-of-type {\n",
       "        vertical-align: middle;\n",
       "    }\n",
       "\n",
       "    .dataframe tbody tr th {\n",
       "        vertical-align: top;\n",
       "    }\n",
       "\n",
       "    .dataframe thead th {\n",
       "        text-align: right;\n",
       "    }\n",
       "</style>\n",
       "<table border=\"1\" class=\"dataframe\">\n",
       "  <thead>\n",
       "    <tr style=\"text-align: right;\">\n",
       "      <th></th>\n",
       "      <th>DateCrawled</th>\n",
       "      <th>Price</th>\n",
       "      <th>VehicleType</th>\n",
       "      <th>RegistrationYear</th>\n",
       "      <th>Gearbox</th>\n",
       "      <th>Power</th>\n",
       "      <th>Model</th>\n",
       "      <th>Kilometer</th>\n",
       "      <th>RegistrationMonth</th>\n",
       "      <th>FuelType</th>\n",
       "      <th>Brand</th>\n",
       "      <th>Repaired</th>\n",
       "      <th>DateCreated</th>\n",
       "      <th>NumberOfPictures</th>\n",
       "      <th>PostalCode</th>\n",
       "      <th>LastSeen</th>\n",
       "    </tr>\n",
       "  </thead>\n",
       "  <tbody>\n",
       "    <tr>\n",
       "      <th>0</th>\n",
       "      <td>2016-03-24 11:52:17</td>\n",
       "      <td>480</td>\n",
       "      <td>NaN</td>\n",
       "      <td>1993</td>\n",
       "      <td>manual</td>\n",
       "      <td>0</td>\n",
       "      <td>golf</td>\n",
       "      <td>150000</td>\n",
       "      <td>0</td>\n",
       "      <td>petrol</td>\n",
       "      <td>volkswagen</td>\n",
       "      <td>NaN</td>\n",
       "      <td>2016-03-24 00:00:00</td>\n",
       "      <td>0</td>\n",
       "      <td>70435</td>\n",
       "      <td>2016-04-07 03:16:57</td>\n",
       "    </tr>\n",
       "    <tr>\n",
       "      <th>1</th>\n",
       "      <td>2016-03-24 10:58:45</td>\n",
       "      <td>18300</td>\n",
       "      <td>coupe</td>\n",
       "      <td>2011</td>\n",
       "      <td>manual</td>\n",
       "      <td>190</td>\n",
       "      <td>NaN</td>\n",
       "      <td>125000</td>\n",
       "      <td>5</td>\n",
       "      <td>gasoline</td>\n",
       "      <td>audi</td>\n",
       "      <td>yes</td>\n",
       "      <td>2016-03-24 00:00:00</td>\n",
       "      <td>0</td>\n",
       "      <td>66954</td>\n",
       "      <td>2016-04-07 01:46:50</td>\n",
       "    </tr>\n",
       "    <tr>\n",
       "      <th>2</th>\n",
       "      <td>2016-03-14 12:52:21</td>\n",
       "      <td>9800</td>\n",
       "      <td>suv</td>\n",
       "      <td>2004</td>\n",
       "      <td>auto</td>\n",
       "      <td>163</td>\n",
       "      <td>grand</td>\n",
       "      <td>125000</td>\n",
       "      <td>8</td>\n",
       "      <td>gasoline</td>\n",
       "      <td>jeep</td>\n",
       "      <td>NaN</td>\n",
       "      <td>2016-03-14 00:00:00</td>\n",
       "      <td>0</td>\n",
       "      <td>90480</td>\n",
       "      <td>2016-04-05 12:47:46</td>\n",
       "    </tr>\n",
       "    <tr>\n",
       "      <th>3</th>\n",
       "      <td>2016-03-17 16:54:04</td>\n",
       "      <td>1500</td>\n",
       "      <td>small</td>\n",
       "      <td>2001</td>\n",
       "      <td>manual</td>\n",
       "      <td>75</td>\n",
       "      <td>golf</td>\n",
       "      <td>150000</td>\n",
       "      <td>6</td>\n",
       "      <td>petrol</td>\n",
       "      <td>volkswagen</td>\n",
       "      <td>no</td>\n",
       "      <td>2016-03-17 00:00:00</td>\n",
       "      <td>0</td>\n",
       "      <td>91074</td>\n",
       "      <td>2016-03-17 17:40:17</td>\n",
       "    </tr>\n",
       "    <tr>\n",
       "      <th>4</th>\n",
       "      <td>2016-03-31 17:25:20</td>\n",
       "      <td>3600</td>\n",
       "      <td>small</td>\n",
       "      <td>2008</td>\n",
       "      <td>manual</td>\n",
       "      <td>69</td>\n",
       "      <td>fabia</td>\n",
       "      <td>90000</td>\n",
       "      <td>7</td>\n",
       "      <td>gasoline</td>\n",
       "      <td>skoda</td>\n",
       "      <td>no</td>\n",
       "      <td>2016-03-31 00:00:00</td>\n",
       "      <td>0</td>\n",
       "      <td>60437</td>\n",
       "      <td>2016-04-06 10:17:21</td>\n",
       "    </tr>\n",
       "  </tbody>\n",
       "</table>\n",
       "</div>"
      ],
      "text/plain": [
       "           DateCrawled  Price VehicleType  RegistrationYear Gearbox  Power  \\\n",
       "0  2016-03-24 11:52:17    480         NaN              1993  manual      0   \n",
       "1  2016-03-24 10:58:45  18300       coupe              2011  manual    190   \n",
       "2  2016-03-14 12:52:21   9800         suv              2004    auto    163   \n",
       "3  2016-03-17 16:54:04   1500       small              2001  manual     75   \n",
       "4  2016-03-31 17:25:20   3600       small              2008  manual     69   \n",
       "\n",
       "   Model  Kilometer  RegistrationMonth  FuelType       Brand Repaired  \\\n",
       "0   golf     150000                  0    petrol  volkswagen      NaN   \n",
       "1    NaN     125000                  5  gasoline        audi      yes   \n",
       "2  grand     125000                  8  gasoline        jeep      NaN   \n",
       "3   golf     150000                  6    petrol  volkswagen       no   \n",
       "4  fabia      90000                  7  gasoline       skoda       no   \n",
       "\n",
       "           DateCreated  NumberOfPictures  PostalCode             LastSeen  \n",
       "0  2016-03-24 00:00:00                 0       70435  2016-04-07 03:16:57  \n",
       "1  2016-03-24 00:00:00                 0       66954  2016-04-07 01:46:50  \n",
       "2  2016-03-14 00:00:00                 0       90480  2016-04-05 12:47:46  \n",
       "3  2016-03-17 00:00:00                 0       91074  2016-03-17 17:40:17  \n",
       "4  2016-03-31 00:00:00                 0       60437  2016-04-06 10:17:21  "
      ]
     },
     "execution_count": 3,
     "metadata": {},
     "output_type": "execute_result"
    }
   ],
   "source": [
    "data.head()"
   ]
  },
  {
   "cell_type": "code",
   "execution_count": 4,
   "metadata": {
    "scrolled": true
   },
   "outputs": [
    {
     "name": "stdout",
     "output_type": "stream",
     "text": [
      "<class 'pandas.core.frame.DataFrame'>\n",
      "RangeIndex: 354369 entries, 0 to 354368\n",
      "Data columns (total 16 columns):\n",
      " #   Column             Non-Null Count   Dtype \n",
      "---  ------             --------------   ----- \n",
      " 0   DateCrawled        354369 non-null  object\n",
      " 1   Price              354369 non-null  int64 \n",
      " 2   VehicleType        316879 non-null  object\n",
      " 3   RegistrationYear   354369 non-null  int64 \n",
      " 4   Gearbox            334536 non-null  object\n",
      " 5   Power              354369 non-null  int64 \n",
      " 6   Model              334664 non-null  object\n",
      " 7   Kilometer          354369 non-null  int64 \n",
      " 8   RegistrationMonth  354369 non-null  int64 \n",
      " 9   FuelType           321474 non-null  object\n",
      " 10  Brand              354369 non-null  object\n",
      " 11  Repaired           283215 non-null  object\n",
      " 12  DateCreated        354369 non-null  object\n",
      " 13  NumberOfPictures   354369 non-null  int64 \n",
      " 14  PostalCode         354369 non-null  int64 \n",
      " 15  LastSeen           354369 non-null  object\n",
      "dtypes: int64(7), object(9)\n",
      "memory usage: 43.3+ MB\n"
     ]
    },
    {
     "data": {
      "text/plain": [
       "None"
      ]
     },
     "metadata": {},
     "output_type": "display_data"
    }
   ],
   "source": [
    "display(data.info())"
   ]
  },
  {
   "cell_type": "markdown",
   "metadata": {},
   "source": [
    "Теперь займемся предобработкой данных"
   ]
  },
  {
   "cell_type": "code",
   "execution_count": 5,
   "metadata": {
    "scrolled": true
   },
   "outputs": [
    {
     "data": {
      "text/plain": [
       "DateCrawled              0\n",
       "Price                    0\n",
       "VehicleType          37490\n",
       "RegistrationYear         0\n",
       "Gearbox              19833\n",
       "Power                    0\n",
       "Model                19705\n",
       "Kilometer                0\n",
       "RegistrationMonth        0\n",
       "FuelType             32895\n",
       "Brand                    0\n",
       "Repaired             71154\n",
       "DateCreated              0\n",
       "NumberOfPictures         0\n",
       "PostalCode               0\n",
       "LastSeen                 0\n",
       "dtype: int64"
      ]
     },
     "execution_count": 5,
     "metadata": {},
     "output_type": "execute_result"
    }
   ],
   "source": [
    "data.isna().sum()"
   ]
  },
  {
   "cell_type": "markdown",
   "metadata": {},
   "source": [
    "Проверим, есть ли объявления, в которых укзана нулевая стоимость"
   ]
  },
  {
   "cell_type": "code",
   "execution_count": 6,
   "metadata": {},
   "outputs": [
    {
     "name": "stdout",
     "output_type": "stream",
     "text": [
      "Колличество объявлений с нулевой ценой: 10772\n"
     ]
    }
   ],
   "source": [
    "print(\"Колличество объявлений с нулевой ценой:\",len(data.loc[data['Price'] == 0]))"
   ]
  },
  {
   "cell_type": "markdown",
   "metadata": {},
   "source": [
    "Удалим такие записи, так как восстановить стоимость невозможно, но это влияет на предсказания моделей"
   ]
  },
  {
   "cell_type": "code",
   "execution_count": 7,
   "metadata": {},
   "outputs": [],
   "source": [
    "data = data.loc[data['Price'] != 0]"
   ]
  },
  {
   "cell_type": "markdown",
   "metadata": {},
   "source": [
    "Удалим данные с пропусками в столбце `Model`, так как невозможно заполнить их исходя из основных данных"
   ]
  },
  {
   "cell_type": "code",
   "execution_count": 8,
   "metadata": {},
   "outputs": [],
   "source": [
    "data = data.loc[~data['Model'].isna()]"
   ]
  },
  {
   "cell_type": "markdown",
   "metadata": {},
   "source": [
    "Пропусков в столбце `VehicleType` слишком много, поэтому не будем их удалять, а просто заменим на `unknown`"
   ]
  },
  {
   "cell_type": "code",
   "execution_count": 9,
   "metadata": {},
   "outputs": [],
   "source": [
    "data['VehicleType'] = data['VehicleType'].fillna('unknown')"
   ]
  },
  {
   "cell_type": "code",
   "execution_count": 10,
   "metadata": {},
   "outputs": [
    {
     "name": "stdout",
     "output_type": "stream",
     "text": [
      "86\n"
     ]
    }
   ],
   "source": [
    "data['RegistrationYear'].unique()\n",
    "print(len(data.loc[(data['RegistrationYear'] > 2021) | (data['RegistrationYear'] < 1900)]))"
   ]
  },
  {
   "cell_type": "markdown",
   "metadata": {},
   "source": [
    "В столбце `RegistrationYear` есть некорректные записи, можно удалить их, так как их количество незначительно"
   ]
  },
  {
   "cell_type": "code",
   "execution_count": 11,
   "metadata": {},
   "outputs": [],
   "source": [
    "data = data.loc[(data['RegistrationYear'] <= 2021) & (data['RegistrationYear'] >= 1900)]"
   ]
  },
  {
   "cell_type": "markdown",
   "metadata": {},
   "source": [
    "Заменим пропуски в столбце `Gearbox` средним по модели"
   ]
  },
  {
   "cell_type": "code",
   "execution_count": 12,
   "metadata": {},
   "outputs": [],
   "source": [
    "data['Gearbox'] = data['Gearbox'].fillna(data.groupby('Model')['Gearbox'].transform(lambda x: x.value_counts().idxmax()))"
   ]
  },
  {
   "cell_type": "markdown",
   "metadata": {},
   "source": [
    "Проверим значения в столбце `Power`"
   ]
  },
  {
   "cell_type": "code",
   "execution_count": 13,
   "metadata": {
    "scrolled": true
   },
   "outputs": [
    {
     "data": {
      "text/plain": [
       "array([    0,   163,    75,    69,   102,   109,   125,   101,   105,\n",
       "         140,   115,   131,   190,    60,   136,   160,   231,    90,\n",
       "          50,   118,   193,    99,   113,   218,   122,   129,    70,\n",
       "         306,    95,    61,   177,    80,   170,    55,   143,    64,\n",
       "         232,   150,   156,    82,   155,   185,    87,   180,    86,\n",
       "          84,   224,   235,   200,   178,   265,    77,   110,   144,\n",
       "         120,    54,   286,   116,   184,   126,   204,    88,   194,\n",
       "         305,   197,   179,   250,   313,    41,    45,   165,    98,\n",
       "         130,   114,   211,    56,   201,   213,    58,   107,    83,\n",
       "         174,   100,   220,    85,    73,   192,    66,   299,    74,\n",
       "          52,   147,    65,   310,    71,    97,   239,    68,   203,\n",
       "         300,   103,   258,   320,    63,    81,   148,    44,   145,\n",
       "         280,   260,   104,   188,   333,   117,   141,    59,   132,\n",
       "         234,   158,    39,    92,    51,   135,   230,    53,   209,\n",
       "          43,   146,    67,   106,   166,   276,   344,    72,   237,\n",
       "         245,   111,   326,   279,    23,   138,   175,    96,   226,\n",
       "         301,   334,   128,   133,   124,    33,   219,   241,   167,\n",
       "         182,   196,   238,  1398,   228,    48,   272,   139,   186,\n",
       "          79,   256,   243,   252,   396,   340,   108,   121,   187,\n",
       "         289,   222,   198,   284,    37,   450,   233,   112,   387,\n",
       "         347,   172,    57,   137,    94,   212,   476,   314,    30,\n",
       "           7,    47,    26,   173,   290,   207,   205,   171,    78,\n",
       "          91,    89,   349,    40,   325,    76,   151,   953,    93,\n",
       "         142,   343,   199,   164,    16,   152,   367,   240,   208,\n",
       "         210,    46,   435,  1001,   225,   127,   176,   161,   603,\n",
       "         307,   354,    35,   206,   771,   355,   273,   223,   255,\n",
       "         123,   154,   149,  7515,   268,   620,   169,   400,   275,\n",
       "          34,     2,   242,  1779,   162,  1753,   329,   285,   134,\n",
       "         420,   247,   168,   215,   360,    18,   330,   500,    62,\n",
       "         183,   254,    15,   321,   315,   952,   328,   600,   181,\n",
       "         119,   426,   599,   379,   264,    22,   157,    42,   195,\n",
       "         309,   507,   381,   271,   440,   401,   249,   189,  2729,\n",
       "          21,  1240,  1704,   521,     1,  1900,   270,   292,   808,\n",
       "         515,   303,    29,    38,  1993,    14,   216,   610,   504,\n",
       "         267,   331,   363,   261,   253,   696, 10520,   376,   227,\n",
       "         311,    27,   217,   350,    20,    10,  1999,    11,  1056,\n",
       "          25,   394,    12,   298,   296,    49,  1659,     4,   294,\n",
       "        6920,   246,     5,    17,  1625,   221,  1367,   259,   606,\n",
       "          24,   327,  2017,  1597,   266,   374,     9,   405,    13,\n",
       "         601,     8,   411,   900,   159,   541,  7512, 10218,  7544,\n",
       "         999,   287,    19,   214,  1090,   457,   236,   282,   388,\n",
       "         385,  1000,  5411,   335,  1360,   202,  3750,   805,  1062,\n",
       "         750,  1024, 11530,  1796,   269,   460,  1780, 12012, 17932,\n",
       "         316,  2005,  1800,  1399,   191,   278,  1300,   380,   257,\n",
       "         449,   295,   153,   288,  1653,   520,   560,   281, 12510,\n",
       "        1500,   386,    32,  1202,  2016,   430,  1436,  1405,   671,\n",
       "         274,  1288,  1055,  6226,  1115,   277,  1105,   341,  1223,\n",
       "         392,  8404,  1968,   338,   445,  1920,   370,   517,  4400,\n",
       "       10710, 10522,     6,   431,  1164, 11509,   371,  1501,   428,\n",
       "       11635,   304,   390,   348,  1703,   579,   580,   408,    31,\n",
       "         358,  1403,   489,  5575,   262, 19211,   585,   353,   490,\n",
       "         283,   352,   550,  3199,  7508,  1312,  1937,   950,  4700,\n",
       "        1600,  3454, 19208,   251,   850,   337,   700,  2331,  2789,\n",
       "         487,    36,   519,  2461,  6006,  3500,  5815,  6018,  1781,\n",
       "         612,  1506,  5809, 15020,  5867,  2172,  1598, 17410,  1363,\n",
       "         584,   322,  1054,   382,  1339,   318,   510,   525,    28,\n",
       "        1151,   685,  6011,   317,   703,  1771, 15001,   514,   332,\n",
       "         324,  6045,   425,   308,  6010,   475,   903,   640,  2000,\n",
       "         362,   248,   651,  2799,   368, 17011,   505,  1103,  1521,\n",
       "         351,   398,  9000,  1998, 10311,   409,  1230, 17019,  8259,\n",
       "        1895,   901,   871,   909,  2201,  1595,   776,  1400, 17700,\n",
       "       11011,  1199,   459,   357,  1162, 15033,  1896,   339,   361,\n",
       "         574,  6512,  1011,   454, 13616,   604,   607, 16312,  1082,\n",
       "         336, 20000,   416,   678,  6012,  1021,  1870,  1401, 13636,\n",
       "        1250,   323,  1158,  2009,   902,  6062,  1275,   572,   244,\n",
       "         399,  1016,   743,  1221,   345,  2402, 16011,  1362,   544,\n",
       "         645,   907,   702, 12512,  1995,  1986,  1003,  1432,  9013,\n",
       "        9011,  1017,  1394, 15017,  1992,   540,  2018, 11025,  1433,\n",
       "        1701,  2792,  1502,  1239,  1390,  1160, 11111,  1783,   229,\n",
       "        9007,   923,  1149,   754,  1988,  5420,  1793,   365,   356,\n",
       "         364,  7511,  1299,   293, 19312,  1079,  1689,   998,   800,\n",
       "        1100,  9012,   346,  1933,   508, 16311,   551,  1252,  7529,\n",
       "        1005,  1707,  1416,  1700,  8500,  1012,  1503, 10110,   421,\n",
       "        4507,  1631,  7518,   377,  1004,  1799,  2007,  2598,  1548,\n",
       "        1241,   650,     3])"
      ]
     },
     "execution_count": 13,
     "metadata": {},
     "output_type": "execute_result"
    }
   ],
   "source": [
    "data['Power'].unique()"
   ]
  },
  {
   "cell_type": "markdown",
   "metadata": {},
   "source": [
    "Удалим некорректные значения в этом столбце"
   ]
  },
  {
   "cell_type": "code",
   "execution_count": 14,
   "metadata": {},
   "outputs": [],
   "source": [
    "data.loc[(data['Power'] > 1000) | (data['Power'] <= 4), 'Power'] = None\n",
    "data['Power'] = data['Power'].fillna(data.groupby('Model')['Power'].transform('median'))\n",
    "data = data.loc[~data['Power'].isna()]\n",
    "data['Power'] = data['Power'].astype('int64')"
   ]
  },
  {
   "cell_type": "markdown",
   "metadata": {},
   "source": [
    "Пропуск `FuelType` заполним средним по модели"
   ]
  },
  {
   "cell_type": "code",
   "execution_count": 15,
   "metadata": {},
   "outputs": [],
   "source": [
    "data['FuelType'] = data['FuelType'].fillna(data.groupby('Model')['FuelType'].transform(lambda x: x.value_counts().idxmax()))"
   ]
  },
  {
   "cell_type": "markdown",
   "metadata": {},
   "source": [
    "Пропуски в столбце `Repaired` заполним значением `no`, так как если машина не ремонтировалась, то пользователь вероятно пропускает этот столбец "
   ]
  },
  {
   "cell_type": "code",
   "execution_count": 16,
   "metadata": {},
   "outputs": [],
   "source": [
    "data[\"Repaired\"].fillna(\"no\", inplace=True)"
   ]
  },
  {
   "cell_type": "markdown",
   "metadata": {},
   "source": [
    "Так же удалим признаки, не влияющии на стоимость"
   ]
  },
  {
   "cell_type": "code",
   "execution_count": 17,
   "metadata": {},
   "outputs": [],
   "source": [
    "data = data.drop(['NumberOfPictures', 'PostalCode', 'DateCrawled', 'LastSeen', 'DateCreated'], axis=1)"
   ]
  },
  {
   "cell_type": "markdown",
   "metadata": {},
   "source": [
    "Удалим дубликаты"
   ]
  },
  {
   "cell_type": "code",
   "execution_count": 18,
   "metadata": {},
   "outputs": [],
   "source": [
    "data = data.drop_duplicates()"
   ]
  },
  {
   "cell_type": "markdown",
   "metadata": {},
   "source": [
    "Так же удалим признаки, не влияющии на стоимость"
   ]
  },
  {
   "cell_type": "code",
   "execution_count": 20,
   "metadata": {},
   "outputs": [],
   "source": [
    "data = data.reset_index(drop=True)"
   ]
  },
  {
   "cell_type": "code",
   "execution_count": 21,
   "metadata": {},
   "outputs": [
    {
     "name": "stdout",
     "output_type": "stream",
     "text": [
      "<class 'pandas.core.frame.DataFrame'>\n",
      "RangeIndex: 294893 entries, 0 to 294892\n",
      "Data columns (total 11 columns):\n",
      " #   Column             Non-Null Count   Dtype \n",
      "---  ------             --------------   ----- \n",
      " 0   Price              294893 non-null  int64 \n",
      " 1   VehicleType        294893 non-null  object\n",
      " 2   RegistrationYear   294893 non-null  int64 \n",
      " 3   Gearbox            294893 non-null  object\n",
      " 4   Power              294893 non-null  int64 \n",
      " 5   Model              294893 non-null  object\n",
      " 6   Kilometer          294893 non-null  int64 \n",
      " 7   RegistrationMonth  294893 non-null  int64 \n",
      " 8   FuelType           294893 non-null  object\n",
      " 9   Brand              294893 non-null  object\n",
      " 10  Repaired           294893 non-null  object\n",
      "dtypes: int64(5), object(6)\n",
      "memory usage: 24.7+ MB\n"
     ]
    }
   ],
   "source": [
    "data.info()"
   ]
  },
  {
   "cell_type": "code",
   "execution_count": 22,
   "metadata": {},
   "outputs": [
    {
     "data": {
      "text/html": [
       "<div>\n",
       "<style scoped>\n",
       "    .dataframe tbody tr th:only-of-type {\n",
       "        vertical-align: middle;\n",
       "    }\n",
       "\n",
       "    .dataframe tbody tr th {\n",
       "        vertical-align: top;\n",
       "    }\n",
       "\n",
       "    .dataframe thead th {\n",
       "        text-align: right;\n",
       "    }\n",
       "</style>\n",
       "<table border=\"1\" class=\"dataframe\">\n",
       "  <thead>\n",
       "    <tr style=\"text-align: right;\">\n",
       "      <th></th>\n",
       "      <th>Price</th>\n",
       "      <th>RegistrationYear</th>\n",
       "      <th>Power</th>\n",
       "      <th>Kilometer</th>\n",
       "      <th>RegistrationMonth</th>\n",
       "    </tr>\n",
       "  </thead>\n",
       "  <tbody>\n",
       "    <tr>\n",
       "      <th>count</th>\n",
       "      <td>294893.000000</td>\n",
       "      <td>294893.000000</td>\n",
       "      <td>294893.000000</td>\n",
       "      <td>294893.000000</td>\n",
       "      <td>294893.000000</td>\n",
       "    </tr>\n",
       "    <tr>\n",
       "      <th>mean</th>\n",
       "      <td>4626.653379</td>\n",
       "      <td>2003.241623</td>\n",
       "      <td>119.207655</td>\n",
       "      <td>128331.055671</td>\n",
       "      <td>5.832977</td>\n",
       "    </tr>\n",
       "    <tr>\n",
       "      <th>std</th>\n",
       "      <td>4547.079506</td>\n",
       "      <td>7.148876</td>\n",
       "      <td>53.260040</td>\n",
       "      <td>37189.848967</td>\n",
       "      <td>3.664232</td>\n",
       "    </tr>\n",
       "    <tr>\n",
       "      <th>min</th>\n",
       "      <td>1.000000</td>\n",
       "      <td>1910.000000</td>\n",
       "      <td>5.000000</td>\n",
       "      <td>5000.000000</td>\n",
       "      <td>0.000000</td>\n",
       "    </tr>\n",
       "    <tr>\n",
       "      <th>25%</th>\n",
       "      <td>1200.000000</td>\n",
       "      <td>1999.000000</td>\n",
       "      <td>75.000000</td>\n",
       "      <td>125000.000000</td>\n",
       "      <td>3.000000</td>\n",
       "    </tr>\n",
       "    <tr>\n",
       "      <th>50%</th>\n",
       "      <td>2950.000000</td>\n",
       "      <td>2003.000000</td>\n",
       "      <td>110.000000</td>\n",
       "      <td>150000.000000</td>\n",
       "      <td>6.000000</td>\n",
       "    </tr>\n",
       "    <tr>\n",
       "      <th>75%</th>\n",
       "      <td>6650.000000</td>\n",
       "      <td>2008.000000</td>\n",
       "      <td>144.000000</td>\n",
       "      <td>150000.000000</td>\n",
       "      <td>9.000000</td>\n",
       "    </tr>\n",
       "    <tr>\n",
       "      <th>max</th>\n",
       "      <td>20000.000000</td>\n",
       "      <td>2019.000000</td>\n",
       "      <td>1000.000000</td>\n",
       "      <td>150000.000000</td>\n",
       "      <td>12.000000</td>\n",
       "    </tr>\n",
       "  </tbody>\n",
       "</table>\n",
       "</div>"
      ],
      "text/plain": [
       "               Price  RegistrationYear          Power      Kilometer  \\\n",
       "count  294893.000000     294893.000000  294893.000000  294893.000000   \n",
       "mean     4626.653379       2003.241623     119.207655  128331.055671   \n",
       "std      4547.079506          7.148876      53.260040   37189.848967   \n",
       "min         1.000000       1910.000000       5.000000    5000.000000   \n",
       "25%      1200.000000       1999.000000      75.000000  125000.000000   \n",
       "50%      2950.000000       2003.000000     110.000000  150000.000000   \n",
       "75%      6650.000000       2008.000000     144.000000  150000.000000   \n",
       "max     20000.000000       2019.000000    1000.000000  150000.000000   \n",
       "\n",
       "       RegistrationMonth  \n",
       "count      294893.000000  \n",
       "mean            5.832977  \n",
       "std             3.664232  \n",
       "min             0.000000  \n",
       "25%             3.000000  \n",
       "50%             6.000000  \n",
       "75%             9.000000  \n",
       "max            12.000000  "
      ]
     },
     "execution_count": 22,
     "metadata": {},
     "output_type": "execute_result"
    }
   ],
   "source": [
    "data.describe()"
   ]
  },
  {
   "cell_type": "markdown",
   "metadata": {},
   "source": [
    "Перед обучением моделей проведем кодирование категориальных данных с помощью Ordinal Encoding"
   ]
  },
  {
   "cell_type": "code",
   "execution_count": 23,
   "metadata": {},
   "outputs": [],
   "source": [
    "old_data = data"
   ]
  },
  {
   "cell_type": "code",
   "execution_count": 24,
   "metadata": {},
   "outputs": [],
   "source": [
    "target = data['Price']\n",
    "features = data.drop('Price', axis=1)\n",
    "features_train, features_test, target_train, target_test = train_test_split(\n",
    "    features, target, test_size=0.25, random_state=12345)\n",
    "cat_features = ['VehicleType', 'Repaired', 'FuelType', 'Gearbox', 'Brand', 'Model']"
   ]
  },
  {
   "cell_type": "code",
   "execution_count": 25,
   "metadata": {},
   "outputs": [],
   "source": [
    "ohe_encoder = OneHotEncoder(drop='first', sparse=False)\n",
    "\n",
    "train_temp = ohe_encoder.fit_transform(features_train[cat_features])\n",
    "features_train[ohe_encoder.get_feature_names()] = train_temp\n",
    "features_train.drop(cat_features, axis=1, inplace=True)\n",
    "\n",
    "test_temp = ohe_encoder.transform(features_test[cat_features])\n",
    "features_test[ohe_encoder.get_feature_names()] = test_temp\n",
    "features_test.drop(cat_features, axis=1, inplace=True)"
   ]
  },
  {
   "cell_type": "markdown",
   "metadata": {},
   "source": [
    "Стандартизируем данные"
   ]
  },
  {
   "cell_type": "code",
   "execution_count": 27,
   "metadata": {},
   "outputs": [],
   "source": [
    "scaler = StandardScaler()\n",
    "scaler.fit(features_train)\n",
    "features_train = scaler.transform(features_train)\n",
    "features_test = scaler.transform(features_test)"
   ]
  },
  {
   "cell_type": "markdown",
   "metadata": {},
   "source": [
    "**Вывод: Был обработан предоставленный массив данных. Заполненны пропуски в таблице, исправленны некорректные данные. Удалены дубликаты. Так же удалены столбцы с данными не влияющими на стоимость. Проведено кодирование данных методом `Ordinal Encoding`. Так же проведено масштабирование данных.**"
   ]
  },
  {
   "cell_type": "markdown",
   "metadata": {},
   "source": [
    "## Обучение моделей"
   ]
  },
  {
   "cell_type": "markdown",
   "metadata": {},
   "source": [
    "### DecisionTreeRegressor"
   ]
  },
  {
   "cell_type": "code",
   "execution_count": 28,
   "metadata": {
    "scrolled": false
   },
   "outputs": [
    {
     "name": "stdout",
     "output_type": "stream",
     "text": [
      "Fitting 2 folds for each of 8 candidates, totalling 16 fits\n",
      "[CV 1/2; 1/8] START max_depth=4.................................................\n",
      "[CV 1/2; 1/8] END ...............................max_depth=4; total time=   3.2s\n",
      "[CV 2/2; 1/8] START max_depth=4.................................................\n",
      "[CV 2/2; 1/8] END ...............................max_depth=4; total time=   3.0s\n",
      "[CV 1/2; 2/8] START max_depth=5.................................................\n",
      "[CV 1/2; 2/8] END ...............................max_depth=5; total time=   3.7s\n",
      "[CV 2/2; 2/8] START max_depth=5.................................................\n",
      "[CV 2/2; 2/8] END ...............................max_depth=5; total time=   3.7s\n",
      "[CV 1/2; 3/8] START max_depth=6.................................................\n",
      "[CV 1/2; 3/8] END ...............................max_depth=6; total time=   3.9s\n",
      "[CV 2/2; 3/8] START max_depth=6.................................................\n",
      "[CV 2/2; 3/8] END ...............................max_depth=6; total time=   4.1s\n",
      "[CV 1/2; 4/8] START max_depth=7.................................................\n",
      "[CV 1/2; 4/8] END ...............................max_depth=7; total time=   4.3s\n",
      "[CV 2/2; 4/8] START max_depth=7.................................................\n",
      "[CV 2/2; 4/8] END ...............................max_depth=7; total time=   4.5s\n",
      "[CV 1/2; 5/8] START max_depth=8.................................................\n",
      "[CV 1/2; 5/8] END ...............................max_depth=8; total time=   4.7s\n",
      "[CV 2/2; 5/8] START max_depth=8.................................................\n",
      "[CV 2/2; 5/8] END ...............................max_depth=8; total time=   4.8s\n",
      "[CV 1/2; 6/8] START max_depth=9.................................................\n",
      "[CV 1/2; 6/8] END ...............................max_depth=9; total time=   4.9s\n",
      "[CV 2/2; 6/8] START max_depth=9.................................................\n",
      "[CV 2/2; 6/8] END ...............................max_depth=9; total time=   4.5s\n",
      "[CV 1/2; 7/8] START max_depth=10................................................\n",
      "[CV 1/2; 7/8] END ..............................max_depth=10; total time=   4.9s\n",
      "[CV 2/2; 7/8] START max_depth=10................................................\n",
      "[CV 2/2; 7/8] END ..............................max_depth=10; total time=   5.6s\n",
      "[CV 1/2; 8/8] START max_depth=11................................................\n",
      "[CV 1/2; 8/8] END ..............................max_depth=11; total time=   5.0s\n",
      "[CV 2/2; 8/8] START max_depth=11................................................\n",
      "[CV 2/2; 8/8] END ..............................max_depth=11; total time=   5.1s\n"
     ]
    },
    {
     "data": {
      "text/plain": [
       "{'max_depth': 11}"
      ]
     },
     "execution_count": 28,
     "metadata": {},
     "output_type": "execute_result"
    }
   ],
   "source": [
    "test_tree_model = DecisionTreeRegressor(criterion='mse', random_state=12345) \n",
    "test_tree_params = {'max_depth': list(np.arange(4, 12))}\n",
    "test_tree_model = RandomizedSearchCV(test_tree_model,  test_tree_params, n_iter=100, n_jobs=-1, cv=2, verbose=10)\n",
    "test_tree_model.fit(features_train, target_train)\n",
    "test_tree_model.best_params_"
   ]
  },
  {
   "cell_type": "code",
   "execution_count": 29,
   "metadata": {},
   "outputs": [
    {
     "name": "stdout",
     "output_type": "stream",
     "text": [
      "CPU times: user 5.81 s, sys: 88.9 ms, total: 5.9 s\n",
      "Wall time: 6.07 s\n"
     ]
    },
    {
     "data": {
      "text/plain": [
       "DecisionTreeRegressor(max_depth=11, random_state=12345)"
      ]
     },
     "execution_count": 29,
     "metadata": {},
     "output_type": "execute_result"
    }
   ],
   "source": [
    "%%time\n",
    "tree_model = DecisionTreeRegressor(criterion='mse', max_depth=11, random_state=12345) \n",
    "tree_model.fit(features_train, target_train)"
   ]
  },
  {
   "cell_type": "code",
   "execution_count": 30,
   "metadata": {},
   "outputs": [
    {
     "name": "stdout",
     "output_type": "stream",
     "text": [
      "CPU times: user 48.2 ms, sys: 30.8 ms, total: 79 ms\n",
      "Wall time: 87.8 ms\n"
     ]
    }
   ],
   "source": [
    "%%time\n",
    "pred_tree_model = tree_model.predict(features_test)"
   ]
  },
  {
   "cell_type": "code",
   "execution_count": 31,
   "metadata": {},
   "outputs": [
    {
     "name": "stdout",
     "output_type": "stream",
     "text": [
      "RMSE для DecisionTreeRegressor модели на тестовой выборке: 1976.05\n"
     ]
    }
   ],
   "source": [
    "mse_tree_model = mean_squared_error(target_test, pred_tree_model)\n",
    "print(\"RMSE для DecisionTreeRegressor модели на тестовой выборке:\", round((mse_tree_model) ** 0.5, 2))"
   ]
  },
  {
   "cell_type": "markdown",
   "metadata": {},
   "source": [
    "### CatBoostRegressor"
   ]
  },
  {
   "cell_type": "code",
   "execution_count": 32,
   "metadata": {},
   "outputs": [],
   "source": [
    "old_target = old_data['Price']\n",
    "old_features = old_data.drop('Price', axis=1)\n",
    "old_features_train, old_features_test, old_target_train, old_target_test = train_test_split(\n",
    "    old_features, old_target, test_size=0.25, random_state=12345)"
   ]
  },
  {
   "cell_type": "code",
   "execution_count": 33,
   "metadata": {
    "scrolled": true
   },
   "outputs": [
    {
     "name": "stdout",
     "output_type": "stream",
     "text": [
      "0:\tlearn: 3235.7913801\ttotal: 472ms\tremaining: 3m 55s\n",
      "1:\tlearn: 2638.5487782\ttotal: 821ms\tremaining: 3m 24s\n",
      "2:\tlearn: 2340.1527015\ttotal: 1.14s\tremaining: 3m 9s\n",
      "3:\tlearn: 2186.2649149\ttotal: 1.42s\tremaining: 2m 55s\n",
      "4:\tlearn: 2107.4663226\ttotal: 1.64s\tremaining: 2m 42s\n",
      "5:\tlearn: 2056.4534747\ttotal: 1.88s\tremaining: 2m 34s\n",
      "6:\tlearn: 2022.4220249\ttotal: 2.12s\tremaining: 2m 29s\n",
      "7:\tlearn: 1990.6659814\ttotal: 2.33s\tremaining: 2m 23s\n",
      "8:\tlearn: 1957.7234608\ttotal: 2.62s\tremaining: 2m 23s\n",
      "9:\tlearn: 1941.9575127\ttotal: 2.89s\tremaining: 2m 21s\n",
      "10:\tlearn: 1926.5241567\ttotal: 3.07s\tremaining: 2m 16s\n",
      "11:\tlearn: 1912.6232643\ttotal: 3.24s\tremaining: 2m 11s\n",
      "12:\tlearn: 1900.9284195\ttotal: 3.42s\tremaining: 2m 8s\n",
      "13:\tlearn: 1893.1792659\ttotal: 3.66s\tremaining: 2m 6s\n",
      "14:\tlearn: 1881.9460829\ttotal: 3.91s\tremaining: 2m 6s\n",
      "15:\tlearn: 1876.0745401\ttotal: 4.12s\tremaining: 2m 4s\n",
      "16:\tlearn: 1867.2925891\ttotal: 4.28s\tremaining: 2m 1s\n",
      "17:\tlearn: 1857.1206405\ttotal: 4.46s\tremaining: 1m 59s\n",
      "18:\tlearn: 1848.2843384\ttotal: 4.63s\tremaining: 1m 57s\n",
      "19:\tlearn: 1842.0418008\ttotal: 4.79s\tremaining: 1m 54s\n",
      "20:\tlearn: 1835.2134722\ttotal: 5.03s\tremaining: 1m 54s\n",
      "21:\tlearn: 1828.0117987\ttotal: 5.27s\tremaining: 1m 54s\n",
      "22:\tlearn: 1821.4528424\ttotal: 5.52s\tremaining: 1m 54s\n",
      "23:\tlearn: 1816.1218418\ttotal: 5.82s\tremaining: 1m 55s\n",
      "24:\tlearn: 1810.9680774\ttotal: 6.04s\tremaining: 1m 54s\n",
      "25:\tlearn: 1804.8376554\ttotal: 6.23s\tremaining: 1m 53s\n",
      "26:\tlearn: 1797.4368677\ttotal: 6.39s\tremaining: 1m 52s\n",
      "27:\tlearn: 1792.1203967\ttotal: 6.67s\tremaining: 1m 52s\n",
      "28:\tlearn: 1789.0803316\ttotal: 6.83s\tremaining: 1m 50s\n",
      "29:\tlearn: 1786.0318027\ttotal: 7.01s\tremaining: 1m 49s\n",
      "30:\tlearn: 1784.2941441\ttotal: 7.28s\tremaining: 1m 50s\n",
      "31:\tlearn: 1779.4769625\ttotal: 7.47s\tremaining: 1m 49s\n",
      "32:\tlearn: 1774.1315217\ttotal: 7.63s\tremaining: 1m 48s\n",
      "33:\tlearn: 1769.2060169\ttotal: 7.82s\tremaining: 1m 47s\n",
      "34:\tlearn: 1765.3555035\ttotal: 7.99s\tremaining: 1m 46s\n",
      "35:\tlearn: 1761.1008041\ttotal: 8.17s\tremaining: 1m 45s\n",
      "36:\tlearn: 1758.9257350\ttotal: 8.35s\tremaining: 1m 44s\n",
      "37:\tlearn: 1756.0870410\ttotal: 8.55s\tremaining: 1m 44s\n",
      "38:\tlearn: 1753.7792749\ttotal: 8.72s\tremaining: 1m 43s\n",
      "39:\tlearn: 1750.9438293\ttotal: 8.99s\tremaining: 1m 43s\n",
      "40:\tlearn: 1748.7018418\ttotal: 9.24s\tremaining: 1m 43s\n",
      "41:\tlearn: 1746.0921584\ttotal: 9.47s\tremaining: 1m 43s\n",
      "42:\tlearn: 1743.4899821\ttotal: 9.67s\tremaining: 1m 42s\n",
      "43:\tlearn: 1742.6317890\ttotal: 9.85s\tremaining: 1m 42s\n",
      "44:\tlearn: 1740.3191720\ttotal: 10.1s\tremaining: 1m 41s\n",
      "45:\tlearn: 1736.5115132\ttotal: 10.2s\tremaining: 1m 41s\n",
      "46:\tlearn: 1734.2421627\ttotal: 10.5s\tremaining: 1m 40s\n",
      "47:\tlearn: 1733.1046828\ttotal: 10.7s\tremaining: 1m 40s\n",
      "48:\tlearn: 1731.8265725\ttotal: 10.9s\tremaining: 1m 40s\n",
      "49:\tlearn: 1728.7717493\ttotal: 11.1s\tremaining: 1m 40s\n",
      "50:\tlearn: 1726.6802175\ttotal: 11.3s\tremaining: 1m 39s\n",
      "51:\tlearn: 1725.1118279\ttotal: 11.5s\tremaining: 1m 38s\n",
      "52:\tlearn: 1723.6986864\ttotal: 11.7s\tremaining: 1m 38s\n",
      "53:\tlearn: 1722.4678770\ttotal: 11.8s\tremaining: 1m 37s\n",
      "54:\tlearn: 1720.4585952\ttotal: 12.1s\tremaining: 1m 37s\n",
      "55:\tlearn: 1718.2737795\ttotal: 12.3s\tremaining: 1m 37s\n",
      "56:\tlearn: 1717.7299416\ttotal: 12.5s\tremaining: 1m 37s\n",
      "57:\tlearn: 1715.4459561\ttotal: 12.8s\tremaining: 1m 37s\n",
      "58:\tlearn: 1713.8159947\ttotal: 13s\tremaining: 1m 37s\n",
      "59:\tlearn: 1711.9289469\ttotal: 13.3s\tremaining: 1m 37s\n",
      "60:\tlearn: 1709.9363867\ttotal: 13.6s\tremaining: 1m 38s\n",
      "61:\tlearn: 1709.0197693\ttotal: 13.9s\tremaining: 1m 38s\n",
      "62:\tlearn: 1707.4928374\ttotal: 14.2s\tremaining: 1m 38s\n",
      "63:\tlearn: 1706.7401433\ttotal: 14.3s\tremaining: 1m 37s\n",
      "64:\tlearn: 1705.2710721\ttotal: 14.5s\tremaining: 1m 37s\n",
      "65:\tlearn: 1701.4071271\ttotal: 14.8s\tremaining: 1m 37s\n",
      "66:\tlearn: 1700.0217644\ttotal: 15s\tremaining: 1m 37s\n",
      "67:\tlearn: 1698.4489162\ttotal: 15.3s\tremaining: 1m 36s\n",
      "68:\tlearn: 1696.9079680\ttotal: 15.5s\tremaining: 1m 36s\n",
      "69:\tlearn: 1695.8237183\ttotal: 15.8s\tremaining: 1m 37s\n",
      "70:\tlearn: 1694.2074182\ttotal: 16.1s\tremaining: 1m 37s\n",
      "71:\tlearn: 1693.4900470\ttotal: 16.2s\tremaining: 1m 36s\n",
      "72:\tlearn: 1692.3252889\ttotal: 16.4s\tremaining: 1m 36s\n",
      "73:\tlearn: 1690.4504174\ttotal: 16.7s\tremaining: 1m 36s\n",
      "74:\tlearn: 1689.2122552\ttotal: 17s\tremaining: 1m 36s\n",
      "75:\tlearn: 1688.8987135\ttotal: 17.2s\tremaining: 1m 35s\n",
      "76:\tlearn: 1688.3402896\ttotal: 17.3s\tremaining: 1m 35s\n",
      "77:\tlearn: 1687.0663754\ttotal: 17.5s\tremaining: 1m 34s\n",
      "78:\tlearn: 1685.7926721\ttotal: 17.7s\tremaining: 1m 34s\n",
      "79:\tlearn: 1684.1749783\ttotal: 17.9s\tremaining: 1m 33s\n",
      "80:\tlearn: 1683.2660065\ttotal: 18.1s\tremaining: 1m 33s\n",
      "81:\tlearn: 1682.0174283\ttotal: 18.3s\tremaining: 1m 33s\n",
      "82:\tlearn: 1680.9854091\ttotal: 18.5s\tremaining: 1m 32s\n",
      "83:\tlearn: 1680.0931061\ttotal: 18.7s\tremaining: 1m 32s\n",
      "84:\tlearn: 1679.2126748\ttotal: 18.9s\tremaining: 1m 32s\n",
      "85:\tlearn: 1678.0707668\ttotal: 19.2s\tremaining: 1m 32s\n",
      "86:\tlearn: 1677.4044056\ttotal: 19.4s\tremaining: 1m 32s\n",
      "87:\tlearn: 1676.4565050\ttotal: 19.7s\tremaining: 1m 32s\n",
      "88:\tlearn: 1675.7144956\ttotal: 19.9s\tremaining: 1m 31s\n",
      "89:\tlearn: 1674.9642453\ttotal: 20s\tremaining: 1m 31s\n",
      "90:\tlearn: 1673.3527882\ttotal: 20.3s\tremaining: 1m 31s\n",
      "91:\tlearn: 1672.2759137\ttotal: 20.5s\tremaining: 1m 30s\n",
      "92:\tlearn: 1670.8207199\ttotal: 20.7s\tremaining: 1m 30s\n",
      "93:\tlearn: 1669.6618870\ttotal: 21s\tremaining: 1m 30s\n",
      "94:\tlearn: 1668.3730125\ttotal: 21.2s\tremaining: 1m 30s\n",
      "95:\tlearn: 1667.3909414\ttotal: 21.3s\tremaining: 1m 29s\n",
      "96:\tlearn: 1666.1801049\ttotal: 21.5s\tremaining: 1m 29s\n",
      "97:\tlearn: 1665.4662634\ttotal: 21.7s\tremaining: 1m 29s\n",
      "98:\tlearn: 1664.6468019\ttotal: 21.9s\tremaining: 1m 28s\n",
      "99:\tlearn: 1663.5136674\ttotal: 22.1s\tremaining: 1m 28s\n",
      "100:\tlearn: 1662.1179259\ttotal: 22.3s\tremaining: 1m 28s\n",
      "101:\tlearn: 1661.7369212\ttotal: 22.6s\tremaining: 1m 28s\n",
      "102:\tlearn: 1660.7215257\ttotal: 22.8s\tremaining: 1m 27s\n",
      "103:\tlearn: 1659.8424221\ttotal: 23.1s\tremaining: 1m 28s\n",
      "104:\tlearn: 1658.7206175\ttotal: 23.3s\tremaining: 1m 27s\n",
      "105:\tlearn: 1657.8209606\ttotal: 23.5s\tremaining: 1m 27s\n",
      "106:\tlearn: 1656.8546384\ttotal: 23.7s\tremaining: 1m 27s\n",
      "107:\tlearn: 1656.0184773\ttotal: 24s\tremaining: 1m 26s\n",
      "108:\tlearn: 1654.6932913\ttotal: 24.1s\tremaining: 1m 26s\n",
      "109:\tlearn: 1653.9096896\ttotal: 24.3s\tremaining: 1m 26s\n",
      "110:\tlearn: 1653.0930357\ttotal: 24.5s\tremaining: 1m 25s\n",
      "111:\tlearn: 1651.9625791\ttotal: 24.8s\tremaining: 1m 25s\n",
      "112:\tlearn: 1651.4870659\ttotal: 25s\tremaining: 1m 25s\n",
      "113:\tlearn: 1650.9147972\ttotal: 25.3s\tremaining: 1m 25s\n",
      "114:\tlearn: 1650.1084583\ttotal: 25.5s\tremaining: 1m 25s\n",
      "115:\tlearn: 1649.1081205\ttotal: 25.7s\tremaining: 1m 25s\n",
      "116:\tlearn: 1648.6074063\ttotal: 26s\tremaining: 1m 24s\n",
      "117:\tlearn: 1648.0376008\ttotal: 26.1s\tremaining: 1m 24s\n",
      "118:\tlearn: 1647.5157282\ttotal: 26.4s\tremaining: 1m 24s\n",
      "119:\tlearn: 1646.8333831\ttotal: 26.6s\tremaining: 1m 24s\n",
      "120:\tlearn: 1645.3828376\ttotal: 26.9s\tremaining: 1m 24s\n",
      "121:\tlearn: 1644.8492539\ttotal: 27.1s\tremaining: 1m 24s\n",
      "122:\tlearn: 1644.1536373\ttotal: 27.4s\tremaining: 1m 23s\n",
      "123:\tlearn: 1643.4543543\ttotal: 27.6s\tremaining: 1m 23s\n",
      "124:\tlearn: 1643.0108353\ttotal: 27.8s\tremaining: 1m 23s\n",
      "125:\tlearn: 1642.4826087\ttotal: 28s\tremaining: 1m 23s\n",
      "126:\tlearn: 1641.8267844\ttotal: 28.2s\tremaining: 1m 22s\n",
      "127:\tlearn: 1641.3404617\ttotal: 28.4s\tremaining: 1m 22s\n",
      "128:\tlearn: 1640.8970982\ttotal: 28.6s\tremaining: 1m 22s\n",
      "129:\tlearn: 1640.3825138\ttotal: 28.8s\tremaining: 1m 22s\n",
      "130:\tlearn: 1638.8834252\ttotal: 29.1s\tremaining: 1m 21s\n",
      "131:\tlearn: 1638.6090001\ttotal: 29.3s\tremaining: 1m 21s\n",
      "132:\tlearn: 1638.4021346\ttotal: 29.5s\tremaining: 1m 21s\n",
      "133:\tlearn: 1636.9709301\ttotal: 29.7s\tremaining: 1m 21s\n",
      "134:\tlearn: 1636.3151517\ttotal: 30s\tremaining: 1m 21s\n",
      "135:\tlearn: 1635.9897457\ttotal: 30.1s\tremaining: 1m 20s\n",
      "136:\tlearn: 1635.5472384\ttotal: 30.3s\tremaining: 1m 20s\n",
      "137:\tlearn: 1634.5221401\ttotal: 30.5s\tremaining: 1m 20s\n",
      "138:\tlearn: 1634.0896101\ttotal: 30.8s\tremaining: 1m 19s\n",
      "139:\tlearn: 1633.2996907\ttotal: 31s\tremaining: 1m 19s\n",
      "140:\tlearn: 1632.2839472\ttotal: 31.2s\tremaining: 1m 19s\n",
      "141:\tlearn: 1631.6014758\ttotal: 31.5s\tremaining: 1m 19s\n",
      "142:\tlearn: 1630.6735007\ttotal: 31.6s\tremaining: 1m 18s\n",
      "143:\tlearn: 1630.2147919\ttotal: 31.8s\tremaining: 1m 18s\n",
      "144:\tlearn: 1629.6323814\ttotal: 32.1s\tremaining: 1m 18s\n",
      "145:\tlearn: 1629.2319780\ttotal: 32.3s\tremaining: 1m 18s\n",
      "146:\tlearn: 1628.9998290\ttotal: 32.5s\tremaining: 1m 18s\n",
      "147:\tlearn: 1628.3374268\ttotal: 32.7s\tremaining: 1m 17s\n",
      "148:\tlearn: 1628.0896970\ttotal: 32.9s\tremaining: 1m 17s\n",
      "149:\tlearn: 1627.2434461\ttotal: 33.1s\tremaining: 1m 17s\n",
      "150:\tlearn: 1626.9138600\ttotal: 33.4s\tremaining: 1m 17s\n",
      "151:\tlearn: 1626.2094270\ttotal: 33.6s\tremaining: 1m 16s\n",
      "152:\tlearn: 1625.3813802\ttotal: 33.8s\tremaining: 1m 16s\n",
      "153:\tlearn: 1624.9788804\ttotal: 34s\tremaining: 1m 16s\n",
      "154:\tlearn: 1624.4001053\ttotal: 34.3s\tremaining: 1m 16s\n",
      "155:\tlearn: 1624.1916596\ttotal: 34.5s\tremaining: 1m 16s\n",
      "156:\tlearn: 1623.7683164\ttotal: 34.8s\tremaining: 1m 15s\n",
      "157:\tlearn: 1622.7877651\ttotal: 35s\tremaining: 1m 15s\n",
      "158:\tlearn: 1622.4123838\ttotal: 35.3s\tremaining: 1m 15s\n",
      "159:\tlearn: 1621.4539131\ttotal: 35.5s\tremaining: 1m 15s\n",
      "160:\tlearn: 1620.8200410\ttotal: 35.7s\tremaining: 1m 15s\n",
      "161:\tlearn: 1620.1896076\ttotal: 35.9s\tremaining: 1m 14s\n",
      "162:\tlearn: 1619.8931620\ttotal: 36.1s\tremaining: 1m 14s\n",
      "163:\tlearn: 1619.1916000\ttotal: 36.4s\tremaining: 1m 14s\n",
      "164:\tlearn: 1618.8166041\ttotal: 36.6s\tremaining: 1m 14s\n",
      "165:\tlearn: 1618.5259073\ttotal: 36.7s\tremaining: 1m 13s\n",
      "166:\tlearn: 1617.4996680\ttotal: 37s\tremaining: 1m 13s\n",
      "167:\tlearn: 1616.7908344\ttotal: 37.2s\tremaining: 1m 13s\n",
      "168:\tlearn: 1616.3943021\ttotal: 37.4s\tremaining: 1m 13s\n",
      "169:\tlearn: 1615.6626349\ttotal: 37.7s\tremaining: 1m 13s\n",
      "170:\tlearn: 1615.5048929\ttotal: 37.9s\tremaining: 1m 12s\n",
      "171:\tlearn: 1614.9381299\ttotal: 38.1s\tremaining: 1m 12s\n",
      "172:\tlearn: 1614.3746251\ttotal: 38.3s\tremaining: 1m 12s\n",
      "173:\tlearn: 1614.0374803\ttotal: 38.6s\tremaining: 1m 12s\n",
      "174:\tlearn: 1613.4482068\ttotal: 38.8s\tremaining: 1m 12s\n",
      "175:\tlearn: 1612.7637343\ttotal: 39s\tremaining: 1m 11s\n",
      "176:\tlearn: 1611.8346302\ttotal: 39.2s\tremaining: 1m 11s\n",
      "177:\tlearn: 1611.4251272\ttotal: 39.4s\tremaining: 1m 11s\n",
      "178:\tlearn: 1611.0501368\ttotal: 39.5s\tremaining: 1m 10s\n",
      "179:\tlearn: 1610.9458419\ttotal: 39.7s\tremaining: 1m 10s\n",
      "180:\tlearn: 1610.8033848\ttotal: 39.9s\tremaining: 1m 10s\n",
      "181:\tlearn: 1610.2135583\ttotal: 40.1s\tremaining: 1m 10s\n",
      "182:\tlearn: 1608.7011421\ttotal: 40.4s\tremaining: 1m 9s\n",
      "183:\tlearn: 1608.2136432\ttotal: 40.6s\tremaining: 1m 9s\n",
      "184:\tlearn: 1607.7371836\ttotal: 40.8s\tremaining: 1m 9s\n",
      "185:\tlearn: 1607.0853259\ttotal: 41.1s\tremaining: 1m 9s\n",
      "186:\tlearn: 1606.5024673\ttotal: 41.3s\tremaining: 1m 9s\n",
      "187:\tlearn: 1606.1102434\ttotal: 41.5s\tremaining: 1m 8s\n",
      "188:\tlearn: 1605.8347475\ttotal: 41.6s\tremaining: 1m 8s\n",
      "189:\tlearn: 1605.4722472\ttotal: 41.8s\tremaining: 1m 8s\n",
      "190:\tlearn: 1605.0655802\ttotal: 42s\tremaining: 1m 7s\n",
      "191:\tlearn: 1604.5928703\ttotal: 42.2s\tremaining: 1m 7s\n",
      "192:\tlearn: 1603.9199922\ttotal: 42.4s\tremaining: 1m 7s\n",
      "193:\tlearn: 1603.3390591\ttotal: 42.7s\tremaining: 1m 7s\n",
      "194:\tlearn: 1602.8653540\ttotal: 42.9s\tremaining: 1m 7s\n",
      "195:\tlearn: 1602.6951223\ttotal: 43.1s\tremaining: 1m 6s\n",
      "196:\tlearn: 1602.3036407\ttotal: 43.3s\tremaining: 1m 6s\n",
      "197:\tlearn: 1601.9865557\ttotal: 43.5s\tremaining: 1m 6s\n",
      "198:\tlearn: 1601.7520034\ttotal: 43.8s\tremaining: 1m 6s\n",
      "199:\tlearn: 1601.0550514\ttotal: 44s\tremaining: 1m 5s\n",
      "200:\tlearn: 1600.2043278\ttotal: 44.2s\tremaining: 1m 5s\n",
      "201:\tlearn: 1599.7548038\ttotal: 44.4s\tremaining: 1m 5s\n",
      "202:\tlearn: 1599.0101608\ttotal: 44.7s\tremaining: 1m 5s\n",
      "203:\tlearn: 1598.7120844\ttotal: 44.9s\tremaining: 1m 5s\n",
      "204:\tlearn: 1598.1855404\ttotal: 45.2s\tremaining: 1m 5s\n",
      "205:\tlearn: 1597.5149307\ttotal: 45.3s\tremaining: 1m 4s\n",
      "206:\tlearn: 1596.8577266\ttotal: 45.6s\tremaining: 1m 4s\n",
      "207:\tlearn: 1596.3497932\ttotal: 45.8s\tremaining: 1m 4s\n",
      "208:\tlearn: 1596.2440992\ttotal: 46s\tremaining: 1m 4s\n",
      "209:\tlearn: 1595.6794118\ttotal: 46.3s\tremaining: 1m 3s\n",
      "210:\tlearn: 1595.0185491\ttotal: 46.5s\tremaining: 1m 3s\n",
      "211:\tlearn: 1594.6856468\ttotal: 46.8s\tremaining: 1m 3s\n",
      "212:\tlearn: 1594.2139596\ttotal: 47s\tremaining: 1m 3s\n",
      "213:\tlearn: 1594.0360384\ttotal: 47.2s\tremaining: 1m 3s\n",
      "214:\tlearn: 1593.0861975\ttotal: 47.4s\tremaining: 1m 2s\n",
      "215:\tlearn: 1592.8940326\ttotal: 47.6s\tremaining: 1m 2s\n",
      "216:\tlearn: 1592.5006181\ttotal: 47.8s\tremaining: 1m 2s\n",
      "217:\tlearn: 1592.2416318\ttotal: 48s\tremaining: 1m 2s\n",
      "218:\tlearn: 1591.7492043\ttotal: 48.2s\tremaining: 1m 1s\n",
      "219:\tlearn: 1591.3913975\ttotal: 48.4s\tremaining: 1m 1s\n",
      "220:\tlearn: 1590.8545473\ttotal: 48.7s\tremaining: 1m 1s\n",
      "221:\tlearn: 1590.3721841\ttotal: 48.9s\tremaining: 1m 1s\n",
      "222:\tlearn: 1589.8232621\ttotal: 49.2s\tremaining: 1m 1s\n",
      "223:\tlearn: 1589.5301816\ttotal: 49.4s\tremaining: 1m\n",
      "224:\tlearn: 1588.9238599\ttotal: 49.6s\tremaining: 1m\n",
      "225:\tlearn: 1588.3815779\ttotal: 49.8s\tremaining: 1m\n",
      "226:\tlearn: 1588.2789012\ttotal: 50s\tremaining: 1m\n",
      "227:\tlearn: 1587.9805698\ttotal: 50.2s\tremaining: 59.9s\n",
      "228:\tlearn: 1587.7095391\ttotal: 50.4s\tremaining: 59.7s\n",
      "229:\tlearn: 1587.5722741\ttotal: 50.6s\tremaining: 59.4s\n",
      "230:\tlearn: 1587.1999472\ttotal: 50.9s\tremaining: 59.2s\n",
      "231:\tlearn: 1586.7498582\ttotal: 51s\tremaining: 59s\n",
      "232:\tlearn: 1586.2832275\ttotal: 51.2s\tremaining: 58.7s\n",
      "233:\tlearn: 1586.1427588\ttotal: 51.4s\tremaining: 58.4s\n",
      "234:\tlearn: 1586.0217720\ttotal: 51.6s\tremaining: 58.2s\n",
      "235:\tlearn: 1585.3972085\ttotal: 51.8s\tremaining: 57.9s\n",
      "236:\tlearn: 1585.1430667\ttotal: 52s\tremaining: 57.7s\n",
      "237:\tlearn: 1584.5157474\ttotal: 52.3s\tremaining: 57.5s\n",
      "238:\tlearn: 1584.3833104\ttotal: 52.5s\tremaining: 57.3s\n",
      "239:\tlearn: 1584.2914107\ttotal: 52.8s\tremaining: 57.2s\n",
      "240:\tlearn: 1583.7096650\ttotal: 53s\tremaining: 56.9s\n",
      "241:\tlearn: 1583.6141742\ttotal: 53.2s\tremaining: 56.7s\n",
      "242:\tlearn: 1583.1194509\ttotal: 53.4s\tremaining: 56.5s\n",
      "243:\tlearn: 1582.6106693\ttotal: 53.7s\tremaining: 56.3s\n",
      "244:\tlearn: 1582.2845937\ttotal: 53.9s\tremaining: 56.1s\n",
      "245:\tlearn: 1582.0654365\ttotal: 54.1s\tremaining: 55.8s\n",
      "246:\tlearn: 1581.4856820\ttotal: 54.3s\tremaining: 55.6s\n",
      "247:\tlearn: 1581.2332925\ttotal: 54.5s\tremaining: 55.4s\n",
      "248:\tlearn: 1581.0566340\ttotal: 54.7s\tremaining: 55.2s\n",
      "249:\tlearn: 1580.6559571\ttotal: 54.9s\tremaining: 54.9s\n",
      "250:\tlearn: 1580.4484823\ttotal: 55.1s\tremaining: 54.6s\n",
      "251:\tlearn: 1580.0948979\ttotal: 55.3s\tremaining: 54.4s\n",
      "252:\tlearn: 1579.7621125\ttotal: 55.6s\tremaining: 54.3s\n",
      "253:\tlearn: 1579.4303351\ttotal: 55.7s\tremaining: 54s\n",
      "254:\tlearn: 1578.9781333\ttotal: 55.9s\tremaining: 53.7s\n",
      "255:\tlearn: 1578.6580040\ttotal: 56.1s\tremaining: 53.5s\n",
      "256:\tlearn: 1577.8026409\ttotal: 56.3s\tremaining: 53.2s\n",
      "257:\tlearn: 1577.2211295\ttotal: 56.5s\tremaining: 53s\n",
      "258:\tlearn: 1576.6952116\ttotal: 56.7s\tremaining: 52.7s\n",
      "259:\tlearn: 1576.2606218\ttotal: 56.9s\tremaining: 52.5s\n",
      "260:\tlearn: 1576.0754168\ttotal: 57.1s\tremaining: 52.3s\n",
      "261:\tlearn: 1575.9577520\ttotal: 57.2s\tremaining: 52s\n",
      "262:\tlearn: 1575.2615751\ttotal: 57.4s\tremaining: 51.7s\n",
      "263:\tlearn: 1575.2368059\ttotal: 57.6s\tremaining: 51.5s\n",
      "264:\tlearn: 1574.9662061\ttotal: 57.9s\tremaining: 51.3s\n",
      "265:\tlearn: 1574.7191765\ttotal: 58s\tremaining: 51s\n",
      "266:\tlearn: 1574.4551474\ttotal: 58.2s\tremaining: 50.7s\n",
      "267:\tlearn: 1574.1789988\ttotal: 58.4s\tremaining: 50.5s\n",
      "268:\tlearn: 1573.2273565\ttotal: 58.6s\tremaining: 50.3s\n",
      "269:\tlearn: 1572.9628391\ttotal: 58.8s\tremaining: 50.1s\n",
      "270:\tlearn: 1572.6596067\ttotal: 59s\tremaining: 49.9s\n",
      "271:\tlearn: 1572.5023309\ttotal: 59.2s\tremaining: 49.6s\n",
      "272:\tlearn: 1572.0379915\ttotal: 59.4s\tremaining: 49.4s\n",
      "273:\tlearn: 1571.7380493\ttotal: 59.6s\tremaining: 49.1s\n",
      "274:\tlearn: 1571.1920032\ttotal: 59.8s\tremaining: 48.9s\n",
      "275:\tlearn: 1570.6829869\ttotal: 60s\tremaining: 48.7s\n",
      "276:\tlearn: 1570.2554560\ttotal: 1m\tremaining: 48.4s\n",
      "277:\tlearn: 1570.1003834\ttotal: 1m\tremaining: 48.2s\n",
      "278:\tlearn: 1569.4100878\ttotal: 1m\tremaining: 48s\n",
      "279:\tlearn: 1568.8256793\ttotal: 1m\tremaining: 47.8s\n",
      "280:\tlearn: 1568.3233379\ttotal: 1m 1s\tremaining: 47.6s\n",
      "281:\tlearn: 1567.6509798\ttotal: 1m 1s\tremaining: 47.4s\n",
      "282:\tlearn: 1567.1650363\ttotal: 1m 1s\tremaining: 47.2s\n",
      "283:\tlearn: 1567.1321314\ttotal: 1m 1s\tremaining: 47s\n",
      "284:\tlearn: 1566.9959473\ttotal: 1m 1s\tremaining: 46.8s\n",
      "285:\tlearn: 1566.7058447\ttotal: 1m 2s\tremaining: 46.5s\n",
      "286:\tlearn: 1566.3077882\ttotal: 1m 2s\tremaining: 46.3s\n",
      "287:\tlearn: 1566.1437088\ttotal: 1m 2s\tremaining: 46.1s\n",
      "288:\tlearn: 1565.8972024\ttotal: 1m 2s\tremaining: 45.8s\n",
      "289:\tlearn: 1565.6340796\ttotal: 1m 2s\tremaining: 45.6s\n",
      "290:\tlearn: 1565.4393519\ttotal: 1m 3s\tremaining: 45.3s\n",
      "291:\tlearn: 1565.3113989\ttotal: 1m 3s\tremaining: 45.1s\n",
      "292:\tlearn: 1564.6868419\ttotal: 1m 3s\tremaining: 44.9s\n",
      "293:\tlearn: 1563.7595326\ttotal: 1m 3s\tremaining: 44.6s\n",
      "294:\tlearn: 1563.5119017\ttotal: 1m 3s\tremaining: 44.4s\n",
      "295:\tlearn: 1563.1909741\ttotal: 1m 4s\tremaining: 44.2s\n",
      "296:\tlearn: 1562.4680756\ttotal: 1m 4s\tremaining: 44s\n",
      "297:\tlearn: 1562.3510337\ttotal: 1m 4s\tremaining: 43.7s\n",
      "298:\tlearn: 1562.1978771\ttotal: 1m 4s\tremaining: 43.5s\n",
      "299:\tlearn: 1562.1150236\ttotal: 1m 4s\tremaining: 43.2s\n",
      "300:\tlearn: 1561.9300244\ttotal: 1m 5s\tremaining: 43s\n",
      "301:\tlearn: 1561.2907053\ttotal: 1m 5s\tremaining: 42.8s\n",
      "302:\tlearn: 1561.1205886\ttotal: 1m 5s\tremaining: 42.5s\n",
      "303:\tlearn: 1560.7560477\ttotal: 1m 5s\tremaining: 42.3s\n",
      "304:\tlearn: 1560.5418227\ttotal: 1m 5s\tremaining: 42.1s\n",
      "305:\tlearn: 1560.3948550\ttotal: 1m 6s\tremaining: 41.9s\n",
      "306:\tlearn: 1560.0542154\ttotal: 1m 6s\tremaining: 41.7s\n",
      "307:\tlearn: 1559.3567641\ttotal: 1m 6s\tremaining: 41.5s\n",
      "308:\tlearn: 1558.8919540\ttotal: 1m 6s\tremaining: 41.3s\n",
      "309:\tlearn: 1558.6649901\ttotal: 1m 6s\tremaining: 41s\n",
      "310:\tlearn: 1558.5914617\ttotal: 1m 7s\tremaining: 40.8s\n",
      "311:\tlearn: 1558.3876207\ttotal: 1m 7s\tremaining: 40.6s\n",
      "312:\tlearn: 1558.1688701\ttotal: 1m 7s\tremaining: 40.4s\n",
      "313:\tlearn: 1557.5599866\ttotal: 1m 7s\tremaining: 40.2s\n",
      "314:\tlearn: 1557.3009764\ttotal: 1m 8s\tremaining: 40s\n",
      "315:\tlearn: 1556.5212344\ttotal: 1m 8s\tremaining: 39.8s\n",
      "316:\tlearn: 1556.0631832\ttotal: 1m 8s\tremaining: 39.6s\n",
      "317:\tlearn: 1555.6322908\ttotal: 1m 8s\tremaining: 39.3s\n",
      "318:\tlearn: 1555.3367689\ttotal: 1m 8s\tremaining: 39.1s\n",
      "319:\tlearn: 1554.8476882\ttotal: 1m 9s\tremaining: 38.9s\n",
      "320:\tlearn: 1554.5812114\ttotal: 1m 9s\tremaining: 38.7s\n",
      "321:\tlearn: 1554.4267895\ttotal: 1m 9s\tremaining: 38.5s\n",
      "322:\tlearn: 1554.1471351\ttotal: 1m 9s\tremaining: 38.3s\n",
      "323:\tlearn: 1554.0403942\ttotal: 1m 9s\tremaining: 38s\n",
      "324:\tlearn: 1553.7558574\ttotal: 1m 10s\tremaining: 37.8s\n",
      "325:\tlearn: 1553.5675696\ttotal: 1m 10s\tremaining: 37.5s\n",
      "326:\tlearn: 1552.9303278\ttotal: 1m 10s\tremaining: 37.3s\n",
      "327:\tlearn: 1552.6202577\ttotal: 1m 10s\tremaining: 37.1s\n",
      "328:\tlearn: 1552.4345416\ttotal: 1m 10s\tremaining: 36.8s\n",
      "329:\tlearn: 1552.1702686\ttotal: 1m 11s\tremaining: 36.6s\n",
      "330:\tlearn: 1552.0860694\ttotal: 1m 11s\tremaining: 36.4s\n",
      "331:\tlearn: 1551.5611798\ttotal: 1m 11s\tremaining: 36.2s\n",
      "332:\tlearn: 1551.1776337\ttotal: 1m 11s\tremaining: 36s\n",
      "333:\tlearn: 1550.8669530\ttotal: 1m 11s\tremaining: 35.8s\n",
      "334:\tlearn: 1550.5157837\ttotal: 1m 12s\tremaining: 35.6s\n",
      "335:\tlearn: 1550.2779767\ttotal: 1m 12s\tremaining: 35.3s\n",
      "336:\tlearn: 1549.9380836\ttotal: 1m 12s\tremaining: 35.1s\n",
      "337:\tlearn: 1549.6970557\ttotal: 1m 12s\tremaining: 34.9s\n",
      "338:\tlearn: 1549.4608068\ttotal: 1m 12s\tremaining: 34.7s\n",
      "339:\tlearn: 1549.2135880\ttotal: 1m 13s\tremaining: 34.4s\n",
      "340:\tlearn: 1548.9981061\ttotal: 1m 13s\tremaining: 34.2s\n",
      "341:\tlearn: 1548.8676399\ttotal: 1m 13s\tremaining: 34s\n",
      "342:\tlearn: 1548.7294232\ttotal: 1m 13s\tremaining: 33.7s\n",
      "343:\tlearn: 1548.4159391\ttotal: 1m 13s\tremaining: 33.5s\n",
      "344:\tlearn: 1548.2716251\ttotal: 1m 14s\tremaining: 33.4s\n",
      "345:\tlearn: 1548.0557011\ttotal: 1m 14s\tremaining: 33.1s\n",
      "346:\tlearn: 1547.8882163\ttotal: 1m 14s\tremaining: 32.9s\n",
      "347:\tlearn: 1547.3071505\ttotal: 1m 14s\tremaining: 32.7s\n",
      "348:\tlearn: 1546.8543858\ttotal: 1m 15s\tremaining: 32.5s\n",
      "349:\tlearn: 1546.5261376\ttotal: 1m 15s\tremaining: 32.3s\n",
      "350:\tlearn: 1546.0974404\ttotal: 1m 15s\tremaining: 32.1s\n",
      "351:\tlearn: 1545.8283165\ttotal: 1m 15s\tremaining: 31.9s\n",
      "352:\tlearn: 1545.5504759\ttotal: 1m 15s\tremaining: 31.6s\n",
      "353:\tlearn: 1545.3334485\ttotal: 1m 16s\tremaining: 31.4s\n",
      "354:\tlearn: 1545.2203459\ttotal: 1m 16s\tremaining: 31.2s\n",
      "355:\tlearn: 1545.0395596\ttotal: 1m 16s\tremaining: 31s\n",
      "356:\tlearn: 1544.8998325\ttotal: 1m 16s\tremaining: 30.8s\n",
      "357:\tlearn: 1544.7058301\ttotal: 1m 17s\tremaining: 30.6s\n",
      "358:\tlearn: 1544.4767873\ttotal: 1m 17s\tremaining: 30.3s\n",
      "359:\tlearn: 1544.1436496\ttotal: 1m 17s\tremaining: 30.1s\n",
      "360:\tlearn: 1543.8550072\ttotal: 1m 17s\tremaining: 29.9s\n",
      "361:\tlearn: 1543.5100160\ttotal: 1m 17s\tremaining: 29.7s\n",
      "362:\tlearn: 1543.3207058\ttotal: 1m 17s\tremaining: 29.4s\n",
      "363:\tlearn: 1542.9375301\ttotal: 1m 18s\tremaining: 29.2s\n",
      "364:\tlearn: 1542.3900077\ttotal: 1m 18s\tremaining: 29s\n",
      "365:\tlearn: 1542.0430479\ttotal: 1m 18s\tremaining: 28.8s\n",
      "366:\tlearn: 1541.7060074\ttotal: 1m 18s\tremaining: 28.6s\n",
      "367:\tlearn: 1541.2437045\ttotal: 1m 19s\tremaining: 28.4s\n",
      "368:\tlearn: 1540.9534931\ttotal: 1m 19s\tremaining: 28.2s\n",
      "369:\tlearn: 1540.7562038\ttotal: 1m 19s\tremaining: 27.9s\n",
      "370:\tlearn: 1540.1981569\ttotal: 1m 19s\tremaining: 27.7s\n",
      "371:\tlearn: 1540.0014906\ttotal: 1m 19s\tremaining: 27.5s\n",
      "372:\tlearn: 1539.7963748\ttotal: 1m 20s\tremaining: 27.3s\n",
      "373:\tlearn: 1539.5326947\ttotal: 1m 20s\tremaining: 27s\n",
      "374:\tlearn: 1539.4452650\ttotal: 1m 20s\tremaining: 26.8s\n",
      "375:\tlearn: 1539.1240246\ttotal: 1m 20s\tremaining: 26.6s\n",
      "376:\tlearn: 1538.9734517\ttotal: 1m 20s\tremaining: 26.4s\n",
      "377:\tlearn: 1538.7610083\ttotal: 1m 21s\tremaining: 26.2s\n",
      "378:\tlearn: 1538.6921038\ttotal: 1m 21s\tremaining: 25.9s\n",
      "379:\tlearn: 1538.4289328\ttotal: 1m 21s\tremaining: 25.7s\n",
      "380:\tlearn: 1538.1343532\ttotal: 1m 21s\tremaining: 25.5s\n",
      "381:\tlearn: 1537.6949204\ttotal: 1m 21s\tremaining: 25.3s\n",
      "382:\tlearn: 1537.6385183\ttotal: 1m 21s\tremaining: 25s\n",
      "383:\tlearn: 1537.4663349\ttotal: 1m 22s\tremaining: 24.8s\n",
      "384:\tlearn: 1537.1966586\ttotal: 1m 22s\tremaining: 24.6s\n",
      "385:\tlearn: 1536.8969263\ttotal: 1m 22s\tremaining: 24.4s\n",
      "386:\tlearn: 1536.4568681\ttotal: 1m 22s\tremaining: 24.1s\n",
      "387:\tlearn: 1536.0368102\ttotal: 1m 22s\tremaining: 23.9s\n",
      "388:\tlearn: 1535.6093707\ttotal: 1m 23s\tremaining: 23.7s\n",
      "389:\tlearn: 1535.4636688\ttotal: 1m 23s\tremaining: 23.5s\n",
      "390:\tlearn: 1535.3664358\ttotal: 1m 23s\tremaining: 23.3s\n",
      "391:\tlearn: 1535.0319625\ttotal: 1m 23s\tremaining: 23s\n",
      "392:\tlearn: 1534.9523402\ttotal: 1m 23s\tremaining: 22.8s\n",
      "393:\tlearn: 1534.7357553\ttotal: 1m 23s\tremaining: 22.6s\n",
      "394:\tlearn: 1534.5013178\ttotal: 1m 24s\tremaining: 22.4s\n",
      "395:\tlearn: 1534.1313730\ttotal: 1m 24s\tremaining: 22.2s\n",
      "396:\tlearn: 1534.0467222\ttotal: 1m 24s\tremaining: 22s\n",
      "397:\tlearn: 1533.6240281\ttotal: 1m 24s\tremaining: 21.7s\n",
      "398:\tlearn: 1533.3252136\ttotal: 1m 24s\tremaining: 21.5s\n",
      "399:\tlearn: 1533.2511060\ttotal: 1m 25s\tremaining: 21.3s\n",
      "400:\tlearn: 1532.9207607\ttotal: 1m 25s\tremaining: 21.1s\n",
      "401:\tlearn: 1532.6780097\ttotal: 1m 25s\tremaining: 20.9s\n",
      "402:\tlearn: 1532.4135635\ttotal: 1m 25s\tremaining: 20.6s\n",
      "403:\tlearn: 1532.1602588\ttotal: 1m 25s\tremaining: 20.4s\n",
      "404:\tlearn: 1531.8347482\ttotal: 1m 26s\tremaining: 20.2s\n",
      "405:\tlearn: 1531.6537877\ttotal: 1m 26s\tremaining: 20s\n",
      "406:\tlearn: 1531.5358977\ttotal: 1m 26s\tremaining: 19.8s\n",
      "407:\tlearn: 1531.2796051\ttotal: 1m 26s\tremaining: 19.6s\n",
      "408:\tlearn: 1531.1731905\ttotal: 1m 26s\tremaining: 19.3s\n",
      "409:\tlearn: 1531.1226791\ttotal: 1m 27s\tremaining: 19.1s\n",
      "410:\tlearn: 1531.0518108\ttotal: 1m 27s\tremaining: 18.9s\n",
      "411:\tlearn: 1530.8968537\ttotal: 1m 27s\tremaining: 18.7s\n",
      "412:\tlearn: 1530.6876762\ttotal: 1m 27s\tremaining: 18.5s\n",
      "413:\tlearn: 1530.4030853\ttotal: 1m 27s\tremaining: 18.3s\n",
      "414:\tlearn: 1530.0303872\ttotal: 1m 28s\tremaining: 18.1s\n",
      "415:\tlearn: 1529.6867672\ttotal: 1m 28s\tremaining: 17.9s\n",
      "416:\tlearn: 1529.3846774\ttotal: 1m 28s\tremaining: 17.7s\n",
      "417:\tlearn: 1529.3267390\ttotal: 1m 28s\tremaining: 17.4s\n",
      "418:\tlearn: 1529.0532642\ttotal: 1m 29s\tremaining: 17.2s\n",
      "419:\tlearn: 1528.6596098\ttotal: 1m 29s\tremaining: 17s\n",
      "420:\tlearn: 1528.4409770\ttotal: 1m 29s\tremaining: 16.8s\n",
      "421:\tlearn: 1528.4099851\ttotal: 1m 29s\tremaining: 16.6s\n",
      "422:\tlearn: 1528.2328991\ttotal: 1m 29s\tremaining: 16.4s\n",
      "423:\tlearn: 1528.1646049\ttotal: 1m 30s\tremaining: 16.2s\n",
      "424:\tlearn: 1527.9824348\ttotal: 1m 30s\tremaining: 15.9s\n",
      "425:\tlearn: 1527.6650092\ttotal: 1m 30s\tremaining: 15.7s\n",
      "426:\tlearn: 1527.0586842\ttotal: 1m 30s\tremaining: 15.5s\n",
      "427:\tlearn: 1526.5754099\ttotal: 1m 31s\tremaining: 15.3s\n",
      "428:\tlearn: 1526.4411796\ttotal: 1m 31s\tremaining: 15.1s\n",
      "429:\tlearn: 1526.2092788\ttotal: 1m 31s\tremaining: 14.9s\n",
      "430:\tlearn: 1526.1232238\ttotal: 1m 31s\tremaining: 14.7s\n",
      "431:\tlearn: 1525.7757108\ttotal: 1m 31s\tremaining: 14.5s\n",
      "432:\tlearn: 1525.6998748\ttotal: 1m 32s\tremaining: 14.2s\n",
      "433:\tlearn: 1525.4282436\ttotal: 1m 32s\tremaining: 14s\n",
      "434:\tlearn: 1525.4119290\ttotal: 1m 32s\tremaining: 13.8s\n",
      "435:\tlearn: 1525.2125238\ttotal: 1m 32s\tremaining: 13.6s\n",
      "436:\tlearn: 1524.9822344\ttotal: 1m 32s\tremaining: 13.4s\n",
      "437:\tlearn: 1524.8546901\ttotal: 1m 33s\tremaining: 13.2s\n",
      "438:\tlearn: 1524.7765970\ttotal: 1m 33s\tremaining: 13s\n",
      "439:\tlearn: 1524.6478926\ttotal: 1m 33s\tremaining: 12.7s\n",
      "440:\tlearn: 1524.1271896\ttotal: 1m 33s\tremaining: 12.5s\n",
      "441:\tlearn: 1523.4125743\ttotal: 1m 33s\tremaining: 12.3s\n",
      "442:\tlearn: 1523.0312268\ttotal: 1m 34s\tremaining: 12.1s\n",
      "443:\tlearn: 1522.9109332\ttotal: 1m 34s\tremaining: 11.9s\n",
      "444:\tlearn: 1522.7531118\ttotal: 1m 34s\tremaining: 11.7s\n",
      "445:\tlearn: 1522.7140651\ttotal: 1m 34s\tremaining: 11.5s\n",
      "446:\tlearn: 1522.4672628\ttotal: 1m 35s\tremaining: 11.3s\n",
      "447:\tlearn: 1522.3448109\ttotal: 1m 35s\tremaining: 11.1s\n",
      "448:\tlearn: 1522.2199736\ttotal: 1m 35s\tremaining: 10.8s\n",
      "449:\tlearn: 1521.9957022\ttotal: 1m 35s\tremaining: 10.6s\n",
      "450:\tlearn: 1521.2505225\ttotal: 1m 35s\tremaining: 10.4s\n",
      "451:\tlearn: 1521.0630067\ttotal: 1m 36s\tremaining: 10.2s\n",
      "452:\tlearn: 1520.9648960\ttotal: 1m 36s\tremaining: 10s\n",
      "453:\tlearn: 1520.5592885\ttotal: 1m 36s\tremaining: 9.79s\n",
      "454:\tlearn: 1520.3226120\ttotal: 1m 36s\tremaining: 9.57s\n",
      "455:\tlearn: 1520.2482025\ttotal: 1m 36s\tremaining: 9.35s\n",
      "456:\tlearn: 1520.0408450\ttotal: 1m 37s\tremaining: 9.14s\n",
      "457:\tlearn: 1519.7747638\ttotal: 1m 37s\tremaining: 8.92s\n",
      "458:\tlearn: 1519.7221258\ttotal: 1m 37s\tremaining: 8.71s\n",
      "459:\tlearn: 1519.5927581\ttotal: 1m 37s\tremaining: 8.49s\n",
      "460:\tlearn: 1519.2450283\ttotal: 1m 37s\tremaining: 8.28s\n",
      "461:\tlearn: 1518.9308712\ttotal: 1m 38s\tremaining: 8.07s\n",
      "462:\tlearn: 1518.7835462\ttotal: 1m 38s\tremaining: 7.87s\n",
      "463:\tlearn: 1518.5632168\ttotal: 1m 38s\tremaining: 7.66s\n",
      "464:\tlearn: 1518.3803799\ttotal: 1m 39s\tremaining: 7.46s\n",
      "465:\tlearn: 1518.0554567\ttotal: 1m 39s\tremaining: 7.25s\n",
      "466:\tlearn: 1517.8869126\ttotal: 1m 39s\tremaining: 7.04s\n",
      "467:\tlearn: 1517.8317204\ttotal: 1m 39s\tremaining: 6.83s\n",
      "468:\tlearn: 1517.6442127\ttotal: 1m 40s\tremaining: 6.62s\n",
      "469:\tlearn: 1517.3548183\ttotal: 1m 40s\tremaining: 6.41s\n",
      "470:\tlearn: 1517.2417555\ttotal: 1m 40s\tremaining: 6.2s\n",
      "471:\tlearn: 1516.8788136\ttotal: 1m 40s\tremaining: 5.98s\n",
      "472:\tlearn: 1516.6479825\ttotal: 1m 41s\tremaining: 5.77s\n",
      "473:\tlearn: 1516.3911675\ttotal: 1m 41s\tremaining: 5.56s\n",
      "474:\tlearn: 1516.1673345\ttotal: 1m 41s\tremaining: 5.35s\n",
      "475:\tlearn: 1515.8787124\ttotal: 1m 41s\tremaining: 5.14s\n",
      "476:\tlearn: 1515.4612580\ttotal: 1m 42s\tremaining: 4.93s\n",
      "477:\tlearn: 1515.2147741\ttotal: 1m 42s\tremaining: 4.71s\n",
      "478:\tlearn: 1515.0465615\ttotal: 1m 42s\tremaining: 4.5s\n",
      "479:\tlearn: 1514.7821614\ttotal: 1m 42s\tremaining: 4.29s\n",
      "480:\tlearn: 1514.6085032\ttotal: 1m 43s\tremaining: 4.07s\n",
      "481:\tlearn: 1514.2225634\ttotal: 1m 43s\tremaining: 3.86s\n",
      "482:\tlearn: 1513.9052261\ttotal: 1m 43s\tremaining: 3.65s\n",
      "483:\tlearn: 1513.7229258\ttotal: 1m 43s\tremaining: 3.43s\n",
      "484:\tlearn: 1513.5245701\ttotal: 1m 44s\tremaining: 3.22s\n",
      "485:\tlearn: 1513.4789403\ttotal: 1m 44s\tremaining: 3s\n",
      "486:\tlearn: 1513.2611944\ttotal: 1m 44s\tremaining: 2.79s\n",
      "487:\tlearn: 1513.0173569\ttotal: 1m 44s\tremaining: 2.57s\n",
      "488:\tlearn: 1512.7668553\ttotal: 1m 44s\tremaining: 2.36s\n",
      "489:\tlearn: 1512.4688992\ttotal: 1m 44s\tremaining: 2.14s\n",
      "490:\tlearn: 1512.2205537\ttotal: 1m 45s\tremaining: 1.93s\n",
      "491:\tlearn: 1512.1129904\ttotal: 1m 45s\tremaining: 1.71s\n",
      "492:\tlearn: 1511.9094544\ttotal: 1m 45s\tremaining: 1.5s\n",
      "493:\tlearn: 1511.8744888\ttotal: 1m 45s\tremaining: 1.28s\n",
      "494:\tlearn: 1511.7064229\ttotal: 1m 45s\tremaining: 1.07s\n",
      "495:\tlearn: 1511.3947681\ttotal: 1m 45s\tremaining: 855ms\n",
      "496:\tlearn: 1511.2142736\ttotal: 1m 46s\tremaining: 641ms\n",
      "497:\tlearn: 1511.0218204\ttotal: 1m 46s\tremaining: 427ms\n",
      "498:\tlearn: 1510.7081392\ttotal: 1m 46s\tremaining: 213ms\n",
      "499:\tlearn: 1510.5652627\ttotal: 1m 46s\tremaining: 0us\n",
      "CPU times: user 1min 44s, sys: 797 ms, total: 1min 44s\n",
      "Wall time: 1min 50s\n"
     ]
    },
    {
     "data": {
      "text/plain": [
       "<catboost.core.CatBoostRegressor at 0x7f581c377c40>"
      ]
     },
     "execution_count": 33,
     "metadata": {},
     "output_type": "execute_result"
    }
   ],
   "source": [
    "%%time\n",
    "cat_model = CatBoostRegressor(loss_function='RMSE', n_estimators=500 ,learning_rate=0.5, random_state=12345, verbose=True) \n",
    "cat_model.fit(old_features_train, old_target_train, cat_features=cat_features)"
   ]
  },
  {
   "cell_type": "code",
   "execution_count": 34,
   "metadata": {},
   "outputs": [
    {
     "name": "stdout",
     "output_type": "stream",
     "text": [
      "CPU times: user 524 ms, sys: 3.25 ms, total: 528 ms\n",
      "Wall time: 556 ms\n"
     ]
    }
   ],
   "source": [
    "%%time\n",
    "\n",
    "cat_predict = cat_model.predict(old_features_test)"
   ]
  },
  {
   "cell_type": "code",
   "execution_count": 35,
   "metadata": {},
   "outputs": [
    {
     "name": "stdout",
     "output_type": "stream",
     "text": [
      "RMSE для CatBoostRegressor модели на тестовой выборке: 1622.75\n"
     ]
    }
   ],
   "source": [
    "mse_cat_model = mean_squared_error(target_test, cat_predict)\n",
    "print(\"RMSE для CatBoostRegressor модели на тестовой выборке:\", round((mse_cat_model) ** 0.5, 2))"
   ]
  },
  {
   "cell_type": "markdown",
   "metadata": {},
   "source": [
    "### LGBMRegressor"
   ]
  },
  {
   "cell_type": "code",
   "execution_count": 36,
   "metadata": {},
   "outputs": [
    {
     "name": "stdout",
     "output_type": "stream",
     "text": [
      "CPU times: user 20min 17s, sys: 14.9 s, total: 20min 31s\n",
      "Wall time: 20min 38s\n"
     ]
    },
    {
     "data": {
      "text/plain": [
       "LGBMRegressor(num_leaves=100, random_state=12345)"
      ]
     },
     "execution_count": 36,
     "metadata": {},
     "output_type": "execute_result"
    }
   ],
   "source": [
    "%%time\n",
    "\n",
    "lgbm_model = LGBMRegressor(learning_rate=0.1, num_leaves=100, random_state=12345)\n",
    "lgbm_model.fit(features_train, target_train)"
   ]
  },
  {
   "cell_type": "code",
   "execution_count": 37,
   "metadata": {},
   "outputs": [
    {
     "name": "stdout",
     "output_type": "stream",
     "text": [
      "CPU times: user 1.15 s, sys: 34.7 ms, total: 1.19 s\n",
      "Wall time: 1.18 s\n"
     ]
    }
   ],
   "source": [
    "%%time\n",
    "\n",
    "lgbm_predict = lgbm_model.predict(features_test)"
   ]
  },
  {
   "cell_type": "code",
   "execution_count": 38,
   "metadata": {},
   "outputs": [
    {
     "name": "stdout",
     "output_type": "stream",
     "text": [
      "RMSE для LGBMRegressor модели на тестовой выборке: 1632.16\n"
     ]
    }
   ],
   "source": [
    "mse_lgbm_model = mean_squared_error(target_test, lgbm_predict)\n",
    "print(\"RMSE для LGBMRegressor модели на тестовой выборке:\", round((mse_lgbm_model) ** 0.5, 2))"
   ]
  },
  {
   "cell_type": "markdown",
   "metadata": {},
   "source": [
    "**Вывод: Для решения задачи предложенно 4 модели: `LinearRegression`, ` DecisionTreeRegressor`, `CatBoostRegressor` и ` LGBMRegressor`. Было посчитанно время работы каждой модели и полученно значение метрики RMSE для каждой модели.**"
   ]
  },
  {
   "cell_type": "markdown",
   "metadata": {},
   "source": [
    "## Анализ моделей"
   ]
  },
  {
   "cell_type": "code",
   "execution_count": 40,
   "metadata": {},
   "outputs": [
    {
     "data": {
      "text/html": [
       "<div>\n",
       "<style scoped>\n",
       "    .dataframe tbody tr th:only-of-type {\n",
       "        vertical-align: middle;\n",
       "    }\n",
       "\n",
       "    .dataframe tbody tr th {\n",
       "        vertical-align: top;\n",
       "    }\n",
       "\n",
       "    .dataframe thead th {\n",
       "        text-align: right;\n",
       "    }\n",
       "</style>\n",
       "<table border=\"1\" class=\"dataframe\">\n",
       "  <thead>\n",
       "    <tr style=\"text-align: right;\">\n",
       "      <th></th>\n",
       "      <th>fit_time</th>\n",
       "      <th>predict_time</th>\n",
       "      <th>RMSE</th>\n",
       "    </tr>\n",
       "  </thead>\n",
       "  <tbody>\n",
       "    <tr>\n",
       "      <th>DecisionTreeRegressor</th>\n",
       "      <td>6.07 s</td>\n",
       "      <td>87.8 ms</td>\n",
       "      <td>1976.05</td>\n",
       "    </tr>\n",
       "    <tr>\n",
       "      <th>CatBoostRegressor</th>\n",
       "      <td>1min 50s</td>\n",
       "      <td>556 ms</td>\n",
       "      <td>1622.75</td>\n",
       "    </tr>\n",
       "    <tr>\n",
       "      <th>LGBMRegressor</th>\n",
       "      <td>20min 38 s</td>\n",
       "      <td>1.18 s</td>\n",
       "      <td>1632.16</td>\n",
       "    </tr>\n",
       "  </tbody>\n",
       "</table>\n",
       "</div>"
      ],
      "text/plain": [
       "                         fit_time predict_time     RMSE\n",
       "DecisionTreeRegressor      6.07 s      87.8 ms  1976.05\n",
       "CatBoostRegressor        1min 50s       556 ms  1622.75\n",
       "LGBMRegressor          20min 38 s       1.18 s  1632.16"
      ]
     },
     "execution_count": 40,
     "metadata": {},
     "output_type": "execute_result"
    }
   ],
   "source": [
    "inf = [[\"6.07 s\", \"87.8 ms\", 1976.05],\n",
    "       [\"1min 50s\", \"556 ms\", 1622.75],\n",
    "       [\"20min 38 s\", \"1.18 s\", 1632.16]]\n",
    "models = [\"DecisionTreeRegressor\", \"CatBoostRegressor\", \"LGBMRegressor\"]\n",
    "pd.DataFrame(data=inf, index=models, columns=[\"fit_time\", \"predict_time\", \"RMSE\"])"
   ]
  },
  {
   "cell_type": "markdown",
   "metadata": {},
   "source": [
    "**Вывод: Лучшее значение метрики полученно с помощью `CatBoostRegressor` $(RMSE = 1622.75)$. Модель `LGBMRegressor` является самой медленной (время обучения 20 min 38 s). Самой оптимальной моделью является `CatBoostRegressor`: время работы данного метода (1min 50s) не очень большое, хоть и значительно превосходит `DecisionTreeRegressor`, но точность `DecisionTreeRegressor` отличается значительно ($RMSE = 1976.05$ вместо $1622.75$).**"
   ]
  },
  {
   "cell_type": "markdown",
   "metadata": {},
   "source": [
    "## Общий вывод"
   ]
  },
  {
   "cell_type": "markdown",
   "metadata": {},
   "source": [
    "**В процессе работы была выполнена предобработка данных. А именно: удалены объявления с нулевой стоимостью, записи с пропусками в столбце `Model`, записи с некорректными значениями `RegistrationYear` и `Power`. Заполненны пропуски в столбце `Repaired`. Удалены столбцы, не влияющие на стоимость `NumberOfPictures`, `PostalCode`, `DateCrawled`, `LastSeen`.\n",
    "Была проведено кодирование категориальных данных с помощью Ordinal Encoding, так же данные были стандартизованны.\n",
    "Было обученно четыре модели ` DecisionTreeRegressor`, `CatBoostRegressor` и `LGBMRegressor`.\n",
    "В ходе анализа полученных результатов, было выясненно что оптимальной моделью для данной задачи является `CatBoostRegressor` ($RMSE = 1622.75, t_{work}$ = 1min  50s)**"
   ]
  }
 ],
 "metadata": {
  "ExecuteTimeLog": [
   {
    "duration": 422,
    "start_time": "2023-05-25T09:11:47.260Z"
   },
   {
    "duration": 2888,
    "start_time": "2023-05-25T09:12:22.589Z"
   },
   {
    "duration": 893,
    "start_time": "2023-05-25T09:12:39.389Z"
   },
   {
    "duration": 116,
    "start_time": "2023-05-25T09:15:50.117Z"
   },
   {
    "duration": 106,
    "start_time": "2023-05-25T09:16:27.500Z"
   },
   {
    "duration": 841,
    "start_time": "2023-05-25T09:17:07.380Z"
   },
   {
    "duration": 14,
    "start_time": "2023-05-25T09:17:09.532Z"
   },
   {
    "duration": 119,
    "start_time": "2023-05-25T09:21:44.750Z"
   },
   {
    "duration": 16,
    "start_time": "2023-05-25T09:22:42.740Z"
   },
   {
    "duration": 39,
    "start_time": "2023-05-25T09:23:00.100Z"
   },
   {
    "duration": 5,
    "start_time": "2023-05-25T09:24:03.530Z"
   },
   {
    "duration": 3,
    "start_time": "2023-05-25T09:24:08.910Z"
   },
   {
    "duration": 874,
    "start_time": "2023-05-25T09:24:09.259Z"
   },
   {
    "duration": 23,
    "start_time": "2023-05-25T09:24:10.135Z"
   },
   {
    "duration": 128,
    "start_time": "2023-05-25T09:24:10.329Z"
   },
   {
    "duration": 97,
    "start_time": "2023-05-25T09:24:11.339Z"
   },
   {
    "duration": 107,
    "start_time": "2023-05-25T09:24:12.760Z"
   },
   {
    "duration": 15,
    "start_time": "2023-05-25T09:24:15.419Z"
   },
   {
    "duration": 37,
    "start_time": "2023-05-25T09:24:19.780Z"
   },
   {
    "duration": 102,
    "start_time": "2023-05-25T09:25:44.669Z"
   },
   {
    "duration": 45,
    "start_time": "2023-05-25T09:33:56.100Z"
   },
   {
    "duration": 5,
    "start_time": "2023-05-25T09:38:59.541Z"
   },
   {
    "duration": 5,
    "start_time": "2023-05-25T09:39:42.948Z"
   },
   {
    "duration": 4,
    "start_time": "2023-05-25T09:41:36.100Z"
   },
   {
    "duration": 6,
    "start_time": "2023-05-25T09:41:39.448Z"
   },
   {
    "duration": 6,
    "start_time": "2023-05-25T09:42:05.639Z"
   },
   {
    "duration": 6,
    "start_time": "2023-05-25T09:42:11.292Z"
   },
   {
    "duration": 9,
    "start_time": "2023-05-25T09:43:26.409Z"
   },
   {
    "duration": 8,
    "start_time": "2023-05-25T09:49:48.899Z"
   },
   {
    "duration": 54,
    "start_time": "2023-05-25T09:50:22.491Z"
   },
   {
    "duration": 4,
    "start_time": "2023-05-25T09:50:25.587Z"
   },
   {
    "duration": 5,
    "start_time": "2023-05-25T09:50:36.159Z"
   },
   {
    "duration": 14,
    "start_time": "2023-05-25T09:51:14.471Z"
   },
   {
    "duration": 6,
    "start_time": "2023-05-25T09:52:27.839Z"
   },
   {
    "duration": 44,
    "start_time": "2023-05-25T09:52:51.632Z"
   },
   {
    "duration": 81,
    "start_time": "2023-05-25T09:55:05.925Z"
   },
   {
    "duration": 10,
    "start_time": "2023-05-25T09:55:49.559Z"
   },
   {
    "duration": 5,
    "start_time": "2023-05-25T09:58:37.330Z"
   },
   {
    "duration": 2,
    "start_time": "2023-05-25T09:58:44.151Z"
   },
   {
    "duration": 799,
    "start_time": "2023-05-25T09:58:44.611Z"
   },
   {
    "duration": 18,
    "start_time": "2023-05-25T09:58:45.598Z"
   },
   {
    "duration": 140,
    "start_time": "2023-05-25T09:58:46.218Z"
   },
   {
    "duration": 96,
    "start_time": "2023-05-25T09:58:50.699Z"
   },
   {
    "duration": 107,
    "start_time": "2023-05-25T09:58:52.338Z"
   },
   {
    "duration": 15,
    "start_time": "2023-05-25T09:58:53.646Z"
   },
   {
    "duration": 38,
    "start_time": "2023-05-25T09:58:55.030Z"
   },
   {
    "duration": 106,
    "start_time": "2023-05-25T09:59:00.900Z"
   },
   {
    "duration": 89,
    "start_time": "2023-05-25T09:59:03.247Z"
   },
   {
    "duration": 29,
    "start_time": "2023-05-25T09:59:04.559Z"
   },
   {
    "duration": 14,
    "start_time": "2023-05-25T09:59:05.363Z"
   },
   {
    "duration": 58,
    "start_time": "2023-05-25T09:59:07.499Z"
   },
   {
    "duration": 283,
    "start_time": "2023-05-25T09:59:08.510Z"
   },
   {
    "duration": 8,
    "start_time": "2023-05-25T09:59:10.638Z"
   },
   {
    "duration": 90,
    "start_time": "2023-05-25T09:59:14.297Z"
   },
   {
    "duration": 87,
    "start_time": "2023-05-25T10:00:16.039Z"
   },
   {
    "duration": 24,
    "start_time": "2023-05-25T10:08:53.540Z"
   },
   {
    "duration": 250,
    "start_time": "2023-05-25T10:08:58.037Z"
   },
   {
    "duration": 70,
    "start_time": "2023-05-25T10:16:47.555Z"
   },
   {
    "duration": 3255,
    "start_time": "2023-05-25T10:17:16.526Z"
   },
   {
    "duration": 2760,
    "start_time": "2023-05-25T10:17:28.386Z"
   },
   {
    "duration": 400,
    "start_time": "2023-05-25T10:18:20.374Z"
   },
   {
    "duration": 394,
    "start_time": "2023-05-25T10:18:40.226Z"
   },
   {
    "duration": 27,
    "start_time": "2023-05-25T10:18:55.535Z"
   },
   {
    "duration": 15,
    "start_time": "2023-05-25T10:19:29.970Z"
   },
   {
    "duration": 73,
    "start_time": "2023-05-25T10:19:45.462Z"
   },
   {
    "duration": 172,
    "start_time": "2023-05-25T10:20:12.439Z"
   },
   {
    "duration": 2783,
    "start_time": "2023-05-25T10:21:29.082Z"
   },
   {
    "duration": 2807,
    "start_time": "2023-05-25T10:21:37.697Z"
   },
   {
    "duration": 2749,
    "start_time": "2023-05-25T10:22:04.671Z"
   },
   {
    "duration": 2788,
    "start_time": "2023-05-25T10:22:08.342Z"
   },
   {
    "duration": 3,
    "start_time": "2023-05-25T10:22:21.304Z"
   },
   {
    "duration": 897,
    "start_time": "2023-05-25T10:22:21.309Z"
   },
   {
    "duration": 19,
    "start_time": "2023-05-25T10:22:22.208Z"
   },
   {
    "duration": 143,
    "start_time": "2023-05-25T10:22:22.229Z"
   },
   {
    "duration": 118,
    "start_time": "2023-05-25T10:22:22.374Z"
   },
   {
    "duration": 18,
    "start_time": "2023-05-25T10:22:22.494Z"
   },
   {
    "duration": 71,
    "start_time": "2023-05-25T10:22:22.514Z"
   },
   {
    "duration": 114,
    "start_time": "2023-05-25T10:22:22.587Z"
   },
   {
    "duration": 83,
    "start_time": "2023-05-25T10:22:22.703Z"
   },
   {
    "duration": 20,
    "start_time": "2023-05-25T10:22:22.788Z"
   },
   {
    "duration": 61,
    "start_time": "2023-05-25T10:22:22.810Z"
   },
   {
    "duration": 53,
    "start_time": "2023-05-25T10:22:22.874Z"
   },
   {
    "duration": 312,
    "start_time": "2023-05-25T10:22:22.930Z"
   },
   {
    "duration": 19,
    "start_time": "2023-05-25T10:22:23.246Z"
   },
   {
    "duration": 122,
    "start_time": "2023-05-25T10:22:23.267Z"
   },
   {
    "duration": 285,
    "start_time": "2023-05-25T10:22:23.392Z"
   },
   {
    "duration": 22,
    "start_time": "2023-05-25T10:22:23.679Z"
   },
   {
    "duration": 3272,
    "start_time": "2023-05-25T10:22:26.234Z"
   },
   {
    "duration": 30,
    "start_time": "2023-05-25T10:22:46.142Z"
   },
   {
    "duration": 480,
    "start_time": "2023-05-25T10:23:11.485Z"
   },
   {
    "duration": 32,
    "start_time": "2023-05-25T10:23:12.778Z"
   },
   {
    "duration": 20,
    "start_time": "2023-05-25T10:23:13.361Z"
   },
   {
    "duration": 88,
    "start_time": "2023-05-25T10:23:14.714Z"
   },
   {
    "duration": 93,
    "start_time": "2023-05-25T10:23:15.740Z"
   },
   {
    "duration": 40,
    "start_time": "2023-05-25T10:49:16.707Z"
   },
   {
    "duration": 3,
    "start_time": "2023-05-25T10:51:25.299Z"
   },
   {
    "duration": 880,
    "start_time": "2023-05-25T10:58:29.258Z"
   },
   {
    "duration": 801,
    "start_time": "2023-05-25T10:58:30.140Z"
   },
   {
    "duration": 19,
    "start_time": "2023-05-25T10:58:30.942Z"
   },
   {
    "duration": 143,
    "start_time": "2023-05-25T10:58:30.963Z"
   },
   {
    "duration": 156,
    "start_time": "2023-05-25T10:58:31.109Z"
   },
   {
    "duration": 14,
    "start_time": "2023-05-25T10:58:31.267Z"
   },
   {
    "duration": 75,
    "start_time": "2023-05-25T10:58:31.283Z"
   },
   {
    "duration": 103,
    "start_time": "2023-05-25T10:58:31.360Z"
   },
   {
    "duration": 62,
    "start_time": "2023-05-25T10:58:31.465Z"
   },
   {
    "duration": 33,
    "start_time": "2023-05-25T10:58:31.529Z"
   },
   {
    "duration": 9,
    "start_time": "2023-05-25T10:58:31.564Z"
   },
   {
    "duration": 59,
    "start_time": "2023-05-25T10:58:31.575Z"
   },
   {
    "duration": 294,
    "start_time": "2023-05-25T10:58:31.636Z"
   },
   {
    "duration": 8,
    "start_time": "2023-05-25T10:58:31.932Z"
   },
   {
    "duration": 155,
    "start_time": "2023-05-25T10:58:31.942Z"
   },
   {
    "duration": 257,
    "start_time": "2023-05-25T10:58:32.099Z"
   },
   {
    "duration": 17,
    "start_time": "2023-05-25T10:58:32.358Z"
   },
   {
    "duration": 3043,
    "start_time": "2023-05-25T10:58:32.377Z"
   },
   {
    "duration": 410,
    "start_time": "2023-05-25T10:58:35.422Z"
   },
   {
    "duration": 39,
    "start_time": "2023-05-25T10:58:35.834Z"
   },
   {
    "duration": 41,
    "start_time": "2023-05-25T10:58:35.875Z"
   },
   {
    "duration": 70,
    "start_time": "2023-05-25T10:58:35.918Z"
   },
   {
    "duration": 96,
    "start_time": "2023-05-25T10:58:35.990Z"
   },
   {
    "duration": 3,
    "start_time": "2023-05-25T10:58:36.088Z"
   },
   {
    "duration": 773,
    "start_time": "2023-05-25T10:58:36.093Z"
   },
   {
    "duration": 4,
    "start_time": "2023-05-25T10:58:36.867Z"
   },
   {
    "duration": 260,
    "start_time": "2023-05-25T10:58:36.873Z"
   },
   {
    "duration": 67,
    "start_time": "2023-05-25T11:01:44.578Z"
   },
   {
    "duration": 4,
    "start_time": "2023-05-25T11:02:52.915Z"
   },
   {
    "duration": 382,
    "start_time": "2023-05-25T11:02:55.489Z"
   },
   {
    "duration": 1350,
    "start_time": "2023-05-25T11:03:56.578Z"
   },
   {
    "duration": 962,
    "start_time": "2023-05-25T11:04:00.112Z"
   },
   {
    "duration": 24,
    "start_time": "2023-05-25T11:04:01.978Z"
   },
   {
    "duration": 124,
    "start_time": "2023-05-25T11:04:02.580Z"
   },
   {
    "duration": 118,
    "start_time": "2023-05-25T11:04:03.492Z"
   },
   {
    "duration": 16,
    "start_time": "2023-05-25T11:04:04.367Z"
   },
   {
    "duration": 57,
    "start_time": "2023-05-25T11:04:05.245Z"
   },
   {
    "duration": 109,
    "start_time": "2023-05-25T11:04:05.710Z"
   },
   {
    "duration": 72,
    "start_time": "2023-05-25T11:04:06.597Z"
   },
   {
    "duration": 18,
    "start_time": "2023-05-25T11:04:08.498Z"
   },
   {
    "duration": 12,
    "start_time": "2023-05-25T11:04:09.168Z"
   },
   {
    "duration": 66,
    "start_time": "2023-05-25T11:04:10.426Z"
   },
   {
    "duration": 270,
    "start_time": "2023-05-25T11:04:11.403Z"
   },
   {
    "duration": 8,
    "start_time": "2023-05-25T11:04:12.578Z"
   },
   {
    "duration": 96,
    "start_time": "2023-05-25T11:04:13.538Z"
   },
   {
    "duration": 250,
    "start_time": "2023-05-25T11:04:14.477Z"
   },
   {
    "duration": 17,
    "start_time": "2023-05-25T11:04:15.363Z"
   },
   {
    "duration": 3263,
    "start_time": "2023-05-25T11:04:16.132Z"
   },
   {
    "duration": 484,
    "start_time": "2023-05-25T11:04:21.027Z"
   },
   {
    "duration": 28,
    "start_time": "2023-05-25T11:04:22.744Z"
   },
   {
    "duration": 18,
    "start_time": "2023-05-25T11:04:24.076Z"
   },
   {
    "duration": 69,
    "start_time": "2023-05-25T11:04:24.625Z"
   },
   {
    "duration": 85,
    "start_time": "2023-05-25T11:04:25.467Z"
   },
   {
    "duration": 2,
    "start_time": "2023-05-25T11:04:26.692Z"
   },
   {
    "duration": 771,
    "start_time": "2023-05-25T11:04:27.310Z"
   },
   {
    "duration": 3,
    "start_time": "2023-05-25T11:04:28.149Z"
   },
   {
    "duration": 259,
    "start_time": "2023-05-25T11:04:29.043Z"
   },
   {
    "duration": 70,
    "start_time": "2023-05-25T11:04:29.826Z"
   },
   {
    "duration": 3,
    "start_time": "2023-05-25T11:04:30.650Z"
   },
   {
    "duration": 375,
    "start_time": "2023-05-25T11:04:31.195Z"
   },
   {
    "duration": 1215,
    "start_time": "2023-05-31T09:56:36.446Z"
   },
   {
    "duration": 2916,
    "start_time": "2023-05-31T09:56:37.663Z"
   },
   {
    "duration": 17,
    "start_time": "2023-05-31T09:56:40.581Z"
   },
   {
    "duration": 129,
    "start_time": "2023-05-31T09:56:40.600Z"
   },
   {
    "duration": 127,
    "start_time": "2023-05-31T09:56:40.731Z"
   },
   {
    "duration": 12,
    "start_time": "2023-05-31T09:56:40.860Z"
   },
   {
    "duration": 58,
    "start_time": "2023-05-31T09:56:40.874Z"
   },
   {
    "duration": 114,
    "start_time": "2023-05-31T09:56:40.934Z"
   },
   {
    "duration": 75,
    "start_time": "2023-05-31T09:56:41.050Z"
   },
   {
    "duration": 17,
    "start_time": "2023-05-31T09:56:41.128Z"
   },
   {
    "duration": 8,
    "start_time": "2023-05-31T09:56:41.147Z"
   },
   {
    "duration": 71,
    "start_time": "2023-05-31T09:56:41.156Z"
   },
   {
    "duration": 249,
    "start_time": "2023-05-31T09:56:41.229Z"
   },
   {
    "duration": 6,
    "start_time": "2023-05-31T09:56:41.480Z"
   },
   {
    "duration": 97,
    "start_time": "2023-05-31T09:56:41.488Z"
   },
   {
    "duration": 245,
    "start_time": "2023-05-31T09:56:41.586Z"
   },
   {
    "duration": 16,
    "start_time": "2023-05-31T09:56:41.833Z"
   },
   {
    "duration": 2697,
    "start_time": "2023-05-31T09:56:41.850Z"
   },
   {
    "duration": 374,
    "start_time": "2023-05-31T09:56:44.549Z"
   },
   {
    "duration": 21,
    "start_time": "2023-05-31T09:56:44.925Z"
   },
   {
    "duration": 15,
    "start_time": "2023-05-31T09:56:44.947Z"
   },
   {
    "duration": 90,
    "start_time": "2023-05-31T09:56:44.963Z"
   },
   {
    "duration": 78,
    "start_time": "2023-05-31T09:56:45.054Z"
   },
   {
    "duration": 3,
    "start_time": "2023-05-31T09:56:45.133Z"
   },
   {
    "duration": 706,
    "start_time": "2023-05-31T09:56:45.137Z"
   },
   {
    "duration": 2,
    "start_time": "2023-05-31T09:56:45.845Z"
   },
   {
    "duration": 230,
    "start_time": "2023-05-31T09:56:45.849Z"
   },
   {
    "duration": 58,
    "start_time": "2023-05-31T09:56:46.082Z"
   },
   {
    "duration": 3,
    "start_time": "2023-05-31T09:56:46.141Z"
   },
   {
    "duration": 323,
    "start_time": "2023-05-31T09:56:46.145Z"
   },
   {
    "duration": 426,
    "start_time": "2023-05-31T09:56:49.621Z"
   },
   {
    "duration": 17,
    "start_time": "2023-05-31T09:57:01.637Z"
   },
   {
    "duration": 4,
    "start_time": "2023-05-31T09:57:03.536Z"
   },
   {
    "duration": 154,
    "start_time": "2023-05-31T10:11:05.639Z"
   },
   {
    "duration": 50,
    "start_time": "2023-05-31T10:11:32.361Z"
   },
   {
    "duration": 4,
    "start_time": "2023-05-31T10:11:36.215Z"
   },
   {
    "duration": 20180,
    "start_time": "2023-05-31T10:11:41.447Z"
   },
   {
    "duration": 107,
    "start_time": "2023-05-31T10:15:50.684Z"
   },
   {
    "duration": 5656,
    "start_time": "2023-05-31T10:16:02.491Z"
   },
   {
    "duration": 20,
    "start_time": "2023-05-31T10:16:39.920Z"
   },
   {
    "duration": 9,
    "start_time": "2023-05-31T10:17:12.127Z"
   },
   {
    "duration": 5,
    "start_time": "2023-05-31T10:17:20.213Z"
   },
   {
    "duration": 6347,
    "start_time": "2023-05-31T10:19:05.706Z"
   },
   {
    "duration": 18,
    "start_time": "2023-05-31T10:19:18.170Z"
   },
   {
    "duration": 6,
    "start_time": "2023-05-31T10:19:20.225Z"
   },
   {
    "duration": 2,
    "start_time": "2023-05-31T12:30:52.375Z"
   },
   {
    "duration": 2,
    "start_time": "2023-05-31T12:30:52.944Z"
   },
   {
    "duration": 19,
    "start_time": "2023-05-31T12:43:36.300Z"
   },
   {
    "duration": 5,
    "start_time": "2023-05-31T12:44:04.218Z"
   },
   {
    "duration": 818,
    "start_time": "2023-05-31T12:44:04.226Z"
   },
   {
    "duration": 14,
    "start_time": "2023-05-31T12:44:05.045Z"
   },
   {
    "duration": 153,
    "start_time": "2023-05-31T12:44:05.060Z"
   },
   {
    "duration": 125,
    "start_time": "2023-05-31T12:44:05.215Z"
   },
   {
    "duration": 20,
    "start_time": "2023-05-31T12:44:05.342Z"
   },
   {
    "duration": 33,
    "start_time": "2023-05-31T12:44:05.363Z"
   },
   {
    "duration": 133,
    "start_time": "2023-05-31T12:44:05.398Z"
   },
   {
    "duration": 60,
    "start_time": "2023-05-31T12:44:05.533Z"
   },
   {
    "duration": 37,
    "start_time": "2023-05-31T12:44:05.595Z"
   },
   {
    "duration": 17,
    "start_time": "2023-05-31T12:44:05.634Z"
   },
   {
    "duration": 71,
    "start_time": "2023-05-31T12:44:05.652Z"
   },
   {
    "duration": 267,
    "start_time": "2023-05-31T12:44:05.727Z"
   },
   {
    "duration": 7,
    "start_time": "2023-05-31T12:44:05.995Z"
   },
   {
    "duration": 101,
    "start_time": "2023-05-31T12:44:06.004Z"
   },
   {
    "duration": 248,
    "start_time": "2023-05-31T12:44:06.107Z"
   },
   {
    "duration": 18,
    "start_time": "2023-05-31T12:44:06.357Z"
   },
   {
    "duration": 2945,
    "start_time": "2023-05-31T12:44:06.376Z"
   },
   {
    "duration": 420,
    "start_time": "2023-05-31T12:44:09.324Z"
   },
   {
    "duration": 26,
    "start_time": "2023-05-31T12:44:09.746Z"
   },
   {
    "duration": 14,
    "start_time": "2023-05-31T12:44:09.775Z"
   },
   {
    "duration": 127,
    "start_time": "2023-05-31T12:44:09.791Z"
   },
   {
    "duration": 76,
    "start_time": "2023-05-31T12:44:09.925Z"
   },
   {
    "duration": 5,
    "start_time": "2023-05-31T12:44:10.002Z"
   },
   {
    "duration": 759,
    "start_time": "2023-05-31T12:44:10.008Z"
   },
   {
    "duration": 3,
    "start_time": "2023-05-31T12:44:10.768Z"
   },
   {
    "duration": 220,
    "start_time": "2023-05-31T12:44:10.773Z"
   },
   {
    "duration": 63,
    "start_time": "2023-05-31T12:44:10.994Z"
   },
   {
    "duration": 3,
    "start_time": "2023-05-31T12:44:11.059Z"
   },
   {
    "duration": 346,
    "start_time": "2023-05-31T12:44:11.063Z"
   },
   {
    "duration": 446,
    "start_time": "2023-05-31T12:44:11.411Z"
   },
   {
    "duration": 19,
    "start_time": "2023-05-31T12:44:11.926Z"
   },
   {
    "duration": 90,
    "start_time": "2023-05-31T12:44:11.947Z"
   },
   {
    "duration": 6027,
    "start_time": "2023-05-31T12:44:12.040Z"
   },
   {
    "duration": 17,
    "start_time": "2023-05-31T12:44:18.068Z"
   },
   {
    "duration": 4,
    "start_time": "2023-05-31T12:44:18.086Z"
   },
   {
    "duration": 15,
    "start_time": "2023-05-31T12:44:18.093Z"
   },
   {
    "duration": 13,
    "start_time": "2023-05-31T12:44:18.109Z"
   },
   {
    "duration": 22,
    "start_time": "2023-05-31T12:44:23.023Z"
   },
   {
    "duration": 92,
    "start_time": "2023-05-31T12:44:52.136Z"
   },
   {
    "duration": 196,
    "start_time": "2023-05-31T12:45:52.291Z"
   },
   {
    "duration": 146600,
    "start_time": "2023-05-31T12:46:25.854Z"
   },
   {
    "duration": 980,
    "start_time": "2023-05-31T12:59:26.115Z"
   },
   {
    "duration": 4,
    "start_time": "2023-05-31T12:59:47.056Z"
   },
   {
    "duration": 10071,
    "start_time": "2023-05-31T13:08:53.369Z"
   },
   {
    "duration": 10572,
    "start_time": "2023-05-31T13:13:25.955Z"
   },
   {
    "duration": 763,
    "start_time": "2023-05-31T13:13:42.675Z"
   },
   {
    "duration": 5,
    "start_time": "2023-05-31T13:13:45.544Z"
   },
   {
    "duration": 3,
    "start_time": "2023-05-31T14:39:50.052Z"
   },
   {
    "duration": 9,
    "start_time": "2023-05-31T14:40:03.579Z"
   },
   {
    "duration": 9,
    "start_time": "2023-05-31T14:40:12.316Z"
   },
   {
    "duration": 4,
    "start_time": "2023-05-31T15:27:07.709Z"
   },
   {
    "duration": 774,
    "start_time": "2023-05-31T15:27:07.715Z"
   },
   {
    "duration": 12,
    "start_time": "2023-05-31T15:27:08.491Z"
   },
   {
    "duration": 132,
    "start_time": "2023-05-31T15:27:08.504Z"
   },
   {
    "duration": 119,
    "start_time": "2023-05-31T15:27:08.638Z"
   },
   {
    "duration": 19,
    "start_time": "2023-05-31T15:27:08.759Z"
   },
   {
    "duration": 50,
    "start_time": "2023-05-31T15:27:08.779Z"
   },
   {
    "duration": 123,
    "start_time": "2023-05-31T15:27:08.832Z"
   },
   {
    "duration": 80,
    "start_time": "2023-05-31T15:27:08.957Z"
   },
   {
    "duration": 18,
    "start_time": "2023-05-31T15:27:09.039Z"
   },
   {
    "duration": 15,
    "start_time": "2023-05-31T15:27:09.058Z"
   },
   {
    "duration": 52,
    "start_time": "2023-05-31T15:27:09.075Z"
   },
   {
    "duration": 265,
    "start_time": "2023-05-31T15:27:09.129Z"
   },
   {
    "duration": 9,
    "start_time": "2023-05-31T15:27:09.398Z"
   },
   {
    "duration": 99,
    "start_time": "2023-05-31T15:27:09.408Z"
   },
   {
    "duration": 278,
    "start_time": "2023-05-31T15:27:09.508Z"
   },
   {
    "duration": 19,
    "start_time": "2023-05-31T15:27:09.788Z"
   },
   {
    "duration": 2862,
    "start_time": "2023-05-31T15:27:09.809Z"
   },
   {
    "duration": 385,
    "start_time": "2023-05-31T15:27:12.672Z"
   },
   {
    "duration": 27,
    "start_time": "2023-05-31T15:27:13.059Z"
   },
   {
    "duration": 51,
    "start_time": "2023-05-31T15:27:13.087Z"
   },
   {
    "duration": 88,
    "start_time": "2023-05-31T15:27:13.139Z"
   },
   {
    "duration": 90,
    "start_time": "2023-05-31T15:27:13.229Z"
   },
   {
    "duration": 3,
    "start_time": "2023-05-31T15:27:13.321Z"
   },
   {
    "duration": 695,
    "start_time": "2023-05-31T15:27:13.326Z"
   },
   {
    "duration": 2,
    "start_time": "2023-05-31T15:27:14.023Z"
   },
   {
    "duration": 207,
    "start_time": "2023-05-31T15:27:14.027Z"
   },
   {
    "duration": 56,
    "start_time": "2023-05-31T15:27:14.236Z"
   },
   {
    "duration": 2,
    "start_time": "2023-05-31T15:27:14.294Z"
   },
   {
    "duration": 331,
    "start_time": "2023-05-31T15:27:14.298Z"
   },
   {
    "duration": 397,
    "start_time": "2023-05-31T15:27:14.631Z"
   },
   {
    "duration": 98,
    "start_time": "2023-05-31T15:27:15.029Z"
   },
   {
    "duration": 99,
    "start_time": "2023-05-31T15:27:15.130Z"
   },
   {
    "duration": 5776,
    "start_time": "2023-05-31T15:27:15.231Z"
   },
   {
    "duration": 25,
    "start_time": "2023-05-31T15:27:21.008Z"
   },
   {
    "duration": 4,
    "start_time": "2023-05-31T15:27:21.035Z"
   },
   {
    "duration": 15,
    "start_time": "2023-05-31T15:27:21.041Z"
   },
   {
    "duration": 12,
    "start_time": "2023-05-31T15:27:21.058Z"
   },
   {
    "duration": 114,
    "start_time": "2023-05-31T15:27:21.072Z"
   },
   {
    "duration": 199,
    "start_time": "2023-05-31T15:27:21.188Z"
   },
   {
    "duration": 145477,
    "start_time": "2023-05-31T15:27:21.391Z"
   },
   {
    "duration": 995,
    "start_time": "2023-05-31T15:29:46.869Z"
   },
   {
    "duration": 5,
    "start_time": "2023-05-31T15:29:47.866Z"
   },
   {
    "duration": 10067,
    "start_time": "2023-05-31T15:29:47.872Z"
   },
   {
    "duration": 899,
    "start_time": "2023-05-31T15:29:57.941Z"
   },
   {
    "duration": 5,
    "start_time": "2023-05-31T15:29:58.842Z"
   },
   {
    "duration": 15,
    "start_time": "2023-05-31T15:29:58.849Z"
   },
   {
    "duration": 1444,
    "start_time": "2023-06-01T02:22:03.964Z"
   },
   {
    "duration": 912,
    "start_time": "2023-06-01T02:22:08.965Z"
   },
   {
    "duration": 29,
    "start_time": "2023-06-01T02:22:11.906Z"
   },
   {
    "duration": 107,
    "start_time": "2023-06-01T02:22:12.973Z"
   },
   {
    "duration": 120,
    "start_time": "2023-06-01T02:22:16.888Z"
   },
   {
    "duration": 16,
    "start_time": "2023-06-01T02:22:39.946Z"
   },
   {
    "duration": 46,
    "start_time": "2023-06-01T02:22:47.359Z"
   },
   {
    "duration": 91,
    "start_time": "2023-06-01T02:22:48.133Z"
   },
   {
    "duration": 66,
    "start_time": "2023-06-01T02:27:35.161Z"
   },
   {
    "duration": 17,
    "start_time": "2023-06-01T02:27:36.454Z"
   },
   {
    "duration": 7,
    "start_time": "2023-06-01T02:27:37.498Z"
   },
   {
    "duration": 58,
    "start_time": "2023-06-01T02:29:00.642Z"
   },
   {
    "duration": 295,
    "start_time": "2023-06-01T02:29:08.034Z"
   },
   {
    "duration": 7,
    "start_time": "2023-06-01T02:29:23.550Z"
   },
   {
    "duration": 88,
    "start_time": "2023-06-01T02:31:06.064Z"
   },
   {
    "duration": 227,
    "start_time": "2023-06-01T02:31:38.530Z"
   },
   {
    "duration": 14,
    "start_time": "2023-06-01T02:31:58.276Z"
   },
   {
    "duration": 2903,
    "start_time": "2023-06-01T02:32:30.300Z"
   },
   {
    "duration": 434,
    "start_time": "2023-06-01T02:33:10.974Z"
   },
   {
    "duration": 25,
    "start_time": "2023-06-01T02:33:57.144Z"
   },
   {
    "duration": 172,
    "start_time": "2023-06-01T02:34:17.767Z"
   },
   {
    "duration": 15,
    "start_time": "2023-06-01T02:35:31.317Z"
   },
   {
    "duration": 70,
    "start_time": "2023-06-01T02:35:31.571Z"
   },
   {
    "duration": 77,
    "start_time": "2023-06-01T02:35:36.439Z"
   },
   {
    "duration": 3,
    "start_time": "2023-06-01T02:35:38.191Z"
   },
   {
    "duration": 649,
    "start_time": "2023-06-01T02:35:42.265Z"
   },
   {
    "duration": 3,
    "start_time": "2023-06-01T02:38:17.920Z"
   },
   {
    "duration": 104,
    "start_time": "2023-06-01T02:40:11.064Z"
   },
   {
    "duration": 11174,
    "start_time": "2023-06-01T02:40:17.354Z"
   },
   {
    "duration": 205,
    "start_time": "2023-06-01T02:41:34.905Z"
   },
   {
    "duration": 63,
    "start_time": "2023-06-01T02:41:36.957Z"
   },
   {
    "duration": 6,
    "start_time": "2023-06-01T02:42:01.385Z"
   },
   {
    "duration": 2,
    "start_time": "2023-06-01T02:42:12.683Z"
   },
   {
    "duration": 368,
    "start_time": "2023-06-01T02:42:17.739Z"
   },
   {
    "duration": 51,
    "start_time": "2023-06-01T02:43:04.271Z"
   },
   {
    "duration": 395,
    "start_time": "2023-06-01T02:43:30.376Z"
   },
   {
    "duration": 24,
    "start_time": "2023-06-01T02:43:33.347Z"
   },
   {
    "duration": 6,
    "start_time": "2023-06-01T02:43:33.699Z"
   },
   {
    "duration": 6078,
    "start_time": "2023-06-01T02:46:36.802Z"
   },
   {
    "duration": 18,
    "start_time": "2023-06-01T02:46:47.740Z"
   },
   {
    "duration": 4,
    "start_time": "2023-06-01T02:46:48.731Z"
   },
   {
    "duration": 3,
    "start_time": "2023-06-01T02:49:15.970Z"
   },
   {
    "duration": 3,
    "start_time": "2023-06-01T02:49:16.452Z"
   },
   {
    "duration": 1808,
    "start_time": "2023-06-01T08:51:03.670Z"
   },
   {
    "duration": 2102,
    "start_time": "2023-06-01T08:51:08.256Z"
   },
   {
    "duration": 36,
    "start_time": "2023-06-01T08:51:11.994Z"
   },
   {
    "duration": 265,
    "start_time": "2023-06-01T08:51:13.011Z"
   },
   {
    "duration": 244,
    "start_time": "2023-06-01T08:51:14.950Z"
   },
   {
    "duration": 17,
    "start_time": "2023-06-01T08:51:16.194Z"
   },
   {
    "duration": 62,
    "start_time": "2023-06-01T08:51:17.169Z"
   },
   {
    "duration": 101,
    "start_time": "2023-06-01T08:51:21.772Z"
   },
   {
    "duration": 35,
    "start_time": "2023-06-01T08:51:23.954Z"
   },
   {
    "duration": 13,
    "start_time": "2023-06-01T08:51:25.370Z"
   },
   {
    "duration": 88,
    "start_time": "2023-06-01T08:51:30.390Z"
   },
   {
    "duration": 459,
    "start_time": "2023-06-01T08:51:31.384Z"
   },
   {
    "duration": 18,
    "start_time": "2023-06-01T08:51:33.521Z"
   },
   {
    "duration": 155,
    "start_time": "2023-06-01T08:51:37.226Z"
   },
   {
    "duration": 346,
    "start_time": "2023-06-01T08:51:39.803Z"
   },
   {
    "duration": 43,
    "start_time": "2023-06-01T08:51:42.276Z"
   },
   {
    "duration": 4601,
    "start_time": "2023-06-01T08:51:44.419Z"
   },
   {
    "duration": 39,
    "start_time": "2023-06-01T08:51:58.570Z"
   },
   {
    "duration": 219,
    "start_time": "2023-06-01T08:52:00.014Z"
   },
   {
    "duration": 228,
    "start_time": "2023-06-01T08:52:03.905Z"
   },
   {
    "duration": 21,
    "start_time": "2023-06-01T08:52:22.935Z"
   },
   {
    "duration": 118,
    "start_time": "2023-06-01T08:52:38.570Z"
   },
   {
    "duration": 119,
    "start_time": "2023-06-01T08:52:40.751Z"
   },
   {
    "duration": 5,
    "start_time": "2023-06-01T08:52:44.848Z"
   },
   {
    "duration": 6,
    "start_time": "2023-06-01T09:03:20.554Z"
   },
   {
    "duration": 4,
    "start_time": "2023-06-01T09:20:01.171Z"
   },
   {
    "duration": 896,
    "start_time": "2023-06-01T09:20:01.854Z"
   },
   {
    "duration": 14,
    "start_time": "2023-06-01T09:20:02.752Z"
   },
   {
    "duration": 177,
    "start_time": "2023-06-01T09:20:03.496Z"
   },
   {
    "duration": 142,
    "start_time": "2023-06-01T09:20:04.515Z"
   },
   {
    "duration": 12,
    "start_time": "2023-06-01T09:20:05.443Z"
   },
   {
    "duration": 31,
    "start_time": "2023-06-01T09:20:06.187Z"
   },
   {
    "duration": 68,
    "start_time": "2023-06-01T09:20:08.063Z"
   },
   {
    "duration": 31,
    "start_time": "2023-06-01T09:20:09.218Z"
   },
   {
    "duration": 11,
    "start_time": "2023-06-01T09:20:09.973Z"
   },
   {
    "duration": 39,
    "start_time": "2023-06-01T09:20:11.538Z"
   },
   {
    "duration": 270,
    "start_time": "2023-06-01T09:20:12.346Z"
   },
   {
    "duration": 15,
    "start_time": "2023-06-01T09:20:13.719Z"
   },
   {
    "duration": 83,
    "start_time": "2023-06-01T09:20:14.381Z"
   },
   {
    "duration": 256,
    "start_time": "2023-06-01T09:20:15.451Z"
   },
   {
    "duration": 30,
    "start_time": "2023-06-01T09:20:16.619Z"
   },
   {
    "duration": 3247,
    "start_time": "2023-06-01T09:20:17.972Z"
   },
   {
    "duration": 31,
    "start_time": "2023-06-01T09:20:21.232Z"
   },
   {
    "duration": 161,
    "start_time": "2023-06-01T09:20:22.471Z"
   },
   {
    "duration": 206,
    "start_time": "2023-06-01T09:20:24.876Z"
   },
   {
    "duration": 13,
    "start_time": "2023-06-01T09:20:28.771Z"
   },
   {
    "duration": 84,
    "start_time": "2023-06-01T09:20:29.791Z"
   },
   {
    "duration": 73,
    "start_time": "2023-06-01T09:20:30.674Z"
   },
   {
    "duration": 8,
    "start_time": "2023-06-01T09:20:33.729Z"
   },
   {
    "duration": 76,
    "start_time": "2023-06-01T09:20:35.931Z"
   },
   {
    "duration": 79,
    "start_time": "2023-06-01T09:22:23.642Z"
   },
   {
    "duration": 384,
    "start_time": "2023-06-01T09:29:30.902Z"
   },
   {
    "duration": 590,
    "start_time": "2023-06-01T09:34:03.882Z"
   },
   {
    "duration": 839,
    "start_time": "2023-06-01T09:34:34.944Z"
   },
   {
    "duration": 36,
    "start_time": "2023-06-01T09:35:43.814Z"
   },
   {
    "duration": 5,
    "start_time": "2023-06-01T09:42:15.103Z"
   },
   {
    "duration": 824,
    "start_time": "2023-06-01T09:42:16.895Z"
   },
   {
    "duration": 19,
    "start_time": "2023-06-01T09:42:18.341Z"
   },
   {
    "duration": 141,
    "start_time": "2023-06-01T09:42:18.924Z"
   },
   {
    "duration": 133,
    "start_time": "2023-06-01T09:42:19.734Z"
   },
   {
    "duration": 15,
    "start_time": "2023-06-01T09:42:20.551Z"
   },
   {
    "duration": 39,
    "start_time": "2023-06-01T09:42:21.284Z"
   },
   {
    "duration": 71,
    "start_time": "2023-06-01T09:42:23.316Z"
   },
   {
    "duration": 26,
    "start_time": "2023-06-01T09:42:24.442Z"
   },
   {
    "duration": 10,
    "start_time": "2023-06-01T09:42:24.979Z"
   },
   {
    "duration": 57,
    "start_time": "2023-06-01T09:42:26.643Z"
   },
   {
    "duration": 276,
    "start_time": "2023-06-01T09:42:27.199Z"
   },
   {
    "duration": 10,
    "start_time": "2023-06-01T09:42:29.137Z"
   },
   {
    "duration": 78,
    "start_time": "2023-06-01T09:42:30.445Z"
   },
   {
    "duration": 343,
    "start_time": "2023-06-01T09:42:31.648Z"
   },
   {
    "duration": 20,
    "start_time": "2023-06-01T09:42:33.900Z"
   },
   {
    "duration": 34,
    "start_time": "2023-06-01T09:42:37.109Z"
   },
   {
    "duration": 155,
    "start_time": "2023-06-01T09:42:38.337Z"
   },
   {
    "duration": 210,
    "start_time": "2023-06-01T09:42:40.279Z"
   },
   {
    "duration": 12,
    "start_time": "2023-06-01T09:42:42.702Z"
   },
   {
    "duration": 88,
    "start_time": "2023-06-01T09:42:45.084Z"
   },
   {
    "duration": 62,
    "start_time": "2023-06-01T09:42:49.222Z"
   },
   {
    "duration": 9,
    "start_time": "2023-06-01T09:43:01.300Z"
   },
   {
    "duration": 114,
    "start_time": "2023-06-01T09:43:02.211Z"
   },
   {
    "duration": 605,
    "start_time": "2023-06-01T09:46:27.093Z"
   },
   {
    "duration": 22,
    "start_time": "2023-06-01T09:55:40.913Z"
   },
   {
    "duration": 15,
    "start_time": "2023-06-01T09:55:50.583Z"
   },
   {
    "duration": 25,
    "start_time": "2023-06-01T09:56:11.676Z"
   },
   {
    "duration": 101,
    "start_time": "2023-06-01T09:57:55.254Z"
   },
   {
    "duration": 3655,
    "start_time": "2023-06-01T09:59:22.856Z"
   },
   {
    "duration": 87,
    "start_time": "2023-06-01T09:59:39.954Z"
   },
   {
    "duration": 75,
    "start_time": "2023-06-01T09:59:59.446Z"
   },
   {
    "duration": 113,
    "start_time": "2023-06-01T10:00:20.993Z"
   },
   {
    "duration": 87,
    "start_time": "2023-06-01T10:00:37.006Z"
   },
   {
    "duration": 81,
    "start_time": "2023-06-01T10:00:59.128Z"
   },
   {
    "duration": 529,
    "start_time": "2023-06-01T10:01:44.224Z"
   },
   {
    "duration": 12,
    "start_time": "2023-06-01T10:02:13.795Z"
   },
   {
    "duration": 97,
    "start_time": "2023-06-01T10:02:37.413Z"
   },
   {
    "duration": 98,
    "start_time": "2023-06-01T10:02:57.772Z"
   },
   {
    "duration": 706,
    "start_time": "2023-06-01T10:03:20.753Z"
   },
   {
    "duration": 18,
    "start_time": "2023-06-01T10:05:24.403Z"
   },
   {
    "duration": 23,
    "start_time": "2023-06-01T10:05:36.523Z"
   },
   {
    "duration": 3,
    "start_time": "2023-06-01T10:05:55.103Z"
   },
   {
    "duration": 688,
    "start_time": "2023-06-01T10:05:55.107Z"
   },
   {
    "duration": 13,
    "start_time": "2023-06-01T10:05:55.796Z"
   },
   {
    "duration": 143,
    "start_time": "2023-06-01T10:05:55.810Z"
   },
   {
    "duration": 118,
    "start_time": "2023-06-01T10:05:55.954Z"
   },
   {
    "duration": 57,
    "start_time": "2023-06-01T10:05:56.073Z"
   },
   {
    "duration": 71,
    "start_time": "2023-06-01T10:05:56.132Z"
   },
   {
    "duration": 61,
    "start_time": "2023-06-01T10:05:56.205Z"
   },
   {
    "duration": 16,
    "start_time": "2023-06-01T10:05:56.268Z"
   },
   {
    "duration": 46,
    "start_time": "2023-06-01T10:05:56.286Z"
   },
   {
    "duration": 58,
    "start_time": "2023-06-01T10:05:56.334Z"
   },
   {
    "duration": 279,
    "start_time": "2023-06-01T10:05:56.394Z"
   },
   {
    "duration": 6,
    "start_time": "2023-06-01T10:05:56.674Z"
   },
   {
    "duration": 96,
    "start_time": "2023-06-01T10:05:56.681Z"
   },
   {
    "duration": 223,
    "start_time": "2023-06-01T10:05:56.778Z"
   },
   {
    "duration": 21,
    "start_time": "2023-06-01T10:05:57.003Z"
   },
   {
    "duration": 49,
    "start_time": "2023-06-01T10:05:57.026Z"
   },
   {
    "duration": 142,
    "start_time": "2023-06-01T10:05:57.077Z"
   },
   {
    "duration": 139,
    "start_time": "2023-06-01T10:05:57.221Z"
   },
   {
    "duration": 11,
    "start_time": "2023-06-01T10:05:57.362Z"
   },
   {
    "duration": 84,
    "start_time": "2023-06-01T10:05:57.374Z"
   },
   {
    "duration": 54,
    "start_time": "2023-06-01T10:05:57.459Z"
   },
   {
    "duration": 10,
    "start_time": "2023-06-01T10:05:57.515Z"
   },
   {
    "duration": 73,
    "start_time": "2023-06-01T10:05:57.528Z"
   },
   {
    "duration": 539,
    "start_time": "2023-06-01T10:06:01.721Z"
   },
   {
    "duration": 4,
    "start_time": "2023-06-01T10:11:01.223Z"
   },
   {
    "duration": 754,
    "start_time": "2023-06-01T10:11:01.229Z"
   },
   {
    "duration": 11,
    "start_time": "2023-06-01T10:11:01.985Z"
   },
   {
    "duration": 147,
    "start_time": "2023-06-01T10:11:01.998Z"
   },
   {
    "duration": 127,
    "start_time": "2023-06-01T10:11:02.146Z"
   },
   {
    "duration": 72,
    "start_time": "2023-06-01T10:11:02.274Z"
   },
   {
    "duration": 83,
    "start_time": "2023-06-01T10:11:02.347Z"
   },
   {
    "duration": 66,
    "start_time": "2023-06-01T10:11:02.432Z"
   },
   {
    "duration": 28,
    "start_time": "2023-06-01T10:11:02.501Z"
   },
   {
    "duration": 7,
    "start_time": "2023-06-01T10:11:02.531Z"
   },
   {
    "duration": 69,
    "start_time": "2023-06-01T10:11:02.540Z"
   },
   {
    "duration": 241,
    "start_time": "2023-06-01T10:11:02.610Z"
   },
   {
    "duration": 6,
    "start_time": "2023-06-01T10:11:02.853Z"
   },
   {
    "duration": 94,
    "start_time": "2023-06-01T10:11:02.860Z"
   },
   {
    "duration": 243,
    "start_time": "2023-06-01T10:11:02.956Z"
   },
   {
    "duration": 34,
    "start_time": "2023-06-01T10:11:03.200Z"
   },
   {
    "duration": 40,
    "start_time": "2023-06-01T10:11:03.235Z"
   },
   {
    "duration": 171,
    "start_time": "2023-06-01T10:11:03.277Z"
   },
   {
    "duration": 147,
    "start_time": "2023-06-01T10:11:03.450Z"
   },
   {
    "duration": 12,
    "start_time": "2023-06-01T10:11:03.599Z"
   },
   {
    "duration": 71,
    "start_time": "2023-06-01T10:11:03.624Z"
   },
   {
    "duration": 66,
    "start_time": "2023-06-01T10:11:03.697Z"
   },
   {
    "duration": 5,
    "start_time": "2023-06-01T10:11:03.764Z"
   },
   {
    "duration": 70,
    "start_time": "2023-06-01T10:11:07.021Z"
   },
   {
    "duration": 579,
    "start_time": "2023-06-01T10:11:09.223Z"
   },
   {
    "duration": 4,
    "start_time": "2023-06-01T10:13:56.943Z"
   },
   {
    "duration": 1474,
    "start_time": "2023-06-01T10:14:06.683Z"
   },
   {
    "duration": 850,
    "start_time": "2023-06-01T10:14:09.889Z"
   },
   {
    "duration": 19,
    "start_time": "2023-06-01T10:14:11.459Z"
   },
   {
    "duration": 165,
    "start_time": "2023-06-01T10:14:12.040Z"
   },
   {
    "duration": 129,
    "start_time": "2023-06-01T10:14:12.562Z"
   },
   {
    "duration": 15,
    "start_time": "2023-06-01T10:14:12.959Z"
   },
   {
    "duration": 49,
    "start_time": "2023-06-01T10:14:13.339Z"
   },
   {
    "duration": 71,
    "start_time": "2023-06-01T10:14:14.221Z"
   },
   {
    "duration": 26,
    "start_time": "2023-06-01T10:14:14.815Z"
   },
   {
    "duration": 8,
    "start_time": "2023-06-01T10:14:15.236Z"
   },
   {
    "duration": 59,
    "start_time": "2023-06-01T10:14:16.094Z"
   },
   {
    "duration": 285,
    "start_time": "2023-06-01T10:14:16.457Z"
   },
   {
    "duration": 10,
    "start_time": "2023-06-01T10:14:17.030Z"
   },
   {
    "duration": 94,
    "start_time": "2023-06-01T10:14:17.419Z"
   },
   {
    "duration": 238,
    "start_time": "2023-06-01T10:14:18.056Z"
   },
   {
    "duration": 16,
    "start_time": "2023-06-01T10:14:19.129Z"
   },
   {
    "duration": 39,
    "start_time": "2023-06-01T10:14:20.119Z"
   },
   {
    "duration": 186,
    "start_time": "2023-06-01T10:14:20.713Z"
   },
   {
    "duration": 149,
    "start_time": "2023-06-01T10:14:21.536Z"
   },
   {
    "duration": 13,
    "start_time": "2023-06-01T10:14:22.799Z"
   },
   {
    "duration": 79,
    "start_time": "2023-06-01T10:14:23.134Z"
   },
   {
    "duration": 66,
    "start_time": "2023-06-01T10:14:23.591Z"
   },
   {
    "duration": 3,
    "start_time": "2023-06-01T10:14:24.746Z"
   },
   {
    "duration": 86,
    "start_time": "2023-06-01T10:14:25.554Z"
   },
   {
    "duration": 696,
    "start_time": "2023-06-01T10:14:28.715Z"
   },
   {
    "duration": 24,
    "start_time": "2023-06-01T10:14:49.443Z"
   },
   {
    "duration": 26,
    "start_time": "2023-06-01T10:14:54.216Z"
   },
   {
    "duration": 1405,
    "start_time": "2023-06-01T10:15:18.191Z"
   },
   {
    "duration": 886,
    "start_time": "2023-06-01T10:15:19.597Z"
   },
   {
    "duration": 20,
    "start_time": "2023-06-01T10:15:20.485Z"
   },
   {
    "duration": 265,
    "start_time": "2023-06-01T10:15:20.507Z"
   },
   {
    "duration": 131,
    "start_time": "2023-06-01T10:15:20.774Z"
   },
   {
    "duration": 110,
    "start_time": "2023-06-01T10:15:20.907Z"
   },
   {
    "duration": 105,
    "start_time": "2023-06-01T10:15:21.019Z"
   },
   {
    "duration": 92,
    "start_time": "2023-06-01T10:15:21.126Z"
   },
   {
    "duration": 24,
    "start_time": "2023-06-01T10:15:21.220Z"
   },
   {
    "duration": 40,
    "start_time": "2023-06-01T10:15:21.247Z"
   },
   {
    "duration": 101,
    "start_time": "2023-06-01T10:15:21.288Z"
   },
   {
    "duration": 263,
    "start_time": "2023-06-01T10:15:21.392Z"
   },
   {
    "duration": 7,
    "start_time": "2023-06-01T10:15:21.656Z"
   },
   {
    "duration": 138,
    "start_time": "2023-06-01T10:15:21.664Z"
   },
   {
    "duration": 258,
    "start_time": "2023-06-01T10:15:21.804Z"
   },
   {
    "duration": 17,
    "start_time": "2023-06-01T10:15:22.064Z"
   },
   {
    "duration": 113,
    "start_time": "2023-06-01T10:15:22.083Z"
   },
   {
    "duration": 209,
    "start_time": "2023-06-01T10:15:22.197Z"
   },
   {
    "duration": 172,
    "start_time": "2023-06-01T10:15:22.408Z"
   },
   {
    "duration": 13,
    "start_time": "2023-06-01T10:15:22.582Z"
   },
   {
    "duration": 97,
    "start_time": "2023-06-01T10:15:22.597Z"
   },
   {
    "duration": 113,
    "start_time": "2023-06-01T10:15:22.696Z"
   },
   {
    "duration": 2,
    "start_time": "2023-06-01T10:15:22.811Z"
   },
   {
    "duration": 130,
    "start_time": "2023-06-01T10:15:22.815Z"
   },
   {
    "duration": 738,
    "start_time": "2023-06-01T10:15:26.999Z"
   },
   {
    "duration": 1416,
    "start_time": "2023-06-01T10:15:48.926Z"
   },
   {
    "duration": 858,
    "start_time": "2023-06-01T10:15:50.344Z"
   },
   {
    "duration": 24,
    "start_time": "2023-06-01T10:15:51.204Z"
   },
   {
    "duration": 159,
    "start_time": "2023-06-01T10:15:51.230Z"
   },
   {
    "duration": 140,
    "start_time": "2023-06-01T10:15:51.390Z"
   },
   {
    "duration": 17,
    "start_time": "2023-06-01T10:15:51.532Z"
   },
   {
    "duration": 49,
    "start_time": "2023-06-01T10:15:51.550Z"
   },
   {
    "duration": 99,
    "start_time": "2023-06-01T10:15:51.601Z"
   },
   {
    "duration": 35,
    "start_time": "2023-06-01T10:15:51.702Z"
   },
   {
    "duration": 20,
    "start_time": "2023-06-01T10:15:51.743Z"
   },
   {
    "duration": 68,
    "start_time": "2023-06-01T10:15:51.765Z"
   },
   {
    "duration": 303,
    "start_time": "2023-06-01T10:15:51.835Z"
   },
   {
    "duration": 9,
    "start_time": "2023-06-01T10:15:52.140Z"
   },
   {
    "duration": 112,
    "start_time": "2023-06-01T10:15:52.150Z"
   },
   {
    "duration": 280,
    "start_time": "2023-06-01T10:15:52.264Z"
   },
   {
    "duration": 18,
    "start_time": "2023-06-01T10:15:52.546Z"
   },
   {
    "duration": 46,
    "start_time": "2023-06-01T10:15:52.566Z"
   },
   {
    "duration": 198,
    "start_time": "2023-06-01T10:15:52.624Z"
   },
   {
    "duration": 166,
    "start_time": "2023-06-01T10:15:52.826Z"
   },
   {
    "duration": 13,
    "start_time": "2023-06-01T10:15:52.994Z"
   },
   {
    "duration": 108,
    "start_time": "2023-06-01T10:15:53.009Z"
   },
   {
    "duration": 101,
    "start_time": "2023-06-01T10:15:53.119Z"
   },
   {
    "duration": 3,
    "start_time": "2023-06-01T10:15:53.222Z"
   },
   {
    "duration": 99,
    "start_time": "2023-06-01T10:15:53.226Z"
   },
   {
    "duration": 681,
    "start_time": "2023-06-01T10:15:56.089Z"
   },
   {
    "duration": 24,
    "start_time": "2023-06-01T10:17:42.087Z"
   },
   {
    "duration": 2517,
    "start_time": "2023-06-01T10:17:53.348Z"
   },
   {
    "duration": 835,
    "start_time": "2023-06-01T10:17:55.866Z"
   },
   {
    "duration": 22,
    "start_time": "2023-06-01T10:17:56.703Z"
   },
   {
    "duration": 139,
    "start_time": "2023-06-01T10:17:56.727Z"
   },
   {
    "duration": 161,
    "start_time": "2023-06-01T10:17:56.867Z"
   },
   {
    "duration": 37,
    "start_time": "2023-06-01T10:17:57.030Z"
   },
   {
    "duration": 67,
    "start_time": "2023-06-01T10:17:57.068Z"
   },
   {
    "duration": 71,
    "start_time": "2023-06-01T10:17:57.137Z"
   },
   {
    "duration": 27,
    "start_time": "2023-06-01T10:17:57.210Z"
   },
   {
    "duration": 78,
    "start_time": "2023-06-01T10:17:57.240Z"
   },
   {
    "duration": 104,
    "start_time": "2023-06-01T10:17:57.320Z"
   },
   {
    "duration": 270,
    "start_time": "2023-06-01T10:17:57.426Z"
   },
   {
    "duration": 7,
    "start_time": "2023-06-01T10:17:57.697Z"
   },
   {
    "duration": 108,
    "start_time": "2023-06-01T10:17:57.706Z"
   },
   {
    "duration": 256,
    "start_time": "2023-06-01T10:17:57.816Z"
   },
   {
    "duration": 18,
    "start_time": "2023-06-01T10:17:58.073Z"
   },
   {
    "duration": 70,
    "start_time": "2023-06-01T10:17:58.093Z"
   },
   {
    "duration": 170,
    "start_time": "2023-06-01T10:17:58.165Z"
   },
   {
    "duration": 146,
    "start_time": "2023-06-01T10:17:58.337Z"
   },
   {
    "duration": 12,
    "start_time": "2023-06-01T10:17:58.485Z"
   },
   {
    "duration": 98,
    "start_time": "2023-06-01T10:17:58.499Z"
   },
   {
    "duration": 102,
    "start_time": "2023-06-01T10:17:58.599Z"
   },
   {
    "duration": 3,
    "start_time": "2023-06-01T10:17:58.702Z"
   },
   {
    "duration": 93,
    "start_time": "2023-06-01T10:17:58.706Z"
   },
   {
    "duration": 694,
    "start_time": "2023-06-01T10:18:01.580Z"
   },
   {
    "duration": 61,
    "start_time": "2023-06-01T10:18:58.914Z"
   },
   {
    "duration": 1718,
    "start_time": "2023-06-01T10:19:04.704Z"
   },
   {
    "duration": 763,
    "start_time": "2023-06-01T10:19:06.424Z"
   },
   {
    "duration": 18,
    "start_time": "2023-06-01T10:19:07.189Z"
   },
   {
    "duration": 163,
    "start_time": "2023-06-01T10:19:07.208Z"
   },
   {
    "duration": 120,
    "start_time": "2023-06-01T10:19:07.372Z"
   },
   {
    "duration": 45,
    "start_time": "2023-06-01T10:19:07.494Z"
   },
   {
    "duration": 87,
    "start_time": "2023-06-01T10:19:07.541Z"
   },
   {
    "duration": 65,
    "start_time": "2023-06-01T10:19:07.630Z"
   },
   {
    "duration": 29,
    "start_time": "2023-06-01T10:19:07.696Z"
   },
   {
    "duration": 31,
    "start_time": "2023-06-01T10:19:07.727Z"
   },
   {
    "duration": 152,
    "start_time": "2023-06-01T10:19:07.759Z"
   },
   {
    "duration": 369,
    "start_time": "2023-06-01T10:19:07.913Z"
   },
   {
    "duration": 7,
    "start_time": "2023-06-01T10:19:08.283Z"
   },
   {
    "duration": 113,
    "start_time": "2023-06-01T10:19:08.291Z"
   },
   {
    "duration": 245,
    "start_time": "2023-06-01T10:19:08.405Z"
   },
   {
    "duration": 17,
    "start_time": "2023-06-01T10:19:08.652Z"
   },
   {
    "duration": 66,
    "start_time": "2023-06-01T10:19:08.670Z"
   },
   {
    "duration": 169,
    "start_time": "2023-06-01T10:19:08.737Z"
   },
   {
    "duration": 150,
    "start_time": "2023-06-01T10:19:08.908Z"
   },
   {
    "duration": 12,
    "start_time": "2023-06-01T10:19:09.060Z"
   },
   {
    "duration": 93,
    "start_time": "2023-06-01T10:19:09.074Z"
   },
   {
    "duration": 74,
    "start_time": "2023-06-01T10:19:09.169Z"
   },
   {
    "duration": 3,
    "start_time": "2023-06-01T10:19:09.245Z"
   },
   {
    "duration": 93,
    "start_time": "2023-06-01T10:19:09.249Z"
   },
   {
    "duration": 646,
    "start_time": "2023-06-01T10:19:12.124Z"
   },
   {
    "duration": 1628,
    "start_time": "2023-06-01T10:21:30.591Z"
   },
   {
    "duration": 939,
    "start_time": "2023-06-01T10:21:32.220Z"
   },
   {
    "duration": 19,
    "start_time": "2023-06-01T10:21:33.160Z"
   },
   {
    "duration": 171,
    "start_time": "2023-06-01T10:21:33.181Z"
   },
   {
    "duration": 129,
    "start_time": "2023-06-01T10:21:33.354Z"
   },
   {
    "duration": 42,
    "start_time": "2023-06-01T10:21:33.485Z"
   },
   {
    "duration": 77,
    "start_time": "2023-06-01T10:21:33.529Z"
   },
   {
    "duration": 71,
    "start_time": "2023-06-01T10:21:33.607Z"
   },
   {
    "duration": 20,
    "start_time": "2023-06-01T10:21:33.680Z"
   },
   {
    "duration": 43,
    "start_time": "2023-06-01T10:21:33.702Z"
   },
   {
    "duration": 96,
    "start_time": "2023-06-01T10:21:33.746Z"
   },
   {
    "duration": 286,
    "start_time": "2023-06-01T10:21:33.844Z"
   },
   {
    "duration": 7,
    "start_time": "2023-06-01T10:21:34.131Z"
   },
   {
    "duration": 104,
    "start_time": "2023-06-01T10:21:34.141Z"
   },
   {
    "duration": 254,
    "start_time": "2023-06-01T10:21:34.247Z"
   },
   {
    "duration": 22,
    "start_time": "2023-06-01T10:21:34.503Z"
   },
   {
    "duration": 144,
    "start_time": "2023-06-01T10:21:34.527Z"
   },
   {
    "duration": 170,
    "start_time": "2023-06-01T10:21:34.673Z"
   },
   {
    "duration": 161,
    "start_time": "2023-06-01T10:21:34.844Z"
   },
   {
    "duration": 21,
    "start_time": "2023-06-01T10:21:35.008Z"
   },
   {
    "duration": 103,
    "start_time": "2023-06-01T10:21:35.031Z"
   },
   {
    "duration": 68,
    "start_time": "2023-06-01T10:21:35.136Z"
   },
   {
    "duration": 2,
    "start_time": "2023-06-01T10:21:35.206Z"
   },
   {
    "duration": 84,
    "start_time": "2023-06-01T10:21:35.210Z"
   },
   {
    "duration": 692,
    "start_time": "2023-06-01T10:21:37.919Z"
   },
   {
    "duration": 1593,
    "start_time": "2023-06-01T10:22:15.307Z"
   },
   {
    "duration": 812,
    "start_time": "2023-06-01T10:22:16.902Z"
   },
   {
    "duration": 23,
    "start_time": "2023-06-01T10:22:17.715Z"
   },
   {
    "duration": 138,
    "start_time": "2023-06-01T10:22:17.740Z"
   },
   {
    "duration": 123,
    "start_time": "2023-06-01T10:22:17.880Z"
   },
   {
    "duration": 40,
    "start_time": "2023-06-01T10:22:18.004Z"
   },
   {
    "duration": 59,
    "start_time": "2023-06-01T10:22:18.046Z"
   },
   {
    "duration": 65,
    "start_time": "2023-06-01T10:22:18.107Z"
   },
   {
    "duration": 19,
    "start_time": "2023-06-01T10:22:18.174Z"
   },
   {
    "duration": 51,
    "start_time": "2023-06-01T10:22:18.195Z"
   },
   {
    "duration": 62,
    "start_time": "2023-06-01T10:22:18.248Z"
   },
   {
    "duration": 250,
    "start_time": "2023-06-01T10:22:18.312Z"
   },
   {
    "duration": 8,
    "start_time": "2023-06-01T10:22:18.564Z"
   },
   {
    "duration": 134,
    "start_time": "2023-06-01T10:22:18.574Z"
   },
   {
    "duration": 247,
    "start_time": "2023-06-01T10:22:18.710Z"
   },
   {
    "duration": 16,
    "start_time": "2023-06-01T10:22:18.959Z"
   },
   {
    "duration": 85,
    "start_time": "2023-06-01T10:22:18.976Z"
   },
   {
    "duration": 179,
    "start_time": "2023-06-01T10:22:19.062Z"
   },
   {
    "duration": 167,
    "start_time": "2023-06-01T10:22:19.243Z"
   },
   {
    "duration": 16,
    "start_time": "2023-06-01T10:22:19.412Z"
   },
   {
    "duration": 84,
    "start_time": "2023-06-01T10:22:19.430Z"
   },
   {
    "duration": 65,
    "start_time": "2023-06-01T10:22:19.515Z"
   },
   {
    "duration": 2,
    "start_time": "2023-06-01T10:22:19.581Z"
   },
   {
    "duration": 102,
    "start_time": "2023-06-01T10:22:19.585Z"
   },
   {
    "duration": 814,
    "start_time": "2023-06-01T10:22:22.480Z"
   },
   {
    "duration": 1407,
    "start_time": "2023-06-01T10:23:58.998Z"
   },
   {
    "duration": 871,
    "start_time": "2023-06-01T10:24:00.407Z"
   },
   {
    "duration": 20,
    "start_time": "2023-06-01T10:24:01.281Z"
   },
   {
    "duration": 172,
    "start_time": "2023-06-01T10:24:01.304Z"
   },
   {
    "duration": 148,
    "start_time": "2023-06-01T10:24:01.478Z"
   },
   {
    "duration": 16,
    "start_time": "2023-06-01T10:24:01.628Z"
   },
   {
    "duration": 118,
    "start_time": "2023-06-01T10:24:01.646Z"
   },
   {
    "duration": 93,
    "start_time": "2023-06-01T10:24:01.766Z"
   },
   {
    "duration": 35,
    "start_time": "2023-06-01T10:24:01.860Z"
   },
   {
    "duration": 20,
    "start_time": "2023-06-01T10:24:01.897Z"
   },
   {
    "duration": 95,
    "start_time": "2023-06-01T10:24:01.919Z"
   },
   {
    "duration": 269,
    "start_time": "2023-06-01T10:24:02.016Z"
   },
   {
    "duration": 7,
    "start_time": "2023-06-01T10:24:02.287Z"
   },
   {
    "duration": 165,
    "start_time": "2023-06-01T10:24:02.296Z"
   },
   {
    "duration": 259,
    "start_time": "2023-06-01T10:24:02.462Z"
   },
   {
    "duration": 18,
    "start_time": "2023-06-01T10:24:02.723Z"
   },
   {
    "duration": 55,
    "start_time": "2023-06-01T10:24:02.743Z"
   },
   {
    "duration": 180,
    "start_time": "2023-06-01T10:24:02.800Z"
   },
   {
    "duration": 170,
    "start_time": "2023-06-01T10:24:02.981Z"
   },
   {
    "duration": 11,
    "start_time": "2023-06-01T10:24:03.153Z"
   },
   {
    "duration": 90,
    "start_time": "2023-06-01T10:24:03.166Z"
   },
   {
    "duration": 71,
    "start_time": "2023-06-01T10:24:03.258Z"
   },
   {
    "duration": 3,
    "start_time": "2023-06-01T10:24:03.330Z"
   },
   {
    "duration": 102,
    "start_time": "2023-06-01T10:24:03.335Z"
   },
   {
    "duration": 717,
    "start_time": "2023-06-01T10:24:13.824Z"
   },
   {
    "duration": 1357,
    "start_time": "2023-06-01T10:24:56.031Z"
   },
   {
    "duration": 912,
    "start_time": "2023-06-01T10:24:57.390Z"
   },
   {
    "duration": 25,
    "start_time": "2023-06-01T10:24:58.304Z"
   },
   {
    "duration": 146,
    "start_time": "2023-06-01T10:24:58.331Z"
   },
   {
    "duration": 135,
    "start_time": "2023-06-01T10:24:58.479Z"
   },
   {
    "duration": 16,
    "start_time": "2023-06-01T10:24:58.624Z"
   },
   {
    "duration": 50,
    "start_time": "2023-06-01T10:24:58.641Z"
   },
   {
    "duration": 84,
    "start_time": "2023-06-01T10:24:58.693Z"
   },
   {
    "duration": 20,
    "start_time": "2023-06-01T10:24:58.779Z"
   },
   {
    "duration": 27,
    "start_time": "2023-06-01T10:24:58.801Z"
   },
   {
    "duration": 67,
    "start_time": "2023-06-01T10:24:58.830Z"
   },
   {
    "duration": 327,
    "start_time": "2023-06-01T10:24:58.899Z"
   },
   {
    "duration": 7,
    "start_time": "2023-06-01T10:24:59.228Z"
   },
   {
    "duration": 133,
    "start_time": "2023-06-01T10:24:59.238Z"
   },
   {
    "duration": 297,
    "start_time": "2023-06-01T10:24:59.373Z"
   },
   {
    "duration": 18,
    "start_time": "2023-06-01T10:24:59.672Z"
   },
   {
    "duration": 68,
    "start_time": "2023-06-01T10:24:59.692Z"
   },
   {
    "duration": 190,
    "start_time": "2023-06-01T10:24:59.763Z"
   },
   {
    "duration": 158,
    "start_time": "2023-06-01T10:24:59.954Z"
   },
   {
    "duration": 17,
    "start_time": "2023-06-01T10:25:00.114Z"
   },
   {
    "duration": 87,
    "start_time": "2023-06-01T10:25:00.133Z"
   },
   {
    "duration": 138,
    "start_time": "2023-06-01T10:25:00.222Z"
   },
   {
    "duration": 3,
    "start_time": "2023-06-01T10:25:00.361Z"
   },
   {
    "duration": 128,
    "start_time": "2023-06-01T10:25:00.366Z"
   },
   {
    "duration": 696,
    "start_time": "2023-06-01T10:25:02.710Z"
   },
   {
    "duration": 1596,
    "start_time": "2023-06-01T10:26:04.555Z"
   },
   {
    "duration": 865,
    "start_time": "2023-06-01T10:26:06.154Z"
   },
   {
    "duration": 29,
    "start_time": "2023-06-01T10:26:07.021Z"
   },
   {
    "duration": 158,
    "start_time": "2023-06-01T10:26:07.052Z"
   },
   {
    "duration": 148,
    "start_time": "2023-06-01T10:26:07.224Z"
   },
   {
    "duration": 14,
    "start_time": "2023-06-01T10:26:07.374Z"
   },
   {
    "duration": 80,
    "start_time": "2023-06-01T10:26:07.390Z"
   },
   {
    "duration": 81,
    "start_time": "2023-06-01T10:26:07.472Z"
   },
   {
    "duration": 19,
    "start_time": "2023-06-01T10:26:07.554Z"
   },
   {
    "duration": 44,
    "start_time": "2023-06-01T10:26:07.576Z"
   },
   {
    "duration": 98,
    "start_time": "2023-06-01T10:26:07.622Z"
   },
   {
    "duration": 320,
    "start_time": "2023-06-01T10:26:07.722Z"
   },
   {
    "duration": 8,
    "start_time": "2023-06-01T10:26:08.044Z"
   },
   {
    "duration": 111,
    "start_time": "2023-06-01T10:26:08.053Z"
   },
   {
    "duration": 288,
    "start_time": "2023-06-01T10:26:08.165Z"
   },
   {
    "duration": 17,
    "start_time": "2023-06-01T10:26:08.455Z"
   },
   {
    "duration": 51,
    "start_time": "2023-06-01T10:26:08.474Z"
   },
   {
    "duration": 221,
    "start_time": "2023-06-01T10:26:08.527Z"
   },
   {
    "duration": 174,
    "start_time": "2023-06-01T10:26:08.750Z"
   },
   {
    "duration": 19,
    "start_time": "2023-06-01T10:26:08.926Z"
   },
   {
    "duration": 100,
    "start_time": "2023-06-01T10:26:08.946Z"
   },
   {
    "duration": 63,
    "start_time": "2023-06-01T10:26:09.048Z"
   },
   {
    "duration": 9,
    "start_time": "2023-06-01T10:26:09.124Z"
   },
   {
    "duration": 90,
    "start_time": "2023-06-01T10:26:09.135Z"
   },
   {
    "duration": 825,
    "start_time": "2023-06-01T10:26:12.004Z"
   },
   {
    "duration": 2034,
    "start_time": "2023-06-01T10:26:42.798Z"
   },
   {
    "duration": 957,
    "start_time": "2023-06-01T10:26:44.834Z"
   },
   {
    "duration": 20,
    "start_time": "2023-06-01T10:26:45.793Z"
   },
   {
    "duration": 141,
    "start_time": "2023-06-01T10:26:45.814Z"
   },
   {
    "duration": 129,
    "start_time": "2023-06-01T10:26:45.957Z"
   },
   {
    "duration": 122,
    "start_time": "2023-06-01T10:26:46.087Z"
   },
   {
    "duration": 87,
    "start_time": "2023-06-01T10:26:46.211Z"
   },
   {
    "duration": 73,
    "start_time": "2023-06-01T10:26:46.299Z"
   },
   {
    "duration": 20,
    "start_time": "2023-06-01T10:26:46.374Z"
   },
   {
    "duration": 27,
    "start_time": "2023-06-01T10:26:46.397Z"
   },
   {
    "duration": 81,
    "start_time": "2023-06-01T10:26:46.425Z"
   },
   {
    "duration": 304,
    "start_time": "2023-06-01T10:26:46.508Z"
   },
   {
    "duration": 16,
    "start_time": "2023-06-01T10:26:46.814Z"
   },
   {
    "duration": 106,
    "start_time": "2023-06-01T10:26:46.832Z"
   },
   {
    "duration": 256,
    "start_time": "2023-06-01T10:26:46.940Z"
   },
   {
    "duration": 18,
    "start_time": "2023-06-01T10:26:47.198Z"
   },
   {
    "duration": 65,
    "start_time": "2023-06-01T10:26:47.225Z"
   },
   {
    "duration": 166,
    "start_time": "2023-06-01T10:26:47.292Z"
   },
   {
    "duration": 148,
    "start_time": "2023-06-01T10:26:47.460Z"
   },
   {
    "duration": 16,
    "start_time": "2023-06-01T10:26:47.610Z"
   },
   {
    "duration": 98,
    "start_time": "2023-06-01T10:26:47.628Z"
   },
   {
    "duration": 111,
    "start_time": "2023-06-01T10:26:47.727Z"
   },
   {
    "duration": 3,
    "start_time": "2023-06-01T10:26:47.839Z"
   },
   {
    "duration": 98,
    "start_time": "2023-06-01T10:26:47.843Z"
   },
   {
    "duration": 749,
    "start_time": "2023-06-01T10:26:51.093Z"
   },
   {
    "duration": 1376,
    "start_time": "2023-06-01T10:27:52.151Z"
   },
   {
    "duration": 916,
    "start_time": "2023-06-01T10:27:53.529Z"
   },
   {
    "duration": 29,
    "start_time": "2023-06-01T10:27:54.447Z"
   },
   {
    "duration": 134,
    "start_time": "2023-06-01T10:27:54.478Z"
   },
   {
    "duration": 151,
    "start_time": "2023-06-01T10:27:54.615Z"
   },
   {
    "duration": 26,
    "start_time": "2023-06-01T10:27:54.767Z"
   },
   {
    "duration": 51,
    "start_time": "2023-06-01T10:27:54.795Z"
   },
   {
    "duration": 109,
    "start_time": "2023-06-01T10:27:54.848Z"
   },
   {
    "duration": 22,
    "start_time": "2023-06-01T10:27:54.959Z"
   },
   {
    "duration": 17,
    "start_time": "2023-06-01T10:27:54.983Z"
   },
   {
    "duration": 62,
    "start_time": "2023-06-01T10:27:55.002Z"
   },
   {
    "duration": 288,
    "start_time": "2023-06-01T10:27:55.065Z"
   },
   {
    "duration": 7,
    "start_time": "2023-06-01T10:27:55.354Z"
   },
   {
    "duration": 142,
    "start_time": "2023-06-01T10:27:55.364Z"
   },
   {
    "duration": 461,
    "start_time": "2023-06-01T10:27:55.507Z"
   },
   {
    "duration": 19,
    "start_time": "2023-06-01T10:27:55.970Z"
   },
   {
    "duration": 67,
    "start_time": "2023-06-01T10:27:55.991Z"
   },
   {
    "duration": 213,
    "start_time": "2023-06-01T10:27:56.059Z"
   },
   {
    "duration": 156,
    "start_time": "2023-06-01T10:27:56.273Z"
   },
   {
    "duration": 13,
    "start_time": "2023-06-01T10:27:56.431Z"
   },
   {
    "duration": 88,
    "start_time": "2023-06-01T10:27:56.446Z"
   },
   {
    "duration": 56,
    "start_time": "2023-06-01T10:27:56.537Z"
   },
   {
    "duration": 3,
    "start_time": "2023-06-01T10:27:56.595Z"
   },
   {
    "duration": 105,
    "start_time": "2023-06-01T10:27:56.600Z"
   },
   {
    "duration": 742,
    "start_time": "2023-06-01T10:28:00.304Z"
   },
   {
    "duration": 1609,
    "start_time": "2023-06-01T10:28:30.885Z"
   },
   {
    "duration": 825,
    "start_time": "2023-06-01T10:28:32.496Z"
   },
   {
    "duration": 19,
    "start_time": "2023-06-01T10:28:33.324Z"
   },
   {
    "duration": 149,
    "start_time": "2023-06-01T10:28:33.345Z"
   },
   {
    "duration": 132,
    "start_time": "2023-06-01T10:28:33.496Z"
   },
   {
    "duration": 16,
    "start_time": "2023-06-01T10:28:33.630Z"
   },
   {
    "duration": 53,
    "start_time": "2023-06-01T10:28:33.648Z"
   },
   {
    "duration": 76,
    "start_time": "2023-06-01T10:28:33.703Z"
   },
   {
    "duration": 18,
    "start_time": "2023-06-01T10:28:33.780Z"
   },
   {
    "duration": 14,
    "start_time": "2023-06-01T10:28:33.800Z"
   },
   {
    "duration": 82,
    "start_time": "2023-06-01T10:28:33.825Z"
   },
   {
    "duration": 271,
    "start_time": "2023-06-01T10:28:33.909Z"
   },
   {
    "duration": 7,
    "start_time": "2023-06-01T10:28:34.182Z"
   },
   {
    "duration": 97,
    "start_time": "2023-06-01T10:28:34.192Z"
   },
   {
    "duration": 274,
    "start_time": "2023-06-01T10:28:34.291Z"
   },
   {
    "duration": 19,
    "start_time": "2023-06-01T10:28:34.566Z"
   },
   {
    "duration": 54,
    "start_time": "2023-06-01T10:28:34.586Z"
   },
   {
    "duration": 205,
    "start_time": "2023-06-01T10:28:34.642Z"
   },
   {
    "duration": 208,
    "start_time": "2023-06-01T10:28:34.850Z"
   },
   {
    "duration": 21,
    "start_time": "2023-06-01T10:28:35.061Z"
   },
   {
    "duration": 125,
    "start_time": "2023-06-01T10:28:35.084Z"
   },
   {
    "duration": 95,
    "start_time": "2023-06-01T10:28:35.211Z"
   },
   {
    "duration": 3,
    "start_time": "2023-06-01T10:28:35.308Z"
   },
   {
    "duration": 124,
    "start_time": "2023-06-01T10:28:35.313Z"
   },
   {
    "duration": 861,
    "start_time": "2023-06-01T10:28:37.580Z"
   },
   {
    "duration": 1721,
    "start_time": "2023-06-01T10:29:35.621Z"
   },
   {
    "duration": 786,
    "start_time": "2023-06-01T10:29:37.345Z"
   },
   {
    "duration": 19,
    "start_time": "2023-06-01T10:29:38.133Z"
   },
   {
    "duration": 153,
    "start_time": "2023-06-01T10:29:38.154Z"
   },
   {
    "duration": 139,
    "start_time": "2023-06-01T10:29:38.309Z"
   },
   {
    "duration": 13,
    "start_time": "2023-06-01T10:29:38.450Z"
   },
   {
    "duration": 67,
    "start_time": "2023-06-01T10:29:38.465Z"
   },
   {
    "duration": 66,
    "start_time": "2023-06-01T10:29:38.534Z"
   },
   {
    "duration": 26,
    "start_time": "2023-06-01T10:29:38.601Z"
   },
   {
    "duration": 34,
    "start_time": "2023-06-01T10:29:38.630Z"
   },
   {
    "duration": 131,
    "start_time": "2023-06-01T10:29:38.666Z"
   },
   {
    "duration": 261,
    "start_time": "2023-06-01T10:29:38.798Z"
   },
   {
    "duration": 7,
    "start_time": "2023-06-01T10:29:39.061Z"
   },
   {
    "duration": 184,
    "start_time": "2023-06-01T10:29:39.069Z"
   },
   {
    "duration": 259,
    "start_time": "2023-06-01T10:29:39.254Z"
   },
   {
    "duration": 16,
    "start_time": "2023-06-01T10:29:39.514Z"
   },
   {
    "duration": 48,
    "start_time": "2023-06-01T10:29:39.531Z"
   },
   {
    "duration": 170,
    "start_time": "2023-06-01T10:29:39.580Z"
   },
   {
    "duration": 150,
    "start_time": "2023-06-01T10:29:39.752Z"
   },
   {
    "duration": 21,
    "start_time": "2023-06-01T10:29:39.903Z"
   },
   {
    "duration": 70,
    "start_time": "2023-06-01T10:29:39.926Z"
   },
   {
    "duration": 74,
    "start_time": "2023-06-01T10:29:39.997Z"
   },
   {
    "duration": 3,
    "start_time": "2023-06-01T10:29:40.073Z"
   },
   {
    "duration": 90,
    "start_time": "2023-06-01T10:29:40.077Z"
   },
   {
    "duration": 687,
    "start_time": "2023-06-01T10:29:41.914Z"
   },
   {
    "duration": 1307,
    "start_time": "2023-06-01T10:35:51.099Z"
   },
   {
    "duration": 785,
    "start_time": "2023-06-01T10:35:52.408Z"
   },
   {
    "duration": 39,
    "start_time": "2023-06-01T10:35:53.195Z"
   },
   {
    "duration": 154,
    "start_time": "2023-06-01T10:35:53.236Z"
   },
   {
    "duration": 145,
    "start_time": "2023-06-01T10:35:53.392Z"
   },
   {
    "duration": 14,
    "start_time": "2023-06-01T10:35:53.539Z"
   },
   {
    "duration": 47,
    "start_time": "2023-06-01T10:35:53.555Z"
   },
   {
    "duration": 69,
    "start_time": "2023-06-01T10:35:53.624Z"
   },
   {
    "duration": 20,
    "start_time": "2023-06-01T10:35:53.695Z"
   },
   {
    "duration": 26,
    "start_time": "2023-06-01T10:35:53.727Z"
   },
   {
    "duration": 61,
    "start_time": "2023-06-01T10:35:53.754Z"
   },
   {
    "duration": 279,
    "start_time": "2023-06-01T10:35:53.817Z"
   },
   {
    "duration": 7,
    "start_time": "2023-06-01T10:35:54.098Z"
   },
   {
    "duration": 101,
    "start_time": "2023-06-01T10:35:54.106Z"
   },
   {
    "duration": 290,
    "start_time": "2023-06-01T10:35:54.209Z"
   },
   {
    "duration": 18,
    "start_time": "2023-06-01T10:35:54.500Z"
   },
   {
    "duration": 41,
    "start_time": "2023-06-01T10:35:54.519Z"
   },
   {
    "duration": 180,
    "start_time": "2023-06-01T10:35:54.562Z"
   },
   {
    "duration": 219,
    "start_time": "2023-06-01T10:35:54.744Z"
   },
   {
    "duration": 12,
    "start_time": "2023-06-01T10:35:54.965Z"
   },
   {
    "duration": 73,
    "start_time": "2023-06-01T10:35:54.979Z"
   },
   {
    "duration": 59,
    "start_time": "2023-06-01T10:35:55.054Z"
   },
   {
    "duration": 2,
    "start_time": "2023-06-01T10:35:55.114Z"
   },
   {
    "duration": 97,
    "start_time": "2023-06-01T10:35:55.118Z"
   },
   {
    "duration": 70861,
    "start_time": "2023-06-01T10:35:59.417Z"
   },
   {
    "duration": 2385,
    "start_time": "2023-06-01T10:38:47.112Z"
   },
   {
    "duration": 55437,
    "start_time": "2023-06-01T10:39:05.184Z"
   },
   {
    "duration": 4,
    "start_time": "2023-06-01T10:43:47.581Z"
   },
   {
    "duration": 846,
    "start_time": "2023-06-01T10:43:47.587Z"
   },
   {
    "duration": 12,
    "start_time": "2023-06-01T10:43:48.435Z"
   },
   {
    "duration": 202,
    "start_time": "2023-06-01T10:43:48.449Z"
   },
   {
    "duration": 125,
    "start_time": "2023-06-01T10:43:48.653Z"
   },
   {
    "duration": 12,
    "start_time": "2023-06-01T10:43:48.780Z"
   },
   {
    "duration": 51,
    "start_time": "2023-06-01T10:43:48.794Z"
   },
   {
    "duration": 62,
    "start_time": "2023-06-01T10:43:48.847Z"
   },
   {
    "duration": 26,
    "start_time": "2023-06-01T10:43:48.911Z"
   },
   {
    "duration": 16,
    "start_time": "2023-06-01T10:43:48.939Z"
   },
   {
    "duration": 69,
    "start_time": "2023-06-01T10:43:48.956Z"
   },
   {
    "duration": 246,
    "start_time": "2023-06-01T10:43:49.027Z"
   },
   {
    "duration": 8,
    "start_time": "2023-06-01T10:43:49.275Z"
   },
   {
    "duration": 100,
    "start_time": "2023-06-01T10:43:49.287Z"
   },
   {
    "duration": 241,
    "start_time": "2023-06-01T10:43:49.388Z"
   },
   {
    "duration": 17,
    "start_time": "2023-06-01T10:43:49.631Z"
   },
   {
    "duration": 55,
    "start_time": "2023-06-01T10:43:49.649Z"
   },
   {
    "duration": 153,
    "start_time": "2023-06-01T10:43:49.706Z"
   },
   {
    "duration": 147,
    "start_time": "2023-06-01T10:43:49.861Z"
   },
   {
    "duration": 17,
    "start_time": "2023-06-01T10:43:50.010Z"
   },
   {
    "duration": 77,
    "start_time": "2023-06-01T10:43:50.029Z"
   },
   {
    "duration": 70,
    "start_time": "2023-06-01T10:43:50.108Z"
   },
   {
    "duration": 4,
    "start_time": "2023-06-01T10:43:50.180Z"
   },
   {
    "duration": 83,
    "start_time": "2023-06-01T10:43:50.186Z"
   },
   {
    "duration": 1631,
    "start_time": "2023-06-01T10:44:13.776Z"
   },
   {
    "duration": 1059,
    "start_time": "2023-06-01T10:44:15.409Z"
   },
   {
    "duration": 19,
    "start_time": "2023-06-01T10:44:16.469Z"
   },
   {
    "duration": 169,
    "start_time": "2023-06-01T10:44:16.489Z"
   },
   {
    "duration": 138,
    "start_time": "2023-06-01T10:44:16.662Z"
   },
   {
    "duration": 48,
    "start_time": "2023-06-01T10:44:16.801Z"
   },
   {
    "duration": 52,
    "start_time": "2023-06-01T10:44:16.850Z"
   },
   {
    "duration": 67,
    "start_time": "2023-06-01T10:44:16.903Z"
   },
   {
    "duration": 18,
    "start_time": "2023-06-01T10:44:16.972Z"
   },
   {
    "duration": 51,
    "start_time": "2023-06-01T10:44:16.991Z"
   },
   {
    "duration": 95,
    "start_time": "2023-06-01T10:44:17.043Z"
   },
   {
    "duration": 262,
    "start_time": "2023-06-01T10:44:17.140Z"
   },
   {
    "duration": 7,
    "start_time": "2023-06-01T10:44:17.404Z"
   },
   {
    "duration": 97,
    "start_time": "2023-06-01T10:44:17.413Z"
   },
   {
    "duration": 258,
    "start_time": "2023-06-01T10:44:17.512Z"
   },
   {
    "duration": 18,
    "start_time": "2023-06-01T10:44:17.771Z"
   },
   {
    "duration": 91,
    "start_time": "2023-06-01T10:44:17.791Z"
   },
   {
    "duration": 170,
    "start_time": "2023-06-01T10:44:17.884Z"
   },
   {
    "duration": 150,
    "start_time": "2023-06-01T10:44:18.056Z"
   },
   {
    "duration": 16,
    "start_time": "2023-06-01T10:44:18.208Z"
   },
   {
    "duration": 92,
    "start_time": "2023-06-01T10:44:18.226Z"
   },
   {
    "duration": 90,
    "start_time": "2023-06-01T10:44:18.319Z"
   },
   {
    "duration": 3,
    "start_time": "2023-06-01T10:44:18.411Z"
   },
   {
    "duration": 105,
    "start_time": "2023-06-01T10:44:18.416Z"
   },
   {
    "duration": 18329,
    "start_time": "2023-06-01T10:44:18.523Z"
   },
   {
    "duration": 0,
    "start_time": "2023-06-01T10:44:36.854Z"
   },
   {
    "duration": 0,
    "start_time": "2023-06-01T10:44:36.855Z"
   },
   {
    "duration": 0,
    "start_time": "2023-06-01T10:44:36.856Z"
   },
   {
    "duration": 0,
    "start_time": "2023-06-01T10:44:36.857Z"
   },
   {
    "duration": 1746,
    "start_time": "2023-06-01T10:45:03.128Z"
   },
   {
    "duration": 808,
    "start_time": "2023-06-01T10:45:04.876Z"
   },
   {
    "duration": 18,
    "start_time": "2023-06-01T10:45:05.685Z"
   },
   {
    "duration": 240,
    "start_time": "2023-06-01T10:45:05.705Z"
   },
   {
    "duration": 193,
    "start_time": "2023-06-01T10:45:05.946Z"
   },
   {
    "duration": 15,
    "start_time": "2023-06-01T10:45:06.140Z"
   },
   {
    "duration": 132,
    "start_time": "2023-06-01T10:45:06.157Z"
   },
   {
    "duration": 76,
    "start_time": "2023-06-01T10:45:06.290Z"
   },
   {
    "duration": 63,
    "start_time": "2023-06-01T10:45:06.368Z"
   },
   {
    "duration": 97,
    "start_time": "2023-06-01T10:45:06.434Z"
   },
   {
    "duration": 101,
    "start_time": "2023-06-01T10:45:06.533Z"
   },
   {
    "duration": 254,
    "start_time": "2023-06-01T10:45:06.635Z"
   },
   {
    "duration": 7,
    "start_time": "2023-06-01T10:45:06.891Z"
   },
   {
    "duration": 143,
    "start_time": "2023-06-01T10:45:06.899Z"
   },
   {
    "duration": 237,
    "start_time": "2023-06-01T10:45:07.043Z"
   },
   {
    "duration": 18,
    "start_time": "2023-06-01T10:45:07.282Z"
   },
   {
    "duration": 96,
    "start_time": "2023-06-01T10:45:07.303Z"
   },
   {
    "duration": 172,
    "start_time": "2023-06-01T10:45:07.401Z"
   },
   {
    "duration": 141,
    "start_time": "2023-06-01T10:45:07.575Z"
   },
   {
    "duration": 16,
    "start_time": "2023-06-01T10:45:07.718Z"
   },
   {
    "duration": 101,
    "start_time": "2023-06-01T10:45:07.736Z"
   },
   {
    "duration": 108,
    "start_time": "2023-06-01T10:45:07.839Z"
   },
   {
    "duration": 2,
    "start_time": "2023-06-01T10:45:07.948Z"
   },
   {
    "duration": 105,
    "start_time": "2023-06-01T10:45:07.952Z"
   },
   {
    "duration": 78956,
    "start_time": "2023-06-01T10:45:08.058Z"
   },
   {
    "duration": 3,
    "start_time": "2023-06-01T10:46:27.015Z"
   },
   {
    "duration": 2248,
    "start_time": "2023-06-01T10:46:27.019Z"
   },
   {
    "duration": 55590,
    "start_time": "2023-06-01T10:46:29.270Z"
   },
   {
    "duration": 4522,
    "start_time": "2023-06-01T10:47:24.862Z"
   },
   {
    "duration": 82,
    "start_time": "2023-06-01T10:47:29.386Z"
   },
   {
    "duration": 5,
    "start_time": "2023-06-01T10:49:35.088Z"
   },
   {
    "duration": 3,
    "start_time": "2023-06-01T10:49:44.207Z"
   },
   {
    "duration": 144,
    "start_time": "2023-06-01T10:49:44.801Z"
   },
   {
    "duration": 13,
    "start_time": "2023-06-01T10:51:52.877Z"
   },
   {
    "duration": 382,
    "start_time": "2023-06-01T11:04:53.150Z"
   },
   {
    "duration": 97,
    "start_time": "2023-06-01T11:08:47.962Z"
   },
   {
    "duration": 24563,
    "start_time": "2023-06-01T11:09:01.092Z"
   },
   {
    "duration": 1726,
    "start_time": "2023-06-01T11:09:47.657Z"
   },
   {
    "duration": 912,
    "start_time": "2023-06-01T11:09:49.385Z"
   },
   {
    "duration": 31,
    "start_time": "2023-06-01T11:09:50.299Z"
   },
   {
    "duration": 154,
    "start_time": "2023-06-01T11:09:50.336Z"
   },
   {
    "duration": 138,
    "start_time": "2023-06-01T11:09:50.492Z"
   },
   {
    "duration": 18,
    "start_time": "2023-06-01T11:09:50.633Z"
   },
   {
    "duration": 70,
    "start_time": "2023-06-01T11:09:50.653Z"
   },
   {
    "duration": 89,
    "start_time": "2023-06-01T11:09:50.724Z"
   },
   {
    "duration": 35,
    "start_time": "2023-06-01T11:09:50.814Z"
   },
   {
    "duration": 52,
    "start_time": "2023-06-01T11:09:50.852Z"
   },
   {
    "duration": 111,
    "start_time": "2023-06-01T11:09:50.905Z"
   },
   {
    "duration": 339,
    "start_time": "2023-06-01T11:09:51.018Z"
   },
   {
    "duration": 6,
    "start_time": "2023-06-01T11:09:51.359Z"
   },
   {
    "duration": 134,
    "start_time": "2023-06-01T11:09:51.366Z"
   },
   {
    "duration": 277,
    "start_time": "2023-06-01T11:09:51.501Z"
   },
   {
    "duration": 16,
    "start_time": "2023-06-01T11:09:51.779Z"
   },
   {
    "duration": 65,
    "start_time": "2023-06-01T11:09:51.797Z"
   },
   {
    "duration": 185,
    "start_time": "2023-06-01T11:09:51.864Z"
   },
   {
    "duration": 166,
    "start_time": "2023-06-01T11:09:52.051Z"
   },
   {
    "duration": 17,
    "start_time": "2023-06-01T11:09:52.219Z"
   },
   {
    "duration": 107,
    "start_time": "2023-06-01T11:09:52.238Z"
   },
   {
    "duration": 102,
    "start_time": "2023-06-01T11:09:52.347Z"
   },
   {
    "duration": 4,
    "start_time": "2023-06-01T11:09:52.451Z"
   },
   {
    "duration": 120,
    "start_time": "2023-06-01T11:09:52.457Z"
   },
   {
    "duration": 90037,
    "start_time": "2023-06-01T11:09:52.578Z"
   },
   {
    "duration": 7,
    "start_time": "2023-06-01T11:11:22.617Z"
   },
   {
    "duration": 2846,
    "start_time": "2023-06-01T11:11:22.635Z"
   },
   {
    "duration": 61024,
    "start_time": "2023-06-01T11:11:25.484Z"
   },
   {
    "duration": 4863,
    "start_time": "2023-06-01T11:12:26.509Z"
   },
   {
    "duration": 84,
    "start_time": "2023-06-01T11:12:31.373Z"
   },
   {
    "duration": 5,
    "start_time": "2023-06-01T11:12:31.459Z"
   },
   {
    "duration": 151,
    "start_time": "2023-06-01T11:12:31.465Z"
   },
   {
    "duration": 101011,
    "start_time": "2023-06-01T11:12:36.350Z"
   },
   {
    "duration": 303,
    "start_time": "2023-06-01T11:14:37.949Z"
   },
   {
    "duration": 300,
    "start_time": "2023-06-01T11:14:44.783Z"
   },
   {
    "duration": 445,
    "start_time": "2023-06-01T11:14:53.953Z"
   },
   {
    "duration": 5,
    "start_time": "2023-06-01T11:14:59.678Z"
   },
   {
    "duration": 561,
    "start_time": "2023-06-01T11:15:47.064Z"
   },
   {
    "duration": 239,
    "start_time": "2023-06-01T11:15:58.425Z"
   },
   {
    "duration": 52924,
    "start_time": "2023-06-01T11:16:50.685Z"
   },
   {
    "duration": 1847,
    "start_time": "2023-06-01T11:17:47.060Z"
   },
   {
    "duration": 568128,
    "start_time": "2023-06-01T11:18:53.638Z"
   },
   {
    "duration": 1152,
    "start_time": "2023-06-01T11:28:41.216Z"
   },
   {
    "duration": 6,
    "start_time": "2023-06-01T11:28:54.246Z"
   },
   {
    "duration": 10,
    "start_time": "2023-06-01T11:29:25.948Z"
   },
   {
    "duration": 1587,
    "start_time": "2023-06-01T11:35:16.254Z"
   },
   {
    "duration": 1067,
    "start_time": "2023-06-01T11:35:17.847Z"
   },
   {
    "duration": 35,
    "start_time": "2023-06-01T11:35:18.918Z"
   },
   {
    "duration": 279,
    "start_time": "2023-06-01T11:35:18.956Z"
   },
   {
    "duration": 202,
    "start_time": "2023-06-01T11:35:19.238Z"
   },
   {
    "duration": 45,
    "start_time": "2023-06-01T11:35:19.442Z"
   },
   {
    "duration": 54,
    "start_time": "2023-06-01T11:35:19.489Z"
   },
   {
    "duration": 111,
    "start_time": "2023-06-01T11:35:19.545Z"
   },
   {
    "duration": 28,
    "start_time": "2023-06-01T11:35:19.665Z"
   },
   {
    "duration": 19,
    "start_time": "2023-06-01T11:35:19.696Z"
   },
   {
    "duration": 83,
    "start_time": "2023-06-01T11:35:19.717Z"
   },
   {
    "duration": 469,
    "start_time": "2023-06-01T11:35:19.803Z"
   },
   {
    "duration": 7,
    "start_time": "2023-06-01T11:35:20.276Z"
   },
   {
    "duration": 124,
    "start_time": "2023-06-01T11:35:20.285Z"
   },
   {
    "duration": 307,
    "start_time": "2023-06-01T11:35:20.411Z"
   },
   {
    "duration": 35,
    "start_time": "2023-06-01T11:35:20.720Z"
   },
   {
    "duration": 73,
    "start_time": "2023-06-01T11:35:20.757Z"
   },
   {
    "duration": 273,
    "start_time": "2023-06-01T11:35:20.832Z"
   },
   {
    "duration": 247,
    "start_time": "2023-06-01T11:35:21.107Z"
   },
   {
    "duration": 15,
    "start_time": "2023-06-01T11:35:21.360Z"
   },
   {
    "duration": 126,
    "start_time": "2023-06-01T11:35:21.379Z"
   },
   {
    "duration": 85,
    "start_time": "2023-06-01T11:35:21.507Z"
   },
   {
    "duration": 3,
    "start_time": "2023-06-01T11:35:21.594Z"
   },
   {
    "duration": 118,
    "start_time": "2023-06-01T11:35:21.599Z"
   },
   {
    "duration": 97623,
    "start_time": "2023-06-01T11:35:21.719Z"
   },
   {
    "duration": 5,
    "start_time": "2023-06-01T11:36:59.350Z"
   },
   {
    "duration": 2740,
    "start_time": "2023-06-01T11:36:59.359Z"
   },
   {
    "duration": 76044,
    "start_time": "2023-06-01T11:37:02.100Z"
   },
   {
    "duration": 6087,
    "start_time": "2023-06-01T11:38:18.149Z"
   },
   {
    "duration": 93,
    "start_time": "2023-06-01T11:38:24.241Z"
   },
   {
    "duration": 6,
    "start_time": "2023-06-01T11:38:24.336Z"
   },
   {
    "duration": 185,
    "start_time": "2023-06-01T11:38:24.344Z"
   },
   {
    "duration": 110690,
    "start_time": "2023-06-01T11:38:24.531Z"
   },
   {
    "duration": 565,
    "start_time": "2023-06-01T11:40:15.223Z"
   },
   {
    "duration": 6,
    "start_time": "2023-06-01T11:40:15.789Z"
   },
   {
    "duration": 1238892,
    "start_time": "2023-06-01T11:40:15.797Z"
   },
   {
    "duration": 1185,
    "start_time": "2023-06-01T12:00:54.690Z"
   },
   {
    "duration": 5,
    "start_time": "2023-06-01T12:00:55.878Z"
   },
   {
    "duration": 82,
    "start_time": "2023-06-01T12:00:55.885Z"
   },
   {
    "duration": 16,
    "start_time": "2023-06-01T12:03:15.457Z"
   }
  ],
  "kernelspec": {
   "display_name": "Python 3 (ipykernel)",
   "language": "python",
   "name": "python3"
  },
  "language_info": {
   "codemirror_mode": {
    "name": "ipython",
    "version": 3
   },
   "file_extension": ".py",
   "mimetype": "text/x-python",
   "name": "python",
   "nbconvert_exporter": "python",
   "pygments_lexer": "ipython3",
   "version": "3.10.9"
  },
  "toc": {
   "base_numbering": 1,
   "nav_menu": {},
   "number_sections": true,
   "sideBar": true,
   "skip_h1_title": true,
   "title_cell": "Table of Contents",
   "title_sidebar": "Contents",
   "toc_cell": false,
   "toc_position": {},
   "toc_section_display": true,
   "toc_window_display": true
  }
 },
 "nbformat": 4,
 "nbformat_minor": 2
}
